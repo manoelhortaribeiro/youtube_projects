{
 "cells": [
  {
   "cell_type": "markdown",
   "metadata": {},
   "source": [
    "### Statistics on the number of comments per channel"
   ]
  },
  {
   "cell_type": "code",
   "execution_count": 1,
   "metadata": {
    "collapsed": false
   },
   "outputs": [
    {
     "ename": "ModuleNotFoundError",
     "evalue": "No module named 'helpers'",
     "output_type": "error",
     "traceback": [
      "\u001b[0;31m---------------------------------------------------------------------------\u001b[0m",
      "\u001b[0;31mModuleNotFoundError\u001b[0m                       Traceback (most recent call last)",
      "\u001b[0;32m<ipython-input-1-85cf1deb91ea>\u001b[0m in \u001b[0;36m<module>\u001b[0;34m()\u001b[0m\n\u001b[1;32m      7\u001b[0m \u001b[0;32mimport\u001b[0m \u001b[0mnumpy\u001b[0m \u001b[0;32mas\u001b[0m \u001b[0mnp\u001b[0m\u001b[0;34m\u001b[0m\u001b[0;34m\u001b[0m\u001b[0m\n\u001b[1;32m      8\u001b[0m \u001b[0;34m\u001b[0m\u001b[0m\n\u001b[0;32m----> 9\u001b[0;31m \u001b[0;32mfrom\u001b[0m \u001b[0mhelpers\u001b[0m \u001b[0;32mimport\u001b[0m \u001b[0;34m*\u001b[0m\u001b[0;34m\u001b[0m\u001b[0;34m\u001b[0m\u001b[0m\n\u001b[0m\u001b[1;32m     10\u001b[0m \u001b[0;32mfrom\u001b[0m \u001b[0mannoy\u001b[0m \u001b[0;32mimport\u001b[0m \u001b[0mAnnoyIndex\u001b[0m\u001b[0;34m\u001b[0m\u001b[0;34m\u001b[0m\u001b[0m\n\u001b[1;32m     11\u001b[0m \u001b[0;32mfrom\u001b[0m \u001b[0mscipy\u001b[0m\u001b[0;34m.\u001b[0m\u001b[0mspatial\u001b[0m \u001b[0;32mimport\u001b[0m \u001b[0mdistance\u001b[0m\u001b[0;34m\u001b[0m\u001b[0;34m\u001b[0m\u001b[0m\n",
      "\u001b[0;31mModuleNotFoundError\u001b[0m: No module named 'helpers'"
     ]
    }
   ],
   "source": [
    "import time\n",
    "import pickle\n",
    "import operator\n",
    "\n",
    "import zstandard as zstd\n",
    "import pandas as pd\n",
    "import numpy as np\n",
    "\n",
    "from helpers import *\n",
    "from annoy import AnnoyIndex\n",
    "from scipy.spatial import distance\n",
    "from sklearn.metrics.pairwise import cosine_similarity"
   ]
  },
  {
   "cell_type": "code",
   "execution_count": 2,
   "metadata": {
    "collapsed": true
   },
   "outputs": [],
   "source": [
    "with open(\"/dlabdata1/youtube_large/jouven/channels_idx_to_nb_comments.pkl\",'rb') as f:\n",
    "     channels_idx_to_nb_comments = pickle.load(f)\n",
    "f.close()"
   ]
  },
  {
   "cell_type": "code",
   "execution_count": 3,
   "metadata": {
    "collapsed": true
   },
   "outputs": [],
   "source": [
    "channels_idx_to_nb_comments = sorted(channels_idx_to_nb_comments.items(), key = operator.itemgetter(1))"
   ]
  },
  {
   "cell_type": "code",
   "execution_count": 4,
   "metadata": {
    "collapsed": true
   },
   "outputs": [],
   "source": [
    "comments = 0\n",
    "for i in range(50000):\n",
    "    comments += channels_idx_to_nb_comments[i][1]"
   ]
  },
  {
   "cell_type": "code",
   "execution_count": 17,
   "metadata": {
    "collapsed": false
   },
   "outputs": [
    {
     "data": {
      "text/plain": [
       "83797609"
      ]
     },
     "execution_count": 17,
     "metadata": {},
     "output_type": "execute_result"
    }
   ],
   "source": [
    "comments"
   ]
  },
  {
   "cell_type": "code",
   "execution_count": 17,
   "metadata": {
    "collapsed": true
   },
   "outputs": [],
   "source": []
  },
  {
   "cell_type": "markdown",
   "metadata": {},
   "source": [
    "### Finding cultural axis in our channel embedding"
   ]
  },
  {
   "cell_type": "code",
   "execution_count": 5,
   "metadata": {
    "collapsed": true
   },
   "outputs": [],
   "source": [
    "dict_channel_ind, dict_ind_channel, channels_id = channels()"
   ]
  },
  {
   "cell_type": "code",
   "execution_count": 6,
   "metadata": {
    "collapsed": false
   },
   "outputs": [
    {
     "data": {
      "text/html": [
       "<div>\n",
       "<style scoped>\n",
       "    .dataframe tbody tr th:only-of-type {\n",
       "        vertical-align: middle;\n",
       "    }\n",
       "\n",
       "    .dataframe tbody tr th {\n",
       "        vertical-align: top;\n",
       "    }\n",
       "\n",
       "    .dataframe thead th {\n",
       "        text-align: right;\n",
       "    }\n",
       "</style>\n",
       "<table border=\"1\" class=\"dataframe\">\n",
       "  <thead>\n",
       "    <tr style=\"text-align: right;\">\n",
       "      <th></th>\n",
       "      <th>category</th>\n",
       "      <th>join_date</th>\n",
       "      <th>link</th>\n",
       "      <th>name</th>\n",
       "      <th>subscribers</th>\n",
       "      <th>videos</th>\n",
       "      <th>channel_id</th>\n",
       "    </tr>\n",
       "  </thead>\n",
       "  <tbody>\n",
       "    <tr>\n",
       "      <th>0</th>\n",
       "      <td>Film and Animation</td>\n",
       "      <td>2017-05-21</td>\n",
       "      <td>http://www.youtube.com/channel/UCBJuEqXfXTdcPS...</td>\n",
       "      <td>MagnusNation</td>\n",
       "      <td>65100</td>\n",
       "      <td>28</td>\n",
       "      <td>UCBJuEqXfXTdcPSbGO9qqn1g</td>\n",
       "    </tr>\n",
       "    <tr>\n",
       "      <th>1</th>\n",
       "      <td>Entertainment</td>\n",
       "      <td>2011-12-13</td>\n",
       "      <td>http://www.youtube.com/channel/UCkNW9Q1VR_aeZ6...</td>\n",
       "      <td>Mago Dario Animazion...</td>\n",
       "      <td>60200</td>\n",
       "      <td>48</td>\n",
       "      <td>UCkNW9Q1VR_aeZ6uht83jJVQ</td>\n",
       "    </tr>\n",
       "    <tr>\n",
       "      <th>2</th>\n",
       "      <td>Music</td>\n",
       "      <td>2013-09-13</td>\n",
       "      <td>http://www.youtube.com/channel/UC1xcnrpcF59FWW...</td>\n",
       "      <td>Mägo de Oz - Topic</td>\n",
       "      <td>40200</td>\n",
       "      <td>395</td>\n",
       "      <td>UC1xcnrpcF59FWWELtZvJTdg</td>\n",
       "    </tr>\n",
       "    <tr>\n",
       "      <th>3</th>\n",
       "      <td>Music</td>\n",
       "      <td>2008-03-17</td>\n",
       "      <td>http://www.youtube.com/channel/UCXhkGgooXHDNwg...</td>\n",
       "      <td>Mago Merlino</td>\n",
       "      <td>14800</td>\n",
       "      <td>838</td>\n",
       "      <td>UCXhkGgooXHDNwgJXmoTSN7g</td>\n",
       "    </tr>\n",
       "    <tr>\n",
       "      <th>4</th>\n",
       "      <td>Entertainment</td>\n",
       "      <td>2014-10-19</td>\n",
       "      <td>http://www.youtube.com/channel/UCvZGsuvKlYOGiZ...</td>\n",
       "      <td>MAGO TOMÁS</td>\n",
       "      <td>26200</td>\n",
       "      <td>31</td>\n",
       "      <td>UCvZGsuvKlYOGiZTsxwJNS5Q</td>\n",
       "    </tr>\n",
       "  </tbody>\n",
       "</table>\n",
       "</div>"
      ],
      "text/plain": [
       "             category   join_date  \\\n",
       "0  Film and Animation  2017-05-21   \n",
       "1       Entertainment  2011-12-13   \n",
       "2               Music  2013-09-13   \n",
       "3               Music  2008-03-17   \n",
       "4       Entertainment  2014-10-19   \n",
       "\n",
       "                                                link                     name  \\\n",
       "0  http://www.youtube.com/channel/UCBJuEqXfXTdcPS...             MagnusNation   \n",
       "1  http://www.youtube.com/channel/UCkNW9Q1VR_aeZ6...  Mago Dario Animazion...   \n",
       "2  http://www.youtube.com/channel/UC1xcnrpcF59FWW...       Mägo de Oz - Topic   \n",
       "3  http://www.youtube.com/channel/UCXhkGgooXHDNwg...             Mago Merlino   \n",
       "4  http://www.youtube.com/channel/UCvZGsuvKlYOGiZ...               MAGO TOMÁS   \n",
       "\n",
       "   subscribers  videos                channel_id  \n",
       "0        65100      28  UCBJuEqXfXTdcPSbGO9qqn1g  \n",
       "1        60200      48  UCkNW9Q1VR_aeZ6uht83jJVQ  \n",
       "2        40200     395  UC1xcnrpcF59FWWELtZvJTdg  \n",
       "3        14800     838  UCXhkGgooXHDNwgJXmoTSN7g  \n",
       "4        26200      31  UCvZGsuvKlYOGiZTsxwJNS5Q  "
      ]
     },
     "execution_count": 6,
     "metadata": {},
     "output_type": "execute_result"
    }
   ],
   "source": [
    "channelcrawler = pd.read_csv(\"/dlabdata1/youtube_large/channelcrawler.csv\")\n",
    "channelcrawler['channel_id'] = channelcrawler['link'].str.split('/').str[-1]\n",
    "channelcrawler.head()"
   ]
  },
  {
   "cell_type": "code",
   "execution_count": 7,
   "metadata": {
    "collapsed": true
   },
   "outputs": [],
   "source": [
    "'''\n",
    "Retrieve the array obtained by apllying the dimentionality reduction algorithm\n",
    "graph_matrix: SHAPE: (channels, n_comp)\n",
    "\n",
    "PARAMETER:\n",
    "    - file_path: the path where the embedding graph is stored\n",
    "\n",
    "RETURN: \n",
    "    - df: DataFrame representing the graph in the embedding space\n",
    "'''\n",
    "def get_dataframe_in_embedding_space(file_path):\n",
    "    graph_matrix = np.load(file_path)\n",
    "    graph_matrix = graph_matrix['arr_0']\n",
    "    df = pd.DataFrame(graph_matrix)\n",
    "    df = df.rename(lambda x: 'dr'+str(x), axis='columns')\n",
    "    return df"
   ]
  },
  {
   "cell_type": "code",
   "execution_count": 8,
   "metadata": {
    "collapsed": true
   },
   "outputs": [],
   "source": [
    "'''\n",
    "    Retrieve the array obtained by apllying the dimentinality reductin algorithm\n",
    "    graph_matrix: SHAPE: (channels, n_comp)\n",
    "    \n",
    "    PARAMETERS:\n",
    "        - df_embedding: DataFrame representing the channel embedding\n",
    "        - n_comp: number of components to use after the dimentionalit reduction\n",
    "        \n",
    "    RETURN: The annoy index\n",
    "    '''\n",
    "\n",
    "def get_annoy_index(df_embedding, n_comp):\n",
    "    \n",
    "    index = AnnoyIndex(n_comp, \"euclidean\")  # Length of item vector that will be indexed\n",
    "    df_embedding.apply(lambda row: index.add_item(row.name, np.array(row)), axis = 1)\n",
    "    index.build(100) # 100 trees\n",
    "    return index"
   ]
  },
  {
   "cell_type": "code",
   "execution_count": 9,
   "metadata": {
    "collapsed": true
   },
   "outputs": [],
   "source": [
    "'''\n",
    "For the given ref_channel, compute it's k neirest neighbor and create pairs of channels between the found channel and ref_channel\n",
    "PARAMETERS:\n",
    "    - channels_pairs: table representing the pair of channel already computed\n",
    "    - ref_channel: the channel on which we compute the neirest neighbor search\n",
    "    - index: the annoy index to do the k nearest neighbor search\n",
    "    - k: the number of neighbors \n",
    "\n",
    "'''\n",
    "def create_pairs(channels_pairs, ref_channel, index, k):\n",
    "    nearest_neighbors = index.get_nns_by_item(ref_channel, k)\n",
    "    for neighbor_channel in nearest_neighbors:\n",
    "        channels_pairs.append((ref_channel, neighbor_channel))"
   ]
  },
  {
   "cell_type": "code",
   "execution_count": 10,
   "metadata": {
    "collapsed": true
   },
   "outputs": [],
   "source": [
    "'''\n",
    "Generate the set of all pairs of channels with their k neirest neighbors\n",
    "PARAMETERS:\n",
    "    - df_embedding: DataFrame representing the channel embedding\n",
    "    - k: the parameter of the nearest neighbor search\n",
    "    - n_comp: the number of components after applying the dimensionality reduction\n",
    "RETURN:\n",
    "    - list of channels tuple \n",
    "'''\n",
    "def channels_with_neighbors_pairs(df_embedding, k, n_comp):\n",
    "    channels_pairs = []\n",
    "    index = get_annoy_index(df_embedding, n_comp)\n",
    "    \n",
    "    for channel in range(len(df_embedding)):\n",
    "        create_pairs(channels_pairs, channel, index, k)\n",
    "    return channels_pairs"
   ]
  },
  {
   "cell_type": "code",
   "execution_count": 17,
   "metadata": {
    "collapsed": true
   },
   "outputs": [],
   "source": [
    "'''\n",
    "Creates the axis vector representing the desired cultural concept which is based on the seed pair.\n",
    "PARAMETERS:\n",
    "    - path: the path where the reducted matrix is saved\n",
    "    - k: the number of neirest neighbor\n",
    "    - seed: the seed pair representing the base of the axis\n",
    "    - nb_selected_pairs: number of selected pairs to create the axis\n",
    "RETURN:\n",
    "    - All the channels pairs ranked by the cosine similarity metric (from higher to lower)\n",
    "'''\n",
    "\n",
    "def compute_axis_vector_based_on_seed(path, k, seed, nb_selected_pairs):\n",
    "    \n",
    "    # DataFrame representing the embedding\n",
    "    df_embedding = get_dataframe_in_embedding_space(path)\n",
    "    n_comp = df_embedding.shape[1]\n",
    "\n",
    "    channels_pairs = channels_with_neighbors_pairs(df_embedding, k, n_comp)\n",
    "\n",
    "    vector_diff_channels_pairs = np.array([np.array(df_embedding.iloc[first_vector]) - np.array(df_embedding.iloc[second_vector]) for first_vector, second_vector in channels_pairs])\n",
    "    vector_diff_seed = (np.array(df_embedding.iloc[seed[0]]) - np.array(df_embedding.iloc[seed[1]]))\n",
    "    \n",
    "    # compute cosine similarity score\n",
    "    similarity_ranked = cosine_similarity(vector_diff_channels_pairs, vector_diff_seed.reshape(1, -1))\n",
    "    dict_channel_similarity = {}\n",
    "    for ind in range(len(channels_pairs)):\n",
    "        dict_channel_similarity[channels_pairs[ind]] = similarity_ranked[ind]\n",
    "    sorted_similarity_score = sorted(dict_channel_similarity.keys(), key=dict_channel_similarity.get, reverse = True)\n",
    "    \n",
    "    return cultural_concept_vector(df_embedding, sorted_similarity_score, vector_diff_seed, nb_selected_pairs)\n",
    "    \n",
    "    "
   ]
  },
  {
   "cell_type": "code",
   "execution_count": null,
   "metadata": {
    "collapsed": true
   },
   "outputs": [],
   "source": []
  },
  {
   "cell_type": "code",
   "execution_count": 12,
   "metadata": {
    "collapsed": true
   },
   "outputs": [],
   "source": [
    "'''\n",
    "The nb_selected_pairs-1 pairs are selected based on the cosine similarity score to end up with nb_pairs_selected \n",
    "pairs to create the axis (with the original seed pair).\n",
    "To create the axis, the vector difference of all nb_pairs_selected are averaged together to obtain a single vector \n",
    "for the axis that robustly represents the desired cultural concept.\n",
    "PARAMETERS:\n",
    "    - df_embedding: DataFrame representing the channel embedding\n",
    "    - sorted_similarity_score: list of channel pairs ordered by their cosine similarity score\n",
    "    - vector_diff_seed: vector difference between the seed pair\n",
    "    - nb_selected_pairs: number of selected pairs to create the axis\n",
    "RETURN:\n",
    "    - Vector for the axis that represents the desired cultural concept\n",
    "'''\n",
    "\n",
    "def cultural_concept_vector(df_embedding, sorted_similarity_score, vector_diff_seed, nb_selected_pairs):\n",
    "    cultural_concept_vectors = []\n",
    "    \n",
    "    cultural_concept_vectors.append(vector_diff_seed)\n",
    "    \n",
    "    selected_channels_pairs = np.array(sorted_similarity_score[:nb_selected_pairs-1])\n",
    "    # Print the corresponding channels id\n",
    "    for pair in selected_channels_pairs:\n",
    "        print(channelcrawler[channelcrawler['channel_id'].apply(lambda channel_id: channel_id in [dict_ind_channel[pair[0]], dict_ind_channel[pair[1]]])])\n",
    "   \n",
    "    for channel_pair in selected_channels_pairs:\n",
    "        cultural_concept_vectors.append(np.array(df_embedding.iloc[channel_pair[0]]) - np.array(df_embedding.iloc[channel_pair[1]]))\n",
    "    cultural_concept_vectors = np.array(cultural_concept_vectors)\n",
    "    return cultural_concept_vectors.mean(axis = 0)"
   ]
  },
  {
   "cell_type": "code",
   "execution_count": 13,
   "metadata": {
    "collapsed": false
   },
   "outputs": [
    {
     "data": {
      "text/html": [
       "<div>\n",
       "<style scoped>\n",
       "    .dataframe tbody tr th:only-of-type {\n",
       "        vertical-align: middle;\n",
       "    }\n",
       "\n",
       "    .dataframe tbody tr th {\n",
       "        vertical-align: top;\n",
       "    }\n",
       "\n",
       "    .dataframe thead th {\n",
       "        text-align: right;\n",
       "    }\n",
       "</style>\n",
       "<table border=\"1\" class=\"dataframe\">\n",
       "  <thead>\n",
       "    <tr style=\"text-align: right;\">\n",
       "      <th></th>\n",
       "      <th>dr0</th>\n",
       "      <th>dr1</th>\n",
       "      <th>dr2</th>\n",
       "      <th>dr3</th>\n",
       "      <th>dr4</th>\n",
       "      <th>dr5</th>\n",
       "      <th>dr6</th>\n",
       "      <th>dr7</th>\n",
       "      <th>dr8</th>\n",
       "      <th>dr9</th>\n",
       "      <th>...</th>\n",
       "      <th>dr40</th>\n",
       "      <th>dr41</th>\n",
       "      <th>dr42</th>\n",
       "      <th>dr43</th>\n",
       "      <th>dr44</th>\n",
       "      <th>dr45</th>\n",
       "      <th>dr46</th>\n",
       "      <th>dr47</th>\n",
       "      <th>dr48</th>\n",
       "      <th>dr49</th>\n",
       "    </tr>\n",
       "  </thead>\n",
       "  <tbody>\n",
       "    <tr>\n",
       "      <th>0</th>\n",
       "      <td>0.000248</td>\n",
       "      <td>-0.000022</td>\n",
       "      <td>-0.000069</td>\n",
       "      <td>-0.000161</td>\n",
       "      <td>0.000053</td>\n",
       "      <td>0.000173</td>\n",
       "      <td>0.000051</td>\n",
       "      <td>0.000171</td>\n",
       "      <td>0.000016</td>\n",
       "      <td>-0.000022</td>\n",
       "      <td>...</td>\n",
       "      <td>-0.000065</td>\n",
       "      <td>0.000078</td>\n",
       "      <td>-0.000014</td>\n",
       "      <td>-0.000034</td>\n",
       "      <td>0.000044</td>\n",
       "      <td>0.000007</td>\n",
       "      <td>0.000040</td>\n",
       "      <td>0.000045</td>\n",
       "      <td>-0.000032</td>\n",
       "      <td>-0.000046</td>\n",
       "    </tr>\n",
       "    <tr>\n",
       "      <th>1</th>\n",
       "      <td>0.000228</td>\n",
       "      <td>-0.000010</td>\n",
       "      <td>-0.000087</td>\n",
       "      <td>-0.000173</td>\n",
       "      <td>0.000088</td>\n",
       "      <td>0.000168</td>\n",
       "      <td>0.000046</td>\n",
       "      <td>0.000182</td>\n",
       "      <td>-0.000002</td>\n",
       "      <td>-0.000033</td>\n",
       "      <td>...</td>\n",
       "      <td>-0.000081</td>\n",
       "      <td>0.000075</td>\n",
       "      <td>-0.000030</td>\n",
       "      <td>-0.000043</td>\n",
       "      <td>0.000024</td>\n",
       "      <td>0.000011</td>\n",
       "      <td>0.000034</td>\n",
       "      <td>0.000032</td>\n",
       "      <td>-0.000073</td>\n",
       "      <td>-0.000071</td>\n",
       "    </tr>\n",
       "    <tr>\n",
       "      <th>2</th>\n",
       "      <td>0.000120</td>\n",
       "      <td>0.000152</td>\n",
       "      <td>-0.000048</td>\n",
       "      <td>-0.000176</td>\n",
       "      <td>-0.000109</td>\n",
       "      <td>0.000123</td>\n",
       "      <td>-0.000127</td>\n",
       "      <td>0.000003</td>\n",
       "      <td>0.000019</td>\n",
       "      <td>0.000053</td>\n",
       "      <td>...</td>\n",
       "      <td>-0.000045</td>\n",
       "      <td>0.000283</td>\n",
       "      <td>-0.000036</td>\n",
       "      <td>0.000192</td>\n",
       "      <td>0.000022</td>\n",
       "      <td>0.000009</td>\n",
       "      <td>0.000131</td>\n",
       "      <td>0.000259</td>\n",
       "      <td>0.000002</td>\n",
       "      <td>0.000039</td>\n",
       "    </tr>\n",
       "    <tr>\n",
       "      <th>3</th>\n",
       "      <td>0.000240</td>\n",
       "      <td>-0.000007</td>\n",
       "      <td>-0.000061</td>\n",
       "      <td>-0.000158</td>\n",
       "      <td>0.000051</td>\n",
       "      <td>0.000166</td>\n",
       "      <td>0.000041</td>\n",
       "      <td>0.000156</td>\n",
       "      <td>0.000012</td>\n",
       "      <td>-0.000018</td>\n",
       "      <td>...</td>\n",
       "      <td>-0.000085</td>\n",
       "      <td>0.000085</td>\n",
       "      <td>-0.000011</td>\n",
       "      <td>-0.000010</td>\n",
       "      <td>0.000039</td>\n",
       "      <td>0.000004</td>\n",
       "      <td>0.000043</td>\n",
       "      <td>0.000053</td>\n",
       "      <td>-0.000046</td>\n",
       "      <td>-0.000041</td>\n",
       "    </tr>\n",
       "    <tr>\n",
       "      <th>4</th>\n",
       "      <td>0.000227</td>\n",
       "      <td>-0.000008</td>\n",
       "      <td>-0.000050</td>\n",
       "      <td>-0.000182</td>\n",
       "      <td>0.000033</td>\n",
       "      <td>0.000144</td>\n",
       "      <td>-0.000002</td>\n",
       "      <td>0.000122</td>\n",
       "      <td>-0.000084</td>\n",
       "      <td>-0.000048</td>\n",
       "      <td>...</td>\n",
       "      <td>-0.000077</td>\n",
       "      <td>0.000107</td>\n",
       "      <td>-0.000013</td>\n",
       "      <td>-0.000008</td>\n",
       "      <td>0.000029</td>\n",
       "      <td>0.000016</td>\n",
       "      <td>0.000073</td>\n",
       "      <td>0.000084</td>\n",
       "      <td>-0.000061</td>\n",
       "      <td>-0.000063</td>\n",
       "    </tr>\n",
       "  </tbody>\n",
       "</table>\n",
       "<p>5 rows × 50 columns</p>\n",
       "</div>"
      ],
      "text/plain": [
       "        dr0       dr1       dr2       dr3       dr4       dr5       dr6  \\\n",
       "0  0.000248 -0.000022 -0.000069 -0.000161  0.000053  0.000173  0.000051   \n",
       "1  0.000228 -0.000010 -0.000087 -0.000173  0.000088  0.000168  0.000046   \n",
       "2  0.000120  0.000152 -0.000048 -0.000176 -0.000109  0.000123 -0.000127   \n",
       "3  0.000240 -0.000007 -0.000061 -0.000158  0.000051  0.000166  0.000041   \n",
       "4  0.000227 -0.000008 -0.000050 -0.000182  0.000033  0.000144 -0.000002   \n",
       "\n",
       "        dr7       dr8       dr9  ...      dr40      dr41      dr42      dr43  \\\n",
       "0  0.000171  0.000016 -0.000022  ... -0.000065  0.000078 -0.000014 -0.000034   \n",
       "1  0.000182 -0.000002 -0.000033  ... -0.000081  0.000075 -0.000030 -0.000043   \n",
       "2  0.000003  0.000019  0.000053  ... -0.000045  0.000283 -0.000036  0.000192   \n",
       "3  0.000156  0.000012 -0.000018  ... -0.000085  0.000085 -0.000011 -0.000010   \n",
       "4  0.000122 -0.000084 -0.000048  ... -0.000077  0.000107 -0.000013 -0.000008   \n",
       "\n",
       "       dr44      dr45      dr46      dr47      dr48      dr49  \n",
       "0  0.000044  0.000007  0.000040  0.000045 -0.000032 -0.000046  \n",
       "1  0.000024  0.000011  0.000034  0.000032 -0.000073 -0.000071  \n",
       "2  0.000022  0.000009  0.000131  0.000259  0.000002  0.000039  \n",
       "3  0.000039  0.000004  0.000043  0.000053 -0.000046 -0.000041  \n",
       "4  0.000029  0.000016  0.000073  0.000084 -0.000061 -0.000063  \n",
       "\n",
       "[5 rows x 50 columns]"
      ]
     },
     "execution_count": 13,
     "metadata": {},
     "output_type": "execute_result"
    }
   ],
   "source": [
    "path = '/dlabdata1/youtube_large/jouven/channel_embedding/limited_normalized_50/reduced_pca_50.npz'\n",
    "df_embedding = get_dataframe_in_embedding_space(path)\n",
    "df_embedding.head()"
   ]
  },
  {
   "cell_type": "markdown",
   "metadata": {},
   "source": [
    "#### Partisans axis: Democrats vs republican"
   ]
  },
  {
   "cell_type": "code",
   "execution_count": 4,
   "metadata": {
    "collapsed": false
   },
   "outputs": [
    {
     "data": {
      "text/html": [
       "<div>\n",
       "<style scoped>\n",
       "    .dataframe tbody tr th:only-of-type {\n",
       "        vertical-align: middle;\n",
       "    }\n",
       "\n",
       "    .dataframe tbody tr th {\n",
       "        vertical-align: top;\n",
       "    }\n",
       "\n",
       "    .dataframe thead th {\n",
       "        text-align: right;\n",
       "    }\n",
       "</style>\n",
       "<table border=\"1\" class=\"dataframe\">\n",
       "  <thead>\n",
       "    <tr style=\"text-align: right;\">\n",
       "      <th></th>\n",
       "      <th>category</th>\n",
       "      <th>join_date</th>\n",
       "      <th>link</th>\n",
       "      <th>name</th>\n",
       "      <th>subscribers</th>\n",
       "      <th>videos</th>\n",
       "      <th>channel_id</th>\n",
       "    </tr>\n",
       "  </thead>\n",
       "  <tbody>\n",
       "    <tr>\n",
       "      <th>5362</th>\n",
       "      <td>News &amp; Politics</td>\n",
       "      <td>2006-07-27</td>\n",
       "      <td>http://www.youtube.com/channel/UClkO4MArT2WKWj...</td>\n",
       "      <td>The Democrats</td>\n",
       "      <td>12600</td>\n",
       "      <td>510</td>\n",
       "      <td>UClkO4MArT2WKWj32YDD_-Ew</td>\n",
       "    </tr>\n",
       "  </tbody>\n",
       "</table>\n",
       "</div>"
      ],
      "text/plain": [
       "             category   join_date  \\\n",
       "5362  News & Politics  2006-07-27   \n",
       "\n",
       "                                                   link           name  \\\n",
       "5362  http://www.youtube.com/channel/UClkO4MArT2WKWj...  The Democrats   \n",
       "\n",
       "      subscribers  videos                channel_id  \n",
       "5362        12600     510  UClkO4MArT2WKWj32YDD_-Ew  "
      ]
     },
     "execution_count": 4,
     "metadata": {},
     "output_type": "execute_result"
    }
   ],
   "source": [
    "channelcrawler[channelcrawler['name'] == 'The Democrats']"
   ]
  },
  {
   "cell_type": "code",
   "execution_count": 5,
   "metadata": {
    "collapsed": false
   },
   "outputs": [
    {
     "data": {
      "text/html": [
       "<div>\n",
       "<style scoped>\n",
       "    .dataframe tbody tr th:only-of-type {\n",
       "        vertical-align: middle;\n",
       "    }\n",
       "\n",
       "    .dataframe tbody tr th {\n",
       "        vertical-align: top;\n",
       "    }\n",
       "\n",
       "    .dataframe thead th {\n",
       "        text-align: right;\n",
       "    }\n",
       "</style>\n",
       "<table border=\"1\" class=\"dataframe\">\n",
       "  <thead>\n",
       "    <tr style=\"text-align: right;\">\n",
       "      <th></th>\n",
       "      <th>category</th>\n",
       "      <th>join_date</th>\n",
       "      <th>link</th>\n",
       "      <th>name</th>\n",
       "      <th>subscribers</th>\n",
       "      <th>videos</th>\n",
       "      <th>channel_id</th>\n",
       "    </tr>\n",
       "  </thead>\n",
       "  <tbody>\n",
       "    <tr>\n",
       "      <th>151623</th>\n",
       "      <td>News &amp; Politics</td>\n",
       "      <td>2015-03-17</td>\n",
       "      <td>http://www.youtube.com/channel/UCAql2DyGU2un1E...</td>\n",
       "      <td>Donald J Trump</td>\n",
       "      <td>189000</td>\n",
       "      <td>222</td>\n",
       "      <td>UCAql2DyGU2un1Ei2nMYsqOA</td>\n",
       "    </tr>\n",
       "  </tbody>\n",
       "</table>\n",
       "</div>"
      ],
      "text/plain": [
       "               category   join_date  \\\n",
       "151623  News & Politics  2015-03-17   \n",
       "\n",
       "                                                     link            name  \\\n",
       "151623  http://www.youtube.com/channel/UCAql2DyGU2un1E...  Donald J Trump   \n",
       "\n",
       "        subscribers  videos                channel_id  \n",
       "151623       189000     222  UCAql2DyGU2un1Ei2nMYsqOA  "
      ]
     },
     "execution_count": 5,
     "metadata": {},
     "output_type": "execute_result"
    }
   ],
   "source": [
    "channelcrawler[channelcrawler['name'] == 'Donald J Trump']"
   ]
  },
  {
   "cell_type": "code",
   "execution_count": 77,
   "metadata": {
    "collapsed": false
   },
   "outputs": [
    {
     "data": {
      "text/plain": [
       "120967"
      ]
     },
     "execution_count": 77,
     "metadata": {},
     "output_type": "execute_result"
    }
   ],
   "source": [
    "channel_dict['UClkO4MArT2WKWj32YDD_-Ew']"
   ]
  },
  {
   "cell_type": "code",
   "execution_count": 78,
   "metadata": {
    "collapsed": false
   },
   "outputs": [
    {
     "data": {
      "text/plain": [
       "28823"
      ]
     },
     "execution_count": 78,
     "metadata": {},
     "output_type": "execute_result"
    }
   ],
   "source": [
    "channel_dict['UCAql2DyGU2un1Ei2nMYsqOA']"
   ]
  },
  {
   "cell_type": "code",
   "execution_count": 100,
   "metadata": {
    "collapsed": false
   },
   "outputs": [
    {
     "data": {
      "text/html": [
       "<div>\n",
       "<style scoped>\n",
       "    .dataframe tbody tr th:only-of-type {\n",
       "        vertical-align: middle;\n",
       "    }\n",
       "\n",
       "    .dataframe tbody tr th {\n",
       "        vertical-align: top;\n",
       "    }\n",
       "\n",
       "    .dataframe thead th {\n",
       "        text-align: right;\n",
       "    }\n",
       "</style>\n",
       "<table border=\"1\" class=\"dataframe\">\n",
       "  <thead>\n",
       "    <tr style=\"text-align: right;\">\n",
       "      <th></th>\n",
       "      <th>category</th>\n",
       "      <th>join_date</th>\n",
       "      <th>link</th>\n",
       "      <th>name</th>\n",
       "      <th>subscribers</th>\n",
       "      <th>videos</th>\n",
       "      <th>channel_id</th>\n",
       "    </tr>\n",
       "  </thead>\n",
       "  <tbody>\n",
       "    <tr>\n",
       "      <th>16427</th>\n",
       "      <td>Travel &amp; Events</td>\n",
       "      <td>2015-11-20</td>\n",
       "      <td>http://www.youtube.com/channel/UC--24Q3_ZQeFmg...</td>\n",
       "      <td>Winded Voyage Sailin...</td>\n",
       "      <td>17308</td>\n",
       "      <td>192</td>\n",
       "      <td>UC--24Q3_ZQeFmgJE-Um5QZQ</td>\n",
       "    </tr>\n",
       "  </tbody>\n",
       "</table>\n",
       "</div>"
      ],
      "text/plain": [
       "              category   join_date  \\\n",
       "16427  Travel & Events  2015-11-20   \n",
       "\n",
       "                                                    link  \\\n",
       "16427  http://www.youtube.com/channel/UC--24Q3_ZQeFmg...   \n",
       "\n",
       "                          name  subscribers  videos                channel_id  \n",
       "16427  Winded Voyage Sailin...        17308     192  UC--24Q3_ZQeFmgJE-Um5QZQ  "
      ]
     },
     "execution_count": 100,
     "metadata": {},
     "output_type": "execute_result"
    }
   ],
   "source": [
    "channelcrawler[channelcrawler['channel_id'] == dict_ind_channel[0]]"
   ]
  },
  {
   "cell_type": "code",
   "execution_count": 101,
   "metadata": {
    "collapsed": false
   },
   "outputs": [
    {
     "data": {
      "text/html": [
       "<div>\n",
       "<style scoped>\n",
       "    .dataframe tbody tr th:only-of-type {\n",
       "        vertical-align: middle;\n",
       "    }\n",
       "\n",
       "    .dataframe tbody tr th {\n",
       "        vertical-align: top;\n",
       "    }\n",
       "\n",
       "    .dataframe thead th {\n",
       "        text-align: right;\n",
       "    }\n",
       "</style>\n",
       "<table border=\"1\" class=\"dataframe\">\n",
       "  <thead>\n",
       "    <tr style=\"text-align: right;\">\n",
       "      <th></th>\n",
       "      <th>category</th>\n",
       "      <th>join_date</th>\n",
       "      <th>link</th>\n",
       "      <th>name</th>\n",
       "      <th>subscribers</th>\n",
       "      <th>videos</th>\n",
       "      <th>channel_id</th>\n",
       "    </tr>\n",
       "  </thead>\n",
       "  <tbody>\n",
       "    <tr>\n",
       "      <th>104724</th>\n",
       "      <td>People &amp; Blogs</td>\n",
       "      <td>2016-09-13</td>\n",
       "      <td>http://www.youtube.com/channel/UC7gFnfwpcsAuro...</td>\n",
       "      <td>Stephi's Vlog</td>\n",
       "      <td>14238</td>\n",
       "      <td>184</td>\n",
       "      <td>UC7gFnfwpcsAuroRwPt2rADQ</td>\n",
       "    </tr>\n",
       "  </tbody>\n",
       "</table>\n",
       "</div>"
      ],
      "text/plain": [
       "              category   join_date  \\\n",
       "104724  People & Blogs  2016-09-13   \n",
       "\n",
       "                                                     link           name  \\\n",
       "104724  http://www.youtube.com/channel/UC7gFnfwpcsAuro...  Stephi's Vlog   \n",
       "\n",
       "        subscribers  videos                channel_id  \n",
       "104724        14238     184  UC7gFnfwpcsAuroRwPt2rADQ  "
      ]
     },
     "execution_count": 101,
     "metadata": {},
     "output_type": "execute_result"
    }
   ],
   "source": [
    "channelcrawler[channelcrawler['channel_id'] == dict_ind_channel[21121]]"
   ]
  },
  {
   "cell_type": "code",
   "execution_count": 102,
   "metadata": {
    "collapsed": false
   },
   "outputs": [
    {
     "data": {
      "text/html": [
       "<div>\n",
       "<style scoped>\n",
       "    .dataframe tbody tr th:only-of-type {\n",
       "        vertical-align: middle;\n",
       "    }\n",
       "\n",
       "    .dataframe tbody tr th {\n",
       "        vertical-align: top;\n",
       "    }\n",
       "\n",
       "    .dataframe thead th {\n",
       "        text-align: right;\n",
       "    }\n",
       "</style>\n",
       "<table border=\"1\" class=\"dataframe\">\n",
       "  <thead>\n",
       "    <tr style=\"text-align: right;\">\n",
       "      <th></th>\n",
       "      <th>category</th>\n",
       "      <th>join_date</th>\n",
       "      <th>link</th>\n",
       "      <th>name</th>\n",
       "      <th>subscribers</th>\n",
       "      <th>videos</th>\n",
       "      <th>channel_id</th>\n",
       "    </tr>\n",
       "  </thead>\n",
       "  <tbody>\n",
       "    <tr>\n",
       "      <th>153384</th>\n",
       "      <td>Howto &amp; Style</td>\n",
       "      <td>2014-01-27</td>\n",
       "      <td>http://www.youtube.com/channel/UC0r9ECg_FPUM0Y...</td>\n",
       "      <td>First Lite Hunting A...</td>\n",
       "      <td>16500</td>\n",
       "      <td>154</td>\n",
       "      <td>UC0r9ECg_FPUM0Yj-TQgQX0Q</td>\n",
       "    </tr>\n",
       "  </tbody>\n",
       "</table>\n",
       "</div>"
      ],
      "text/plain": [
       "             category   join_date  \\\n",
       "153384  Howto & Style  2014-01-27   \n",
       "\n",
       "                                                     link  \\\n",
       "153384  http://www.youtube.com/channel/UC0r9ECg_FPUM0Y...   \n",
       "\n",
       "                           name  subscribers  videos                channel_id  \n",
       "153384  First Lite Hunting A...        16500     154  UC0r9ECg_FPUM0Yj-TQgQX0Q  "
      ]
     },
     "execution_count": 102,
     "metadata": {},
     "output_type": "execute_result"
    }
   ],
   "source": [
    "channelcrawler[channelcrawler['channel_id'] == dict_ind_channel[4529]]"
   ]
  },
  {
   "cell_type": "code",
   "execution_count": 103,
   "metadata": {
    "collapsed": false
   },
   "outputs": [
    {
     "data": {
      "text/html": [
       "<div>\n",
       "<style scoped>\n",
       "    .dataframe tbody tr th:only-of-type {\n",
       "        vertical-align: middle;\n",
       "    }\n",
       "\n",
       "    .dataframe tbody tr th {\n",
       "        vertical-align: top;\n",
       "    }\n",
       "\n",
       "    .dataframe thead th {\n",
       "        text-align: right;\n",
       "    }\n",
       "</style>\n",
       "<table border=\"1\" class=\"dataframe\">\n",
       "  <thead>\n",
       "    <tr style=\"text-align: right;\">\n",
       "      <th></th>\n",
       "      <th>category</th>\n",
       "      <th>join_date</th>\n",
       "      <th>link</th>\n",
       "      <th>name</th>\n",
       "      <th>subscribers</th>\n",
       "      <th>videos</th>\n",
       "      <th>channel_id</th>\n",
       "    </tr>\n",
       "  </thead>\n",
       "  <tbody>\n",
       "    <tr>\n",
       "      <th>126863</th>\n",
       "      <td>Education</td>\n",
       "      <td>2008-12-10</td>\n",
       "      <td>http://www.youtube.com/channel/UCEMS7GT52N5Kgx...</td>\n",
       "      <td>Maryland School of S...</td>\n",
       "      <td>31100</td>\n",
       "      <td>40</td>\n",
       "      <td>UCEMS7GT52N5KgxHdPUVv-Ag</td>\n",
       "    </tr>\n",
       "  </tbody>\n",
       "</table>\n",
       "</div>"
      ],
      "text/plain": [
       "         category   join_date  \\\n",
       "126863  Education  2008-12-10   \n",
       "\n",
       "                                                     link  \\\n",
       "126863  http://www.youtube.com/channel/UCEMS7GT52N5Kgx...   \n",
       "\n",
       "                           name  subscribers  videos                channel_id  \n",
       "126863  Maryland School of S...        31100      40  UCEMS7GT52N5KgxHdPUVv-Ag  "
      ]
     },
     "execution_count": 103,
     "metadata": {},
     "output_type": "execute_result"
    }
   ],
   "source": [
    "channelcrawler[channelcrawler['channel_id'] == dict_ind_channel[37339]]"
   ]
  },
  {
   "cell_type": "code",
   "execution_count": 128,
   "metadata": {
    "collapsed": false,
    "scrolled": true
   },
   "outputs": [
    {
     "name": "stdout",
     "output_type": "stream",
     "text": [
      "             category   join_date  \\\n",
      "118464  Entertainment  2014-03-24   \n",
      "140606         Comedy  2017-07-15   \n",
      "\n",
      "                                                     link             name  \\\n",
      "118464  http://www.youtube.com/channel/UCHQ0GRAK3w_s8D...    Sin Ful The P   \n",
      "140606  http://www.youtube.com/channel/UCBue71h1ewSx3v...  Monty Woodgrain   \n",
      "\n",
      "        subscribers  videos                channel_id  \n",
      "118464        43200     332  UCHQ0GRAK3w_s8Dm7WRzbT8g  \n",
      "140606        17900     673  UCBue71h1ewSx3vLeuBnjvCw  \n",
      "             category   join_date  \\\n",
      "33414  People & Blogs  2009-07-31   \n",
      "95515       Education  2016-07-07   \n",
      "\n",
      "                                                    link              name  \\\n",
      "33414  http://www.youtube.com/channel/UC4Ya1ej073TMCV...          Cerebral   \n",
      "95515  http://www.youtube.com/channel/UC5ksavsuuri0tJ...  The Greatest Cyn   \n",
      "\n",
      "       subscribers  videos                channel_id  \n",
      "33414        10300     122  UC4Ya1ej073TMCVgRUo_G_6A  \n",
      "95515        28800     138  UC5ksavsuuri0tJpcVS2gCBg  \n",
      "               category   join_date  \\\n",
      "91541    People & Blogs  2010-11-15   \n",
      "158029  News & Politics  2006-08-04   \n",
      "\n",
      "                                                     link  \\\n",
      "91541   http://www.youtube.com/channel/UC-_N3f3ZkdGh1Z...   \n",
      "158029  http://www.youtube.com/channel/UC0Z-bYqyjG6Zon...   \n",
      "\n",
      "                           name  subscribers  videos                channel_id  \n",
      "91541                Deacon TV1        77500     270  UC-_N3f3ZkdGh1Z2nj57ujNw  \n",
      "158029  Craig Mason's Reason...        30400     374  UC0Z-bYqyjG6ZonkH6KkNWrQ  \n",
      "               category   join_date  \\\n",
      "99430   News & Politics  2011-10-23   \n",
      "157278  News & Politics  2015-04-16   \n",
      "\n",
      "                                                     link  \\\n",
      "99430   http://www.youtube.com/channel/UC7dkMoe_i-xfdk...   \n",
      "157278  http://www.youtube.com/channel/UC1rnp-CySclyhx...   \n",
      "\n",
      "                           name  subscribers  videos                channel_id  \n",
      "99430   The Official Hagmann...       156000    2967  UC7dkMoe_i-xfdkf0uMIMsWA  \n",
      "157278      X22Report Spotlight       158000     391  UC1rnp-CySclyhxyjA4f14WQ  \n",
      "               category   join_date  \\\n",
      "103186  News & Politics  2011-09-21   \n",
      "115799   People & Blogs  2017-02-22   \n",
      "\n",
      "                                                     link           name  \\\n",
      "103186  http://www.youtube.com/channel/UC8Cl9QaRtuW9CN...  Jason Goodman   \n",
      "115799  http://www.youtube.com/channel/UC9z43BmYkGuS4n...  Mike Nificent   \n",
      "\n",
      "        subscribers  videos                channel_id  \n",
      "103186        84100    1500  UC8Cl9QaRtuW9CNjP7pP4BBQ  \n",
      "115799        39000     216  UC9z43BmYkGuS4npeZaHTRAQ  \n",
      "               category   join_date  \\\n",
      "103186  News & Politics  2011-09-21   \n",
      "157278  News & Politics  2015-04-16   \n",
      "\n",
      "                                                     link  \\\n",
      "103186  http://www.youtube.com/channel/UC8Cl9QaRtuW9CN...   \n",
      "157278  http://www.youtube.com/channel/UC1rnp-CySclyhx...   \n",
      "\n",
      "                       name  subscribers  videos                channel_id  \n",
      "103186        Jason Goodman        84100    1500  UC8Cl9QaRtuW9CNjP7pP4BBQ  \n",
      "157278  X22Report Spotlight       158000     391  UC1rnp-CySclyhxyjA4f14WQ  \n",
      "               category   join_date  \\\n",
      "62913   News & Politics  2013-03-19   \n",
      "163993  News & Politics  2006-03-06   \n",
      "\n",
      "                                                     link             name  \\\n",
      "62913   http://www.youtube.com/channel/UC62KZJ1mShIQ-1...  David Harris Jr   \n",
      "163993  http://www.youtube.com/channel/UC4OvD2yIbofl9l...    Bill O'Reilly   \n",
      "\n",
      "        subscribers  videos                channel_id  \n",
      "62913         74000     561  UC62KZJ1mShIQ-14rjzVYt9A  \n",
      "163993       144000     508  UC4OvD2yIbofl9l4dIlqSNMw  \n",
      "              category   join_date  \\\n",
      "110684       Education  2007-10-11   \n",
      "128839  People & Blogs  2017-01-24   \n",
      "\n",
      "                                                     link          name  \\\n",
      "110684  http://www.youtube.com/channel/UCQ1h0i1ksKlvPI...     dnajlion7   \n",
      "128839  http://www.youtube.com/channel/UCQTqnnPetWFbDN...  McAllisterTV   \n",
      "\n",
      "        subscribers  videos                channel_id  \n",
      "110684        86700    2177  UCQ1h0i1ksKlvPI7zI6t9XoA  \n",
      "128839        75100     488  UCQTqnnPetWFbDN1nJ6hq0eg  \n",
      "                     category   join_date  \\\n",
      "157277         People & Blogs  2013-02-04   \n",
      "159225  Nonprofits & Activism  2006-05-16   \n",
      "\n",
      "                                                     link            name  \\\n",
      "157277  http://www.youtube.com/channel/UCB1o7_gbFp2PLs...       X22Report   \n",
      "159225  http://www.youtube.com/channel/UCGDaOZg2INC0Qg...  Judicial Watch   \n",
      "\n",
      "        subscribers  videos                channel_id  \n",
      "157277       473000    3093  UCB1o7_gbFp2PLsamWxFenBg  \n",
      "159225       275000    2111  UCGDaOZg2INC0Qg2Z203F1dA  \n"
     ]
    }
   ],
   "source": [
    "k = 10\n",
    "partisan_seed = (dict_channel_ind['UClkO4MArT2WKWj32YDD_-Ew'], dict_channel_ind['UCAql2DyGU2un1Ei2nMYsqOA'])\n",
    "nb_selected_pairs = 10\n",
    "\n",
    "partisan_axis = compute_axis_vector_based_on_seed(path, k, partisan_seed, nb_selected_pairs)"
   ]
  },
  {
   "cell_type": "markdown",
   "metadata": {},
   "source": [
    "#### Gender axis: men vs women"
   ]
  },
  {
   "cell_type": "code",
   "execution_count": 13,
   "metadata": {
    "collapsed": false
   },
   "outputs": [
    {
     "data": {
      "text/html": [
       "<div>\n",
       "<style scoped>\n",
       "    .dataframe tbody tr th:only-of-type {\n",
       "        vertical-align: middle;\n",
       "    }\n",
       "\n",
       "    .dataframe tbody tr th {\n",
       "        vertical-align: top;\n",
       "    }\n",
       "\n",
       "    .dataframe thead th {\n",
       "        text-align: right;\n",
       "    }\n",
       "</style>\n",
       "<table border=\"1\" class=\"dataframe\">\n",
       "  <thead>\n",
       "    <tr style=\"text-align: right;\">\n",
       "      <th></th>\n",
       "      <th>category</th>\n",
       "      <th>join_date</th>\n",
       "      <th>link</th>\n",
       "      <th>name</th>\n",
       "      <th>subscribers</th>\n",
       "      <th>videos</th>\n",
       "      <th>channel_id</th>\n",
       "    </tr>\n",
       "  </thead>\n",
       "  <tbody>\n",
       "    <tr>\n",
       "      <th>70695</th>\n",
       "      <td>Howto &amp; Style</td>\n",
       "      <td>2011-09-29</td>\n",
       "      <td>http://www.youtube.com/channel/UCZyCposXwcyopa...</td>\n",
       "      <td>Alex Costa</td>\n",
       "      <td>2120000</td>\n",
       "      <td>543</td>\n",
       "      <td>UCZyCposXwcyopaACep44maQ</td>\n",
       "    </tr>\n",
       "  </tbody>\n",
       "</table>\n",
       "</div>"
      ],
      "text/plain": [
       "            category   join_date  \\\n",
       "70695  Howto & Style  2011-09-29   \n",
       "\n",
       "                                                    link        name  \\\n",
       "70695  http://www.youtube.com/channel/UCZyCposXwcyopa...  Alex Costa   \n",
       "\n",
       "       subscribers  videos                channel_id  \n",
       "70695      2120000     543  UCZyCposXwcyopaACep44maQ  "
      ]
     },
     "execution_count": 13,
     "metadata": {},
     "output_type": "execute_result"
    }
   ],
   "source": [
    "# Here you will find everything about: Men's Fashion, Hairstyle, Fitness & Health, Personal Vlogs and Tech.\n",
    "channelcrawler[channelcrawler['name'] == 'Alex Costa']"
   ]
  },
  {
   "cell_type": "code",
   "execution_count": 14,
   "metadata": {
    "collapsed": false
   },
   "outputs": [
    {
     "data": {
      "text/html": [
       "<div>\n",
       "<style scoped>\n",
       "    .dataframe tbody tr th:only-of-type {\n",
       "        vertical-align: middle;\n",
       "    }\n",
       "\n",
       "    .dataframe tbody tr th {\n",
       "        vertical-align: top;\n",
       "    }\n",
       "\n",
       "    .dataframe thead th {\n",
       "        text-align: right;\n",
       "    }\n",
       "</style>\n",
       "<table border=\"1\" class=\"dataframe\">\n",
       "  <thead>\n",
       "    <tr style=\"text-align: right;\">\n",
       "      <th></th>\n",
       "      <th>category</th>\n",
       "      <th>join_date</th>\n",
       "      <th>link</th>\n",
       "      <th>name</th>\n",
       "      <th>subscribers</th>\n",
       "      <th>videos</th>\n",
       "      <th>channel_id</th>\n",
       "    </tr>\n",
       "  </thead>\n",
       "  <tbody>\n",
       "    <tr>\n",
       "      <th>38863</th>\n",
       "      <td>Howto &amp; Style</td>\n",
       "      <td>2009-01-18</td>\n",
       "      <td>http://www.youtube.com/channel/UCMpOz2KEfkSdd5...</td>\n",
       "      <td>Shaaanxo</td>\n",
       "      <td>3215340</td>\n",
       "      <td>1422</td>\n",
       "      <td>UCMpOz2KEfkSdd5JeIJh_fxw</td>\n",
       "    </tr>\n",
       "  </tbody>\n",
       "</table>\n",
       "</div>"
      ],
      "text/plain": [
       "            category   join_date  \\\n",
       "38863  Howto & Style  2009-01-18   \n",
       "\n",
       "                                                    link      name  \\\n",
       "38863  http://www.youtube.com/channel/UCMpOz2KEfkSdd5...  Shaaanxo   \n",
       "\n",
       "       subscribers  videos                channel_id  \n",
       "38863      3215340    1422  UCMpOz2KEfkSdd5JeIJh_fxw  "
      ]
     },
     "execution_count": 14,
     "metadata": {},
     "output_type": "execute_result"
    }
   ],
   "source": [
    "# vlog channel about make up, hair transformation, rings selections, ...\n",
    "channelcrawler[channelcrawler['name'] == 'Shaaanxo']"
   ]
  },
  {
   "cell_type": "code",
   "execution_count": 18,
   "metadata": {
    "collapsed": false,
    "scrolled": true
   },
   "outputs": [
    {
     "name": "stdout",
     "output_type": "stream",
     "text": [
      "             category   join_date  \\\n",
      "64049   Howto & Style  2009-08-22   \n",
      "121125  Howto & Style  2012-11-10   \n",
      "\n",
      "                                                     link            name  \\\n",
      "64049   http://www.youtube.com/channel/UCOWNJMtHeyhwsO...  Izzy Parkhurst   \n",
      "121125  http://www.youtube.com/channel/UCPFvgBqzykc8Zk...     Emily Grace   \n",
      "\n",
      "        subscribers  videos                channel_id  \n",
      "64049        112000     219  UCOWNJMtHeyhwsOSRHcahDCA  \n",
      "121125       124000     312  UCPFvgBqzykc8ZkrVJFWN6UA  \n",
      "             category   join_date  \\\n",
      "11633   Howto & Style  2008-05-13   \n",
      "105135  Howto & Style  2010-08-11   \n",
      "\n",
      "                                                     link            name  \\\n",
      "11633   http://www.youtube.com/channel/UCDn2NrHBB4iAKf...       ulovemegz   \n",
      "105135  http://www.youtube.com/channel/UCIVM3-CW8t3DWD...  Jennie Jenkins   \n",
      "\n",
      "        subscribers  videos                channel_id  \n",
      "11633        511000     806  UCDn2NrHBB4iAKf2jMPqsClA  \n",
      "105135       655000     724  UCIVM3-CW8t3DWDAfm88P27Q  \n",
      "            category   join_date  \\\n",
      "9983   Howto & Style  2008-09-09   \n",
      "26236  Howto & Style  2007-07-12   \n",
      "\n",
      "                                                    link            name  \\\n",
      "9983   http://www.youtube.com/channel/UCN-F_BATJNrlTv...      rumela dey   \n",
      "26236  http://www.youtube.com/channel/UCNEmB0wc3SRuYh...  Cristeen Olley   \n",
      "\n",
      "       subscribers  videos                channel_id  \n",
      "9983         25726     320  UCN-F_BATJNrlTvyswWWgmBA  \n",
      "26236        41100     430  UCNEmB0wc3SRuYh0astcL_JQ  \n",
      "             category   join_date  \\\n",
      "62333   Howto & Style  2009-11-28   \n",
      "145314  Howto & Style  2010-11-30   \n",
      "\n",
      "                                                     link                name  \\\n",
      "62333   http://www.youtube.com/channel/UCUt0ZA6l_EidUn...               SMLx0   \n",
      "145314  http://www.youtube.com/channel/UCQWy33JxT07WWP...  LoveMelisaMichelle   \n",
      "\n",
      "        subscribers  videos                channel_id  \n",
      "62333       1000000     645  UCUt0ZA6l_EidUnBFMR9BZig  \n",
      "145314       571000     618  UCQWy33JxT07WWPdGBIuToPw  \n",
      "             category   join_date  \\\n",
      "61024   Howto & Style  2013-08-17   \n",
      "130460  Howto & Style  2014-01-26   \n",
      "\n",
      "                                                     link          name  \\\n",
      "61024   http://www.youtube.com/channel/UCG9nVSLp4nQlW7...  Desi Perkins   \n",
      "130460  http://www.youtube.com/channel/UCC0EqtXQ9at6ON...          Katy   \n",
      "\n",
      "        subscribers  videos                channel_id  \n",
      "61024       3290000     359  UCG9nVSLp4nQlW79sY5ihRrg  \n",
      "130460      2000000     407  UCC0EqtXQ9at6ON_-ZYJaImA  \n",
      "             category   join_date  \\\n",
      "22603   Entertainment  2013-10-16   \n",
      "163697  Howto & Style  2013-11-21   \n",
      "\n",
      "                                                     link              name  \\\n",
      "22603   http://www.youtube.com/channel/UCF2J0RfE76ozNN...  Make Up Addicted   \n",
      "163697  http://www.youtube.com/channel/UCJoi1dFGm7C-9h...   Meghan Victoria   \n",
      "\n",
      "        subscribers  videos                channel_id  \n",
      "22603         12500     473  UCF2J0RfE76ozNNVpYQHniaQ  \n",
      "163697        12300     264  UCJoi1dFGm7C-9hBV64mc_rA  \n",
      "             category   join_date  \\\n",
      "49641   Howto & Style  2012-10-14   \n",
      "131426  Howto & Style  2012-12-19   \n",
      "\n",
      "                                                     link  \\\n",
      "49641   http://www.youtube.com/channel/UCUUOpwRltBcCzp...   \n",
      "131426  http://www.youtube.com/channel/UCR-BBT4hN06fp6...   \n",
      "\n",
      "                         name  subscribers  videos                channel_id  \n",
      "49641   Sarah • BeautyBuzz...        34300     198  UCUUOpwRltBcCzp8uYFSbhfQ  \n",
      "131426          Chelsea Garay        17800     758  UCR-BBT4hN06fp61mRz0WHOA  \n",
      "              category   join_date  \\\n",
      "28480   People & Blogs  2014-02-09   \n",
      "135601  People & Blogs  2014-07-21   \n",
      "\n",
      "                                                     link             name  \\\n",
      "28480   http://www.youtube.com/channel/UCPQ-f1KEJi-a49...    Olivia Vargus   \n",
      "135601  http://www.youtube.com/channel/UCRmzmRFJ-gko2G...  Ava Jules Vlogs   \n",
      "\n",
      "        subscribers  videos                channel_id  \n",
      "28480        276000     197  UCPQ-f1KEJi-a49SLgYHifUA  \n",
      "135601       167000     106  UCRmzmRFJ-gko2G6uwKdMPbg  \n",
      "             category   join_date  \\\n",
      "158056  Howto & Style  2008-08-17   \n",
      "159684  Howto & Style  2009-05-16   \n",
      "\n",
      "                                                     link           name  \\\n",
      "158056  http://www.youtube.com/channel/UC6BgVI-UklNevp...   kissndMAKEUP   \n",
      "159684  http://www.youtube.com/channel/UCBHLRCpd7hE5wt...  Claire Ashley   \n",
      "\n",
      "        subscribers  videos                channel_id  \n",
      "158056        39500     549  UC6BgVI-UklNevpcArD8wmBg  \n",
      "159684       187000     457  UCBHLRCpd7hE5wto7xe_RhNg  \n"
     ]
    }
   ],
   "source": [
    "k = 10\n",
    "path = '/dlabdata1/youtube_large/jouven/channel_embedding/limited_normalized_50/reduced_pca_50.npz'\n",
    "gender_seed = (dict_channel_ind['UCZyCposXwcyopaACep44maQ'], dict_channel_ind['UCMpOz2KEfkSdd5JeIJh_fxw'])\n",
    "nb_selected_pairs = 10\n",
    "\n",
    "gender_axis = compute_axis_vector_based_on_seed(path, k, gender_seed, nb_selected_pairs)"
   ]
  },
  {
   "cell_type": "markdown",
   "metadata": {},
   "source": [
    "#### Age axis: kids vs adult"
   ]
  },
  {
   "cell_type": "code",
   "execution_count": 23,
   "metadata": {
    "collapsed": false
   },
   "outputs": [
    {
     "data": {
      "text/html": [
       "<div>\n",
       "<style scoped>\n",
       "    .dataframe tbody tr th:only-of-type {\n",
       "        vertical-align: middle;\n",
       "    }\n",
       "\n",
       "    .dataframe tbody tr th {\n",
       "        vertical-align: top;\n",
       "    }\n",
       "\n",
       "    .dataframe thead th {\n",
       "        text-align: right;\n",
       "    }\n",
       "</style>\n",
       "<table border=\"1\" class=\"dataframe\">\n",
       "  <thead>\n",
       "    <tr style=\"text-align: right;\">\n",
       "      <th></th>\n",
       "      <th>category</th>\n",
       "      <th>join_date</th>\n",
       "      <th>link</th>\n",
       "      <th>name</th>\n",
       "      <th>subscribers</th>\n",
       "      <th>videos</th>\n",
       "      <th>channel_id</th>\n",
       "    </tr>\n",
       "  </thead>\n",
       "  <tbody>\n",
       "    <tr>\n",
       "      <th>83811</th>\n",
       "      <td>Education</td>\n",
       "      <td>2015-01-26</td>\n",
       "      <td>http://www.youtube.com/channel/UC7EFWpvc1wYuUw...</td>\n",
       "      <td>Kids Learning Tube</td>\n",
       "      <td>539000</td>\n",
       "      <td>278</td>\n",
       "      <td>UC7EFWpvc1wYuUwrtZ_BLi9A</td>\n",
       "    </tr>\n",
       "  </tbody>\n",
       "</table>\n",
       "</div>"
      ],
      "text/plain": [
       "        category   join_date  \\\n",
       "83811  Education  2015-01-26   \n",
       "\n",
       "                                                    link                name  \\\n",
       "83811  http://www.youtube.com/channel/UC7EFWpvc1wYuUw...  Kids Learning Tube   \n",
       "\n",
       "       subscribers  videos                channel_id  \n",
       "83811       539000     278  UC7EFWpvc1wYuUwrtZ_BLi9A  "
      ]
     },
     "execution_count": 23,
     "metadata": {},
     "output_type": "execute_result"
    }
   ],
   "source": [
    "# Kids Learning Tube educates kids through music and animation in a fun and unique approach to learning.\n",
    "channelcrawler[channelcrawler['name'] == 'Kids Learning Tube']"
   ]
  },
  {
   "cell_type": "code",
   "execution_count": 26,
   "metadata": {
    "collapsed": false
   },
   "outputs": [
    {
     "data": {
      "text/html": [
       "<div>\n",
       "<style scoped>\n",
       "    .dataframe tbody tr th:only-of-type {\n",
       "        vertical-align: middle;\n",
       "    }\n",
       "\n",
       "    .dataframe tbody tr th {\n",
       "        vertical-align: top;\n",
       "    }\n",
       "\n",
       "    .dataframe thead th {\n",
       "        text-align: right;\n",
       "    }\n",
       "</style>\n",
       "<table border=\"1\" class=\"dataframe\">\n",
       "  <thead>\n",
       "    <tr style=\"text-align: right;\">\n",
       "      <th></th>\n",
       "      <th>category</th>\n",
       "      <th>join_date</th>\n",
       "      <th>link</th>\n",
       "      <th>name</th>\n",
       "      <th>subscribers</th>\n",
       "      <th>videos</th>\n",
       "      <th>channel_id</th>\n",
       "    </tr>\n",
       "  </thead>\n",
       "  <tbody>\n",
       "    <tr>\n",
       "      <th>45804</th>\n",
       "      <td>Education</td>\n",
       "      <td>2014-04-24</td>\n",
       "      <td>http://www.youtube.com/channel/UCGL9ubdGcvZh_d...</td>\n",
       "      <td>The Trading Channel</td>\n",
       "      <td>217872</td>\n",
       "      <td>197</td>\n",
       "      <td>UCGL9ubdGcvZh_dvSV2z1hoQ</td>\n",
       "    </tr>\n",
       "  </tbody>\n",
       "</table>\n",
       "</div>"
      ],
      "text/plain": [
       "        category   join_date  \\\n",
       "45804  Education  2014-04-24   \n",
       "\n",
       "                                                    link                 name  \\\n",
       "45804  http://www.youtube.com/channel/UCGL9ubdGcvZh_d...  The Trading Channel   \n",
       "\n",
       "       subscribers  videos                channel_id  \n",
       "45804       217872     197  UCGL9ubdGcvZh_dvSV2z1hoQ  "
      ]
     },
     "execution_count": 26,
     "metadata": {},
     "output_type": "execute_result"
    }
   ],
   "source": [
    "# Channel to learn how to do trading\n",
    "channelcrawler[channelcrawler['name'] == 'The Trading Channel']"
   ]
  },
  {
   "cell_type": "code",
   "execution_count": 27,
   "metadata": {
    "collapsed": false,
    "scrolled": true
   },
   "outputs": [
    {
     "name": "stdout",
     "output_type": "stream",
     "text": [
      "             category   join_date  \\\n",
      "83811       Education  2015-01-26   \n",
      "132201  Entertainment  2017-04-23   \n",
      "\n",
      "                                                     link                name  \\\n",
      "83811   http://www.youtube.com/channel/UC7EFWpvc1wYuUw...  Kids Learning Tube   \n",
      "132201  http://www.youtube.com/channel/UC0wK7BoBSLLTi0...            Editator   \n",
      "\n",
      "        subscribers  videos                channel_id  \n",
      "83811        539000     278  UC7EFWpvc1wYuUwrtZ_BLi9A  \n",
      "132201        94600      15  UC0wK7BoBSLLTi0oWunrXRug  \n",
      "            category   join_date  \\\n",
      "14081  Entertainment  2017-05-10   \n",
      "83811      Education  2015-01-26   \n",
      "\n",
      "                                                    link                name  \\\n",
      "14081  http://www.youtube.com/channel/UC7CyQGwsqZC2_j...      Riddle Channel   \n",
      "83811  http://www.youtube.com/channel/UC7EFWpvc1wYuUw...  Kids Learning Tube   \n",
      "\n",
      "       subscribers  videos                channel_id  \n",
      "14081       183000      25  UC7CyQGwsqZC2_jXEGVECEdg  \n",
      "83811       539000     278  UC7EFWpvc1wYuUwrtZ_BLi9A  \n",
      "         category   join_date  \\\n",
      "83811   Education  2015-01-26   \n",
      "127290      Music  2016-03-01   \n",
      "\n",
      "                                                     link                name  \\\n",
      "83811   http://www.youtube.com/channel/UC7EFWpvc1wYuUw...  Kids Learning Tube   \n",
      "127290  http://www.youtube.com/channel/UC044qA_Mds7Hgn...           MusiMasta   \n",
      "\n",
      "        subscribers  videos                channel_id  \n",
      "83811        539000     278  UC7EFWpvc1wYuUwrtZ_BLi9A  \n",
      "127290        64300      48  UC044qA_Mds7HgnKd9NLOe3g  \n",
      "             category   join_date  \\\n",
      "83811       Education  2015-01-26   \n",
      "155968  Entertainment  2011-05-15   \n",
      "\n",
      "                                                     link                name  \\\n",
      "83811   http://www.youtube.com/channel/UC7EFWpvc1wYuUw...  Kids Learning Tube   \n",
      "155968  http://www.youtube.com/channel/UC5N2hzXORKz0pv...         William Wei   \n",
      "\n",
      "        subscribers  videos                channel_id  \n",
      "83811        539000     278  UC7EFWpvc1wYuUwrtZ_BLi9A  \n",
      "155968       280952      38  UC5N2hzXORKz0pvBjWXCgP1Q  \n",
      "        category   join_date  \\\n",
      "20823     Gaming  2015-12-14   \n",
      "83811  Education  2015-01-26   \n",
      "\n",
      "                                                    link                name  \\\n",
      "20823  http://www.youtube.com/channel/UC3L1FwovmW94GW...     Primal Gameplay   \n",
      "83811  http://www.youtube.com/channel/UC7EFWpvc1wYuUw...  Kids Learning Tube   \n",
      "\n",
      "       subscribers  videos                channel_id  \n",
      "20823      1300000    1835  UC3L1FwovmW94GWJeWU-vNDQ  \n",
      "83811       539000     278  UC7EFWpvc1wYuUwrtZ_BLi9A  \n",
      "             category   join_date  \\\n",
      "109560  Entertainment  2019-04-07   \n",
      "114791      Education  2007-05-26   \n",
      "\n",
      "                                                     link  \\\n",
      "109560  http://www.youtube.com/channel/UC5i_g7sgTh-9-z...   \n",
      "114791  http://www.youtube.com/channel/UC7D-mXO4kk-XWv...   \n",
      "\n",
      "                         name  subscribers  videos                channel_id  \n",
      "109560              Dank Duck        66800      15  UC5i_g7sgTh-9-zgm_EfJjxQ  \n",
      "114791  Kids’ Poems and St...       335000     413  UC7D-mXO4kk-XWvH6lBXdrPw  \n",
      "             category   join_date  \\\n",
      "169     Entertainment  2012-12-02   \n",
      "51595  Pets & Animals  2016-06-25   \n",
      "\n",
      "                                                    link          name  \\\n",
      "169    http://www.youtube.com/channel/UC2V1ul4ul85kac...         Kwite   \n",
      "51595  http://www.youtube.com/channel/UC38r7_x7oMPAZw...  Rapid Liquid   \n",
      "\n",
      "       subscribers  videos                channel_id  \n",
      "169         653000     244  UC2V1ul4ul85kac0Y81wXTqQ  \n",
      "51595      1076361     333  UC38r7_x7oMPAZweB2fvGDXQ  \n",
      "              category   join_date  \\\n",
      "46852   People & Blogs  2013-04-21   \n",
      "101728  Pets & Animals  2017-05-11   \n",
      "\n",
      "                                                     link  \\\n",
      "46852   http://www.youtube.com/channel/UCAo8UHoCAAJEF-...   \n",
      "101728  http://www.youtube.com/channel/UC9gPwVGWqT8xkA...   \n",
      "\n",
      "                           name  subscribers  videos                channel_id  \n",
      "46852         Omnia Productions       179000     120  UCAo8UHoCAAJEF-Lu98sF7BQ  \n",
      "101728  The Secret Life of m...      1270000      40  UC9gPwVGWqT8xkArzQ2PB0jA  \n",
      "                  category   join_date  \\\n",
      "85799               Gaming  2009-09-10   \n",
      "155383  Film and Animation  2009-10-02   \n",
      "\n",
      "                                                     link      name  \\\n",
      "85799   http://www.youtube.com/channel/UC46EVG8wA0Uqiz...  SonicJGB   \n",
      "155383  http://www.youtube.com/channel/UC3x3aPLpC8QW5h...      Osro   \n",
      "\n",
      "        subscribers  videos                channel_id  \n",
      "85799         26800    2893  UC46EVG8wA0UqizmlLk1K9xA  \n",
      "155383       269449      65  UC3x3aPLpC8QW5hYg83wmGaQ  \n"
     ]
    }
   ],
   "source": [
    "k = 10\n",
    "age_seed = (dict_channel_ind['UC7EFWpvc1wYuUwrtZ_BLi9A'], dict_channel_ind['UCGL9ubdGcvZh_dvSV2z1hoQ'])\n",
    "nb_selected_pairs = 10\n",
    "\n",
    "age_axis = compute_axis_vector_based_on_seed(path, k, age_seed, nb_selected_pairs)"
   ]
  },
  {
   "cell_type": "code",
   "execution_count": null,
   "metadata": {
    "collapsed": true
   },
   "outputs": [],
   "source": []
  },
  {
   "cell_type": "code",
   "execution_count": null,
   "metadata": {
    "collapsed": true
   },
   "outputs": [],
   "source": []
  },
  {
   "cell_type": "code",
   "execution_count": null,
   "metadata": {
    "collapsed": true
   },
   "outputs": [],
   "source": []
  },
  {
   "cell_type": "code",
   "execution_count": null,
   "metadata": {
    "collapsed": true
   },
   "outputs": [],
   "source": []
  }
 ],
 "metadata": {
  "kernelspec": {
   "display_name": "Python 3",
   "language": "python",
   "name": "python3"
  },
  "language_info": {
   "codemirror_mode": {
    "name": "ipython",
    "version": 3
   },
   "file_extension": ".py",
   "mimetype": "text/x-python",
   "name": "python",
   "nbconvert_exporter": "python",
   "pygments_lexer": "ipython3",
   "version": "3.6.11"
  }
 },
 "nbformat": 4,
 "nbformat_minor": 4
}
