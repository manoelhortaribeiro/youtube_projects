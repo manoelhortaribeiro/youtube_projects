{
 "cells": [
  {
   "cell_type": "markdown",
   "metadata": {},
   "source": [
    "### NOTEBOOK DESCRIPTION:\n",
    "\n",
    "This notebook does the axis projection based on age and gender axis as well as a validation technique based on the generated axis"
   ]
  },
  {
   "cell_type": "code",
   "execution_count": 1,
   "metadata": {},
   "outputs": [],
   "source": [
    "import os\n",
    "import sys\n",
    "\n",
    "import pandas as pd\n",
    "import numpy as np\n",
    "import matplotlib.pyplot as plt\n",
    "\n",
    "\n",
    "scriptpath = \"/home/jouven/youtube_projects/\"\n",
    "sys.path.append(os.path.abspath(scriptpath))\n",
    "\n",
    "from helpers.helpers_channels_more_300 import *\n",
    "from helpers.helpers_channel_embedding import *\n",
    "from helpers.helpers_visualization_axis_projection import *"
   ]
  },
  {
   "cell_type": "markdown",
   "metadata": {},
   "source": [
    "### Selected parameters for the axis projection"
   ]
  },
  {
   "cell_type": "code",
   "execution_count": 2,
   "metadata": {},
   "outputs": [],
   "source": [
    "# Number of neirest neighbors taken\n",
    "k = 10\n",
    "\n",
    "# Selected number of pairs to create the axis\n",
    "nb_selected_pairs = 6"
   ]
  },
  {
   "cell_type": "markdown",
   "metadata": {},
   "source": [
    "### Useful functions"
   ]
  },
  {
   "cell_type": "code",
   "execution_count": 3,
   "metadata": {},
   "outputs": [],
   "source": [
    "PATH = '/dlabdata1/youtube_large/jouven/word2vec_pytorch/run_channels_more_300/combination_then_channel_sampling/CONTEXT_True_100_SUBSAMPLING_False_0.0043_LR_0.005/models/embedding.csv.gz'"
   ]
  },
  {
   "cell_type": "code",
   "execution_count": 4,
   "metadata": {},
   "outputs": [],
   "source": [
    "dict_channel_ind, dict_ind_channel, channels_id = filtered_channels_index_id_mapping()"
   ]
  },
  {
   "cell_type": "markdown",
   "metadata": {},
   "source": [
    "## Finding cultural axis for our channel embedding"
   ]
  },
  {
   "cell_type": "code",
   "execution_count": 5,
   "metadata": {},
   "outputs": [],
   "source": [
    "selected_channels = []\n",
    "for channel in channels_id:\n",
    "    selected_channels.append(dict_channel_ind[channel])"
   ]
  },
  {
   "cell_type": "code",
   "execution_count": 6,
   "metadata": {},
   "outputs": [],
   "source": [
    "channelcrawler_projection = pd.read_csv(\"/dlabdata1/youtube_large/df_channels_en.tsv.gz\", sep='\\t')\n",
    "# Select the rows being in the select channels\n",
    "channelcrawler_projection = channelcrawler_projection[channelcrawler_projection['channel'].apply(lambda row: row in channels_id)]"
   ]
  },
  {
   "cell_type": "code",
   "execution_count": 7,
   "metadata": {},
   "outputs": [
    {
     "data": {
      "text/html": [
       "<div>\n",
       "<style scoped>\n",
       "    .dataframe tbody tr th:only-of-type {\n",
       "        vertical-align: middle;\n",
       "    }\n",
       "\n",
       "    .dataframe tbody tr th {\n",
       "        vertical-align: top;\n",
       "    }\n",
       "\n",
       "    .dataframe thead th {\n",
       "        text-align: right;\n",
       "    }\n",
       "</style>\n",
       "<table border=\"1\" class=\"dataframe\">\n",
       "  <thead>\n",
       "    <tr style=\"text-align: right;\">\n",
       "      <th></th>\n",
       "      <th>category_cc</th>\n",
       "      <th>join_date</th>\n",
       "      <th>channel</th>\n",
       "      <th>name_cc</th>\n",
       "      <th>subscribers_cc</th>\n",
       "      <th>videos_cc</th>\n",
       "      <th>subscriber_rank_sb</th>\n",
       "      <th>weights</th>\n",
       "    </tr>\n",
       "  </thead>\n",
       "  <tbody>\n",
       "    <tr>\n",
       "      <th>0</th>\n",
       "      <td>Gaming</td>\n",
       "      <td>2010-04-29</td>\n",
       "      <td>UC-lHJZR3Gqxm24_Vd_AJ5Yw</td>\n",
       "      <td>PewDiePie</td>\n",
       "      <td>101000000</td>\n",
       "      <td>3956</td>\n",
       "      <td>3.0</td>\n",
       "      <td>2.087</td>\n",
       "    </tr>\n",
       "    <tr>\n",
       "      <th>1</th>\n",
       "      <td>Education</td>\n",
       "      <td>2006-09-01</td>\n",
       "      <td>UCbCmjCuTUZos6Inko4u57UQ</td>\n",
       "      <td>Cocomelon - Nursery ...</td>\n",
       "      <td>60100000</td>\n",
       "      <td>458</td>\n",
       "      <td>7.0</td>\n",
       "      <td>2.087</td>\n",
       "    </tr>\n",
       "    <tr>\n",
       "      <th>2</th>\n",
       "      <td>Entertainment</td>\n",
       "      <td>2006-09-20</td>\n",
       "      <td>UCpEhnqL0y41EpW2TvWAHD7Q</td>\n",
       "      <td>SET India</td>\n",
       "      <td>56018869</td>\n",
       "      <td>32661</td>\n",
       "      <td>8.0</td>\n",
       "      <td>2.087</td>\n",
       "    </tr>\n",
       "    <tr>\n",
       "      <th>3</th>\n",
       "      <td>Howto &amp; Style</td>\n",
       "      <td>2016-11-15</td>\n",
       "      <td>UC295-Dw_tDNtZXFeAPAW6Aw</td>\n",
       "      <td>5-Minute Crafts</td>\n",
       "      <td>60600000</td>\n",
       "      <td>3591</td>\n",
       "      <td>9.0</td>\n",
       "      <td>2.087</td>\n",
       "    </tr>\n",
       "    <tr>\n",
       "      <th>4</th>\n",
       "      <td>Sports</td>\n",
       "      <td>2007-05-11</td>\n",
       "      <td>UCJ5v_MCY6GNUBTO8-D3XoAg</td>\n",
       "      <td>WWE</td>\n",
       "      <td>48400000</td>\n",
       "      <td>43421</td>\n",
       "      <td>11.0</td>\n",
       "      <td>2.087</td>\n",
       "    </tr>\n",
       "  </tbody>\n",
       "</table>\n",
       "</div>"
      ],
      "text/plain": [
       "     category_cc   join_date                   channel  \\\n",
       "0         Gaming  2010-04-29  UC-lHJZR3Gqxm24_Vd_AJ5Yw   \n",
       "1      Education  2006-09-01  UCbCmjCuTUZos6Inko4u57UQ   \n",
       "2  Entertainment  2006-09-20  UCpEhnqL0y41EpW2TvWAHD7Q   \n",
       "3  Howto & Style  2016-11-15  UC295-Dw_tDNtZXFeAPAW6Aw   \n",
       "4         Sports  2007-05-11  UCJ5v_MCY6GNUBTO8-D3XoAg   \n",
       "\n",
       "                   name_cc  subscribers_cc  videos_cc  subscriber_rank_sb  \\\n",
       "0                PewDiePie       101000000       3956                 3.0   \n",
       "1  Cocomelon - Nursery ...        60100000        458                 7.0   \n",
       "2                SET India        56018869      32661                 8.0   \n",
       "3          5-Minute Crafts        60600000       3591                 9.0   \n",
       "4                      WWE        48400000      43421                11.0   \n",
       "\n",
       "   weights  \n",
       "0    2.087  \n",
       "1    2.087  \n",
       "2    2.087  \n",
       "3    2.087  \n",
       "4    2.087  "
      ]
     },
     "execution_count": 7,
     "metadata": {},
     "output_type": "execute_result"
    }
   ],
   "source": [
    "channelcrawler_projection.head()"
   ]
  },
  {
   "cell_type": "markdown",
   "metadata": {},
   "source": [
    "### Gender axis: men vs women"
   ]
  },
  {
   "cell_type": "code",
   "execution_count": 8,
   "metadata": {},
   "outputs": [
    {
     "data": {
      "text/html": [
       "<div>\n",
       "<style scoped>\n",
       "    .dataframe tbody tr th:only-of-type {\n",
       "        vertical-align: middle;\n",
       "    }\n",
       "\n",
       "    .dataframe tbody tr th {\n",
       "        vertical-align: top;\n",
       "    }\n",
       "\n",
       "    .dataframe thead th {\n",
       "        text-align: right;\n",
       "    }\n",
       "</style>\n",
       "<table border=\"1\" class=\"dataframe\">\n",
       "  <thead>\n",
       "    <tr style=\"text-align: right;\">\n",
       "      <th></th>\n",
       "      <th>category_cc</th>\n",
       "      <th>join_date</th>\n",
       "      <th>channel</th>\n",
       "      <th>name_cc</th>\n",
       "      <th>subscribers_cc</th>\n",
       "      <th>videos_cc</th>\n",
       "      <th>subscriber_rank_sb</th>\n",
       "      <th>weights</th>\n",
       "    </tr>\n",
       "  </thead>\n",
       "  <tbody>\n",
       "    <tr>\n",
       "      <th>2519</th>\n",
       "      <td>Howto &amp; Style</td>\n",
       "      <td>2011-09-29</td>\n",
       "      <td>UCZyCposXwcyopaACep44maQ</td>\n",
       "      <td>Alex Costa</td>\n",
       "      <td>2120000</td>\n",
       "      <td>543</td>\n",
       "      <td>5370.0</td>\n",
       "      <td>2.417</td>\n",
       "    </tr>\n",
       "  </tbody>\n",
       "</table>\n",
       "</div>"
      ],
      "text/plain": [
       "        category_cc   join_date                   channel     name_cc  \\\n",
       "2519  Howto & Style  2011-09-29  UCZyCposXwcyopaACep44maQ  Alex Costa   \n",
       "\n",
       "      subscribers_cc  videos_cc  subscriber_rank_sb  weights  \n",
       "2519         2120000        543              5370.0    2.417  "
      ]
     },
     "execution_count": 8,
     "metadata": {},
     "output_type": "execute_result"
    }
   ],
   "source": [
    "# Here you will find everything about: Men's Fashion, Hairstyle, Fitness & Health, Personal Vlogs and Tech.\n",
    "channelcrawler_projection[channelcrawler_projection['name_cc'] == 'Alex Costa']"
   ]
  },
  {
   "cell_type": "code",
   "execution_count": 9,
   "metadata": {},
   "outputs": [
    {
     "data": {
      "text/html": [
       "<div>\n",
       "<style scoped>\n",
       "    .dataframe tbody tr th:only-of-type {\n",
       "        vertical-align: middle;\n",
       "    }\n",
       "\n",
       "    .dataframe tbody tr th {\n",
       "        vertical-align: top;\n",
       "    }\n",
       "\n",
       "    .dataframe thead th {\n",
       "        text-align: right;\n",
       "    }\n",
       "</style>\n",
       "<table border=\"1\" class=\"dataframe\">\n",
       "  <thead>\n",
       "    <tr style=\"text-align: right;\">\n",
       "      <th></th>\n",
       "      <th>category_cc</th>\n",
       "      <th>join_date</th>\n",
       "      <th>channel</th>\n",
       "      <th>name_cc</th>\n",
       "      <th>subscribers_cc</th>\n",
       "      <th>videos_cc</th>\n",
       "      <th>subscriber_rank_sb</th>\n",
       "      <th>weights</th>\n",
       "    </tr>\n",
       "  </thead>\n",
       "  <tbody>\n",
       "    <tr>\n",
       "      <th>1737</th>\n",
       "      <td>Howto &amp; Style</td>\n",
       "      <td>2009-01-18</td>\n",
       "      <td>UCMpOz2KEfkSdd5JeIJh_fxw</td>\n",
       "      <td>Shaaanxo</td>\n",
       "      <td>3215340</td>\n",
       "      <td>1422</td>\n",
       "      <td>3566.0</td>\n",
       "      <td>2.278</td>\n",
       "    </tr>\n",
       "  </tbody>\n",
       "</table>\n",
       "</div>"
      ],
      "text/plain": [
       "        category_cc   join_date                   channel   name_cc  \\\n",
       "1737  Howto & Style  2009-01-18  UCMpOz2KEfkSdd5JeIJh_fxw  Shaaanxo   \n",
       "\n",
       "      subscribers_cc  videos_cc  subscriber_rank_sb  weights  \n",
       "1737         3215340       1422              3566.0    2.278  "
      ]
     },
     "execution_count": 9,
     "metadata": {},
     "output_type": "execute_result"
    }
   ],
   "source": [
    "# vlog channel about make up, hair transformation, rings selections, ...\n",
    "channelcrawler_projection[channelcrawler_projection['name_cc'] == 'Shaaanxo']"
   ]
  },
  {
   "cell_type": "code",
   "execution_count": 10,
   "metadata": {
    "scrolled": false
   },
   "outputs": [],
   "source": [
    "gender_seed = (dict_channel_ind['UCMpOz2KEfkSdd5JeIJh_fxw'], dict_channel_ind['UCZyCposXwcyopaACep44maQ'])\n",
    "\n",
    "gender_axis, df_gender_axis = compute_axis_vector_based_on_seed(PATH, k, gender_seed, nb_selected_pairs, selected_channels, channelcrawler_projection, dict_ind_channel)\n"
   ]
  },
  {
   "cell_type": "code",
   "execution_count": 11,
   "metadata": {},
   "outputs": [
    {
     "data": {
      "text/html": [
       "<div>\n",
       "<style scoped>\n",
       "    .dataframe tbody tr th:only-of-type {\n",
       "        vertical-align: middle;\n",
       "    }\n",
       "\n",
       "    .dataframe tbody tr th {\n",
       "        vertical-align: top;\n",
       "    }\n",
       "\n",
       "    .dataframe thead th {\n",
       "        text-align: right;\n",
       "    }\n",
       "</style>\n",
       "<table border=\"1\" class=\"dataframe\">\n",
       "  <thead>\n",
       "    <tr style=\"text-align: right;\">\n",
       "      <th></th>\n",
       "      <th>category_cc</th>\n",
       "      <th>join_date</th>\n",
       "      <th>channel</th>\n",
       "      <th>name_cc</th>\n",
       "      <th>subscribers_cc</th>\n",
       "      <th>videos_cc</th>\n",
       "      <th>subscriber_rank_sb</th>\n",
       "      <th>weights</th>\n",
       "    </tr>\n",
       "  </thead>\n",
       "  <tbody>\n",
       "    <tr>\n",
       "      <th>124</th>\n",
       "      <td>Entertainment</td>\n",
       "      <td>2015-12-01</td>\n",
       "      <td>UCucot-Zp428OwkyRm2I7v2Q</td>\n",
       "      <td>James Charles</td>\n",
       "      <td>16100000</td>\n",
       "      <td>234</td>\n",
       "      <td>190.0</td>\n",
       "      <td>2.0870</td>\n",
       "    </tr>\n",
       "    <tr>\n",
       "      <th>83</th>\n",
       "      <td>Entertainment</td>\n",
       "      <td>2015-08-29</td>\n",
       "      <td>UCG8rbF3g2AMX70yOd8vqIZg</td>\n",
       "      <td>Logan Paul Vlogs</td>\n",
       "      <td>19800000</td>\n",
       "      <td>645</td>\n",
       "      <td>136.0</td>\n",
       "      <td>2.0870</td>\n",
       "    </tr>\n",
       "    <tr>\n",
       "      <th>5072</th>\n",
       "      <td>Howto &amp; Style</td>\n",
       "      <td>2008-04-07</td>\n",
       "      <td>UC0FK_3h0Ec2iBKJ_Ah2su7A</td>\n",
       "      <td>itsjudytime</td>\n",
       "      <td>1330000</td>\n",
       "      <td>643</td>\n",
       "      <td>11957.0</td>\n",
       "      <td>2.6995</td>\n",
       "    </tr>\n",
       "    <tr>\n",
       "      <th>817</th>\n",
       "      <td>Education</td>\n",
       "      <td>2006-11-17</td>\n",
       "      <td>UC4a-Gbdw7vOaccHmFo40b9g</td>\n",
       "      <td>Khan Academy</td>\n",
       "      <td>5060000</td>\n",
       "      <td>7445</td>\n",
       "      <td>1557.0</td>\n",
       "      <td>2.0870</td>\n",
       "    </tr>\n",
       "    <tr>\n",
       "      <th>1504</th>\n",
       "      <td>Entertainment</td>\n",
       "      <td>2015-04-28</td>\n",
       "      <td>UCoc_XJPj6YLMQDWtPDQcDtA</td>\n",
       "      <td>Brad Mondo</td>\n",
       "      <td>3300000</td>\n",
       "      <td>254</td>\n",
       "      <td>3055.0</td>\n",
       "      <td>2.2320</td>\n",
       "    </tr>\n",
       "    <tr>\n",
       "      <th>2864</th>\n",
       "      <td>Howto &amp; Style</td>\n",
       "      <td>2013-10-29</td>\n",
       "      <td>UC2-_WWPT_124iN6jiym4fOw</td>\n",
       "      <td>Asian Boss</td>\n",
       "      <td>1810000</td>\n",
       "      <td>484</td>\n",
       "      <td>6224.0</td>\n",
       "      <td>2.4635</td>\n",
       "    </tr>\n",
       "    <tr>\n",
       "      <th>99840</th>\n",
       "      <td>Howto &amp; Style</td>\n",
       "      <td>2006-09-19</td>\n",
       "      <td>UCaq6DCIyl1i_Q52AHpYDdsQ</td>\n",
       "      <td>Bath &amp; Body Works</td>\n",
       "      <td>20600</td>\n",
       "      <td>139</td>\n",
       "      <td>544678.0</td>\n",
       "      <td>8.2610</td>\n",
       "    </tr>\n",
       "    <tr>\n",
       "      <th>111379</th>\n",
       "      <td>Howto &amp; Style</td>\n",
       "      <td>2010-01-23</td>\n",
       "      <td>UC56cNeUHJYDJIrW7YJJRZVA</td>\n",
       "      <td>Classy Cheapskate</td>\n",
       "      <td>16200</td>\n",
       "      <td>154</td>\n",
       "      <td>655103.0</td>\n",
       "      <td>8.5270</td>\n",
       "    </tr>\n",
       "    <tr>\n",
       "      <th>6343</th>\n",
       "      <td>Gaming</td>\n",
       "      <td>2013-01-31</td>\n",
       "      <td>UCBrMq7wkdPWb3PxR-GUR61A</td>\n",
       "      <td>Hay Day</td>\n",
       "      <td>1010000</td>\n",
       "      <td>73</td>\n",
       "      <td>15439.0</td>\n",
       "      <td>2.8235</td>\n",
       "    </tr>\n",
       "    <tr>\n",
       "      <th>29622</th>\n",
       "      <td>People &amp; Blogs</td>\n",
       "      <td>2013-04-16</td>\n",
       "      <td>UCwcuLrTyxEGKq21fGXdLb6A</td>\n",
       "      <td>Better World</td>\n",
       "      <td>189000</td>\n",
       "      <td>29</td>\n",
       "      <td>96658.0</td>\n",
       "      <td>3.5450</td>\n",
       "    </tr>\n",
       "  </tbody>\n",
       "</table>\n",
       "</div>"
      ],
      "text/plain": [
       "           category_cc   join_date                   channel  \\\n",
       "124      Entertainment  2015-12-01  UCucot-Zp428OwkyRm2I7v2Q   \n",
       "83       Entertainment  2015-08-29  UCG8rbF3g2AMX70yOd8vqIZg   \n",
       "5072     Howto & Style  2008-04-07  UC0FK_3h0Ec2iBKJ_Ah2su7A   \n",
       "817          Education  2006-11-17  UC4a-Gbdw7vOaccHmFo40b9g   \n",
       "1504     Entertainment  2015-04-28  UCoc_XJPj6YLMQDWtPDQcDtA   \n",
       "2864     Howto & Style  2013-10-29  UC2-_WWPT_124iN6jiym4fOw   \n",
       "99840    Howto & Style  2006-09-19  UCaq6DCIyl1i_Q52AHpYDdsQ   \n",
       "111379   Howto & Style  2010-01-23  UC56cNeUHJYDJIrW7YJJRZVA   \n",
       "6343            Gaming  2013-01-31  UCBrMq7wkdPWb3PxR-GUR61A   \n",
       "29622   People & Blogs  2013-04-16  UCwcuLrTyxEGKq21fGXdLb6A   \n",
       "\n",
       "                  name_cc  subscribers_cc  videos_cc  subscriber_rank_sb  \\\n",
       "124         James Charles        16100000        234               190.0   \n",
       "83       Logan Paul Vlogs        19800000        645               136.0   \n",
       "5072          itsjudytime         1330000        643             11957.0   \n",
       "817          Khan Academy         5060000       7445              1557.0   \n",
       "1504           Brad Mondo         3300000        254              3055.0   \n",
       "2864           Asian Boss         1810000        484              6224.0   \n",
       "99840   Bath & Body Works           20600        139            544678.0   \n",
       "111379  Classy Cheapskate           16200        154            655103.0   \n",
       "6343              Hay Day         1010000         73             15439.0   \n",
       "29622        Better World          189000         29             96658.0   \n",
       "\n",
       "        weights  \n",
       "124      2.0870  \n",
       "83       2.0870  \n",
       "5072     2.6995  \n",
       "817      2.0870  \n",
       "1504     2.2320  \n",
       "2864     2.4635  \n",
       "99840    8.2610  \n",
       "111379   8.5270  \n",
       "6343     2.8235  \n",
       "29622    3.5450  "
      ]
     },
     "execution_count": 11,
     "metadata": {},
     "output_type": "execute_result"
    }
   ],
   "source": [
    "df_gender_axis"
   ]
  },
  {
   "cell_type": "code",
   "execution_count": null,
   "metadata": {},
   "outputs": [],
   "source": []
  },
  {
   "cell_type": "markdown",
   "metadata": {},
   "source": [
    "### Age axis: kids vs adult"
   ]
  },
  {
   "cell_type": "code",
   "execution_count": 12,
   "metadata": {},
   "outputs": [
    {
     "data": {
      "text/html": [
       "<div>\n",
       "<style scoped>\n",
       "    .dataframe tbody tr th:only-of-type {\n",
       "        vertical-align: middle;\n",
       "    }\n",
       "\n",
       "    .dataframe tbody tr th {\n",
       "        vertical-align: top;\n",
       "    }\n",
       "\n",
       "    .dataframe thead th {\n",
       "        text-align: right;\n",
       "    }\n",
       "</style>\n",
       "<table border=\"1\" class=\"dataframe\">\n",
       "  <thead>\n",
       "    <tr style=\"text-align: right;\">\n",
       "      <th></th>\n",
       "      <th>category_cc</th>\n",
       "      <th>join_date</th>\n",
       "      <th>channel</th>\n",
       "      <th>name_cc</th>\n",
       "      <th>subscribers_cc</th>\n",
       "      <th>videos_cc</th>\n",
       "      <th>subscriber_rank_sb</th>\n",
       "      <th>weights</th>\n",
       "    </tr>\n",
       "  </thead>\n",
       "  <tbody>\n",
       "    <tr>\n",
       "      <th>8280</th>\n",
       "      <td>Film and Animation</td>\n",
       "      <td>2013-12-17</td>\n",
       "      <td>UCISF5OGuAtSLNF24TKTnXag</td>\n",
       "      <td>Magpiepony</td>\n",
       "      <td>736000</td>\n",
       "      <td>304</td>\n",
       "      <td>21120.0</td>\n",
       "      <td>2.9225</td>\n",
       "    </tr>\n",
       "  </tbody>\n",
       "</table>\n",
       "</div>"
      ],
      "text/plain": [
       "             category_cc   join_date                   channel     name_cc  \\\n",
       "8280  Film and Animation  2013-12-17  UCISF5OGuAtSLNF24TKTnXag  Magpiepony   \n",
       "\n",
       "      subscribers_cc  videos_cc  subscriber_rank_sb  weights  \n",
       "8280          736000        304             21120.0   2.9225  "
      ]
     },
     "execution_count": 12,
     "metadata": {},
     "output_type": "execute_result"
    }
   ],
   "source": [
    "# Animation for kids\n",
    "channelcrawler_projection[channelcrawler_projection['name_cc'] == \"Magpiepony\"]"
   ]
  },
  {
   "cell_type": "code",
   "execution_count": 13,
   "metadata": {},
   "outputs": [
    {
     "data": {
      "text/html": [
       "<div>\n",
       "<style scoped>\n",
       "    .dataframe tbody tr th:only-of-type {\n",
       "        vertical-align: middle;\n",
       "    }\n",
       "\n",
       "    .dataframe tbody tr th {\n",
       "        vertical-align: top;\n",
       "    }\n",
       "\n",
       "    .dataframe thead th {\n",
       "        text-align: right;\n",
       "    }\n",
       "</style>\n",
       "<table border=\"1\" class=\"dataframe\">\n",
       "  <thead>\n",
       "    <tr style=\"text-align: right;\">\n",
       "      <th></th>\n",
       "      <th>category_cc</th>\n",
       "      <th>join_date</th>\n",
       "      <th>channel</th>\n",
       "      <th>name_cc</th>\n",
       "      <th>subscribers_cc</th>\n",
       "      <th>videos_cc</th>\n",
       "      <th>subscriber_rank_sb</th>\n",
       "      <th>weights</th>\n",
       "    </tr>\n",
       "  </thead>\n",
       "  <tbody>\n",
       "    <tr>\n",
       "      <th>7841</th>\n",
       "      <td>Entertainment</td>\n",
       "      <td>2008-11-03</td>\n",
       "      <td>UCAXR2zenCwvRIyQd9ydtfaA</td>\n",
       "      <td>Beyond The Trailer</td>\n",
       "      <td>853000</td>\n",
       "      <td>5064</td>\n",
       "      <td>19744.0</td>\n",
       "      <td>2.8635</td>\n",
       "    </tr>\n",
       "  </tbody>\n",
       "</table>\n",
       "</div>"
      ],
      "text/plain": [
       "        category_cc   join_date                   channel             name_cc  \\\n",
       "7841  Entertainment  2008-11-03  UCAXR2zenCwvRIyQd9ydtfaA  Beyond The Trailer   \n",
       "\n",
       "      subscribers_cc  videos_cc  subscriber_rank_sb  weights  \n",
       "7841          853000       5064             19744.0   2.8635  "
      ]
     },
     "execution_count": 13,
     "metadata": {},
     "output_type": "execute_result"
    }
   ],
   "source": [
    "# Channel analysing the films\n",
    "channelcrawler_projection[channelcrawler_projection['name_cc'] == 'Beyond The Trailer']"
   ]
  },
  {
   "cell_type": "code",
   "execution_count": 14,
   "metadata": {
    "scrolled": false
   },
   "outputs": [],
   "source": [
    "age_seed = (dict_channel_ind['UCISF5OGuAtSLNF24TKTnXag'], dict_channel_ind['UCAXR2zenCwvRIyQd9ydtfaA'])\n",
    "\n",
    "age_axis, df_output_age = compute_axis_vector_based_on_seed(PATH, k, age_seed, nb_selected_pairs, selected_channels, channelcrawler_projection, dict_ind_channel)"
   ]
  },
  {
   "cell_type": "code",
   "execution_count": 15,
   "metadata": {},
   "outputs": [
    {
     "data": {
      "text/html": [
       "<div>\n",
       "<style scoped>\n",
       "    .dataframe tbody tr th:only-of-type {\n",
       "        vertical-align: middle;\n",
       "    }\n",
       "\n",
       "    .dataframe tbody tr th {\n",
       "        vertical-align: top;\n",
       "    }\n",
       "\n",
       "    .dataframe thead th {\n",
       "        text-align: right;\n",
       "    }\n",
       "</style>\n",
       "<table border=\"1\" class=\"dataframe\">\n",
       "  <thead>\n",
       "    <tr style=\"text-align: right;\">\n",
       "      <th></th>\n",
       "      <th>category_cc</th>\n",
       "      <th>join_date</th>\n",
       "      <th>channel</th>\n",
       "      <th>name_cc</th>\n",
       "      <th>subscribers_cc</th>\n",
       "      <th>videos_cc</th>\n",
       "      <th>subscriber_rank_sb</th>\n",
       "      <th>weights</th>\n",
       "    </tr>\n",
       "  </thead>\n",
       "  <tbody>\n",
       "    <tr>\n",
       "      <th>25655</th>\n",
       "      <td>Entertainment</td>\n",
       "      <td>2006-03-07</td>\n",
       "      <td>UCWP69o3B8jKd-Hz7NVILWTw</td>\n",
       "      <td>JHaller</td>\n",
       "      <td>222000</td>\n",
       "      <td>393</td>\n",
       "      <td>80049.0</td>\n",
       "      <td>4.1515</td>\n",
       "    </tr>\n",
       "    <tr>\n",
       "      <th>1806</th>\n",
       "      <td>Gaming</td>\n",
       "      <td>2008-04-05</td>\n",
       "      <td>UC22TOQWJue006Lp6DB5QhDA</td>\n",
       "      <td>UberHaxorNova</td>\n",
       "      <td>3080000</td>\n",
       "      <td>5787</td>\n",
       "      <td>3754.0</td>\n",
       "      <td>2.2765</td>\n",
       "    </tr>\n",
       "    <tr>\n",
       "      <th>22698</th>\n",
       "      <td>Gaming</td>\n",
       "      <td>2009-10-26</td>\n",
       "      <td>UCODf0evwDARJHE9BilifYEQ</td>\n",
       "      <td>Ratchet Noblewolf</td>\n",
       "      <td>240000</td>\n",
       "      <td>1952</td>\n",
       "      <td>69477.0</td>\n",
       "      <td>3.9050</td>\n",
       "    </tr>\n",
       "    <tr>\n",
       "      <th>15980</th>\n",
       "      <td>Gaming</td>\n",
       "      <td>2012-01-11</td>\n",
       "      <td>UCn_c8Eon88kdig-n0WDSrdg</td>\n",
       "      <td>RandomBlackGamer</td>\n",
       "      <td>374000</td>\n",
       "      <td>532</td>\n",
       "      <td>45235.0</td>\n",
       "      <td>3.3430</td>\n",
       "    </tr>\n",
       "    <tr>\n",
       "      <th>4332</th>\n",
       "      <td>Film and Animation</td>\n",
       "      <td>2012-09-09</td>\n",
       "      <td>UCzfyYtgvkx5mLy8nlLlayYg</td>\n",
       "      <td>Vivziepop</td>\n",
       "      <td>1430000</td>\n",
       "      <td>225</td>\n",
       "      <td>10041.0</td>\n",
       "      <td>2.6435</td>\n",
       "    </tr>\n",
       "    <tr>\n",
       "      <th>629</th>\n",
       "      <td>Film and Animation</td>\n",
       "      <td>2008-10-03</td>\n",
       "      <td>UCOpcACMWblDls9Z6GERVi1A</td>\n",
       "      <td>Screen Junkies</td>\n",
       "      <td>6660000</td>\n",
       "      <td>1014</td>\n",
       "      <td>1096.0</td>\n",
       "      <td>2.0870</td>\n",
       "    </tr>\n",
       "    <tr>\n",
       "      <th>1180</th>\n",
       "      <td>Entertainment</td>\n",
       "      <td>2010-08-25</td>\n",
       "      <td>UCYAB7hh1ohA8-iX54EpMdeA</td>\n",
       "      <td>Moriah Elizabeth</td>\n",
       "      <td>3510000</td>\n",
       "      <td>215</td>\n",
       "      <td>2307.0</td>\n",
       "      <td>2.1670</td>\n",
       "    </tr>\n",
       "    <tr>\n",
       "      <th>304</th>\n",
       "      <td>Entertainment</td>\n",
       "      <td>2012-08-24</td>\n",
       "      <td>UCd1fLoVFooPeWqCEYVUJZqg</td>\n",
       "      <td>Matt Stonie</td>\n",
       "      <td>9580000</td>\n",
       "      <td>343</td>\n",
       "      <td>496.0</td>\n",
       "      <td>2.0870</td>\n",
       "    </tr>\n",
       "    <tr>\n",
       "      <th>41</th>\n",
       "      <td>Gaming</td>\n",
       "      <td>2012-05-26</td>\n",
       "      <td>UC7_YxT-KID8kRbqZo7MyscQ</td>\n",
       "      <td>Markiplier</td>\n",
       "      <td>24400000</td>\n",
       "      <td>4484</td>\n",
       "      <td>86.0</td>\n",
       "      <td>2.0870</td>\n",
       "    </tr>\n",
       "    <tr>\n",
       "      <th>208</th>\n",
       "      <td>Gaming</td>\n",
       "      <td>2006-09-19</td>\n",
       "      <td>UCKy1dAqELo0zrOtPkf0eTMw</td>\n",
       "      <td>IGN</td>\n",
       "      <td>12400000</td>\n",
       "      <td>134606</td>\n",
       "      <td>333.0</td>\n",
       "      <td>2.0870</td>\n",
       "    </tr>\n",
       "  </tbody>\n",
       "</table>\n",
       "</div>"
      ],
      "text/plain": [
       "              category_cc   join_date                   channel  \\\n",
       "25655       Entertainment  2006-03-07  UCWP69o3B8jKd-Hz7NVILWTw   \n",
       "1806               Gaming  2008-04-05  UC22TOQWJue006Lp6DB5QhDA   \n",
       "22698              Gaming  2009-10-26  UCODf0evwDARJHE9BilifYEQ   \n",
       "15980              Gaming  2012-01-11  UCn_c8Eon88kdig-n0WDSrdg   \n",
       "4332   Film and Animation  2012-09-09  UCzfyYtgvkx5mLy8nlLlayYg   \n",
       "629    Film and Animation  2008-10-03  UCOpcACMWblDls9Z6GERVi1A   \n",
       "1180        Entertainment  2010-08-25  UCYAB7hh1ohA8-iX54EpMdeA   \n",
       "304         Entertainment  2012-08-24  UCd1fLoVFooPeWqCEYVUJZqg   \n",
       "41                 Gaming  2012-05-26  UC7_YxT-KID8kRbqZo7MyscQ   \n",
       "208                Gaming  2006-09-19  UCKy1dAqELo0zrOtPkf0eTMw   \n",
       "\n",
       "                 name_cc  subscribers_cc  videos_cc  subscriber_rank_sb  \\\n",
       "25655            JHaller          222000        393             80049.0   \n",
       "1806       UberHaxorNova         3080000       5787              3754.0   \n",
       "22698  Ratchet Noblewolf          240000       1952             69477.0   \n",
       "15980   RandomBlackGamer          374000        532             45235.0   \n",
       "4332           Vivziepop         1430000        225             10041.0   \n",
       "629       Screen Junkies         6660000       1014              1096.0   \n",
       "1180    Moriah Elizabeth         3510000        215              2307.0   \n",
       "304          Matt Stonie         9580000        343               496.0   \n",
       "41            Markiplier        24400000       4484                86.0   \n",
       "208                  IGN        12400000     134606               333.0   \n",
       "\n",
       "       weights  \n",
       "25655   4.1515  \n",
       "1806    2.2765  \n",
       "22698   3.9050  \n",
       "15980   3.3430  \n",
       "4332    2.6435  \n",
       "629     2.0870  \n",
       "1180    2.1670  \n",
       "304     2.0870  \n",
       "41      2.0870  \n",
       "208     2.0870  "
      ]
     },
     "execution_count": 15,
     "metadata": {},
     "output_type": "execute_result"
    }
   ],
   "source": [
    "df_output_age"
   ]
  },
  {
   "cell_type": "markdown",
   "metadata": {},
   "source": [
    "## Validation of the created axis"
   ]
  },
  {
   "cell_type": "code",
   "execution_count": 16,
   "metadata": {},
   "outputs": [],
   "source": [
    "EMBEDDING = get_dataframe_in_embedding_space(PATH)"
   ]
  },
  {
   "cell_type": "code",
   "execution_count": 17,
   "metadata": {},
   "outputs": [],
   "source": [
    "# Select the rows being in the select channels (english channels)\n",
    "channelcrawler = pd.read_csv(\"/dlabdata1/youtube_large/df_channels_en.tsv.gz\", sep='\\t')\n",
    "channelcrawler = channelcrawler[channelcrawler['channel'].apply(lambda row: row in channels_id)]"
   ]
  },
  {
   "cell_type": "code",
   "execution_count": 18,
   "metadata": {},
   "outputs": [],
   "source": [
    "dict_idx_name, dict_name_idx = channel_to_name(channelcrawler, dict_channel_ind)"
   ]
  },
  {
   "cell_type": "markdown",
   "metadata": {},
   "source": [
    "#### 1. Projection of the gender axis"
   ]
  },
  {
   "cell_type": "code",
   "execution_count": 19,
   "metadata": {},
   "outputs": [],
   "source": [
    "df_gender_projection = create_projection(EMBEDDING, gender_axis, dict_idx_name)"
   ]
  },
  {
   "cell_type": "code",
   "execution_count": 20,
   "metadata": {},
   "outputs": [],
   "source": [
    "# Inverse the signs for color matiching ...\n",
    "df_gender_projection['projection'] = -df_gender_projection['projection']"
   ]
  },
  {
   "cell_type": "code",
   "execution_count": 21,
   "metadata": {},
   "outputs": [
    {
     "data": {
      "text/html": [
       "<div>\n",
       "<style scoped>\n",
       "    .dataframe tbody tr th:only-of-type {\n",
       "        vertical-align: middle;\n",
       "    }\n",
       "\n",
       "    .dataframe tbody tr th {\n",
       "        vertical-align: top;\n",
       "    }\n",
       "\n",
       "    .dataframe thead th {\n",
       "        text-align: right;\n",
       "    }\n",
       "</style>\n",
       "<table border=\"1\" class=\"dataframe\">\n",
       "  <thead>\n",
       "    <tr style=\"text-align: right;\">\n",
       "      <th></th>\n",
       "      <th>name</th>\n",
       "      <th>projection</th>\n",
       "    </tr>\n",
       "  </thead>\n",
       "  <tbody>\n",
       "    <tr>\n",
       "      <th>0</th>\n",
       "      <td>Winded Voyage Sailin...</td>\n",
       "      <td>0.312955</td>\n",
       "    </tr>\n",
       "    <tr>\n",
       "      <th>1</th>\n",
       "      <td>The Night Fury</td>\n",
       "      <td>0.515675</td>\n",
       "    </tr>\n",
       "    <tr>\n",
       "      <th>2</th>\n",
       "      <td>Red Bull Surfing</td>\n",
       "      <td>2.479996</td>\n",
       "    </tr>\n",
       "    <tr>\n",
       "      <th>3</th>\n",
       "      <td>Heidi Joubert</td>\n",
       "      <td>4.405351</td>\n",
       "    </tr>\n",
       "    <tr>\n",
       "      <th>4</th>\n",
       "      <td>MR JC</td>\n",
       "      <td>-0.270370</td>\n",
       "    </tr>\n",
       "  </tbody>\n",
       "</table>\n",
       "</div>"
      ],
      "text/plain": [
       "                      name  projection\n",
       "0  Winded Voyage Sailin...    0.312955\n",
       "1           The Night Fury    0.515675\n",
       "2         Red Bull Surfing    2.479996\n",
       "3            Heidi Joubert    4.405351\n",
       "4                    MR JC   -0.270370"
      ]
     },
     "execution_count": 21,
     "metadata": {},
     "output_type": "execute_result"
    }
   ],
   "source": [
    "df_gender_projection.head()"
   ]
  },
  {
   "cell_type": "code",
   "execution_count": 22,
   "metadata": {},
   "outputs": [],
   "source": [
    "seed_gender_name = ('Alex Costa', 'Shaaanxo')"
   ]
  },
  {
   "cell_type": "code",
   "execution_count": 23,
   "metadata": {},
   "outputs": [
    {
     "name": "stderr",
     "output_type": "stream",
     "text": [
      "No handles with labels found to put in legend.\n"
     ]
    },
    {
     "data": {
      "image/png": "[encoded data removed]",
      "text/plain": [
       "<Figure size 720x432 with 1 Axes>"
      ]
     },
     "metadata": {
      "needs_background": "light"
     },
     "output_type": "display_data"
    }
   ],
   "source": [
    "visualization(df_gender_projection, seed_gender_name, 'PiYG', 50, 'Distribution of the gender axis projection scores')"
   ]
  },
  {
   "cell_type": "code",
   "execution_count": 24,
   "metadata": {},
   "outputs": [
    {
     "data": {
      "image/png": "[encoded data removed]",
      "text/plain": [
       "<Figure size 720x432 with 1 Axes>"
      ]
     },
     "metadata": {
      "needs_background": "light"
     },
     "output_type": "display_data"
    }
   ],
   "source": [
    "color = 'PiYG'\n",
    "cm = plt.cm.get_cmap(color)\n",
    "selected_pairs = 10\n",
    "\n",
    "df_left  = df_gender_projection.sort_values(by = ['projection'])[:selected_pairs]\n",
    "df_right = df_gender_projection.sort_values(by = ['projection'], ascending = False)[:selected_pairs]\n",
    "create_plot(df_left, df_right, selected_pairs, \"Gender projection: Channels at the poles\", (10, 6), cm)"
   ]
  },
  {
   "cell_type": "markdown",
   "metadata": {},
   "source": [
    "In the plot above, negative projection value should correspond to men channel whereas positive projection value should correspond to women channel."
   ]
  },
  {
   "cell_type": "code",
   "execution_count": 25,
   "metadata": {},
   "outputs": [
    {
     "data": {
      "text/plain": [
       "'\\ncolor = \\'PiYG\\'\\ncm = plt.cm.get_cmap(color)\\nselected_pairs = 10\\n\\nmask     = df_gender_projection[\\'projection\\'].gt(0)\\ndf_left  = df_gender_projection[~mask]\\ndf_left  = df_left.iloc[random.sample(list(np.arange(len(df_left))), selected_pairs)].sort_values(by = [\\'projection\\'])\\ndf_right = df_gender_projection[mask]\\ndf_right = df_right.iloc[random.sample(list(np.arange(len(df_right))), selected_pairs)].sort_values(by = [\\'projection\\'], ascending = False)\\ncreate_plot(df_left, df_right, selected_pairs, \"Gender projection: Channels taken at random\", (7, 6))\\n'"
      ]
     },
     "execution_count": 25,
     "metadata": {},
     "output_type": "execute_result"
    }
   ],
   "source": [
    "'''\n",
    "color = 'PiYG'\n",
    "cm = plt.cm.get_cmap(color)\n",
    "selected_pairs = 10\n",
    "\n",
    "mask     = df_gender_projection['projection'].gt(0)\n",
    "df_left  = df_gender_projection[~mask]\n",
    "df_left  = df_left.iloc[random.sample(list(np.arange(len(df_left))), selected_pairs)].sort_values(by = ['projection'])\n",
    "df_right = df_gender_projection[mask]\n",
    "df_right = df_right.iloc[random.sample(list(np.arange(len(df_right))), selected_pairs)].sort_values(by = ['projection'], ascending = False)\n",
    "create_plot(df_left, df_right, selected_pairs, \"Gender projection: Channels taken at random\", (7, 6))\n",
    "'''"
   ]
  },
  {
   "cell_type": "code",
   "execution_count": 26,
   "metadata": {},
   "outputs": [
    {
     "data": {
      "image/png": "[encoded data removed]",
      "text/plain": [
       "<Figure size 144x432 with 1 Axes>"
      ]
     },
     "metadata": {
      "needs_background": "light"
     },
     "output_type": "display_data"
    }
   ],
   "source": [
    "color = 'PiYG'\n",
    "cm = plt.cm.get_cmap(color)\n",
    "selected_pairs = 10\n",
    "\n",
    "mask     = df_gender_projection['projection'].gt(-0.15)\n",
    "df_left  = df_gender_projection[~mask].sort_values(by = ['projection'], ascending = False)[:selected_pairs]\n",
    "mask     = df_gender_projection['projection'].gt(0.15)\n",
    "df_right = df_gender_projection[mask].sort_values(by = ['projection'])[:selected_pairs]\n",
    "create_plot(df_left, df_right, selected_pairs, \"Gender projection: Channels at the center\", (2, 6), cm, 7)"
   ]
  },
  {
   "cell_type": "markdown",
   "metadata": {},
   "source": [
    "For channels at the borders we also observe a good classification of the different channels even if sometimes channels are hard to classify in terms of men vs women projection.\n",
    "\n",
    "Indeed, for example `Bentheloony` a cartoon channel, `Jason A` exposing statements made by celebrities or `The Tube Family` are classify as women channels but it would also make sense to classify them as men channels.\n",
    "\n",
    "On the men side, we observe a clearer distinction with gaming channels such as `The 8 bit Arcade`, `Infexious Rogue Guidance`, `Warrior From Heaven` or extreme jumps presented by the `Base Jump XTreme` channel.\n",
    "\n",
    "However, some misclassfications exist: `moonlight subliminals` a girl channel classified as men or `AshesWolf` a gaming channel classified as women. These misclassifcation are maybe due to the number of subscribers which are around 73k for `moonlight subliminals` and around 37k for `AshesWolf`."
   ]
  },
  {
   "cell_type": "code",
   "execution_count": 27,
   "metadata": {},
   "outputs": [
    {
     "data": {
      "image/png": "[encoded data removed]",
      "text/plain": [
       "<Figure size 288x180 with 1 Axes>"
      ]
     },
     "metadata": {
      "needs_background": "light"
     },
     "output_type": "display_data"
    }
   ],
   "source": [
    "df_right = pd.DataFrame()\n",
    "df_right = df_right.append(df_gender_projection[df_gender_projection['name'] == 'EminemMusic'])\n",
    "df_right = df_right.append(df_gender_projection[df_gender_projection['name'] == 'Kali Muscle'])\n",
    "df_right = df_right.append(df_gender_projection[df_gender_projection['name'] == 'Ninja'])\n",
    "df_right = df_right.append(df_gender_projection[df_gender_projection['name'] == 'BluMaan'])\n",
    "\n",
    "df_left = pd.DataFrame()\n",
    "df_left = df_left.append(df_gender_projection[df_gender_projection['name'] == 'Ariana Grande'])\n",
    "df_left = df_left.append(df_gender_projection[df_gender_projection['name'] == 'Kayla Itsines'])\n",
    "df_left = df_left.append(df_gender_projection[df_gender_projection['name'] == 'LaurenzSide'])\n",
    "df_left = df_left.append(df_gender_projection[df_gender_projection['name'] == 'Liza Koshy'])\n",
    "\n",
    "color = 'PiYG'\n",
    "cm = plt.cm.get_cmap(color)\n",
    "\n",
    "create_plot(df_left, df_right, 4, \"Gender projection: Selected channels comparison\", (4, 2.5), cm)\n"
   ]
  },
  {
   "cell_type": "markdown",
   "metadata": {},
   "source": [
    "Select reknown girl or men like channels and validate if these channels are indeed correctly classified.\n",
    "- first line: fashion channels\n",
    "- second line: gaming channels\n",
    "- third line: fitness channels\n",
    "- fourth line: music channels"
   ]
  },
  {
   "cell_type": "markdown",
   "metadata": {},
   "source": [
    "#### 2. Projection on the age axis"
   ]
  },
  {
   "cell_type": "markdown",
   "metadata": {},
   "source": [
    "Channels having a negative projections score should correspond to adult channels, positive projections score should correspond to kids channels"
   ]
  },
  {
   "cell_type": "code",
   "execution_count": 28,
   "metadata": {},
   "outputs": [
    {
     "data": {
      "text/html": [
       "<div>\n",
       "<style scoped>\n",
       "    .dataframe tbody tr th:only-of-type {\n",
       "        vertical-align: middle;\n",
       "    }\n",
       "\n",
       "    .dataframe tbody tr th {\n",
       "        vertical-align: top;\n",
       "    }\n",
       "\n",
       "    .dataframe thead th {\n",
       "        text-align: right;\n",
       "    }\n",
       "</style>\n",
       "<table border=\"1\" class=\"dataframe\">\n",
       "  <thead>\n",
       "    <tr style=\"text-align: right;\">\n",
       "      <th></th>\n",
       "      <th>name</th>\n",
       "      <th>projection</th>\n",
       "    </tr>\n",
       "  </thead>\n",
       "  <tbody>\n",
       "    <tr>\n",
       "      <th>0</th>\n",
       "      <td>Winded Voyage Sailin...</td>\n",
       "      <td>-1.501239</td>\n",
       "    </tr>\n",
       "    <tr>\n",
       "      <th>1</th>\n",
       "      <td>The Night Fury</td>\n",
       "      <td>3.302108</td>\n",
       "    </tr>\n",
       "    <tr>\n",
       "      <th>2</th>\n",
       "      <td>Red Bull Surfing</td>\n",
       "      <td>-1.729329</td>\n",
       "    </tr>\n",
       "    <tr>\n",
       "      <th>3</th>\n",
       "      <td>Heidi Joubert</td>\n",
       "      <td>-2.965041</td>\n",
       "    </tr>\n",
       "    <tr>\n",
       "      <th>4</th>\n",
       "      <td>MR JC</td>\n",
       "      <td>-0.146563</td>\n",
       "    </tr>\n",
       "  </tbody>\n",
       "</table>\n",
       "</div>"
      ],
      "text/plain": [
       "                      name  projection\n",
       "0  Winded Voyage Sailin...   -1.501239\n",
       "1           The Night Fury    3.302108\n",
       "2         Red Bull Surfing   -1.729329\n",
       "3            Heidi Joubert   -2.965041\n",
       "4                    MR JC   -0.146563"
      ]
     },
     "execution_count": 28,
     "metadata": {},
     "output_type": "execute_result"
    }
   ],
   "source": [
    "df_age_projection = create_projection(EMBEDDING, age_axis, dict_idx_name)\n",
    "df_age_projection.head()"
   ]
  },
  {
   "cell_type": "code",
   "execution_count": 29,
   "metadata": {},
   "outputs": [
    {
     "name": "stderr",
     "output_type": "stream",
     "text": [
      "No handles with labels found to put in legend.\n"
     ]
    },
    {
     "data": {
      "image/png": "[encoded data removed]",
      "text/plain": [
       "<Figure size 720x432 with 1 Axes>"
      ]
     },
     "metadata": {
      "needs_background": "light"
     },
     "output_type": "display_data"
    }
   ],
   "source": [
    "age_seed_name = (\"Magpiepony\", 'Beyond The Trailer')\n",
    "visualization(df_age_projection, age_seed_name, 'BrBG', 40, 'Distribution of the age axis projection score')"
   ]
  },
  {
   "cell_type": "code",
   "execution_count": 30,
   "metadata": {},
   "outputs": [
    {
     "data": {
      "image/png": "[encoded data removed]",
      "text/plain": [
       "<Figure size 720x720 with 1 Axes>"
      ]
     },
     "metadata": {
      "needs_background": "light"
     },
     "output_type": "display_data"
    }
   ],
   "source": [
    "color = 'BrBG'\n",
    "cm = plt.cm.get_cmap(color)\n",
    "selected_pairs = 10\n",
    "\n",
    "df_left  = df_age_projection.sort_values(by = ['projection'])[:selected_pairs]\n",
    "df_right = df_age_projection.sort_values(by = ['projection'], ascending = False)[:selected_pairs]\n",
    "create_plot(df_left, df_right, selected_pairs, \"Age projection: Channels at the poles\", (10, 10), cm)"
   ]
  },
  {
   "cell_type": "code",
   "execution_count": 31,
   "metadata": {},
   "outputs": [
    {
     "data": {
      "image/png": "[encoded data removed]",
      "text/plain": [
       "<Figure size 144x432 with 1 Axes>"
      ]
     },
     "metadata": {
      "needs_background": "light"
     },
     "output_type": "display_data"
    }
   ],
   "source": [
    "color = 'BrBG'\n",
    "cm = plt.cm.get_cmap(color)\n",
    "selected_pairs = 10\n",
    "\n",
    "mask     = df_age_projection['projection'].gt(-0.2)\n",
    "df_left  = df_age_projection[~mask].sort_values(by = ['projection'], ascending = False)[:selected_pairs]\n",
    "mask     = df_age_projection['projection'].gt(0.2)\n",
    "df_right = df_age_projection[mask].sort_values(by = ['projection'])[:selected_pairs]\n",
    "create_plot(df_left, df_right, selected_pairs, \"Gender projection: Channel at the center\", (2, 6), cm, 1)"
   ]
  },
  {
   "cell_type": "code",
   "execution_count": 32,
   "metadata": {},
   "outputs": [
    {
     "data": {
      "image/png": "[encoded data removed]",
      "text/plain": [
       "<Figure size 216x144 with 1 Axes>"
      ]
     },
     "metadata": {
      "needs_background": "light"
     },
     "output_type": "display_data"
    }
   ],
   "source": [
    "df_left = pd.DataFrame()\n",
    "df_left = df_left.append(df_gender_projection[df_gender_projection['name'] == 'Classical Tunes'])\n",
    "df_left = df_left.append(df_gender_projection[df_gender_projection['name'] == 'James Bond 007'])\n",
    "df_left = df_left.append(df_gender_projection[df_gender_projection['name'] == 'Call of Duty'])\n",
    "\n",
    "df_right = pd.DataFrame()\n",
    "df_right = df_right.append(df_gender_projection[df_gender_projection['name'] == 'Kids TV - Nursery Rh...'])\n",
    "df_right = df_right.append(df_gender_projection[df_gender_projection['name'] == 'Disney Channel'])\n",
    "df_right = df_right.append(df_gender_projection[df_gender_projection['name'] == 'Kids Games Tv'])\n",
    "\n",
    "color = 'PiYG'\n",
    "cm = plt.cm.get_cmap(color)\n",
    "\n",
    "create_plot(df_left, df_right, 3, \"Gender projection: Selected channels comparison\", (3, 2), cm)\n"
   ]
  },
  {
   "cell_type": "code",
   "execution_count": null,
   "metadata": {},
   "outputs": [],
   "source": []
  }
 ],
 "metadata": {
  "kernelspec": {
   "display_name": "Python 3",
   "language": "python",
   "name": "python3"
  },
  "language_info": {
   "codemirror_mode": {
    "name": "ipython",
    "version": 3
   },
   "file_extension": ".py",
   "mimetype": "text/x-python",
   "name": "python",
   "nbconvert_exporter": "python",
   "pygments_lexer": "ipython3",
   "version": "3.7.7"
  }
 },
 "nbformat": 4,
 "nbformat_minor": 4
}
