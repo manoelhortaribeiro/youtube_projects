{
 "cells": [
  {
   "cell_type": "markdown",
   "metadata": {},
   "source": [
    "### NOTEBOOK DESCRIPTION:\n",
    "\n",
    "This notebook does the axis projection based on age and gender axis as well as a validation technique based on the generated axis"
   ]
  },
  {
   "cell_type": "code",
   "execution_count": 1,
   "metadata": {},
   "outputs": [],
   "source": [
    "import os\n",
    "import sys\n",
    "\n",
    "import pandas as pd\n",
    "import numpy as np\n",
    "import matplotlib.pyplot as plt\n",
    "\n",
    "\n",
    "scriptpath = \"/home/jouven/youtube_projects/\"\n",
    "sys.path.append(os.path.abspath(scriptpath))\n",
    "\n",
    "from helpers.helpers_channels_more_300 import *\n",
    "from helpers.helpers_channel_embedding import *\n",
    "from helpers.helpers_visualization_axis_projection import *"
   ]
  },
  {
   "cell_type": "markdown",
   "metadata": {},
   "source": [
    "### Selected parameters for the axis projection"
   ]
  },
  {
   "cell_type": "code",
   "execution_count": 2,
   "metadata": {},
   "outputs": [],
   "source": [
    "# Number of neirest neighbors taken\n",
    "k = 30\n",
    "\n",
    "# Selected number of pairs to create the axis\n",
    "nb_selected_pairs = 6"
   ]
  },
  {
   "cell_type": "markdown",
   "metadata": {},
   "source": [
    "### Useful functions"
   ]
  },
  {
   "cell_type": "code",
   "execution_count": 3,
   "metadata": {},
   "outputs": [],
   "source": [
    "PATH = '/dlabdata1/youtube_large/jouven/word2vec_pytorch/run_channels_more_300/channel_sampling_then_combination/CONTEXT_True_100_SUBSAMPLING_FALSE_0.001_LR_0.005/models/embedding.csv.gz'"
   ]
  },
  {
   "cell_type": "code",
   "execution_count": 4,
   "metadata": {},
   "outputs": [],
   "source": [
    "dict_channel_ind, dict_ind_channel, channels_id = filtered_channels_index_id_mapping()"
   ]
  },
  {
   "cell_type": "markdown",
   "metadata": {},
   "source": [
    "## Finding cultural axis for our channel embedding"
   ]
  },
  {
   "cell_type": "code",
   "execution_count": 5,
   "metadata": {},
   "outputs": [],
   "source": [
    "# Channels having more than 500'000 subscribers are selected to create the axis.\n",
    "with open(\"/dlabdata1/youtube_large/jouven/channels_more_300/channels_more_150k_subs.pkl\",'rb') as f:\n",
    "     selected_channels_id = set(pickle.load(f))\n",
    "f.close()\n",
    "\n",
    "# Channels having more than 500'000 subscribers are selected to create the axis.\n",
    "selected_channels = []\n",
    "for channel in channels_id:\n",
    "    selected_channels.append(dict_channel_ind[channel])"
   ]
  },
  {
   "cell_type": "code",
   "execution_count": 6,
   "metadata": {},
   "outputs": [],
   "source": [
    "channelcrawler_projection = pd.read_csv(\"/dlabdata1/youtube_large/df_channels_en.tsv.gz\", sep='\\t')\n",
    "# Select the rows being in the select channels\n",
    "channelcrawler_projection = channelcrawler_projection[channelcrawler_projection['channel'].apply(lambda row: row in selected_channels_id)]"
   ]
  },
  {
   "cell_type": "code",
   "execution_count": 7,
   "metadata": {},
   "outputs": [
    {
     "data": {
      "text/html": [
       "<div>\n",
       "<style scoped>\n",
       "    .dataframe tbody tr th:only-of-type {\n",
       "        vertical-align: middle;\n",
       "    }\n",
       "\n",
       "    .dataframe tbody tr th {\n",
       "        vertical-align: top;\n",
       "    }\n",
       "\n",
       "    .dataframe thead th {\n",
       "        text-align: right;\n",
       "    }\n",
       "</style>\n",
       "<table border=\"1\" class=\"dataframe\">\n",
       "  <thead>\n",
       "    <tr style=\"text-align: right;\">\n",
       "      <th></th>\n",
       "      <th>category_cc</th>\n",
       "      <th>join_date</th>\n",
       "      <th>channel</th>\n",
       "      <th>name_cc</th>\n",
       "      <th>subscribers_cc</th>\n",
       "      <th>videos_cc</th>\n",
       "      <th>subscriber_rank_sb</th>\n",
       "      <th>weights</th>\n",
       "    </tr>\n",
       "  </thead>\n",
       "  <tbody>\n",
       "    <tr>\n",
       "      <th>0</th>\n",
       "      <td>Gaming</td>\n",
       "      <td>2010-04-29</td>\n",
       "      <td>UC-lHJZR3Gqxm24_Vd_AJ5Yw</td>\n",
       "      <td>PewDiePie</td>\n",
       "      <td>101000000</td>\n",
       "      <td>3956</td>\n",
       "      <td>3.0</td>\n",
       "      <td>2.087</td>\n",
       "    </tr>\n",
       "    <tr>\n",
       "      <th>1</th>\n",
       "      <td>Education</td>\n",
       "      <td>2006-09-01</td>\n",
       "      <td>UCbCmjCuTUZos6Inko4u57UQ</td>\n",
       "      <td>Cocomelon - Nursery ...</td>\n",
       "      <td>60100000</td>\n",
       "      <td>458</td>\n",
       "      <td>7.0</td>\n",
       "      <td>2.087</td>\n",
       "    </tr>\n",
       "    <tr>\n",
       "      <th>2</th>\n",
       "      <td>Entertainment</td>\n",
       "      <td>2006-09-20</td>\n",
       "      <td>UCpEhnqL0y41EpW2TvWAHD7Q</td>\n",
       "      <td>SET India</td>\n",
       "      <td>56018869</td>\n",
       "      <td>32661</td>\n",
       "      <td>8.0</td>\n",
       "      <td>2.087</td>\n",
       "    </tr>\n",
       "    <tr>\n",
       "      <th>3</th>\n",
       "      <td>Howto &amp; Style</td>\n",
       "      <td>2016-11-15</td>\n",
       "      <td>UC295-Dw_tDNtZXFeAPAW6Aw</td>\n",
       "      <td>5-Minute Crafts</td>\n",
       "      <td>60600000</td>\n",
       "      <td>3591</td>\n",
       "      <td>9.0</td>\n",
       "      <td>2.087</td>\n",
       "    </tr>\n",
       "    <tr>\n",
       "      <th>4</th>\n",
       "      <td>Sports</td>\n",
       "      <td>2007-05-11</td>\n",
       "      <td>UCJ5v_MCY6GNUBTO8-D3XoAg</td>\n",
       "      <td>WWE</td>\n",
       "      <td>48400000</td>\n",
       "      <td>43421</td>\n",
       "      <td>11.0</td>\n",
       "      <td>2.087</td>\n",
       "    </tr>\n",
       "  </tbody>\n",
       "</table>\n",
       "</div>"
      ],
      "text/plain": [
       "     category_cc   join_date                   channel  \\\n",
       "0         Gaming  2010-04-29  UC-lHJZR3Gqxm24_Vd_AJ5Yw   \n",
       "1      Education  2006-09-01  UCbCmjCuTUZos6Inko4u57UQ   \n",
       "2  Entertainment  2006-09-20  UCpEhnqL0y41EpW2TvWAHD7Q   \n",
       "3  Howto & Style  2016-11-15  UC295-Dw_tDNtZXFeAPAW6Aw   \n",
       "4         Sports  2007-05-11  UCJ5v_MCY6GNUBTO8-D3XoAg   \n",
       "\n",
       "                   name_cc  subscribers_cc  videos_cc  subscriber_rank_sb  \\\n",
       "0                PewDiePie       101000000       3956                 3.0   \n",
       "1  Cocomelon - Nursery ...        60100000        458                 7.0   \n",
       "2                SET India        56018869      32661                 8.0   \n",
       "3          5-Minute Crafts        60600000       3591                 9.0   \n",
       "4                      WWE        48400000      43421                11.0   \n",
       "\n",
       "   weights  \n",
       "0    2.087  \n",
       "1    2.087  \n",
       "2    2.087  \n",
       "3    2.087  \n",
       "4    2.087  "
      ]
     },
     "execution_count": 7,
     "metadata": {},
     "output_type": "execute_result"
    }
   ],
   "source": [
    "channelcrawler_projection.head()"
   ]
  },
  {
   "cell_type": "markdown",
   "metadata": {},
   "source": [
    "### Gender axis: men vs women"
   ]
  },
  {
   "cell_type": "code",
   "execution_count": 8,
   "metadata": {},
   "outputs": [
    {
     "data": {
      "text/html": [
       "<div>\n",
       "<style scoped>\n",
       "    .dataframe tbody tr th:only-of-type {\n",
       "        vertical-align: middle;\n",
       "    }\n",
       "\n",
       "    .dataframe tbody tr th {\n",
       "        vertical-align: top;\n",
       "    }\n",
       "\n",
       "    .dataframe thead th {\n",
       "        text-align: right;\n",
       "    }\n",
       "</style>\n",
       "<table border=\"1\" class=\"dataframe\">\n",
       "  <thead>\n",
       "    <tr style=\"text-align: right;\">\n",
       "      <th></th>\n",
       "      <th>category_cc</th>\n",
       "      <th>join_date</th>\n",
       "      <th>channel</th>\n",
       "      <th>name_cc</th>\n",
       "      <th>subscribers_cc</th>\n",
       "      <th>videos_cc</th>\n",
       "      <th>subscriber_rank_sb</th>\n",
       "      <th>weights</th>\n",
       "    </tr>\n",
       "  </thead>\n",
       "  <tbody>\n",
       "    <tr>\n",
       "      <th>2519</th>\n",
       "      <td>Howto &amp; Style</td>\n",
       "      <td>2011-09-29</td>\n",
       "      <td>UCZyCposXwcyopaACep44maQ</td>\n",
       "      <td>Alex Costa</td>\n",
       "      <td>2120000</td>\n",
       "      <td>543</td>\n",
       "      <td>5370.0</td>\n",
       "      <td>2.417</td>\n",
       "    </tr>\n",
       "  </tbody>\n",
       "</table>\n",
       "</div>"
      ],
      "text/plain": [
       "        category_cc   join_date                   channel     name_cc  \\\n",
       "2519  Howto & Style  2011-09-29  UCZyCposXwcyopaACep44maQ  Alex Costa   \n",
       "\n",
       "      subscribers_cc  videos_cc  subscriber_rank_sb  weights  \n",
       "2519         2120000        543              5370.0    2.417  "
      ]
     },
     "execution_count": 8,
     "metadata": {},
     "output_type": "execute_result"
    }
   ],
   "source": [
    "# Here you will find everything about: Men's Fashion, Hairstyle, Fitness & Health, Personal Vlogs and Tech.\n",
    "channelcrawler_projection[channelcrawler_projection['name_cc'] == 'Alex Costa']"
   ]
  },
  {
   "cell_type": "code",
   "execution_count": 9,
   "metadata": {},
   "outputs": [
    {
     "data": {
      "text/html": [
       "<div>\n",
       "<style scoped>\n",
       "    .dataframe tbody tr th:only-of-type {\n",
       "        vertical-align: middle;\n",
       "    }\n",
       "\n",
       "    .dataframe tbody tr th {\n",
       "        vertical-align: top;\n",
       "    }\n",
       "\n",
       "    .dataframe thead th {\n",
       "        text-align: right;\n",
       "    }\n",
       "</style>\n",
       "<table border=\"1\" class=\"dataframe\">\n",
       "  <thead>\n",
       "    <tr style=\"text-align: right;\">\n",
       "      <th></th>\n",
       "      <th>category_cc</th>\n",
       "      <th>join_date</th>\n",
       "      <th>channel</th>\n",
       "      <th>name_cc</th>\n",
       "      <th>subscribers_cc</th>\n",
       "      <th>videos_cc</th>\n",
       "      <th>subscriber_rank_sb</th>\n",
       "      <th>weights</th>\n",
       "    </tr>\n",
       "  </thead>\n",
       "  <tbody>\n",
       "    <tr>\n",
       "      <th>1737</th>\n",
       "      <td>Howto &amp; Style</td>\n",
       "      <td>2009-01-18</td>\n",
       "      <td>UCMpOz2KEfkSdd5JeIJh_fxw</td>\n",
       "      <td>Shaaanxo</td>\n",
       "      <td>3215340</td>\n",
       "      <td>1422</td>\n",
       "      <td>3566.0</td>\n",
       "      <td>2.278</td>\n",
       "    </tr>\n",
       "  </tbody>\n",
       "</table>\n",
       "</div>"
      ],
      "text/plain": [
       "        category_cc   join_date                   channel   name_cc  \\\n",
       "1737  Howto & Style  2009-01-18  UCMpOz2KEfkSdd5JeIJh_fxw  Shaaanxo   \n",
       "\n",
       "      subscribers_cc  videos_cc  subscriber_rank_sb  weights  \n",
       "1737         3215340       1422              3566.0    2.278  "
      ]
     },
     "execution_count": 9,
     "metadata": {},
     "output_type": "execute_result"
    }
   ],
   "source": [
    "# vlog channel about make up, hair transformation, rings selections, ...\n",
    "channelcrawler_projection[channelcrawler_projection['name_cc'] == 'Shaaanxo']"
   ]
  },
  {
   "cell_type": "code",
   "execution_count": 10,
   "metadata": {
    "scrolled": false
   },
   "outputs": [],
   "source": [
    "gender_seed = (dict_channel_ind['UCMpOz2KEfkSdd5JeIJh_fxw'], dict_channel_ind['UCZyCposXwcyopaACep44maQ'])\n",
    "\n",
    "gender_axis, df_gender_axis = compute_axis_vector_based_on_seed(PATH, k, gender_seed, nb_selected_pairs, selected_channels, channelcrawler_projection, dict_ind_channel)\n"
   ]
  },
  {
   "cell_type": "code",
   "execution_count": 11,
   "metadata": {},
   "outputs": [
    {
     "data": {
      "text/html": [
       "<div>\n",
       "<style scoped>\n",
       "    .dataframe tbody tr th:only-of-type {\n",
       "        vertical-align: middle;\n",
       "    }\n",
       "\n",
       "    .dataframe tbody tr th {\n",
       "        vertical-align: top;\n",
       "    }\n",
       "\n",
       "    .dataframe thead th {\n",
       "        text-align: right;\n",
       "    }\n",
       "</style>\n",
       "<table border=\"1\" class=\"dataframe\">\n",
       "  <thead>\n",
       "    <tr style=\"text-align: right;\">\n",
       "      <th></th>\n",
       "      <th>category_cc</th>\n",
       "      <th>join_date</th>\n",
       "      <th>channel</th>\n",
       "      <th>name_cc</th>\n",
       "      <th>subscribers_cc</th>\n",
       "      <th>videos_cc</th>\n",
       "      <th>subscriber_rank_sb</th>\n",
       "      <th>weights</th>\n",
       "    </tr>\n",
       "  </thead>\n",
       "  <tbody>\n",
       "    <tr>\n",
       "      <th>427</th>\n",
       "      <td>Howto &amp; Style</td>\n",
       "      <td>2010-12-03</td>\n",
       "      <td>UCGwPbAQdGA3_88WBuGtg9tw</td>\n",
       "      <td>grav3yardgirl</td>\n",
       "      <td>8560000</td>\n",
       "      <td>1536</td>\n",
       "      <td>725.0</td>\n",
       "      <td>2.0870</td>\n",
       "    </tr>\n",
       "    <tr>\n",
       "      <th>136</th>\n",
       "      <td>Entertainment</td>\n",
       "      <td>2008-09-17</td>\n",
       "      <td>UC4PooiX37Pld1T8J5SYT-SQ</td>\n",
       "      <td>Good Mythical Mornin...</td>\n",
       "      <td>15700000</td>\n",
       "      <td>2307</td>\n",
       "      <td>210.0</td>\n",
       "      <td>2.0870</td>\n",
       "    </tr>\n",
       "    <tr>\n",
       "      <th>32211</th>\n",
       "      <td>People &amp; Blogs</td>\n",
       "      <td>2010-01-27</td>\n",
       "      <td>UCCVPSH-O0TJ-N2WcnFUnT3w</td>\n",
       "      <td>CandidMommy</td>\n",
       "      <td>163000</td>\n",
       "      <td>3135</td>\n",
       "      <td>106604.0</td>\n",
       "      <td>4.5670</td>\n",
       "    </tr>\n",
       "    <tr>\n",
       "      <th>1604</th>\n",
       "      <td>Education</td>\n",
       "      <td>2008-11-23</td>\n",
       "      <td>UC3w193M5tYPJqF0Hi-7U-2g</td>\n",
       "      <td>Dr. Eric Berg DC</td>\n",
       "      <td>3150000</td>\n",
       "      <td>2666</td>\n",
       "      <td>3266.0</td>\n",
       "      <td>2.2745</td>\n",
       "    </tr>\n",
       "    <tr>\n",
       "      <th>1329</th>\n",
       "      <td>Entertainment</td>\n",
       "      <td>2014-03-16</td>\n",
       "      <td>UCoziFm3M4sHDq1kkx0UwtRw</td>\n",
       "      <td>Glam&amp;Gore;</td>\n",
       "      <td>3580000</td>\n",
       "      <td>222</td>\n",
       "      <td>2648.0</td>\n",
       "      <td>2.2120</td>\n",
       "    </tr>\n",
       "    <tr>\n",
       "      <th>317</th>\n",
       "      <td>People &amp; Blogs</td>\n",
       "      <td>2014-05-05</td>\n",
       "      <td>UCBUVGPsJzc1U8SECMgBaMFw</td>\n",
       "      <td>BuzzFeed Multiplayer...</td>\n",
       "      <td>9860000</td>\n",
       "      <td>1802</td>\n",
       "      <td>517.0</td>\n",
       "      <td>2.0870</td>\n",
       "    </tr>\n",
       "    <tr>\n",
       "      <th>210</th>\n",
       "      <td>Entertainment</td>\n",
       "      <td>2006-01-16</td>\n",
       "      <td>UCoookXUzPciGrEZEXmh4Jjg</td>\n",
       "      <td>Sesame Street</td>\n",
       "      <td>9200000</td>\n",
       "      <td>2844</td>\n",
       "      <td>337.0</td>\n",
       "      <td>2.0870</td>\n",
       "    </tr>\n",
       "    <tr>\n",
       "      <th>1203</th>\n",
       "      <td>Entertainment</td>\n",
       "      <td>2006-06-02</td>\n",
       "      <td>UCz97F7dMxBNOfGYu3rx8aCw</td>\n",
       "      <td>Sony Pictures Entert...</td>\n",
       "      <td>3760000</td>\n",
       "      <td>3451</td>\n",
       "      <td>2363.0</td>\n",
       "      <td>2.1790</td>\n",
       "    </tr>\n",
       "    <tr>\n",
       "      <th>669</th>\n",
       "      <td>Entertainment</td>\n",
       "      <td>2006-06-15</td>\n",
       "      <td>UCVJK2AT3ea5RTXNRjX_kz8A</td>\n",
       "      <td>Tobuscus</td>\n",
       "      <td>6290000</td>\n",
       "      <td>515</td>\n",
       "      <td>1209.0</td>\n",
       "      <td>2.0870</td>\n",
       "    </tr>\n",
       "    <tr>\n",
       "      <th>524</th>\n",
       "      <td>Entertainment</td>\n",
       "      <td>2010-05-17</td>\n",
       "      <td>UCsn6cjffsvyOZCZxvGoJxGg</td>\n",
       "      <td>Corridor</td>\n",
       "      <td>6710000</td>\n",
       "      <td>181</td>\n",
       "      <td>915.0</td>\n",
       "      <td>2.0870</td>\n",
       "    </tr>\n",
       "  </tbody>\n",
       "</table>\n",
       "</div>"
      ],
      "text/plain": [
       "          category_cc   join_date                   channel  \\\n",
       "427     Howto & Style  2010-12-03  UCGwPbAQdGA3_88WBuGtg9tw   \n",
       "136     Entertainment  2008-09-17  UC4PooiX37Pld1T8J5SYT-SQ   \n",
       "32211  People & Blogs  2010-01-27  UCCVPSH-O0TJ-N2WcnFUnT3w   \n",
       "1604        Education  2008-11-23  UC3w193M5tYPJqF0Hi-7U-2g   \n",
       "1329    Entertainment  2014-03-16  UCoziFm3M4sHDq1kkx0UwtRw   \n",
       "317    People & Blogs  2014-05-05  UCBUVGPsJzc1U8SECMgBaMFw   \n",
       "210     Entertainment  2006-01-16  UCoookXUzPciGrEZEXmh4Jjg   \n",
       "1203    Entertainment  2006-06-02  UCz97F7dMxBNOfGYu3rx8aCw   \n",
       "669     Entertainment  2006-06-15  UCVJK2AT3ea5RTXNRjX_kz8A   \n",
       "524     Entertainment  2010-05-17  UCsn6cjffsvyOZCZxvGoJxGg   \n",
       "\n",
       "                       name_cc  subscribers_cc  videos_cc  subscriber_rank_sb  \\\n",
       "427              grav3yardgirl         8560000       1536               725.0   \n",
       "136    Good Mythical Mornin...        15700000       2307               210.0   \n",
       "32211              CandidMommy          163000       3135            106604.0   \n",
       "1604          Dr. Eric Berg DC         3150000       2666              3266.0   \n",
       "1329                Glam&Gore;         3580000        222              2648.0   \n",
       "317    BuzzFeed Multiplayer...         9860000       1802               517.0   \n",
       "210              Sesame Street         9200000       2844               337.0   \n",
       "1203   Sony Pictures Entert...         3760000       3451              2363.0   \n",
       "669                   Tobuscus         6290000        515              1209.0   \n",
       "524                   Corridor         6710000        181               915.0   \n",
       "\n",
       "       weights  \n",
       "427     2.0870  \n",
       "136     2.0870  \n",
       "32211   4.5670  \n",
       "1604    2.2745  \n",
       "1329    2.2120  \n",
       "317     2.0870  \n",
       "210     2.0870  \n",
       "1203    2.1790  \n",
       "669     2.0870  \n",
       "524     2.0870  "
      ]
     },
     "execution_count": 11,
     "metadata": {},
     "output_type": "execute_result"
    }
   ],
   "source": [
    "df_gender_axis"
   ]
  },
  {
   "cell_type": "markdown",
   "metadata": {},
   "source": [
    "### Age axis: kids vs adult"
   ]
  },
  {
   "cell_type": "code",
   "execution_count": 12,
   "metadata": {},
   "outputs": [
    {
     "data": {
      "text/html": [
       "<div>\n",
       "<style scoped>\n",
       "    .dataframe tbody tr th:only-of-type {\n",
       "        vertical-align: middle;\n",
       "    }\n",
       "\n",
       "    .dataframe tbody tr th {\n",
       "        vertical-align: top;\n",
       "    }\n",
       "\n",
       "    .dataframe thead th {\n",
       "        text-align: right;\n",
       "    }\n",
       "</style>\n",
       "<table border=\"1\" class=\"dataframe\">\n",
       "  <thead>\n",
       "    <tr style=\"text-align: right;\">\n",
       "      <th></th>\n",
       "      <th>category_cc</th>\n",
       "      <th>join_date</th>\n",
       "      <th>channel</th>\n",
       "      <th>name_cc</th>\n",
       "      <th>subscribers_cc</th>\n",
       "      <th>videos_cc</th>\n",
       "      <th>subscriber_rank_sb</th>\n",
       "      <th>weights</th>\n",
       "    </tr>\n",
       "  </thead>\n",
       "  <tbody>\n",
       "    <tr>\n",
       "      <th>8280</th>\n",
       "      <td>Film and Animation</td>\n",
       "      <td>2013-12-17</td>\n",
       "      <td>UCISF5OGuAtSLNF24TKTnXag</td>\n",
       "      <td>Magpiepony</td>\n",
       "      <td>736000</td>\n",
       "      <td>304</td>\n",
       "      <td>21120.0</td>\n",
       "      <td>2.9225</td>\n",
       "    </tr>\n",
       "  </tbody>\n",
       "</table>\n",
       "</div>"
      ],
      "text/plain": [
       "             category_cc   join_date                   channel     name_cc  \\\n",
       "8280  Film and Animation  2013-12-17  UCISF5OGuAtSLNF24TKTnXag  Magpiepony   \n",
       "\n",
       "      subscribers_cc  videos_cc  subscriber_rank_sb  weights  \n",
       "8280          736000        304             21120.0   2.9225  "
      ]
     },
     "execution_count": 12,
     "metadata": {},
     "output_type": "execute_result"
    }
   ],
   "source": [
    "# Animation for kids\n",
    "channelcrawler_projection[channelcrawler_projection['name_cc'] == \"Magpiepony\"]"
   ]
  },
  {
   "cell_type": "code",
   "execution_count": 13,
   "metadata": {},
   "outputs": [
    {
     "data": {
      "text/html": [
       "<div>\n",
       "<style scoped>\n",
       "    .dataframe tbody tr th:only-of-type {\n",
       "        vertical-align: middle;\n",
       "    }\n",
       "\n",
       "    .dataframe tbody tr th {\n",
       "        vertical-align: top;\n",
       "    }\n",
       "\n",
       "    .dataframe thead th {\n",
       "        text-align: right;\n",
       "    }\n",
       "</style>\n",
       "<table border=\"1\" class=\"dataframe\">\n",
       "  <thead>\n",
       "    <tr style=\"text-align: right;\">\n",
       "      <th></th>\n",
       "      <th>category_cc</th>\n",
       "      <th>join_date</th>\n",
       "      <th>channel</th>\n",
       "      <th>name_cc</th>\n",
       "      <th>subscribers_cc</th>\n",
       "      <th>videos_cc</th>\n",
       "      <th>subscriber_rank_sb</th>\n",
       "      <th>weights</th>\n",
       "    </tr>\n",
       "  </thead>\n",
       "  <tbody>\n",
       "    <tr>\n",
       "      <th>7841</th>\n",
       "      <td>Entertainment</td>\n",
       "      <td>2008-11-03</td>\n",
       "      <td>UCAXR2zenCwvRIyQd9ydtfaA</td>\n",
       "      <td>Beyond The Trailer</td>\n",
       "      <td>853000</td>\n",
       "      <td>5064</td>\n",
       "      <td>19744.0</td>\n",
       "      <td>2.8635</td>\n",
       "    </tr>\n",
       "  </tbody>\n",
       "</table>\n",
       "</div>"
      ],
      "text/plain": [
       "        category_cc   join_date                   channel             name_cc  \\\n",
       "7841  Entertainment  2008-11-03  UCAXR2zenCwvRIyQd9ydtfaA  Beyond The Trailer   \n",
       "\n",
       "      subscribers_cc  videos_cc  subscriber_rank_sb  weights  \n",
       "7841          853000       5064             19744.0   2.8635  "
      ]
     },
     "execution_count": 13,
     "metadata": {},
     "output_type": "execute_result"
    }
   ],
   "source": [
    "# Channel analysing the films\n",
    "channelcrawler_projection[channelcrawler_projection['name_cc'] == 'Beyond The Trailer']"
   ]
  },
  {
   "cell_type": "code",
   "execution_count": 14,
   "metadata": {
    "scrolled": false
   },
   "outputs": [],
   "source": [
    "age_seed = (dict_channel_ind['UCISF5OGuAtSLNF24TKTnXag'], dict_channel_ind['UCAXR2zenCwvRIyQd9ydtfaA'])\n",
    "\n",
    "age_axis, df_output_age = compute_axis_vector_based_on_seed(PATH, k, age_seed, nb_selected_pairs, selected_channels, channelcrawler_projection, dict_ind_channel)"
   ]
  },
  {
   "cell_type": "code",
   "execution_count": 15,
   "metadata": {},
   "outputs": [
    {
     "data": {
      "text/html": [
       "<div>\n",
       "<style scoped>\n",
       "    .dataframe tbody tr th:only-of-type {\n",
       "        vertical-align: middle;\n",
       "    }\n",
       "\n",
       "    .dataframe tbody tr th {\n",
       "        vertical-align: top;\n",
       "    }\n",
       "\n",
       "    .dataframe thead th {\n",
       "        text-align: right;\n",
       "    }\n",
       "</style>\n",
       "<table border=\"1\" class=\"dataframe\">\n",
       "  <thead>\n",
       "    <tr style=\"text-align: right;\">\n",
       "      <th></th>\n",
       "      <th>category_cc</th>\n",
       "      <th>join_date</th>\n",
       "      <th>channel</th>\n",
       "      <th>name_cc</th>\n",
       "      <th>subscribers_cc</th>\n",
       "      <th>videos_cc</th>\n",
       "      <th>subscriber_rank_sb</th>\n",
       "      <th>weights</th>\n",
       "    </tr>\n",
       "  </thead>\n",
       "  <tbody>\n",
       "    <tr>\n",
       "      <th>470</th>\n",
       "      <td>Entertainment</td>\n",
       "      <td>2015-09-17</td>\n",
       "      <td>UCXZpQgX1897wYDLtvzmgyIA</td>\n",
       "      <td>Facts Verse</td>\n",
       "      <td>7680000</td>\n",
       "      <td>2203</td>\n",
       "      <td>810.0</td>\n",
       "      <td>2.0870</td>\n",
       "    </tr>\n",
       "    <tr>\n",
       "      <th>557</th>\n",
       "      <td>News &amp; Politics</td>\n",
       "      <td>2006-08-07</td>\n",
       "      <td>UCBi2mrWuNuyYy4gbM6fU18Q</td>\n",
       "      <td>ABC News</td>\n",
       "      <td>6640000</td>\n",
       "      <td>48869</td>\n",
       "      <td>978.0</td>\n",
       "      <td>2.0870</td>\n",
       "    </tr>\n",
       "    <tr>\n",
       "      <th>3320</th>\n",
       "      <td>Film and Animation</td>\n",
       "      <td>2012-09-25</td>\n",
       "      <td>UCyjTUNqX_vasRG4AAaM34jA</td>\n",
       "      <td>Animation Domination...</td>\n",
       "      <td>1899859</td>\n",
       "      <td>254</td>\n",
       "      <td>7366.0</td>\n",
       "      <td>2.5365</td>\n",
       "    </tr>\n",
       "    <tr>\n",
       "      <th>66</th>\n",
       "      <td>Entertainment</td>\n",
       "      <td>2007-01-25</td>\n",
       "      <td>UCaWd5_7JhbQBe4dknZhsHJg</td>\n",
       "      <td>WatchMojo.com</td>\n",
       "      <td>21284359</td>\n",
       "      <td>17081</td>\n",
       "      <td>114.0</td>\n",
       "      <td>2.0870</td>\n",
       "    </tr>\n",
       "    <tr>\n",
       "      <th>1619</th>\n",
       "      <td>Gaming</td>\n",
       "      <td>2014-06-16</td>\n",
       "      <td>UCZBY6V8Lxmwu8gGRBOyO11w</td>\n",
       "      <td>Kubz Scouts</td>\n",
       "      <td>3160000</td>\n",
       "      <td>1440</td>\n",
       "      <td>3303.0</td>\n",
       "      <td>2.2885</td>\n",
       "    </tr>\n",
       "    <tr>\n",
       "      <th>443</th>\n",
       "      <td>Film and Animation</td>\n",
       "      <td>2014-05-12</td>\n",
       "      <td>UC3sznuotAs2ohg_U__Jzj_Q</td>\n",
       "      <td>The Film Theorists</td>\n",
       "      <td>7890000</td>\n",
       "      <td>202</td>\n",
       "      <td>749.0</td>\n",
       "      <td>2.0870</td>\n",
       "    </tr>\n",
       "    <tr>\n",
       "      <th>5825</th>\n",
       "      <td>Gaming</td>\n",
       "      <td>2008-09-23</td>\n",
       "      <td>UCqg5FCR7NrpvlBWMXdt-5Vg</td>\n",
       "      <td>Escapist</td>\n",
       "      <td>1150000</td>\n",
       "      <td>5315</td>\n",
       "      <td>14019.0</td>\n",
       "      <td>2.8095</td>\n",
       "    </tr>\n",
       "    <tr>\n",
       "      <th>2815</th>\n",
       "      <td>Gaming</td>\n",
       "      <td>2009-01-17</td>\n",
       "      <td>UCRBkeMoYX02w-0qVIKNkruw</td>\n",
       "      <td>PeanutButterGamer</td>\n",
       "      <td>2020000</td>\n",
       "      <td>187</td>\n",
       "      <td>6106.0</td>\n",
       "      <td>2.4695</td>\n",
       "    </tr>\n",
       "    <tr>\n",
       "      <th>1727</th>\n",
       "      <td>Gaming</td>\n",
       "      <td>2006-04-06</td>\n",
       "      <td>UC0M0rxSz3IF0CsSour1iWmw</td>\n",
       "      <td>Cinemassacre</td>\n",
       "      <td>3110000</td>\n",
       "      <td>1489</td>\n",
       "      <td>3543.0</td>\n",
       "      <td>2.2825</td>\n",
       "    </tr>\n",
       "  </tbody>\n",
       "</table>\n",
       "</div>"
      ],
      "text/plain": [
       "             category_cc   join_date                   channel  \\\n",
       "470        Entertainment  2015-09-17  UCXZpQgX1897wYDLtvzmgyIA   \n",
       "557      News & Politics  2006-08-07  UCBi2mrWuNuyYy4gbM6fU18Q   \n",
       "3320  Film and Animation  2012-09-25  UCyjTUNqX_vasRG4AAaM34jA   \n",
       "66         Entertainment  2007-01-25  UCaWd5_7JhbQBe4dknZhsHJg   \n",
       "1619              Gaming  2014-06-16  UCZBY6V8Lxmwu8gGRBOyO11w   \n",
       "443   Film and Animation  2014-05-12  UC3sznuotAs2ohg_U__Jzj_Q   \n",
       "5825              Gaming  2008-09-23  UCqg5FCR7NrpvlBWMXdt-5Vg   \n",
       "2815              Gaming  2009-01-17  UCRBkeMoYX02w-0qVIKNkruw   \n",
       "1727              Gaming  2006-04-06  UC0M0rxSz3IF0CsSour1iWmw   \n",
       "\n",
       "                      name_cc  subscribers_cc  videos_cc  subscriber_rank_sb  \\\n",
       "470               Facts Verse         7680000       2203               810.0   \n",
       "557                  ABC News         6640000      48869               978.0   \n",
       "3320  Animation Domination...         1899859        254              7366.0   \n",
       "66              WatchMojo.com        21284359      17081               114.0   \n",
       "1619              Kubz Scouts         3160000       1440              3303.0   \n",
       "443        The Film Theorists         7890000        202               749.0   \n",
       "5825                 Escapist         1150000       5315             14019.0   \n",
       "2815        PeanutButterGamer         2020000        187              6106.0   \n",
       "1727             Cinemassacre         3110000       1489              3543.0   \n",
       "\n",
       "      weights  \n",
       "470    2.0870  \n",
       "557    2.0870  \n",
       "3320   2.5365  \n",
       "66     2.0870  \n",
       "1619   2.2885  \n",
       "443    2.0870  \n",
       "5825   2.8095  \n",
       "2815   2.4695  \n",
       "1727   2.2825  "
      ]
     },
     "execution_count": 15,
     "metadata": {},
     "output_type": "execute_result"
    }
   ],
   "source": [
    "df_output_age"
   ]
  },
  {
   "cell_type": "markdown",
   "metadata": {},
   "source": [
    "## Validation of the created axis"
   ]
  },
  {
   "cell_type": "code",
   "execution_count": 16,
   "metadata": {},
   "outputs": [],
   "source": [
    "EMBEDDING = get_dataframe_in_embedding_space(PATH)"
   ]
  },
  {
   "cell_type": "code",
   "execution_count": 17,
   "metadata": {},
   "outputs": [],
   "source": [
    "# Channels having more than 500'000 subscribers are selected to create the axis.\n",
    "with open(\"/dlabdata1/youtube_large/jouven/channels_more_300/channels_more_500k_subs.pkl\",'rb') as f:\n",
    "     selected_channels_id = set(pickle.load(f))\n",
    "f.close()\n",
    "\n",
    "selected_channels = []\n",
    "for channel in selected_channels_id:\n",
    "    selected_channels.append(dict_channel_ind[channel])"
   ]
  },
  {
   "cell_type": "code",
   "execution_count": 18,
   "metadata": {},
   "outputs": [],
   "source": [
    "# Select the rows being in the select channels (english channels)\n",
    "channelcrawler = pd.read_csv(\"/dlabdata1/youtube_large/df_channels_en.tsv.gz\", sep='\\t')\n",
    "channelcrawler = channelcrawler[channelcrawler['channel'].apply(lambda row: row in channels_id)]"
   ]
  },
  {
   "cell_type": "code",
   "execution_count": 19,
   "metadata": {},
   "outputs": [],
   "source": [
    "dict_idx_name, dict_name_idx = channel_to_name(channelcrawler, dict_channel_ind)"
   ]
  },
  {
   "cell_type": "markdown",
   "metadata": {},
   "source": [
    "#### 1. Projection of the gender axis"
   ]
  },
  {
   "cell_type": "code",
   "execution_count": 20,
   "metadata": {},
   "outputs": [],
   "source": [
    "df_gender_projection = create_projection(EMBEDDING, gender_axis, dict_idx_name)"
   ]
  },
  {
   "cell_type": "code",
   "execution_count": 21,
   "metadata": {},
   "outputs": [],
   "source": [
    "# Inverse the signs for color matiching ...\n",
    "df_gender_projection['projection'] = -df_gender_projection['projection']"
   ]
  },
  {
   "cell_type": "code",
   "execution_count": 22,
   "metadata": {},
   "outputs": [
    {
     "data": {
      "text/html": [
       "<div>\n",
       "<style scoped>\n",
       "    .dataframe tbody tr th:only-of-type {\n",
       "        vertical-align: middle;\n",
       "    }\n",
       "\n",
       "    .dataframe tbody tr th {\n",
       "        vertical-align: top;\n",
       "    }\n",
       "\n",
       "    .dataframe thead th {\n",
       "        text-align: right;\n",
       "    }\n",
       "</style>\n",
       "<table border=\"1\" class=\"dataframe\">\n",
       "  <thead>\n",
       "    <tr style=\"text-align: right;\">\n",
       "      <th></th>\n",
       "      <th>name</th>\n",
       "      <th>projection</th>\n",
       "    </tr>\n",
       "  </thead>\n",
       "  <tbody>\n",
       "    <tr>\n",
       "      <th>0</th>\n",
       "      <td>Winded Voyage Sailin...</td>\n",
       "      <td>-2.390746</td>\n",
       "    </tr>\n",
       "    <tr>\n",
       "      <th>1</th>\n",
       "      <td>The Night Fury</td>\n",
       "      <td>1.378869</td>\n",
       "    </tr>\n",
       "    <tr>\n",
       "      <th>2</th>\n",
       "      <td>Red Bull Surfing</td>\n",
       "      <td>3.385288</td>\n",
       "    </tr>\n",
       "    <tr>\n",
       "      <th>3</th>\n",
       "      <td>Heidi Joubert</td>\n",
       "      <td>0.549062</td>\n",
       "    </tr>\n",
       "    <tr>\n",
       "      <th>4</th>\n",
       "      <td>MR JC</td>\n",
       "      <td>-0.428587</td>\n",
       "    </tr>\n",
       "  </tbody>\n",
       "</table>\n",
       "</div>"
      ],
      "text/plain": [
       "                      name  projection\n",
       "0  Winded Voyage Sailin...   -2.390746\n",
       "1           The Night Fury    1.378869\n",
       "2         Red Bull Surfing    3.385288\n",
       "3            Heidi Joubert    0.549062\n",
       "4                    MR JC   -0.428587"
      ]
     },
     "execution_count": 22,
     "metadata": {},
     "output_type": "execute_result"
    }
   ],
   "source": [
    "df_gender_projection.head()"
   ]
  },
  {
   "cell_type": "code",
   "execution_count": 23,
   "metadata": {},
   "outputs": [],
   "source": [
    "seed_gender_name = ('Alex Costa', 'Shaaanxo')"
   ]
  },
  {
   "cell_type": "code",
   "execution_count": 24,
   "metadata": {},
   "outputs": [
    {
     "name": "stderr",
     "output_type": "stream",
     "text": [
      "No handles with labels found to put in legend.\n"
     ]
    },
    {
     "ename": "NameError",
     "evalue": "name 'save_path' is not defined",
     "output_type": "error",
     "traceback": [
      "\u001b[0;31m---------------------------------------------------------------------------\u001b[0m",
      "\u001b[0;31mNameError\u001b[0m                                 Traceback (most recent call last)",
      "\u001b[0;32m<ipython-input-24-0a869f6fc05e>\u001b[0m in \u001b[0;36m<module>\u001b[0;34m\u001b[0m\n\u001b[0;32m----> 1\u001b[0;31m \u001b[0mvisualization\u001b[0m\u001b[0;34m(\u001b[0m\u001b[0mdf_gender_projection\u001b[0m\u001b[0;34m,\u001b[0m \u001b[0mseed_gender_name\u001b[0m\u001b[0;34m,\u001b[0m \u001b[0;34m'PiYG'\u001b[0m\u001b[0;34m,\u001b[0m \u001b[0;36m45\u001b[0m\u001b[0;34m,\u001b[0m \u001b[0;34m'Distribution of the gender axis projection scores'\u001b[0m\u001b[0;34m)\u001b[0m\u001b[0;34m\u001b[0m\u001b[0;34m\u001b[0m\u001b[0m\n\u001b[0m",
      "\u001b[0;32m~/youtube_projects/helpers/helpers_visualization_axis_projection.py\u001b[0m in \u001b[0;36mvisualization\u001b[0;34m(df_gender_projection, seed_name, color, nb_for_color, title, save_name)\u001b[0m\n\u001b[1;32m     51\u001b[0m     \u001b[0max\u001b[0m\u001b[0;34m.\u001b[0m\u001b[0mlegend\u001b[0m\u001b[0;34m(\u001b[0m\u001b[0;34m)\u001b[0m\u001b[0;34m\u001b[0m\u001b[0;34m\u001b[0m\u001b[0m\n\u001b[1;32m     52\u001b[0m     \u001b[0;31m#ax.set_title(title)\u001b[0m\u001b[0;34m\u001b[0m\u001b[0;34m\u001b[0m\u001b[0;34m\u001b[0m\u001b[0m\n\u001b[0;32m---> 53\u001b[0;31m     \u001b[0;32mif\u001b[0m \u001b[0msave_path\u001b[0m \u001b[0;34m!=\u001b[0m \u001b[0;32mNone\u001b[0m\u001b[0;34m:\u001b[0m\u001b[0;34m\u001b[0m\u001b[0;34m\u001b[0m\u001b[0m\n\u001b[0m\u001b[1;32m     54\u001b[0m               \u001b[0mplt\u001b[0m\u001b[0;34m.\u001b[0m\u001b[0msavefig\u001b[0m\u001b[0;34m(\u001b[0m\u001b[0;34m'/home/jouven/youtube_projects/word2vec_pytorch/embedding_space/run_channels_more_300/channel_sampling_then_combination/CONTEXT_True_100_SUBSAMPLING_False_LR_0.005/'\u001b[0m \u001b[0;34m+\u001b[0m \u001b[0msave_name\u001b[0m\u001b[0;34m)\u001b[0m\u001b[0;34m\u001b[0m\u001b[0;34m\u001b[0m\u001b[0m\n\u001b[1;32m     55\u001b[0m     \u001b[0mplt\u001b[0m\u001b[0;34m.\u001b[0m\u001b[0mshow\u001b[0m\u001b[0;34m(\u001b[0m\u001b[0;34m)\u001b[0m\u001b[0;34m\u001b[0m\u001b[0;34m\u001b[0m\u001b[0m\n",
      "\u001b[0;31mNameError\u001b[0m: name 'save_path' is not defined"
     ]
    },
    {
     "data": {
      "image/png": "[encoded data removed]",
      "text/plain": [
       "<Figure size 720x432 with 1 Axes>"
      ]
     },
     "metadata": {
      "needs_background": "light"
     },
     "output_type": "display_data"
    }
   ],
   "source": [
    "visualization(df_gender_projection, seed_gender_name, 'PiYG', 45, 'Distribution of the gender axis projection scores')"
   ]
  },
  {
   "cell_type": "code",
   "execution_count": null,
   "metadata": {},
   "outputs": [],
   "source": [
    "color = 'PiYG'\n",
    "cm = plt.cm.get_cmap(color)\n",
    "selected_pairs = 10\n",
    "\n",
    "df_left  = df_gender_projection.sort_values(by = ['projection'])[:selected_pairs]\n",
    "df_right = df_gender_projection.sort_values(by = ['projection'], ascending = False)[:selected_pairs]\n",
    "create_plot(df_left, df_right, selected_pairs, \"Gender projection: Channels at the poles\", (10, 6), cm)"
   ]
  },
  {
   "cell_type": "code",
   "execution_count": null,
   "metadata": {},
   "outputs": [],
   "source": [
    "color = 'PiYG'\n",
    "cm = plt.cm.get_cmap(color)\n",
    "selected_pairs = 10\n",
    "\n",
    "mask     = df_gender_projection['projection'].gt(-0.15)\n",
    "df_left  = df_gender_projection[~mask].sort_values(by = ['projection'], ascending = False)[:selected_pairs]\n",
    "mask     = df_gender_projection['projection'].gt(0.15)\n",
    "df_right = df_gender_projection[mask].sort_values(by = ['projection'])[:selected_pairs]\n",
    "create_plot(df_left, df_right, selected_pairs, \"Gender projection: Channels at the center\", (2, 6), cm, 7)"
   ]
  },
  {
   "cell_type": "code",
   "execution_count": null,
   "metadata": {},
   "outputs": [],
   "source": [
    "df_right = pd.DataFrame()\n",
    "df_right = df_right.append(df_gender_projection[df_gender_projection['name'] == 'EminemMusic'])\n",
    "df_right = df_right.append(df_gender_projection[df_gender_projection['name'] == 'Kali Muscle'])\n",
    "df_right = df_right.append(df_gender_projection[df_gender_projection['name'] == 'Ninja'])\n",
    "df_right = df_right.append(df_gender_projection[df_gender_projection['name'] == 'BluMaan'])\n",
    "\n",
    "df_left = pd.DataFrame()\n",
    "df_left = df_left.append(df_gender_projection[df_gender_projection['name'] == 'Ariana Grande'])\n",
    "df_left = df_left.append(df_gender_projection[df_gender_projection['name'] == 'Kayla Itsines'])\n",
    "df_left = df_left.append(df_gender_projection[df_gender_projection['name'] == 'LaurenzSide'])\n",
    "df_left = df_left.append(df_gender_projection[df_gender_projection['name'] == 'Liza Koshy'])\n",
    "\n",
    "color = 'PiYG'\n",
    "cm = plt.cm.get_cmap(color)\n",
    "\n",
    "create_plot(df_left, df_right, 4, \"Gender projection: Selected channels comparison\", (4, 2.5), cm, 'exemples_gender_projection.pdf')\n"
   ]
  },
  {
   "cell_type": "markdown",
   "metadata": {},
   "source": [
    "Select reknown girl or men like channels and validate if these channels are indeed correctly classified.\n",
    "- first line: fashion channels\n",
    "- second line: gaming channels\n",
    "- third line: fitness channels\n",
    "- fourth line: music channels"
   ]
  },
  {
   "cell_type": "markdown",
   "metadata": {},
   "source": [
    "#### 2. Projection on the age axis"
   ]
  },
  {
   "cell_type": "markdown",
   "metadata": {},
   "source": [
    "Channels having a negative projections score should correspond to adult channels, positive projections score should correspond to kids channels"
   ]
  },
  {
   "cell_type": "code",
   "execution_count": null,
   "metadata": {},
   "outputs": [],
   "source": [
    "df_age_projection = create_projection(EMBEDDING, age_axis, dict_idx_name)\n",
    "df_age_projection.head()"
   ]
  },
  {
   "cell_type": "code",
   "execution_count": null,
   "metadata": {},
   "outputs": [],
   "source": [
    "age_seed_name = (\"Magpiepony\", 'Beyond The Trailer')\n",
    "visualization(df_age_projection, age_seed_name, 'BrBG', 38, 'Distribution of the age axis projection score', 'distr_age.pdf')"
   ]
  },
  {
   "cell_type": "code",
   "execution_count": null,
   "metadata": {},
   "outputs": [],
   "source": [
    "color = 'BrBG'\n",
    "cm = plt.cm.get_cmap(color)\n",
    "selected_pairs = 10\n",
    "\n",
    "df_left  = df_age_projection.sort_values(by = ['projection'])[:selected_pairs]\n",
    "df_right = df_age_projection.sort_values(by = ['projection'], ascending = False)[:selected_pairs]\n",
    "create_plot(df_left, df_right, selected_pairs, \"Age projection: Channels at the poles\", (10, 10), cm)"
   ]
  },
  {
   "cell_type": "code",
   "execution_count": null,
   "metadata": {
    "scrolled": false
   },
   "outputs": [],
   "source": [
    "color = 'BrBG'\n",
    "cm = plt.cm.get_cmap(color)\n",
    "selected_pairs = 10\n",
    "\n",
    "mask     = df_age_projection['projection'].gt(-0.3)\n",
    "df_left  = df_age_projection[~mask].sort_values(by = ['projection'], ascending = False)[:selected_pairs]\n",
    "mask     = df_age_projection['projection'].gt(0.3)\n",
    "df_right = df_age_projection[mask].sort_values(by = ['projection'])[:selected_pairs]\n",
    "create_plot(df_left, df_right, selected_pairs, \"Gender projection: Channel at the center\", (2, 6), cm, 1)"
   ]
  },
  {
   "cell_type": "code",
   "execution_count": null,
   "metadata": {},
   "outputs": [],
   "source": [
    "df_age_projection[df_age_projection['name'] == \"Blippi\"]"
   ]
  },
  {
   "cell_type": "code",
   "execution_count": null,
   "metadata": {},
   "outputs": [],
   "source": [
    "df_age_projection[df_age_projection['name'] == \"Action Movie Kids\"]"
   ]
  },
  {
   "cell_type": "code",
   "execution_count": null,
   "metadata": {},
   "outputs": [],
   "source": [
    "df_left = pd.DataFrame()\n",
    "df_left = df_left.append(df_age_projection[df_age_projection['name'] == 'Classical Tunes'])\n",
    "df_left = df_left.append(df_age_projection[df_age_projection['name'] == 'James Bond 007'])\n",
    "df_left = df_left.append(df_age_projection[df_age_projection['name'] == 'Call of Duty'])\n",
    "\n",
    "df_right = pd.DataFrame()\n",
    "df_right = df_right.append(df_age_projection[df_age_projection['name'] == 'Kids TV - Nursery Rh...'])\n",
    "df_right = df_right.append(df_age_projection[df_age_projection['name'] == 'My Little Pony Offic...'])\n",
    "df_right = df_right.append(df_age_projection[df_age_projection['name'] == 'Kids Games Tv'])\n",
    "\n",
    "color = 'PiYG'\n",
    "cm = plt.cm.get_cmap(color)\n",
    "\n",
    "create_plot(df_left, df_right, 3, \"Age projection: Selected channels comparison\", (3, 2), cm, 'exemples_age_projection.pdf')\n"
   ]
  }
 ],
 "metadata": {
  "kernelspec": {
   "display_name": "Python 3",
   "language": "python",
   "name": "python3"
  },
  "language_info": {
   "codemirror_mode": {
    "name": "ipython",
    "version": 3
   },
   "file_extension": ".py",
   "mimetype": "text/x-python",
   "name": "python",
   "nbconvert_exporter": "python",
   "pygments_lexer": "ipython3",
   "version": "3.7.7"
  }
 },
 "nbformat": 4,
 "nbformat_minor": 4
}
