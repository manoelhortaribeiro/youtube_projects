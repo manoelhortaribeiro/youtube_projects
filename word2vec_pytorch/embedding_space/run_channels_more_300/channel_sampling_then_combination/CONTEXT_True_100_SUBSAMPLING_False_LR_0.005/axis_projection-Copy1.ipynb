{
 "cells": [
  {
   "cell_type": "markdown",
   "metadata": {},
   "source": [
    "### NOTEBOOK DESCRIPTION:\n",
    "\n",
    "This notebook does the axis projection based on age and gender axis as well as a validation technique based on the generated axis"
   ]
  },
  {
   "cell_type": "code",
   "execution_count": 1,
   "metadata": {},
   "outputs": [],
   "source": [
    "import os\n",
    "import sys\n",
    "\n",
    "import pandas as pd\n",
    "import numpy as np\n",
    "import matplotlib.pyplot as plt\n",
    "\n",
    "\n",
    "scriptpath = \"/home/jouven/youtube_projects/\"\n",
    "sys.path.append(os.path.abspath(scriptpath))\n",
    "\n",
    "from helpers.helpers_channels_more_300 import *\n",
    "from helpers.helpers_channel_embedding import *\n",
    "from helpers.helpers_visualization_axis_projection import *"
   ]
  },
  {
   "cell_type": "markdown",
   "metadata": {},
   "source": [
    "### Selected parameters for the axis projection"
   ]
  },
  {
   "cell_type": "code",
   "execution_count": 2,
   "metadata": {},
   "outputs": [],
   "source": [
    "# Number of neirest neighbors taken\n",
    "k = 10\n",
    "\n",
    "# Selected number of pairs to create the axis\n",
    "nb_selected_pairs = 6"
   ]
  },
  {
   "cell_type": "markdown",
   "metadata": {},
   "source": [
    "### Useful functions"
   ]
  },
  {
   "cell_type": "code",
   "execution_count": 3,
   "metadata": {},
   "outputs": [],
   "source": [
    "PATH = '/dlabdata1/youtube_large/jouven/word2vec_pytorch/run_channels_more_300/channel_sampling_then_combination/CONTEXT_True_100_SUBSAMPLING_FALSE_0.001_LR_0.005/models/embedding.csv.gz'"
   ]
  },
  {
   "cell_type": "code",
   "execution_count": 4,
   "metadata": {},
   "outputs": [],
   "source": [
    "dict_channel_ind, dict_ind_channel, channels_id = filtered_channels_index_id_mapping()"
   ]
  },
  {
   "cell_type": "markdown",
   "metadata": {},
   "source": [
    "## Finding cultural axis for our channel embedding"
   ]
  },
  {
   "cell_type": "code",
   "execution_count": 5,
   "metadata": {},
   "outputs": [],
   "source": [
    "# Channels having more than 500'000 subscribers are selected to create the axis.\n",
    "with open(\"/dlabdata1/youtube_large/jouven/channels_more_300/channels_more_150k_subs.pkl\",'rb') as f:\n",
    "     selected_channels_id = set(pickle.load(f))\n",
    "f.close()\n",
    "\n",
    "\n",
    "# Channels having more than 500'000 subscribers are selected to create the axis.\n",
    "selected_channels = []\n",
    "for channel in channels_id:\n",
    "    selected_channels.append(dict_channel_ind[channel])"
   ]
  },
  {
   "cell_type": "code",
   "execution_count": 6,
   "metadata": {},
   "outputs": [],
   "source": [
    "channelcrawler_projection = pd.read_csv(\"/dlabdata1/youtube_large/df_channels_en.tsv.gz\", sep='\\t')\n",
    "# Select the rows being in the select channels\n",
    "channelcrawler_projection = channelcrawler_projection[channelcrawler_projection['channel'].apply(lambda row: row in selected_channels_id)]"
   ]
  },
  {
   "cell_type": "code",
   "execution_count": 7,
   "metadata": {},
   "outputs": [
    {
     "data": {
      "text/html": [
       "<div>\n",
       "<style scoped>\n",
       "    .dataframe tbody tr th:only-of-type {\n",
       "        vertical-align: middle;\n",
       "    }\n",
       "\n",
       "    .dataframe tbody tr th {\n",
       "        vertical-align: top;\n",
       "    }\n",
       "\n",
       "    .dataframe thead th {\n",
       "        text-align: right;\n",
       "    }\n",
       "</style>\n",
       "<table border=\"1\" class=\"dataframe\">\n",
       "  <thead>\n",
       "    <tr style=\"text-align: right;\">\n",
       "      <th></th>\n",
       "      <th>category_cc</th>\n",
       "      <th>join_date</th>\n",
       "      <th>channel</th>\n",
       "      <th>name_cc</th>\n",
       "      <th>subscribers_cc</th>\n",
       "      <th>videos_cc</th>\n",
       "      <th>subscriber_rank_sb</th>\n",
       "      <th>weights</th>\n",
       "    </tr>\n",
       "  </thead>\n",
       "  <tbody>\n",
       "    <tr>\n",
       "      <th>0</th>\n",
       "      <td>Gaming</td>\n",
       "      <td>2010-04-29</td>\n",
       "      <td>UC-lHJZR3Gqxm24_Vd_AJ5Yw</td>\n",
       "      <td>PewDiePie</td>\n",
       "      <td>101000000</td>\n",
       "      <td>3956</td>\n",
       "      <td>3.0</td>\n",
       "      <td>2.087</td>\n",
       "    </tr>\n",
       "    <tr>\n",
       "      <th>1</th>\n",
       "      <td>Education</td>\n",
       "      <td>2006-09-01</td>\n",
       "      <td>UCbCmjCuTUZos6Inko4u57UQ</td>\n",
       "      <td>Cocomelon - Nursery ...</td>\n",
       "      <td>60100000</td>\n",
       "      <td>458</td>\n",
       "      <td>7.0</td>\n",
       "      <td>2.087</td>\n",
       "    </tr>\n",
       "    <tr>\n",
       "      <th>2</th>\n",
       "      <td>Entertainment</td>\n",
       "      <td>2006-09-20</td>\n",
       "      <td>UCpEhnqL0y41EpW2TvWAHD7Q</td>\n",
       "      <td>SET India</td>\n",
       "      <td>56018869</td>\n",
       "      <td>32661</td>\n",
       "      <td>8.0</td>\n",
       "      <td>2.087</td>\n",
       "    </tr>\n",
       "    <tr>\n",
       "      <th>3</th>\n",
       "      <td>Howto &amp; Style</td>\n",
       "      <td>2016-11-15</td>\n",
       "      <td>UC295-Dw_tDNtZXFeAPAW6Aw</td>\n",
       "      <td>5-Minute Crafts</td>\n",
       "      <td>60600000</td>\n",
       "      <td>3591</td>\n",
       "      <td>9.0</td>\n",
       "      <td>2.087</td>\n",
       "    </tr>\n",
       "    <tr>\n",
       "      <th>4</th>\n",
       "      <td>Sports</td>\n",
       "      <td>2007-05-11</td>\n",
       "      <td>UCJ5v_MCY6GNUBTO8-D3XoAg</td>\n",
       "      <td>WWE</td>\n",
       "      <td>48400000</td>\n",
       "      <td>43421</td>\n",
       "      <td>11.0</td>\n",
       "      <td>2.087</td>\n",
       "    </tr>\n",
       "  </tbody>\n",
       "</table>\n",
       "</div>"
      ],
      "text/plain": [
       "     category_cc   join_date                   channel  \\\n",
       "0         Gaming  2010-04-29  UC-lHJZR3Gqxm24_Vd_AJ5Yw   \n",
       "1      Education  2006-09-01  UCbCmjCuTUZos6Inko4u57UQ   \n",
       "2  Entertainment  2006-09-20  UCpEhnqL0y41EpW2TvWAHD7Q   \n",
       "3  Howto & Style  2016-11-15  UC295-Dw_tDNtZXFeAPAW6Aw   \n",
       "4         Sports  2007-05-11  UCJ5v_MCY6GNUBTO8-D3XoAg   \n",
       "\n",
       "                   name_cc  subscribers_cc  videos_cc  subscriber_rank_sb  \\\n",
       "0                PewDiePie       101000000       3956                 3.0   \n",
       "1  Cocomelon - Nursery ...        60100000        458                 7.0   \n",
       "2                SET India        56018869      32661                 8.0   \n",
       "3          5-Minute Crafts        60600000       3591                 9.0   \n",
       "4                      WWE        48400000      43421                11.0   \n",
       "\n",
       "   weights  \n",
       "0    2.087  \n",
       "1    2.087  \n",
       "2    2.087  \n",
       "3    2.087  \n",
       "4    2.087  "
      ]
     },
     "execution_count": 7,
     "metadata": {},
     "output_type": "execute_result"
    }
   ],
   "source": [
    "channelcrawler_projection.head()"
   ]
  },
  {
   "cell_type": "markdown",
   "metadata": {},
   "source": [
    "### Gender axis: men vs women"
   ]
  },
  {
   "cell_type": "code",
   "execution_count": 8,
   "metadata": {},
   "outputs": [
    {
     "data": {
      "text/html": [
       "<div>\n",
       "<style scoped>\n",
       "    .dataframe tbody tr th:only-of-type {\n",
       "        vertical-align: middle;\n",
       "    }\n",
       "\n",
       "    .dataframe tbody tr th {\n",
       "        vertical-align: top;\n",
       "    }\n",
       "\n",
       "    .dataframe thead th {\n",
       "        text-align: right;\n",
       "    }\n",
       "</style>\n",
       "<table border=\"1\" class=\"dataframe\">\n",
       "  <thead>\n",
       "    <tr style=\"text-align: right;\">\n",
       "      <th></th>\n",
       "      <th>category_cc</th>\n",
       "      <th>join_date</th>\n",
       "      <th>channel</th>\n",
       "      <th>name_cc</th>\n",
       "      <th>subscribers_cc</th>\n",
       "      <th>videos_cc</th>\n",
       "      <th>subscriber_rank_sb</th>\n",
       "      <th>weights</th>\n",
       "    </tr>\n",
       "  </thead>\n",
       "  <tbody>\n",
       "    <tr>\n",
       "      <th>2519</th>\n",
       "      <td>Howto &amp; Style</td>\n",
       "      <td>2011-09-29</td>\n",
       "      <td>UCZyCposXwcyopaACep44maQ</td>\n",
       "      <td>Alex Costa</td>\n",
       "      <td>2120000</td>\n",
       "      <td>543</td>\n",
       "      <td>5370.0</td>\n",
       "      <td>2.417</td>\n",
       "    </tr>\n",
       "  </tbody>\n",
       "</table>\n",
       "</div>"
      ],
      "text/plain": [
       "        category_cc   join_date                   channel     name_cc  \\\n",
       "2519  Howto & Style  2011-09-29  UCZyCposXwcyopaACep44maQ  Alex Costa   \n",
       "\n",
       "      subscribers_cc  videos_cc  subscriber_rank_sb  weights  \n",
       "2519         2120000        543              5370.0    2.417  "
      ]
     },
     "execution_count": 8,
     "metadata": {},
     "output_type": "execute_result"
    }
   ],
   "source": [
    "# Here you will find everything about: Men's Fashion, Hairstyle, Fitness & Health, Personal Vlogs and Tech.\n",
    "channelcrawler_projection[channelcrawler_projection['name_cc'] == 'Alex Costa']"
   ]
  },
  {
   "cell_type": "code",
   "execution_count": 9,
   "metadata": {},
   "outputs": [
    {
     "data": {
      "text/html": [
       "<div>\n",
       "<style scoped>\n",
       "    .dataframe tbody tr th:only-of-type {\n",
       "        vertical-align: middle;\n",
       "    }\n",
       "\n",
       "    .dataframe tbody tr th {\n",
       "        vertical-align: top;\n",
       "    }\n",
       "\n",
       "    .dataframe thead th {\n",
       "        text-align: right;\n",
       "    }\n",
       "</style>\n",
       "<table border=\"1\" class=\"dataframe\">\n",
       "  <thead>\n",
       "    <tr style=\"text-align: right;\">\n",
       "      <th></th>\n",
       "      <th>category_cc</th>\n",
       "      <th>join_date</th>\n",
       "      <th>channel</th>\n",
       "      <th>name_cc</th>\n",
       "      <th>subscribers_cc</th>\n",
       "      <th>videos_cc</th>\n",
       "      <th>subscriber_rank_sb</th>\n",
       "      <th>weights</th>\n",
       "    </tr>\n",
       "  </thead>\n",
       "  <tbody>\n",
       "    <tr>\n",
       "      <th>1737</th>\n",
       "      <td>Howto &amp; Style</td>\n",
       "      <td>2009-01-18</td>\n",
       "      <td>UCMpOz2KEfkSdd5JeIJh_fxw</td>\n",
       "      <td>Shaaanxo</td>\n",
       "      <td>3215340</td>\n",
       "      <td>1422</td>\n",
       "      <td>3566.0</td>\n",
       "      <td>2.278</td>\n",
       "    </tr>\n",
       "  </tbody>\n",
       "</table>\n",
       "</div>"
      ],
      "text/plain": [
       "        category_cc   join_date                   channel   name_cc  \\\n",
       "1737  Howto & Style  2009-01-18  UCMpOz2KEfkSdd5JeIJh_fxw  Shaaanxo   \n",
       "\n",
       "      subscribers_cc  videos_cc  subscriber_rank_sb  weights  \n",
       "1737         3215340       1422              3566.0    2.278  "
      ]
     },
     "execution_count": 9,
     "metadata": {},
     "output_type": "execute_result"
    }
   ],
   "source": [
    "# vlog channel about make up, hair transformation, rings selections, ...\n",
    "channelcrawler_projection[channelcrawler_projection['name_cc'] == 'Shaaanxo']"
   ]
  },
  {
   "cell_type": "code",
   "execution_count": 10,
   "metadata": {
    "scrolled": false
   },
   "outputs": [],
   "source": [
    "gender_seed = (dict_channel_ind['UCMpOz2KEfkSdd5JeIJh_fxw'], dict_channel_ind['UCZyCposXwcyopaACep44maQ'])\n",
    "\n",
    "gender_axis, df_gender_axis = compute_axis_vector_based_on_seed(PATH, k, gender_seed, nb_selected_pairs, selected_channels, channelcrawler_projection, dict_ind_channel)\n"
   ]
  },
  {
   "cell_type": "code",
   "execution_count": 11,
   "metadata": {},
   "outputs": [
    {
     "data": {
      "text/html": [
       "<div>\n",
       "<style scoped>\n",
       "    .dataframe tbody tr th:only-of-type {\n",
       "        vertical-align: middle;\n",
       "    }\n",
       "\n",
       "    .dataframe tbody tr th {\n",
       "        vertical-align: top;\n",
       "    }\n",
       "\n",
       "    .dataframe thead th {\n",
       "        text-align: right;\n",
       "    }\n",
       "</style>\n",
       "<table border=\"1\" class=\"dataframe\">\n",
       "  <thead>\n",
       "    <tr style=\"text-align: right;\">\n",
       "      <th></th>\n",
       "      <th>category_cc</th>\n",
       "      <th>join_date</th>\n",
       "      <th>channel</th>\n",
       "      <th>name_cc</th>\n",
       "      <th>subscribers_cc</th>\n",
       "      <th>videos_cc</th>\n",
       "      <th>subscriber_rank_sb</th>\n",
       "      <th>weights</th>\n",
       "    </tr>\n",
       "  </thead>\n",
       "  <tbody>\n",
       "    <tr>\n",
       "      <th>32211</th>\n",
       "      <td>People &amp; Blogs</td>\n",
       "      <td>2010-01-27</td>\n",
       "      <td>UCCVPSH-O0TJ-N2WcnFUnT3w</td>\n",
       "      <td>CandidMommy</td>\n",
       "      <td>163000</td>\n",
       "      <td>3135</td>\n",
       "      <td>106604.0</td>\n",
       "      <td>4.5670</td>\n",
       "    </tr>\n",
       "    <tr>\n",
       "      <th>1604</th>\n",
       "      <td>Education</td>\n",
       "      <td>2008-11-23</td>\n",
       "      <td>UC3w193M5tYPJqF0Hi-7U-2g</td>\n",
       "      <td>Dr. Eric Berg DC</td>\n",
       "      <td>3150000</td>\n",
       "      <td>2666</td>\n",
       "      <td>3266.0</td>\n",
       "      <td>2.2745</td>\n",
       "    </tr>\n",
       "    <tr>\n",
       "      <th>4803</th>\n",
       "      <td>Entertainment</td>\n",
       "      <td>2006-11-16</td>\n",
       "      <td>UCb0tMboxhHE8Jx6-nhJmRPw</td>\n",
       "      <td>Allure</td>\n",
       "      <td>1260000</td>\n",
       "      <td>1257</td>\n",
       "      <td>11215.0</td>\n",
       "      <td>2.6455</td>\n",
       "    </tr>\n",
       "    <tr>\n",
       "      <th>843</th>\n",
       "      <td>Entertainment</td>\n",
       "      <td>2015-09-25</td>\n",
       "      <td>UCHJuQZuzapBh-CuhRYxIZrg</td>\n",
       "      <td>Insider</td>\n",
       "      <td>4890000</td>\n",
       "      <td>6822</td>\n",
       "      <td>1613.0</td>\n",
       "      <td>2.0870</td>\n",
       "    </tr>\n",
       "    <tr>\n",
       "      <th>9343</th>\n",
       "      <td>Sports</td>\n",
       "      <td>2011-12-13</td>\n",
       "      <td>UCh0wrs-8ywjgZO7flfSmlqg</td>\n",
       "      <td>PhysiquesOfGreatness...</td>\n",
       "      <td>730000</td>\n",
       "      <td>873</td>\n",
       "      <td>24253.0</td>\n",
       "      <td>2.9260</td>\n",
       "    </tr>\n",
       "    <tr>\n",
       "      <th>306</th>\n",
       "      <td>Howto &amp; Style</td>\n",
       "      <td>2012-10-07</td>\n",
       "      <td>UC0YvTCy1I4_a-3pn47_5DBA</td>\n",
       "      <td>SaraBeautyCorner - D...</td>\n",
       "      <td>10400000</td>\n",
       "      <td>113</td>\n",
       "      <td>499.0</td>\n",
       "      <td>2.0870</td>\n",
       "    </tr>\n",
       "    <tr>\n",
       "      <th>3</th>\n",
       "      <td>Howto &amp; Style</td>\n",
       "      <td>2016-11-15</td>\n",
       "      <td>UC295-Dw_tDNtZXFeAPAW6Aw</td>\n",
       "      <td>5-Minute Crafts</td>\n",
       "      <td>60600000</td>\n",
       "      <td>3591</td>\n",
       "      <td>9.0</td>\n",
       "      <td>2.0870</td>\n",
       "    </tr>\n",
       "    <tr>\n",
       "      <th>31650</th>\n",
       "      <td>Gaming</td>\n",
       "      <td>2008-07-11</td>\n",
       "      <td>UC1wWQb7GYP6d_FdrNts-DpQ</td>\n",
       "      <td>Charriii5</td>\n",
       "      <td>161000</td>\n",
       "      <td>619</td>\n",
       "      <td>104236.0</td>\n",
       "      <td>4.3050</td>\n",
       "    </tr>\n",
       "  </tbody>\n",
       "</table>\n",
       "</div>"
      ],
      "text/plain": [
       "          category_cc   join_date                   channel  \\\n",
       "32211  People & Blogs  2010-01-27  UCCVPSH-O0TJ-N2WcnFUnT3w   \n",
       "1604        Education  2008-11-23  UC3w193M5tYPJqF0Hi-7U-2g   \n",
       "4803    Entertainment  2006-11-16  UCb0tMboxhHE8Jx6-nhJmRPw   \n",
       "843     Entertainment  2015-09-25  UCHJuQZuzapBh-CuhRYxIZrg   \n",
       "9343           Sports  2011-12-13  UCh0wrs-8ywjgZO7flfSmlqg   \n",
       "306     Howto & Style  2012-10-07  UC0YvTCy1I4_a-3pn47_5DBA   \n",
       "3       Howto & Style  2016-11-15  UC295-Dw_tDNtZXFeAPAW6Aw   \n",
       "31650          Gaming  2008-07-11  UC1wWQb7GYP6d_FdrNts-DpQ   \n",
       "\n",
       "                       name_cc  subscribers_cc  videos_cc  subscriber_rank_sb  \\\n",
       "32211              CandidMommy          163000       3135            106604.0   \n",
       "1604          Dr. Eric Berg DC         3150000       2666              3266.0   \n",
       "4803                    Allure         1260000       1257             11215.0   \n",
       "843                    Insider         4890000       6822              1613.0   \n",
       "9343   PhysiquesOfGreatness...          730000        873             24253.0   \n",
       "306    SaraBeautyCorner - D...        10400000        113               499.0   \n",
       "3              5-Minute Crafts        60600000       3591                 9.0   \n",
       "31650                Charriii5          161000        619            104236.0   \n",
       "\n",
       "       weights  \n",
       "32211   4.5670  \n",
       "1604    2.2745  \n",
       "4803    2.6455  \n",
       "843     2.0870  \n",
       "9343    2.9260  \n",
       "306     2.0870  \n",
       "3       2.0870  \n",
       "31650   4.3050  "
      ]
     },
     "execution_count": 11,
     "metadata": {},
     "output_type": "execute_result"
    }
   ],
   "source": [
    "df_gender_axis"
   ]
  },
  {
   "cell_type": "markdown",
   "metadata": {},
   "source": [
    "### Age axis: kids vs adult"
   ]
  },
  {
   "cell_type": "code",
   "execution_count": 12,
   "metadata": {},
   "outputs": [
    {
     "data": {
      "text/html": [
       "<div>\n",
       "<style scoped>\n",
       "    .dataframe tbody tr th:only-of-type {\n",
       "        vertical-align: middle;\n",
       "    }\n",
       "\n",
       "    .dataframe tbody tr th {\n",
       "        vertical-align: top;\n",
       "    }\n",
       "\n",
       "    .dataframe thead th {\n",
       "        text-align: right;\n",
       "    }\n",
       "</style>\n",
       "<table border=\"1\" class=\"dataframe\">\n",
       "  <thead>\n",
       "    <tr style=\"text-align: right;\">\n",
       "      <th></th>\n",
       "      <th>category_cc</th>\n",
       "      <th>join_date</th>\n",
       "      <th>channel</th>\n",
       "      <th>name_cc</th>\n",
       "      <th>subscribers_cc</th>\n",
       "      <th>videos_cc</th>\n",
       "      <th>subscriber_rank_sb</th>\n",
       "      <th>weights</th>\n",
       "    </tr>\n",
       "  </thead>\n",
       "  <tbody>\n",
       "    <tr>\n",
       "      <th>8280</th>\n",
       "      <td>Film and Animation</td>\n",
       "      <td>2013-12-17</td>\n",
       "      <td>UCISF5OGuAtSLNF24TKTnXag</td>\n",
       "      <td>Magpiepony</td>\n",
       "      <td>736000</td>\n",
       "      <td>304</td>\n",
       "      <td>21120.0</td>\n",
       "      <td>2.9225</td>\n",
       "    </tr>\n",
       "  </tbody>\n",
       "</table>\n",
       "</div>"
      ],
      "text/plain": [
       "             category_cc   join_date                   channel     name_cc  \\\n",
       "8280  Film and Animation  2013-12-17  UCISF5OGuAtSLNF24TKTnXag  Magpiepony   \n",
       "\n",
       "      subscribers_cc  videos_cc  subscriber_rank_sb  weights  \n",
       "8280          736000        304             21120.0   2.9225  "
      ]
     },
     "execution_count": 12,
     "metadata": {},
     "output_type": "execute_result"
    }
   ],
   "source": [
    "# Animation for kids\n",
    "channelcrawler_projection[channelcrawler_projection['name_cc'] == \"Magpiepony\"]"
   ]
  },
  {
   "cell_type": "code",
   "execution_count": 13,
   "metadata": {},
   "outputs": [
    {
     "data": {
      "text/html": [
       "<div>\n",
       "<style scoped>\n",
       "    .dataframe tbody tr th:only-of-type {\n",
       "        vertical-align: middle;\n",
       "    }\n",
       "\n",
       "    .dataframe tbody tr th {\n",
       "        vertical-align: top;\n",
       "    }\n",
       "\n",
       "    .dataframe thead th {\n",
       "        text-align: right;\n",
       "    }\n",
       "</style>\n",
       "<table border=\"1\" class=\"dataframe\">\n",
       "  <thead>\n",
       "    <tr style=\"text-align: right;\">\n",
       "      <th></th>\n",
       "      <th>category_cc</th>\n",
       "      <th>join_date</th>\n",
       "      <th>channel</th>\n",
       "      <th>name_cc</th>\n",
       "      <th>subscribers_cc</th>\n",
       "      <th>videos_cc</th>\n",
       "      <th>subscriber_rank_sb</th>\n",
       "      <th>weights</th>\n",
       "    </tr>\n",
       "  </thead>\n",
       "  <tbody>\n",
       "    <tr>\n",
       "      <th>7841</th>\n",
       "      <td>Entertainment</td>\n",
       "      <td>2008-11-03</td>\n",
       "      <td>UCAXR2zenCwvRIyQd9ydtfaA</td>\n",
       "      <td>Beyond The Trailer</td>\n",
       "      <td>853000</td>\n",
       "      <td>5064</td>\n",
       "      <td>19744.0</td>\n",
       "      <td>2.8635</td>\n",
       "    </tr>\n",
       "  </tbody>\n",
       "</table>\n",
       "</div>"
      ],
      "text/plain": [
       "        category_cc   join_date                   channel             name_cc  \\\n",
       "7841  Entertainment  2008-11-03  UCAXR2zenCwvRIyQd9ydtfaA  Beyond The Trailer   \n",
       "\n",
       "      subscribers_cc  videos_cc  subscriber_rank_sb  weights  \n",
       "7841          853000       5064             19744.0   2.8635  "
      ]
     },
     "execution_count": 13,
     "metadata": {},
     "output_type": "execute_result"
    }
   ],
   "source": [
    "# Channel analysing the films\n",
    "channelcrawler_projection[channelcrawler_projection['name_cc'] == 'Beyond The Trailer']"
   ]
  },
  {
   "cell_type": "code",
   "execution_count": 14,
   "metadata": {
    "scrolled": false
   },
   "outputs": [],
   "source": [
    "age_seed = (dict_channel_ind['UCISF5OGuAtSLNF24TKTnXag'], dict_channel_ind['UCAXR2zenCwvRIyQd9ydtfaA'])\n",
    "\n",
    "age_axis, df_output_age = compute_axis_vector_based_on_seed(PATH, k, age_seed, nb_selected_pairs, selected_channels, channelcrawler_projection, dict_ind_channel)"
   ]
  },
  {
   "cell_type": "code",
   "execution_count": 15,
   "metadata": {},
   "outputs": [
    {
     "data": {
      "text/html": [
       "<div>\n",
       "<style scoped>\n",
       "    .dataframe tbody tr th:only-of-type {\n",
       "        vertical-align: middle;\n",
       "    }\n",
       "\n",
       "    .dataframe tbody tr th {\n",
       "        vertical-align: top;\n",
       "    }\n",
       "\n",
       "    .dataframe thead th {\n",
       "        text-align: right;\n",
       "    }\n",
       "</style>\n",
       "<table border=\"1\" class=\"dataframe\">\n",
       "  <thead>\n",
       "    <tr style=\"text-align: right;\">\n",
       "      <th></th>\n",
       "      <th>category_cc</th>\n",
       "      <th>join_date</th>\n",
       "      <th>channel</th>\n",
       "      <th>name_cc</th>\n",
       "      <th>subscribers_cc</th>\n",
       "      <th>videos_cc</th>\n",
       "      <th>subscriber_rank_sb</th>\n",
       "      <th>weights</th>\n",
       "    </tr>\n",
       "  </thead>\n",
       "  <tbody>\n",
       "    <tr>\n",
       "      <th>3320</th>\n",
       "      <td>Film and Animation</td>\n",
       "      <td>2012-09-25</td>\n",
       "      <td>UCyjTUNqX_vasRG4AAaM34jA</td>\n",
       "      <td>Animation Domination...</td>\n",
       "      <td>1899859</td>\n",
       "      <td>254</td>\n",
       "      <td>7366.0</td>\n",
       "      <td>2.5365</td>\n",
       "    </tr>\n",
       "    <tr>\n",
       "      <th>66</th>\n",
       "      <td>Entertainment</td>\n",
       "      <td>2007-01-25</td>\n",
       "      <td>UCaWd5_7JhbQBe4dknZhsHJg</td>\n",
       "      <td>WatchMojo.com</td>\n",
       "      <td>21284359</td>\n",
       "      <td>17081</td>\n",
       "      <td>114.0</td>\n",
       "      <td>2.0870</td>\n",
       "    </tr>\n",
       "    <tr>\n",
       "      <th>3650</th>\n",
       "      <td>Comedy</td>\n",
       "      <td>2007-02-15</td>\n",
       "      <td>UCNyJk0eoESO3CxAmrktAB5w</td>\n",
       "      <td>Whitney Avalon</td>\n",
       "      <td>1680000</td>\n",
       "      <td>64</td>\n",
       "      <td>8276.0</td>\n",
       "      <td>2.5425</td>\n",
       "    </tr>\n",
       "    <tr>\n",
       "      <th>938</th>\n",
       "      <td>Entertainment</td>\n",
       "      <td>2010-05-30</td>\n",
       "      <td>UCQjh-JVPNWfY-KsZS3RgRHw</td>\n",
       "      <td>Clevver News</td>\n",
       "      <td>4550000</td>\n",
       "      <td>19142</td>\n",
       "      <td>1800.0</td>\n",
       "      <td>2.0870</td>\n",
       "    </tr>\n",
       "    <tr>\n",
       "      <th>16980</th>\n",
       "      <td>Gaming</td>\n",
       "      <td>2012-05-02</td>\n",
       "      <td>UCQTyMsas9G2_NAQkZFI-2UQ</td>\n",
       "      <td>Michaela Laws</td>\n",
       "      <td>365000</td>\n",
       "      <td>716</td>\n",
       "      <td>48494.0</td>\n",
       "      <td>3.4070</td>\n",
       "    </tr>\n",
       "    <tr>\n",
       "      <th>2668</th>\n",
       "      <td>Education</td>\n",
       "      <td>2014-12-18</td>\n",
       "      <td>UC_1HVMnw-610qx54iEiWk7A</td>\n",
       "      <td>akidearest</td>\n",
       "      <td>2140000</td>\n",
       "      <td>453</td>\n",
       "      <td>5780.0</td>\n",
       "      <td>2.4590</td>\n",
       "    </tr>\n",
       "    <tr>\n",
       "      <th>7623</th>\n",
       "      <td>Gaming</td>\n",
       "      <td>2011-08-06</td>\n",
       "      <td>UCsS3UQD3nvoRkz_W5CR5Y-w</td>\n",
       "      <td>MsBreezy</td>\n",
       "      <td>905000</td>\n",
       "      <td>653</td>\n",
       "      <td>19117.0</td>\n",
       "      <td>2.8770</td>\n",
       "    </tr>\n",
       "    <tr>\n",
       "      <th>716</th>\n",
       "      <td>Gaming</td>\n",
       "      <td>2010-09-01</td>\n",
       "      <td>UCdJdEguB1F1CiYe7OEi3SBg</td>\n",
       "      <td>JonTronShow</td>\n",
       "      <td>5662544</td>\n",
       "      <td>110</td>\n",
       "      <td>1315.0</td>\n",
       "      <td>2.0870</td>\n",
       "    </tr>\n",
       "    <tr>\n",
       "      <th>28617</th>\n",
       "      <td>Comedy</td>\n",
       "      <td>2016-03-16</td>\n",
       "      <td>UC8huou5jTYkbv8m0WFgeXag</td>\n",
       "      <td>Random Týpek</td>\n",
       "      <td>153000</td>\n",
       "      <td>70</td>\n",
       "      <td>92653.0</td>\n",
       "      <td>3.9355</td>\n",
       "    </tr>\n",
       "    <tr>\n",
       "      <th>2237</th>\n",
       "      <td>Entertainment</td>\n",
       "      <td>2014-07-02</td>\n",
       "      <td>UCa6TeYZ2DlueFRne5DyAnyg</td>\n",
       "      <td>Grandayy</td>\n",
       "      <td>2430000</td>\n",
       "      <td>550</td>\n",
       "      <td>4769.0</td>\n",
       "      <td>2.3670</td>\n",
       "    </tr>\n",
       "  </tbody>\n",
       "</table>\n",
       "</div>"
      ],
      "text/plain": [
       "              category_cc   join_date                   channel  \\\n",
       "3320   Film and Animation  2012-09-25  UCyjTUNqX_vasRG4AAaM34jA   \n",
       "66          Entertainment  2007-01-25  UCaWd5_7JhbQBe4dknZhsHJg   \n",
       "3650               Comedy  2007-02-15  UCNyJk0eoESO3CxAmrktAB5w   \n",
       "938         Entertainment  2010-05-30  UCQjh-JVPNWfY-KsZS3RgRHw   \n",
       "16980              Gaming  2012-05-02  UCQTyMsas9G2_NAQkZFI-2UQ   \n",
       "2668            Education  2014-12-18  UC_1HVMnw-610qx54iEiWk7A   \n",
       "7623               Gaming  2011-08-06  UCsS3UQD3nvoRkz_W5CR5Y-w   \n",
       "716                Gaming  2010-09-01  UCdJdEguB1F1CiYe7OEi3SBg   \n",
       "28617              Comedy  2016-03-16  UC8huou5jTYkbv8m0WFgeXag   \n",
       "2237        Entertainment  2014-07-02  UCa6TeYZ2DlueFRne5DyAnyg   \n",
       "\n",
       "                       name_cc  subscribers_cc  videos_cc  subscriber_rank_sb  \\\n",
       "3320   Animation Domination...         1899859        254              7366.0   \n",
       "66               WatchMojo.com        21284359      17081               114.0   \n",
       "3650            Whitney Avalon         1680000         64              8276.0   \n",
       "938               Clevver News         4550000      19142              1800.0   \n",
       "16980            Michaela Laws          365000        716             48494.0   \n",
       "2668                akidearest         2140000        453              5780.0   \n",
       "7623                  MsBreezy          905000        653             19117.0   \n",
       "716                JonTronShow         5662544        110              1315.0   \n",
       "28617             Random Týpek          153000         70             92653.0   \n",
       "2237                  Grandayy         2430000        550              4769.0   \n",
       "\n",
       "       weights  \n",
       "3320    2.5365  \n",
       "66      2.0870  \n",
       "3650    2.5425  \n",
       "938     2.0870  \n",
       "16980   3.4070  \n",
       "2668    2.4590  \n",
       "7623    2.8770  \n",
       "716     2.0870  \n",
       "28617   3.9355  \n",
       "2237    2.3670  "
      ]
     },
     "execution_count": 15,
     "metadata": {},
     "output_type": "execute_result"
    }
   ],
   "source": [
    "df_output_age"
   ]
  },
  {
   "cell_type": "markdown",
   "metadata": {},
   "source": [
    "## Validation of the created axis"
   ]
  },
  {
   "cell_type": "code",
   "execution_count": 16,
   "metadata": {},
   "outputs": [],
   "source": [
    "EMBEDDING = get_dataframe_in_embedding_space(PATH)"
   ]
  },
  {
   "cell_type": "code",
   "execution_count": 17,
   "metadata": {},
   "outputs": [],
   "source": [
    "# Channels having more than 500'000 subscribers are selected to create the axis.\n",
    "with open(\"/dlabdata1/youtube_large/jouven/channels_more_300/channels_more_500k_subs.pkl\",'rb') as f:\n",
    "     selected_channels_id = set(pickle.load(f))\n",
    "f.close()\n",
    "\n",
    "selected_channels = []\n",
    "for channel in selected_channels_id:\n",
    "    selected_channels.append(dict_channel_ind[channel])"
   ]
  },
  {
   "cell_type": "code",
   "execution_count": 18,
   "metadata": {},
   "outputs": [],
   "source": [
    "# Select the rows being in the select channels (english channels)\n",
    "channelcrawler = pd.read_csv(\"/dlabdata1/youtube_large/df_channels_en.tsv.gz\", sep='\\t')\n",
    "channelcrawler = channelcrawler[channelcrawler['channel'].apply(lambda row: row in channels_id)]"
   ]
  },
  {
   "cell_type": "code",
   "execution_count": 19,
   "metadata": {},
   "outputs": [],
   "source": [
    "dict_idx_name, dict_name_idx = channel_to_name(channelcrawler, dict_channel_ind)"
   ]
  },
  {
   "cell_type": "markdown",
   "metadata": {},
   "source": [
    "#### 1. Projection of the gender axis"
   ]
  },
  {
   "cell_type": "code",
   "execution_count": 20,
   "metadata": {},
   "outputs": [],
   "source": [
    "df_gender_projection = create_projection(EMBEDDING, gender_axis, dict_idx_name)"
   ]
  },
  {
   "cell_type": "code",
   "execution_count": 21,
   "metadata": {},
   "outputs": [],
   "source": [
    "# Inverse the signs for color matiching ...\n",
    "df_gender_projection['projection'] = -df_gender_projection['projection']"
   ]
  },
  {
   "cell_type": "code",
   "execution_count": 22,
   "metadata": {},
   "outputs": [
    {
     "data": {
      "text/html": [
       "<div>\n",
       "<style scoped>\n",
       "    .dataframe tbody tr th:only-of-type {\n",
       "        vertical-align: middle;\n",
       "    }\n",
       "\n",
       "    .dataframe tbody tr th {\n",
       "        vertical-align: top;\n",
       "    }\n",
       "\n",
       "    .dataframe thead th {\n",
       "        text-align: right;\n",
       "    }\n",
       "</style>\n",
       "<table border=\"1\" class=\"dataframe\">\n",
       "  <thead>\n",
       "    <tr style=\"text-align: right;\">\n",
       "      <th></th>\n",
       "      <th>name</th>\n",
       "      <th>projection</th>\n",
       "    </tr>\n",
       "  </thead>\n",
       "  <tbody>\n",
       "    <tr>\n",
       "      <th>0</th>\n",
       "      <td>Winded Voyage Sailin...</td>\n",
       "      <td>-4.187558</td>\n",
       "    </tr>\n",
       "    <tr>\n",
       "      <th>1</th>\n",
       "      <td>The Night Fury</td>\n",
       "      <td>-0.174620</td>\n",
       "    </tr>\n",
       "    <tr>\n",
       "      <th>2</th>\n",
       "      <td>Red Bull Surfing</td>\n",
       "      <td>2.598743</td>\n",
       "    </tr>\n",
       "    <tr>\n",
       "      <th>3</th>\n",
       "      <td>Heidi Joubert</td>\n",
       "      <td>-0.252121</td>\n",
       "    </tr>\n",
       "    <tr>\n",
       "      <th>4</th>\n",
       "      <td>MR JC</td>\n",
       "      <td>0.418371</td>\n",
       "    </tr>\n",
       "  </tbody>\n",
       "</table>\n",
       "</div>"
      ],
      "text/plain": [
       "                      name  projection\n",
       "0  Winded Voyage Sailin...   -4.187558\n",
       "1           The Night Fury   -0.174620\n",
       "2         Red Bull Surfing    2.598743\n",
       "3            Heidi Joubert   -0.252121\n",
       "4                    MR JC    0.418371"
      ]
     },
     "execution_count": 22,
     "metadata": {},
     "output_type": "execute_result"
    }
   ],
   "source": [
    "df_gender_projection.head()"
   ]
  },
  {
   "cell_type": "code",
   "execution_count": 23,
   "metadata": {},
   "outputs": [],
   "source": [
    "seed_gender_name = ('Alex Costa', 'Shaaanxo')"
   ]
  },
  {
   "cell_type": "code",
   "execution_count": 24,
   "metadata": {},
   "outputs": [
    {
     "name": "stderr",
     "output_type": "stream",
     "text": [
      "No handles with labels found to put in legend.\n"
     ]
    },
    {
     "ename": "NameError",
     "evalue": "name 'save_path' is not defined",
     "output_type": "error",
     "traceback": [
      "\u001b[0;31m---------------------------------------------------------------------------\u001b[0m",
      "\u001b[0;31mNameError\u001b[0m                                 Traceback (most recent call last)",
      "\u001b[0;32m<ipython-input-24-0a869f6fc05e>\u001b[0m in \u001b[0;36m<module>\u001b[0;34m\u001b[0m\n\u001b[0;32m----> 1\u001b[0;31m \u001b[0mvisualization\u001b[0m\u001b[0;34m(\u001b[0m\u001b[0mdf_gender_projection\u001b[0m\u001b[0;34m,\u001b[0m \u001b[0mseed_gender_name\u001b[0m\u001b[0;34m,\u001b[0m \u001b[0;34m'PiYG'\u001b[0m\u001b[0;34m,\u001b[0m \u001b[0;36m45\u001b[0m\u001b[0;34m,\u001b[0m \u001b[0;34m'Distribution of the gender axis projection scores'\u001b[0m\u001b[0;34m)\u001b[0m\u001b[0;34m\u001b[0m\u001b[0;34m\u001b[0m\u001b[0m\n\u001b[0m",
      "\u001b[0;32m~/youtube_projects/helpers/helpers_visualization_axis_projection.py\u001b[0m in \u001b[0;36mvisualization\u001b[0;34m(df_gender_projection, seed_name, color, nb_for_color, title, save_name)\u001b[0m\n\u001b[1;32m     51\u001b[0m     \u001b[0max\u001b[0m\u001b[0;34m.\u001b[0m\u001b[0mlegend\u001b[0m\u001b[0;34m(\u001b[0m\u001b[0;34m)\u001b[0m\u001b[0;34m\u001b[0m\u001b[0;34m\u001b[0m\u001b[0m\n\u001b[1;32m     52\u001b[0m     \u001b[0;31m#ax.set_title(title)\u001b[0m\u001b[0;34m\u001b[0m\u001b[0;34m\u001b[0m\u001b[0;34m\u001b[0m\u001b[0m\n\u001b[0;32m---> 53\u001b[0;31m     \u001b[0;32mif\u001b[0m \u001b[0msave_path\u001b[0m \u001b[0;34m!=\u001b[0m \u001b[0;32mNone\u001b[0m\u001b[0;34m:\u001b[0m\u001b[0;34m\u001b[0m\u001b[0;34m\u001b[0m\u001b[0m\n\u001b[0m\u001b[1;32m     54\u001b[0m               \u001b[0mplt\u001b[0m\u001b[0;34m.\u001b[0m\u001b[0msavefig\u001b[0m\u001b[0;34m(\u001b[0m\u001b[0;34m'/home/jouven/youtube_projects/word2vec_pytorch/embedding_space/run_channels_more_300/channel_sampling_then_combination/CONTEXT_True_100_SUBSAMPLING_False_LR_0.005/'\u001b[0m \u001b[0;34m+\u001b[0m \u001b[0msave_name\u001b[0m\u001b[0;34m)\u001b[0m\u001b[0;34m\u001b[0m\u001b[0;34m\u001b[0m\u001b[0m\n\u001b[1;32m     55\u001b[0m     \u001b[0mplt\u001b[0m\u001b[0;34m.\u001b[0m\u001b[0mshow\u001b[0m\u001b[0;34m(\u001b[0m\u001b[0;34m)\u001b[0m\u001b[0;34m\u001b[0m\u001b[0;34m\u001b[0m\u001b[0m\n",
      "\u001b[0;31mNameError\u001b[0m: name 'save_path' is not defined"
     ]
    },
    {
     "data": {
      "image/png": "[encoded data removed]",
      "text/plain": [
       "<Figure size 720x432 with 1 Axes>"
      ]
     },
     "metadata": {
      "needs_background": "light"
     },
     "output_type": "display_data"
    }
   ],
   "source": [
    "visualization(df_gender_projection, seed_gender_name, 'PiYG', 45, 'Distribution of the gender axis projection scores')"
   ]
  },
  {
   "cell_type": "code",
   "execution_count": null,
   "metadata": {},
   "outputs": [],
   "source": [
    "color = 'PiYG'\n",
    "cm = plt.cm.get_cmap(color)\n",
    "selected_pairs = 10\n",
    "\n",
    "df_left  = df_gender_projection.sort_values(by = ['projection'])[:selected_pairs]\n",
    "df_right = df_gender_projection.sort_values(by = ['projection'], ascending = False)[:selected_pairs]\n",
    "create_plot(df_left, df_right, selected_pairs, \"Gender projection: Channels at the poles\", (10, 6), cm)"
   ]
  },
  {
   "cell_type": "code",
   "execution_count": null,
   "metadata": {},
   "outputs": [],
   "source": [
    "color = 'PiYG'\n",
    "cm = plt.cm.get_cmap(color)\n",
    "selected_pairs = 10\n",
    "\n",
    "mask     = df_gender_projection['projection'].gt(-0.15)\n",
    "df_left  = df_gender_projection[~mask].sort_values(by = ['projection'], ascending = False)[:selected_pairs]\n",
    "mask     = df_gender_projection['projection'].gt(0.15)\n",
    "df_right = df_gender_projection[mask].sort_values(by = ['projection'])[:selected_pairs]\n",
    "create_plot(df_left, df_right, selected_pairs, \"Gender projection: Channels at the center\", (2, 6), cm, 7)"
   ]
  },
  {
   "cell_type": "code",
   "execution_count": null,
   "metadata": {},
   "outputs": [],
   "source": [
    "df_right = pd.DataFrame()\n",
    "df_right = df_right.append(df_gender_projection[df_gender_projection['name'] == 'EminemMusic'])\n",
    "df_right = df_right.append(df_gender_projection[df_gender_projection['name'] == 'Kali Muscle'])\n",
    "df_right = df_right.append(df_gender_projection[df_gender_projection['name'] == 'Ninja'])\n",
    "df_right = df_right.append(df_gender_projection[df_gender_projection['name'] == 'BluMaan'])\n",
    "\n",
    "df_left = pd.DataFrame()\n",
    "df_left = df_left.append(df_gender_projection[df_gender_projection['name'] == 'Ariana Grande'])\n",
    "df_left = df_left.append(df_gender_projection[df_gender_projection['name'] == 'Kayla Itsines'])\n",
    "df_left = df_left.append(df_gender_projection[df_gender_projection['name'] == 'LaurenzSide'])\n",
    "df_left = df_left.append(df_gender_projection[df_gender_projection['name'] == 'Liza Koshy'])\n",
    "\n",
    "color = 'PiYG'\n",
    "cm = plt.cm.get_cmap(color)\n",
    "\n",
    "create_plot(df_left, df_right, 4, \"Gender projection: Selected channels comparison\", (4, 2.5), cm, 'exemples_gender_projection.pdf')\n"
   ]
  },
  {
   "cell_type": "markdown",
   "metadata": {},
   "source": [
    "Select reknown girl or men like channels and validate if these channels are indeed correctly classified.\n",
    "- first line: fashion channels\n",
    "- second line: gaming channels\n",
    "- third line: fitness channels\n",
    "- fourth line: music channels"
   ]
  },
  {
   "cell_type": "markdown",
   "metadata": {},
   "source": [
    "#### 2. Projection on the age axis"
   ]
  },
  {
   "cell_type": "markdown",
   "metadata": {},
   "source": [
    "Channels having a negative projections score should correspond to adult channels, positive projections score should correspond to kids channels"
   ]
  },
  {
   "cell_type": "code",
   "execution_count": null,
   "metadata": {},
   "outputs": [],
   "source": [
    "df_age_projection = create_projection(EMBEDDING, age_axis, dict_idx_name)\n",
    "df_age_projection.head()"
   ]
  },
  {
   "cell_type": "code",
   "execution_count": null,
   "metadata": {},
   "outputs": [],
   "source": [
    "age_seed_name = (\"Magpiepony\", 'Beyond The Trailer')\n",
    "visualization(df_age_projection, age_seed_name, 'BrBG', 38, 'Distribution of the age axis projection score', 'distr_age.pdf')"
   ]
  },
  {
   "cell_type": "code",
   "execution_count": null,
   "metadata": {},
   "outputs": [],
   "source": [
    "color = 'BrBG'\n",
    "cm = plt.cm.get_cmap(color)\n",
    "selected_pairs = 10\n",
    "\n",
    "df_left  = df_age_projection.sort_values(by = ['projection'])[:selected_pairs]\n",
    "df_right = df_age_projection.sort_values(by = ['projection'], ascending = False)[:selected_pairs]\n",
    "create_plot(df_left, df_right, selected_pairs, \"Age projection: Channels at the poles\", (10, 10), cm)"
   ]
  },
  {
   "cell_type": "code",
   "execution_count": null,
   "metadata": {
    "scrolled": false
   },
   "outputs": [],
   "source": [
    "color = 'BrBG'\n",
    "cm = plt.cm.get_cmap(color)\n",
    "selected_pairs = 10\n",
    "\n",
    "mask     = df_age_projection['projection'].gt(-0.3)\n",
    "df_left  = df_age_projection[~mask].sort_values(by = ['projection'], ascending = False)[:selected_pairs]\n",
    "mask     = df_age_projection['projection'].gt(0.3)\n",
    "df_right = df_age_projection[mask].sort_values(by = ['projection'])[:selected_pairs]\n",
    "create_plot(df_left, df_right, selected_pairs, \"Gender projection: Channel at the center\", (2, 6), cm, 1)"
   ]
  },
  {
   "cell_type": "code",
   "execution_count": null,
   "metadata": {},
   "outputs": [],
   "source": [
    "df_age_projection[df_age_projection['name'] == \"Blippi\"]"
   ]
  },
  {
   "cell_type": "code",
   "execution_count": null,
   "metadata": {},
   "outputs": [],
   "source": [
    "df_age_projection[df_age_projection['name'] == \"Action Movie Kids\"]"
   ]
  },
  {
   "cell_type": "code",
   "execution_count": null,
   "metadata": {},
   "outputs": [],
   "source": [
    "df_left = pd.DataFrame()\n",
    "df_left = df_left.append(df_age_projection[df_age_projection['name'] == 'Classical Tunes'])\n",
    "df_left = df_left.append(df_age_projection[df_age_projection['name'] == 'James Bond 007'])\n",
    "df_left = df_left.append(df_age_projection[df_age_projection['name'] == 'Call of Duty'])\n",
    "\n",
    "df_right = pd.DataFrame()\n",
    "df_right = df_right.append(df_age_projection[df_age_projection['name'] == 'Kids TV - Nursery Rh...'])\n",
    "df_right = df_right.append(df_age_projection[df_age_projection['name'] == 'My Little Pony Offic...'])\n",
    "df_right = df_right.append(df_age_projection[df_age_projection['name'] == 'Kids Games Tv'])\n",
    "\n",
    "color = 'PiYG'\n",
    "cm = plt.cm.get_cmap(color)\n",
    "\n",
    "create_plot(df_left, df_right, 3, \"Age projection: Selected channels comparison\", (3, 2), cm, 'exemples_age_projection.pdf')\n"
   ]
  }
 ],
 "metadata": {
  "kernelspec": {
   "display_name": "Python 3",
   "language": "python",
   "name": "python3"
  },
  "language_info": {
   "codemirror_mode": {
    "name": "ipython",
    "version": 3
   },
   "file_extension": ".py",
   "mimetype": "text/x-python",
   "name": "python",
   "nbconvert_exporter": "python",
   "pygments_lexer": "ipython3",
   "version": "3.7.7"
  }
 },
 "nbformat": 4,
 "nbformat_minor": 4
}
