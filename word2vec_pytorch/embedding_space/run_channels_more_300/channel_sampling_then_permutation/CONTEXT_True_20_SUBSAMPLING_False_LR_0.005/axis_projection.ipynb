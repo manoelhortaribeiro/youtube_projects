{
 "cells": [
  {
   "cell_type": "markdown",
   "metadata": {},
   "source": [
    "### NOTEBOOK DESCRIPTION:\n",
    "\n",
    "This notebook does the axis projection based on age and gender axis as well as a validation technique based on the generated axis"
   ]
  },
  {
   "cell_type": "code",
   "execution_count": 1,
   "metadata": {},
   "outputs": [],
   "source": [
    "import os\n",
    "import sys\n",
    "\n",
    "import pandas as pd\n",
    "import numpy as np\n",
    "import matplotlib.pyplot as plt\n",
    "\n",
    "\n",
    "scriptpath = \"/home/jouven/youtube_projects/\"\n",
    "sys.path.append(os.path.abspath(scriptpath))\n",
    "\n",
    "from helpers.helpers_channels_more_300 import *\n",
    "from helpers.helpers_channel_embedding import *\n",
    "from helpers.helpers_visualization_axis_projection import *"
   ]
  },
  {
   "cell_type": "markdown",
   "metadata": {},
   "source": [
    "### Selected parameters for the axis projection"
   ]
  },
  {
   "cell_type": "code",
   "execution_count": 2,
   "metadata": {},
   "outputs": [],
   "source": [
    "# Number of neirest neighbors taken\n",
    "k = 10\n",
    "\n",
    "# Selected number of pairs to create the axis\n",
    "nb_selected_pairs = 7"
   ]
  },
  {
   "cell_type": "markdown",
   "metadata": {},
   "source": [
    "### Useful functions"
   ]
  },
  {
   "cell_type": "code",
   "execution_count": 3,
   "metadata": {},
   "outputs": [],
   "source": [
    "PATH = '/dlabdata1/youtube_large/jouven/word2vec_pytorch/run_channels_more_300/channel_sampling_then_permutation/CONTEXT_True_20_SUBSAMPLING_False_0.0043_LR_0.005/models/embedding0.csv.gz'"
   ]
  },
  {
   "cell_type": "code",
   "execution_count": 4,
   "metadata": {},
   "outputs": [],
   "source": [
    "dict_channel_ind, dict_ind_channel, channels_id = filtered_channels_index_id_mapping()"
   ]
  },
  {
   "cell_type": "markdown",
   "metadata": {},
   "source": [
    "## Finding cultural axis for our channel embedding"
   ]
  },
  {
   "cell_type": "code",
   "execution_count": 5,
   "metadata": {},
   "outputs": [],
   "source": [
    "selected_channels = []\n",
    "for channel in channels_id:\n",
    "    selected_channels.append(dict_channel_ind[channel])"
   ]
  },
  {
   "cell_type": "code",
   "execution_count": 6,
   "metadata": {},
   "outputs": [],
   "source": [
    "channelcrawler_projection = pd.read_csv(\"/dlabdata1/youtube_large/df_channels_en.tsv.gz\", sep='\\t')\n",
    "# Select the rows being in the select channels\n",
    "channelcrawler_projection = channelcrawler_projection[channelcrawler_projection['channel'].apply(lambda row: row in channels_id)]"
   ]
  },
  {
   "cell_type": "code",
   "execution_count": 7,
   "metadata": {},
   "outputs": [
    {
     "data": {
      "text/html": [
       "<div>\n",
       "<style scoped>\n",
       "    .dataframe tbody tr th:only-of-type {\n",
       "        vertical-align: middle;\n",
       "    }\n",
       "\n",
       "    .dataframe tbody tr th {\n",
       "        vertical-align: top;\n",
       "    }\n",
       "\n",
       "    .dataframe thead th {\n",
       "        text-align: right;\n",
       "    }\n",
       "</style>\n",
       "<table border=\"1\" class=\"dataframe\">\n",
       "  <thead>\n",
       "    <tr style=\"text-align: right;\">\n",
       "      <th></th>\n",
       "      <th>category_cc</th>\n",
       "      <th>join_date</th>\n",
       "      <th>channel</th>\n",
       "      <th>name_cc</th>\n",
       "      <th>subscribers_cc</th>\n",
       "      <th>videos_cc</th>\n",
       "      <th>subscriber_rank_sb</th>\n",
       "      <th>weights</th>\n",
       "    </tr>\n",
       "  </thead>\n",
       "  <tbody>\n",
       "    <tr>\n",
       "      <th>0</th>\n",
       "      <td>Gaming</td>\n",
       "      <td>2010-04-29</td>\n",
       "      <td>UC-lHJZR3Gqxm24_Vd_AJ5Yw</td>\n",
       "      <td>PewDiePie</td>\n",
       "      <td>101000000</td>\n",
       "      <td>3956</td>\n",
       "      <td>3.0</td>\n",
       "      <td>2.087</td>\n",
       "    </tr>\n",
       "    <tr>\n",
       "      <th>1</th>\n",
       "      <td>Education</td>\n",
       "      <td>2006-09-01</td>\n",
       "      <td>UCbCmjCuTUZos6Inko4u57UQ</td>\n",
       "      <td>Cocomelon - Nursery ...</td>\n",
       "      <td>60100000</td>\n",
       "      <td>458</td>\n",
       "      <td>7.0</td>\n",
       "      <td>2.087</td>\n",
       "    </tr>\n",
       "    <tr>\n",
       "      <th>2</th>\n",
       "      <td>Entertainment</td>\n",
       "      <td>2006-09-20</td>\n",
       "      <td>UCpEhnqL0y41EpW2TvWAHD7Q</td>\n",
       "      <td>SET India</td>\n",
       "      <td>56018869</td>\n",
       "      <td>32661</td>\n",
       "      <td>8.0</td>\n",
       "      <td>2.087</td>\n",
       "    </tr>\n",
       "    <tr>\n",
       "      <th>3</th>\n",
       "      <td>Howto &amp; Style</td>\n",
       "      <td>2016-11-15</td>\n",
       "      <td>UC295-Dw_tDNtZXFeAPAW6Aw</td>\n",
       "      <td>5-Minute Crafts</td>\n",
       "      <td>60600000</td>\n",
       "      <td>3591</td>\n",
       "      <td>9.0</td>\n",
       "      <td>2.087</td>\n",
       "    </tr>\n",
       "    <tr>\n",
       "      <th>4</th>\n",
       "      <td>Sports</td>\n",
       "      <td>2007-05-11</td>\n",
       "      <td>UCJ5v_MCY6GNUBTO8-D3XoAg</td>\n",
       "      <td>WWE</td>\n",
       "      <td>48400000</td>\n",
       "      <td>43421</td>\n",
       "      <td>11.0</td>\n",
       "      <td>2.087</td>\n",
       "    </tr>\n",
       "  </tbody>\n",
       "</table>\n",
       "</div>"
      ],
      "text/plain": [
       "     category_cc   join_date                   channel  \\\n",
       "0         Gaming  2010-04-29  UC-lHJZR3Gqxm24_Vd_AJ5Yw   \n",
       "1      Education  2006-09-01  UCbCmjCuTUZos6Inko4u57UQ   \n",
       "2  Entertainment  2006-09-20  UCpEhnqL0y41EpW2TvWAHD7Q   \n",
       "3  Howto & Style  2016-11-15  UC295-Dw_tDNtZXFeAPAW6Aw   \n",
       "4         Sports  2007-05-11  UCJ5v_MCY6GNUBTO8-D3XoAg   \n",
       "\n",
       "                   name_cc  subscribers_cc  videos_cc  subscriber_rank_sb  \\\n",
       "0                PewDiePie       101000000       3956                 3.0   \n",
       "1  Cocomelon - Nursery ...        60100000        458                 7.0   \n",
       "2                SET India        56018869      32661                 8.0   \n",
       "3          5-Minute Crafts        60600000       3591                 9.0   \n",
       "4                      WWE        48400000      43421                11.0   \n",
       "\n",
       "   weights  \n",
       "0    2.087  \n",
       "1    2.087  \n",
       "2    2.087  \n",
       "3    2.087  \n",
       "4    2.087  "
      ]
     },
     "execution_count": 7,
     "metadata": {},
     "output_type": "execute_result"
    }
   ],
   "source": [
    "channelcrawler_projection.head()"
   ]
  },
  {
   "cell_type": "markdown",
   "metadata": {},
   "source": [
    "### Gender axis: men vs women"
   ]
  },
  {
   "cell_type": "code",
   "execution_count": 8,
   "metadata": {},
   "outputs": [
    {
     "data": {
      "text/html": [
       "<div>\n",
       "<style scoped>\n",
       "    .dataframe tbody tr th:only-of-type {\n",
       "        vertical-align: middle;\n",
       "    }\n",
       "\n",
       "    .dataframe tbody tr th {\n",
       "        vertical-align: top;\n",
       "    }\n",
       "\n",
       "    .dataframe thead th {\n",
       "        text-align: right;\n",
       "    }\n",
       "</style>\n",
       "<table border=\"1\" class=\"dataframe\">\n",
       "  <thead>\n",
       "    <tr style=\"text-align: right;\">\n",
       "      <th></th>\n",
       "      <th>category_cc</th>\n",
       "      <th>join_date</th>\n",
       "      <th>channel</th>\n",
       "      <th>name_cc</th>\n",
       "      <th>subscribers_cc</th>\n",
       "      <th>videos_cc</th>\n",
       "      <th>subscriber_rank_sb</th>\n",
       "      <th>weights</th>\n",
       "    </tr>\n",
       "  </thead>\n",
       "  <tbody>\n",
       "    <tr>\n",
       "      <th>2519</th>\n",
       "      <td>Howto &amp; Style</td>\n",
       "      <td>2011-09-29</td>\n",
       "      <td>UCZyCposXwcyopaACep44maQ</td>\n",
       "      <td>Alex Costa</td>\n",
       "      <td>2120000</td>\n",
       "      <td>543</td>\n",
       "      <td>5370.0</td>\n",
       "      <td>2.417</td>\n",
       "    </tr>\n",
       "  </tbody>\n",
       "</table>\n",
       "</div>"
      ],
      "text/plain": [
       "        category_cc   join_date                   channel     name_cc  \\\n",
       "2519  Howto & Style  2011-09-29  UCZyCposXwcyopaACep44maQ  Alex Costa   \n",
       "\n",
       "      subscribers_cc  videos_cc  subscriber_rank_sb  weights  \n",
       "2519         2120000        543              5370.0    2.417  "
      ]
     },
     "execution_count": 8,
     "metadata": {},
     "output_type": "execute_result"
    }
   ],
   "source": [
    "# Here you will find everything about: Men's Fashion, Hairstyle, Fitness & Health, Personal Vlogs and Tech.\n",
    "channelcrawler_projection[channelcrawler_projection['name_cc'] == 'Alex Costa']"
   ]
  },
  {
   "cell_type": "code",
   "execution_count": 9,
   "metadata": {},
   "outputs": [
    {
     "data": {
      "text/html": [
       "<div>\n",
       "<style scoped>\n",
       "    .dataframe tbody tr th:only-of-type {\n",
       "        vertical-align: middle;\n",
       "    }\n",
       "\n",
       "    .dataframe tbody tr th {\n",
       "        vertical-align: top;\n",
       "    }\n",
       "\n",
       "    .dataframe thead th {\n",
       "        text-align: right;\n",
       "    }\n",
       "</style>\n",
       "<table border=\"1\" class=\"dataframe\">\n",
       "  <thead>\n",
       "    <tr style=\"text-align: right;\">\n",
       "      <th></th>\n",
       "      <th>category_cc</th>\n",
       "      <th>join_date</th>\n",
       "      <th>channel</th>\n",
       "      <th>name_cc</th>\n",
       "      <th>subscribers_cc</th>\n",
       "      <th>videos_cc</th>\n",
       "      <th>subscriber_rank_sb</th>\n",
       "      <th>weights</th>\n",
       "    </tr>\n",
       "  </thead>\n",
       "  <tbody>\n",
       "    <tr>\n",
       "      <th>1737</th>\n",
       "      <td>Howto &amp; Style</td>\n",
       "      <td>2009-01-18</td>\n",
       "      <td>UCMpOz2KEfkSdd5JeIJh_fxw</td>\n",
       "      <td>Shaaanxo</td>\n",
       "      <td>3215340</td>\n",
       "      <td>1422</td>\n",
       "      <td>3566.0</td>\n",
       "      <td>2.278</td>\n",
       "    </tr>\n",
       "  </tbody>\n",
       "</table>\n",
       "</div>"
      ],
      "text/plain": [
       "        category_cc   join_date                   channel   name_cc  \\\n",
       "1737  Howto & Style  2009-01-18  UCMpOz2KEfkSdd5JeIJh_fxw  Shaaanxo   \n",
       "\n",
       "      subscribers_cc  videos_cc  subscriber_rank_sb  weights  \n",
       "1737         3215340       1422              3566.0    2.278  "
      ]
     },
     "execution_count": 9,
     "metadata": {},
     "output_type": "execute_result"
    }
   ],
   "source": [
    "# vlog channel about make up, hair transformation, rings selections, ...\n",
    "channelcrawler_projection[channelcrawler_projection['name_cc'] == 'Shaaanxo']"
   ]
  },
  {
   "cell_type": "code",
   "execution_count": 10,
   "metadata": {
    "scrolled": false
   },
   "outputs": [],
   "source": [
    "gender_seed = (dict_channel_ind['UCMpOz2KEfkSdd5JeIJh_fxw'], dict_channel_ind['UCZyCposXwcyopaACep44maQ'])\n",
    "\n",
    "gender_axis, df_gender_axis = compute_axis_vector_based_on_seed(PATH, k, gender_seed, nb_selected_pairs, selected_channels, channelcrawler_projection, dict_ind_channel)\n"
   ]
  },
  {
   "cell_type": "code",
   "execution_count": 11,
   "metadata": {},
   "outputs": [
    {
     "data": {
      "text/html": [
       "<div>\n",
       "<style scoped>\n",
       "    .dataframe tbody tr th:only-of-type {\n",
       "        vertical-align: middle;\n",
       "    }\n",
       "\n",
       "    .dataframe tbody tr th {\n",
       "        vertical-align: top;\n",
       "    }\n",
       "\n",
       "    .dataframe thead th {\n",
       "        text-align: right;\n",
       "    }\n",
       "</style>\n",
       "<table border=\"1\" class=\"dataframe\">\n",
       "  <thead>\n",
       "    <tr style=\"text-align: right;\">\n",
       "      <th></th>\n",
       "      <th>category_cc</th>\n",
       "      <th>join_date</th>\n",
       "      <th>channel</th>\n",
       "      <th>name_cc</th>\n",
       "      <th>subscribers_cc</th>\n",
       "      <th>videos_cc</th>\n",
       "      <th>subscriber_rank_sb</th>\n",
       "      <th>weights</th>\n",
       "    </tr>\n",
       "  </thead>\n",
       "  <tbody>\n",
       "    <tr>\n",
       "      <th>1325</th>\n",
       "      <td>People &amp; Blogs</td>\n",
       "      <td>2012-06-03</td>\n",
       "      <td>UCGX1Z6DakWkBqS2xbmMF0yA</td>\n",
       "      <td>Jeamileth Doll</td>\n",
       "      <td>3590000</td>\n",
       "      <td>1042</td>\n",
       "      <td>2642.0</td>\n",
       "      <td>2.2125</td>\n",
       "    </tr>\n",
       "    <tr>\n",
       "      <th>108</th>\n",
       "      <td>Music</td>\n",
       "      <td>2014-06-09</td>\n",
       "      <td>UCmBA_wu8xGg1OfOkfW13Q0Q</td>\n",
       "      <td>Bad Bunny</td>\n",
       "      <td>19500000</td>\n",
       "      <td>33</td>\n",
       "      <td>168.0</td>\n",
       "      <td>2.0870</td>\n",
       "    </tr>\n",
       "    <tr>\n",
       "      <th>668</th>\n",
       "      <td>People &amp; Blogs</td>\n",
       "      <td>2006-05-07</td>\n",
       "      <td>UCey_c7U86mJGz1VJWH5CYPA</td>\n",
       "      <td>iJustine</td>\n",
       "      <td>6110000</td>\n",
       "      <td>1826</td>\n",
       "      <td>1206.0</td>\n",
       "      <td>2.0870</td>\n",
       "    </tr>\n",
       "    <tr>\n",
       "      <th>1243</th>\n",
       "      <td>Science &amp; Technology</td>\n",
       "      <td>2007-08-05</td>\n",
       "      <td>UCXGgrKt94gR6lmN4aN3mYTg</td>\n",
       "      <td>Austin Evans</td>\n",
       "      <td>3880000</td>\n",
       "      <td>1585</td>\n",
       "      <td>2464.0</td>\n",
       "      <td>2.1915</td>\n",
       "    </tr>\n",
       "    <tr>\n",
       "      <th>7621</th>\n",
       "      <td>Howto &amp; Style</td>\n",
       "      <td>2009-01-19</td>\n",
       "      <td>UC15Do9RclIFswko5GfhMSaA</td>\n",
       "      <td>KlairedelysArt</td>\n",
       "      <td>905000</td>\n",
       "      <td>504</td>\n",
       "      <td>19115.0</td>\n",
       "      <td>2.8785</td>\n",
       "    </tr>\n",
       "    <tr>\n",
       "      <th>1693</th>\n",
       "      <td>Howto &amp; Style</td>\n",
       "      <td>2006-11-04</td>\n",
       "      <td>UCno-YPZ8BiLrN0Wbl8qICFA</td>\n",
       "      <td>markcrilley</td>\n",
       "      <td>3020000</td>\n",
       "      <td>740</td>\n",
       "      <td>3461.0</td>\n",
       "      <td>2.2920</td>\n",
       "    </tr>\n",
       "    <tr>\n",
       "      <th>9794</th>\n",
       "      <td>People &amp; Blogs</td>\n",
       "      <td>2013-09-15</td>\n",
       "      <td>UCs1uwp7bB1J_3r5xN2ioL_w</td>\n",
       "      <td>High Carb Hannah</td>\n",
       "      <td>683000</td>\n",
       "      <td>330</td>\n",
       "      <td>25520.0</td>\n",
       "      <td>2.9895</td>\n",
       "    </tr>\n",
       "    <tr>\n",
       "      <th>14438</th>\n",
       "      <td>Entertainment</td>\n",
       "      <td>2015-09-03</td>\n",
       "      <td>UCpyhJZhJQWKDdJCR07jPY-Q</td>\n",
       "      <td>Simnett Nutrition</td>\n",
       "      <td>341000</td>\n",
       "      <td>302</td>\n",
       "      <td>40079.0</td>\n",
       "      <td>3.3235</td>\n",
       "    </tr>\n",
       "    <tr>\n",
       "      <th>5359</th>\n",
       "      <td>Howto &amp; Style</td>\n",
       "      <td>2012-01-05</td>\n",
       "      <td>UCDGdRHdLtV7VS_nWg9C2RVA</td>\n",
       "      <td>Anne Clutz</td>\n",
       "      <td>1150000</td>\n",
       "      <td>698</td>\n",
       "      <td>12757.0</td>\n",
       "      <td>2.7115</td>\n",
       "    </tr>\n",
       "    <tr>\n",
       "      <th>746</th>\n",
       "      <td>People &amp; Blogs</td>\n",
       "      <td>2017-07-18</td>\n",
       "      <td>UC6N-9Wh0DYhDI8sQS7jwjVA</td>\n",
       "      <td>Ms Alex Gonzaga</td>\n",
       "      <td>4370000</td>\n",
       "      <td>103</td>\n",
       "      <td>1390.0</td>\n",
       "      <td>2.0870</td>\n",
       "    </tr>\n",
       "    <tr>\n",
       "      <th>6910</th>\n",
       "      <td>Howto &amp; Style</td>\n",
       "      <td>2014-03-30</td>\n",
       "      <td>UCCTzjL5U0a2TTHoFTSRUxCg</td>\n",
       "      <td>Blush with me-Parmit...</td>\n",
       "      <td>816000</td>\n",
       "      <td>158</td>\n",
       "      <td>17173.0</td>\n",
       "      <td>2.8335</td>\n",
       "    </tr>\n",
       "    <tr>\n",
       "      <th>2497</th>\n",
       "      <td>Howto &amp; Style</td>\n",
       "      <td>2016-08-21</td>\n",
       "      <td>UCYC6Vcczj8v-Y5OgpEJTFBw</td>\n",
       "      <td>Fit Tuber</td>\n",
       "      <td>2010000</td>\n",
       "      <td>166</td>\n",
       "      <td>5320.0</td>\n",
       "      <td>2.3960</td>\n",
       "    </tr>\n",
       "    <tr>\n",
       "      <th>932</th>\n",
       "      <td>People &amp; Blogs</td>\n",
       "      <td>2012-12-31</td>\n",
       "      <td>UCyCyTe_1bT2aIPwG_gxbyeg</td>\n",
       "      <td>Daily Bumps</td>\n",
       "      <td>4880000</td>\n",
       "      <td>2205</td>\n",
       "      <td>1794.0</td>\n",
       "      <td>2.0870</td>\n",
       "    </tr>\n",
       "    <tr>\n",
       "      <th>381</th>\n",
       "      <td>People &amp; Blogs</td>\n",
       "      <td>2013-06-21</td>\n",
       "      <td>UCtZAaljDNIsIAIhwYYzvEiw</td>\n",
       "      <td>Eh Bee Family</td>\n",
       "      <td>8750000</td>\n",
       "      <td>747</td>\n",
       "      <td>636.0</td>\n",
       "      <td>2.0870</td>\n",
       "    </tr>\n",
       "  </tbody>\n",
       "</table>\n",
       "</div>"
      ],
      "text/plain": [
       "                category_cc   join_date                   channel  \\\n",
       "1325         People & Blogs  2012-06-03  UCGX1Z6DakWkBqS2xbmMF0yA   \n",
       "108                   Music  2014-06-09  UCmBA_wu8xGg1OfOkfW13Q0Q   \n",
       "668          People & Blogs  2006-05-07  UCey_c7U86mJGz1VJWH5CYPA   \n",
       "1243   Science & Technology  2007-08-05  UCXGgrKt94gR6lmN4aN3mYTg   \n",
       "7621          Howto & Style  2009-01-19  UC15Do9RclIFswko5GfhMSaA   \n",
       "1693          Howto & Style  2006-11-04  UCno-YPZ8BiLrN0Wbl8qICFA   \n",
       "9794         People & Blogs  2013-09-15  UCs1uwp7bB1J_3r5xN2ioL_w   \n",
       "14438         Entertainment  2015-09-03  UCpyhJZhJQWKDdJCR07jPY-Q   \n",
       "5359          Howto & Style  2012-01-05  UCDGdRHdLtV7VS_nWg9C2RVA   \n",
       "746          People & Blogs  2017-07-18  UC6N-9Wh0DYhDI8sQS7jwjVA   \n",
       "6910          Howto & Style  2014-03-30  UCCTzjL5U0a2TTHoFTSRUxCg   \n",
       "2497          Howto & Style  2016-08-21  UCYC6Vcczj8v-Y5OgpEJTFBw   \n",
       "932          People & Blogs  2012-12-31  UCyCyTe_1bT2aIPwG_gxbyeg   \n",
       "381          People & Blogs  2013-06-21  UCtZAaljDNIsIAIhwYYzvEiw   \n",
       "\n",
       "                       name_cc  subscribers_cc  videos_cc  subscriber_rank_sb  \\\n",
       "1325            Jeamileth Doll         3590000       1042              2642.0   \n",
       "108                  Bad Bunny        19500000         33               168.0   \n",
       "668                   iJustine         6110000       1826              1206.0   \n",
       "1243              Austin Evans         3880000       1585              2464.0   \n",
       "7621            KlairedelysArt          905000        504             19115.0   \n",
       "1693               markcrilley         3020000        740              3461.0   \n",
       "9794          High Carb Hannah          683000        330             25520.0   \n",
       "14438        Simnett Nutrition          341000        302             40079.0   \n",
       "5359                Anne Clutz         1150000        698             12757.0   \n",
       "746            Ms Alex Gonzaga         4370000        103              1390.0   \n",
       "6910   Blush with me-Parmit...          816000        158             17173.0   \n",
       "2497                 Fit Tuber         2010000        166              5320.0   \n",
       "932                Daily Bumps         4880000       2205              1794.0   \n",
       "381              Eh Bee Family         8750000        747               636.0   \n",
       "\n",
       "       weights  \n",
       "1325    2.2125  \n",
       "108     2.0870  \n",
       "668     2.0870  \n",
       "1243    2.1915  \n",
       "7621    2.8785  \n",
       "1693    2.2920  \n",
       "9794    2.9895  \n",
       "14438   3.3235  \n",
       "5359    2.7115  \n",
       "746     2.0870  \n",
       "6910    2.8335  \n",
       "2497    2.3960  \n",
       "932     2.0870  \n",
       "381     2.0870  "
      ]
     },
     "execution_count": 11,
     "metadata": {},
     "output_type": "execute_result"
    }
   ],
   "source": [
    "df_gender_axis"
   ]
  },
  {
   "cell_type": "markdown",
   "metadata": {},
   "source": [
    "### Age axis: kids vs adult"
   ]
  },
  {
   "cell_type": "code",
   "execution_count": 12,
   "metadata": {},
   "outputs": [
    {
     "data": {
      "text/html": [
       "<div>\n",
       "<style scoped>\n",
       "    .dataframe tbody tr th:only-of-type {\n",
       "        vertical-align: middle;\n",
       "    }\n",
       "\n",
       "    .dataframe tbody tr th {\n",
       "        vertical-align: top;\n",
       "    }\n",
       "\n",
       "    .dataframe thead th {\n",
       "        text-align: right;\n",
       "    }\n",
       "</style>\n",
       "<table border=\"1\" class=\"dataframe\">\n",
       "  <thead>\n",
       "    <tr style=\"text-align: right;\">\n",
       "      <th></th>\n",
       "      <th>category_cc</th>\n",
       "      <th>join_date</th>\n",
       "      <th>channel</th>\n",
       "      <th>name_cc</th>\n",
       "      <th>subscribers_cc</th>\n",
       "      <th>videos_cc</th>\n",
       "      <th>subscriber_rank_sb</th>\n",
       "      <th>weights</th>\n",
       "    </tr>\n",
       "  </thead>\n",
       "  <tbody>\n",
       "    <tr>\n",
       "      <th>8280</th>\n",
       "      <td>Film and Animation</td>\n",
       "      <td>2013-12-17</td>\n",
       "      <td>UCISF5OGuAtSLNF24TKTnXag</td>\n",
       "      <td>Magpiepony</td>\n",
       "      <td>736000</td>\n",
       "      <td>304</td>\n",
       "      <td>21120.0</td>\n",
       "      <td>2.9225</td>\n",
       "    </tr>\n",
       "  </tbody>\n",
       "</table>\n",
       "</div>"
      ],
      "text/plain": [
       "             category_cc   join_date                   channel     name_cc  \\\n",
       "8280  Film and Animation  2013-12-17  UCISF5OGuAtSLNF24TKTnXag  Magpiepony   \n",
       "\n",
       "      subscribers_cc  videos_cc  subscriber_rank_sb  weights  \n",
       "8280          736000        304             21120.0   2.9225  "
      ]
     },
     "execution_count": 12,
     "metadata": {},
     "output_type": "execute_result"
    }
   ],
   "source": [
    "# Animation for kids\n",
    "channelcrawler_projection[channelcrawler_projection['name_cc'] == \"Magpiepony\"]"
   ]
  },
  {
   "cell_type": "code",
   "execution_count": 13,
   "metadata": {},
   "outputs": [
    {
     "data": {
      "text/html": [
       "<div>\n",
       "<style scoped>\n",
       "    .dataframe tbody tr th:only-of-type {\n",
       "        vertical-align: middle;\n",
       "    }\n",
       "\n",
       "    .dataframe tbody tr th {\n",
       "        vertical-align: top;\n",
       "    }\n",
       "\n",
       "    .dataframe thead th {\n",
       "        text-align: right;\n",
       "    }\n",
       "</style>\n",
       "<table border=\"1\" class=\"dataframe\">\n",
       "  <thead>\n",
       "    <tr style=\"text-align: right;\">\n",
       "      <th></th>\n",
       "      <th>category_cc</th>\n",
       "      <th>join_date</th>\n",
       "      <th>channel</th>\n",
       "      <th>name_cc</th>\n",
       "      <th>subscribers_cc</th>\n",
       "      <th>videos_cc</th>\n",
       "      <th>subscriber_rank_sb</th>\n",
       "      <th>weights</th>\n",
       "    </tr>\n",
       "  </thead>\n",
       "  <tbody>\n",
       "    <tr>\n",
       "      <th>7841</th>\n",
       "      <td>Entertainment</td>\n",
       "      <td>2008-11-03</td>\n",
       "      <td>UCAXR2zenCwvRIyQd9ydtfaA</td>\n",
       "      <td>Beyond The Trailer</td>\n",
       "      <td>853000</td>\n",
       "      <td>5064</td>\n",
       "      <td>19744.0</td>\n",
       "      <td>2.8635</td>\n",
       "    </tr>\n",
       "  </tbody>\n",
       "</table>\n",
       "</div>"
      ],
      "text/plain": [
       "        category_cc   join_date                   channel             name_cc  \\\n",
       "7841  Entertainment  2008-11-03  UCAXR2zenCwvRIyQd9ydtfaA  Beyond The Trailer   \n",
       "\n",
       "      subscribers_cc  videos_cc  subscriber_rank_sb  weights  \n",
       "7841          853000       5064             19744.0   2.8635  "
      ]
     },
     "execution_count": 13,
     "metadata": {},
     "output_type": "execute_result"
    }
   ],
   "source": [
    "# Channel analysing the films\n",
    "channelcrawler_projection[channelcrawler_projection['name_cc'] == 'Beyond The Trailer']"
   ]
  },
  {
   "cell_type": "code",
   "execution_count": 14,
   "metadata": {
    "scrolled": false
   },
   "outputs": [],
   "source": [
    "age_seed = (dict_channel_ind['UCISF5OGuAtSLNF24TKTnXag'], dict_channel_ind['UCAXR2zenCwvRIyQd9ydtfaA'])\n",
    "\n",
    "age_axis, df_output_age = compute_axis_vector_based_on_seed(PATH, k, age_seed, nb_selected_pairs, selected_channels, channelcrawler_projection, dict_ind_channel)"
   ]
  },
  {
   "cell_type": "code",
   "execution_count": 15,
   "metadata": {},
   "outputs": [
    {
     "data": {
      "text/html": [
       "<div>\n",
       "<style scoped>\n",
       "    .dataframe tbody tr th:only-of-type {\n",
       "        vertical-align: middle;\n",
       "    }\n",
       "\n",
       "    .dataframe tbody tr th {\n",
       "        vertical-align: top;\n",
       "    }\n",
       "\n",
       "    .dataframe thead th {\n",
       "        text-align: right;\n",
       "    }\n",
       "</style>\n",
       "<table border=\"1\" class=\"dataframe\">\n",
       "  <thead>\n",
       "    <tr style=\"text-align: right;\">\n",
       "      <th></th>\n",
       "      <th>category_cc</th>\n",
       "      <th>join_date</th>\n",
       "      <th>channel</th>\n",
       "      <th>name_cc</th>\n",
       "      <th>subscribers_cc</th>\n",
       "      <th>videos_cc</th>\n",
       "      <th>subscriber_rank_sb</th>\n",
       "      <th>weights</th>\n",
       "    </tr>\n",
       "  </thead>\n",
       "  <tbody>\n",
       "    <tr>\n",
       "      <th>1944</th>\n",
       "      <td>Film and Animation</td>\n",
       "      <td>2012-08-19</td>\n",
       "      <td>UC1AEadAUKi6Zt-G3PatrU-Q</td>\n",
       "      <td>Letupita725HD★</td>\n",
       "      <td>2698245</td>\n",
       "      <td>2115</td>\n",
       "      <td>4054.0</td>\n",
       "      <td>2.3350</td>\n",
       "    </tr>\n",
       "    <tr>\n",
       "      <th>115</th>\n",
       "      <td>Music</td>\n",
       "      <td>2010-05-20</td>\n",
       "      <td>UCgwv23FVv3lqh567yagXfNg</td>\n",
       "      <td>DisneyMusicVEVO</td>\n",
       "      <td>15600000</td>\n",
       "      <td>949</td>\n",
       "      <td>177.0</td>\n",
       "      <td>2.0870</td>\n",
       "    </tr>\n",
       "    <tr>\n",
       "      <th>647</th>\n",
       "      <td>Music</td>\n",
       "      <td>2016-06-09</td>\n",
       "      <td>UCvR2R7j218tzejtTsb_X6Rw</td>\n",
       "      <td>DopeLyrics</td>\n",
       "      <td>5810000</td>\n",
       "      <td>905</td>\n",
       "      <td>1153.0</td>\n",
       "      <td>2.0870</td>\n",
       "    </tr>\n",
       "    <tr>\n",
       "      <th>9</th>\n",
       "      <td>Music</td>\n",
       "      <td>2006-08-08</td>\n",
       "      <td>UC0C-w0YjGpqDXGB8IHb662A</td>\n",
       "      <td>Ed Sheeran</td>\n",
       "      <td>42000000</td>\n",
       "      <td>154</td>\n",
       "      <td>17.0</td>\n",
       "      <td>2.0870</td>\n",
       "    </tr>\n",
       "    <tr>\n",
       "      <th>11612</th>\n",
       "      <td>Gaming</td>\n",
       "      <td>2016-08-02</td>\n",
       "      <td>UC_HBvd4H4_oW9m_q_JjCzhQ</td>\n",
       "      <td>Gameplay - Android /...</td>\n",
       "      <td>499000</td>\n",
       "      <td>2277</td>\n",
       "      <td>30997.0</td>\n",
       "      <td>3.0640</td>\n",
       "    </tr>\n",
       "    <tr>\n",
       "      <th>1354</th>\n",
       "      <td>Gaming</td>\n",
       "      <td>2007-02-08</td>\n",
       "      <td>UCg_j7kndWLFZEg4yCqUWPCA</td>\n",
       "      <td>packattack04082</td>\n",
       "      <td>3680000</td>\n",
       "      <td>7433</td>\n",
       "      <td>2689.0</td>\n",
       "      <td>2.2160</td>\n",
       "    </tr>\n",
       "    <tr>\n",
       "      <th>5068</th>\n",
       "      <td>Entertainment</td>\n",
       "      <td>2016-03-21</td>\n",
       "      <td>UCkuzHfsi228Voj0rSeMOnKw</td>\n",
       "      <td>Kiwi Show</td>\n",
       "      <td>1070000</td>\n",
       "      <td>423</td>\n",
       "      <td>11943.0</td>\n",
       "      <td>2.6960</td>\n",
       "    </tr>\n",
       "    <tr>\n",
       "      <th>475</th>\n",
       "      <td>Science &amp; Technology</td>\n",
       "      <td>2016-08-24</td>\n",
       "      <td>UCatfiM69M9ZnNhOzy0jZ41A</td>\n",
       "      <td>Power Vision</td>\n",
       "      <td>6630000</td>\n",
       "      <td>963</td>\n",
       "      <td>815.0</td>\n",
       "      <td>2.0870</td>\n",
       "    </tr>\n",
       "    <tr>\n",
       "      <th>520</th>\n",
       "      <td>Film and Animation</td>\n",
       "      <td>2014-02-17</td>\n",
       "      <td>UCGwu0nbY2wSkW8N-cghnLpA</td>\n",
       "      <td>Jaiden Animations</td>\n",
       "      <td>6730000</td>\n",
       "      <td>87</td>\n",
       "      <td>906.0</td>\n",
       "      <td>2.0870</td>\n",
       "    </tr>\n",
       "    <tr>\n",
       "      <th>443</th>\n",
       "      <td>Film and Animation</td>\n",
       "      <td>2014-05-12</td>\n",
       "      <td>UC3sznuotAs2ohg_U__Jzj_Q</td>\n",
       "      <td>The Film Theorists</td>\n",
       "      <td>7890000</td>\n",
       "      <td>202</td>\n",
       "      <td>749.0</td>\n",
       "      <td>2.0870</td>\n",
       "    </tr>\n",
       "    <tr>\n",
       "      <th>10700</th>\n",
       "      <td>Gaming</td>\n",
       "      <td>2009-10-26</td>\n",
       "      <td>UCsJjXWCFZcDn-IAghR--S_A</td>\n",
       "      <td>CommunityGame</td>\n",
       "      <td>593000</td>\n",
       "      <td>4850</td>\n",
       "      <td>28244.0</td>\n",
       "      <td>3.0125</td>\n",
       "    </tr>\n",
       "    <tr>\n",
       "      <th>8057</th>\n",
       "      <td>Gaming</td>\n",
       "      <td>2009-12-19</td>\n",
       "      <td>UC8JiX8bJM5DzU41LyHpsYtA</td>\n",
       "      <td>RajmanGaming HD</td>\n",
       "      <td>813000</td>\n",
       "      <td>9122</td>\n",
       "      <td>20337.0</td>\n",
       "      <td>2.9130</td>\n",
       "    </tr>\n",
       "    <tr>\n",
       "      <th>104331</th>\n",
       "      <td>People &amp; Blogs</td>\n",
       "      <td>2017-12-30</td>\n",
       "      <td>UCz0uuHE8Tc-IUt8ByXAseSg</td>\n",
       "      <td>HoNeYRose</td>\n",
       "      <td>20500</td>\n",
       "      <td>40</td>\n",
       "      <td>583885.0</td>\n",
       "      <td>6.8030</td>\n",
       "    </tr>\n",
       "    <tr>\n",
       "      <th>29274</th>\n",
       "      <td>Music</td>\n",
       "      <td>2014-04-07</td>\n",
       "      <td>UCPuN7fg3egozcWjesaCAhaQ</td>\n",
       "      <td>Synesthesia TV</td>\n",
       "      <td>169000</td>\n",
       "      <td>72</td>\n",
       "      <td>95202.0</td>\n",
       "      <td>3.8070</td>\n",
       "    </tr>\n",
       "  </tbody>\n",
       "</table>\n",
       "</div>"
      ],
      "text/plain": [
       "                 category_cc   join_date                   channel  \\\n",
       "1944      Film and Animation  2012-08-19  UC1AEadAUKi6Zt-G3PatrU-Q   \n",
       "115                    Music  2010-05-20  UCgwv23FVv3lqh567yagXfNg   \n",
       "647                    Music  2016-06-09  UCvR2R7j218tzejtTsb_X6Rw   \n",
       "9                      Music  2006-08-08  UC0C-w0YjGpqDXGB8IHb662A   \n",
       "11612                 Gaming  2016-08-02  UC_HBvd4H4_oW9m_q_JjCzhQ   \n",
       "1354                  Gaming  2007-02-08  UCg_j7kndWLFZEg4yCqUWPCA   \n",
       "5068           Entertainment  2016-03-21  UCkuzHfsi228Voj0rSeMOnKw   \n",
       "475     Science & Technology  2016-08-24  UCatfiM69M9ZnNhOzy0jZ41A   \n",
       "520       Film and Animation  2014-02-17  UCGwu0nbY2wSkW8N-cghnLpA   \n",
       "443       Film and Animation  2014-05-12  UC3sznuotAs2ohg_U__Jzj_Q   \n",
       "10700                 Gaming  2009-10-26  UCsJjXWCFZcDn-IAghR--S_A   \n",
       "8057                  Gaming  2009-12-19  UC8JiX8bJM5DzU41LyHpsYtA   \n",
       "104331        People & Blogs  2017-12-30  UCz0uuHE8Tc-IUt8ByXAseSg   \n",
       "29274                  Music  2014-04-07  UCPuN7fg3egozcWjesaCAhaQ   \n",
       "\n",
       "                        name_cc  subscribers_cc  videos_cc  \\\n",
       "1944             Letupita725HD★         2698245       2115   \n",
       "115             DisneyMusicVEVO        15600000        949   \n",
       "647                  DopeLyrics         5810000        905   \n",
       "9                    Ed Sheeran        42000000        154   \n",
       "11612   Gameplay - Android /...          499000       2277   \n",
       "1354            packattack04082         3680000       7433   \n",
       "5068                  Kiwi Show         1070000        423   \n",
       "475                Power Vision         6630000        963   \n",
       "520           Jaiden Animations         6730000         87   \n",
       "443          The Film Theorists         7890000        202   \n",
       "10700             CommunityGame          593000       4850   \n",
       "8057            RajmanGaming HD          813000       9122   \n",
       "104331                HoNeYRose           20500         40   \n",
       "29274            Synesthesia TV          169000         72   \n",
       "\n",
       "        subscriber_rank_sb  weights  \n",
       "1944                4054.0   2.3350  \n",
       "115                  177.0   2.0870  \n",
       "647                 1153.0   2.0870  \n",
       "9                     17.0   2.0870  \n",
       "11612              30997.0   3.0640  \n",
       "1354                2689.0   2.2160  \n",
       "5068               11943.0   2.6960  \n",
       "475                  815.0   2.0870  \n",
       "520                  906.0   2.0870  \n",
       "443                  749.0   2.0870  \n",
       "10700              28244.0   3.0125  \n",
       "8057               20337.0   2.9130  \n",
       "104331            583885.0   6.8030  \n",
       "29274              95202.0   3.8070  "
      ]
     },
     "execution_count": 15,
     "metadata": {},
     "output_type": "execute_result"
    }
   ],
   "source": [
    "df_output_age"
   ]
  },
  {
   "cell_type": "markdown",
   "metadata": {},
   "source": [
    "## Validation of the created axis"
   ]
  },
  {
   "cell_type": "code",
   "execution_count": 16,
   "metadata": {},
   "outputs": [],
   "source": [
    "EMBEDDING = get_dataframe_in_embedding_space(PATH)"
   ]
  },
  {
   "cell_type": "code",
   "execution_count": 17,
   "metadata": {},
   "outputs": [],
   "source": [
    "# Channels having more than 500'000 subscribers are selected to create the axis.\n",
    "with open(\"/dlabdata1/youtube_large/jouven/channels_more_300/channels_more_500k_subs.pkl\",'rb') as f:\n",
    "     selected_channels_id = set(pickle.load(f))\n",
    "f.close()\n",
    "\n",
    "selected_channels = []\n",
    "for channel in selected_channels_id:\n",
    "    selected_channels.append(dict_channel_ind[channel])"
   ]
  },
  {
   "cell_type": "code",
   "execution_count": 18,
   "metadata": {},
   "outputs": [],
   "source": [
    "# Select the rows being in the select channels (english channels)\n",
    "channelcrawler = pd.read_csv(\"/dlabdata1/youtube_large/df_channels_en.tsv.gz\", sep='\\t')\n",
    "channelcrawler = channelcrawler[channelcrawler['channel'].apply(lambda row: row in channels_id)]"
   ]
  },
  {
   "cell_type": "code",
   "execution_count": 19,
   "metadata": {},
   "outputs": [],
   "source": [
    "dict_idx_name, dict_name_idx = channel_to_name(channelcrawler, dict_channel_ind)"
   ]
  },
  {
   "cell_type": "markdown",
   "metadata": {},
   "source": [
    "#### 1. Projection of the gender axis"
   ]
  },
  {
   "cell_type": "code",
   "execution_count": 20,
   "metadata": {},
   "outputs": [],
   "source": [
    "df_gender_projection = create_projection(EMBEDDING, gender_axis, dict_idx_name)"
   ]
  },
  {
   "cell_type": "code",
   "execution_count": 21,
   "metadata": {},
   "outputs": [],
   "source": [
    "# Inverse the signs for color matiching ...\n",
    "df_gender_projection['projection'] = -df_gender_projection['projection']"
   ]
  },
  {
   "cell_type": "code",
   "execution_count": 22,
   "metadata": {},
   "outputs": [
    {
     "data": {
      "text/html": [
       "<div>\n",
       "<style scoped>\n",
       "    .dataframe tbody tr th:only-of-type {\n",
       "        vertical-align: middle;\n",
       "    }\n",
       "\n",
       "    .dataframe tbody tr th {\n",
       "        vertical-align: top;\n",
       "    }\n",
       "\n",
       "    .dataframe thead th {\n",
       "        text-align: right;\n",
       "    }\n",
       "</style>\n",
       "<table border=\"1\" class=\"dataframe\">\n",
       "  <thead>\n",
       "    <tr style=\"text-align: right;\">\n",
       "      <th></th>\n",
       "      <th>name</th>\n",
       "      <th>projection</th>\n",
       "    </tr>\n",
       "  </thead>\n",
       "  <tbody>\n",
       "    <tr>\n",
       "      <th>0</th>\n",
       "      <td>Winded Voyage Sailin...</td>\n",
       "      <td>-0.996996</td>\n",
       "    </tr>\n",
       "    <tr>\n",
       "      <th>1</th>\n",
       "      <td>The Night Fury</td>\n",
       "      <td>-0.554030</td>\n",
       "    </tr>\n",
       "    <tr>\n",
       "      <th>2</th>\n",
       "      <td>Red Bull Surfing</td>\n",
       "      <td>0.845113</td>\n",
       "    </tr>\n",
       "    <tr>\n",
       "      <th>3</th>\n",
       "      <td>Heidi Joubert</td>\n",
       "      <td>-0.966660</td>\n",
       "    </tr>\n",
       "    <tr>\n",
       "      <th>4</th>\n",
       "      <td>MR JC</td>\n",
       "      <td>-0.385903</td>\n",
       "    </tr>\n",
       "  </tbody>\n",
       "</table>\n",
       "</div>"
      ],
      "text/plain": [
       "                      name  projection\n",
       "0  Winded Voyage Sailin...   -0.996996\n",
       "1           The Night Fury   -0.554030\n",
       "2         Red Bull Surfing    0.845113\n",
       "3            Heidi Joubert   -0.966660\n",
       "4                    MR JC   -0.385903"
      ]
     },
     "execution_count": 22,
     "metadata": {},
     "output_type": "execute_result"
    }
   ],
   "source": [
    "df_gender_projection.head()"
   ]
  },
  {
   "cell_type": "code",
   "execution_count": 23,
   "metadata": {},
   "outputs": [],
   "source": [
    "seed_gender_name = ('Alex Costa', 'Shaaanxo')"
   ]
  },
  {
   "cell_type": "code",
   "execution_count": 24,
   "metadata": {},
   "outputs": [
    {
     "name": "stderr",
     "output_type": "stream",
     "text": [
      "No handles with labels found to put in legend.\n"
     ]
    },
    {
     "data": {
      "image/png": "[encoded data removed]",
      "text/plain": [
       "<Figure size 720x432 with 1 Axes>"
      ]
     },
     "metadata": {
      "needs_background": "light"
     },
     "output_type": "display_data"
    }
   ],
   "source": [
    "visualization(df_gender_projection, seed_gender_name, 'PiYG', 38, 'Distribution of the gender axis projection scores')"
   ]
  },
  {
   "cell_type": "code",
   "execution_count": 25,
   "metadata": {},
   "outputs": [
    {
     "data": {
      "image/png": "[encoded data removed]",
      "text/plain": [
       "<Figure size 720x432 with 1 Axes>"
      ]
     },
     "metadata": {
      "needs_background": "light"
     },
     "output_type": "display_data"
    }
   ],
   "source": [
    "color = 'PiYG'\n",
    "cm = plt.cm.get_cmap(color)\n",
    "selected_pairs = 10\n",
    "\n",
    "df_left  = df_gender_projection.sort_values(by = ['projection'])[:selected_pairs]\n",
    "df_right = df_gender_projection.sort_values(by = ['projection'], ascending = False)[:selected_pairs]\n",
    "create_plot(df_left, df_right, selected_pairs, \"Gender projection: Channels at the poles\", (10, 6), cm)"
   ]
  },
  {
   "cell_type": "markdown",
   "metadata": {},
   "source": [
    "In the plot above, negative projection value should correspond to men channel whereas positive projection value should correspond to women channel."
   ]
  },
  {
   "cell_type": "code",
   "execution_count": 26,
   "metadata": {},
   "outputs": [
    {
     "data": {
      "text/plain": [
       "'\\ncolor = \\'PiYG\\'\\ncm = plt.cm.get_cmap(color)\\nselected_pairs = 10\\n\\nmask     = df_gender_projection[\\'projection\\'].gt(0)\\ndf_left  = df_gender_projection[~mask]\\ndf_left  = df_left.iloc[random.sample(list(np.arange(len(df_left))), selected_pairs)].sort_values(by = [\\'projection\\'])\\ndf_right = df_gender_projection[mask]\\ndf_right = df_right.iloc[random.sample(list(np.arange(len(df_right))), selected_pairs)].sort_values(by = [\\'projection\\'], ascending = False)\\ncreate_plot(df_left, df_right, selected_pairs, \"Gender projection: Channels taken at random\", (7, 6))\\n'"
      ]
     },
     "execution_count": 26,
     "metadata": {},
     "output_type": "execute_result"
    }
   ],
   "source": [
    "'''\n",
    "color = 'PiYG'\n",
    "cm = plt.cm.get_cmap(color)\n",
    "selected_pairs = 10\n",
    "\n",
    "mask     = df_gender_projection['projection'].gt(0)\n",
    "df_left  = df_gender_projection[~mask]\n",
    "df_left  = df_left.iloc[random.sample(list(np.arange(len(df_left))), selected_pairs)].sort_values(by = ['projection'])\n",
    "df_right = df_gender_projection[mask]\n",
    "df_right = df_right.iloc[random.sample(list(np.arange(len(df_right))), selected_pairs)].sort_values(by = ['projection'], ascending = False)\n",
    "create_plot(df_left, df_right, selected_pairs, \"Gender projection: Channels taken at random\", (7, 6))\n",
    "'''"
   ]
  },
  {
   "cell_type": "code",
   "execution_count": 27,
   "metadata": {},
   "outputs": [
    {
     "data": {
      "image/png": "[encoded data removed]",
      "text/plain": [
       "<Figure size 144x432 with 1 Axes>"
      ]
     },
     "metadata": {
      "needs_background": "light"
     },
     "output_type": "display_data"
    }
   ],
   "source": [
    "color = 'PiYG'\n",
    "cm = plt.cm.get_cmap(color)\n",
    "selected_pairs = 10\n",
    "\n",
    "mask     = df_gender_projection['projection'].gt(-0.15)\n",
    "df_left  = df_gender_projection[~mask].sort_values(by = ['projection'], ascending = False)[:selected_pairs]\n",
    "mask     = df_gender_projection['projection'].gt(0.15)\n",
    "df_right = df_gender_projection[mask].sort_values(by = ['projection'])[:selected_pairs]\n",
    "create_plot(df_left, df_right, selected_pairs, \"Gender projection: Channels at the center\", (2, 6), cm, 7)"
   ]
  },
  {
   "cell_type": "code",
   "execution_count": 28,
   "metadata": {},
   "outputs": [
    {
     "data": {
      "text/html": [
       "<div>\n",
       "<style scoped>\n",
       "    .dataframe tbody tr th:only-of-type {\n",
       "        vertical-align: middle;\n",
       "    }\n",
       "\n",
       "    .dataframe tbody tr th {\n",
       "        vertical-align: top;\n",
       "    }\n",
       "\n",
       "    .dataframe thead th {\n",
       "        text-align: right;\n",
       "    }\n",
       "</style>\n",
       "<table border=\"1\" class=\"dataframe\">\n",
       "  <thead>\n",
       "    <tr style=\"text-align: right;\">\n",
       "      <th></th>\n",
       "      <th>name</th>\n",
       "      <th>projection</th>\n",
       "    </tr>\n",
       "  </thead>\n",
       "  <tbody>\n",
       "    <tr>\n",
       "      <th>86588</th>\n",
       "      <td>MattDoesFitness</td>\n",
       "      <td>-0.093526</td>\n",
       "    </tr>\n",
       "  </tbody>\n",
       "</table>\n",
       "</div>"
      ],
      "text/plain": [
       "                  name  projection\n",
       "86588  MattDoesFitness   -0.093526"
      ]
     },
     "execution_count": 28,
     "metadata": {},
     "output_type": "execute_result"
    }
   ],
   "source": [
    "df_gender_projection[df_gender_projection['name'] == \"MattDoesFitness\"]"
   ]
  },
  {
   "cell_type": "code",
   "execution_count": 29,
   "metadata": {},
   "outputs": [
    {
     "data": {
      "image/png": "[encoded data removed]",
      "text/plain": [
       "<Figure size 288x180 with 1 Axes>"
      ]
     },
     "metadata": {
      "needs_background": "light"
     },
     "output_type": "display_data"
    }
   ],
   "source": [
    "df_right = pd.DataFrame()\n",
    "df_right = df_right.append(df_gender_projection[df_gender_projection['name'] == 'EminemMusic'])\n",
    "df_right = df_right.append(df_gender_projection[df_gender_projection['name'] == 'Kali Muscle'])\n",
    "df_right = df_right.append(df_gender_projection[df_gender_projection['name'] == 'Ninja'])\n",
    "df_right = df_right.append(df_gender_projection[df_gender_projection['name'] == 'BluMaan'])\n",
    "\n",
    "df_left = pd.DataFrame()\n",
    "df_left = df_left.append(df_gender_projection[df_gender_projection['name'] == 'Ariana Grande'])\n",
    "df_left = df_left.append(df_gender_projection[df_gender_projection['name'] == 'Kayla Itsines'])\n",
    "df_left = df_left.append(df_gender_projection[df_gender_projection['name'] == 'LaurenzSide'])\n",
    "df_left = df_left.append(df_gender_projection[df_gender_projection['name'] == 'Liza Koshy'])\n",
    "\n",
    "color = 'PiYG'\n",
    "cm = plt.cm.get_cmap(color)\n",
    "\n",
    "create_plot(df_left, df_right, 4, \"Gender projection: Selected channels comparison\", (4, 2.5), cm)\n"
   ]
  },
  {
   "cell_type": "markdown",
   "metadata": {},
   "source": [
    "Select reknown girl or men like channels and validate if these channels are indeed correctly classified.\n",
    "- first line: fashion channels\n",
    "- second line: gaming channels\n",
    "- third line: fitness channels\n",
    "- fourth line: music channels"
   ]
  },
  {
   "cell_type": "markdown",
   "metadata": {},
   "source": [
    "#### 2. Projection on the age axis"
   ]
  },
  {
   "cell_type": "markdown",
   "metadata": {},
   "source": [
    "Channels having a negative projections score should correspond to adult channels, positive projections score should correspond to kids channels"
   ]
  },
  {
   "cell_type": "code",
   "execution_count": 30,
   "metadata": {},
   "outputs": [
    {
     "data": {
      "text/html": [
       "<div>\n",
       "<style scoped>\n",
       "    .dataframe tbody tr th:only-of-type {\n",
       "        vertical-align: middle;\n",
       "    }\n",
       "\n",
       "    .dataframe tbody tr th {\n",
       "        vertical-align: top;\n",
       "    }\n",
       "\n",
       "    .dataframe thead th {\n",
       "        text-align: right;\n",
       "    }\n",
       "</style>\n",
       "<table border=\"1\" class=\"dataframe\">\n",
       "  <thead>\n",
       "    <tr style=\"text-align: right;\">\n",
       "      <th></th>\n",
       "      <th>name</th>\n",
       "      <th>projection</th>\n",
       "    </tr>\n",
       "  </thead>\n",
       "  <tbody>\n",
       "    <tr>\n",
       "      <th>0</th>\n",
       "      <td>Winded Voyage Sailin...</td>\n",
       "      <td>-3.390299</td>\n",
       "    </tr>\n",
       "    <tr>\n",
       "      <th>1</th>\n",
       "      <td>The Night Fury</td>\n",
       "      <td>0.545687</td>\n",
       "    </tr>\n",
       "    <tr>\n",
       "      <th>2</th>\n",
       "      <td>Red Bull Surfing</td>\n",
       "      <td>-2.325388</td>\n",
       "    </tr>\n",
       "    <tr>\n",
       "      <th>3</th>\n",
       "      <td>Heidi Joubert</td>\n",
       "      <td>-0.957273</td>\n",
       "    </tr>\n",
       "    <tr>\n",
       "      <th>4</th>\n",
       "      <td>MR JC</td>\n",
       "      <td>1.650045</td>\n",
       "    </tr>\n",
       "  </tbody>\n",
       "</table>\n",
       "</div>"
      ],
      "text/plain": [
       "                      name  projection\n",
       "0  Winded Voyage Sailin...   -3.390299\n",
       "1           The Night Fury    0.545687\n",
       "2         Red Bull Surfing   -2.325388\n",
       "3            Heidi Joubert   -0.957273\n",
       "4                    MR JC    1.650045"
      ]
     },
     "execution_count": 30,
     "metadata": {},
     "output_type": "execute_result"
    }
   ],
   "source": [
    "df_age_projection = create_projection(EMBEDDING, age_axis, dict_idx_name)\n",
    "df_age_projection.head()"
   ]
  },
  {
   "cell_type": "code",
   "execution_count": 31,
   "metadata": {},
   "outputs": [
    {
     "name": "stderr",
     "output_type": "stream",
     "text": [
      "No handles with labels found to put in legend.\n"
     ]
    },
    {
     "data": {
      "image/png": "[encoded data removed]",
      "text/plain": [
       "<Figure size 720x432 with 1 Axes>"
      ]
     },
     "metadata": {
      "needs_background": "light"
     },
     "output_type": "display_data"
    }
   ],
   "source": [
    "age_seed_name = (\"Magpiepony\", 'Beyond The Trailer')\n",
    "visualization(df_age_projection, age_seed_name, 'BrBG', 37, 'Distribution of the age axis projection score')"
   ]
  },
  {
   "cell_type": "code",
   "execution_count": 32,
   "metadata": {},
   "outputs": [
    {
     "name": "stderr",
     "output_type": "stream",
     "text": [
      "/opt/anaconda3/lib/python3.7/site-packages/matplotlib/backends/backend_agg.py:211: RuntimeWarning: Glyph 12308 missing from current font.\n",
      "  font.set_text(s, 0.0, flags=flags)\n",
      "/opt/anaconda3/lib/python3.7/site-packages/matplotlib/backends/backend_agg.py:180: RuntimeWarning: Glyph 12308 missing from current font.\n",
      "  font.set_text(s, 0, flags=flags)\n"
     ]
    },
    {
     "data": {
      "image/png": "[encoded data removed]",
      "text/plain": [
       "<Figure size 720x720 with 1 Axes>"
      ]
     },
     "metadata": {
      "needs_background": "light"
     },
     "output_type": "display_data"
    }
   ],
   "source": [
    "color = 'BrBG'\n",
    "cm = plt.cm.get_cmap(color)\n",
    "selected_pairs = 10\n",
    "\n",
    "df_left  = df_age_projection.sort_values(by = ['projection'])[:selected_pairs]\n",
    "df_right = df_age_projection.sort_values(by = ['projection'], ascending = False)[:selected_pairs]\n",
    "create_plot(df_left, df_right, selected_pairs, \"Age projection: Channels at the poles\", (10, 10), cm)"
   ]
  },
  {
   "cell_type": "code",
   "execution_count": 33,
   "metadata": {},
   "outputs": [
    {
     "data": {
      "image/png": "[encoded data removed]",
      "text/plain": [
       "<Figure size 144x432 with 1 Axes>"
      ]
     },
     "metadata": {
      "needs_background": "light"
     },
     "output_type": "display_data"
    }
   ],
   "source": [
    "color = 'BrBG'\n",
    "cm = plt.cm.get_cmap(color)\n",
    "selected_pairs = 10\n",
    "\n",
    "mask     = df_age_projection['projection'].gt(-0.2)\n",
    "df_left  = df_age_projection[~mask].sort_values(by = ['projection'], ascending = False)[:selected_pairs]\n",
    "mask     = df_age_projection['projection'].gt(0.2)\n",
    "df_right = df_age_projection[mask].sort_values(by = ['projection'])[:selected_pairs]\n",
    "create_plot(df_left, df_right, selected_pairs, \"Gender projection: Channel at the center\", (2, 6), cm, 1)"
   ]
  },
  {
   "cell_type": "code",
   "execution_count": 39,
   "metadata": {},
   "outputs": [
    {
     "data": {
      "text/html": [
       "<div>\n",
       "<style scoped>\n",
       "    .dataframe tbody tr th:only-of-type {\n",
       "        vertical-align: middle;\n",
       "    }\n",
       "\n",
       "    .dataframe tbody tr th {\n",
       "        vertical-align: top;\n",
       "    }\n",
       "\n",
       "    .dataframe thead th {\n",
       "        text-align: right;\n",
       "    }\n",
       "</style>\n",
       "<table border=\"1\" class=\"dataframe\">\n",
       "  <thead>\n",
       "    <tr style=\"text-align: right;\">\n",
       "      <th></th>\n",
       "      <th>name</th>\n",
       "      <th>projection</th>\n",
       "    </tr>\n",
       "  </thead>\n",
       "  <tbody>\n",
       "    <tr>\n",
       "      <th>12911</th>\n",
       "      <td>Blippi</td>\n",
       "      <td>1.651742</td>\n",
       "    </tr>\n",
       "  </tbody>\n",
       "</table>\n",
       "</div>"
      ],
      "text/plain": [
       "         name  projection\n",
       "12911  Blippi    1.651742"
      ]
     },
     "execution_count": 39,
     "metadata": {},
     "output_type": "execute_result"
    }
   ],
   "source": [
    "df_age_projection[df_age_projection['name'] == \"Blippi\"]"
   ]
  },
  {
   "cell_type": "code",
   "execution_count": 40,
   "metadata": {},
   "outputs": [
    {
     "data": {
      "text/html": [
       "<div>\n",
       "<style scoped>\n",
       "    .dataframe tbody tr th:only-of-type {\n",
       "        vertical-align: middle;\n",
       "    }\n",
       "\n",
       "    .dataframe tbody tr th {\n",
       "        vertical-align: top;\n",
       "    }\n",
       "\n",
       "    .dataframe thead th {\n",
       "        text-align: right;\n",
       "    }\n",
       "</style>\n",
       "<table border=\"1\" class=\"dataframe\">\n",
       "  <thead>\n",
       "    <tr style=\"text-align: right;\">\n",
       "      <th></th>\n",
       "      <th>name</th>\n",
       "      <th>projection</th>\n",
       "    </tr>\n",
       "  </thead>\n",
       "  <tbody>\n",
       "    <tr>\n",
       "      <th>16965</th>\n",
       "      <td>Kids TV - Nursery Rh...</td>\n",
       "      <td>2.94665</td>\n",
       "    </tr>\n",
       "  </tbody>\n",
       "</table>\n",
       "</div>"
      ],
      "text/plain": [
       "                          name  projection\n",
       "16965  Kids TV - Nursery Rh...     2.94665"
      ]
     },
     "execution_count": 40,
     "metadata": {},
     "output_type": "execute_result"
    }
   ],
   "source": [
    "df_age_projection[df_age_projection['name'] == \"Kids TV - Nursery Rh...\"]"
   ]
  },
  {
   "cell_type": "code",
   "execution_count": 41,
   "metadata": {},
   "outputs": [
    {
     "data": {
      "text/html": [
       "<div>\n",
       "<style scoped>\n",
       "    .dataframe tbody tr th:only-of-type {\n",
       "        vertical-align: middle;\n",
       "    }\n",
       "\n",
       "    .dataframe tbody tr th {\n",
       "        vertical-align: top;\n",
       "    }\n",
       "\n",
       "    .dataframe thead th {\n",
       "        text-align: right;\n",
       "    }\n",
       "</style>\n",
       "<table border=\"1\" class=\"dataframe\">\n",
       "  <thead>\n",
       "    <tr style=\"text-align: right;\">\n",
       "      <th></th>\n",
       "      <th>name</th>\n",
       "      <th>projection</th>\n",
       "    </tr>\n",
       "  </thead>\n",
       "  <tbody>\n",
       "    <tr>\n",
       "      <th>7498</th>\n",
       "      <td>Action Movie Kids</td>\n",
       "      <td>0.823731</td>\n",
       "    </tr>\n",
       "  </tbody>\n",
       "</table>\n",
       "</div>"
      ],
      "text/plain": [
       "                   name  projection\n",
       "7498  Action Movie Kids    0.823731"
      ]
     },
     "execution_count": 41,
     "metadata": {},
     "output_type": "execute_result"
    }
   ],
   "source": [
    "df_age_projection[df_age_projection['name'] == \"Action Movie Kids\"]"
   ]
  },
  {
   "cell_type": "code",
   "execution_count": 42,
   "metadata": {},
   "outputs": [
    {
     "data": {
      "text/html": [
       "<div>\n",
       "<style scoped>\n",
       "    .dataframe tbody tr th:only-of-type {\n",
       "        vertical-align: middle;\n",
       "    }\n",
       "\n",
       "    .dataframe tbody tr th {\n",
       "        vertical-align: top;\n",
       "    }\n",
       "\n",
       "    .dataframe thead th {\n",
       "        text-align: right;\n",
       "    }\n",
       "</style>\n",
       "<table border=\"1\" class=\"dataframe\">\n",
       "  <thead>\n",
       "    <tr style=\"text-align: right;\">\n",
       "      <th></th>\n",
       "      <th>name</th>\n",
       "      <th>projection</th>\n",
       "    </tr>\n",
       "  </thead>\n",
       "  <tbody>\n",
       "    <tr>\n",
       "      <th>114414</th>\n",
       "      <td>Kids Games Tv</td>\n",
       "      <td>4.636683</td>\n",
       "    </tr>\n",
       "  </tbody>\n",
       "</table>\n",
       "</div>"
      ],
      "text/plain": [
       "                 name  projection\n",
       "114414  Kids Games Tv    4.636683"
      ]
     },
     "execution_count": 42,
     "metadata": {},
     "output_type": "execute_result"
    }
   ],
   "source": [
    "df_age_projection[df_age_projection['name'] == \"Kids Games Tv\"]"
   ]
  },
  {
   "cell_type": "code",
   "execution_count": 43,
   "metadata": {},
   "outputs": [
    {
     "data": {
      "text/html": [
       "<div>\n",
       "<style scoped>\n",
       "    .dataframe tbody tr th:only-of-type {\n",
       "        vertical-align: middle;\n",
       "    }\n",
       "\n",
       "    .dataframe tbody tr th {\n",
       "        vertical-align: top;\n",
       "    }\n",
       "\n",
       "    .dataframe thead th {\n",
       "        text-align: right;\n",
       "    }\n",
       "</style>\n",
       "<table border=\"1\" class=\"dataframe\">\n",
       "  <thead>\n",
       "    <tr style=\"text-align: right;\">\n",
       "      <th></th>\n",
       "      <th>name</th>\n",
       "      <th>projection</th>\n",
       "    </tr>\n",
       "  </thead>\n",
       "  <tbody>\n",
       "    <tr>\n",
       "      <th>120415</th>\n",
       "      <td>Classical Tunes</td>\n",
       "      <td>1.008999</td>\n",
       "    </tr>\n",
       "  </tbody>\n",
       "</table>\n",
       "</div>"
      ],
      "text/plain": [
       "                   name  projection\n",
       "120415  Classical Tunes    1.008999"
      ]
     },
     "execution_count": 43,
     "metadata": {},
     "output_type": "execute_result"
    }
   ],
   "source": [
    "df_age_projection[df_age_projection['name'] == \"Classical Tunes\"]"
   ]
  },
  {
   "cell_type": "code",
   "execution_count": 44,
   "metadata": {},
   "outputs": [
    {
     "data": {
      "image/png": "[encoded data removed]",
      "text/plain": [
       "<Figure size 216x144 with 1 Axes>"
      ]
     },
     "metadata": {
      "needs_background": "light"
     },
     "output_type": "display_data"
    }
   ],
   "source": [
    "df_left = pd.DataFrame()\n",
    "df_left = df_left.append(df_age_projection[df_age_projection['name'] == 'Classical Tunes'])\n",
    "df_left = df_left.append(df_age_projection[df_age_projection['name'] == 'James Bond 007'])\n",
    "df_left = df_left.append(df_age_projection[df_age_projection['name'] == 'Call of Duty'])\n",
    "\n",
    "df_right = pd.DataFrame()\n",
    "df_right = df_right.append(df_age_projection[df_age_projection['name'] == 'Kids TV - Nursery Rh...'])\n",
    "df_right = df_right.append(df_age_projection[df_age_projection['name'] == 'My Little Pony Offic...'])\n",
    "df_right = df_right.append(df_age_projection[df_age_projection['name'] == 'Kids Games Tv'])\n",
    "\n",
    "color = 'BrBG'\n",
    "cm = plt.cm.get_cmap(color)\n",
    "\n",
    "create_plot(df_left, df_right, 3, \"Gender projection: Selected channels comparison\", (3, 2), cm)\n"
   ]
  },
  {
   "cell_type": "raw",
   "metadata": {},
   "source": []
  }
 ],
 "metadata": {
  "kernelspec": {
   "display_name": "Python 3",
   "language": "python",
   "name": "python3"
  },
  "language_info": {
   "codemirror_mode": {
    "name": "ipython",
    "version": 3
   },
   "file_extension": ".py",
   "mimetype": "text/x-python",
   "name": "python",
   "nbconvert_exporter": "python",
   "pygments_lexer": "ipython3",
   "version": "3.7.7"
  }
 },
 "nbformat": 4,
 "nbformat_minor": 4
}
