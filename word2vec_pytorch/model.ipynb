{
 "cells": [
  {
   "cell_type": "code",
   "execution_count": 2,
   "metadata": {
    "collapsed": false
   },
   "outputs": [
    {
     "ename": "ModuleNotFoundError",
     "evalue": "No module named 'utils_modified'",
     "output_type": "error",
     "traceback": [
      "\u001b[0;31m---------------------------------------------------------------------------\u001b[0m",
      "\u001b[0;31mModuleNotFoundError\u001b[0m                       Traceback (most recent call last)",
      "\u001b[0;32m<ipython-input-2-a6b1610eded2>\u001b[0m in \u001b[0;36m<module>\u001b[0;34m()\u001b[0m\n\u001b[1;32m      1\u001b[0m \u001b[0;32mfrom\u001b[0m \u001b[0m__future__\u001b[0m \u001b[0;32mimport\u001b[0m \u001b[0mprint_function\u001b[0m\u001b[0;34m\u001b[0m\u001b[0;34m\u001b[0m\u001b[0m\n\u001b[1;32m      2\u001b[0m \u001b[0;32mimport\u001b[0m \u001b[0mtorch\u001b[0m\u001b[0;34m,\u001b[0m \u001b[0msys\u001b[0m\u001b[0;34m,\u001b[0m \u001b[0mpdb\u001b[0m\u001b[0;34m\u001b[0m\u001b[0;34m\u001b[0m\u001b[0m\n\u001b[0;32m----> 3\u001b[0;31m \u001b[0;32mfrom\u001b[0m \u001b[0mutils_modified\u001b[0m \u001b[0;32mimport\u001b[0m \u001b[0mq\u001b[0m\u001b[0;34m\u001b[0m\u001b[0;34m\u001b[0m\u001b[0m\n\u001b[0m\u001b[1;32m      4\u001b[0m \u001b[0;34m\u001b[0m\u001b[0m\n\u001b[1;32m      5\u001b[0m \u001b[0;31m#import torch.autograd as autograd\u001b[0m\u001b[0;34m\u001b[0m\u001b[0;34m\u001b[0m\u001b[0;34m\u001b[0m\u001b[0m\n",
      "\u001b[0;31mModuleNotFoundError\u001b[0m: No module named 'utils_modified'"
     ]
    }
   ],
   "source": [
    "from __future__ import print_function\n",
    "import torch, sys, pdb\n",
    "from utils_modified import q\n",
    "\n",
    "#import torch.autograd as autograd\n",
    "import torch.nn as nn\n",
    "import torch.nn.functional as F\n",
    "#import torch.optim as optim\n",
    "\n",
    "class Word2Vec_neg_sampling(nn.Module):\n",
    "\n",
    "    def __init__(self, embedding_size, vocab_size, device, noise_dist = None, negative_samples = 10):\n",
    "        super(Word2Vec_neg_sampling, self).__init__()\n",
    "\n",
    "        self.embeddings_input = nn.Embedding(vocab_size, embedding_size)\n",
    "        self.embeddings_context = nn.Embedding(vocab_size, embedding_size)\n",
    "        self.vocab_size = vocab_size\n",
    "        self.negative_samples = negative_samples\n",
    "        self.device = device\n",
    "        self.noise_dist = noise_dist\n",
    "\n",
    "        # Initialize both embedding tables with uniform distribution\n",
    "        self.embeddings_input.weight.data.uniform_(-1,1)\n",
    "        self.embeddings_context.weight.data.uniform_(-1,1)\n",
    "\n",
    "    def forward(self, input_word, context_word):\n",
    "        debug =  not True\n",
    "        if debug:\n",
    "            print('input_word.shape: ', input_word.shape)        # bs\n",
    "            print('context_word.shape: ', context_word.shape)    # bs\n",
    "\n",
    "        # computing out loss\n",
    "        emb_input = self.embeddings_input(input_word)     # bs, emb_dim\n",
    "        if debug:print('emb_input.shape: ', emb_input.shape)    \n",
    "\n",
    "        emb_context = self.embeddings_context(context_word)  # bs, emb_dim\n",
    "        if debug:print('emb_context.shape: ', emb_context.shape)\n",
    "\n",
    "        emb_product = torch.mul(emb_input, emb_context)     # bs, emb_dim\n",
    "        if debug:print('emb_product.shape: ', emb_product.shape)\n",
    "        \n",
    "        emb_product = torch.sum(emb_product, dim=1)          # bs\n",
    "        if debug:print('emb_product.shape: ', emb_product.shape)\n",
    "\n",
    "        out_loss = F.logsigmoid(emb_product)                      # bs\n",
    "        if debug:print('out_loss.shape: ', out_loss.shape)\n",
    "\n",
    "\n",
    "        if self.negative_samples > 0:\n",
    "            # computing negative loss\n",
    "            if self.noise_dist is None:\n",
    "                noise_dist = torch.ones(self.vocab_size)  \n",
    "            else:\n",
    "                noise_dist = self.noise_dist\n",
    "\n",
    "            if debug:print('noise_dist.shape: ', noise_dist.shape)\n",
    "            \n",
    "            num_neg_samples_for_this_batch = context_word.shape[0]*self.negative_samples\n",
    "            negative_example = torch.multinomial(noise_dist, num_neg_samples_for_this_batch, replacement = True) # coz bs*num_neg_samples > vocab_size\n",
    "            if debug:print('negative_example.shape: ', negative_example.shape)\n",
    "\n",
    "            negative_example = negative_example.view(context_word.shape[0], self.negative_samples).to(self.device) # bs, num_neg_samples\n",
    "            if debug:print('negative_example.shape: ', negative_example.shape)\n",
    "\n",
    "            emb_negative = self.embeddings_context(negative_example) # bs, neg_samples, emb_dim\n",
    "            if debug:print('emb_negative.shape: ', emb_negative.shape)\n",
    "\n",
    "            if debug:print('emb_input.unsqueeze(2).shape: ', emb_input.unsqueeze(2).shape) # bs, emb_dim, 1\n",
    "            emb_product_neg_samples = torch.bmm(emb_negative.neg(), emb_input.unsqueeze(2)) # bs, neg_samples, 1\n",
    "            if debug:print('emb_product_neg_samples.shape: ', emb_product_neg_samples.shape)\n",
    "\n",
    "            noise_loss = F.logsigmoid(emb_product_neg_samples).squeeze(2).sum(1) # bs\n",
    "            if debug:print('noise_loss.shape: ', noise_loss.shape)\n",
    "\n",
    "            total_loss = -(out_loss + noise_loss).mean()\n",
    "            if debug:print('total_loss.shape: ', total_loss.shape)\n",
    "\n",
    "            return total_loss\n",
    "\n",
    "        else:\n",
    "            return -(out_loss).mean()\n"
   ]
  },
  {
   "cell_type": "code",
   "execution_count": null,
   "metadata": {
    "collapsed": true
   },
   "outputs": [],
   "source": []
  }
 ],
 "metadata": {
  "kernelspec": {
   "display_name": "Python 3",
   "language": "python",
   "name": "python3"
  },
  "language_info": {
   "codemirror_mode": {
    "name": "ipython",
    "version": 3
   },
   "file_extension": ".py",
   "mimetype": "text/x-python",
   "name": "python",
   "nbconvert_exporter": "python",
   "pygments_lexer": "ipython3",
   "version": "3.6.11"
  }
 },
 "nbformat": 4,
 "nbformat_minor": 2
}
