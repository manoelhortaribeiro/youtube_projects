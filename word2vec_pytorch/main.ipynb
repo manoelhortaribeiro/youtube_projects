{
 "cells": [
  {
   "cell_type": "code",
   "execution_count": 1,
   "metadata": {
    "collapsed": true
   },
   "outputs": [],
   "source": [
    "from __future__ import print_function\n",
    "from tqdm import tqdm\n",
    "# from tqdm import tqdm_gui\n",
    "\n",
    "import numpy as np\n",
    "import pandas as pd\n",
    "import sys, os, pickle, shutil\n",
    "\n",
    "import torch\n",
    "import torch.optim as optim\n",
    "import torch.nn as nn\n",
    "\n",
    "import time\n",
    "\n",
    "# it is a little tricky on run SummaryWriter by installing a suitable version of pytorch. so \n",
    "# if you are able to import SummaryWriter from torch.utils.tensorboard, this script will record summaries. \n",
    "# Otherwise it will not.\n",
    "try:\n",
    "    from torch.utils.tensorboard import SummaryWriter\n",
    "    write_summary = True\n",
    "except:\n",
    "    write_summary = False\n",
    "\n",
    "from model import *\n",
    "from utils_modified import count_parameters, q\n",
    "from config import *\n",
    "\n",
    "scriptpath = \"/home/jouven/youtube_projects/\"\n",
    "sys.path.append(os.path.abspath(scriptpath))\n",
    "from helpers.helpers_channels_more_300 import *"
   ]
  },
  {
   "cell_type": "markdown",
   "metadata": {},
   "source": [
    "### Steps done before the training phase"
   ]
  },
  {
   "cell_type": "code",
   "execution_count": 2,
   "metadata": {},
   "outputs": [
    {
     "name": "stdout",
     "output_type": "stream",
     "text": [
      "DEVICE:  cpu\n"
     ]
    }
   ],
   "source": [
    "DEVICE = torch.device(\"cuda\") if torch.cuda.is_available() else torch.device(\"cpu\")\n",
    "print('DEVICE: ', DEVICE)"
   ]
  },
  {
   "cell_type": "code",
   "execution_count": 3,
   "metadata": {
    "collapsed": true
   },
   "outputs": [],
   "source": [
    "# Use only for test\n",
    "if DATA_SOURCE == 'test':\n",
    "    if os.path.exists(MODEL_DLAB_DIR):\n",
    "        shutil.rmtree(MODEL_DLAB_DIR)\n",
    "        \n",
    "    if os.path.exists(MODEL_PERSO_DIR):\n",
    "        shutil.rmtree(MODEL_PERSO_DIR)"
   ]
  },
  {
   "cell_type": "code",
   "execution_count": 4,
   "metadata": {
    "collapsed": true
   },
   "outputs": [],
   "source": [
    "# Create new directory for the experiment in the DLAB folder\n",
    "check_directory(MODEL_DIR)\n",
    "# Create new directory for the experiment in the personnal folder\n",
    "check_directory(MODEL_PERSO_DIR)\n",
    "\n",
    "# SUMMARY_DIR is the path of the directory where the tensorboard SummaryWriter files are written\n",
    "if write_summary:\n",
    "    if os.path.exists(SUMMARY_DIR):\n",
    "        # the directory is removed, if it already exists\n",
    "        shutil.rmtree(SUMMARY_DIR)\n",
    "\n",
    "    writer = SummaryWriter(SUMMARY_DIR) # this command automatically creates the directory at SUMMARY_DIR\n",
    "    summary_counter = 0"
   ]
  },
  {
   "cell_type": "code",
   "execution_count": 5,
   "metadata": {},
   "outputs": [],
   "source": [
    "# Retrieve the number of occurences of each channel (vocabulary)\n",
    "with open(\"/dlabdata1/youtube_large/jouven/word2vec_pytorch/channels_more_\" + THRESHOLD_NAME + \"/vocab_occ.pkl\",'rb') as f:\n",
    "    vocab_occ = pickle.load(f)\n",
    "f.close()"
   ]
  },
  {
   "cell_type": "code",
   "execution_count": 6,
   "metadata": {},
   "outputs": [
    {
     "name": "stdout",
     "output_type": "stream",
     "text": [
      "len(vocab):  17716\n"
     ]
    }
   ],
   "source": [
    "print('len(vocab): ', len(vocab_occ))"
   ]
  },
  {
   "cell_type": "code",
   "execution_count": 7,
   "metadata": {
    "collapsed": true
   },
   "outputs": [],
   "source": [
    "# make noise distribution to sample negative examples from the words (channels)\n",
    "word_freqs = np.array(vocab_occ)\n",
    "unigram_dist = word_freqs/sum(word_freqs)\n",
    "noise_dist = torch.from_numpy(unigram_dist**(0.75)/np.sum(unigram_dist**(0.75)))"
   ]
  },
  {
   "cell_type": "markdown",
   "metadata": {},
   "source": [
    "### Training ..."
   ]
  },
  {
   "cell_type": "code",
   "execution_count": 9,
   "metadata": {
    "scrolled": false
   },
   "outputs": [
    {
     "name": "stderr",
     "output_type": "stream",
     "text": [
      "\r",
      "  0%|          | 0/1 [00:00<?, ?it/s]"
     ]
    },
    {
     "name": "stdout",
     "output_type": "stream",
     "text": [
      "\n",
      "We have 7.0864 Million trainable parameters here in the model\n",
      "\n",
      "===== EPOCH 1/1 =====\n"
     ]
    },
    {
     "name": "stderr",
     "output_type": "stream",
     "text": [
      "100%|██████████| 1/1 [00:00<00:00,  2.16it/s]\n"
     ]
    }
   ],
   "source": [
    "\n",
    "losses = []\n",
    "\n",
    "model = Word2Vec_neg_sampling(EMBEDDING_DIM, len(vocab_occ), DEVICE, noise_dist, NEGATIVE_SAMPLES).to(DEVICE)\n",
    "print('\\nWe have {} Million trainable parameters here in the model'.format(count_parameters(model)))\n",
    "\n",
    "optimizer = optim.Adam(model.parameters(), lr = LR)\n",
    "\n",
    "begin = time.time()\n",
    "\n",
    "for epoch in tqdm(range(NUM_EPOCHS)):\n",
    "    print('\\n===== EPOCH {}/{} ====='.format(epoch + 1, NUM_EPOCHS))\n",
    "    \n",
    "    # model.train()\n",
    "    batch_idx = 0\n",
    "    for chunk in pd.read_csv(TRAINING_DATA_PATH, compression='gzip', chunksize = BATCH_SIZE):\n",
    "        model.train()\n",
    "        \n",
    "        # For the use of the GPU\n",
    "        x_batch = torch.tensor(list(chunk['0']), dtype = torch.long).to(DEVICE)\n",
    "        y_batch = torch.tensor(list(chunk['1']), dtype = torch.long).to(DEVICE)\n",
    "\n",
    "        optimizer.zero_grad()\n",
    "        loss = model(x_batch, y_batch)\n",
    "\n",
    "        loss.backward()\n",
    "        optimizer.step()\n",
    "\n",
    "        losses.append(loss.item())\n",
    "        \n",
    "        batch_idx += 1\n",
    "        if batch_idx % 10000 == 0:\n",
    "            end = time.time()\n",
    "            comp_time = end - begin\n",
    "            with open(\"/dlabdata1/youtube_large/jouven/word2vec_pytorch/channels_more_300/batch.pkl\",'wb') as f:\n",
    "                 pickle.dump([(comp_time, batch_idx)], f)\n",
    "            f.close()\n",
    "        \n",
    "    # write embeddings every SAVE_EVERY_N_EPOCH epoch\n",
    "    if epoch % SAVE_EVERY_N_EPOCH == 0:\n",
    "        if write_summary:\n",
    "            writer.add_embedding(model.embeddings_input.weight.data, metadata=[k for k in range(len(vocab_occ))], global_step=epoch)\n",
    "\n",
    "        torch.save({'model_state_dict': model.state_dict(),\n",
    "                    'losses': losses,\n",
    "                    'embedding': model.embeddings_input.weight.data\n",
    "                    },\n",
    "                    '{}/model{}.pth'.format(MODEL_DIR, epoch))\n",
    "\n",
    "\n",
    "EMBEDDING = model.embeddings_input.weight.data\n",
    "\n"
   ]
  },
  {
   "cell_type": "markdown",
   "metadata": {},
   "source": [
    "### Convert the final embedding from torch to Pandas DataFrame and save it"
   ]
  },
  {
   "cell_type": "code",
   "execution_count": 10,
   "metadata": {
    "collapsed": true
   },
   "outputs": [],
   "source": [
    "# Convert the embedding from torch to a Pandas DataFrame\n",
    "graph_matrix = EMBEDDING.cpu().detach().numpy()\n",
    "df = pd.DataFrame(graph_matrix)\n",
    "df = df.rename(lambda x: 'dr'+str(x), axis='columns')"
   ]
  },
  {
   "cell_type": "code",
   "execution_count": 11,
   "metadata": {},
   "outputs": [
    {
     "data": {
      "text/plain": [
       "(17716, 200)"
      ]
     },
     "execution_count": 11,
     "metadata": {},
     "output_type": "execute_result"
    }
   ],
   "source": [
    "df.shape"
   ]
  },
  {
   "cell_type": "code",
   "execution_count": 12,
   "metadata": {
    "collapsed": true
   },
   "outputs": [],
   "source": [
    "# path where to save the embedding\n",
    "df.to_csv(EMBEDDING_PATH, compression='gzip', index = False)"
   ]
  },
  {
   "cell_type": "code",
   "execution_count": null,
   "metadata": {
    "collapsed": true
   },
   "outputs": [],
   "source": []
  }
 ],
 "metadata": {
  "kernelspec": {
   "display_name": "Python 3",
   "language": "python",
   "name": "python3"
  },
  "language_info": {
   "codemirror_mode": {
    "name": "ipython",
    "version": 3
   },
   "file_extension": ".py",
   "mimetype": "text/x-python",
   "name": "python",
   "nbconvert_exporter": "python",
   "pygments_lexer": "ipython3",
   "version": "3.7.7"
  }
 },
 "nbformat": 4,
 "nbformat_minor": 2
}
