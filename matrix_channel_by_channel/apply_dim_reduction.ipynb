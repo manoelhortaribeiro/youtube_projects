{
 "cells": [
  {
   "cell_type": "code",
   "execution_count": 1,
   "metadata": {},
   "outputs": [],
   "source": [
    "import scipy.sparse\n",
    "import random\n",
    "import os\n",
    "\n",
    "import numpy as np\n",
    "\n",
    "from sklearn.decomposition import TruncatedSVD"
   ]
  },
  {
   "cell_type": "code",
   "execution_count": 9,
   "metadata": {},
   "outputs": [],
   "source": [
    "# Number of parameter wanted after the dimentionality reduction\n",
    "n_components = [50, 100, 200]"
   ]
  },
  {
   "cell_type": "code",
   "execution_count": 10,
   "metadata": {},
   "outputs": [],
   "source": [
    "graph_sparse_matrix = scipy.sparse.load_npz('../../../dlabdata1/youtube_large/jouven/final_embedding_sparse_matrix/trajectory_sparse_matrix_graph.npz')"
   ]
  },
  {
   "cell_type": "markdown",
   "metadata": {},
   "source": [
    "### Truncated SVD"
   ]
  },
  {
   "cell_type": "markdown",
   "metadata": {},
   "source": [
    "Load the big sparse matrix corresponding to all the edges and then apply truncated svd method from sklearn. This transformer performs linear dimensionality reduction by means of truncated singular value decomposition (SVD). Contrary to PCA, this estimator does not center the data before computing the singular value decomposition. This means it can work with sparse matrices efficiently."
   ]
  },
  {
   "cell_type": "code",
   "execution_count": 11,
   "metadata": {},
   "outputs": [],
   "source": [
    "def check_directory(dir_1):\n",
    "    \n",
    "    if not os.path.exists(dir_1): \n",
    "        os.makedirs(dir_1)"
   ]
  },
  {
   "cell_type": "code",
   "execution_count": 12,
   "metadata": {},
   "outputs": [],
   "source": [
    "dir_1 = '../../../dlabdata1/youtube_large/jouven/channel_embedding/sparse_matrices_limited_normalized/'\n",
    "check_directory(dir_1)\n",
    "for n_comp in n_components:\n",
    "    trunc_svd = TruncatedSVD(n_components = n_comp)\n",
    "    graph_reduced = trunc_svd.fit_transform(graph_sparse_matrix)\n",
    "    # Save the array into npz format\n",
    "    np.savez_compressed('../../../dlabdata1/youtube_large/jouven/channel_embedding/sparse_matrices_limited_normalized_reduced_'+ str(n_comp) +'.npz', graph_reduced)"
   ]
  },
  {
   "cell_type": "code",
   "execution_count": 9,
   "metadata": {},
   "outputs": [],
   "source": []
  }
 ],
 "metadata": {
  "kernelspec": {
   "display_name": "Python 3",
   "language": "python",
   "name": "python3"
  },
  "language_info": {
   "codemirror_mode": {
    "name": "ipython",
    "version": 3
   },
   "file_extension": ".py",
   "mimetype": "text/x-python",
   "name": "python",
   "nbconvert_exporter": "python",
   "pygments_lexer": "ipython3",
   "version": "3.7.7"
  }
 },
 "nbformat": 4,
 "nbformat_minor": 2
}
