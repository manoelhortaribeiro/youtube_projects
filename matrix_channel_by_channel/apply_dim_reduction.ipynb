{
 "cells": [
  {
   "cell_type": "code",
   "execution_count": 1,
   "metadata": {},
   "outputs": [],
   "source": [
    "import scipy.sparse\n",
    "import random\n",
    "import os\n",
    "import sys\n",
    "\n",
    "import numpy as np\n",
    "\n",
    "from sklearn.decomposition import TruncatedSVD\n",
    "from fbpca import pca\n",
    "\n",
    "scriptpath = \"../\"\n",
    "sys.path.append(os.path.abspath(scriptpath))\n",
    "from helpers.helpers_channels_more_300 import *"
   ]
  },
  {
   "cell_type": "code",
   "execution_count": 5,
   "metadata": {
    "collapsed": true
   },
   "outputs": [],
   "source": [
    "# Number of parameter wanted after the dimentionality reduction\n",
    "n_components = [50, 100, 200]"
   ]
  },
  {
   "cell_type": "code",
   "execution_count": 6,
   "metadata": {
    "collapsed": true
   },
   "outputs": [],
   "source": [
    "graph_sparse_matrix = scipy.sparse.load_npz('/dlabdata1/youtube_large/jouven/final_embedding_sparse_matrix/sparse_matrix_normalized.npz')"
   ]
  },
  {
   "cell_type": "markdown",
   "metadata": {},
   "source": [
    "### Truncated SVD"
   ]
  },
  {
   "cell_type": "markdown",
   "metadata": {},
   "source": [
    "Load the big sparse matrix corresponding to all the edges and then apply truncated svd method from sklearn. This transformer performs linear dimensionality reduction by means of truncated singular value decomposition (SVD). Contrary to PCA, this estimator does not center the data before computing the singular value decomposition. This means it can work with sparse matrices efficiently."
   ]
  },
  {
   "cell_type": "code",
   "execution_count": 12,
   "metadata": {
    "collapsed": true
   },
   "outputs": [],
   "source": [
    "dir_1 = '/dlabdata1/youtube_large/jouven/channel_embedding/sparse_matrices_limited_normalized/'\n",
    "check_directory(dir_1)\n",
    "for n_comp in n_components:\n",
    "    trunc_svd = TruncatedSVD(n_components = n_comp)\n",
    "    graph_reduced = trunc_svd.fit_transform(graph_sparse_matrix)\n",
    "    # Save the array into npz format\n",
    "    np.savez_compressed('/dlabdata1/youtube_large/jouven/channel_embedding/sparse_matrices_limited_normalized_reduced_'+ str(n_comp) +'.npz', graph_reduced)"
   ]
  },
  {
   "cell_type": "markdown",
   "metadata": {},
   "source": [
    "### Facebook library"
   ]
  },
  {
   "cell_type": "markdown",
   "metadata": {},
   "source": [
    "Load the big sparse matrix corresponding to all the edges and then apply PCA algorithm using the facebook library"
   ]
  },
  {
   "cell_type": "code",
   "execution_count": null,
   "metadata": {},
   "outputs": [],
   "source": [
    "dir_1 = '/dlabdata1/youtube_large/jouven/channel_embedding/channels_by_channels_normalized_comments_more_10k/'\n",
    "check_directory(dir_1)\n",
    "for n_comp in n_components:\n",
    "    (graph_reduced, s, Va) = pca(graph_sparse_matrix, k=n_comp, n_iter = 4)\n",
    "    # Save the array into npz format\n",
    "    np.savez_compressed('/dlabdata1/youtube_large/jouven/channel_embedding/channels_by_channels_normalized_comments_more_10k/reduced_fpca_'+ str(n_comp) +'.npz', graph_reduced)\n"
   ]
  },
  {
   "cell_type": "code",
   "execution_count": null,
   "metadata": {
    "collapsed": true
   },
   "outputs": [],
   "source": []
  },
  {
   "cell_type": "code",
   "execution_count": null,
   "metadata": {
    "collapsed": true
   },
   "outputs": [],
   "source": []
  },
  {
   "cell_type": "code",
   "execution_count": null,
   "metadata": {
    "collapsed": true
   },
   "outputs": [],
   "source": []
  },
  {
   "cell_type": "code",
   "execution_count": null,
   "metadata": {
    "collapsed": true
   },
   "outputs": [],
   "source": []
  }
 ],
 "metadata": {
  "kernelspec": {
   "display_name": "Python 3",
   "language": "python",
   "name": "python3"
  },
  "language_info": {
   "codemirror_mode": {
    "name": "ipython",
    "version": 3
   },
   "file_extension": ".py",
   "mimetype": "text/x-python",
   "name": "python",
   "nbconvert_exporter": "python",
   "pygments_lexer": "ipython3",
   "version": "3.7.7"
  }
 },
 "nbformat": 4,
 "nbformat_minor": 2
}
