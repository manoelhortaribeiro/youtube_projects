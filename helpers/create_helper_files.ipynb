{
 "cells": [
  {
   "cell_type": "markdown",
   "metadata": {},
   "source": [
    "## NOTEBOOK DECRIPTION:\n",
    "\n",
    "This notebook creates new data/files according to the THRESHOLD value which the minimum number of comments per channel.\n",
    "This THRESHOLD value can be modified in `/helpers/config_threshold_value.py`.\n",
    "This files created are:\n",
    "- Filter the video-channel relationship dataframe with the selected channels\n",
    "- The set of users that appeared multiple times in the `comments_dataset` file\n",
    "- Compute the channel-user sparse matrix for the given THRESHOLD\n",
    "- Compute the pairs of channels for the user and random jumper"
   ]
  },
  {
   "cell_type": "code",
   "execution_count": 1,
   "metadata": {},
   "outputs": [],
   "source": [
    "import time\n",
    "import pickle\n",
    "import os\n",
    "import sys\n",
    "import scipy.sparse\n",
    "\n",
    "import numpy as np\n",
    "import pandas as pd\n",
    "\n",
    "from config_threshold_value import *"
   ]
  },
  {
   "cell_type": "code",
   "execution_count": 10,
   "metadata": {},
   "outputs": [],
   "source": [
    "'''\n",
    "This function creates a mapping between the selected channels id and their corresponding index.\n",
    "\n",
    "RETURN:\n",
    "    - dict_channel_ind: dictonnary mapping the channels id to the channels index\n",
    "    - dict_ind_channel: dictionnary mapping the channels index to the channels id\n",
    "    - channels_id: List of selected channels id\n",
    "'''\n",
    "def filtered_channels_index_id_mapping():\n",
    "    with open(os.path.join(COMMON_PATH, \"channels_more_\" + THRESHOLD_NAME + \".pkl\"),'rb') as f:\n",
    "        channels_id = pickle.load(f)\n",
    "    f.close()\n",
    "    \n",
    "    channels_id = sorted(channels_id)\n",
    "    # Dictionnary mapping the channel id to an integer corresponding to the row of the sparse matrix.\n",
    "    dict_channel_ind = {}\n",
    "    dict_ind_channel = {}\n",
    "    for ind, channel_id in enumerate(channels_id):\n",
    "        dict_channel_ind[channel_id] = ind\n",
    "        dict_ind_channel[ind] = channel_id\n",
    "    channels_id = set(channels_id)\n",
    "    return dict_channel_ind, dict_ind_channel, channels_id"
   ]
  },
  {
   "cell_type": "markdown",
   "metadata": {},
   "source": [
    "### Video channel mapping filtered"
   ]
  },
  {
   "cell_type": "markdown",
   "metadata": {},
   "source": [
    "From the original dictionnary having all the video-channel relationship, we only select data corresponding to the selected channels."
   ]
  },
  {
   "cell_type": "code",
   "execution_count": 11,
   "metadata": {},
   "outputs": [],
   "source": [
    "# Selected channels and id-index mapping\n",
    "dict_channel_ind, dict_ind_channel, channels_id = filtered_channels_index_id_mapping()"
   ]
  },
  {
   "cell_type": "code",
   "execution_count": 4,
   "metadata": {
    "collapsed": true
   },
   "outputs": [],
   "source": [
    "vid_to_channels = pd.read_pickle(\"/dlabdata1/youtube_large/jouven/channels_more_300/video_to_channel_mapping_filtered.pkl\")"
   ]
  },
  {
   "cell_type": "code",
   "execution_count": 5,
   "metadata": {},
   "outputs": [
    {
     "name": "stdout",
     "output_type": "stream",
     "text": [
      "Original length of the relationship dataframe  70982015\n"
     ]
    }
   ],
   "source": [
    "print('Original length of the relationship dataframe ', len(vid_to_channels))"
   ]
  },
  {
   "cell_type": "code",
   "execution_count": 6,
   "metadata": {
    "collapsed": true
   },
   "outputs": [],
   "source": [
    "vid_to_channels_filtered = {}\n",
    "for vid, channel in vid_to_channels.items():\n",
    "    if not dict_channel_ind.get(channel) == None:\n",
    "        if channel in channels_id:\n",
    "            vid_to_channels_filtered[vid] = channel"
   ]
  },
  {
   "cell_type": "code",
   "execution_count": 7,
   "metadata": {},
   "outputs": [
    {
     "name": "stdout",
     "output_type": "stream",
     "text": [
      "Filtered length of the relationship dataframe  25108956\n"
     ]
    }
   ],
   "source": [
    "print('Filtered length of the relationship dataframe ', len(vid_to_channels_filtered))"
   ]
  },
  {
   "cell_type": "code",
   "execution_count": 8,
   "metadata": {
    "collapsed": true
   },
   "outputs": [],
   "source": [
    "# Store the  video_id to the channel index filtered mapping\n",
    "with open(os.path.join(COMMON_PATH, \"video_to_channel_mapping_filtered.pkl\"),'wb') as f:\n",
    "     pickle.dump(vid_to_channels_filtered, f)\n",
    "f.close()"
   ]
  },
  {
   "cell_type": "code",
   "execution_count": 9,
   "metadata": {
    "collapsed": true
   },
   "outputs": [],
   "source": [
    "# Release memory\n",
    "vid_to_channels = 0\n",
    "vid_to_channels = vid_to_channels_filtered\n",
    "vid_to_channels_filtered = 0"
   ]
  },
  {
   "cell_type": "markdown",
   "metadata": {},
   "source": [
    "### Compute duplicate users and compute the occurences of each channel"
   ]
  },
  {
   "cell_type": "markdown",
   "metadata": {},
   "source": [
    "Some users appear to have duplicate rows and the goal is to find these duplicate rows to delete them when reading the `comments_dataset` file.\n",
    "\n",
    "In order to find these duplicate users, we first read the whole `comments_dataset` file and retrieve each user for each block of comments. Since this file is ordered by user, each time we encounter a different user we put it in the created dataframe."
   ]
  },
  {
   "cell_type": "code",
   "execution_count": null,
   "metadata": {
    "collapsed": true
   },
   "outputs": [],
   "source": [
    "# Adjust chunk_size as necessary -- defaults to 16,384 if not specific\n",
    "reader = Zreader(\"/dlabdata1/youtube_large/youtube_comments.ndjson.zst\", chunk_size=160384)\n",
    "\n",
    "# parameters\n",
    "idx = 1\n",
    "comments_per_channel = {}\n",
    "user = ''\n",
    "begin_time = time.time()\n",
    "# Users having commented\n",
    "users = []\n",
    "nb = 0\n",
    "\n",
    "# Read each line from the reader\n",
    "for line in reader.readlines():\n",
    "    line_split = line.replace('\"', '').split(',')\n",
    "    if len(line_split) >= 9:\n",
    "        author_id = line_split[0]\n",
    "        if vid_to_channels.get(line_split[2]) in channels_id:\n",
    "            if author_id != user:\n",
    "                users.append(author_id)\n",
    "            \n",
    "    if len(users) >= 50000000:\n",
    "        print(str(idx) + ' line have been processed')\n",
    "        with open(\"/dlabdata1/youtube_large/jouven/idx.pkl\",'wb') as f:\n",
    "             pickle.dump([idx], f)\n",
    "        f.close()\n",
    "        df = pd.DataFrame({'users': users})\n",
    "        if nb == 0:\n",
    "            df.to_csv(os.path.join(COMMON_PATH, \"users.csv.gz\"), compression='gzip', index = False)\n",
    "        else:\n",
    "            df.to_csv(os.path.join(COMMON_PATH, \"users.csv.gz\"), compression='gzip', mode='a', index = False, header = False)\n",
    "        nb += 1\n",
    "        df = 0\n",
    "        users = []\n",
    "        \n",
    "    user = author_id\n",
    "    idx += 1\n",
    "    \n",
    "print(str(idx) + ' line have been processed')\n",
    "with open(\"/dlabdata1/youtube_large/jouven/idx.pkl\",'wb') as f:\n",
    "     pickle.dump([idx], f)\n",
    "f.close()\n",
    "df = pd.DataFrame({'users': users})\n",
    "if nb == 0:\n",
    "    df.to_csv(os.path.join(COMMON_PATH, \"users.csv.gz\"), compression='gzip', index = False)\n",
    "else:\n",
    "    df.to_csv(os.path.join(COMMON_PATH, \"users.csv.gz\"), compression='gzip', mode='a', index = False, header = False)\n",
    "nb += 1\n",
    "df = 0\n",
    "users = []"
   ]
  },
  {
   "cell_type": "code",
   "execution_count": null,
   "metadata": {
    "collapsed": true
   },
   "outputs": [],
   "source": [
    "users = pd.read_csv(os.path.join(COMMON_PATH, \"users.csv.gz\", compression='gzip')"
   ]
  },
  {
   "cell_type": "code",
   "execution_count": null,
   "metadata": {
    "collapsed": true
   },
   "outputs": [],
   "source": [
    "nb_users = len(users.drop_duplicates())"
   ]
  },
  {
   "cell_type": "code",
   "execution_count": null,
   "metadata": {
    "collapsed": true
   },
   "outputs": [],
   "source": [
    "print('Number of users ', nb_users)"
   ]
  },
  {
   "cell_type": "code",
   "execution_count": null,
   "metadata": {
    "collapsed": true
   },
   "outputs": [],
   "source": [
    "with open(os.path.join(COMMON_PATH, \"nb_users.pkl\"),'wb') as f:\n",
    "     pickle.dump([nb_users], f)\n",
    "f.close()"
   ]
  },
  {
   "cell_type": "code",
   "execution_count": null,
   "metadata": {
    "collapsed": true
   },
   "outputs": [],
   "source": [
    "duplicate_users = users[users.duplicated() == True].drop_duplicates()"
   ]
  },
  {
   "cell_type": "code",
   "execution_count": null,
   "metadata": {
    "collapsed": true
   },
   "outputs": [],
   "source": [
    "print('Number of users having duplicate rows =  ', users - nb_users)"
   ]
  },
  {
   "cell_type": "code",
   "execution_count": null,
   "metadata": {
    "collapsed": true
   },
   "outputs": [],
   "source": [
    "with open(os.path.join(COMMON_PATH, \"duplicate_users.pkl\"),'wb') as f:\n",
    "     pickle.dump(list(duplicate_users['users']), f)\n",
    "f.close()"
   ]
  },
  {
   "cell_type": "code",
   "execution_count": null,
   "metadata": {
    "collapsed": true
   },
   "outputs": [],
   "source": [
    "# Release memory\n",
    "users = 0"
   ]
  },
  {
   "cell_type": "code",
   "execution_count": null,
   "metadata": {
    "collapsed": true
   },
   "outputs": [],
   "source": []
  },
  {
   "cell_type": "markdown",
   "metadata": {},
   "source": [
    "## Compute the channel-user sparse matrix for the given THRESHOLD \n",
    "#### ps: The THRESHOLD value has to be greater than 300"
   ]
  },
  {
   "cell_type": "code",
   "execution_count": 4,
   "metadata": {
    "collapsed": true
   },
   "outputs": [],
   "source": [
    "'''\n",
    "This function creates a mapping between the english channels id having more than 300 comments\n",
    "and their corresponding index.\n",
    "\n",
    "RETURN:\n",
    "    - dict_channel_ind_300: dictonnary mapping the channels id to the channels index\n",
    "    - dict_ind_channel_300: dictionnary mapping the channels index to the channels id\n",
    "    - channels_id_300: List of selected channels id\n",
    "'''\n",
    "def channels_index_id_mapping_300():\n",
    "    with open(\"/dlabdata1/youtube_large/jouven/channels_more_300/channels_more_300.pkl\",'rb') as f:\n",
    "        channels_id = pickle.load(f)\n",
    "    f.close()\n",
    "    \n",
    "    channels_id = sorted(channels_id)\n",
    "    # Dictionnary mapping the channel id to an integer corresponding to the row of the sparse matrix.\n",
    "    dict_channel_ind = {}\n",
    "    dict_ind_channel = {}\n",
    "    for ind, channel_id in enumerate(channels_id):\n",
    "        dict_channel_ind[channel_id] = ind\n",
    "        dict_ind_channel[ind] = channel_id\n",
    "    channels_id = set(channels_id)\n",
    "    return dict_channel_ind, dict_ind_channel, channels_id"
   ]
  },
  {
   "cell_type": "code",
   "execution_count": 5,
   "metadata": {
    "collapsed": true
   },
   "outputs": [],
   "source": [
    "# Get the mapping between index/id for our baseline -> when we have more than 300 comments per channel\n",
    "dict_channel_ind_300, dict_ind_channel_300, channels_id_300 = channels_index_id_mapping_300()"
   ]
  },
  {
   "cell_type": "code",
   "execution_count": 6,
   "metadata": {
    "collapsed": true
   },
   "outputs": [],
   "source": [
    "# Load the channel-user sparse matrix (only users having more than 2 comments)\n",
    "S = scipy.sparse.load_npz('/dlabdata1/youtube_large/jouven/final_sparse_matrix/channels_more_300/sparse_matrix_word2vec_users_commented_geq_2_channels.npz')\n"
   ]
  },
  {
   "cell_type": "code",
   "execution_count": 7,
   "metadata": {
    "collapsed": true
   },
   "outputs": [],
   "source": [
    "# Select the channels indices of the large sparse matrix contained in the new set of selected channels\n",
    "selected_channels = []\n",
    "for channel in channels_id:\n",
    "    selected_channels.append(dict_channel_ind_300[channel])\n",
    "selected_channels = sorted(selected_channels)"
   ]
  },
  {
   "cell_type": "code",
   "execution_count": 8,
   "metadata": {
    "collapsed": true
   },
   "outputs": [],
   "source": [
    "# Select the channels from the sparse matrix\n",
    "S = S[selected_channels]"
   ]
  },
  {
   "cell_type": "code",
   "execution_count": 9,
   "metadata": {
    "collapsed": true
   },
   "outputs": [],
   "source": [
    "# Select the users having more than 2 comments\n",
    "remaining_users = np.where(np.array(S.getnnz(axis = 0)) >= 2)[0]"
   ]
  },
  {
   "cell_type": "code",
   "execution_count": 10,
   "metadata": {
    "collapsed": true
   },
   "outputs": [],
   "source": [
    "S = S.tocsc()\n",
    "S = S.T\n",
    "S = S[remaining_users]\n",
    "S = S.T"
   ]
  },
  {
   "cell_type": "code",
   "execution_count": 11,
   "metadata": {
    "collapsed": true
   },
   "outputs": [],
   "source": [
    "scipy.sparse.save_npz(os.path.join(COMMON_PATH, \"sparse_matrix_word2vec_users_commented_geq_2_channels.npz\"), S.tocsr())"
   ]
  },
  {
   "cell_type": "code",
   "execution_count": 12,
   "metadata": {
    "collapsed": true
   },
   "outputs": [],
   "source": [
    "# Release memory\n",
    "S = 0"
   ]
  },
  {
   "cell_type": "markdown",
   "metadata": {},
   "source": [
    "## Compute the pairs of channels for the user and random jumper"
   ]
  },
  {
   "cell_type": "code",
   "execution_count": 34,
   "metadata": {},
   "outputs": [],
   "source": [
    "NB_SAMPLE = 30000\n",
    "\n",
    "# Load the channel-user sparse matrix\n",
    "S = scipy.sparse.load_npz(os.path.join(COMMON_PATH, \"sparse_matrix_word2vec_users_commented_geq_2_channels.npz\"))\n"
   ]
  },
  {
   "cell_type": "code",
   "execution_count": 5,
   "metadata": {},
   "outputs": [
    {
     "data": {
      "text/plain": [
       "(129616, 227495283)"
      ]
     },
     "execution_count": 5,
     "metadata": {},
     "output_type": "execute_result"
    }
   ],
   "source": [
    "S.shape"
   ]
  },
  {
   "cell_type": "code",
   "execution_count": 8,
   "metadata": {},
   "outputs": [],
   "source": [
    "channelcrawler_projection = pd.read_csv(\"/dlabdata1/youtube_large/df_channels_en.tsv.gz\", sep='\\t')"
   ]
  },
  {
   "cell_type": "code",
   "execution_count": 14,
   "metadata": {},
   "outputs": [
    {
     "data": {
      "text/html": [
       "<div>\n",
       "<style scoped>\n",
       "    .dataframe tbody tr th:only-of-type {\n",
       "        vertical-align: middle;\n",
       "    }\n",
       "\n",
       "    .dataframe tbody tr th {\n",
       "        vertical-align: top;\n",
       "    }\n",
       "\n",
       "    .dataframe thead th {\n",
       "        text-align: right;\n",
       "    }\n",
       "</style>\n",
       "<table border=\"1\" class=\"dataframe\">\n",
       "  <thead>\n",
       "    <tr style=\"text-align: right;\">\n",
       "      <th></th>\n",
       "      <th>category_cc</th>\n",
       "      <th>join_date</th>\n",
       "      <th>channel</th>\n",
       "      <th>name_cc</th>\n",
       "      <th>subscribers_cc</th>\n",
       "      <th>videos_cc</th>\n",
       "      <th>subscriber_rank_sb</th>\n",
       "      <th>weights</th>\n",
       "    </tr>\n",
       "  </thead>\n",
       "  <tbody>\n",
       "    <tr>\n",
       "      <th>0</th>\n",
       "      <td>Gaming</td>\n",
       "      <td>2010-04-29</td>\n",
       "      <td>UC-lHJZR3Gqxm24_Vd_AJ5Yw</td>\n",
       "      <td>PewDiePie</td>\n",
       "      <td>101000000</td>\n",
       "      <td>3956</td>\n",
       "      <td>3.0</td>\n",
       "      <td>2.087</td>\n",
       "    </tr>\n",
       "    <tr>\n",
       "      <th>1</th>\n",
       "      <td>Education</td>\n",
       "      <td>2006-09-01</td>\n",
       "      <td>UCbCmjCuTUZos6Inko4u57UQ</td>\n",
       "      <td>Cocomelon - Nursery ...</td>\n",
       "      <td>60100000</td>\n",
       "      <td>458</td>\n",
       "      <td>7.0</td>\n",
       "      <td>2.087</td>\n",
       "    </tr>\n",
       "    <tr>\n",
       "      <th>2</th>\n",
       "      <td>Entertainment</td>\n",
       "      <td>2006-09-20</td>\n",
       "      <td>UCpEhnqL0y41EpW2TvWAHD7Q</td>\n",
       "      <td>SET India</td>\n",
       "      <td>56018869</td>\n",
       "      <td>32661</td>\n",
       "      <td>8.0</td>\n",
       "      <td>2.087</td>\n",
       "    </tr>\n",
       "    <tr>\n",
       "      <th>3</th>\n",
       "      <td>Howto &amp; Style</td>\n",
       "      <td>2016-11-15</td>\n",
       "      <td>UC295-Dw_tDNtZXFeAPAW6Aw</td>\n",
       "      <td>5-Minute Crafts</td>\n",
       "      <td>60600000</td>\n",
       "      <td>3591</td>\n",
       "      <td>9.0</td>\n",
       "      <td>2.087</td>\n",
       "    </tr>\n",
       "    <tr>\n",
       "      <th>4</th>\n",
       "      <td>Sports</td>\n",
       "      <td>2007-05-11</td>\n",
       "      <td>UCJ5v_MCY6GNUBTO8-D3XoAg</td>\n",
       "      <td>WWE</td>\n",
       "      <td>48400000</td>\n",
       "      <td>43421</td>\n",
       "      <td>11.0</td>\n",
       "      <td>2.087</td>\n",
       "    </tr>\n",
       "  </tbody>\n",
       "</table>\n",
       "</div>"
      ],
      "text/plain": [
       "     category_cc   join_date                   channel  \\\n",
       "0         Gaming  2010-04-29  UC-lHJZR3Gqxm24_Vd_AJ5Yw   \n",
       "1      Education  2006-09-01  UCbCmjCuTUZos6Inko4u57UQ   \n",
       "2  Entertainment  2006-09-20  UCpEhnqL0y41EpW2TvWAHD7Q   \n",
       "3  Howto & Style  2016-11-15  UC295-Dw_tDNtZXFeAPAW6Aw   \n",
       "4         Sports  2007-05-11  UCJ5v_MCY6GNUBTO8-D3XoAg   \n",
       "\n",
       "                   name_cc  subscribers_cc  videos_cc  subscriber_rank_sb  \\\n",
       "0                PewDiePie       101000000       3956                 3.0   \n",
       "1  Cocomelon - Nursery ...        60100000        458                 7.0   \n",
       "2                SET India        56018869      32661                 8.0   \n",
       "3          5-Minute Crafts        60600000       3591                 9.0   \n",
       "4                      WWE        48400000      43421                11.0   \n",
       "\n",
       "   weights  \n",
       "0    2.087  \n",
       "1    2.087  \n",
       "2    2.087  \n",
       "3    2.087  \n",
       "4    2.087  "
      ]
     },
     "execution_count": 14,
     "metadata": {},
     "output_type": "execute_result"
    }
   ],
   "source": [
    "channelcrawler_projection.head()"
   ]
  },
  {
   "cell_type": "code",
   "execution_count": 6,
   "metadata": {},
   "outputs": [],
   "source": [
    "vocab_path = \"/dlabdata1/youtube_large/jouven/word2vec_pytorch/channels_more_\" + THRESHOLD_NAME \n",
    "if not os.path.exists(vocab_path): \n",
    "    os.makedirs(vocab_path)\n",
    "\n",
    "# Create and store the channels occurences\n",
    "vocab_occ = np.array(S.sum(axis = 1).flatten().tolist()[0])  # For each channel count it's occurences\n",
    "with open(vocab_path+\"/vocab_occ.pkl\",'wb') as f:\n",
    "    pickle.dump(vocab_occ, f)\n",
    "f.close()"
   ]
  },
  {
   "cell_type": "markdown",
   "metadata": {},
   "source": [
    "Compute the 3000 pairs of channels with the new random jumper method.\n",
    "For every pair, we take 2 users at random and then for each user we select one channel at random"
   ]
  },
  {
   "cell_type": "code",
   "execution_count": 7,
   "metadata": {},
   "outputs": [],
   "source": [
    "selected_users = np.random.choice(np.arange(S.shape[1]), NB_SAMPLE, replace=False)\n",
    "S2 = S[:, selected_users]\n",
    "\n",
    "# Create and store channels tuples\n",
    "channels_tuple = []\n",
    "last = 0\n",
    "for i in range(S2.shape[1]):\n",
    "    idx = S2[:, i].nonzero()\n",
    "    idx = idx[0]\n",
    "    \n",
    "    if i % 2 == 1:\n",
    "        selected_channel = np.random.choice(idx, 1)\n",
    "        channels_tuple.append((last, selected_channel))\n",
    "    else:\n",
    "        last = np.random.choice(idx, 1)\n",
    "    \n",
    "with open(os.path.join(COMMON_PATH, \"channels_tuple_random_walk_modified.pkl\"),'wb') as f:\n",
    "     pickle.dump(channels_tuple, f)\n",
    "f.close()\n",
    "\n",
    "# release memory\n",
    "selected_users = 0\n",
    "channels_tuple = 0"
   ]
  },
  {
   "cell_type": "markdown",
   "metadata": {},
   "source": [
    "Construction of the random pairs of channels to compute the random jumper of a model.\n",
    "From the set of channels that we have, we select a pair of channels by selecting at random 2 channels."
   ]
  },
  {
   "cell_type": "code",
   "execution_count": 11,
   "metadata": {},
   "outputs": [],
   "source": [
    "selected_channels = np.random.choice(np.arange(S.shape[0]), size = (NB_SAMPLE, 2), replace=False)\n",
    "channels_tuple = []\n",
    "for val in selected_channels:\n",
    "    channels_tuple.append((val[0], val[1]))\n",
    "with open(os.path.join(COMMON_PATH, 'channels_tuple_random_walk.pkl'),'wb') as f:\n",
    "     pickle.dump(channels_tuple, f)\n",
    "f.close()\n",
    "# Release memory\n",
    "selected_channels = 0\n",
    "channels_tuple = 0"
   ]
  },
  {
   "cell_type": "markdown",
   "metadata": {},
   "source": [
    "Construction of the random pairs to compute the user jumper of a model.\n",
    "We select a pair of channel by selecting a user at random and then selecting random 2 channels from this user."
   ]
  },
  {
   "cell_type": "code",
   "execution_count": 38,
   "metadata": {},
   "outputs": [],
   "source": [
    "# Sample NB_SAMPLE from the set of users, we select more than the number required\n",
    "# if we have duplicate channels\n",
    "selected_users = np.random.randint(S.shape[1] - 1, size=int(100000))\n",
    "S = S[:, selected_users]\n",
    "\n",
    "# Create and store channels tuples\n",
    "channels_tuple = []\n",
    "for i in range(S.shape[1]):\n",
    "    idx = S[:, i].nonzero()\n",
    "    idx = idx[0]\n",
    "    \n",
    "    if len(idx2) >= 2:\n",
    "        selected_channels = np.random.choice(idx, 2, replace=False)\n",
    "        channels_tuple.append((selected_channels[0], selected_channels[1]))\n",
    "        \n",
    "    if len(channels_tuple) == 10000:\n",
    "        break\n",
    "    \n",
    "with open(os.path.join(COMMON_PATH, \"channels_tuple_user_walk.pkl\"),'wb') as f:\n",
    "     pickle.dump(channels_tuple, f)\n",
    "f.close()"
   ]
  },
  {
   "cell_type": "code",
   "execution_count": null,
   "metadata": {},
   "outputs": [],
   "source": []
  }
 ],
 "metadata": {
  "kernelspec": {
   "display_name": "Python 3",
   "language": "python",
   "name": "python3"
  },
  "language_info": {
   "codemirror_mode": {
    "name": "ipython",
    "version": 3
   },
   "file_extension": ".py",
   "mimetype": "text/x-python",
   "name": "python",
   "nbconvert_exporter": "python",
   "pygments_lexer": "ipython3",
   "version": "3.7.7"
  }
 },
 "nbformat": 4,
 "nbformat_minor": 4
}
