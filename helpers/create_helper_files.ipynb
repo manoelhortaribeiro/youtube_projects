{
 "cells": [
  {
   "cell_type": "markdown",
   "metadata": {},
   "source": [
    "## NOTEBOOK DECRIPTION:\n",
    "\n",
    "This notebook creates new data/files according to the THRESHOLD value which the minimum number of comments per channel.\n",
    "This THRESHOLD value can be modified in `/helpers/config_threshold_value.py`.\n",
    "This files created are:\n",
    "- Filter the video-channel relationship dataframe with the selected channels\n",
    "- The set of users that appeared multiple times in the `comments_dataset` file\n",
    "- Compute the channel-user sparse matrix for the given THRESHOLD\n",
    "- Compute the pairs of channels for the user and random jumper"
   ]
  },
  {
   "cell_type": "code",
   "execution_count": 1,
   "metadata": {
    "collapsed": true
   },
   "outputs": [],
   "source": [
    "import time\n",
    "import pickle\n",
    "import os\n",
    "import sys\n",
    "import scipy.sparse\n",
    "\n",
    "import numpy as np\n",
    "import pandas as pd\n",
    "\n",
    "from config_threshold_value import *"
   ]
  },
  {
   "cell_type": "code",
   "execution_count": 2,
   "metadata": {
    "collapsed": true
   },
   "outputs": [],
   "source": [
    "'''\n",
    "This function creates a mapping between the selected channels id and their corresponding index.\n",
    "\n",
    "RETURN:\n",
    "    - dict_channel_ind: dictonnary mapping the channels id to the channels index\n",
    "    - dict_ind_channel: dictionnary mapping the channels index to the channels id\n",
    "    - channels_id: List of selected channels id\n",
    "'''\n",
    "def filtered_channels_index_id_mapping():\n",
    "    with open(os.path.join(COMMON_PATH, \"channels_more_\" + THRESHOLD_NAME + \".pkl\"),'rb') as f:\n",
    "        channels_id = pickle.load(f)\n",
    "    f.close()\n",
    "    \n",
    "    channels_id = sorted(channels_id)\n",
    "    # Dictionnary mapping the channel id to an integer corresponding to the row of the sparse matrix.\n",
    "    dict_channel_ind = {}\n",
    "    dict_ind_channel = {}\n",
    "    for ind, channel_id in enumerate(channels_id):\n",
    "        dict_channel_ind[channel_id] = ind\n",
    "        dict_ind_channel[ind] = channel_id\n",
    "    channels_id = set(channels_id)\n",
    "    return dict_channel_ind, dict_ind_channel, channels_id"
   ]
  },
  {
   "cell_type": "markdown",
   "metadata": {},
   "source": [
    "### Video channel mapping filtered"
   ]
  },
  {
   "cell_type": "markdown",
   "metadata": {},
   "source": [
    "From the original dictionnary having all the video-channel relationship, we only select data corresponding to the selected channels."
   ]
  },
  {
   "cell_type": "code",
   "execution_count": 3,
   "metadata": {
    "collapsed": true
   },
   "outputs": [],
   "source": [
    "# Selected channels and id-index mapping\n",
    "dict_channel_ind, dict_ind_channel, channels_id = filtered_channels_index_id_mapping()"
   ]
  },
  {
   "cell_type": "code",
   "execution_count": 4,
   "metadata": {
    "collapsed": true
   },
   "outputs": [],
   "source": [
    "vid_to_channels = pd.read_pickle(\"/dlabdata1/youtube_large/jouven/channels_more_300/video_to_channel_mapping_filtered.pkl\")"
   ]
  },
  {
   "cell_type": "code",
   "execution_count": 5,
   "metadata": {
    "collapsed": false
   },
   "outputs": [
    {
     "name": "stdout",
     "output_type": "stream",
     "text": [
      "Original length of the relationship dataframe  70982015\n"
     ]
    }
   ],
   "source": [
    "print('Original length of the relationship dataframe ', len(vid_to_channels))"
   ]
  },
  {
   "cell_type": "code",
   "execution_count": 6,
   "metadata": {
    "collapsed": true
   },
   "outputs": [],
   "source": [
    "vid_to_channels_filtered = {}\n",
    "for vid, channel in vid_to_channels.items():\n",
    "    if not dict_channel_ind.get(channel) == None:\n",
    "        if channel in channels_id:\n",
    "            vid_to_channels_filtered[vid] = channel"
   ]
  },
  {
   "cell_type": "code",
   "execution_count": 7,
   "metadata": {
    "collapsed": false
   },
   "outputs": [
    {
     "name": "stdout",
     "output_type": "stream",
     "text": [
      "Filtered length of the relationship dataframe  25108956\n"
     ]
    }
   ],
   "source": [
    "print('Filtered length of the relationship dataframe ', len(vid_to_channels_filtered))"
   ]
  },
  {
   "cell_type": "code",
   "execution_count": 8,
   "metadata": {
    "collapsed": true
   },
   "outputs": [],
   "source": [
    "# Store the  video_id to the channel index filtered mapping\n",
    "with open(os.path.join(COMMON_PATH, \"video_to_channel_mapping_filtered.pkl\"),'wb') as f:\n",
    "     pickle.dump(vid_to_channels_filtered, f)\n",
    "f.close()"
   ]
  },
  {
   "cell_type": "code",
   "execution_count": 9,
   "metadata": {
    "collapsed": true
   },
   "outputs": [],
   "source": [
    "# Release memory\n",
    "vid_to_channels = 0\n",
    "vid_to_channels = vid_to_channels_filtered\n",
    "vid_to_channels_filtered = 0"
   ]
  },
  {
   "cell_type": "markdown",
   "metadata": {},
   "source": [
    "### Compute duplicate users and compute the occurences of each channel"
   ]
  },
  {
   "cell_type": "markdown",
   "metadata": {},
   "source": [
    "Some users appear to have duplicate rows and the goal is to find these duplicate rows to delete them when reading the `comments_dataset` file.\n",
    "\n",
    "In order to find these duplicate users, we first read the whole `comments_dataset` file and retrieve each user for each block of comments. Since this file is ordered by user, each time we encounter a different user we put it in the created dataframe."
   ]
  },
  {
   "cell_type": "code",
   "execution_count": null,
   "metadata": {
    "collapsed": true
   },
   "outputs": [],
   "source": [
    "# Adjust chunk_size as necessary -- defaults to 16,384 if not specific\n",
    "reader = Zreader(\"/dlabdata1/youtube_large/youtube_comments.ndjson.zst\", chunk_size=160384)\n",
    "\n",
    "# parameters\n",
    "idx = 1\n",
    "comments_per_channel = {}\n",
    "user = ''\n",
    "begin_time = time.time()\n",
    "# Users having commented\n",
    "users = []\n",
    "nb = 0\n",
    "\n",
    "# Read each line from the reader\n",
    "for line in reader.readlines():\n",
    "    line_split = line.replace('\"', '').split(',')\n",
    "    if len(line_split) >= 9:\n",
    "        author_id = line_split[0]\n",
    "        if vid_to_channels.get(line_split[2]) in channels_id:\n",
    "            if author_id != user:\n",
    "                users.append(author_id)\n",
    "            \n",
    "    if len(users) >= 50000000:\n",
    "        print(str(idx) + ' line have been processed')\n",
    "        with open(\"/dlabdata1/youtube_large/jouven/idx.pkl\",'wb') as f:\n",
    "             pickle.dump([idx], f)\n",
    "        f.close()\n",
    "        df = pd.DataFrame({'users': users})\n",
    "        if nb == 0:\n",
    "            df.to_csv(os.path.join(COMMON_PATH, \"users.csv.gz\"), compression='gzip', index = False)\n",
    "        else:\n",
    "            df.to_csv(os.path.join(COMMON_PATH, \"users.csv.gz\"), compression='gzip', mode='a', index = False, header = False)\n",
    "        nb += 1\n",
    "        df = 0\n",
    "        users = []\n",
    "        \n",
    "    user = author_id\n",
    "    idx += 1\n",
    "    \n",
    "print(str(idx) + ' line have been processed')\n",
    "with open(\"/dlabdata1/youtube_large/jouven/idx.pkl\",'wb') as f:\n",
    "     pickle.dump([idx], f)\n",
    "f.close()\n",
    "df = pd.DataFrame({'users': users})\n",
    "if nb == 0:\n",
    "    df.to_csv(os.path.join(COMMON_PATH, \"users.csv.gz\"), compression='gzip', index = False)\n",
    "else:\n",
    "    df.to_csv(os.path.join(COMMON_PATH, \"users.csv.gz\"), compression='gzip', mode='a', index = False, header = False)\n",
    "nb += 1\n",
    "df = 0\n",
    "users = []"
   ]
  },
  {
   "cell_type": "code",
   "execution_count": null,
   "metadata": {
    "collapsed": true
   },
   "outputs": [],
   "source": [
    "users = pd.read_csv(os.path.join(COMMON_PATH, \"users.csv.gz\", compression='gzip')"
   ]
  },
  {
   "cell_type": "code",
   "execution_count": null,
   "metadata": {
    "collapsed": true
   },
   "outputs": [],
   "source": [
    "nb_users = len(users.drop_duplicates())"
   ]
  },
  {
   "cell_type": "code",
   "execution_count": null,
   "metadata": {
    "collapsed": true
   },
   "outputs": [],
   "source": [
    "print('Number of users ', nb_users)"
   ]
  },
  {
   "cell_type": "code",
   "execution_count": null,
   "metadata": {
    "collapsed": true
   },
   "outputs": [],
   "source": [
    "with open(os.path.join(COMMON_PATH, \"nb_users.pkl\"),'wb') as f:\n",
    "     pickle.dump([nb_users], f)\n",
    "f.close()"
   ]
  },
  {
   "cell_type": "code",
   "execution_count": null,
   "metadata": {
    "collapsed": true
   },
   "outputs": [],
   "source": [
    "duplicate_users = users[users.duplicated() == True].drop_duplicates()"
   ]
  },
  {
   "cell_type": "code",
   "execution_count": null,
   "metadata": {
    "collapsed": true
   },
   "outputs": [],
   "source": [
    "print('Number of users having duplicate rows =  ', users - nb_users)"
   ]
  },
  {
   "cell_type": "code",
   "execution_count": null,
   "metadata": {
    "collapsed": true
   },
   "outputs": [],
   "source": [
    "with open(os.path.join(COMMON_PATH, \"duplicate_users.pkl\"),'wb') as f:\n",
    "     pickle.dump(list(duplicate_users['users']), f)\n",
    "f.close()"
   ]
  },
  {
   "cell_type": "code",
   "execution_count": null,
   "metadata": {
    "collapsed": true
   },
   "outputs": [],
   "source": [
    "# Release memory\n",
    "users = 0"
   ]
  },
  {
   "cell_type": "code",
   "execution_count": null,
   "metadata": {
    "collapsed": true
   },
   "outputs": [],
   "source": []
  },
  {
   "cell_type": "markdown",
   "metadata": {},
   "source": [
    "## Compute the channel-user sparse matrix for the given THRESHOLD \n",
    "#### ps: The THRESHOLD value has to be greater than 300"
   ]
  },
  {
   "cell_type": "code",
   "execution_count": 4,
   "metadata": {
    "collapsed": true
   },
   "outputs": [],
   "source": [
    "'''\n",
    "This function creates a mapping between the english channels id having more than 300 comments\n",
    "and their corresponding index.\n",
    "\n",
    "RETURN:\n",
    "    - dict_channel_ind_300: dictonnary mapping the channels id to the channels index\n",
    "    - dict_ind_channel_300: dictionnary mapping the channels index to the channels id\n",
    "    - channels_id_300: List of selected channels id\n",
    "'''\n",
    "def channels_index_id_mapping_300():\n",
    "    with open(\"/dlabdata1/youtube_large/jouven/channels_more_300/channels_more_300.pkl\",'rb') as f:\n",
    "        channels_id = pickle.load(f)\n",
    "    f.close()\n",
    "    \n",
    "    channels_id = sorted(channels_id)\n",
    "    # Dictionnary mapping the channel id to an integer corresponding to the row of the sparse matrix.\n",
    "    dict_channel_ind = {}\n",
    "    dict_ind_channel = {}\n",
    "    for ind, channel_id in enumerate(channels_id):\n",
    "        dict_channel_ind[channel_id] = ind\n",
    "        dict_ind_channel[ind] = channel_id\n",
    "    channels_id = set(channels_id)\n",
    "    return dict_channel_ind, dict_ind_channel, channels_id"
   ]
  },
  {
   "cell_type": "code",
   "execution_count": 5,
   "metadata": {
    "collapsed": true
   },
   "outputs": [],
   "source": [
    "# Get the mapping between index/id for our baseline -> when we have more than 300 comments per channel\n",
    "dict_channel_ind_300, dict_ind_channel_300, channels_id_300 = channels_index_id_mapping_300()"
   ]
  },
  {
   "cell_type": "code",
   "execution_count": 6,
   "metadata": {
    "collapsed": true
   },
   "outputs": [],
   "source": [
    "# Load the channel-user sparse matrix (only users having more than 2 comments)\n",
    "S = scipy.sparse.load_npz('/dlabdata1/youtube_large/jouven/final_sparse_matrix/channels_more_300/sparse_matrix_word2vec_users_commented_geq_2_channels.npz')\n"
   ]
  },
  {
   "cell_type": "code",
   "execution_count": 7,
   "metadata": {
    "collapsed": true
   },
   "outputs": [],
   "source": [
    "# Select the channels indices of the large sparse matrix contained in the new set of selected channels\n",
    "selected_channels = []\n",
    "for channel in channels_id:\n",
    "    selected_channels.append(dict_channel_ind_300[channel])\n",
    "selected_channels = sorted(selected_channels)"
   ]
  },
  {
   "cell_type": "code",
   "execution_count": 8,
   "metadata": {
    "collapsed": true
   },
   "outputs": [],
   "source": [
    "# Select the channels from the sparse matrix\n",
    "S = S[selected_channels]"
   ]
  },
  {
   "cell_type": "code",
   "execution_count": 9,
   "metadata": {
    "collapsed": true
   },
   "outputs": [],
   "source": [
    "# Select the users having more than 2 comments\n",
    "remaining_users = np.where(np.array(S.getnnz(axis = 0)) >= 2)[0]"
   ]
  },
  {
   "cell_type": "code",
   "execution_count": 10,
   "metadata": {
    "collapsed": true
   },
   "outputs": [],
   "source": [
    "S = S.tocsc()\n",
    "S = S.T\n",
    "S = S[remaining_users]\n",
    "S = S.T"
   ]
  },
  {
   "cell_type": "code",
   "execution_count": 11,
   "metadata": {
    "collapsed": true
   },
   "outputs": [],
   "source": [
    "scipy.sparse.save_npz(os.path.join(COMMON_PATH, \"sparse_matrix_word2vec_users_commented_geq_2_channels.npz\"), S.tocsr())"
   ]
  },
  {
   "cell_type": "code",
   "execution_count": 12,
   "metadata": {
    "collapsed": true
   },
   "outputs": [],
   "source": [
    "# Release memory\n",
    "S = 0"
   ]
  },
  {
   "cell_type": "markdown",
   "metadata": {},
   "source": [
    "## Compute the pairs of channels for the user and random jumper"
   ]
  },
  {
   "cell_type": "code",
   "execution_count": 13,
   "metadata": {
    "collapsed": false
   },
   "outputs": [],
   "source": [
    "NB_SAMPLE = 3000\n",
    "\n",
    "# Load the channel-user sparse matrix\n",
    "S = scipy.sparse.load_npz(os.path.join(COMMON_PATH, \"sparse_matrix_word2vec_users_commented_geq_2_channels.npz\"))\n"
   ]
  },
  {
   "cell_type": "code",
   "execution_count": 16,
   "metadata": {
    "collapsed": false
   },
   "outputs": [
    {
     "data": {
      "text/plain": [
       "'/dlabdata1/youtube_large/jouven/channels_more_haha'"
      ]
     },
     "execution_count": 16,
     "metadata": {},
     "output_type": "execute_result"
    }
   ],
   "source": [
    "COMMON_PATH"
   ]
  },
  {
   "cell_type": "code",
   "execution_count": 21,
   "metadata": {
    "collapsed": false
   },
   "outputs": [],
   "source": [
    "vocab_path = \"/dlabdata1/youtube_large/jouven/word2vec_pytorch/channels_more_\" + THRESHOLD_NAME \n",
    "if not os.path.exists(vocab_path): \n",
    "    os.makedirs(vocab_path)\n",
    "\n",
    "# Create and store the channels occurences\n",
    "vocab_occ = np.array(S.sum(axis = 1).flatten().tolist()[0])  # For each channel count it's occurences\n",
    "with open(vocab_path+\"/vocab_occ.pkl\",'wb') as f:\n",
    "    pickle.dump(vocab_occ, f)\n",
    "f.close()"
   ]
  },
  {
   "cell_type": "markdown",
   "metadata": {},
   "source": [
    "Compute the 3000 pairs of channels with the new random jumper method.\n",
    "For every pair, we take 2 users at random and then for each user we select one channel at random"
   ]
  },
  {
   "cell_type": "code",
   "execution_count": 23,
   "metadata": {
    "collapsed": false
   },
   "outputs": [],
   "source": [
    "selected_users = np.random.choice(np.arange(S.shape[1]), NB_SAMPLE, replace=False)\n",
    "S2 = S[:, selected_users]\n",
    "\n",
    "# Create and store channels tuples\n",
    "channels_tuple = []\n",
    "last = 0\n",
    "for i in range(S2.shape[1]):\n",
    "    idx = S2[:, i].nonzero()\n",
    "    idx = idx[0]\n",
    "    \n",
    "    if i % 2 == 1:\n",
    "        selected_channel = np.random.choice(idx, 1)\n",
    "        channels_tuple.append((last, selected_channel))\n",
    "    else:\n",
    "        last = np.random.choice(idx, 1)\n",
    "    \n",
    "with open(os.path.join(COMMON_PATH, \"channels_tuple_random_walk_new.pkl\"),'wb') as f:\n",
    "     pickle.dump(channels_tuple, f)\n",
    "f.close()\n",
    "\n",
    "# release memory\n",
    "selected_users = 0\n",
    "channels_tuple = 0"
   ]
  },
  {
   "cell_type": "markdown",
   "metadata": {},
   "source": [
    "Construction of the random pairs of channels to compute the random jumper of a model.\n",
    "From the set of channels that we have, we select a pair of channels by selecting at random 2 channels."
   ]
  },
  {
   "cell_type": "code",
   "execution_count": 25,
   "metadata": {
    "collapsed": false
   },
   "outputs": [
    {
     "data": {
      "text/plain": [
       "array([[ 66079680, 131009717],\n",
       "       [ 60453154,  29494171],\n",
       "       [ 56578769,  59018842],\n",
       "       ...,\n",
       "       [178349367,  21225481],\n",
       "       [ 61119565,   7111425],\n",
       "       [ 67415177, 163507761]])"
      ]
     },
     "execution_count": 25,
     "metadata": {},
     "output_type": "execute_result"
    }
   ],
   "source": [
    "np.random.choice(np.arange(S.shape[1]), size = (NB_SAMPLE, 2), replace=False)"
   ]
  },
  {
   "cell_type": "code",
   "execution_count": 27,
   "metadata": {
    "collapsed": false
   },
   "outputs": [],
   "source": [
    "selected_channels = np.random.choice(np.arange(S.shape[1]), size = (NB_SAMPLE, 2), replace=False)\n",
    "channels_tuple = []\n",
    "for val in selected_channels:\n",
    "    channels_tuple.append((val[0], val[1]))\n",
    "with open(os.path.join(COMMON_PATH, 'channels_tuple_random_walk.pkl'),'wb') as f:\n",
    "     pickle.dump(channels_tuple, f)\n",
    "f.close()\n",
    "# Release memory\n",
    "selected_channels = 0\n",
    "channels_tuple = 0"
   ]
  },
  {
   "cell_type": "markdown",
   "metadata": {},
   "source": [
    "Construction of the random pairs to compute the user jumper of a model.\n",
    "We select a pair of channel by selecting a user at random and then selecting random 2 channels from this user."
   ]
  },
  {
   "cell_type": "code",
   "execution_count": 34,
   "metadata": {
    "collapsed": false
   },
   "outputs": [],
   "source": [
    "# Sample NB_SAMPLE from the set of users\n",
    "#selected_users = np.random.randint(S.shape[1] - 1, size=NB_SAMPLE)\n",
    "#S = S[:, selected_users]\n",
    "\n",
    "# Create and store channels tuples\n",
    "channels_tuple = []\n",
    "for i in range(S.shape[1]):\n",
    "    idx = S[:, i].nonzero()\n",
    "    idx = idx[0]\n",
    "    selected_channels = np.random.choice(idx, 2, replace=False)\n",
    "    channels_tuple.append((selected_channels[0], selected_channels[1]))\n",
    "    \n",
    "with open(os.path.join(COMMON_PATH, \"channels_tuple_user_walk.pkl\"),'wb') as f:\n",
    "     pickle.dump(channels_tuple, f)\n",
    "f.close()\n",
    "\n"
   ]
  },
  {
   "cell_type": "code",
   "execution_count": null,
   "metadata": {
    "collapsed": true
   },
   "outputs": [],
   "source": []
  }
 ],
 "metadata": {
  "kernelspec": {
   "display_name": "Python 3",
   "language": "python",
   "name": "python3"
  },
  "language_info": {
   "codemirror_mode": {
    "name": "ipython",
    "version": 3
   },
   "file_extension": ".py",
   "mimetype": "text/x-python",
   "name": "python",
   "nbconvert_exporter": "python",
   "pygments_lexer": "ipython3",
   "version": "3.6.11"
  }
 },
 "nbformat": 4,
 "nbformat_minor": 4
}
