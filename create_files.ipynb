{
 "cells": [
  {
   "cell_type": "code",
   "execution_count": 1,
   "metadata": {},
   "outputs": [],
   "source": [
    "import time\n",
    "import pickle\n",
    "\n",
    "import numpy as np\n",
    "\n",
    "from helpers import *"
   ]
  },
  {
   "cell_type": "code",
   "execution_count": 2,
   "metadata": {},
   "outputs": [],
   "source": [
    "# Dictionnary mapping the video_id to the channel_id\n",
    "vid_to_channels = pd.read_pickle(\"/dlabdata1/youtube_large/id_to_channel_mapping.pickle\")"
   ]
  },
  {
   "cell_type": "code",
   "execution_count": 3,
   "metadata": {},
   "outputs": [],
   "source": [
    "occurent_users = dict_occurent_users()\n",
    "dict_channel_ind, dict_ind_channel, channels_id = english_channels()"
   ]
  },
  {
   "cell_type": "markdown",
   "metadata": {},
   "source": [
    "# -------------------------------------------------------------------------------------------"
   ]
  },
  {
   "cell_type": "markdown",
   "metadata": {},
   "source": [
    "Compute the number of comments per channel and store it into the YouTube project"
   ]
  },
  {
   "cell_type": "code",
   "execution_count": 4,
   "metadata": {},
   "outputs": [],
   "source": [
    "'''\n",
    "Add a comment into the a dictionnary keeping track of the number of comments per channel\n",
    "PARAMETERS:\n",
    "    - dictionnary: dicionnary mapping a channel index with it's corresponding number of comments\n",
    "    - corr_channel: the channel index in which we want to add a comment\n",
    "'''\n",
    "def add_comment(dictionnary, corr_channel):\n",
    "    if corr_channel in dictionnary:\n",
    "        dictionnary[corr_channel] += 1\n",
    "    else:\n",
    "        dictionnary[corr_channel] = 1"
   ]
  },
  {
   "cell_type": "code",
   "execution_count": null,
   "metadata": {},
   "outputs": [
    {
     "name": "stdout",
     "output_type": "stream",
     "text": [
      "-5327.728192329407\n",
      "-5531.879767417908\n",
      "-5633.614473581314\n",
      "-6021.908686161041\n"
     ]
    }
   ],
   "source": [
    "# Adjust chunk_size as necessary -- defaults to 16,384 if not specific\n",
    "reader = Zreader(\"/dlabdata1/youtube_large/youtube_comments.ndjson.zst\", chunk_size=160384)\n",
    "\n",
    "# parameters\n",
    "idx = 1\n",
    "comments_per_channels = {}\n",
    "user = ''\n",
    "begin_time = time.time()\n",
    "\n",
    "\n",
    "# Read each line from the reader\n",
    "for line in reader.readlines():\n",
    "    line_split = line.replace('\"', '').split(',')\n",
    "    if len(line_split) == 9:\n",
    "        author_id = line_split[0]\n",
    "        if vid_to_channels.get(line_split[2]) in channels_id:\n",
    "            corr_channel = dict_channel_ind[vid_to_channels[line_split[2]]]\n",
    "            if author_id == user:\n",
    "                if author_id in occurent_users:\n",
    "                    if occurent_users[author_id] <= 1:\n",
    "                        add_comment(comments_per_channels, corr_channel)\n",
    "                else:\n",
    "                    add_comment(comments_per_channels, corr_channel)\n",
    "            else:\n",
    "                if author_id in occurent_users:\n",
    "                    occurent_users[author_id] += 1\n",
    "                    if occurent_users[author_id] <= 1:\n",
    "                        add_comment(comments_per_channels, corr_channel)\n",
    "                else:\n",
    "                    add_comment(comments_per_channels, corr_channel)\n",
    "            \n",
    "            user = author_id\n",
    "    idx += 1\n",
    "    if idx % 1000000000 == 0:\n",
    "        print(begin_time-time.time())\n",
    "        begin_time = time.time()\n",
    "    "
   ]
  },
  {
   "cell_type": "code",
   "execution_count": null,
   "metadata": {},
   "outputs": [],
   "source": [
    "# Store the comments_per_channel dictionnary into the YouTube project\n",
    "with open(\"/dlabdata1/youtube_large/jouven/comments_per_channel.pkl\",'wb') as f:\n",
    "     pickle.dump(comments_per_channels, f)\n",
    "f.close()"
   ]
  },
  {
   "cell_type": "code",
   "execution_count": null,
   "metadata": {},
   "outputs": [],
   "source": []
  }
 ],
 "metadata": {
  "kernelspec": {
   "display_name": "Python 3",
   "language": "python",
   "name": "python3"
  },
  "language_info": {
   "codemirror_mode": {
    "name": "ipython",
    "version": 3
   },
   "file_extension": ".py",
   "mimetype": "text/x-python",
   "name": "python",
   "nbconvert_exporter": "python",
   "pygments_lexer": "ipython3",
   "version": "3.7.7"
  }
 },
 "nbformat": 4,
 "nbformat_minor": 4
}
