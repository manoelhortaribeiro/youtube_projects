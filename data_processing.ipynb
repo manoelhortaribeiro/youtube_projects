{
 "cells": [
  {
   "cell_type": "code",
   "execution_count": 198,
   "metadata": {},
   "outputs": [],
   "source": [
    "import zstandard as zstd\n",
    "import pandas as pd\n",
    "import networkx as nx\n",
    "import json\n",
    "import queue"
   ]
  },
  {
   "cell_type": "markdown",
   "metadata": {},
   "source": [
    "### Channels that we consider"
   ]
  },
  {
   "cell_type": "code",
   "execution_count": 227,
   "metadata": {},
   "outputs": [],
   "source": [
    "channelcrawler = pd.read_csv(\"/dlabdata1/youtube_large/channelcrawler.csv\")"
   ]
  },
  {
   "cell_type": "code",
   "execution_count": 228,
   "metadata": {},
   "outputs": [
    {
     "data": {
      "text/html": [
       "<div>\n",
       "<style scoped>\n",
       "    .dataframe tbody tr th:only-of-type {\n",
       "        vertical-align: middle;\n",
       "    }\n",
       "\n",
       "    .dataframe tbody tr th {\n",
       "        vertical-align: top;\n",
       "    }\n",
       "\n",
       "    .dataframe thead th {\n",
       "        text-align: right;\n",
       "    }\n",
       "</style>\n",
       "<table border=\"1\" class=\"dataframe\">\n",
       "  <thead>\n",
       "    <tr style=\"text-align: right;\">\n",
       "      <th></th>\n",
       "      <th>category</th>\n",
       "      <th>join_date</th>\n",
       "      <th>link</th>\n",
       "      <th>name</th>\n",
       "      <th>subscribers</th>\n",
       "      <th>videos</th>\n",
       "    </tr>\n",
       "  </thead>\n",
       "  <tbody>\n",
       "    <tr>\n",
       "      <th>0</th>\n",
       "      <td>Film and Animation</td>\n",
       "      <td>2017-05-21</td>\n",
       "      <td>http://www.youtube.com/channel/UCBJuEqXfXTdcPS...</td>\n",
       "      <td>MagnusNation</td>\n",
       "      <td>65100</td>\n",
       "      <td>28</td>\n",
       "    </tr>\n",
       "    <tr>\n",
       "      <th>1</th>\n",
       "      <td>Entertainment</td>\n",
       "      <td>2011-12-13</td>\n",
       "      <td>http://www.youtube.com/channel/UCkNW9Q1VR_aeZ6...</td>\n",
       "      <td>Mago Dario Animazion...</td>\n",
       "      <td>60200</td>\n",
       "      <td>48</td>\n",
       "    </tr>\n",
       "    <tr>\n",
       "      <th>2</th>\n",
       "      <td>Music</td>\n",
       "      <td>2013-09-13</td>\n",
       "      <td>http://www.youtube.com/channel/UC1xcnrpcF59FWW...</td>\n",
       "      <td>Mägo de Oz - Topic</td>\n",
       "      <td>40200</td>\n",
       "      <td>395</td>\n",
       "    </tr>\n",
       "    <tr>\n",
       "      <th>3</th>\n",
       "      <td>Music</td>\n",
       "      <td>2008-03-17</td>\n",
       "      <td>http://www.youtube.com/channel/UCXhkGgooXHDNwg...</td>\n",
       "      <td>Mago Merlino</td>\n",
       "      <td>14800</td>\n",
       "      <td>838</td>\n",
       "    </tr>\n",
       "    <tr>\n",
       "      <th>4</th>\n",
       "      <td>Entertainment</td>\n",
       "      <td>2014-10-19</td>\n",
       "      <td>http://www.youtube.com/channel/UCvZGsuvKlYOGiZ...</td>\n",
       "      <td>MAGO TOMÁS</td>\n",
       "      <td>26200</td>\n",
       "      <td>31</td>\n",
       "    </tr>\n",
       "  </tbody>\n",
       "</table>\n",
       "</div>"
      ],
      "text/plain": [
       "             category   join_date  \\\n",
       "0  Film and Animation  2017-05-21   \n",
       "1       Entertainment  2011-12-13   \n",
       "2               Music  2013-09-13   \n",
       "3               Music  2008-03-17   \n",
       "4       Entertainment  2014-10-19   \n",
       "\n",
       "                                                link                     name  \\\n",
       "0  http://www.youtube.com/channel/UCBJuEqXfXTdcPS...             MagnusNation   \n",
       "1  http://www.youtube.com/channel/UCkNW9Q1VR_aeZ6...  Mago Dario Animazion...   \n",
       "2  http://www.youtube.com/channel/UC1xcnrpcF59FWW...       Mägo de Oz - Topic   \n",
       "3  http://www.youtube.com/channel/UCXhkGgooXHDNwg...             Mago Merlino   \n",
       "4  http://www.youtube.com/channel/UCvZGsuvKlYOGiZ...               MAGO TOMÁS   \n",
       "\n",
       "   subscribers  videos  \n",
       "0        65100      28  \n",
       "1        60200      48  \n",
       "2        40200     395  \n",
       "3        14800     838  \n",
       "4        26200      31  "
      ]
     },
     "execution_count": 228,
     "metadata": {},
     "output_type": "execute_result"
    }
   ],
   "source": [
    "channelcrawler.head()"
   ]
  },
  {
   "cell_type": "code",
   "execution_count": 229,
   "metadata": {},
   "outputs": [],
   "source": [
    "channelcrawler['channel_id'] = channels_wanted['link'].str.split('/').str[-1]"
   ]
  },
  {
   "cell_type": "code",
   "execution_count": 230,
   "metadata": {},
   "outputs": [
    {
     "data": {
      "text/html": [
       "<div>\n",
       "<style scoped>\n",
       "    .dataframe tbody tr th:only-of-type {\n",
       "        vertical-align: middle;\n",
       "    }\n",
       "\n",
       "    .dataframe tbody tr th {\n",
       "        vertical-align: top;\n",
       "    }\n",
       "\n",
       "    .dataframe thead th {\n",
       "        text-align: right;\n",
       "    }\n",
       "</style>\n",
       "<table border=\"1\" class=\"dataframe\">\n",
       "  <thead>\n",
       "    <tr style=\"text-align: right;\">\n",
       "      <th></th>\n",
       "      <th>category</th>\n",
       "      <th>join_date</th>\n",
       "      <th>link</th>\n",
       "      <th>name</th>\n",
       "      <th>subscribers</th>\n",
       "      <th>videos</th>\n",
       "      <th>channel_id</th>\n",
       "    </tr>\n",
       "  </thead>\n",
       "  <tbody>\n",
       "    <tr>\n",
       "      <th>0</th>\n",
       "      <td>Film and Animation</td>\n",
       "      <td>2017-05-21</td>\n",
       "      <td>http://www.youtube.com/channel/UCBJuEqXfXTdcPS...</td>\n",
       "      <td>MagnusNation</td>\n",
       "      <td>65100</td>\n",
       "      <td>28</td>\n",
       "      <td>UCBJuEqXfXTdcPSbGO9qqn1g</td>\n",
       "    </tr>\n",
       "    <tr>\n",
       "      <th>1</th>\n",
       "      <td>Entertainment</td>\n",
       "      <td>2011-12-13</td>\n",
       "      <td>http://www.youtube.com/channel/UCkNW9Q1VR_aeZ6...</td>\n",
       "      <td>Mago Dario Animazion...</td>\n",
       "      <td>60200</td>\n",
       "      <td>48</td>\n",
       "      <td>UCkNW9Q1VR_aeZ6uht83jJVQ</td>\n",
       "    </tr>\n",
       "    <tr>\n",
       "      <th>2</th>\n",
       "      <td>Music</td>\n",
       "      <td>2013-09-13</td>\n",
       "      <td>http://www.youtube.com/channel/UC1xcnrpcF59FWW...</td>\n",
       "      <td>Mägo de Oz - Topic</td>\n",
       "      <td>40200</td>\n",
       "      <td>395</td>\n",
       "      <td>UC1xcnrpcF59FWWELtZvJTdg</td>\n",
       "    </tr>\n",
       "    <tr>\n",
       "      <th>3</th>\n",
       "      <td>Music</td>\n",
       "      <td>2008-03-17</td>\n",
       "      <td>http://www.youtube.com/channel/UCXhkGgooXHDNwg...</td>\n",
       "      <td>Mago Merlino</td>\n",
       "      <td>14800</td>\n",
       "      <td>838</td>\n",
       "      <td>UCXhkGgooXHDNwgJXmoTSN7g</td>\n",
       "    </tr>\n",
       "    <tr>\n",
       "      <th>4</th>\n",
       "      <td>Entertainment</td>\n",
       "      <td>2014-10-19</td>\n",
       "      <td>http://www.youtube.com/channel/UCvZGsuvKlYOGiZ...</td>\n",
       "      <td>MAGO TOMÁS</td>\n",
       "      <td>26200</td>\n",
       "      <td>31</td>\n",
       "      <td>UCvZGsuvKlYOGiZTsxwJNS5Q</td>\n",
       "    </tr>\n",
       "  </tbody>\n",
       "</table>\n",
       "</div>"
      ],
      "text/plain": [
       "             category   join_date  \\\n",
       "0  Film and Animation  2017-05-21   \n",
       "1       Entertainment  2011-12-13   \n",
       "2               Music  2013-09-13   \n",
       "3               Music  2008-03-17   \n",
       "4       Entertainment  2014-10-19   \n",
       "\n",
       "                                                link                     name  \\\n",
       "0  http://www.youtube.com/channel/UCBJuEqXfXTdcPS...             MagnusNation   \n",
       "1  http://www.youtube.com/channel/UCkNW9Q1VR_aeZ6...  Mago Dario Animazion...   \n",
       "2  http://www.youtube.com/channel/UC1xcnrpcF59FWW...       Mägo de Oz - Topic   \n",
       "3  http://www.youtube.com/channel/UCXhkGgooXHDNwg...             Mago Merlino   \n",
       "4  http://www.youtube.com/channel/UCvZGsuvKlYOGiZ...               MAGO TOMÁS   \n",
       "\n",
       "   subscribers  videos                channel_id  \n",
       "0        65100      28  UCBJuEqXfXTdcPSbGO9qqn1g  \n",
       "1        60200      48  UCkNW9Q1VR_aeZ6uht83jJVQ  \n",
       "2        40200     395  UC1xcnrpcF59FWWELtZvJTdg  \n",
       "3        14800     838  UCXhkGgooXHDNwgJXmoTSN7g  \n",
       "4        26200      31  UCvZGsuvKlYOGiZTsxwJNS5Q  "
      ]
     },
     "execution_count": 230,
     "metadata": {},
     "output_type": "execute_result"
    }
   ],
   "source": [
    "channelcrawler.head()"
   ]
  },
  {
   "cell_type": "code",
   "execution_count": 231,
   "metadata": {},
   "outputs": [
    {
     "data": {
      "text/html": [
       "<div>\n",
       "<style scoped>\n",
       "    .dataframe tbody tr th:only-of-type {\n",
       "        vertical-align: middle;\n",
       "    }\n",
       "\n",
       "    .dataframe tbody tr th {\n",
       "        vertical-align: top;\n",
       "    }\n",
       "\n",
       "    .dataframe thead th {\n",
       "        text-align: right;\n",
       "    }\n",
       "</style>\n",
       "<table border=\"1\" class=\"dataframe\">\n",
       "  <thead>\n",
       "    <tr style=\"text-align: right;\">\n",
       "      <th></th>\n",
       "      <th>category</th>\n",
       "      <th>join_date</th>\n",
       "      <th>link</th>\n",
       "      <th>name</th>\n",
       "      <th>subscribers</th>\n",
       "      <th>videos</th>\n",
       "      <th>channel_id</th>\n",
       "    </tr>\n",
       "  </thead>\n",
       "  <tbody>\n",
       "    <tr>\n",
       "      <th>94338</th>\n",
       "      <td>Gaming</td>\n",
       "      <td>2018-04-22</td>\n",
       "      <td>http://www.youtube.com/channel/UCzzzrOhp92PkGr...</td>\n",
       "      <td>Holdik Stream</td>\n",
       "      <td>142000</td>\n",
       "      <td>35</td>\n",
       "      <td>UCzzzrOhp92PkGrIwGH3_EEg</td>\n",
       "    </tr>\n",
       "  </tbody>\n",
       "</table>\n",
       "</div>"
      ],
      "text/plain": [
       "      category   join_date                                               link  \\\n",
       "94338   Gaming  2018-04-22  http://www.youtube.com/channel/UCzzzrOhp92PkGr...   \n",
       "\n",
       "                name  subscribers  videos                channel_id  \n",
       "94338  Holdik Stream       142000      35  UCzzzrOhp92PkGrIwGH3_EEg  "
      ]
     },
     "execution_count": 231,
     "metadata": {},
     "output_type": "execute_result"
    }
   ],
   "source": [
    "channelcrawler[channelcrawler['channel_id'] == 'UCzzzrOhp92PkGrIwGH3_EEg']"
   ]
  },
  {
   "cell_type": "code",
   "execution_count": null,
   "metadata": {},
   "outputs": [],
   "source": []
  },
  {
   "cell_type": "code",
   "execution_count": 233,
   "metadata": {},
   "outputs": [],
   "source": [
    "# The set of channels\n",
    "set_channelcrawler = channelcrawler['channel_id'].unique()"
   ]
  },
  {
   "cell_type": "code",
   "execution_count": 234,
   "metadata": {},
   "outputs": [],
   "source": [
    "# Dictionnary mapping the video_id to the channel_id\n",
    "vid_to_channels = pd.read_pickle(\"/dlabdata1/youtube_large/id_to_channel_mapping.pickle\")"
   ]
  },
  {
   "cell_type": "code",
   "execution_count": null,
   "metadata": {},
   "outputs": [],
   "source": []
  },
  {
   "cell_type": "markdown",
   "metadata": {},
   "source": [
    "### Reading at the comments file"
   ]
  },
  {
   "cell_type": "code",
   "execution_count": 183,
   "metadata": {
    "scrolled": true
   },
   "outputs": [],
   "source": [
    "class Zreader:\n",
    "\n",
    "    def __init__(self, file, chunk_size=16384):\n",
    "        '''Init method'''\n",
    "        self.fh = open(file,'rb')\n",
    "        self.chunk_size = chunk_size\n",
    "        self.dctx = zstd.ZstdDecompressor()\n",
    "        self.reader = self.dctx.stream_reader(self.fh)\n",
    "        self.buffer = ''\n",
    "\n",
    "    def readlines(self):\n",
    "        '''Generator method that creates an iterator for each line of JSON'''\n",
    "        while True:\n",
    "            chunk = self.reader.read(self.chunk_size).decode(\"utf-8\", errors=\"ignore\")\n",
    "            if not chunk:\n",
    "                break\n",
    "            lines = (self.buffer + chunk).split(\"\\n\")\n",
    "\n",
    "            for line in lines[:-1]:\n",
    "                yield line\n",
    "\n",
    "            self.buffer = lines[-1]\n"
   ]
  },
  {
   "cell_type": "markdown",
   "metadata": {},
   "source": [
    "Initialise a graph with one edge per channel (for example using networkx), then read each individual user trajectory out of the large file as a sequence of channels (for example, a user that visited channel A, then channel B, then channel C can be summarized as a trajectory A->B->C). For the simple approach, we simply consider each sequential pair of channels that each user visited here: (A,B) and (B,C) and add a a directed edge with weight 1 between them: A->B, B->C (or add 1 to the weight of already existing edges)."
   ]
  },
  {
   "cell_type": "code",
   "execution_count": 261,
   "metadata": {},
   "outputs": [],
   "source": [
    "'''\n",
    "Initialize the graph\n",
    "'''\n",
    "def initialize_graph():\n",
    "    graph = nx.DiGraph()\n",
    "    graph.add_nodes_from(set_channelcrawler)\n",
    "    return graph\n",
    "graph = initialize_graph()"
   ]
  },
  {
   "cell_type": "code",
   "execution_count": 262,
   "metadata": {},
   "outputs": [],
   "source": [
    "def add_edge(graph, user_edge):\n",
    "    source = user_edge[0]\n",
    "    dest = user_edge[1]\n",
    "    if graph.has_edge(*user_edge):\n",
    "        graph[source][dest]['weight'] += 1\n",
    "    else:\n",
    "        graph.add_edge(source, dest, weight=1)"
   ]
  },
  {
   "cell_type": "code",
   "execution_count": 263,
   "metadata": {
    "scrolled": false
   },
   "outputs": [
    {
     "name": "stdout",
     "output_type": "stream",
     "text": [
      "['author_id', 'id', 'video_id', 'parent_id', 'crawled_at', 'likes', 'replies', 'author', 'content']\n"
     ]
    }
   ],
   "source": [
    "# Adjust chunk_size as necessary -- defaults to 16,384 if not specific\n",
    "reader = Zreader(\"/dlabdata1/youtube_large/youtube_comments.ndjson.zst\", chunk_size=16384)\n",
    "\n",
    "idx = 1\n",
    "first_user = True\n",
    "user_edge = queue.Queue(maxsize=0) # queue corresponding to the an edge\n",
    "\n",
    "user = 'author_id'\n",
    "\n",
    "# Read each line from the reader\n",
    "for line in reader.readlines():\n",
    "    line_split = line.replace('\"', '').split(',')\n",
    "    if idx == 1:\n",
    "        print(line_split)\n",
    "        idx += 1\n",
    "        \n",
    "    else:\n",
    "        if vid_to_channels.get(line_split[2]) is not None:\n",
    "            if first_user:\n",
    "                user = line_split[0]\n",
    "                first_user = False\n",
    "            if line_split[0] == user:\n",
    "                user_edge.put(vid_to_channels[line_split[2]])\n",
    "                \n",
    "                if len(user_edge.queue) == 2:\n",
    "                    add_edge(graph, tuple(user_edge.queue))\n",
    "                elif len(user_edge.queue) == 3:\n",
    "                    user_edge.get()\n",
    "                    add_edge(graph, tuple(user_edge.queue))\n",
    "            else:\n",
    "                user_edge = queue.Queue(maxsize=0)\n",
    "                user_edge.put(vid_to_channels[line_split[2]])\n",
    "                user = line_split[0]\n",
    "                idx += 1\n",
    "\n",
    "            if idx % 4 == 0:\n",
    "                break"
   ]
  },
  {
   "cell_type": "code",
   "execution_count": 260,
   "metadata": {},
   "outputs": [
    {
     "data": {
      "text/plain": [
       "[('UCBXNpF6k2n8dsI6nBH8q4sQ', 'UCpB959t8iPrxQWj7G6n0ctQ'),\n",
       " ('UCM2ERkgV3P1_6MAyxa51rxA', 'UCtwD0AlYSlAYv7eXu8UxtEg'),\n",
       " ('UCpB959t8iPrxQWj7G6n0ctQ', 'UCpB959t8iPrxQWj7G6n0ctQ'),\n",
       " ('UCpB959t8iPrxQWj7G6n0ctQ', 'UCM2ERkgV3P1_6MAyxa51rxA')]"
      ]
     },
     "execution_count": 260,
     "metadata": {},
     "output_type": "execute_result"
    }
   ],
   "source": [
    "list(graph.edges())"
   ]
  },
  {
   "cell_type": "code",
   "execution_count": null,
   "metadata": {},
   "outputs": [],
   "source": []
  },
  {
   "cell_type": "code",
   "execution_count": null,
   "metadata": {},
   "outputs": [],
   "source": []
  },
  {
   "cell_type": "markdown",
   "metadata": {},
   "source": [
    "### Second version"
   ]
  },
  {
   "cell_type": "code",
   "execution_count": null,
   "metadata": {},
   "outputs": [],
   "source": [
    "set_videos = set()\n",
    "# Adjust chunk_size as necessary -- defaults to 16,384 if not specific\n",
    "reader = Zreader(\"/dlabdata1/youtube_large/youtube_comments.ndjson.zst\", chunk_size=16384)\n",
    "\n",
    "video_ids = set()\n",
    "\n",
    "idx = 1\n",
    "first_user = True\n",
    "user_edge = queue.Queue(maxsize=0) # queue corresponding to the an edge\n",
    "\n",
    "user_data = []\n",
    "user = 'author_id'\n",
    "\n",
    "# Read each line from the reader\n",
    "for line in reader.readlines():\n",
    "    line_split = line.replace('\"', '').split(',')\n",
    "    if idx == 1:\n",
    "        print(line_split)\n",
    "        idx += 1\n",
    "        \n",
    "    else:\n",
    "        if vid_to_channels.get(line_split[2]) is not None:\n",
    "            if first_user:\n",
    "                user = line_split[0]\n",
    "                first_user = False\n",
    "            if line_split[0] == user:\n",
    "                user_data.append(vid_to_channels[line_split[2]])\n",
    "            else:\n",
    "                user_edge = queue.Queue(maxsize=0)\n",
    "                user = line_split[0]\n",
    "                print(user_data)\n",
    "                user_data = []\n",
    "                idx += 1\n",
    "\n",
    "            if idx % 4 == 0:\n",
    "                break"
   ]
  }
 ],
 "metadata": {
  "kernelspec": {
   "display_name": "Python 3",
   "language": "python",
   "name": "python3"
  },
  "language_info": {
   "codemirror_mode": {
    "name": "ipython",
    "version": 3
   },
   "file_extension": ".py",
   "mimetype": "text/x-python",
   "name": "python",
   "nbconvert_exporter": "python",
   "pygments_lexer": "ipython3",
   "version": "3.7.7"
  }
 },
 "nbformat": 4,
 "nbformat_minor": 4
}
