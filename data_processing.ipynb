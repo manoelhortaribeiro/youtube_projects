{
 "cells": [
  {
   "cell_type": "code",
   "execution_count": 20,
   "metadata": {},
   "outputs": [],
   "source": [
    "import zstandard as zstd\n",
    "import pandas as pd\n",
    "import networkx as nx\n",
    "import json\n",
    "import queue\n",
    "import time\n",
    "import pickle\n",
    "import gzip"
   ]
  },
  {
   "cell_type": "code",
   "execution_count": 2,
   "metadata": {},
   "outputs": [],
   "source": [
    "import pyspark.sql\n",
    "from pyspark.sql import *\n",
    "from pyspark.sql.functions import *\n",
    "\n",
    "conf = pyspark.SparkConf().setMaster(\"local[*]\").setAll([\n",
    "                                   ('spark.executor.memory', '12g'),  # find\n",
    "                                   ('spark.driver.memory','4g'), # your\n",
    "                                   ('spark.driver.maxResultSize', '2G') # setup\n",
    "                                  ])\n",
    "# create the session\n",
    "spark = SparkSession.builder.config(conf=conf).getOrCreate()\n"
   ]
  },
  {
   "cell_type": "code",
   "execution_count": 3,
   "metadata": {},
   "outputs": [],
   "source": [
    "# create the context\n",
    "sc = spark.sparkContext\n",
    "\n",
    "# FIX for Spark 2.x\n",
    "locale = sc._jvm.java.util.Locale\n",
    "locale.setDefault(locale.forLanguageTag(\"en-US\"))"
   ]
  },
  {
   "cell_type": "markdown",
   "metadata": {},
   "source": [
    "### Test"
   ]
  },
  {
   "cell_type": "code",
   "execution_count": 82,
   "metadata": {},
   "outputs": [],
   "source": [
    "haha = {\"edge\": ('1', '2'), \"weight\": 1}\n",
    "haha2 = {\"edge\": ('2', '3'), \"weight\": 1}"
   ]
  },
  {
   "cell_type": "code",
   "execution_count": 100,
   "metadata": {},
   "outputs": [],
   "source": [
    "haha2 = \"[('1', '3'): 2, ('2', '3'): 3, ('1', '4'): 3]\""
   ]
  },
  {
   "cell_type": "code",
   "execution_count": 183,
   "metadata": {},
   "outputs": [],
   "source": [
    "outfilename = 'ex.json.gz'\n",
    "output = gzip.open(outfilename, 'w')\n",
    "\n",
    "output = gzip.open(outfilename, 'a')\n",
    "\n",
    "#output.write(str(haha).encode('utf-8'))\n",
    "#output.write('\\n'.encode('utf-8'))\n",
    "#output.write(str(haha2).encode('utf-8'))\n",
    "output.write(json.dumps(haha).encode('utf-8'))\n",
    "output.write('\\n'.encode('utf-8'))\n",
    "output.write(json.dumps(haha2).encode('utf-8'))\n",
    "output.write('\\n'.encode('utf-8'))\n",
    "output.close()\n",
    "\n",
    "#print(outfilename, 'contains', os.stat(outfilename).st_size, 'bytes of compressed data')\n",
    "#os.system('file -b --mime %s' % outfilename)"
   ]
  },
  {
   "cell_type": "code",
   "execution_count": 173,
   "metadata": {},
   "outputs": [],
   "source": [
    "input_file = gzip.open('ex.json.gz', 'rb')\n",
    "try:\n",
    "    file = input_file.read()\n",
    "finally:\n",
    "    input_file.close()"
   ]
  },
  {
   "cell_type": "code",
   "execution_count": 174,
   "metadata": {},
   "outputs": [
    {
     "data": {
      "text/plain": [
       "b'{\"edge\": [\"1\", \"2\"], \"weight\": 1}\\n{\"edge\": [\"2\", \"3\"], \"weight\": 1}\\n'"
      ]
     },
     "execution_count": 174,
     "metadata": {},
     "output_type": "execute_result"
    }
   ],
   "source": [
    "file"
   ]
  },
  {
   "cell_type": "code",
   "execution_count": 175,
   "metadata": {},
   "outputs": [
    {
     "data": {
      "text/plain": [
       "'{\"edge\": [\"1\", \"2\"], \"weight\": 1}\\n{\"edge\": [\"2\", \"3\"], \"weight\": 1}\\n'"
      ]
     },
     "execution_count": 175,
     "metadata": {},
     "output_type": "execute_result"
    }
   ],
   "source": [
    "file.decode('utf-8')"
   ]
  },
  {
   "cell_type": "code",
   "execution_count": 171,
   "metadata": {},
   "outputs": [],
   "source": [
    "df = spark.read.json(\"ex.json.gz\")"
   ]
  },
  {
   "cell_type": "code",
   "execution_count": 172,
   "metadata": {},
   "outputs": [
    {
     "name": "stdout",
     "output_type": "stream",
     "text": [
      "+------+------+\n",
      "|  edge|weight|\n",
      "+------+------+\n",
      "|[1, 2]|     1|\n",
      "|[2, 3]|     1|\n",
      "+------+------+\n",
      "\n"
     ]
    }
   ],
   "source": [
    "df.show()"
   ]
  },
  {
   "cell_type": "code",
   "execution_count": null,
   "metadata": {},
   "outputs": [],
   "source": [
    "with open(\"test.txt\", \"rb\") as fin, gzip.GzipFile(\"modified.txt.gz\", \"w\") as fout:\n",
    "    while True:\n",
    "        block = fin.read(65536) # read in 64k blocks\n",
    "        if not block:\n",
    "            break\n",
    "        # comment next line to just write through\n",
    "        block = block.replace(b\"a\", b\"A\")\n",
    "        fout.write(block)"
   ]
  },
  {
   "cell_type": "code",
   "execution_count": 18,
   "metadata": {},
   "outputs": [
    {
     "ename": "ZstdError",
     "evalue": "zstd decompress error: Unknown frame descriptor",
     "output_type": "error",
     "traceback": [
      "\u001b[0;31m---------------------------------------------------------------------------\u001b[0m",
      "\u001b[0;31mZstdError\u001b[0m                                 Traceback (most recent call last)",
      "\u001b[0;32m<ipython-input-18-be4ae075969a>\u001b[0m in \u001b[0;36m<module>\u001b[0;34m\u001b[0m\n\u001b[1;32m      3\u001b[0m \u001b[0midx\u001b[0m \u001b[0;34m=\u001b[0m \u001b[0;36m0\u001b[0m\u001b[0;34m\u001b[0m\u001b[0;34m\u001b[0m\u001b[0m\n\u001b[1;32m      4\u001b[0m \u001b[0;31m# Read each line from the reader\u001b[0m\u001b[0;34m\u001b[0m\u001b[0;34m\u001b[0m\u001b[0;34m\u001b[0m\u001b[0m\n\u001b[0;32m----> 5\u001b[0;31m \u001b[0;32mfor\u001b[0m \u001b[0mline\u001b[0m \u001b[0;32min\u001b[0m \u001b[0mreader\u001b[0m\u001b[0;34m.\u001b[0m\u001b[0mreadlines\u001b[0m\u001b[0;34m(\u001b[0m\u001b[0;34m)\u001b[0m\u001b[0;34m:\u001b[0m\u001b[0;34m\u001b[0m\u001b[0;34m\u001b[0m\u001b[0m\n\u001b[0m\u001b[1;32m      6\u001b[0m     \u001b[0midx\u001b[0m \u001b[0;34m+=\u001b[0m \u001b[0;36m1\u001b[0m\u001b[0;34m\u001b[0m\u001b[0;34m\u001b[0m\u001b[0m\n\u001b[1;32m      7\u001b[0m     \u001b[0;32mif\u001b[0m \u001b[0midx\u001b[0m \u001b[0;34m%\u001b[0m \u001b[0;36m5\u001b[0m \u001b[0;34m==\u001b[0m \u001b[0;36m0\u001b[0m\u001b[0;34m:\u001b[0m\u001b[0;34m\u001b[0m\u001b[0;34m\u001b[0m\u001b[0m\n",
      "\u001b[0;32m<ipython-input-2-9b9bcc613969>\u001b[0m in \u001b[0;36mreadlines\u001b[0;34m(self)\u001b[0m\n\u001b[1;32m     12\u001b[0m         \u001b[0;34m'''Generator method that creates an iterator for each line of JSON'''\u001b[0m\u001b[0;34m\u001b[0m\u001b[0;34m\u001b[0m\u001b[0m\n\u001b[1;32m     13\u001b[0m         \u001b[0;32mwhile\u001b[0m \u001b[0;32mTrue\u001b[0m\u001b[0;34m:\u001b[0m\u001b[0;34m\u001b[0m\u001b[0;34m\u001b[0m\u001b[0m\n\u001b[0;32m---> 14\u001b[0;31m             \u001b[0mchunk\u001b[0m \u001b[0;34m=\u001b[0m \u001b[0mself\u001b[0m\u001b[0;34m.\u001b[0m\u001b[0mreader\u001b[0m\u001b[0;34m.\u001b[0m\u001b[0mread\u001b[0m\u001b[0;34m(\u001b[0m\u001b[0mself\u001b[0m\u001b[0;34m.\u001b[0m\u001b[0mchunk_size\u001b[0m\u001b[0;34m)\u001b[0m\u001b[0;34m.\u001b[0m\u001b[0mdecode\u001b[0m\u001b[0;34m(\u001b[0m\u001b[0;34m\"utf-8\"\u001b[0m\u001b[0;34m,\u001b[0m \u001b[0merrors\u001b[0m\u001b[0;34m=\u001b[0m\u001b[0;34m\"ignore\"\u001b[0m\u001b[0;34m)\u001b[0m\u001b[0;34m\u001b[0m\u001b[0;34m\u001b[0m\u001b[0m\n\u001b[0m\u001b[1;32m     15\u001b[0m             \u001b[0;32mif\u001b[0m \u001b[0;32mnot\u001b[0m \u001b[0mchunk\u001b[0m\u001b[0;34m:\u001b[0m\u001b[0;34m\u001b[0m\u001b[0;34m\u001b[0m\u001b[0m\n\u001b[1;32m     16\u001b[0m                 \u001b[0;32mbreak\u001b[0m\u001b[0;34m\u001b[0m\u001b[0;34m\u001b[0m\u001b[0m\n",
      "\u001b[0;31mZstdError\u001b[0m: zstd decompress error: Unknown frame descriptor"
     ]
    }
   ],
   "source": [
    "#input_file = gzip.open('../../../dlabdata1/youtube_large/jouven/simple_graph.txt.zst', 'rb')\n",
    "reader = Zreader('ex.json.gz')\n",
    "idx = 0\n",
    "# Read each line from the reader\n",
    "for line in reader.readlines():\n",
    "    idx += 1\n",
    "    if idx % 5 == 0:\n",
    "        break\n",
    "    print(line)"
   ]
  },
  {
   "cell_type": "code",
   "execution_count": 144,
   "metadata": {},
   "outputs": [
    {
     "data": {
      "text/plain": [
       "{\"('1', '2')\": 1, \"('2', '3')\": 2}"
      ]
     },
     "execution_count": 144,
     "metadata": {},
     "output_type": "execute_result"
    }
   ],
   "source": [
    "json.loads(file.decode(\"utf-8\", \"strict\"))"
   ]
  },
  {
   "cell_type": "code",
   "execution_count": null,
   "metadata": {},
   "outputs": [],
   "source": [
    "dctx.stream_reader(open(file,'rb'))\n",
    "self.reader = self.dctx.stream_reader(self.fh)\n",
    "chunk = self.reader.read(self.chunk_size).decode(\"utf-8\", errors=\"ignore\")"
   ]
  },
  {
   "cell_type": "code",
   "execution_count": 35,
   "metadata": {},
   "outputs": [
    {
     "data": {
      "text/plain": [
       "0"
      ]
     },
     "execution_count": 35,
     "metadata": {},
     "output_type": "execute_result"
    }
   ],
   "source": [
    "cctx = zstd.ZstdCompressor()\n",
    "compressor = cctx.stream_writer(open('test3.jsonl.zst', 'w'))\n",
    "compressor.write(b'chunk 0\\n')\n",
    "compressor.write(b'chunk 1\\n')"
   ]
  },
  {
   "cell_type": "code",
   "execution_count": 36,
   "metadata": {},
   "outputs": [],
   "source": [
    "reader = Zreader(\"test3.jsonl.zst\")\n",
    "\n",
    "# Read each line from the reader\n",
    "for line in reader.readlines():\n",
    "    print(line)"
   ]
  },
  {
   "cell_type": "markdown",
   "metadata": {},
   "source": [
    "### Channels that we consider"
   ]
  },
  {
   "cell_type": "code",
   "execution_count": 4,
   "metadata": {},
   "outputs": [],
   "source": [
    "channelcrawler = pd.read_csv(\"/dlabdata1/youtube_large/channelcrawler.csv\")"
   ]
  },
  {
   "cell_type": "code",
   "execution_count": 5,
   "metadata": {},
   "outputs": [
    {
     "data": {
      "text/html": [
       "<div>\n",
       "<style scoped>\n",
       "    .dataframe tbody tr th:only-of-type {\n",
       "        vertical-align: middle;\n",
       "    }\n",
       "\n",
       "    .dataframe tbody tr th {\n",
       "        vertical-align: top;\n",
       "    }\n",
       "\n",
       "    .dataframe thead th {\n",
       "        text-align: right;\n",
       "    }\n",
       "</style>\n",
       "<table border=\"1\" class=\"dataframe\">\n",
       "  <thead>\n",
       "    <tr style=\"text-align: right;\">\n",
       "      <th></th>\n",
       "      <th>category</th>\n",
       "      <th>join_date</th>\n",
       "      <th>link</th>\n",
       "      <th>name</th>\n",
       "      <th>subscribers</th>\n",
       "      <th>videos</th>\n",
       "    </tr>\n",
       "  </thead>\n",
       "  <tbody>\n",
       "    <tr>\n",
       "      <th>0</th>\n",
       "      <td>Film and Animation</td>\n",
       "      <td>2017-05-21</td>\n",
       "      <td>http://www.youtube.com/channel/UCBJuEqXfXTdcPS...</td>\n",
       "      <td>MagnusNation</td>\n",
       "      <td>65100</td>\n",
       "      <td>28</td>\n",
       "    </tr>\n",
       "    <tr>\n",
       "      <th>1</th>\n",
       "      <td>Entertainment</td>\n",
       "      <td>2011-12-13</td>\n",
       "      <td>http://www.youtube.com/channel/UCkNW9Q1VR_aeZ6...</td>\n",
       "      <td>Mago Dario Animazion...</td>\n",
       "      <td>60200</td>\n",
       "      <td>48</td>\n",
       "    </tr>\n",
       "    <tr>\n",
       "      <th>2</th>\n",
       "      <td>Music</td>\n",
       "      <td>2013-09-13</td>\n",
       "      <td>http://www.youtube.com/channel/UC1xcnrpcF59FWW...</td>\n",
       "      <td>Mägo de Oz - Topic</td>\n",
       "      <td>40200</td>\n",
       "      <td>395</td>\n",
       "    </tr>\n",
       "    <tr>\n",
       "      <th>3</th>\n",
       "      <td>Music</td>\n",
       "      <td>2008-03-17</td>\n",
       "      <td>http://www.youtube.com/channel/UCXhkGgooXHDNwg...</td>\n",
       "      <td>Mago Merlino</td>\n",
       "      <td>14800</td>\n",
       "      <td>838</td>\n",
       "    </tr>\n",
       "    <tr>\n",
       "      <th>4</th>\n",
       "      <td>Entertainment</td>\n",
       "      <td>2014-10-19</td>\n",
       "      <td>http://www.youtube.com/channel/UCvZGsuvKlYOGiZ...</td>\n",
       "      <td>MAGO TOMÁS</td>\n",
       "      <td>26200</td>\n",
       "      <td>31</td>\n",
       "    </tr>\n",
       "  </tbody>\n",
       "</table>\n",
       "</div>"
      ],
      "text/plain": [
       "             category   join_date  \\\n",
       "0  Film and Animation  2017-05-21   \n",
       "1       Entertainment  2011-12-13   \n",
       "2               Music  2013-09-13   \n",
       "3               Music  2008-03-17   \n",
       "4       Entertainment  2014-10-19   \n",
       "\n",
       "                                                link                     name  \\\n",
       "0  http://www.youtube.com/channel/UCBJuEqXfXTdcPS...             MagnusNation   \n",
       "1  http://www.youtube.com/channel/UCkNW9Q1VR_aeZ6...  Mago Dario Animazion...   \n",
       "2  http://www.youtube.com/channel/UC1xcnrpcF59FWW...       Mägo de Oz - Topic   \n",
       "3  http://www.youtube.com/channel/UCXhkGgooXHDNwg...             Mago Merlino   \n",
       "4  http://www.youtube.com/channel/UCvZGsuvKlYOGiZ...               MAGO TOMÁS   \n",
       "\n",
       "   subscribers  videos  \n",
       "0        65100      28  \n",
       "1        60200      48  \n",
       "2        40200     395  \n",
       "3        14800     838  \n",
       "4        26200      31  "
      ]
     },
     "execution_count": 5,
     "metadata": {},
     "output_type": "execute_result"
    }
   ],
   "source": [
    "channelcrawler.head()"
   ]
  },
  {
   "cell_type": "code",
   "execution_count": 6,
   "metadata": {},
   "outputs": [],
   "source": [
    "channelcrawler['channel_id'] = channelcrawler['link'].str.split('/').str[-1]"
   ]
  },
  {
   "cell_type": "code",
   "execution_count": 7,
   "metadata": {},
   "outputs": [
    {
     "data": {
      "text/html": [
       "<div>\n",
       "<style scoped>\n",
       "    .dataframe tbody tr th:only-of-type {\n",
       "        vertical-align: middle;\n",
       "    }\n",
       "\n",
       "    .dataframe tbody tr th {\n",
       "        vertical-align: top;\n",
       "    }\n",
       "\n",
       "    .dataframe thead th {\n",
       "        text-align: right;\n",
       "    }\n",
       "</style>\n",
       "<table border=\"1\" class=\"dataframe\">\n",
       "  <thead>\n",
       "    <tr style=\"text-align: right;\">\n",
       "      <th></th>\n",
       "      <th>category</th>\n",
       "      <th>join_date</th>\n",
       "      <th>link</th>\n",
       "      <th>name</th>\n",
       "      <th>subscribers</th>\n",
       "      <th>videos</th>\n",
       "      <th>channel_id</th>\n",
       "    </tr>\n",
       "  </thead>\n",
       "  <tbody>\n",
       "    <tr>\n",
       "      <th>0</th>\n",
       "      <td>Film and Animation</td>\n",
       "      <td>2017-05-21</td>\n",
       "      <td>http://www.youtube.com/channel/UCBJuEqXfXTdcPS...</td>\n",
       "      <td>MagnusNation</td>\n",
       "      <td>65100</td>\n",
       "      <td>28</td>\n",
       "      <td>UCBJuEqXfXTdcPSbGO9qqn1g</td>\n",
       "    </tr>\n",
       "    <tr>\n",
       "      <th>1</th>\n",
       "      <td>Entertainment</td>\n",
       "      <td>2011-12-13</td>\n",
       "      <td>http://www.youtube.com/channel/UCkNW9Q1VR_aeZ6...</td>\n",
       "      <td>Mago Dario Animazion...</td>\n",
       "      <td>60200</td>\n",
       "      <td>48</td>\n",
       "      <td>UCkNW9Q1VR_aeZ6uht83jJVQ</td>\n",
       "    </tr>\n",
       "    <tr>\n",
       "      <th>2</th>\n",
       "      <td>Music</td>\n",
       "      <td>2013-09-13</td>\n",
       "      <td>http://www.youtube.com/channel/UC1xcnrpcF59FWW...</td>\n",
       "      <td>Mägo de Oz - Topic</td>\n",
       "      <td>40200</td>\n",
       "      <td>395</td>\n",
       "      <td>UC1xcnrpcF59FWWELtZvJTdg</td>\n",
       "    </tr>\n",
       "    <tr>\n",
       "      <th>3</th>\n",
       "      <td>Music</td>\n",
       "      <td>2008-03-17</td>\n",
       "      <td>http://www.youtube.com/channel/UCXhkGgooXHDNwg...</td>\n",
       "      <td>Mago Merlino</td>\n",
       "      <td>14800</td>\n",
       "      <td>838</td>\n",
       "      <td>UCXhkGgooXHDNwgJXmoTSN7g</td>\n",
       "    </tr>\n",
       "    <tr>\n",
       "      <th>4</th>\n",
       "      <td>Entertainment</td>\n",
       "      <td>2014-10-19</td>\n",
       "      <td>http://www.youtube.com/channel/UCvZGsuvKlYOGiZ...</td>\n",
       "      <td>MAGO TOMÁS</td>\n",
       "      <td>26200</td>\n",
       "      <td>31</td>\n",
       "      <td>UCvZGsuvKlYOGiZTsxwJNS5Q</td>\n",
       "    </tr>\n",
       "  </tbody>\n",
       "</table>\n",
       "</div>"
      ],
      "text/plain": [
       "             category   join_date  \\\n",
       "0  Film and Animation  2017-05-21   \n",
       "1       Entertainment  2011-12-13   \n",
       "2               Music  2013-09-13   \n",
       "3               Music  2008-03-17   \n",
       "4       Entertainment  2014-10-19   \n",
       "\n",
       "                                                link                     name  \\\n",
       "0  http://www.youtube.com/channel/UCBJuEqXfXTdcPS...             MagnusNation   \n",
       "1  http://www.youtube.com/channel/UCkNW9Q1VR_aeZ6...  Mago Dario Animazion...   \n",
       "2  http://www.youtube.com/channel/UC1xcnrpcF59FWW...       Mägo de Oz - Topic   \n",
       "3  http://www.youtube.com/channel/UCXhkGgooXHDNwg...             Mago Merlino   \n",
       "4  http://www.youtube.com/channel/UCvZGsuvKlYOGiZ...               MAGO TOMÁS   \n",
       "\n",
       "   subscribers  videos                channel_id  \n",
       "0        65100      28  UCBJuEqXfXTdcPSbGO9qqn1g  \n",
       "1        60200      48  UCkNW9Q1VR_aeZ6uht83jJVQ  \n",
       "2        40200     395  UC1xcnrpcF59FWWELtZvJTdg  \n",
       "3        14800     838  UCXhkGgooXHDNwgJXmoTSN7g  \n",
       "4        26200      31  UCvZGsuvKlYOGiZTsxwJNS5Q  "
      ]
     },
     "execution_count": 7,
     "metadata": {},
     "output_type": "execute_result"
    }
   ],
   "source": [
    "channelcrawler.head()"
   ]
  },
  {
   "cell_type": "code",
   "execution_count": 8,
   "metadata": {},
   "outputs": [
    {
     "data": {
      "text/html": [
       "<div>\n",
       "<style scoped>\n",
       "    .dataframe tbody tr th:only-of-type {\n",
       "        vertical-align: middle;\n",
       "    }\n",
       "\n",
       "    .dataframe tbody tr th {\n",
       "        vertical-align: top;\n",
       "    }\n",
       "\n",
       "    .dataframe thead th {\n",
       "        text-align: right;\n",
       "    }\n",
       "</style>\n",
       "<table border=\"1\" class=\"dataframe\">\n",
       "  <thead>\n",
       "    <tr style=\"text-align: right;\">\n",
       "      <th></th>\n",
       "      <th>category</th>\n",
       "      <th>join_date</th>\n",
       "      <th>link</th>\n",
       "      <th>name</th>\n",
       "      <th>subscribers</th>\n",
       "      <th>videos</th>\n",
       "      <th>channel_id</th>\n",
       "    </tr>\n",
       "  </thead>\n",
       "  <tbody>\n",
       "    <tr>\n",
       "      <th>94338</th>\n",
       "      <td>Gaming</td>\n",
       "      <td>2018-04-22</td>\n",
       "      <td>http://www.youtube.com/channel/UCzzzrOhp92PkGr...</td>\n",
       "      <td>Holdik Stream</td>\n",
       "      <td>142000</td>\n",
       "      <td>35</td>\n",
       "      <td>UCzzzrOhp92PkGrIwGH3_EEg</td>\n",
       "    </tr>\n",
       "  </tbody>\n",
       "</table>\n",
       "</div>"
      ],
      "text/plain": [
       "      category   join_date                                               link  \\\n",
       "94338   Gaming  2018-04-22  http://www.youtube.com/channel/UCzzzrOhp92PkGr...   \n",
       "\n",
       "                name  subscribers  videos                channel_id  \n",
       "94338  Holdik Stream       142000      35  UCzzzrOhp92PkGrIwGH3_EEg  "
      ]
     },
     "execution_count": 8,
     "metadata": {},
     "output_type": "execute_result"
    }
   ],
   "source": [
    "channelcrawler[channelcrawler['channel_id'] == 'UCzzzrOhp92PkGrIwGH3_EEg']"
   ]
  },
  {
   "cell_type": "code",
   "execution_count": 9,
   "metadata": {},
   "outputs": [
    {
     "data": {
      "text/plain": [
       "1"
      ]
     },
     "execution_count": 9,
     "metadata": {},
     "output_type": "execute_result"
    }
   ],
   "source": [
    "len(channelcrawler[channelcrawler['channel_id'] == 'UCzzzrOhp92PkGrIwGH3_EEg'])"
   ]
  },
  {
   "cell_type": "code",
   "execution_count": 10,
   "metadata": {},
   "outputs": [],
   "source": [
    "# The set of channels contained in channelcrawler\n",
    "set_channelcrawler = set(channelcrawler['channel_id'])"
   ]
  },
  {
   "cell_type": "code",
   "execution_count": null,
   "metadata": {},
   "outputs": [],
   "source": []
  },
  {
   "cell_type": "code",
   "execution_count": 11,
   "metadata": {},
   "outputs": [],
   "source": [
    "# Dictionnary mapping the video_id to the channel_id\n",
    "vid_to_channels = pd.read_pickle(\"/dlabdata1/youtube_large/id_to_channel_mapping.pickle\")"
   ]
  },
  {
   "cell_type": "code",
   "execution_count": 12,
   "metadata": {},
   "outputs": [],
   "source": [
    "# The set of channels contained in the comments dataset\n",
    "set_channels = set(vid_to_channels.values())"
   ]
  },
  {
   "cell_type": "code",
   "execution_count": 13,
   "metadata": {},
   "outputs": [],
   "source": [
    "set_videos = set(vid_to_channels.keys())"
   ]
  },
  {
   "cell_type": "code",
   "execution_count": 14,
   "metadata": {},
   "outputs": [
    {
     "data": {
      "text/plain": [
       "False"
      ]
     },
     "execution_count": 14,
     "metadata": {},
     "output_type": "execute_result"
    }
   ],
   "source": [
    "set(set_channelcrawler).issubset(set_channels)"
   ]
  },
  {
   "cell_type": "code",
   "execution_count": 15,
   "metadata": {},
   "outputs": [
    {
     "data": {
      "text/plain": [
       "173574"
      ]
     },
     "execution_count": 15,
     "metadata": {},
     "output_type": "execute_result"
    }
   ],
   "source": [
    "len(set_channels)"
   ]
  },
  {
   "cell_type": "code",
   "execution_count": 16,
   "metadata": {},
   "outputs": [
    {
     "data": {
      "text/plain": [
       "164648"
      ]
     },
     "execution_count": 16,
     "metadata": {},
     "output_type": "execute_result"
    }
   ],
   "source": [
    "len(set_channelcrawler)"
   ]
  },
  {
   "cell_type": "markdown",
   "metadata": {},
   "source": [
    "### Reading at the comments file"
   ]
  },
  {
   "cell_type": "markdown",
   "metadata": {},
   "source": [
    "Initialise a graph with one edge per channel (for example using networkx), then read each individual user trajectory out of the large file as a sequence of channels (for example, a user that visited channel A, then channel B, then channel C can be summarized as a trajectory A->B->C). For the simple approach, we simply consider each sequential pair of channels that each user visited here: (A,B) and (B,C) and add a a directed edge with weight 1 between them: A->B, B->C (or add 1 to the weight of already existing edges)."
   ]
  },
  {
   "cell_type": "code",
   "execution_count": 17,
   "metadata": {
    "scrolled": true
   },
   "outputs": [],
   "source": [
    "class Zreader:\n",
    "\n",
    "    def __init__(self, file, chunk_size=16384):\n",
    "        '''Init method'''\n",
    "        self.fh = open(file,'rb')\n",
    "        self.chunk_size = chunk_size\n",
    "        self.dctx = zstd.ZstdDecompressor()\n",
    "        self.reader = self.dctx.stream_reader(self.fh)\n",
    "        self.buffer = ''\n",
    "\n",
    "    def readlines(self):\n",
    "        '''Generator method that creates an iterator for each line of JSON'''\n",
    "        while True:\n",
    "            chunk = self.reader.read(self.chunk_size).decode(\"utf-8\", errors=\"ignore\")\n",
    "            if not chunk:\n",
    "                break\n",
    "            lines = (self.buffer + chunk).split(\"\\n\")\n",
    "\n",
    "            for line in lines[:-1]:\n",
    "                yield line\n",
    "\n",
    "            self.buffer = lines[-1]\n"
   ]
  },
  {
   "cell_type": "code",
   "execution_count": 18,
   "metadata": {},
   "outputs": [],
   "source": [
    "'''\n",
    "For each user trajectory out of the large comments dataset a dictionary is created.\n",
    "The edge key corresponds to an edge and the weight key corresponds to the weight of that edge\n",
    "'''\n",
    "def add_edge(user_edge):\n",
    "    dict = {}\n",
    "    dict[\"edge\"] = tuple(user_edge)\n",
    "    dict[\"weight\"] = 1\n",
    "    output.write(json.dumps(dict).encode('utf-8'))\n",
    "    output.write('\\n'.encode('utf-8'))"
   ]
  },
  {
   "cell_type": "code",
   "execution_count": null,
   "metadata": {},
   "outputs": [
    {
     "name": "stdout",
     "output_type": "stream",
     "text": [
      "['author_id', 'id', 'video_id', 'parent_id', 'crawled_at', 'likes', 'replies', 'author', 'content']\n",
      "line number: 100000000 time: 2128.161937236786\n",
      "line number: 200000000 time: 2116.3272495269775\n",
      "line number: 300000000 time: 2134.3555064201355\n",
      "line number: 400000000 time: 2142.6129233837128\n",
      "line number: 500000000 time: 2116.1466438770294\n",
      "line number: 600000000 time: 2138.9012880325317\n",
      "line number: 700000000 time: 2133.2673161029816\n",
      "line number: 800000000 time: 2133.7144718170166\n",
      "line number: 900000000 time: 2113.3083457946777\n",
      "line number: 1000000000 time: 2082.0030245780945\n",
      "line number: 1100000000 time: 2112.2432351112366\n",
      "line number: 1200000000 time: 2107.56023979187\n",
      "line number: 1300000000 time: 2162.280918598175\n",
      "line number: 1400000000 time: 2130.879417657852\n",
      "line number: 1500000000 time: 2097.6538367271423\n",
      "line number: 1600000000 time: 2105.0352470874786\n",
      "line number: 1700000000 time: 2126.496780395508\n",
      "line number: 1800000000 time: 2127.483137369156\n",
      "line number: 1900000000 time: 2129.3709383010864\n",
      "line number: 2000000000 time: 2126.7491166591644\n",
      "line number: 2100000000 time: 2183.6821858882904\n",
      "line number: 2200000000 time: 2135.8305747509003\n",
      "line number: 2300000000 time: 2096.2844655513763\n"
     ]
    }
   ],
   "source": [
    "outfilename = 'simple_graph.json.gz'\n",
    "output = gzip.open(outfilename, 'w')\n",
    "output = gzip.open(outfilename, 'a')\n",
    "\n",
    "# Adjust chunk_size as necessary -- defaults to 16,384 if not specific\n",
    "reader = Zreader(\"/dlabdata1/youtube_large/youtube_comments.ndjson.zst\", chunk_size=16384)\n",
    "\n",
    "idx = 1\n",
    "user_edge = queue.Queue(maxsize=0) # queue corresponding to the an edge\n",
    "\n",
    "user = 'author_id'\n",
    "begin_time = time.time()\n",
    "first_user = True\n",
    "\n",
    "# Read each line from the reader\n",
    "for line in reader.readlines():\n",
    "    line_split = line.replace('\"', '').split(',')\n",
    "    if len(line_split) == 9:\n",
    "        if idx == 1:\n",
    "            print(line_split)\n",
    "\n",
    "        else:\n",
    "            if line_split[2] in set_videos:\n",
    "                corr_channel = vid_to_channels[line_split[2]]\n",
    "                if corr_channel in set_channelcrawler:\n",
    "                    if first_user:\n",
    "                        user = line_split[0]\n",
    "                        first_user = False\n",
    "                    if line_split[0] == user:\n",
    "                        user_edge.put(corr_channel)\n",
    "\n",
    "                        if len(user_edge.queue) == 2:\n",
    "                            add_edge(tuple(user_edge.queue))\n",
    "                        elif len(user_edge.queue) == 3:\n",
    "                            user_edge.get()\n",
    "                            add_edge(tuple(user_edge.queue))\n",
    "                    else:\n",
    "                        user_edge = queue.Queue(maxsize=0)\n",
    "                        user_edge.put(corr_channel)\n",
    "                        user = line_split[0]\n",
    "\n",
    "    idx += 1\n",
    "    if idx % 100000000 == 0:\n",
    "        print('line number: ' + str(idx) + ' time: ' + str(time.time() - begin_time))\n",
    "        begin_time = time.time()\n",
    "output.close()"
   ]
  },
  {
   "cell_type": "code",
   "execution_count": 93,
   "metadata": {},
   "outputs": [],
   "source": [
    "input_file = gzip.open('simple_graph_test2.json.gz', 'rb')\n",
    "try:\n",
    "    file = input_file.read()\n",
    "finally:\n",
    "    input_file.close()"
   ]
  },
  {
   "cell_type": "code",
   "execution_count": 95,
   "metadata": {},
   "outputs": [
    {
     "name": "stdout",
     "output_type": "stream",
     "text": [
      "{'edge': ('UCBXNpF6k2n8dsI6nBH8q4sQ', 'UCpB959t8iPrxQWj7G6n0ctQ'), 'weight': 1}{'edge': ('UCpB959t8iPrxQWj7G6n0ctQ', 'UCpB959t8iPrxQWj7G6n0ctQ'), 'weight': 1}{'edge': ('UCpB959t8iPrxQWj7G6n0ctQ', 'UCM2ERkgV3P1_6MAyxa51rxA'), 'weight': 1}{'edge': ('UCM2ERkgV3P1_6MAyxa51rxA', 'UCtwD0AlYSlAYv7eXu8UxtEg'), 'weight': 1}{'edge': ('UC3dEvA1is6-0_yuei9iCdEw', 'UCfhmwml--SRANrIVWxEM-SQ'), 'weight': 1}{'edge': ('UCfhmwml--SRANrIVWxEM-SQ', 'UCYVinkwSX7szARULgYpvhLw'), 'weight': 1}{'edge': ('UCstEtN0pgOmCf02EdXsGChw', 'UCstEtN0pgOmCf02EdXsGChw'), 'weight': 1}{'edge': ('UCjD2KyAEm84yVH8cTilID7Q', 'UCIveFvW-ARp_B_RckhweNJw'), 'weight': 1}{'edge': ('UCIveFvW-ARp_B_RckhweNJw', 'UCIveFvW-ARp_B_RckhweNJw'), 'weight': 1}{'edge': ('UCIveFvW-ARp_B_RckhweNJw', 'UCCn4crfPxpYDzu_sPONugEA'), 'weight': 1}{'edge': ('UCCn4crfPxpYDzu_sPONugEA', 'UCsTcErHg8oDvUnTzoqsYeNw'), 'weight': 1}{'edge': ('UCnsY1lMPN1ryj9lnEUBxJ4w', 'UCYn6CZe5UGIyPe9WJb0pTrg'), 'weight': 1}{'edge': ('UCh_6AWUq1V5yTHos1R7DYkg', 'UCTY6PJNvuO49nIG-aWSVLJQ'), 'weight': 1}{'edge': ('UCTY6PJNvuO49nIG-aWSVLJQ', 'UCKgJEs_v0JB-6jWb8lIy9Xw'), 'weight': 1}{'edge': ('UCKgJEs_v0JB-6jWb8lIy9Xw', 'UCTY6PJNvuO49nIG-aWSVLJQ'), 'weight': 1}{'edge': ('UCTY6PJNvuO49nIG-aWSVLJQ', 'UCK5R1BsMtGd4DtI5uGQRHIg'), 'weight': 1}{'edge': ('UCK5R1BsMtGd4DtI5uGQRHIg', 'UCTY6PJNvuO49nIG-aWSVLJQ'), 'weight': 1}{'edge': ('UCWi_65E_L8tQZ34C6wVAlpQ', 'UCjb5iAXrj1D6NjHJYvDGw7w'), 'weight': 1}{'edge': ('UCjb5iAXrj1D6NjHJYvDGw7w', 'UCaayLD9i5x4MmIoVZxXSv_g'), 'weight': 1}{'edge': ('UCFCFqvFiyWmwOrSc6A4rdcQ', 'UCpGdL9Sn3Q5YWUH2DVUW1Ug'), 'weight': 1}{'edge': ('UCpGdL9Sn3Q5YWUH2DVUW1Ug', 'UCVYe9OwcrGrlRmlX8cSWgvg'), 'weight': 1}{'edge': ('UCVYe9OwcrGrlRmlX8cSWgvg', 'UCjDLIm-vRiuKClRKlPd6JzQ'), 'weight': 1}{'edge': ('UCjDLIm-vRiuKClRKlPd6JzQ', 'UCOaMOXfe8EWH1GJyhqhXrAA'), 'weight': 1}{'edge': ('UCOaMOXfe8EWH1GJyhqhXrAA', 'UCf2eYf81QZ1XX4hohfcwPxQ'), 'weight': 1}{'edge': ('UCf2eYf81QZ1XX4hohfcwPxQ', 'UCWxlUwW9BgGISaakjGM37aw'), 'weight': 1}{'edge': ('UCWxlUwW9BgGISaakjGM37aw', 'UCGbexyIa0tgcHISmGjjPDww'), 'weight': 1}{'edge': ('UCGbexyIa0tgcHISmGjjPDww', 'UCpGdL9Sn3Q5YWUH2DVUW1Ug'), 'weight': 1}{'edge': ('UCpGdL9Sn3Q5YWUH2DVUW1Ug', 'UCcEv1SucrpPg7SC1f6O2n7Q'), 'weight': 1}{'edge': ('UCcEv1SucrpPg7SC1f6O2n7Q', 'UCh7EqOZt7EvO2osuKbIlpGg'), 'weight': 1}{'edge': ('UCh7EqOZt7EvO2osuKbIlpGg', 'UCBw-Dz6wHRkxiXKCLoWqDzA'), 'weight': 1}{'edge': ('UCBw-Dz6wHRkxiXKCLoWqDzA', 'UCpGdL9Sn3Q5YWUH2DVUW1Ug'), 'weight': 1}{'edge': ('UCpGdL9Sn3Q5YWUH2DVUW1Ug', 'UC5jkXpfnBhlDjqh0ir5FsIQ'), 'weight': 1}{'edge': ('UC5jkXpfnBhlDjqh0ir5FsIQ', 'UCBw-Dz6wHRkxiXKCLoWqDzA'), 'weight': 1}{'edge': ('UCBw-Dz6wHRkxiXKCLoWqDzA', 'UCphTF9wHwhCt-BzIq-s4V-g'), 'weight': 1}{'edge': ('UCphTF9wHwhCt-BzIq-s4V-g', 'UCpGdL9Sn3Q5YWUH2DVUW1Ug'), 'weight': 1}{'edge': ('UCpGdL9Sn3Q5YWUH2DVUW1Ug', 'UCVYe9OwcrGrlRmlX8cSWgvg'), 'weight': 1}{'edge': ('UCVYe9OwcrGrlRmlX8cSWgvg', 'UCVYe9OwcrGrlRmlX8cSWgvg'), 'weight': 1}{'edge': ('UCVYe9OwcrGrlRmlX8cSWgvg', 'UCGbexyIa0tgcHISmGjjPDww'), 'weight': 1}{'edge': ('UCGbexyIa0tgcHISmGjjPDww', 'UCpGdL9Sn3Q5YWUH2DVUW1Ug'), 'weight': 1}{'edge': ('UCpGdL9Sn3Q5YWUH2DVUW1Ug', 'UCNAz5Ut1Swwg6h6ysBtWFog'), 'weight': 1}{'edge': ('UCNAz5Ut1Swwg6h6ysBtWFog', 'UCcgVECVN4OKV6DH1jLkqmcA'), 'weight': 1}{'edge': ('UCcgVECVN4OKV6DH1jLkqmcA', 'UCfWhXCFkZ0x18xRfsbYPtog'), 'weight': 1}{'edge': ('UCfWhXCFkZ0x18xRfsbYPtog', 'UC6ktW65B9xSqrGZVLDn2uEA'), 'weight': 1}{'edge': ('UC6ktW65B9xSqrGZVLDn2uEA', 'UCcgVECVN4OKV6DH1jLkqmcA'), 'weight': 1}{'edge': ('UCcgVECVN4OKV6DH1jLkqmcA', 'UCpGdL9Sn3Q5YWUH2DVUW1Ug'), 'weight': 1}{'edge': ('UCpGdL9Sn3Q5YWUH2DVUW1Ug', 'UCf2eYf81QZ1XX4hohfcwPxQ'), 'weight': 1}{'edge': ('UCf2eYf81QZ1XX4hohfcwPxQ', 'UCP8dEm4e63fY8rG-cQXgo7A'), 'weight': 1}{'edge': ('UCP8dEm4e63fY8rG-cQXgo7A', 'UCaLxHBIJ9j9chgU9d1A9-ow'), 'weight': 1}{'edge': ('UCaLxHBIJ9j9chgU9d1A9-ow', 'UCgYfXYRxIPN2TuIyRkbH9fg'), 'weight': 1}{'edge': ('UCgYfXYRxIPN2TuIyRkbH9fg', 'UCDo9msNItILnyF_Y2eHaNQg'), 'weight': 1}{'edge': ('UCDo9msNItILnyF_Y2eHaNQg', 'UCsT-BupEK6M2LpAdBDojJsg'), 'weight': 1}{'edge': ('UCsT-BupEK6M2LpAdBDojJsg', 'UCdNQKLhsRn5mRRx8LqntAFA'), 'weight': 1}{'edge': ('UCdNQKLhsRn5mRRx8LqntAFA', 'UC0VOyT2OCBKdQhF3BAbZ-1g'), 'weight': 1}{'edge': ('UC0VOyT2OCBKdQhF3BAbZ-1g', 'UCw1SQ6QRRtfAhrN_cjkrOgA'), 'weight': 1}{'edge': ('UCw1SQ6QRRtfAhrN_cjkrOgA', 'UCUnYLrpj4VOYeTg3aFaZy4A'), 'weight': 1}{'edge': ('UCUnYLrpj4VOYeTg3aFaZy4A', 'UCAW-NpUFkMyCNrvRSSGIvDQ'), 'weight': 1}{'edge': ('UCAW-NpUFkMyCNrvRSSGIvDQ', 'UCRW7gbgekVjxUOmKHBdz8Og'), 'weight': 1}{'edge': ('UCRW7gbgekVjxUOmKHBdz8Og', 'UCb4_M9EjEHEtvi_zgfcw9FA'), 'weight': 1}{'edge': ('UCb4_M9EjEHEtvi_zgfcw9FA', 'UCcgVECVN4OKV6DH1jLkqmcA'), 'weight': 1}{'edge': ('UCcgVECVN4OKV6DH1jLkqmcA', 'UC1zrKbdJ7wahvZS6S4y6Z7Q'), 'weight': 1}{'edge': ('UC1zrKbdJ7wahvZS6S4y6Z7Q', 'UChM5Ff2yVeIZ16EWiB081cg'), 'weight': 1}{'edge': ('UChM5Ff2yVeIZ16EWiB081cg', 'UChM5Ff2yVeIZ16EWiB081cg'), 'weight': 1}{'edge': ('UChM5Ff2yVeIZ16EWiB081cg', 'UCAc-yX63ImMA6P5yCcgi1qA'), 'weight': 1}{'edge': ('UCAc-yX63ImMA6P5yCcgi1qA', 'UCVYe9OwcrGrlRmlX8cSWgvg'), 'weight': 1}\n"
     ]
    }
   ],
   "source": [
    "print(file.decode('utf-8'))"
   ]
  },
  {
   "cell_type": "code",
   "execution_count": 178,
   "metadata": {},
   "outputs": [],
   "source": [
    "df = spark.read.json('simple_graph_test2.json.gz')"
   ]
  },
  {
   "cell_type": "code",
   "execution_count": 179,
   "metadata": {},
   "outputs": [
    {
     "name": "stdout",
     "output_type": "stream",
     "text": [
      "+--------------------+------+\n",
      "|                edge|weight|\n",
      "+--------------------+------+\n",
      "|[UCBXNpF6k2n8dsI6...|     1|\n",
      "|[UCpB959t8iPrxQWj...|     1|\n",
      "|[UCpB959t8iPrxQWj...|     1|\n",
      "|[UCM2ERkgV3P1_6MA...|     1|\n",
      "|[UC3dEvA1is6-0_yu...|     1|\n",
      "|[UCfhmwml--SRANrI...|     1|\n",
      "|[UCstEtN0pgOmCf02...|     1|\n",
      "|[UCjD2KyAEm84yVH8...|     1|\n",
      "|[UCIveFvW-ARp_B_R...|     1|\n",
      "|[UCIveFvW-ARp_B_R...|     1|\n",
      "|[UCCn4crfPxpYDzu_...|     1|\n",
      "|[UCnsY1lMPN1ryj9l...|     1|\n",
      "|[UCh_6AWUq1V5yTHo...|     1|\n",
      "|[UCTY6PJNvuO49nIG...|     1|\n",
      "|[UCKgJEs_v0JB-6jW...|     1|\n",
      "|[UCTY6PJNvuO49nIG...|     1|\n",
      "|[UCK5R1BsMtGd4DtI...|     1|\n",
      "|[UCWi_65E_L8tQZ34...|     1|\n",
      "|[UCjb5iAXrj1D6NjH...|     1|\n",
      "|[UCFCFqvFiyWmwOrS...|     1|\n",
      "+--------------------+------+\n",
      "only showing top 20 rows\n",
      "\n"
     ]
    }
   ],
   "source": [
    "df.show()"
   ]
  },
  {
   "cell_type": "code",
   "execution_count": null,
   "metadata": {},
   "outputs": [],
   "source": []
  },
  {
   "cell_type": "code",
   "execution_count": null,
   "metadata": {},
   "outputs": [],
   "source": []
  },
  {
   "cell_type": "code",
   "execution_count": null,
   "metadata": {},
   "outputs": [],
   "source": []
  },
  {
   "cell_type": "code",
   "execution_count": null,
   "metadata": {},
   "outputs": [],
   "source": []
  },
  {
   "cell_type": "code",
   "execution_count": null,
   "metadata": {},
   "outputs": [],
   "source": []
  },
  {
   "cell_type": "code",
   "execution_count": null,
   "metadata": {},
   "outputs": [],
   "source": []
  },
  {
   "cell_type": "code",
   "execution_count": null,
   "metadata": {},
   "outputs": [],
   "source": []
  },
  {
   "cell_type": "code",
   "execution_count": null,
   "metadata": {},
   "outputs": [],
   "source": []
  },
  {
   "cell_type": "code",
   "execution_count": null,
   "metadata": {},
   "outputs": [],
   "source": []
  },
  {
   "cell_type": "code",
   "execution_count": null,
   "metadata": {},
   "outputs": [],
   "source": []
  }
 ],
 "metadata": {
  "kernelspec": {
   "display_name": "Python 3",
   "language": "python",
   "name": "python3"
  },
  "language_info": {
   "codemirror_mode": {
    "name": "ipython",
    "version": 3
   },
   "file_extension": ".py",
   "mimetype": "text/x-python",
   "name": "python",
   "nbconvert_exporter": "python",
   "pygments_lexer": "ipython3",
   "version": "3.7.7"
  }
 },
 "nbformat": 4,
 "nbformat_minor": 4
}
