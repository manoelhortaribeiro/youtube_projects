{
 "cells": [
  {
   "cell_type": "code",
   "execution_count": 1,
   "metadata": {
    "collapsed": true
   },
   "outputs": [],
   "source": [
    "import scipy.sparse"
   ]
  },
  {
   "cell_type": "code",
   "execution_count": 2,
   "metadata": {
    "collapsed": true
   },
   "outputs": [],
   "source": [
    "# Load the channel tuple sparse matrix\n",
    "S = scipy.sparse.load_npz('/dlabdata1/youtube_large/jouven/final_sparse_matrix/sparse_matrix_for_word2vec.npz')"
   ]
  },
  {
   "cell_type": "code",
   "execution_count": 3,
   "metadata": {
    "collapsed": false
   },
   "outputs": [
    {
     "data": {
      "text/plain": [
       "2834601008"
      ]
     },
     "execution_count": 3,
     "metadata": {},
     "output_type": "execute_result"
    }
   ],
   "source": [
    "S.count_nonzero()"
   ]
  },
  {
   "cell_type": "code",
   "execution_count": 6,
   "metadata": {
    "collapsed": false
   },
   "outputs": [
    {
     "data": {
      "text/plain": [
       "(57004, 406925230)"
      ]
     },
     "execution_count": 6,
     "metadata": {},
     "output_type": "execute_result"
    }
   ],
   "source": [
    "S.shape"
   ]
  },
  {
   "cell_type": "code",
   "execution_count": 11,
   "metadata": {
    "collapsed": true
   },
   "outputs": [],
   "source": [
    "'''\n",
    "Create a text file named word_vocabulary, the word here corresponds to each channel\n",
    "Each line corresponds to a (channel, # occurences) pair and written as\n",
    "\"channel_index #occurences\" in the file\n",
    "'''\n",
    "def create_word_vocabulary(S):\n",
    "    word_pair = \"\"\n",
    "    occurences_tab = S.sum(axis = 1).flatten().tolist()[0]  # sum the rows\n",
    "    for idx, occurences in enumerate(occurences_tab):\n",
    "        #idx represents the channel index\n",
    "        word_pair += str(idx) + \" \" + str(occurences) + \"\\n\"\n",
    "    print('Writing into word_vocabulary...')\n",
    "    f = open(\"/dlabdata1/youtube_large/jouven/word2vecf_preprocessing/word_vocabulary\", \"w\")\n",
    "    f.write(word_pair)\n",
    "    f.close()\n",
    "        \n",
    "    "
   ]
  },
  {
   "cell_type": "code",
   "execution_count": null,
   "metadata": {
    "collapsed": true
   },
   "outputs": [],
   "source": []
  },
  {
   "cell_type": "code",
   "execution_count": 3,
   "metadata": {
    "collapsed": true
   },
   "outputs": [],
   "source": [
    "'''\n",
    "Create a text file named context_vocabulary, the context here is the uset\n",
    "Each line corresponds to a (user, # occurences) pair and written as\n",
    "\"user_index #occurences\" in the file\n",
    "'''\n",
    "def create_context_vocabulary(S):\n",
    "    context_pair = \"\"\n",
    "    # Temporary variable for speed purpose\n",
    "    context_pair_temp = \"\"\n",
    "    occurences_tab = S.sum(axis = 0).flatten().tolist()[0]  # sum the columns\n",
    "    for idx, occurences in enumerate(occurences_tab):\n",
    "        if idx % 10000 == 0 and idx > 0:\n",
    "            context_pair += context_pair_temp\n",
    "            context_pair_temp = \"\"\n",
    "            context_pair_temp += str(idx) + \" \" + str(occurences) + \"\\n\"\n",
    "    print('Writing into context_vocabulary...')\n",
    "    f = open(\"/dlabdata1/youtube_large/jouven/word2vecf_preprocessing/context_vocabulary\", \"w\")\n",
    "    f.write(context_pair)\n",
    "    f.close()"
   ]
  },
  {
   "cell_type": "code",
   "execution_count": 12,
   "metadata": {
    "collapsed": false
   },
   "outputs": [
    {
     "name": "stdout",
     "output_type": "stream",
     "text": [
      "Writing into word_vocabulary...\n"
     ]
    }
   ],
   "source": [
    "create_word_vocabulary(S)"
   ]
  },
  {
   "cell_type": "code",
   "execution_count": 4,
   "metadata": {
    "collapsed": false
   },
   "outputs": [
    {
     "name": "stdout",
     "output_type": "stream",
     "text": [
      "Writing into context_vocabulary...\n"
     ]
    }
   ],
   "source": [
    "create_context_vocabulary(S)"
   ]
  },
  {
   "cell_type": "code",
   "execution_count": null,
   "metadata": {
    "collapsed": true
   },
   "outputs": [],
   "source": []
  }
 ],
 "metadata": {
  "kernelspec": {
   "display_name": "Python 3",
   "language": "python",
   "name": "python3"
  },
  "language_info": {
   "codemirror_mode": {
    "name": "ipython",
    "version": 3
   },
   "file_extension": ".py",
   "mimetype": "text/x-python",
   "name": "python",
   "nbconvert_exporter": "python",
   "pygments_lexer": "ipython3",
   "version": "3.6.11"
  }
 },
 "nbformat": 4,
 "nbformat_minor": 4
}
