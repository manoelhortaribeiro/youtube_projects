{
 "cells": [
  {
   "cell_type": "markdown",
   "metadata": {},
   "source": [
    "This is an example on how you can read the huge comments file:"
   ]
  },
  {
   "cell_type": "code",
   "execution_count": 1,
   "metadata": {
    "collapsed": false
   },
   "outputs": [
    {
     "name": "stdout",
     "output_type": "stream",
     "text": [
      "\"author_id\",\"id\",\"video_id\",\"parent_id\",\"crawled_at\",\"likes\",\"replies\",\"author\",\"content\"\n",
      "\"UCTvmM0NQyzNty5gus9Nmoeg\",\"UgwbuVbb-gamjIGGMdl4AaABAg\",\"Gkb1QMHrGvA\",\"\",1571542130,2,0,\"Woikima Marcus\",\"[{\"\"text\"\":\"\"my life is funnyer and easyer because 123 go now my famly has me but it is ok\"\"}]\"\n",
      "\"UCTvmM0NQyzNty5gus9Nmoeg\",\"UgxoI8NbBDWFIXFQES14AaABAg\",\"CNtp0xqoods\",\"\",1571812636,0,0,\"Woikima Marcus\",\"[{\"\"text\"\":\"\"Yesssssssssssssssssssssssssssssssss\"\"}]\"\n",
      "\"UCTvmM0NQyzNty5gus9Nmoeg\",\"UgyTr2UPF7Vn9G1ACAp4AaABAg\",\"249EEzQmVmQ\",\"\",1571812689,1,0,\"Woikima Marcus\",\"[{\"\"text\"\":\"\"his name is dean\"\"}]\"\n",
      "\"UCTvmM0NQyzNty5gus9Nmoeg\",\"Ugz8D4E1IexZJhOnnmV4AaABAg\",\"_U443T2K_Bs\",\"\",1571533958,0,0,\"Woikima Marcus\",\"[{\"\"text\"\":\"\"What\"\"}]\"\n",
      "\"UCTvmM0NQyzNty5gus9Nmoeg\",\"UgzOwHQcTUSqZIoU6054AaABAg\",\"rJbjhm0weYc\",\"\",1571672537,0,0,\"Woikima Marcus\",\"[{\"\"text\"\":\"\"cooooooooooooooooooooooooooooooooooooool\"\"}]\"\n",
      "\"UCVqYp2uyaUWnNssQlFmtKUg\",\"Ughm6Pq2hO-onngCoAEC\",\"EpHERODJ7gM\",\"\",1571520937,0,0,\"rosa m Ramirez\",\"[{\"\"text\"\":\"\"She is very awesome love the way you draw\"\"}]\"\n",
      "\"UCVqYp2uyaUWnNssQlFmtKUg\",\"UgiWNkzftoTi53gCoAEC\",\"9pQILRT42Cg\",\"\",1571625577,0,0,\"rosa m Ramirez\",\"[{\"\"text\"\":\"\"alissa why did you kiss him if you can kiss faze bullshit then why can't you kiss jake paul !!!!!!! p.s Jake Pauler for live!!!!!!!!!!!!!!!!!!!!!!!!!!!!!!!\"\"}]\"\n",
      "\"UCVqYp2uyaUWnNssQlFmtKUg\",\"UgwS1l4g_iDCVcd3tqZ4AaABAg\",\"PWWRzCyuiFU\",\"\",1570444293,0,0,\"rosa m Ramirez\",\"[{\"\"text\"\":\"\"Can you please play save the world\"\"}]\"\n",
      "\"UCSGpS0yjn8UXZI789MwE1xg\",\"UgzSAU9CHDDYHCMRBAB4AaABAg.8_z6ETTcPh78a1fKyGxatl\",\"o7W2fdWXnPc\",\"UgzSAU9CHDDYHCMRBAB4AaABAg\",1570779495,0,0,\"Lovely Sweet Manuales Manuales\",\"[{\"\"text\"\":\"\"Galing tala Ang wildflower\"\"}]\"\n",
      "\"UCSGpS0yjn8UXZI789MwE1xg\",\"UgzdU-6gqyRLDB38ntl4AaABAg.8YyGB348WZP8_7xm7bNbbM\",\"Y9XhBAazNqk\",\"UgzdU-6gqyRLDB38ntl4AaABAg\",1570779518,0,0,\"Lovely Sweet Manuales Manuales\",\"[{\"\"text\"\":\"\"Ang pangit Kung dami kalaban ci Lily Cruz dapat parusahan na Ang mga Ardiente..para my kabuluhan Naman Ang mga pasakit ni Ivy Aguas\"\"}]\"\n",
      "\"UCY7fyZ6XFaXTr2f6ZBT0_PA\",\"UghFq1DoYwwoPXgCoAEC\",\"9dYn-z8RoZg\",\"\",1571644324,0,0,\"Timothy Coburn\",\"[{\"\"text\"\":\"\"Want to know what you look like? Use a mirror. Life hack!\"\"}]\"\n",
      "\"UCY7fyZ6XFaXTr2f6ZBT0_PA\",\"UgxYbKr1wIdWqGSEYsV4AaABAg\",\"7fY0grcsIIE\",\"\",1571863972,1,0,\"Timothy Coburn\",\"[{\"\"text\"\":\"\"I'm glad they are playing ads on your videos, but do they all have to be mudslinging political ads against Republican senate candidates? Seems like YouTube definitely has an agenda.\"\"}]\"\n",
      "\"UCY7fyZ6XFaXTr2f6ZBT0_PA\",\"UgyH_9DPgHPIxiLSf194AaABAg\",\"aM88wp03DNo\",\"\",1571693154,0,0,\"Timothy Coburn\",\"[{\"\"text\"\":\"\"You know I had to watch an Amy Schumer movie trailer before watching this video. Com'on man!\"\"}]\"\n",
      "\"UCY7fyZ6XFaXTr2f6ZBT0_PA\",\"UgyaKoClAND9wgNWzlZ4AaABAg\",\"7pN6ZgGRfQU\",\"\",1571696067,0,0,\"Timothy Coburn\",\"[{\"\"text\"\":\"\"Anybody punch that guy yet?\"\"}]\"\n",
      "\"UCY7fyZ6XFaXTr2f6ZBT0_PA\",\"UgzYHNR2dtN1NahU5sZ4AaABAg\",\"u_alXoZ4774\",\"\",1571551621,0,0,\"Timothy Coburn\",\"[{\"\"text\"\":\"\"I appreciate works like this.  Useful video.\"\"}]\"\n",
      "\"UCY7fyZ6XFaXTr2f6ZBT0_PA\",\"UgzehM6m_XZxXtsTonV4AaABAg\",\"tYpX-AeDfAA\",\"\",1570063376,0,0,\"Timothy Coburn\",\"[{\"\"text\"\":\"\"Typing this comment on my note9\"\"}]\"\n",
      "\"UCjVwVsS9vFYkNJHFN3mEZww\",\"UgiksXI-WdKqS3gCoAEC\",\"Z7gFd-KUeB0\",\"\",1571729710,0,0,\"Melissa Phillips\",\"[{\"\"text\"\":\"\"I am your newest fan. I cut my hair June 2012 and then permed it again in May 2013. I hated the work so chopped it again in September 2013.  You videos are so helpful because I work as a manager in a corporate setting and want to be appropriate (and not unnecessarily distracting) while at work. I am excited to see what my hair will become. I work it short for the first year, but I've vowed not to cut it this time. I had the back and sides trimmed on 10/5/13 but that was the last one I planned.  Thanks so much for your inspiration and for sharing it with us less knowledgeable newbies.\"\"}]\"\n",
      "\"UCjVwVsS9vFYkNJHFN3mEZww\",\"UgxmzK1LGdVMR_DRMIN4AaABAg\",\"9MuGpmXGlsY\",\"\",1571803193,0,0,\"Melissa Phillips\",\"[{\"\"text\"\":\"\"The part with twomad had me dead\"\"}]\"\n",
      "\"UCjVwVsS9vFYkNJHFN3mEZww\",\"UgyeYUezY-DJnOcGrEx4AaABAg.8wP43azrmDG8xOYQhOM1FB\",\"UvZPbfUkMGw\",\"UgyeYUezY-DJnOcGrEx4AaABAg\",1571621551,0,0,\"Melissa Phillips\",\"[{\"\"text\"\":\"\"Exploding Cookies and he dropped the controller and it was moving\"\"}]\"\n",
      "\"UCWHSma1ZzFVxTkx09-XSR_Q\",\"UgxvUbnD5Cai8ZoEF9x4AaABAg\",\"LmJDN86h0ZY\",\"\",1570770445,0,0,\"Vijayalakshmi Gwoda\",\"[{\"\"text\"\":\"\"ಗಂಡ ಸತ್ತ ಮೇಲೆ ಶವ ಸಂಸ್ಕಾರ ನಾವೇ ಮುಂದೆ ನಿಂತು ನೆರವೇರಿಸುತ್ತವೆ ಆದರೂ ಬದುಕಿ  ಬಂದರೆ ಯಾರು ಒಳ್ಳೆಯ ವ್ಯಕ್ತಿ ಅವರ  ಜೊತೆ ಕಾನೂನಿನ ಪ್ರಕಾರ ಮದುವೆ ಆಗ್ತಾರೆ ಅಷ್ಟೇ\"\"}]\"\n",
      "\"UCEM2g8dgPghvlH3eV4Q_34g\",\"UgwEUHm9GWmpSLwVS-B4AaABAg\",\"GhKOJ1WX1Yw\",\"\",1571553993,0,0,\"aryan b boy\",\"[{\"\"text\"\":\"\"nice video\"\"}]\"\n",
      "\"UComWO5Ivv9bBrbPh2PR5BKQ\",\"UgxBdeWT6zkSv85IPxh4AaABAg\",\"TXsoGQz8F00\",\"\",1571495142,0,0,\"Suwanna Commee\",\"[{\"\"text\"\":\"\"พี่สอนพวกมันเยอะๆๆสะจัยผมมากเลยพี่\"\"}]\"\n",
      "\"UCWhOVrbigJouq8k1InC8Jew\",\"Ugw0G94UAFIV3hT6JKt4AaABAg\",\"DntjEzbQPF8\",\"\",1571447230,0,1,\"arimas industries\",\"[{\"\"text\"\":\"\"Thank you for this video. Extremely helpful.\"\"}]\"\n",
      "\"UCWhOVrbigJouq8k1InC8Jew\",\"UgwTunGrqwFM9efRQpx4AaABAg\",\"NcmBhu4O89g\",\"\",1570337284,0,0,\"arimas industries\",\"[{\"\"text\"\":\"\"Again Thank you for your helping understand a different angle to hiking. I cant believe I'm going to say this but I'm definitely going to wait for a rainy weekend and head over to Johnathan Dickinson park and do that segment in the rain. It will definitely be a learning experience lol.\"\"}]\"\n",
      "\"UCWhOVrbigJouq8k1InC8Jew\",\"UgwV49SA_3Y41sCakC94AaABAg\",\"adWazveLyQo\",\"\",1571845377,0,0,\"arimas industries\",\"[{\"\"text\"\":\"\"Love it\"\"}]\"\n",
      "\"UCWhOVrbigJouq8k1InC8Jew\",\"UgwZjmSHsqVZIywmHF94AaABAg\",\"6z9QbZDd_U0\",\"\",1570337283,1,0,\"arimas industries\",\"[{\"\"text\"\":\"\"What was the final cost for your entire trip with post office cost and food?\"\"}]\"\n",
      "\"UCWhOVrbigJouq8k1InC8Jew\",\"Ugxpv70QDNh9sLv7HtR4AaABAg\",\"vta8SbVR7_4\",\"\",1570419630,0,0,\"arimas industries\",\"[{\"\"text\"\":\"\"I really enjoy your channel.\"\"}]\"\n",
      "\"UCWhOVrbigJouq8k1InC8Jew\",\"Ugz4nQAvsaq_reR8dF14AaABAg\",\"QHDA4sCZqho\",\"\",1571619113,1,0,\"arimas industries\",\"[{\"\"text\"\":\"\"Congratulations! I swear I thought you guys were pregnant, only because you could tell because she was doing less physical labor intensive work. Congratulations again guys. I really enjoy watching you videos.\"\"}]\"\n"
     ]
    }
   ],
   "source": [
    "import zstandard as zstd\n",
    "import json\n",
    "\n",
    "\n",
    "class Zreader:\n",
    "\n",
    "    def __init__(self, file, chunk_size=16384):\n",
    "        '''Init method'''\n",
    "        self.fh = open(file,'rb')\n",
    "        self.chunk_size = chunk_size\n",
    "        self.dctx = zstd.ZstdDecompressor()\n",
    "        self.reader = self.dctx.stream_reader(self.fh)\n",
    "        self.buffer = ''\n",
    "\n",
    "    def readlines(self):\n",
    "        '''Generator method that creates an iterator for each line of JSON'''\n",
    "        while True:\n",
    "            chunk = self.reader.read(self.chunk_size).decode(\"utf-8\", errors=\"ignore\")\n",
    "            if not chunk:\n",
    "                break\n",
    "            lines = (self.buffer + chunk).split(\"\\n\")\n",
    "\n",
    "            for line in lines[:-1]:\n",
    "                yield line\n",
    "\n",
    "            self.buffer = lines[-1]\n",
    "\n",
    "set_videos = set()\n",
    "# Adjust chunk_size as necessary -- defaults to 16,384 if not specific\n",
    "reader = Zreader(\"/dlabdata1/youtube_large/youtube_comments.ndjson.zst\", chunk_size=16384)\n",
    "\n",
    "video_ids = set()\n",
    "\n",
    "idx = 0\n",
    "            \n",
    "# Read each line from the reader\n",
    "for line in reader.readlines():\n",
    "    idx += 1\n",
    "    if idx % 30 == 0:\n",
    "        break\n",
    "    print(line)\n"
   ]
  },
  {
   "cell_type": "code",
   "execution_count": null,
   "metadata": {
    "collapsed": true
   },
   "outputs": [],
   "source": []
  }
 ],
 "metadata": {
  "kernelspec": {
   "display_name": "Python 3",
   "language": "python",
   "name": "python3"
  },
  "language_info": {
   "codemirror_mode": {
    "name": "ipython",
    "version": 3
   },
   "file_extension": ".py",
   "mimetype": "text/x-python",
   "name": "python",
   "nbconvert_exporter": "python",
   "pygments_lexer": "ipython3",
   "version": "3.6.11"
  }
 },
 "nbformat": 4,
 "nbformat_minor": 4
}
