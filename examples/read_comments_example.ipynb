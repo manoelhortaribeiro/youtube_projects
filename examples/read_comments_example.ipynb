{
 "cells": [
  {
   "cell_type": "markdown",
   "metadata": {},
   "source": [
    "This is an example on how you can read the huge comments file:"
   ]
  },
  {
   "cell_type": "code",
   "execution_count": 1,
   "metadata": {},
   "outputs": [
    {
     "name": "stdout",
     "output_type": "stream",
     "text": [
      "\"author_id\",\"id\",\"video_id\",\"parent_id\",\"crawled_at\",\"likes\",\"replies\",\"author\",\"content\"\n",
      "\"UCTvmM0NQyzNty5gus9Nmoeg\",\"UgwbuVbb-gamjIGGMdl4AaABAg\",\"Gkb1QMHrGvA\",\"\",1571542130,2,0,\"Woikima Marcus\",\"[{\"\"text\"\":\"\"my life is funnyer and easyer because 123 go now my famly has me but it is ok\"\"}]\"\n",
      "\"UCTvmM0NQyzNty5gus9Nmoeg\",\"UgxoI8NbBDWFIXFQES14AaABAg\",\"CNtp0xqoods\",\"\",1571812636,0,0,\"Woikima Marcus\",\"[{\"\"text\"\":\"\"Yesssssssssssssssssssssssssssssssss\"\"}]\"\n",
      "\"UCTvmM0NQyzNty5gus9Nmoeg\",\"UgyTr2UPF7Vn9G1ACAp4AaABAg\",\"249EEzQmVmQ\",\"\",1571812689,1,0,\"Woikima Marcus\",\"[{\"\"text\"\":\"\"his name is dean\"\"}]\"\n",
      "\"UCTvmM0NQyzNty5gus9Nmoeg\",\"Ugz8D4E1IexZJhOnnmV4AaABAg\",\"_U443T2K_Bs\",\"\",1571533958,0,0,\"Woikima Marcus\",\"[{\"\"text\"\":\"\"What\"\"}]\"\n",
      "\"UCTvmM0NQyzNty5gus9Nmoeg\",\"UgzOwHQcTUSqZIoU6054AaABAg\",\"rJbjhm0weYc\",\"\",1571672537,0,0,\"Woikima Marcus\",\"[{\"\"text\"\":\"\"cooooooooooooooooooooooooooooooooooooool\"\"}]\"\n",
      "\"UCVqYp2uyaUWnNssQlFmtKUg\",\"Ughm6Pq2hO-onngCoAEC\",\"EpHERODJ7gM\",\"\",1571520937,0,0,\"rosa m Ramirez\",\"[{\"\"text\"\":\"\"She is very awesome love the way you draw\"\"}]\"\n",
      "\"UCVqYp2uyaUWnNssQlFmtKUg\",\"UgiWNkzftoTi53gCoAEC\",\"9pQILRT42Cg\",\"\",1571625577,0,0,\"rosa m Ramirez\",\"[{\"\"text\"\":\"\"alissa why did you kiss him if you can kiss faze bullshit then why can't you kiss jake paul !!!!!!! p.s Jake Pauler for live!!!!!!!!!!!!!!!!!!!!!!!!!!!!!!!\"\"}]\"\n",
      "\"UCVqYp2uyaUWnNssQlFmtKUg\",\"UgwS1l4g_iDCVcd3tqZ4AaABAg\",\"PWWRzCyuiFU\",\"\",1570444293,0,0,\"rosa m Ramirez\",\"[{\"\"text\"\":\"\"Can you please play save the world\"\"}]\"\n"
     ]
    }
   ],
   "source": [
    "import zstandard as zstd\n",
    "import json\n",
    "\n",
    "\n",
    "class Zreader:\n",
    "\n",
    "    def __init__(self, file, chunk_size=16384):\n",
    "        '''Init method'''\n",
    "        self.fh = open(file,'rb')\n",
    "        self.chunk_size = chunk_size\n",
    "        self.dctx = zstd.ZstdDecompressor()\n",
    "        self.reader = self.dctx.stream_reader(self.fh)\n",
    "        self.buffer = ''\n",
    "\n",
    "    def readlines(self):\n",
    "        '''Generator method that creates an iterator for each line of JSON'''\n",
    "        while True:\n",
    "            chunk = self.reader.read(self.chunk_size).decode(\"utf-8\", errors=\"ignore\")\n",
    "            if not chunk:\n",
    "                break\n",
    "            lines = (self.buffer + chunk).split(\"\\n\")\n",
    "\n",
    "            for line in lines[:-1]:\n",
    "                yield line\n",
    "\n",
    "            self.buffer = lines[-1]\n",
    "\n",
    "set_videos = set()\n",
    "# Adjust chunk_size as necessary -- defaults to 16,384 if not specific\n",
    "reader = Zreader(\"/dlabdata1/youtube_large/youtube_comments.ndjson.zst\", chunk_size=16384)\n",
    "\n",
    "video_ids = set()\n",
    "\n",
    "idx = 0\n",
    "            \n",
    "# Read each line from the reader\n",
    "for line in reader.readlines():\n",
    "    idx += 1\n",
    "    if idx % 10 == 0:\n",
    "        break\n",
    "    print(line)\n"
   ]
  },
  {
   "cell_type": "code",
   "execution_count": null,
   "metadata": {},
   "outputs": [],
   "source": []
  }
 ],
 "metadata": {
  "kernelspec": {
   "display_name": "youtube",
   "language": "python",
   "name": "youtube"
  },
  "language_info": {
   "codemirror_mode": {
    "name": "ipython",
    "version": 3
   },
   "file_extension": ".py",
   "mimetype": "text/x-python",
   "name": "python",
   "nbconvert_exporter": "python",
   "pygments_lexer": "ipython3",
   "version": "3.7.7"
  }
 },
 "nbformat": 4,
 "nbformat_minor": 4
}
