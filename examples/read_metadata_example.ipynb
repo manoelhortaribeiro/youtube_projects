{
 "cells": [
  {
   "cell_type": "code",
   "execution_count": 1,
   "metadata": {},
   "outputs": [
    {
     "name": "stdout",
     "output_type": "stream",
     "text": [
      "{\"categories\":\"Entertainment\",\"channel_id\":\"UCzzzrOhp92PkGrIwGH3_EEg\",\"crawl_date\":\"2019-11-22 18:08:02.988358\",\"description\":\"Мой ВК: https://vk.com/holdik_clash\\nМой инстаграм - https://www.instagram.com/vanya.holdik/\\nМои влоги - https://goo.gl/cFofas\",\"dislike_count\":48,\"display_id\":\"e3qGZIDcMK4\",\"duration\":495,\"like_count\":5138,\"tags\":\"холдик,холдик бомбит,холдик нарезка,нарезка со стрима,нарезка со стрима холдик,смешные моменты со стрима,смешные моменты,смешные моменты холдик\",\"title\":\"ЛИЦО, КАК ЛИЦО - ВЫБИЛ ФРЭНКА! НАРЕЗКА СО СТРИМА #8\",\"upload_date\":\"2019-09-24 00:00:00\",\"view_count\":52193}\n",
      "{\"categories\":\"Entertainment\",\"channel_id\":\"UCzzzrOhp92PkGrIwGH3_EEg\",\"crawl_date\":\"2019-11-22 18:08:03.607261\",\"description\":\"Мой ВК: https://vk.com/holdik_clash\\nМой инстаграм - https://www.instagram.com/vanya.holdik/\\nМои влоги - https://goo.gl/cFofas\",\"dislike_count\":60,\"display_id\":\"11em10cFRbo\",\"duration\":666,\"like_count\":4893,\"tags\":\"холдик,холдик бомбит,холдик нарезка,нарезка со стрима,нарезка со стрима холдик,смешные моменты со стрима,смешные моменты,смешные моменты холдик,автоатака,моя жизнь,донатер бравл старс,автоатака бравл старс,холдик донатер,холдик автоатака\",\"title\":\"АВТОАТАКА МОЯ ЖИЗНЬ! Я ДОНАТЕР - МНЕ ПРОСТИТЕЛЬНО! НАРЕЗКА СО СТРИМА #7\",\"upload_date\":\"2019-09-21 00:00:00\",\"view_count\":46523}\n",
      "{\"categories\":\"Entertainment\",\"channel_id\":\"UCzzzrOhp92PkGrIwGH3_EEg\",\"crawl_date\":\"2019-11-22 18:08:04.207434\",\"description\":\"\",\"dislike_count\":40,\"display_id\":\"Hx6TabZ1D28\",\"duration\":605,\"like_count\":3305,\"tags\":\"холдик,холдик бомбит,холдик нарезка,нарезка со стрима,нарезка со стрима холдик,смешные моменты со стрима,смешные моменты,смешные моменты холдик,холодец,холодок,холодильник,холдир,холдос,холдик новый логотип\",\"title\":\"НОВЫЙ ЛОГОТИП ХОЛДИКА ОТ ПОДПИСЧИКОВ! НАРЕЗКА СО СТРИМА #6\",\"upload_date\":\"2019-09-17 00:00:00\",\"view_count\":25259}\n",
      "{\"categories\":\"Entertainment\",\"channel_id\":\"UCzzzrOhp92PkGrIwGH3_EEg\",\"crawl_date\":\"2019-11-22 18:08:04.762197\",\"description\":\"\",\"dislike_count\":113,\"display_id\":\"-a3fA6wF4rk\",\"duration\":643,\"like_count\":13789,\"tags\":\"холдик,холдик бомбит,холдик нарезка,нарезка со стрима,нарезка со стрима холдик,смешные моменты со стрима,смешные моменты,смешные моменты холдик,донат,задонатили,реакция на донат,задонатили крупную сумму,донат стримерам,донат холдику,реакция холдика\",\"title\":\"РЕАКЦИЯ ХОЛДИКА НА ДОНАТ В 25.000 РУБЛЕЙ! НАРЕЗКА СО СТРИМА #5\",\"upload_date\":\"2019-09-06 00:00:00\",\"view_count\":142693}\n"
     ]
    }
   ],
   "source": [
    "import zstandard as zstd\n",
    "import json\n",
    "\n",
    "class Zreader:\n",
    "\n",
    "    def __init__(self, file, chunk_size=16384):\n",
    "        '''Init method'''\n",
    "        self.fh = open(file,'rb')\n",
    "        self.chunk_size = chunk_size\n",
    "        self.dctx = zstd.ZstdDecompressor()\n",
    "        self.reader = self.dctx.stream_reader(self.fh)\n",
    "        self.buffer = ''\n",
    "\n",
    "\n",
    "    def readlines(self):\n",
    "        '''Generator method that creates an iterator for each line of JSON'''\n",
    "        while True:\n",
    "            chunk = self.reader.read(self.chunk_size).decode(errors=\"ignore\")\n",
    "            if not chunk:\n",
    "                break\n",
    "            lines = (self.buffer + chunk).split(\"\\n\")\n",
    "\n",
    "            for line in lines[:-1]:\n",
    "                yield line\n",
    "\n",
    "            self.buffer = lines[-1]\n",
    "\n",
    "df_list = []\n",
    "\n",
    "reader = Zreader(\"/dlabdata1/youtube_large/yt_metadata_all.jsonl.zst\", chunk_size=2**28)\n",
    "\n",
    "idx = 0\n",
    "# Read each line from the reader\n",
    "for line in reader.readlines():\n",
    "    idx += 1\n",
    "    if idx % 5 == 0:\n",
    "        break\n",
    "    print(line)\n",
    "    "
   ]
  },
  {
   "cell_type": "code",
   "execution_count": null,
   "metadata": {},
   "outputs": [],
   "source": []
  }
 ],
 "metadata": {
  "kernelspec": {
   "display_name": "Python 3",
   "language": "python",
   "name": "python3"
  },
  "language_info": {
   "codemirror_mode": {
    "name": "ipython",
    "version": 3
   },
   "file_extension": ".py",
   "mimetype": "text/x-python",
   "name": "python",
   "nbconvert_exporter": "python",
   "pygments_lexer": "ipython3",
   "version": "3.7.7"
  }
 },
 "nbformat": 4,
 "nbformat_minor": 4
}
