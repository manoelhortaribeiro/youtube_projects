{
 "cells": [
  {
   "cell_type": "code",
   "execution_count": 1,
   "metadata": {},
   "outputs": [
    {
     "name": "stderr",
     "output_type": "stream",
     "text": [
      "[nltk_data] Downloading package stopwords to /home/olam/nltk_data...\n",
      "[nltk_data]   Package stopwords is already up-to-date!\n"
     ]
    },
    {
     "data": {
      "text/plain": [
       "True"
      ]
     },
     "execution_count": 1,
     "metadata": {},
     "output_type": "execute_result"
    }
   ],
   "source": [
    "import collections\n",
    "import fasttext\n",
    "import gzip\n",
    "import json\n",
    "import math\n",
    "import nltk\n",
    "import pickle\n",
    "import scipy.sparse\n",
    "import sys\n",
    "import time\n",
    "\n",
    "import matplotlib.pyplot as plt\n",
    "import numpy as np\n",
    "import pandas as pd\n",
    "import zstandard as zstd\n",
    "\n",
    "from collections import Counter\n",
    "from langdetect import detect\n",
    "from nltk.corpus import stopwords\n",
    "from nltk.stem.snowball import SnowballStemmer\n",
    "from nltk.tokenize import RegexpTokenizer\n",
    "from scipy.sparse import dok_matrix\n",
    "\n",
    "nltk.download('stopwords')"
   ]
  },
  {
   "cell_type": "code",
   "execution_count": 2,
   "metadata": {},
   "outputs": [],
   "source": [
    "class Zreader:\n",
    "\n",
    "    def __init__(self, file, chunk_size=16384):\n",
    "        '''Init method'''\n",
    "        self.fh = open(file,'rb')\n",
    "        self.chunk_size = chunk_size\n",
    "        self.dctx = zstd.ZstdDecompressor()\n",
    "        self.reader = self.dctx.stream_reader(self.fh)\n",
    "        self.buffer = ''\n",
    "\n",
    "\n",
    "    def readlines(self):\n",
    "        '''Generator method that creates an iterator for each line of JSON'''\n",
    "        while True:\n",
    "            chunk = self.reader.read(self.chunk_size).decode(errors=\"ignore\")\n",
    "            if not chunk:\n",
    "                break\n",
    "            lines = (self.buffer + chunk).split(\"\\n\")\n",
    "\n",
    "            for line in lines[:-1]:\n",
    "                yield line\n",
    "\n",
    "            self.buffer = lines[-1]\n"
   ]
  },
  {
   "cell_type": "markdown",
   "metadata": {},
   "source": [
    "## Get list of channels in ```channelcrawler.csv```"
   ]
  },
  {
   "cell_type": "code",
   "execution_count": 50,
   "metadata": {},
   "outputs": [],
   "source": [
    "df_channelcrawler = pd.read_csv('/dlabdata1/youtube_large/channelcrawler.csv')"
   ]
  },
  {
   "cell_type": "code",
   "execution_count": 51,
   "metadata": {},
   "outputs": [
    {
     "data": {
      "text/html": [
       "<div>\n",
       "<style scoped>\n",
       "    .dataframe tbody tr th:only-of-type {\n",
       "        vertical-align: middle;\n",
       "    }\n",
       "\n",
       "    .dataframe tbody tr th {\n",
       "        vertical-align: top;\n",
       "    }\n",
       "\n",
       "    .dataframe thead th {\n",
       "        text-align: right;\n",
       "    }\n",
       "</style>\n",
       "<table border=\"1\" class=\"dataframe\">\n",
       "  <thead>\n",
       "    <tr style=\"text-align: right;\">\n",
       "      <th></th>\n",
       "      <th>category</th>\n",
       "      <th>join_date</th>\n",
       "      <th>link</th>\n",
       "      <th>name</th>\n",
       "      <th>subscribers</th>\n",
       "      <th>videos</th>\n",
       "    </tr>\n",
       "  </thead>\n",
       "  <tbody>\n",
       "    <tr>\n",
       "      <th>0</th>\n",
       "      <td>Film and Animation</td>\n",
       "      <td>2017-05-21</td>\n",
       "      <td>http://www.youtube.com/channel/UCBJuEqXfXTdcPS...</td>\n",
       "      <td>MagnusNation</td>\n",
       "      <td>65100</td>\n",
       "      <td>28</td>\n",
       "    </tr>\n",
       "    <tr>\n",
       "      <th>1</th>\n",
       "      <td>Entertainment</td>\n",
       "      <td>2011-12-13</td>\n",
       "      <td>http://www.youtube.com/channel/UCkNW9Q1VR_aeZ6...</td>\n",
       "      <td>Mago Dario Animazion...</td>\n",
       "      <td>60200</td>\n",
       "      <td>48</td>\n",
       "    </tr>\n",
       "    <tr>\n",
       "      <th>2</th>\n",
       "      <td>Music</td>\n",
       "      <td>2013-09-13</td>\n",
       "      <td>http://www.youtube.com/channel/UC1xcnrpcF59FWW...</td>\n",
       "      <td>Mägo de Oz - Topic</td>\n",
       "      <td>40200</td>\n",
       "      <td>395</td>\n",
       "    </tr>\n",
       "    <tr>\n",
       "      <th>3</th>\n",
       "      <td>Music</td>\n",
       "      <td>2008-03-17</td>\n",
       "      <td>http://www.youtube.com/channel/UCXhkGgooXHDNwg...</td>\n",
       "      <td>Mago Merlino</td>\n",
       "      <td>14800</td>\n",
       "      <td>838</td>\n",
       "    </tr>\n",
       "    <tr>\n",
       "      <th>4</th>\n",
       "      <td>Entertainment</td>\n",
       "      <td>2014-10-19</td>\n",
       "      <td>http://www.youtube.com/channel/UCvZGsuvKlYOGiZ...</td>\n",
       "      <td>MAGO TOMÁS</td>\n",
       "      <td>26200</td>\n",
       "      <td>31</td>\n",
       "    </tr>\n",
       "  </tbody>\n",
       "</table>\n",
       "</div>"
      ],
      "text/plain": [
       "             category   join_date  \\\n",
       "0  Film and Animation  2017-05-21   \n",
       "1       Entertainment  2011-12-13   \n",
       "2               Music  2013-09-13   \n",
       "3               Music  2008-03-17   \n",
       "4       Entertainment  2014-10-19   \n",
       "\n",
       "                                                link                     name  \\\n",
       "0  http://www.youtube.com/channel/UCBJuEqXfXTdcPS...             MagnusNation   \n",
       "1  http://www.youtube.com/channel/UCkNW9Q1VR_aeZ6...  Mago Dario Animazion...   \n",
       "2  http://www.youtube.com/channel/UC1xcnrpcF59FWW...       Mägo de Oz - Topic   \n",
       "3  http://www.youtube.com/channel/UCXhkGgooXHDNwg...             Mago Merlino   \n",
       "4  http://www.youtube.com/channel/UCvZGsuvKlYOGiZ...               MAGO TOMÁS   \n",
       "\n",
       "   subscribers  videos  \n",
       "0        65100      28  \n",
       "1        60200      48  \n",
       "2        40200     395  \n",
       "3        14800     838  \n",
       "4        26200      31  "
      ]
     },
     "execution_count": 51,
     "metadata": {},
     "output_type": "execute_result"
    }
   ],
   "source": [
    "df_channelcrawler.head()"
   ]
  },
  {
   "cell_type": "code",
   "execution_count": 52,
   "metadata": {},
   "outputs": [
    {
     "name": "stdout",
     "output_type": "stream",
     "text": [
      "<class 'pandas.core.frame.DataFrame'>\n",
      "RangeIndex: 164648 entries, 0 to 164647\n",
      "Data columns (total 6 columns):\n",
      " #   Column       Non-Null Count   Dtype \n",
      "---  ------       --------------   ----- \n",
      " 0   category     164462 non-null  object\n",
      " 1   join_date    164647 non-null  object\n",
      " 2   link         164648 non-null  object\n",
      " 3   name         164633 non-null  object\n",
      " 4   subscribers  164648 non-null  int64 \n",
      " 5   videos       164648 non-null  int64 \n",
      "dtypes: int64(2), object(4)\n",
      "memory usage: 7.5+ MB\n"
     ]
    }
   ],
   "source": [
    "df_channelcrawler.info()"
   ]
  },
  {
   "cell_type": "code",
   "execution_count": 53,
   "metadata": {},
   "outputs": [],
   "source": [
    "df_channelcrawler['channel_id'] = df_channelcrawler['link'].apply(lambda x: x.replace('http://www.youtube.com/channel/', ''))"
   ]
  },
  {
   "cell_type": "code",
   "execution_count": 54,
   "metadata": {},
   "outputs": [
    {
     "data": {
      "text/html": [
       "<div>\n",
       "<style scoped>\n",
       "    .dataframe tbody tr th:only-of-type {\n",
       "        vertical-align: middle;\n",
       "    }\n",
       "\n",
       "    .dataframe tbody tr th {\n",
       "        vertical-align: top;\n",
       "    }\n",
       "\n",
       "    .dataframe thead th {\n",
       "        text-align: right;\n",
       "    }\n",
       "</style>\n",
       "<table border=\"1\" class=\"dataframe\">\n",
       "  <thead>\n",
       "    <tr style=\"text-align: right;\">\n",
       "      <th></th>\n",
       "      <th>category</th>\n",
       "      <th>join_date</th>\n",
       "      <th>link</th>\n",
       "      <th>name</th>\n",
       "      <th>subscribers</th>\n",
       "      <th>videos</th>\n",
       "      <th>channel_id</th>\n",
       "    </tr>\n",
       "  </thead>\n",
       "  <tbody>\n",
       "    <tr>\n",
       "      <th>0</th>\n",
       "      <td>Film and Animation</td>\n",
       "      <td>2017-05-21</td>\n",
       "      <td>http://www.youtube.com/channel/UCBJuEqXfXTdcPS...</td>\n",
       "      <td>MagnusNation</td>\n",
       "      <td>65100</td>\n",
       "      <td>28</td>\n",
       "      <td>UCBJuEqXfXTdcPSbGO9qqn1g</td>\n",
       "    </tr>\n",
       "    <tr>\n",
       "      <th>1</th>\n",
       "      <td>Entertainment</td>\n",
       "      <td>2011-12-13</td>\n",
       "      <td>http://www.youtube.com/channel/UCkNW9Q1VR_aeZ6...</td>\n",
       "      <td>Mago Dario Animazion...</td>\n",
       "      <td>60200</td>\n",
       "      <td>48</td>\n",
       "      <td>UCkNW9Q1VR_aeZ6uht83jJVQ</td>\n",
       "    </tr>\n",
       "    <tr>\n",
       "      <th>2</th>\n",
       "      <td>Music</td>\n",
       "      <td>2013-09-13</td>\n",
       "      <td>http://www.youtube.com/channel/UC1xcnrpcF59FWW...</td>\n",
       "      <td>Mägo de Oz - Topic</td>\n",
       "      <td>40200</td>\n",
       "      <td>395</td>\n",
       "      <td>UC1xcnrpcF59FWWELtZvJTdg</td>\n",
       "    </tr>\n",
       "    <tr>\n",
       "      <th>3</th>\n",
       "      <td>Music</td>\n",
       "      <td>2008-03-17</td>\n",
       "      <td>http://www.youtube.com/channel/UCXhkGgooXHDNwg...</td>\n",
       "      <td>Mago Merlino</td>\n",
       "      <td>14800</td>\n",
       "      <td>838</td>\n",
       "      <td>UCXhkGgooXHDNwgJXmoTSN7g</td>\n",
       "    </tr>\n",
       "    <tr>\n",
       "      <th>4</th>\n",
       "      <td>Entertainment</td>\n",
       "      <td>2014-10-19</td>\n",
       "      <td>http://www.youtube.com/channel/UCvZGsuvKlYOGiZ...</td>\n",
       "      <td>MAGO TOMÁS</td>\n",
       "      <td>26200</td>\n",
       "      <td>31</td>\n",
       "      <td>UCvZGsuvKlYOGiZTsxwJNS5Q</td>\n",
       "    </tr>\n",
       "  </tbody>\n",
       "</table>\n",
       "</div>"
      ],
      "text/plain": [
       "             category   join_date  \\\n",
       "0  Film and Animation  2017-05-21   \n",
       "1       Entertainment  2011-12-13   \n",
       "2               Music  2013-09-13   \n",
       "3               Music  2008-03-17   \n",
       "4       Entertainment  2014-10-19   \n",
       "\n",
       "                                                link                     name  \\\n",
       "0  http://www.youtube.com/channel/UCBJuEqXfXTdcPS...             MagnusNation   \n",
       "1  http://www.youtube.com/channel/UCkNW9Q1VR_aeZ6...  Mago Dario Animazion...   \n",
       "2  http://www.youtube.com/channel/UC1xcnrpcF59FWW...       Mägo de Oz - Topic   \n",
       "3  http://www.youtube.com/channel/UCXhkGgooXHDNwg...             Mago Merlino   \n",
       "4  http://www.youtube.com/channel/UCvZGsuvKlYOGiZ...               MAGO TOMÁS   \n",
       "\n",
       "   subscribers  videos                channel_id  \n",
       "0        65100      28  UCBJuEqXfXTdcPSbGO9qqn1g  \n",
       "1        60200      48  UCkNW9Q1VR_aeZ6uht83jJVQ  \n",
       "2        40200     395  UC1xcnrpcF59FWWELtZvJTdg  \n",
       "3        14800     838  UCXhkGgooXHDNwgJXmoTSN7g  \n",
       "4        26200      31  UCvZGsuvKlYOGiZTsxwJNS5Q  "
      ]
     },
     "execution_count": 54,
     "metadata": {},
     "output_type": "execute_result"
    }
   ],
   "source": [
    "df_channelcrawler.head()"
   ]
  },
  {
   "cell_type": "code",
   "execution_count": 57,
   "metadata": {},
   "outputs": [
    {
     "data": {
      "text/plain": [
       "(164648, 7)"
      ]
     },
     "execution_count": 57,
     "metadata": {},
     "output_type": "execute_result"
    }
   ],
   "source": [
    "df_channelcrawler.shape"
   ]
  },
  {
   "cell_type": "code",
   "execution_count": 62,
   "metadata": {},
   "outputs": [],
   "source": [
    "df_channelcrawler_100000sub = df_channelcrawler[df_channelcrawler['subscribers'] >= 100000]"
   ]
  },
  {
   "cell_type": "code",
   "execution_count": 9,
   "metadata": {},
   "outputs": [],
   "source": [
    "#store in a set since it will be faster to check if a channel is in channelcrawler\n",
    "set_channelcrawler = set(df_channelcrawler['channel_id'])"
   ]
  },
  {
   "cell_type": "code",
   "execution_count": 63,
   "metadata": {},
   "outputs": [],
   "source": [
    "set_channelcrawler_100000sub = set(df_channelcrawler_100000sub['channel_id'])"
   ]
  },
  {
   "cell_type": "markdown",
   "metadata": {},
   "source": [
    "## Remove non-english channels\n",
    "\n",
    "Here, I use langdetect\n",
    "\n",
    "Fishing for characters from different alphabets may let us with french-spanish-etc channels -> discuss with Manoel"
   ]
  },
  {
   "cell_type": "code",
   "execution_count": 10,
   "metadata": {},
   "outputs": [],
   "source": [
    "from langdetect import detect\n",
    "from langdetect import detect_langs\n",
    "\n",
    "from collections import Counter"
   ]
  },
  {
   "cell_type": "code",
   "execution_count": 11,
   "metadata": {},
   "outputs": [],
   "source": [
    "list_en_videos = []"
   ]
  },
  {
   "cell_type": "code",
   "execution_count": 12,
   "metadata": {},
   "outputs": [],
   "source": [
    "reader = Zreader(\"/dlabdata1/youtube_large/yt_metadata_all.jsonl.zst\", chunk_size=2**28)"
   ]
  },
  {
   "cell_type": "code",
   "execution_count": 13,
   "metadata": {},
   "outputs": [],
   "source": [
    "def detect_language(text):\n",
    "    '''Method that detect the language of the argument using langdetect'''\n",
    "    \n",
    "    # Create list to store the language detections\n",
    "    detections = []\n",
    "    \n",
    "    for i in range(5):\n",
    "        detections.append(detect(text))\n",
    "        \n",
    "    # Create the counter to get the most detected language\n",
    "    c = Counter(detections)\n",
    "    language_detected, _ = c.most_common()[0]\n",
    "    \n",
    "    print(detections)\n",
    "    return language_detected"
   ]
  },
  {
   "cell_type": "code",
   "execution_count": 14,
   "metadata": {},
   "outputs": [],
   "source": [
    "text = \"Bonjour, je m'appelle Olivier et j'ai twenty ans\""
   ]
  },
  {
   "cell_type": "code",
   "execution_count": 15,
   "metadata": {},
   "outputs": [
    {
     "name": "stdout",
     "output_type": "stream",
     "text": [
      "['nl', 'fr', 'fr', 'fr', 'fr']\n"
     ]
    },
    {
     "data": {
      "text/plain": [
       "'fr'"
      ]
     },
     "execution_count": 15,
     "metadata": {},
     "output_type": "execute_result"
    }
   ],
   "source": [
    "detect_language(text)"
   ]
  },
  {
   "cell_type": "code",
   "execution_count": null,
   "metadata": {},
   "outputs": [],
   "source": []
  },
  {
   "cell_type": "code",
   "execution_count": null,
   "metadata": {},
   "outputs": [],
   "source": []
  },
  {
   "cell_type": "markdown",
   "metadata": {},
   "source": [
    "## To ignore - Testing"
   ]
  },
  {
   "cell_type": "code",
   "execution_count": null,
   "metadata": {
    "scrolled": true
   },
   "outputs": [],
   "source": [
    "idx = 0\n",
    "for line in reader.readlines():\n",
    "    idx += 1\n",
    "    \n",
    "    if idx % 250 == 0:\n",
    "        break\n",
    "        \n",
    "    # line is a str dict, res is the dict corresponding to the str dict\n",
    "    res = json.loads(line)\n",
    "    \n",
    "    title = res['title']\n",
    "    description = res['description']\n",
    "    \n",
    "    if detect(title) == 'en' and res['channel_id'] in set_channelcrawler:\n",
    "        list_en_videos.append(res)\n",
    "    \n",
    "    try: \n",
    "        if description != '':\n",
    "            best_lang1 = str(detect_langs(description)[0])\n",
    "            best_lang2 = str(detect_langs(description)[0])\n",
    "            best_lang3 = str(detect_langs(description)[0])\n",
    "            print('Detect language from description: ' + detect(description))\n",
    "            print('Probability1 of languages from description: ' + best_lang1)\n",
    "            print('Probability2 of languages from description: ' + best_lang2)\n",
    "            print('Probability3 of languages from description: ' + best_lang3)\n",
    "            #print('')\n",
    "            \n",
    "            language, prob = best_lang1.split(':')[0], float(best_lang1.split(':')[1])\n",
    "            \n",
    "            if prob < 0.8:\n",
    "                print('Top1 lang detect from description with prob: ' + language + ' ' + str(prob))\n",
    "                print('Title of the video : ' + title)\n",
    "                print('Channel of the video : ' + res['channel_id'])\n",
    "                print('')\n",
    "        elif title != '':\n",
    "            try:\n",
    "                print('Detect language from title: ' + detect(title))\n",
    "                print('Probability of languages from title: ' + str(detect_langs(title)))\n",
    "                print('')\n",
    "            except:\n",
    "                print('Language not known for the video')\n",
    "                \n",
    "    except:\n",
    "        try:\n",
    "            if title != '':\n",
    "                print('Detect language from title: ' + detect(title))\n",
    "                print('Probability of languages from title: ' + str(detect_langs(title)))\n",
    "                print('')\n",
    "        except:\n",
    "            print('Language not known for the video')\n",
    "    \n",
    "        \n",
    "    "
   ]
  },
  {
   "cell_type": "code",
   "execution_count": 17,
   "metadata": {},
   "outputs": [
    {
     "data": {
      "text/plain": [
       "{'categories': 'Howto & Style',\n",
       " 'channel_id': 'UCzzzZ3-icktxbC3j7hkWqRw',\n",
       " 'crawl_date': '2019-11-08 05:24:10.745916',\n",
       " 'description': 'Benvenuto to Ciao Citalia, the blog from the leading Italian holiday specialist. Make Ciao Citalia your go-to for destination guides, food and wine features, recipes, and inspiration for things to see and do on your next holiday to Italy. You’ll also find first-hand accounts from our team on their travels through Italy, from a Tuscan honeymoon to a trip on the famous Venice Simplon-Orient-Express.\\n\\nTake a look now at https://ciao.citalia.com/',\n",
       " 'dislike_count': 2,\n",
       " 'display_id': 'FV_kEBb1XqU',\n",
       " 'duration': 63,\n",
       " 'like_count': 17,\n",
       " 'tags': 'Citalia,blog,italy,vog,videos,video,italian,food,wine,rome,venice,florence,milan,amalfi,coast,beach,holiday,travel,tips',\n",
       " 'title': 'Ciao Citalia | The blog from the Italian holiday specialists',\n",
       " 'upload_date': '2017-06-02 00:00:00',\n",
       " 'view_count': 1334}"
      ]
     },
     "execution_count": 17,
     "metadata": {},
     "output_type": "execute_result"
    }
   ],
   "source": [
    "list_en_videos[0]"
   ]
  },
  {
   "cell_type": "code",
   "execution_count": 18,
   "metadata": {},
   "outputs": [
    {
     "data": {
      "text/plain": [
       "165"
      ]
     },
     "execution_count": 18,
     "metadata": {},
     "output_type": "execute_result"
    }
   ],
   "source": [
    "len(list_en_videos)"
   ]
  },
  {
   "cell_type": "markdown",
   "metadata": {},
   "source": [
    "## Check rankings.jsonl"
   ]
  },
  {
   "cell_type": "code",
   "execution_count": 19,
   "metadata": {},
   "outputs": [],
   "source": [
    "rankings = []"
   ]
  },
  {
   "cell_type": "code",
   "execution_count": 20,
   "metadata": {},
   "outputs": [],
   "source": [
    "with open('/dlabdata1/youtube_large/rankings.jsonl', 'r') as json_file:\n",
    "    json_list = list(json_file)"
   ]
  },
  {
   "cell_type": "code",
   "execution_count": 21,
   "metadata": {},
   "outputs": [],
   "source": [
    "for json_str in json_list:\n",
    "    res = json.loads(json_str)\n",
    "    rankings.append(res)"
   ]
  },
  {
   "cell_type": "code",
   "execution_count": 22,
   "metadata": {},
   "outputs": [
    {
     "data": {
      "text/plain": [
       "164677"
      ]
     },
     "execution_count": 22,
     "metadata": {},
     "output_type": "execute_result"
    }
   ],
   "source": [
    "len(rankings)"
   ]
  },
  {
   "cell_type": "code",
   "execution_count": 23,
   "metadata": {},
   "outputs": [
    {
     "data": {
      "text/plain": [
       "{'success': True,\n",
       " 'data': {'social blade rank': 389823,\n",
       "  'subscriber rank': 231223,\n",
       "  'video views rank': 192084,\n",
       "  'country rank': 3,\n",
       "  'film rank': 11654,\n",
       "  'country': 'Anguilla'},\n",
       " 'crawl_time': '2020-02-17 16:40:48.336406',\n",
       " 'channel': 'UCBJuEqXfXTdcPSbGO9qqn1g'}"
      ]
     },
     "execution_count": 23,
     "metadata": {},
     "output_type": "execute_result"
    }
   ],
   "source": [
    "rankings[0]"
   ]
  },
  {
   "cell_type": "markdown",
   "metadata": {},
   "source": [
    "## Title, Tag and (Description) pre-processing per video"
   ]
  },
  {
   "cell_type": "code",
   "execution_count": 24,
   "metadata": {},
   "outputs": [],
   "source": [
    "video_test = list_en_videos[0]"
   ]
  },
  {
   "cell_type": "code",
   "execution_count": 25,
   "metadata": {},
   "outputs": [
    {
     "data": {
      "text/plain": [
       "'Ciao Citalia | The blog from the Italian holiday specialists'"
      ]
     },
     "execution_count": 25,
     "metadata": {},
     "output_type": "execute_result"
    }
   ],
   "source": [
    "video_test['title']"
   ]
  },
  {
   "cell_type": "code",
   "execution_count": 26,
   "metadata": {},
   "outputs": [
    {
     "name": "stderr",
     "output_type": "stream",
     "text": [
      "[nltk_data] Downloading package stopwords to /home/olam/nltk_data...\n",
      "[nltk_data]   Package stopwords is already up-to-date!\n"
     ]
    },
    {
     "data": {
      "text/plain": [
       "True"
      ]
     },
     "execution_count": 26,
     "metadata": {},
     "output_type": "execute_result"
    }
   ],
   "source": [
    "import nltk\n",
    "\n",
    "from nltk.tokenize import RegexpTokenizer\n",
    "from nltk.corpus import stopwords\n",
    "\n",
    "nltk.download('stopwords')"
   ]
  },
  {
   "cell_type": "markdown",
   "metadata": {},
   "source": [
    "#### Step 1 : lowercase, remove stop words and tokenize"
   ]
  },
  {
   "cell_type": "code",
   "execution_count": 27,
   "metadata": {},
   "outputs": [],
   "source": [
    "stop_words = set(stopwords.words('english'))"
   ]
  },
  {
   "cell_type": "code",
   "execution_count": 28,
   "metadata": {},
   "outputs": [],
   "source": [
    "tokenizer = RegexpTokenizer(r'\\w+')"
   ]
  },
  {
   "cell_type": "code",
   "execution_count": 29,
   "metadata": {},
   "outputs": [],
   "source": [
    "tokens_per_video = []"
   ]
  },
  {
   "cell_type": "code",
   "execution_count": 30,
   "metadata": {},
   "outputs": [],
   "source": [
    "title_tokens = [w for w in tokenizer.tokenize(video_test['title'].lower()) if not w in stop_words]"
   ]
  },
  {
   "cell_type": "code",
   "execution_count": 31,
   "metadata": {},
   "outputs": [],
   "source": [
    "tag_tokens = [w for w in tokenizer.tokenize(video_test['tags'].lower()) if not w in stop_words]"
   ]
  },
  {
   "cell_type": "code",
   "execution_count": 32,
   "metadata": {},
   "outputs": [
    {
     "name": "stdout",
     "output_type": "stream",
     "text": [
      "['ciao', 'citalia', 'blog', 'italian', 'holiday', 'specialists']\n"
     ]
    }
   ],
   "source": [
    "print(title_tokens)"
   ]
  },
  {
   "cell_type": "code",
   "execution_count": 33,
   "metadata": {},
   "outputs": [
    {
     "name": "stdout",
     "output_type": "stream",
     "text": [
      "['citalia', 'blog', 'italy', 'vog', 'videos', 'video', 'italian', 'food', 'wine', 'rome', 'venice', 'florence', 'milan', 'amalfi', 'coast', 'beach', 'holiday', 'travel', 'tips']\n"
     ]
    }
   ],
   "source": [
    "print(tag_tokens)"
   ]
  },
  {
   "cell_type": "code",
   "execution_count": 34,
   "metadata": {},
   "outputs": [],
   "source": [
    "# We want to keep duplicates !!\n",
    "tokens_per_video = title_tokens + tag_tokens"
   ]
  },
  {
   "cell_type": "code",
   "execution_count": 35,
   "metadata": {},
   "outputs": [
    {
     "name": "stdout",
     "output_type": "stream",
     "text": [
      "['ciao', 'citalia', 'blog', 'italian', 'holiday', 'specialists', 'citalia', 'blog', 'italy', 'vog', 'videos', 'video', 'italian', 'food', 'wine', 'rome', 'venice', 'florence', 'milan', 'amalfi', 'coast', 'beach', 'holiday', 'travel', 'tips']\n"
     ]
    }
   ],
   "source": [
    "print(tokens_per_video)"
   ]
  },
  {
   "cell_type": "markdown",
   "metadata": {},
   "source": [
    "#### Step 2 : Stemming\n",
    "\n",
    "Ask Manoel : Stemming vs Lemmatization for the task ? We have a huge dataset so we shouldn't juste lemmatization since it would take too much time right ? For tags, lemmatization make no sense since we do not have any sentences"
   ]
  },
  {
   "cell_type": "code",
   "execution_count": 36,
   "metadata": {},
   "outputs": [],
   "source": [
    "from nltk.stem.snowball import SnowballStemmer"
   ]
  },
  {
   "cell_type": "code",
   "execution_count": 37,
   "metadata": {},
   "outputs": [],
   "source": [
    "s_stemmer = SnowballStemmer(language='english')"
   ]
  },
  {
   "cell_type": "code",
   "execution_count": 38,
   "metadata": {},
   "outputs": [],
   "source": [
    "tokens_per_video_stemmed = [s_stemmer.stem(w) for w in tokens_per_video]"
   ]
  },
  {
   "cell_type": "code",
   "execution_count": 39,
   "metadata": {},
   "outputs": [
    {
     "name": "stdout",
     "output_type": "stream",
     "text": [
      "['ciao', 'citalia', 'blog', 'italian', 'holiday', 'specialist', 'citalia', 'blog', 'itali', 'vog', 'video', 'video', 'italian', 'food', 'wine', 'rome', 'venic', 'florenc', 'milan', 'amalfi', 'coast', 'beach', 'holiday', 'travel', 'tip']\n"
     ]
    }
   ],
   "source": [
    "print(tokens_per_video_stemmed)"
   ]
  },
  {
   "cell_type": "markdown",
   "metadata": {},
   "source": [
    "#### Step 3 : Putting it together"
   ]
  },
  {
   "cell_type": "code",
   "execution_count": 40,
   "metadata": {},
   "outputs": [
    {
     "name": "stderr",
     "output_type": "stream",
     "text": [
      "[nltk_data] Downloading package stopwords to /home/olam/nltk_data...\n",
      "[nltk_data]   Package stopwords is already up-to-date!\n"
     ]
    },
    {
     "data": {
      "text/plain": [
       "True"
      ]
     },
     "execution_count": 40,
     "metadata": {},
     "output_type": "execute_result"
    }
   ],
   "source": [
    "import nltk\n",
    "import collections\n",
    "\n",
    "from nltk.tokenize import RegexpTokenizer\n",
    "from nltk.corpus import stopwords\n",
    "from nltk.stem.snowball import SnowballStemmer\n",
    "\n",
    "nltk.download('stopwords')"
   ]
  },
  {
   "cell_type": "code",
   "execution_count": 41,
   "metadata": {},
   "outputs": [],
   "source": [
    "stop_words = set(stopwords.words('english'))\n",
    "tokenizer = RegexpTokenizer(r'\\w+')\n",
    "s_stemmer = SnowballStemmer(language='english')"
   ]
  },
  {
   "cell_type": "code",
   "execution_count": 42,
   "metadata": {},
   "outputs": [],
   "source": [
    "def get_freq_tokens_per_video(video):\n",
    "    title_tokens = [w for w in tokenizer.tokenize(video['title'].lower()) if not w in stop_words]\n",
    "    tag_tokens = [w for w in tokenizer.tokenize(video['tags'].lower()) if not w in stop_words]\n",
    "    \n",
    "    # We want to keep duplicates !!\n",
    "    tokens_per_video = title_tokens + tag_tokens\n",
    "\n",
    "    # Stemming\n",
    "    stemmed_tokens_per_video = ([s_stemmer.stem(w) for w in tokens_per_video])\n",
    "    \n",
    "    # Return a Counter object of the tokens\n",
    "    return collections.Counter(stemmed_tokens_per_video)"
   ]
  },
  {
   "cell_type": "code",
   "execution_count": 44,
   "metadata": {},
   "outputs": [
    {
     "name": "stdout",
     "output_type": "stream",
     "text": [
      "Counter({'citalia': 2, 'blog': 2, 'italian': 2, 'holiday': 2, 'video': 2, 'ciao': 1, 'specialist': 1, 'itali': 1, 'vog': 1, 'food': 1, 'wine': 1, 'rome': 1, 'venic': 1, 'florenc': 1, 'milan': 1, 'amalfi': 1, 'coast': 1, 'beach': 1, 'travel': 1, 'tip': 1})\n"
     ]
    }
   ],
   "source": [
    "print(get_freq_tokens_per_video(list_en_videos[0]))"
   ]
  },
  {
   "cell_type": "markdown",
   "metadata": {},
   "source": [
    "## Create Sparse Matrix "
   ]
  },
  {
   "cell_type": "code",
   "execution_count": 45,
   "metadata": {},
   "outputs": [],
   "source": [
    "from scipy.sparse import dok_matrix\n",
    "from sys import getsizeof"
   ]
  },
  {
   "cell_type": "code",
   "execution_count": 46,
   "metadata": {},
   "outputs": [],
   "source": [
    "list_stemmed_tokens = set()"
   ]
  },
  {
   "cell_type": "code",
   "execution_count": 47,
   "metadata": {},
   "outputs": [],
   "source": [
    "for video in list_en_videos:\n",
    "    tokens_per_video = get_freq_tokens_per_video(video).keys()\n",
    "    list_stemmed_tokens.update(tokens_per_video)"
   ]
  },
  {
   "cell_type": "code",
   "execution_count": 48,
   "metadata": {
    "scrolled": true
   },
   "outputs": [],
   "source": [
    "list_stemmed_tokens = list(list_stemmed_tokens)"
   ]
  },
  {
   "cell_type": "code",
   "execution_count": 49,
   "metadata": {},
   "outputs": [
    {
     "data": {
      "text/plain": [
       "891"
      ]
     },
     "execution_count": 49,
     "metadata": {},
     "output_type": "execute_result"
    }
   ],
   "source": [
    "len(list_stemmed_tokens)"
   ]
  },
  {
   "cell_type": "code",
   "execution_count": 50,
   "metadata": {},
   "outputs": [],
   "source": [
    "size_of_tokens_dict = len(list_stemmed_tokens)"
   ]
  },
  {
   "cell_type": "code",
   "execution_count": 51,
   "metadata": {},
   "outputs": [],
   "source": [
    "number_videos = len(list_en_videos)"
   ]
  },
  {
   "cell_type": "code",
   "execution_count": 52,
   "metadata": {},
   "outputs": [],
   "source": [
    "S = dok_matrix((number_videos, size_of_tokens_dict))"
   ]
  },
  {
   "cell_type": "code",
   "execution_count": 53,
   "metadata": {},
   "outputs": [],
   "source": [
    "def fill_underlying_dict(freq_tokens_per_video, list_stemmed_tokens, dict_freq_tokens_for_sparse_matrix, idx_video):\n",
    "    '''Method to fill the underlying dictionnary in order to \n",
    "    update the sparse matrix incrementally by videos'''\n",
    "    \n",
    "    for key in freq_tokens_per_video.keys():\n",
    "        \n",
    "        # Column index in the sparse matrix (one column for each token)\n",
    "        idy_token = list_stemmed_tokens.index(key)\n",
    "    \n",
    "        # Filling the underlying dict\n",
    "        dict_freq_tokens_for_sparse_matrix[(idx_video, idy_token)] = freq_tokens_per_video[key]\n",
    "    "
   ]
  },
  {
   "cell_type": "code",
   "execution_count": 54,
   "metadata": {},
   "outputs": [],
   "source": [
    "# Row index in the sparse matrix (one row for each video)\n",
    "idx_video = 0\n",
    "\n",
    "for video in list_en_videos:\n",
    "    # For each video, create a underlying dictionnary for filling the sparse matrix efficiently\n",
    "    dict_freq_tokens_for_sparse_matrix = {}\n",
    "    \n",
    "    # Get the tokens for each video and theirs number of occurences\n",
    "    freq_tokens_per_video = get_freq_tokens_per_video(video)\n",
    "    \n",
    "    # Fill the underlying dict\n",
    "    fill_underlying_dict(freq_tokens_per_video, list_stemmed_tokens, dict_freq_tokens_for_sparse_matrix, idx_video)\n",
    "        \n",
    "    # Update the Sparse Matrix\n",
    "    dict.update(S, dict_freq_tokens_for_sparse_matrix)\n",
    "    \n",
    "    # Increment Row index for next video\n",
    "    idx_video += 1"
   ]
  },
  {
   "cell_type": "code",
   "execution_count": 55,
   "metadata": {},
   "outputs": [
    {
     "data": {
      "text/plain": [
       "<165x891 sparse matrix of type '<class 'numpy.float64'>'\n",
       "\twith 2772 stored elements in Dictionary Of Keys format>"
      ]
     },
     "execution_count": 55,
     "metadata": {},
     "output_type": "execute_result"
    }
   ],
   "source": [
    "S"
   ]
  },
  {
   "cell_type": "code",
   "execution_count": 56,
   "metadata": {},
   "outputs": [
    {
     "data": {
      "text/plain": [
       "165"
      ]
     },
     "execution_count": 56,
     "metadata": {},
     "output_type": "execute_result"
    }
   ],
   "source": [
    "len(list_en_videos)"
   ]
  },
  {
   "cell_type": "code",
   "execution_count": null,
   "metadata": {},
   "outputs": [],
   "source": [
    "S.items()"
   ]
  },
  {
   "cell_type": "markdown",
   "metadata": {},
   "source": [
    "## Group freq_tokens_per_videos by channel"
   ]
  },
  {
   "cell_type": "code",
   "execution_count": 58,
   "metadata": {},
   "outputs": [],
   "source": [
    "tokens_per_channel = {}\n",
    "channels_in_dict = set()"
   ]
  },
  {
   "cell_type": "code",
   "execution_count": null,
   "metadata": {},
   "outputs": [],
   "source": []
  },
  {
   "cell_type": "code",
   "execution_count": 59,
   "metadata": {},
   "outputs": [],
   "source": [
    "for vid in list_en_videos:\n",
    "    if vid['channel_id'] in channels_in_dict:\n",
    "        tokens_per_channel[vid['channel_id']] = tokens_per_channel[vid['channel_id']] + get_freq_tokens_per_video(vid)\n",
    "    else:\n",
    "        tokens_per_channel[vid['channel_id']] = get_freq_tokens_per_video(vid)\n",
    "        channels_in_dict.add(vid['channel_id'])"
   ]
  },
  {
   "cell_type": "code",
   "execution_count": null,
   "metadata": {},
   "outputs": [],
   "source": []
  },
  {
   "cell_type": "code",
   "execution_count": null,
   "metadata": {},
   "outputs": [],
   "source": []
  },
  {
   "cell_type": "markdown",
   "metadata": {},
   "source": [
    "## Analysis of the data : check noisyness of videos and channels"
   ]
  },
  {
   "cell_type": "code",
   "execution_count": 3,
   "metadata": {},
   "outputs": [],
   "source": [
    "n_vid_per_1000_view = {}\n",
    "n_views_list = set()"
   ]
  },
  {
   "cell_type": "code",
   "execution_count": 4,
   "metadata": {},
   "outputs": [],
   "source": [
    "n_vid_per_channel = {}\n",
    "channels = set()"
   ]
  },
  {
   "cell_type": "code",
   "execution_count": 5,
   "metadata": {},
   "outputs": [],
   "source": [
    "def update_vid_views(n_vid_per_1000_view, n_views_list, video):\n",
    "    \n",
    "    try:\n",
    "        n_view = math.ceil(video['view_count'] / 1000)\n",
    "    except KeyError:\n",
    "        n_view = None\n",
    "        \n",
    "    if n_view in n_views_list:\n",
    "        n_vid_per_1000_view[n_view] += 1\n",
    "    else:\n",
    "        n_vid_per_1000_view[n_view] = 1\n",
    "        n_views_list.add(n_view)"
   ]
  },
  {
   "cell_type": "code",
   "execution_count": 6,
   "metadata": {},
   "outputs": [],
   "source": [
    "def update_vid_per_channel(n_vid_per_channel, channels, video):\n",
    "    \n",
    "    channel = video['channel_id']\n",
    "    \n",
    "    if channel in channels:\n",
    "        n_vid_per_channel[channel] += 1\n",
    "    else:\n",
    "        n_vid_per_channel[channel] = 1\n",
    "        channels.add(channel)"
   ]
  },
  {
   "cell_type": "code",
   "execution_count": 15,
   "metadata": {},
   "outputs": [],
   "source": [
    "reader = Zreader(\"/dlabdata1/youtube_large/yt_metadata_all.jsonl.zst\", chunk_size=2**28)"
   ]
  },
  {
   "cell_type": "code",
   "execution_count": 8,
   "metadata": {},
   "outputs": [],
   "source": [
    "view_counts = []\n",
    "dates = []"
   ]
  },
  {
   "cell_type": "code",
   "execution_count": 9,
   "metadata": {},
   "outputs": [
    {
     "name": "stdout",
     "output_type": "stream",
     "text": [
      "Processed 10000000 videos.\n",
      "Processed 20000000 videos.\n",
      "Processed 30000000 videos.\n",
      "Processed 40000000 videos.\n",
      "Processed 50000000 videos.\n",
      "Processed 60000000 videos.\n",
      "Processed 70000000 videos.\n",
      "Processed 80000000 videos.\n"
     ]
    }
   ],
   "source": [
    "idx = 0\n",
    "for line in reader.readlines():\n",
    "    #start_iter = time.time()\n",
    "    idx += 1\n",
    "    \n",
    "    if idx % 10000000 == 0:\n",
    "        print('Processed ' + str(idx) + ' videos.')\n",
    "        \n",
    "    video = json.loads(line)\n",
    "    try:\n",
    "        view_counts.append(video['view_count'])\n",
    "    except KeyError:\n",
    "        None\n",
    "    try:\n",
    "        dates.append(video['upload_date'])\n",
    "    except KeyError:\n",
    "        None"
   ]
  },
  {
   "cell_type": "code",
   "execution_count": 10,
   "metadata": {},
   "outputs": [
    {
     "data": {
      "text/plain": [
       "'2005-05-24 00:00:00'"
      ]
     },
     "execution_count": 10,
     "metadata": {},
     "output_type": "execute_result"
    }
   ],
   "source": [
    "min(dates)"
   ]
  },
  {
   "cell_type": "code",
   "execution_count": 11,
   "metadata": {},
   "outputs": [
    {
     "data": {
      "text/plain": [
       "'2019-11-20 00:00:00'"
      ]
     },
     "execution_count": 11,
     "metadata": {},
     "output_type": "execute_result"
    }
   ],
   "source": [
    "max(dates)"
   ]
  },
  {
   "cell_type": "code",
   "execution_count": 16,
   "metadata": {
    "scrolled": false
   },
   "outputs": [
    {
     "name": "stdout",
     "output_type": "stream",
     "text": [
      "Processed 1000000 videos.\n",
      "Processed 2000000 videos.\n",
      "Processed 3000000 videos.\n",
      "Processed 4000000 videos.\n",
      "Processed 5000000 videos.\n",
      "Processed 6000000 videos.\n",
      "Processed 7000000 videos.\n",
      "Processed 8000000 videos.\n",
      "Processed 9000000 videos.\n",
      "Processed 10000000 videos.\n",
      "Processed 11000000 videos.\n",
      "Processed 12000000 videos.\n",
      "Processed 13000000 videos.\n",
      "Processed 14000000 videos.\n",
      "Processed 15000000 videos.\n",
      "Processed 16000000 videos.\n",
      "Processed 17000000 videos.\n",
      "Processed 18000000 videos.\n",
      "Processed 19000000 videos.\n",
      "Processed 20000000 videos.\n",
      "Processed 21000000 videos.\n",
      "Processed 22000000 videos.\n",
      "Processed 23000000 videos.\n",
      "Processed 24000000 videos.\n",
      "Processed 25000000 videos.\n",
      "Processed 26000000 videos.\n",
      "Processed 27000000 videos.\n",
      "Processed 28000000 videos.\n",
      "Processed 29000000 videos.\n",
      "Processed 30000000 videos.\n",
      "Processed 31000000 videos.\n",
      "Processed 32000000 videos.\n",
      "Processed 33000000 videos.\n",
      "Processed 34000000 videos.\n",
      "Processed 35000000 videos.\n",
      "Processed 36000000 videos.\n",
      "Processed 37000000 videos.\n",
      "Processed 38000000 videos.\n",
      "Processed 39000000 videos.\n",
      "Processed 40000000 videos.\n",
      "Processed 41000000 videos.\n",
      "Processed 42000000 videos.\n",
      "Processed 43000000 videos.\n",
      "Processed 44000000 videos.\n",
      "Processed 45000000 videos.\n",
      "Processed 46000000 videos.\n",
      "Processed 47000000 videos.\n",
      "Processed 48000000 videos.\n",
      "Processed 49000000 videos.\n",
      "Processed 50000000 videos.\n",
      "Processed 51000000 videos.\n",
      "Processed 52000000 videos.\n",
      "Processed 53000000 videos.\n",
      "Processed 54000000 videos.\n",
      "Processed 55000000 videos.\n",
      "Processed 56000000 videos.\n",
      "Processed 57000000 videos.\n",
      "Processed 58000000 videos.\n",
      "Processed 59000000 videos.\n",
      "Processed 60000000 videos.\n",
      "Processed 61000000 videos.\n",
      "Processed 62000000 videos.\n",
      "Processed 63000000 videos.\n",
      "Processed 64000000 videos.\n",
      "Processed 65000000 videos.\n",
      "Processed 66000000 videos.\n",
      "Processed 67000000 videos.\n",
      "Processed 68000000 videos.\n",
      "Processed 69000000 videos.\n",
      "Processed 70000000 videos.\n",
      "Processed 71000000 videos.\n",
      "Processed 72000000 videos.\n",
      "Processed 73000000 videos.\n",
      "Processed 74000000 videos.\n",
      "Processed 75000000 videos.\n",
      "Processed 76000000 videos.\n",
      "Processed 77000000 videos.\n",
      "Processed 78000000 videos.\n",
      "Processed 79000000 videos.\n",
      "Processed 80000000 videos.\n",
      "Processed 81000000 videos.\n",
      "Processed 82000000 videos.\n",
      "Processed 83000000 videos.\n",
      "Processed 84000000 videos.\n",
      "Processed 85000000 videos.\n"
     ]
    }
   ],
   "source": [
    "idx = 0\n",
    "\n",
    "# Variable that contains the idx of every non english vid and that\n",
    "# belongs to a channel in channelcrawler.csv TO BE USED IN SECOND ITER\n",
    "idx_vid_to_consider = set()\n",
    "\n",
    "# Variable first instanciated as set to check existing tokens efficiently, \n",
    "# which will be a list in order to get the index for each tokens\n",
    "list_stemmed_tokens = set()\n",
    "\n",
    "for line in reader.readlines():\n",
    "    #start_iter = time.time()\n",
    "    idx += 1\n",
    "    \n",
    "    if idx % 1000000 == 0:\n",
    "        print('Processed ' + str(idx) + ' videos.')\n",
    "        \n",
    "        \n",
    "    # line is a str dict, video is the dict corresponding to the str dict\n",
    "    video = json.loads(line)\n",
    "    \n",
    "    update_vid_views(n_vid_per_1000_view, n_views_list, video)\n",
    "    update_vid_per_channel(n_vid_per_channel, channels, video)"
   ]
  },
  {
   "cell_type": "code",
   "execution_count": 17,
   "metadata": {},
   "outputs": [
    {
     "data": {
      "text/plain": [
       "674"
      ]
     },
     "execution_count": 17,
     "metadata": {},
     "output_type": "execute_result"
    }
   ],
   "source": [
    "n_vid_per_1000_view.pop(None)"
   ]
  },
  {
   "cell_type": "code",
   "execution_count": 18,
   "metadata": {},
   "outputs": [
    {
     "name": "stdout",
     "output_type": "stream",
     "text": [
      "Total number of videos : 85421645\n"
     ]
    }
   ],
   "source": [
    "number_total_vid = idx\n",
    "print('Total number of videos : ' + str(number_total_vid))"
   ]
  },
  {
   "cell_type": "code",
   "execution_count": 19,
   "metadata": {},
   "outputs": [
    {
     "data": {
      "text/plain": [
       "52730"
      ]
     },
     "execution_count": 19,
     "metadata": {},
     "output_type": "execute_result"
    }
   ],
   "source": [
    "len(n_vid_per_1000_view)"
   ]
  },
  {
   "cell_type": "code",
   "execution_count": 20,
   "metadata": {},
   "outputs": [
    {
     "data": {
      "text/plain": [
       "33.96078593429101"
      ]
     },
     "execution_count": 20,
     "metadata": {},
     "output_type": "execute_result"
    }
   ],
   "source": [
    "n_vid_per_1000_view[1] / number_total_vid * 100"
   ]
  },
  {
   "cell_type": "code",
   "execution_count": 21,
   "metadata": {},
   "outputs": [
    {
     "data": {
      "text/plain": [
       "29009862"
      ]
     },
     "execution_count": 21,
     "metadata": {},
     "output_type": "execute_result"
    }
   ],
   "source": [
    "n_vid_per_1000_view[1]"
   ]
  },
  {
   "cell_type": "code",
   "execution_count": 22,
   "metadata": {},
   "outputs": [
    {
     "data": {
      "text/plain": [
       "41652"
      ]
     },
     "execution_count": 22,
     "metadata": {},
     "output_type": "execute_result"
    }
   ],
   "source": [
    "list(n_vid_per_1000_view.keys())[52729]"
   ]
  },
  {
   "cell_type": "code",
   "execution_count": 23,
   "metadata": {},
   "outputs": [
    {
     "data": {
      "text/plain": [
       "1757.6666666666667"
      ]
     },
     "execution_count": 23,
     "metadata": {},
     "output_type": "execute_result"
    }
   ],
   "source": [
    "len(n_vid_per_1000_view) / 30"
   ]
  },
  {
   "cell_type": "code",
   "execution_count": 24,
   "metadata": {},
   "outputs": [],
   "source": [
    "n_vid_per_1000_view = dict(sorted(n_vid_per_1000_view.items()))"
   ]
  },
  {
   "cell_type": "code",
   "execution_count": 29,
   "metadata": {},
   "outputs": [],
   "source": [
    "sorted_view_counts = sorted(view_counts)"
   ]
  },
  {
   "cell_type": "code",
   "execution_count": 30,
   "metadata": {},
   "outputs": [
    {
     "data": {
      "text/plain": [
       "85420971"
      ]
     },
     "execution_count": 30,
     "metadata": {},
     "output_type": "execute_result"
    }
   ],
   "source": [
    "len(sorted_view_counts)"
   ]
  },
  {
   "cell_type": "code",
   "execution_count": 31,
   "metadata": {},
   "outputs": [
    {
     "data": {
      "text/plain": [
       "6509934494"
      ]
     },
     "execution_count": 31,
     "metadata": {},
     "output_type": "execute_result"
    }
   ],
   "source": [
    "sorted_view_counts[-1]"
   ]
  },
  {
   "cell_type": "code",
   "execution_count": 32,
   "metadata": {},
   "outputs": [
    {
     "data": {
      "text/plain": [
       "(array([76718., 31595., 17411., 10740.,  7198.,  4986.,  3875.,  2817.,\n",
       "         2297.,  1849.,  1532.,  1211.,  1046.,   897.,   734.,   671.,\n",
       "          563.,   516.,   422.,   419.,   387.,   357.,   304.,   278.,\n",
       "          248.,   217.,   193.,   187.,   176.,   156.]),\n",
       " array([1.00000000e+00, 1.15433333e+02, 2.29866667e+02, 3.44300000e+02,\n",
       "        4.58733333e+02, 5.73166667e+02, 6.87600000e+02, 8.02033333e+02,\n",
       "        9.16466667e+02, 1.03090000e+03, 1.14533333e+03, 1.25976667e+03,\n",
       "        1.37420000e+03, 1.48863333e+03, 1.60306667e+03, 1.71750000e+03,\n",
       "        1.83193333e+03, 1.94636667e+03, 2.06080000e+03, 2.17523333e+03,\n",
       "        2.28966667e+03, 2.40410000e+03, 2.51853333e+03, 2.63296667e+03,\n",
       "        2.74740000e+03, 2.86183333e+03, 2.97626667e+03, 3.09070000e+03,\n",
       "        3.20513333e+03, 3.31956667e+03, 3.43400000e+03]),\n",
       " <a list of 30 Patch objects>)"
      ]
     },
     "execution_count": 32,
     "metadata": {},
     "output_type": "execute_result"
    },
    {
     "data": {
      "image/png": "[encoded data removed]",
      "text/plain": [
       "<Figure size 1080x1440 with 2 Axes>"
      ]
     },
     "metadata": {
      "needs_background": "light"
     },
     "output_type": "display_data"
    }
   ],
   "source": [
    "fig, (ax1, ax2) = plt.subplots(nrows=2, ncols=1, figsize=(15, 20))\n",
    "\n",
    "ax1.set_title('Number of videos for the number of views', fontsize=20)\n",
    "ax1.set_xlabel('Number of views', fontsize=16)\n",
    "ax1.set_ylabel('Number of videos', fontsize=16)\n",
    "\n",
    "ax1.set_yscale('log')\n",
    "ax1.grid('on')\n",
    "\n",
    "ax1.hist(sorted(view_counts)[:85420800], bins=30)\n",
    "\n",
    "ax2.set_title('Number of channels per number of videos contained in a channel', fontsize=20)\n",
    "ax2.set_xlabel('Number of videos', fontsize=16)\n",
    "ax2.set_ylabel('Number of channels', fontsize=16)\n",
    "\n",
    "ax2.set_yscale('log')\n",
    "ax2.grid('on')\n",
    "\n",
    "ax2.hist(sorted(list(n_vid_per_channel.values()))[:170000], bins=30)\n",
    "\n"
   ]
  },
  {
   "cell_type": "code",
   "execution_count": 33,
   "metadata": {},
   "outputs": [],
   "source": [
    "fig.savefig('/home/olam/test_plot')"
   ]
  },
  {
   "cell_type": "code",
   "execution_count": 38,
   "metadata": {},
   "outputs": [],
   "source": [
    "n_vid_per_channel_sorted = sorted(list(n_vid_per_channel.values()))"
   ]
  },
  {
   "cell_type": "code",
   "execution_count": 39,
   "metadata": {},
   "outputs": [],
   "source": [
    "n_vid_per_channel_sorted_sub = n_vid_per_channel_sorted[:150000]"
   ]
  },
  {
   "cell_type": "code",
   "execution_count": 40,
   "metadata": {},
   "outputs": [
    {
     "data": {
      "text/plain": [
       "173574"
      ]
     },
     "execution_count": 40,
     "metadata": {},
     "output_type": "execute_result"
    }
   ],
   "source": [
    "len(channels)"
   ]
  },
  {
   "cell_type": "code",
   "execution_count": 41,
   "metadata": {},
   "outputs": [
    {
     "name": "stdout",
     "output_type": "stream",
     "text": [
      "Number of channels with only 1 uploaded videos : 22877\n"
     ]
    }
   ],
   "source": [
    "n_channels_with_1_vid = 0\n",
    "for i, n in enumerate(n_vid_per_channel_sorted):\n",
    "    if n ==21:\n",
    "        n_channels_with_1_vid = i\n",
    "        break\n",
    "        \n",
    "print('Number of channels with only 1 uploaded videos : ' + str(n_channels_with_1_vid))"
   ]
  },
  {
   "cell_type": "code",
   "execution_count": 23,
   "metadata": {},
   "outputs": [
    {
     "data": {
      "text/plain": [
       "4.921820088262066"
      ]
     },
     "execution_count": 23,
     "metadata": {},
     "output_type": "execute_result"
    }
   ],
   "source": [
    "8543 / len(channels) * 100 # with 1 vid"
   ]
  },
  {
   "cell_type": "code",
   "execution_count": 24,
   "metadata": {},
   "outputs": [
    {
     "data": {
      "text/plain": [
       "8.124488690702524"
      ]
     },
     "execution_count": 24,
     "metadata": {},
     "output_type": "execute_result"
    }
   ],
   "source": [
    "14102 / len(channels) * 100 # less or eq than 10 vid"
   ]
  },
  {
   "cell_type": "code",
   "execution_count": 42,
   "metadata": {},
   "outputs": [
    {
     "data": {
      "text/plain": [
       "13.179969350248308"
      ]
     },
     "execution_count": 42,
     "metadata": {},
     "output_type": "execute_result"
    }
   ],
   "source": [
    "22877 / len(channels) * 100 # less or eq than 20 vid"
   ]
  },
  {
   "cell_type": "code",
   "execution_count": 25,
   "metadata": {},
   "outputs": [],
   "source": [
    "channels_with_1_vid = []\n",
    "for channel_id, n_vid in n_vid_per_channel.items():\n",
    "    if n_vid == 1:\n",
    "        channels_with_1_vid.append(channel_id)"
   ]
  },
  {
   "cell_type": "code",
   "execution_count": 27,
   "metadata": {},
   "outputs": [
    {
     "data": {
      "text/plain": [
       "8543"
      ]
     },
     "execution_count": 27,
     "metadata": {},
     "output_type": "execute_result"
    }
   ],
   "source": [
    "len(channels_with_1_vid)"
   ]
  },
  {
   "cell_type": "code",
   "execution_count": 28,
   "metadata": {},
   "outputs": [],
   "source": [
    "with open('/dlabdata1/youtube_large/olam/channels_with_1_vid.pickle', 'wb') as f:\n",
    "    pickle.dump(channels_with_1_vid, f)\n",
    "f.close()"
   ]
  },
  {
   "cell_type": "code",
   "execution_count": 45,
   "metadata": {},
   "outputs": [
    {
     "data": {
      "text/plain": [
       "0.8"
      ]
     },
     "execution_count": 45,
     "metadata": {},
     "output_type": "execute_result"
    }
   ],
   "source": [
    "68/85"
   ]
  },
  {
   "cell_type": "code",
   "execution_count": 34,
   "metadata": {},
   "outputs": [
    {
     "data": {
      "text/plain": [
       "85420971"
      ]
     },
     "execution_count": 34,
     "metadata": {},
     "output_type": "execute_result"
    }
   ],
   "source": [
    "len(sorted_view_counts)"
   ]
  },
  {
   "cell_type": "code",
   "execution_count": 35,
   "metadata": {},
   "outputs": [],
   "source": [
    "video_sub10kviews = []\n",
    "\n",
    "for elem in sorted_view_counts:\n",
    "    video_sub10kviews.append(elem)\n",
    "    if elem >= 10000:\n",
    "        break"
   ]
  },
  {
   "cell_type": "code",
   "execution_count": 48,
   "metadata": {},
   "outputs": [
    {
     "data": {
      "text/plain": [
       "1003276408"
      ]
     },
     "execution_count": 48,
     "metadata": {},
     "output_type": "execute_result"
    }
   ],
   "source": [
    "sorted_view_counts[85420813]"
   ]
  },
  {
   "cell_type": "code",
   "execution_count": 49,
   "metadata": {},
   "outputs": [
    {
     "data": {
      "text/plain": [
       "158"
      ]
     },
     "execution_count": 49,
     "metadata": {},
     "output_type": "execute_result"
    }
   ],
   "source": [
    "85420971 - 85420813"
   ]
  },
  {
   "cell_type": "code",
   "execution_count": 59,
   "metadata": {},
   "outputs": [],
   "source": [
    "n_vid_10000view = []\n",
    "for nview in sorted_view_counts:\n",
    "    if nview < 10000:\n",
    "        n_vid_10000view.append(nview)\n",
    "    else:\n",
    "        break"
   ]
  },
  {
   "cell_type": "code",
   "execution_count": 60,
   "metadata": {},
   "outputs": [
    {
     "data": {
      "text/plain": [
       "58477100"
      ]
     },
     "execution_count": 60,
     "metadata": {},
     "output_type": "execute_result"
    }
   ],
   "source": [
    "len(n_vid_10000view)"
   ]
  },
  {
   "cell_type": "code",
   "execution_count": 65,
   "metadata": {},
   "outputs": [],
   "source": [
    "reader = Zreader(\"/dlabdata1/youtube_large/yt_metadata_all.jsonl.zst\", chunk_size=2**28)"
   ]
  },
  {
   "cell_type": "code",
   "execution_count": null,
   "metadata": {},
   "outputs": [],
   "source": [
    "idx = 0\n",
    "\n",
    "idx_to_considered_chan100000_vid10000 = []\n",
    "\n",
    "for line in reader.readlines():\n",
    "    idx += 1\n",
    "    \n",
    "    if idx % 1000000 == 0:\n",
    "        print('Processed ' + str(idx) + ' videos.')\n",
    "        \n",
    "        \n",
    "    # line is a str dict, video is the dict corresponding to the str dict\n",
    "    video = json.loads(line)\n",
    "    \n",
    "    try:\n",
    "        view_counts = video['view_count']\n",
    "    except KeyError:\n",
    "        view_counts = 0\n",
    "    \n",
    "    if view_counts >= 10000 and video['channel_id'] in set_channelcrawler_100000sub:\n",
    "        idx_to_considered_chan100000_vid10000.append(idx)"
   ]
  },
  {
   "cell_type": "code",
   "execution_count": 68,
   "metadata": {},
   "outputs": [
    {
     "data": {
      "text/plain": [
       "18964188"
      ]
     },
     "execution_count": 68,
     "metadata": {},
     "output_type": "execute_result"
    }
   ],
   "source": [
    "len(idx_to_considered_chan100000_vid10000)"
   ]
  },
  {
   "cell_type": "markdown",
   "metadata": {},
   "source": [
    "#### Updated with the new dataset"
   ]
  },
  {
   "cell_type": "code",
   "execution_count": 34,
   "metadata": {},
   "outputs": [],
   "source": [
    "from datetime import datetime"
   ]
  },
  {
   "cell_type": "code",
   "execution_count": 37,
   "metadata": {},
   "outputs": [],
   "source": [
    "# List that contains the number of views for all videos\n",
    "n_views = []\n",
    "\n",
    "# First video from dataset\n",
    "first_video_date = datetime.today()\n",
    "\n",
    "# Last video from dataset\n",
    "last_video_date = datetime(2000, 1, 1)"
   ]
  },
  {
   "cell_type": "code",
   "execution_count": 38,
   "metadata": {},
   "outputs": [
    {
     "name": "stdout",
     "output_type": "stream",
     "text": [
      "{'categories': 'Film & Animation', 'channel_id': 'UCzWrhkg9eK5I8Bm3HfV-unA', 'crawl_date': '2019-10-31 20:19:26.270363', 'description': 'Lego City Police Lego Firetruck Cartoons about Lego City Movie for kids with a nice long video to keep the kids entertained while learning and having fun with the Lego City characters from Lego City undercover. Thanks for watching!', 'dislike_count': 1.0, 'display_id': 'SBqSc91Hn9g', 'duration': 1159, 'like_count': 8.0, 'tags': 'lego city,lego police,lego city police,lego city episodes,videos de lego city,lego policia,lego bomberos,lego fire truck,lego firetruck,lego police chase,lego robbers,lego cartoons,lego movies,lego videos for kids', 'title': 'Lego City Police Lego Firetruck Cartoons about Lego City Movie for kids Episodes', 'upload_date': '2016-09-28 00:00:00', 'view_count': 1057.0}\n"
     ]
    }
   ],
   "source": [
    "with gzip.open('/dlabdata1/youtube_large/yt_metadata_en.jsonl.gz', 'rb') as f:\n",
    "    \n",
    "    for i, line in enumerate(f):\n",
    "        \n",
    "        if i >= 1:\n",
    "            break\n",
    "        \n",
    "        video = json.loads(line)\n",
    "        print(video)"
   ]
  },
  {
   "cell_type": "code",
   "execution_count": 46,
   "metadata": {},
   "outputs": [
    {
     "name": "stdout",
     "output_type": "stream",
     "text": [
      "Checked 0 videos...\n",
      "Checked 2000000 videos...\n",
      "Checked 4000000 videos...\n",
      "Checked 6000000 videos...\n",
      "Checked 8000000 videos...\n",
      "Checked 10000000 videos...\n",
      "Checked 12000000 videos...\n",
      "Checked 14000000 videos...\n",
      "Checked 16000000 videos...\n",
      "Checked 18000000 videos...\n",
      "Checked 20000000 videos...\n",
      "Checked 22000000 videos...\n",
      "Checked 24000000 videos...\n",
      "Checked 26000000 videos...\n",
      "Checked 28000000 videos...\n",
      "Checked 30000000 videos...\n",
      "Checked 32000000 videos...\n",
      "Checked 34000000 videos...\n",
      "Checked 36000000 videos...\n",
      "Checked 38000000 videos...\n",
      "Checked 40000000 videos...\n",
      "Checked 42000000 videos...\n",
      "Checked 44000000 videos...\n",
      "Checked 46000000 videos...\n",
      "Checked 48000000 videos...\n",
      "Checked 50000000 videos...\n",
      "Checked 52000000 videos...\n",
      "Checked 54000000 videos...\n",
      "Checked 56000000 videos...\n",
      "Checked 58000000 videos...\n",
      "Checked 60000000 videos...\n",
      "Checked 62000000 videos...\n",
      "Checked 64000000 videos...\n",
      "Checked 66000000 videos...\n",
      "Checked 68000000 videos...\n",
      "Checked 70000000 videos...\n",
      "Checked 72000000 videos...\n"
     ]
    }
   ],
   "source": [
    "with gzip.open('/dlabdata1/youtube_large/yt_metadata_en.jsonl.gz', 'rb') as f:\n",
    "    \n",
    "    for i, line in enumerate(f):\n",
    "        \n",
    "        if i%2000000 == 0:\n",
    "            print('Checked ' + str(i) + ' videos...')\n",
    "        \n",
    "        video = json.loads(line)\n",
    "        \n",
    "        try:\n",
    "            n_views.append(int(video['view_count']))\n",
    "        except:\n",
    "            None\n",
    "        \n",
    "        try:\n",
    "            uploaded_date = datetime.strptime(video['upload_date'][:10], '%Y-%m-%d')\n",
    "\n",
    "            if uploaded_date >= last_video_date:\n",
    "                last_video_date = uploaded_date\n",
    "\n",
    "            if uploaded_date <= first_video_date:\n",
    "                first_video_date = uploaded_date\n",
    "        except:\n",
    "            None\n"
   ]
  },
  {
   "cell_type": "code",
   "execution_count": 47,
   "metadata": {},
   "outputs": [
    {
     "data": {
      "text/plain": [
       "datetime.datetime(2005, 5, 24, 0, 0)"
      ]
     },
     "execution_count": 47,
     "metadata": {},
     "output_type": "execute_result"
    }
   ],
   "source": [
    "first_video_date"
   ]
  },
  {
   "cell_type": "code",
   "execution_count": 48,
   "metadata": {},
   "outputs": [
    {
     "data": {
      "text/plain": [
       "datetime.datetime(2019, 11, 20, 0, 0)"
      ]
     },
     "execution_count": 48,
     "metadata": {},
     "output_type": "execute_result"
    }
   ],
   "source": [
    "last_video_date"
   ]
  },
  {
   "cell_type": "code",
   "execution_count": 51,
   "metadata": {},
   "outputs": [
    {
     "data": {
      "text/plain": [
       "73301516"
      ]
     },
     "execution_count": 51,
     "metadata": {},
     "output_type": "execute_result"
    }
   ],
   "source": [
    "len(n_views)"
   ]
  },
  {
   "cell_type": "code",
   "execution_count": 52,
   "metadata": {},
   "outputs": [],
   "source": [
    "n_views = sorted(n_views)"
   ]
  },
  {
   "cell_type": "code",
   "execution_count": 65,
   "metadata": {},
   "outputs": [
    {
     "data": {
      "text/plain": [
       "1003276408"
      ]
     },
     "execution_count": 65,
     "metadata": {},
     "output_type": "execute_result"
    }
   ],
   "source": [
    "n_views[-136]"
   ]
  },
  {
   "cell_type": "code",
   "execution_count": 62,
   "metadata": {},
   "outputs": [],
   "source": [
    "n_views_sub_billion = n_views[:-136]"
   ]
  },
  {
   "cell_type": "code",
   "execution_count": 66,
   "metadata": {},
   "outputs": [
    {
     "data": {
      "text/plain": [
       "73301380"
      ]
     },
     "execution_count": 66,
     "metadata": {},
     "output_type": "execute_result"
    }
   ],
   "source": [
    "len(n_views_sub_billion)"
   ]
  },
  {
   "cell_type": "code",
   "execution_count": 63,
   "metadata": {},
   "outputs": [
    {
     "data": {
      "text/plain": [
       "999383011"
      ]
     },
     "execution_count": 63,
     "metadata": {},
     "output_type": "execute_result"
    }
   ],
   "source": [
    "n_views_sub_billion[-1]"
   ]
  },
  {
   "cell_type": "code",
   "execution_count": 119,
   "metadata": {},
   "outputs": [],
   "source": [
    "n_views_sub_thousand = 0\n",
    "for elem in n_views:\n",
    "    if elem <= 1000:\n",
    "        n_views_sub_thousand += 1\n",
    "    else:\n",
    "        break"
   ]
  },
  {
   "cell_type": "code",
   "execution_count": 120,
   "metadata": {},
   "outputs": [
    {
     "data": {
      "text/plain": [
       "24559810"
      ]
     },
     "execution_count": 120,
     "metadata": {},
     "output_type": "execute_result"
    }
   ],
   "source": [
    "n_views_sub_thousand"
   ]
  },
  {
   "cell_type": "code",
   "execution_count": 68,
   "metadata": {},
   "outputs": [
    {
     "data": {
      "text/plain": [
       "(array([7.3278859e+07, 1.3948000e+04, 3.6770000e+03, 1.6990000e+03,\n",
       "        9.0700000e+02, 5.4800000e+02, 3.7200000e+02, 2.7200000e+02,\n",
       "        1.9900000e+02, 1.5000000e+02, 1.2000000e+02, 8.6000000e+01,\n",
       "        7.4000000e+01, 6.3000000e+01, 5.2000000e+01, 5.2000000e+01,\n",
       "        4.3000000e+01, 3.3000000e+01, 3.7000000e+01, 2.6000000e+01,\n",
       "        3.1000000e+01, 2.6000000e+01, 1.8000000e+01, 1.9000000e+01,\n",
       "        8.0000000e+00, 1.9000000e+01, 1.3000000e+01, 1.1000000e+01,\n",
       "        8.0000000e+00, 1.0000000e+01]),\n",
       " array([0.00000000e+00, 3.33127670e+07, 6.66255341e+07, 9.99383011e+07,\n",
       "        1.33251068e+08, 1.66563835e+08, 1.99876602e+08, 2.33189369e+08,\n",
       "        2.66502136e+08, 2.99814903e+08, 3.33127670e+08, 3.66440437e+08,\n",
       "        3.99753204e+08, 4.33065971e+08, 4.66378738e+08, 4.99691506e+08,\n",
       "        5.33004273e+08, 5.66317040e+08, 5.99629807e+08, 6.32942574e+08,\n",
       "        6.66255341e+08, 6.99568108e+08, 7.32880875e+08, 7.66193642e+08,\n",
       "        7.99506409e+08, 8.32819176e+08, 8.66131943e+08, 8.99444710e+08,\n",
       "        9.32757477e+08, 9.66070244e+08, 9.99383011e+08]),\n",
       " <BarContainer object of 30 artists>)"
      ]
     },
     "execution_count": 68,
     "metadata": {},
     "output_type": "execute_result"
    },
    {
     "data": {
      "image/png": "[encoded data removed]",
      "text/plain": [
       "<Figure size 864x720 with 1 Axes>"
      ]
     },
     "metadata": {
      "needs_background": "light"
     },
     "output_type": "display_data"
    }
   ],
   "source": [
    "fig, ax = plt.subplots(figsize=(12, 10))\n",
    "\n",
    "ax.set_title('Number of videos for the number of views', fontsize=20)\n",
    "ax.set_xlabel('Number of views', fontsize=16)\n",
    "ax.set_ylabel('Number of videos', fontsize=16)\n",
    "\n",
    "ax.set_yscale('log')\n",
    "ax.grid('on')\n",
    "\n",
    "ax.hist(n_views_sub_billion, bins=30)"
   ]
  },
  {
   "cell_type": "code",
   "execution_count": 69,
   "metadata": {},
   "outputs": [],
   "source": [
    "fig.savefig('n_vid_per_view')"
   ]
  },
  {
   "cell_type": "code",
   "execution_count": 5,
   "metadata": {},
   "outputs": [
    {
     "data": {
      "text/html": [
       "<div>\n",
       "<style scoped>\n",
       "    .dataframe tbody tr th:only-of-type {\n",
       "        vertical-align: middle;\n",
       "    }\n",
       "\n",
       "    .dataframe tbody tr th {\n",
       "        vertical-align: top;\n",
       "    }\n",
       "\n",
       "    .dataframe thead th {\n",
       "        text-align: right;\n",
       "    }\n",
       "</style>\n",
       "<table border=\"1\" class=\"dataframe\">\n",
       "  <thead>\n",
       "    <tr style=\"text-align: right;\">\n",
       "      <th></th>\n",
       "      <th>category_cc</th>\n",
       "      <th>join_date</th>\n",
       "      <th>channel</th>\n",
       "      <th>name_cc</th>\n",
       "      <th>subscribers_cc</th>\n",
       "      <th>videos_cc</th>\n",
       "      <th>subscriber_rank_sb</th>\n",
       "      <th>weights</th>\n",
       "    </tr>\n",
       "  </thead>\n",
       "  <tbody>\n",
       "    <tr>\n",
       "      <th>0</th>\n",
       "      <td>Gaming</td>\n",
       "      <td>2010-04-29</td>\n",
       "      <td>UC-lHJZR3Gqxm24_Vd_AJ5Yw</td>\n",
       "      <td>PewDiePie</td>\n",
       "      <td>101000000</td>\n",
       "      <td>3956</td>\n",
       "      <td>3.0</td>\n",
       "      <td>2.087</td>\n",
       "    </tr>\n",
       "    <tr>\n",
       "      <th>1</th>\n",
       "      <td>Education</td>\n",
       "      <td>2006-09-01</td>\n",
       "      <td>UCbCmjCuTUZos6Inko4u57UQ</td>\n",
       "      <td>Cocomelon - Nursery ...</td>\n",
       "      <td>60100000</td>\n",
       "      <td>458</td>\n",
       "      <td>7.0</td>\n",
       "      <td>2.087</td>\n",
       "    </tr>\n",
       "    <tr>\n",
       "      <th>2</th>\n",
       "      <td>Entertainment</td>\n",
       "      <td>2006-09-20</td>\n",
       "      <td>UCpEhnqL0y41EpW2TvWAHD7Q</td>\n",
       "      <td>SET India</td>\n",
       "      <td>56018869</td>\n",
       "      <td>32661</td>\n",
       "      <td>8.0</td>\n",
       "      <td>2.087</td>\n",
       "    </tr>\n",
       "    <tr>\n",
       "      <th>3</th>\n",
       "      <td>Howto &amp; Style</td>\n",
       "      <td>2016-11-15</td>\n",
       "      <td>UC295-Dw_tDNtZXFeAPAW6Aw</td>\n",
       "      <td>5-Minute Crafts</td>\n",
       "      <td>60600000</td>\n",
       "      <td>3591</td>\n",
       "      <td>9.0</td>\n",
       "      <td>2.087</td>\n",
       "    </tr>\n",
       "    <tr>\n",
       "      <th>4</th>\n",
       "      <td>Sports</td>\n",
       "      <td>2007-05-11</td>\n",
       "      <td>UCJ5v_MCY6GNUBTO8-D3XoAg</td>\n",
       "      <td>WWE</td>\n",
       "      <td>48400000</td>\n",
       "      <td>43421</td>\n",
       "      <td>11.0</td>\n",
       "      <td>2.087</td>\n",
       "    </tr>\n",
       "  </tbody>\n",
       "</table>\n",
       "</div>"
      ],
      "text/plain": [
       "     category_cc   join_date                   channel  \\\n",
       "0         Gaming  2010-04-29  UC-lHJZR3Gqxm24_Vd_AJ5Yw   \n",
       "1      Education  2006-09-01  UCbCmjCuTUZos6Inko4u57UQ   \n",
       "2  Entertainment  2006-09-20  UCpEhnqL0y41EpW2TvWAHD7Q   \n",
       "3  Howto & Style  2016-11-15  UC295-Dw_tDNtZXFeAPAW6Aw   \n",
       "4         Sports  2007-05-11  UCJ5v_MCY6GNUBTO8-D3XoAg   \n",
       "\n",
       "                   name_cc  subscribers_cc  videos_cc  subscriber_rank_sb  \\\n",
       "0                PewDiePie       101000000       3956                 3.0   \n",
       "1  Cocomelon - Nursery ...        60100000        458                 7.0   \n",
       "2                SET India        56018869      32661                 8.0   \n",
       "3          5-Minute Crafts        60600000       3591                 9.0   \n",
       "4                      WWE        48400000      43421                11.0   \n",
       "\n",
       "   weights  \n",
       "0    2.087  \n",
       "1    2.087  \n",
       "2    2.087  \n",
       "3    2.087  \n",
       "4    2.087  "
      ]
     },
     "execution_count": 5,
     "metadata": {},
     "output_type": "execute_result"
    }
   ],
   "source": [
    "df_channelcrawler = pd.read_csv(\n",
    "        '/dlabdata1/youtube_large/df_channels_en.tsv.gz', sep='\\t')\n",
    "df_channelcrawler.head()"
   ]
  },
  {
   "cell_type": "code",
   "execution_count": 12,
   "metadata": {},
   "outputs": [
    {
     "data": {
      "text/html": [
       "<div>\n",
       "<style scoped>\n",
       "    .dataframe tbody tr th:only-of-type {\n",
       "        vertical-align: middle;\n",
       "    }\n",
       "\n",
       "    .dataframe tbody tr th {\n",
       "        vertical-align: top;\n",
       "    }\n",
       "\n",
       "    .dataframe thead th {\n",
       "        text-align: right;\n",
       "    }\n",
       "</style>\n",
       "<table border=\"1\" class=\"dataframe\">\n",
       "  <thead>\n",
       "    <tr style=\"text-align: right;\">\n",
       "      <th></th>\n",
       "      <th>subscribers_cc</th>\n",
       "      <th>videos_cc</th>\n",
       "      <th>subscriber_rank_sb</th>\n",
       "      <th>weights</th>\n",
       "    </tr>\n",
       "  </thead>\n",
       "  <tbody>\n",
       "    <tr>\n",
       "      <th>count</th>\n",
       "      <td>1.364700e+05</td>\n",
       "      <td>136470.000000</td>\n",
       "      <td>1.364700e+05</td>\n",
       "      <td>136470.000000</td>\n",
       "    </tr>\n",
       "    <tr>\n",
       "      <th>mean</th>\n",
       "      <td>2.466022e+05</td>\n",
       "      <td>699.784231</td>\n",
       "      <td>3.570087e+05</td>\n",
       "      <td>7.349363</td>\n",
       "    </tr>\n",
       "    <tr>\n",
       "      <th>std</th>\n",
       "      <td>1.150096e+06</td>\n",
       "      <td>4524.980928</td>\n",
       "      <td>2.711139e+05</td>\n",
       "      <td>5.277328</td>\n",
       "    </tr>\n",
       "    <tr>\n",
       "      <th>min</th>\n",
       "      <td>1.000000e+04</td>\n",
       "      <td>10.000000</td>\n",
       "      <td>3.000000e+00</td>\n",
       "      <td>2.086500</td>\n",
       "    </tr>\n",
       "    <tr>\n",
       "      <th>25%</th>\n",
       "      <td>1.888575e+04</td>\n",
       "      <td>70.000000</td>\n",
       "      <td>1.161305e+05</td>\n",
       "      <td>4.231500</td>\n",
       "    </tr>\n",
       "    <tr>\n",
       "      <th>50%</th>\n",
       "      <td>4.240000e+04</td>\n",
       "      <td>175.000000</td>\n",
       "      <td>3.015670e+05</td>\n",
       "      <td>6.444000</td>\n",
       "    </tr>\n",
       "    <tr>\n",
       "      <th>75%</th>\n",
       "      <td>1.370000e+05</td>\n",
       "      <td>443.000000</td>\n",
       "      <td>5.704942e+05</td>\n",
       "      <td>9.243500</td>\n",
       "    </tr>\n",
       "    <tr>\n",
       "      <th>max</th>\n",
       "      <td>1.121395e+08</td>\n",
       "      <td>461923.000000</td>\n",
       "      <td>1.030844e+06</td>\n",
       "      <td>53.150500</td>\n",
       "    </tr>\n",
       "  </tbody>\n",
       "</table>\n",
       "</div>"
      ],
      "text/plain": [
       "       subscribers_cc      videos_cc  subscriber_rank_sb        weights\n",
       "count    1.364700e+05  136470.000000        1.364700e+05  136470.000000\n",
       "mean     2.466022e+05     699.784231        3.570087e+05       7.349363\n",
       "std      1.150096e+06    4524.980928        2.711139e+05       5.277328\n",
       "min      1.000000e+04      10.000000        3.000000e+00       2.086500\n",
       "25%      1.888575e+04      70.000000        1.161305e+05       4.231500\n",
       "50%      4.240000e+04     175.000000        3.015670e+05       6.444000\n",
       "75%      1.370000e+05     443.000000        5.704942e+05       9.243500\n",
       "max      1.121395e+08  461923.000000        1.030844e+06      53.150500"
      ]
     },
     "execution_count": 12,
     "metadata": {},
     "output_type": "execute_result"
    }
   ],
   "source": [
    "df_channelcrawler.describe()"
   ]
  },
  {
   "cell_type": "code",
   "execution_count": 8,
   "metadata": {},
   "outputs": [],
   "source": [
    "# List that contains the number of subscribers for all channels\n",
    "n_sub = list(df_channelcrawler['subscribers_cc'])\n",
    "\n",
    "# List that contains the number of videos per channels\n",
    "n_vid_per_channel = list(df_channelcrawler['videos_cc'])"
   ]
  },
  {
   "cell_type": "code",
   "execution_count": 9,
   "metadata": {},
   "outputs": [
    {
     "data": {
      "text/plain": [
       "136470"
      ]
     },
     "execution_count": 9,
     "metadata": {},
     "output_type": "execute_result"
    }
   ],
   "source": [
    "len(n_sub)"
   ]
  },
  {
   "cell_type": "code",
   "execution_count": 10,
   "metadata": {},
   "outputs": [
    {
     "data": {
      "text/plain": [
       "136470"
      ]
     },
     "execution_count": 10,
     "metadata": {},
     "output_type": "execute_result"
    }
   ],
   "source": [
    "len(n_vid_per_channel)"
   ]
  },
  {
   "cell_type": "code",
   "execution_count": 11,
   "metadata": {},
   "outputs": [
    {
     "data": {
      "text/plain": [
       "(136470, 8)"
      ]
     },
     "execution_count": 11,
     "metadata": {},
     "output_type": "execute_result"
    }
   ],
   "source": [
    "df_channelcrawler.shape"
   ]
  },
  {
   "cell_type": "code",
   "execution_count": 72,
   "metadata": {},
   "outputs": [],
   "source": [
    "n_sub = sorted(n_sub)\n",
    "n_vid_per_channel = sorted(n_vid_per_channel)"
   ]
  },
  {
   "cell_type": "code",
   "execution_count": 79,
   "metadata": {},
   "outputs": [
    {
     "data": {
      "text/plain": [
       "106505"
      ]
     },
     "execution_count": 79,
     "metadata": {},
     "output_type": "execute_result"
    }
   ],
   "source": [
    "n_vid_per_channel[-50]"
   ]
  },
  {
   "cell_type": "code",
   "execution_count": 77,
   "metadata": {},
   "outputs": [
    {
     "data": {
      "text/plain": [
       "23400000"
      ]
     },
     "execution_count": 77,
     "metadata": {},
     "output_type": "execute_result"
    }
   ],
   "source": [
    "n_sub[-50]"
   ]
  },
  {
   "cell_type": "code",
   "execution_count": 124,
   "metadata": {},
   "outputs": [
    {
     "data": {
      "text/plain": [
       "(array([1.33217e+05, 1.79100e+03, 5.13000e+02, 2.51000e+02, 1.22000e+02,\n",
       "        8.20000e+01, 7.70000e+01, 4.40000e+01, 3.40000e+01, 2.60000e+01,\n",
       "        3.80000e+01, 3.00000e+01, 2.30000e+01, 3.30000e+01, 2.10000e+01,\n",
       "        1.60000e+01, 7.00000e+00, 5.00000e+00, 5.00000e+00, 5.00000e+00,\n",
       "        1.20000e+01, 9.00000e+00, 7.00000e+00, 5.00000e+00, 4.00000e+00,\n",
       "        3.00000e+00, 3.00000e+00, 2.00000e+00, 6.00000e+00, 2.90000e+01]),\n",
       " array([1.00000000e+01, 3.55373333e+03, 7.09746667e+03, 1.06412000e+04,\n",
       "        1.41849333e+04, 1.77286667e+04, 2.12724000e+04, 2.48161333e+04,\n",
       "        2.83598667e+04, 3.19036000e+04, 3.54473333e+04, 3.89910667e+04,\n",
       "        4.25348000e+04, 4.60785333e+04, 4.96222667e+04, 5.31660000e+04,\n",
       "        5.67097333e+04, 6.02534667e+04, 6.37972000e+04, 6.73409333e+04,\n",
       "        7.08846667e+04, 7.44284000e+04, 7.79721333e+04, 8.15158667e+04,\n",
       "        8.50596000e+04, 8.86033333e+04, 9.21470667e+04, 9.56908000e+04,\n",
       "        9.92345333e+04, 1.02778267e+05, 1.06322000e+05]),\n",
       " <BarContainer object of 30 artists>)"
      ]
     },
     "execution_count": 124,
     "metadata": {},
     "output_type": "execute_result"
    },
    {
     "data": {
      "image/png": "[encoded data removed]",
      "text/plain": [
       "<Figure size 1440x504 with 2 Axes>"
      ]
     },
     "metadata": {
      "needs_background": "light"
     },
     "output_type": "display_data"
    }
   ],
   "source": [
    "fig, (ax1, ax2) = plt.subplots(nrows=1, ncols=2, figsize=(20, 7))\n",
    "\n",
    "ax1.set_title('Number of channels per number of subscriber', fontsize=20)\n",
    "ax1.set_xlabel('Number of subscribers', fontsize=16)\n",
    "ax1.set_ylabel('Number of videos', fontsize=16)\n",
    "\n",
    "ax1.set_yscale('log')\n",
    "ax1.grid('on')\n",
    "\n",
    "ax1.hist(n_sub[:-50], bins=30)\n",
    "\n",
    "ax2.set_title('Number of channels per number of videos in a channel', fontsize=20)\n",
    "ax2.set_xlabel('Number of videos', fontsize=16)\n",
    "ax2.set_ylabel('Number of channels', fontsize=16)\n",
    "\n",
    "ax2.set_yscale('log')\n",
    "ax2.grid('on')\n",
    "\n",
    "ax2.hist(n_vid_per_channel[:-50], bins=30)\n",
    "\n",
    "\n"
   ]
  },
  {
   "cell_type": "code",
   "execution_count": 125,
   "metadata": {},
   "outputs": [],
   "source": [
    "fig.savefig('channels_informations')"
   ]
  },
  {
   "cell_type": "code",
   "execution_count": 84,
   "metadata": {},
   "outputs": [],
   "source": [
    "S = scipy.sparse.load_npz('/dlabdata1/youtube_large/olam/data/final_res/matrices/S_full.npz')"
   ]
  },
  {
   "cell_type": "code",
   "execution_count": 87,
   "metadata": {},
   "outputs": [
    {
     "data": {
      "text/plain": [
       "<17000000x2320172 sparse matrix of type '<class 'numpy.uint8'>'\n",
       "\twith 434000892 stored elements in Compressed Sparse Row format>"
      ]
     },
     "execution_count": 87,
     "metadata": {},
     "output_type": "execute_result"
    }
   ],
   "source": [
    "S"
   ]
  },
  {
   "cell_type": "code",
   "execution_count": 88,
   "metadata": {},
   "outputs": [],
   "source": [
    "def remove_zero_rows(M):\n",
    "    '''Function that removes all rows from sparse matrix M that contains only zero.\n",
    "\n",
    "    Parameter\n",
    "    ----------\n",
    "    M : sparse matrix\n",
    "\n",
    "    Returns\n",
    "    ----------\n",
    "    The same sparse matrix as in parameter without the zero rows\n",
    "    '''\n",
    "    num_nonzeros = np.diff(M.indptr)\n",
    "    return M[num_nonzeros != 0]"
   ]
  },
  {
   "cell_type": "code",
   "execution_count": 89,
   "metadata": {},
   "outputs": [],
   "source": [
    "S = remove_zero_rows(S)"
   ]
  },
  {
   "cell_type": "code",
   "execution_count": 90,
   "metadata": {},
   "outputs": [
    {
     "data": {
      "text/plain": [
       "<16412321x2320172 sparse matrix of type '<class 'numpy.uint8'>'\n",
       "\twith 434000892 stored elements in Compressed Sparse Row format>"
      ]
     },
     "execution_count": 90,
     "metadata": {},
     "output_type": "execute_result"
    }
   ],
   "source": [
    "S"
   ]
  },
  {
   "cell_type": "code",
   "execution_count": 91,
   "metadata": {},
   "outputs": [],
   "source": [
    "sum_rows = S.sum(axis=1)"
   ]
  },
  {
   "cell_type": "code",
   "execution_count": 95,
   "metadata": {},
   "outputs": [],
   "source": [
    "sum_rows = np.squeeze(np.asarray(sum_rows))"
   ]
  },
  {
   "cell_type": "code",
   "execution_count": 98,
   "metadata": {},
   "outputs": [
    {
     "data": {
      "text/plain": [
       "47.84212720431193"
      ]
     },
     "execution_count": 98,
     "metadata": {},
     "output_type": "execute_result"
    }
   ],
   "source": [
    "np.average(sum_rows)"
   ]
  },
  {
   "cell_type": "code",
   "execution_count": 103,
   "metadata": {},
   "outputs": [],
   "source": [
    "category_count = {}"
   ]
  },
  {
   "cell_type": "code",
   "execution_count": 104,
   "metadata": {},
   "outputs": [
    {
     "name": "stdout",
     "output_type": "stream",
     "text": [
      "Checked 0 videos...\n",
      "Checked 5000000 videos...\n",
      "Checked 15000000 videos...\n",
      "Checked 20000000 videos...\n",
      "Checked 25000000 videos...\n",
      "Checked 30000000 videos...\n",
      "Checked 35000000 videos...\n",
      "Checked 40000000 videos...\n",
      "Checked 45000000 videos...\n",
      "Checked 50000000 videos...\n",
      "Checked 55000000 videos...\n",
      "Checked 60000000 videos...\n",
      "Checked 65000000 videos...\n",
      "Checked 70000000 videos...\n"
     ]
    }
   ],
   "source": [
    "with gzip.open('/dlabdata1/youtube_large/yt_metadata_en.jsonl.gz', 'rb') as f:\n",
    "    \n",
    "    for i, line in enumerate(f):\n",
    "        \n",
    "        if i%5000000 == 0:\n",
    "            print('Checked ' + str(i) + ' videos...')\n",
    "        \n",
    "        video = json.loads(line)\n",
    "        \n",
    "\n",
    "        try:\n",
    "            category = video['categories']\n",
    "\n",
    "            if category not in category_count.keys():\n",
    "                category_count[category] = 1\n",
    "            else:\n",
    "                category_count[category] += 1\n",
    "        except:\n",
    "            None\n",
    "\n"
   ]
  },
  {
   "cell_type": "code",
   "execution_count": 105,
   "metadata": {},
   "outputs": [
    {
     "data": {
      "text/plain": [
       "{'Film & Animation': 2359736,\n",
       " 'Gaming': 13720303,\n",
       " 'Education': 3795564,\n",
       " 'People & Blogs': 6910666,\n",
       " 'Entertainment': 12276397,\n",
       " 'Autos & Vehicles': 2256967,\n",
       " 'Comedy': 1172503,\n",
       " 'Sports': 4354412,\n",
       " 'News & Politics': 8881022,\n",
       " 'Music': 8305003,\n",
       " 'Howto & Style': 3968127,\n",
       " 'Science & Technology': 2403004,\n",
       " 'Travel & Events': 1096565,\n",
       " 'Pets & Animals': 645508,\n",
       " 'Nonprofits & Activism': 777449,\n",
       " '': 1522,\n",
       " 'Shows': 41,\n",
       " 'Movies': 5}"
      ]
     },
     "execution_count": 105,
     "metadata": {},
     "output_type": "execute_result"
    }
   ],
   "source": [
    "category_count"
   ]
  },
  {
   "cell_type": "code",
   "execution_count": 106,
   "metadata": {},
   "outputs": [],
   "source": [
    "video_counts = category_count.values()\n",
    "categories = category_count.keys()"
   ]
  },
  {
   "cell_type": "code",
   "execution_count": 107,
   "metadata": {},
   "outputs": [
    {
     "data": {
      "text/plain": [
       "dict_keys(['Film & Animation', 'Gaming', 'Education', 'People & Blogs', 'Entertainment', 'Autos & Vehicles', 'Comedy', 'Sports', 'News & Politics', 'Music', 'Howto & Style', 'Science & Technology', 'Travel & Events', 'Pets & Animals', 'Nonprofits & Activism', '', 'Shows', 'Movies'])"
      ]
     },
     "execution_count": 107,
     "metadata": {},
     "output_type": "execute_result"
    }
   ],
   "source": [
    "categories"
   ]
  },
  {
   "cell_type": "code",
   "execution_count": 108,
   "metadata": {},
   "outputs": [
    {
     "data": {
      "text/plain": [
       "dict_values([2359736, 13720303, 3795564, 6910666, 12276397, 2256967, 1172503, 4354412, 8881022, 8305003, 3968127, 2403004, 1096565, 645508, 777449, 1522, 41, 5])"
      ]
     },
     "execution_count": 108,
     "metadata": {},
     "output_type": "execute_result"
    }
   ],
   "source": [
    "video_counts"
   ]
  },
  {
   "cell_type": "code",
   "execution_count": 129,
   "metadata": {},
   "outputs": [
    {
     "name": "stderr",
     "output_type": "stream",
     "text": [
      "<ipython-input-129-26469cdf3bd0>:6: UserWarning: FixedFormatter should only be used together with FixedLocator\n",
      "  ax.set_xticklabels(categories, Rotation=60)\n",
      "<ipython-input-129-26469cdf3bd0>:6: MatplotlibDeprecationWarning: Case-insensitive properties were deprecated in 3.3 and support will be removed two minor releases later\n",
      "  ax.set_xticklabels(categories, Rotation=60)\n"
     ]
    },
    {
     "data": {
      "text/plain": [
       "<BarContainer object of 18 artists>"
      ]
     },
     "execution_count": 129,
     "metadata": {},
     "output_type": "execute_result"
    },
    {
     "data": {
      "image/png": "[encoded data removed]",
      "text/plain": [
       "<Figure size 720x360 with 1 Axes>"
      ]
     },
     "metadata": {
      "needs_background": "light"
     },
     "output_type": "display_data"
    }
   ],
   "source": [
    "fig, ax = plt.subplots(figsize=(10, 5))\n",
    "\n",
    "ax.set_title('Number of videos per category', fontsize=20)\n",
    "ax.set_ylabel('Number of videos', fontsize=16)\n",
    "\n",
    "ax.set_xticklabels(categories, Rotation=60) \n",
    "ax.yaxis.grid()\n",
    "\n",
    "ax.bar(categories, video_counts)"
   ]
  },
  {
   "cell_type": "code",
   "execution_count": 118,
   "metadata": {},
   "outputs": [],
   "source": [
    "fig.savefig('n_vid_per_cat')"
   ]
  },
  {
   "cell_type": "code",
   "execution_count": null,
   "metadata": {},
   "outputs": [],
   "source": []
  }
 ],
 "metadata": {
  "kernelspec": {
   "display_name": "Python 3",
   "language": "python",
   "name": "python3"
  },
  "language_info": {
   "codemirror_mode": {
    "name": "ipython",
    "version": 3
   },
   "file_extension": ".py",
   "mimetype": "text/x-python",
   "name": "python",
   "nbconvert_exporter": "python",
   "pygments_lexer": "ipython3",
   "version": "3.8.3"
  },
  "toc": {
   "base_numbering": 1,
   "nav_menu": {},
   "number_sections": true,
   "sideBar": true,
   "skip_h1_title": false,
   "title_cell": "Table of Contents",
   "title_sidebar": "Contents",
   "toc_cell": false,
   "toc_position": {},
   "toc_section_display": true,
   "toc_window_display": false
  }
 },
 "nbformat": 4,
 "nbformat_minor": 4
}
