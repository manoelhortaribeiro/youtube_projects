{
 "cells": [
  {
   "cell_type": "code",
   "execution_count": 1,
   "metadata": {},
   "outputs": [
    {
     "name": "stderr",
     "output_type": "stream",
     "text": [
      "[nltk_data] Downloading package stopwords to /home/olam/nltk_data...\n",
      "[nltk_data]   Package stopwords is already up-to-date!\n"
     ]
    },
    {
     "data": {
      "text/plain": [
       "True"
      ]
     },
     "execution_count": 1,
     "metadata": {},
     "output_type": "execute_result"
    }
   ],
   "source": [
    "import collections\n",
    "import fasttext\n",
    "import json\n",
    "import nltk\n",
    "import pickle\n",
    "import scipy.sparse\n",
    "import sys\n",
    "import time\n",
    "\n",
    "import numpy as np\n",
    "import pandas as pd\n",
    "import zstandard as zstd\n",
    "\n",
    "from collections import Counter\n",
    "from langdetect import detect\n",
    "from nltk.corpus import stopwords\n",
    "from nltk.stem.snowball import SnowballStemmer\n",
    "from nltk.tokenize import RegexpTokenizer\n",
    "from scipy.sparse import dok_matrix\n",
    "\n",
    "nltk.download('stopwords')"
   ]
  },
  {
   "cell_type": "code",
   "execution_count": 66,
   "metadata": {},
   "outputs": [],
   "source": [
    "stop_words = set(stopwords.words('english'))\n",
    "tokenizer = RegexpTokenizer(r'\\w+')\n",
    "s_stemmer = SnowballStemmer(language='english')"
   ]
  },
  {
   "cell_type": "code",
   "execution_count": 56,
   "metadata": {},
   "outputs": [],
   "source": [
    "class Zreader:\n",
    "\n",
    "    def __init__(self, file, chunk_size=16384):\n",
    "        '''Init method'''\n",
    "        self.fh = open(file,'rb')\n",
    "        self.chunk_size = chunk_size\n",
    "        self.dctx = zstd.ZstdDecompressor()\n",
    "        self.reader = self.dctx.stream_reader(self.fh)\n",
    "        self.buffer = ''\n",
    "\n",
    "\n",
    "    def readlines(self):\n",
    "        '''Generator method that creates an iterator for each line of JSON'''\n",
    "        while True:\n",
    "            chunk = self.reader.read(self.chunk_size).decode(errors=\"ignore\")\n",
    "            if not chunk:\n",
    "                break\n",
    "            lines = (self.buffer + chunk).split(\"\\n\")\n",
    "\n",
    "            for line in lines[:-1]:\n",
    "                yield line\n",
    "\n",
    "            self.buffer = lines[-1]"
   ]
  },
  {
   "cell_type": "code",
   "execution_count": 57,
   "metadata": {},
   "outputs": [],
   "source": [
    "class LanguageIdentification:\n",
    "\n",
    "    def __init__(self):\n",
    "        pretrained_lang_model = \"/home/olam/fasttext/lid.176.bin\"\n",
    "        self.model = fasttext.load_model(pretrained_lang_model)\n",
    "\n",
    "    def predict_lang(self, text):\n",
    "        predictions = self.model.predict(text, k=1) \n",
    "        return predictions"
   ]
  },
  {
   "cell_type": "code",
   "execution_count": 58,
   "metadata": {},
   "outputs": [
    {
     "name": "stderr",
     "output_type": "stream",
     "text": [
      "Warning : `load_model` does not return WordVectorModel or SupervisedModel any more, but a `FastText` object which is very similar.\n"
     ]
    }
   ],
   "source": [
    "LANGUAGE = LanguageIdentification()"
   ]
  },
  {
   "cell_type": "code",
   "execution_count": 59,
   "metadata": {},
   "outputs": [],
   "source": [
    "def detect_language(text):\n",
    "    '''Method that detect the language of the argument using langdetect'''\n",
    "    \n",
    "    \n",
    "    # Create list to store the language detections\n",
    "    #detections = []\n",
    "    \n",
    "    \n",
    "    # TextBlob\n",
    "    #start_detect = time.time()\n",
    "    #blob = TextBlob(text)\n",
    "    #textblob_res = blob.detect_language()\n",
    "    #end_detect = time.time()\n",
    "    #duration_detect = end_detect - start_detect\n",
    "    #print('TextBlob : ' + str(duration_detect))\n",
    "    \n",
    "    # Langedetect\n",
    "    #start_detect = time.time()\n",
    "    #for i in range(5):\n",
    "    #    detections.append(detect(text))\n",
    "    #end_detect = time.time()\n",
    "    #duration_detect = end_detect - start_detect\n",
    "    #print('Langedetect : ' + str(duration_detect))\n",
    "    \n",
    "    # LangID\n",
    "    #start_detect = time.time()\n",
    "    #langid_res = langid.classify(text)[0]\n",
    "    #end_detect = time.time()\n",
    "    #duration_detect = end_detect - start_detect\n",
    "    #print('LangId : ' + str(duration_detect))\n",
    "    \n",
    "    # FastText\n",
    "    #start_detect = time.time()\n",
    "    fastext_res = LANGUAGE.predict_lang(text)[0][0].replace('__label__', '')\n",
    "    #end_detect = time.time()\n",
    "    #duration_detect = end_detect - start_detect\n",
    "    #print('Fastext : ' + str(duration_detect))\n",
    "    \n",
    "    # Create the counter to get the most detected language\n",
    "    #c = Counter(detections)\n",
    "    #language_detected, _ = c.most_common()[0]\n",
    "\n",
    "    \n",
    "    #print('LangId result : ' + langid_res)\n",
    "    #print('FastText result : ' + fastext_res)\n",
    "    \n",
    "    return fastext_res"
   ]
  },
  {
   "cell_type": "code",
   "execution_count": 60,
   "metadata": {},
   "outputs": [],
   "source": [
    "def check_en_video(vid_title, vid_description):\n",
    "    '''Returns True if the language of the video is english'''\n",
    "    \n",
    "    detected_language = ''\n",
    "    \n",
    "    # First check for description and if there is none, chech for the title.\n",
    "    # Handling exceptions when a text couldn't be used of langdetect\n",
    "    if vid_description != '':\n",
    "        try:\n",
    "            detected_language = detect_language(vid_description)\n",
    "        except:\n",
    "            if vid_title != '':\n",
    "                try:\n",
    "                    detected_language = detect_language(vid_title)\n",
    "                except:\n",
    "                    detected_language = None\n",
    "    elif vid_title != '':\n",
    "        try:\n",
    "            detected_language = detect_language(vid_title)\n",
    "        except:\n",
    "            detected_language = None\n",
    "    else:\n",
    "        detected_language = None\n",
    "        \n",
    "    return detected_language == 'en'"
   ]
  },
  {
   "cell_type": "code",
   "execution_count": 61,
   "metadata": {},
   "outputs": [],
   "source": [
    "def get_freq_tokens_per_video(video):\n",
    "    ''''''\n",
    "    \n",
    "    title_tokens = [w for w in tokenizer.tokenize(video['title'].lower()) if not w in stop_words]\n",
    "    tag_tokens = [w for w in tokenizer.tokenize(video['tags'].lower()) if not w in stop_words]\n",
    "    \n",
    "    # We want to keep duplicates !!\n",
    "    tokens_per_video = title_tokens + tag_tokens\n",
    "\n",
    "    # Stemming\n",
    "    stemmed_tokens_per_video = ([s_stemmer.stem(w) for w in tokens_per_video])\n",
    "    \n",
    "    # Return a Counter object of the tokens\n",
    "    return collections.Counter(stemmed_tokens_per_video)"
   ]
  },
  {
   "cell_type": "code",
   "execution_count": 178,
   "metadata": {},
   "outputs": [],
   "source": [
    "def fill_underlying_dict(freq_tokens_per_video, dict_stemmed_tokens, dict_freq_tokens_for_sparse_matrix, i_vid):\n",
    "    '''Method to fill the underlying dictionnary in order to \n",
    "    update the sparse matrix incrementally by videos'''\n",
    "    \n",
    "    for key in freq_tokens_per_video.keys():\n",
    "        \n",
    "        # Column index in the sparse matrix (one column for each token)\n",
    "        j_token = dict_stemmed_tokens[key]\n",
    "    \n",
    "        # Filling the underlying dict\n",
    "        dict_freq_tokens_for_sparse_matrix[(i_vid % 1000000, j_token)] = freq_tokens_per_video[key]\n",
    "    "
   ]
  },
  {
   "cell_type": "code",
   "execution_count": 63,
   "metadata": {},
   "outputs": [],
   "source": [
    "### GET THE LIST OF CHANNELS IN channelcrawler.csv\n",
    "\n",
    "df_channelcrawler = pd.read_csv('/dlabdata1/youtube_large/channelcrawler.csv')\n",
    "\n",
    "df_channelcrawler['channel_id'] = df_channelcrawler['link'].apply(lambda x: x.replace('http://www.youtube.com/channel/', ''))\n",
    "\n",
    "# Store in a set since it will be faster to check if a channel is in channelcrawler\n",
    "set_channelcrawler = set(df_channelcrawler['channel_id'])"
   ]
  },
  {
   "cell_type": "markdown",
   "metadata": {},
   "source": [
    "### A) First pass to build dict of tokens"
   ]
  },
  {
   "cell_type": "code",
   "execution_count": 11,
   "metadata": {},
   "outputs": [],
   "source": [
    "reader = Zreader(\"/dlabdata1/youtube_large/yt_metadata_all.jsonl.zst\", chunk_size=2**28)"
   ]
  },
  {
   "cell_type": "code",
   "execution_count": 12,
   "metadata": {
    "scrolled": true
   },
   "outputs": [
    {
     "name": "stdout",
     "output_type": "stream",
     "text": [
      "Processed 1000000 videos.\n",
      "Processed 2000000 videos.\n",
      "Processed 3000000 videos.\n",
      "Processed 4000000 videos.\n",
      "Processed 5000000 videos.\n",
      "Processed 6000000 videos.\n",
      "Processed 7000000 videos.\n",
      "Processed 8000000 videos.\n",
      "Processed 9000000 videos.\n",
      "Processed 10000000 videos.\n",
      "Processed 11000000 videos.\n",
      "Processed 12000000 videos.\n",
      "Processed 13000000 videos.\n",
      "Processed 14000000 videos.\n",
      "Processed 15000000 videos.\n",
      "Processed 16000000 videos.\n",
      "Processed 17000000 videos.\n",
      "Processed 18000000 videos.\n",
      "Processed 19000000 videos.\n",
      "Processed 20000000 videos.\n",
      "Processed 21000000 videos.\n",
      "Processed 22000000 videos.\n",
      "Processed 23000000 videos.\n",
      "Processed 24000000 videos.\n",
      "Processed 25000000 videos.\n",
      "Processed 26000000 videos.\n",
      "Processed 27000000 videos.\n",
      "Processed 28000000 videos.\n",
      "Processed 29000000 videos.\n",
      "Processed 30000000 videos.\n",
      "Processed 31000000 videos.\n",
      "Processed 32000000 videos.\n",
      "Processed 33000000 videos.\n",
      "Processed 34000000 videos.\n",
      "Processed 35000000 videos.\n",
      "Processed 36000000 videos.\n",
      "Processed 37000000 videos.\n",
      "Processed 38000000 videos.\n",
      "Processed 39000000 videos.\n",
      "Processed 40000000 videos.\n",
      "Processed 41000000 videos.\n",
      "Processed 42000000 videos.\n",
      "Processed 43000000 videos.\n",
      "Processed 44000000 videos.\n",
      "Processed 45000000 videos.\n",
      "Processed 46000000 videos.\n",
      "Processed 47000000 videos.\n",
      "Processed 48000000 videos.\n",
      "Processed 49000000 videos.\n",
      "Processed 50000000 videos.\n",
      "Processed 51000000 videos.\n",
      "Processed 52000000 videos.\n",
      "Processed 53000000 videos.\n",
      "Processed 54000000 videos.\n",
      "Processed 55000000 videos.\n",
      "Processed 56000000 videos.\n",
      "Processed 57000000 videos.\n",
      "Processed 58000000 videos.\n",
      "Processed 59000000 videos.\n",
      "Processed 60000000 videos.\n",
      "Processed 61000000 videos.\n",
      "Processed 62000000 videos.\n",
      "Processed 63000000 videos.\n",
      "Processed 64000000 videos.\n",
      "Processed 65000000 videos.\n",
      "Processed 66000000 videos.\n",
      "Processed 67000000 videos.\n",
      "Processed 68000000 videos.\n",
      "Processed 69000000 videos.\n",
      "Processed 70000000 videos.\n",
      "Processed 71000000 videos.\n",
      "Processed 72000000 videos.\n",
      "Processed 73000000 videos.\n",
      "Processed 74000000 videos.\n",
      "Processed 75000000 videos.\n",
      "Processed 76000000 videos.\n",
      "Processed 77000000 videos.\n",
      "Processed 78000000 videos.\n",
      "Processed 79000000 videos.\n",
      "Processed 80000000 videos.\n",
      "Processed 81000000 videos.\n",
      "Processed 82000000 videos.\n",
      "Processed 83000000 videos.\n",
      "Processed 84000000 videos.\n",
      "Processed 85000000 videos.\n"
     ]
    }
   ],
   "source": [
    "idx = 0\n",
    "\n",
    "# Variable that contains the idx of every non english vid and that\n",
    "# belongs to a channel in channelcrawler.csv TO BE USED IN SECOND ITER\n",
    "idx_vid_to_consider = set()\n",
    "\n",
    "# Variable first instanciated as set to check existing tokens efficiently, \n",
    "# which will be a list in order to get the index for each tokens\n",
    "list_stemmed_tokens = set()\n",
    "\n",
    "for line in reader.readlines():\n",
    "    #start_iter = time.time()\n",
    "    idx += 1\n",
    "    \n",
    "    if idx % 1000000 == 0:\n",
    "        print('Processed ' + str(idx) + ' videos.')\n",
    "        \n",
    "    # line is a str dict, video is the dict corresponding to the str dict\n",
    "    video = json.loads(line)\n",
    "    \n",
    "    \n",
    "    if video['channel_id'] in set_channelcrawler and \\\n",
    "    check_en_video(video['title'], video['description']):\n",
    "        \n",
    "        # Keep idx of video in memory\n",
    "        idx_vid_to_consider.add(idx)\n",
    "        \n",
    "        # Get the stemmed token of the video\n",
    "        tokens_per_video = get_freq_tokens_per_video(video).keys()\n",
    "        \n",
    "        # Update list_stemmed_tokens\n",
    "        list_stemmed_tokens.update(tokens_per_video)\n",
    "    #end_iter = time.time()\n",
    "    #duration_iter = end_iter - start_iter\n",
    "    #print('Time for 1 iteration : ' + str(duration_iter))"
   ]
  },
  {
   "cell_type": "code",
   "execution_count": 13,
   "metadata": {},
   "outputs": [],
   "source": [
    "list_stemmed_tokens = list(list_stemmed_tokens)"
   ]
  },
  {
   "cell_type": "code",
   "execution_count": 14,
   "metadata": {},
   "outputs": [
    {
     "data": {
      "text/plain": [
       "7987546"
      ]
     },
     "execution_count": 14,
     "metadata": {},
     "output_type": "execute_result"
    }
   ],
   "source": [
    "len(list_stemmed_tokens)"
   ]
  },
  {
   "cell_type": "code",
   "execution_count": 15,
   "metadata": {},
   "outputs": [
    {
     "data": {
      "text/plain": [
       "68642144"
      ]
     },
     "execution_count": 15,
     "metadata": {},
     "output_type": "execute_result"
    }
   ],
   "source": [
    "len(idx_vid_to_consider)"
   ]
  },
  {
   "cell_type": "code",
   "execution_count": null,
   "metadata": {},
   "outputs": [],
   "source": [
    "with open('/home/olam/idx_vid_to_consider.pickle', 'wb') as f:\n",
    "    pickle.dump(idx_vid_to_consider, f)\n",
    "f.close()"
   ]
  },
  {
   "cell_type": "code",
   "execution_count": null,
   "metadata": {},
   "outputs": [],
   "source": [
    "with open('/home/olam/list_stemmed_tokens.pickle', 'wb') as f:\n",
    "    pickle.dump(list_stemmed_tokens, f)\n",
    "f.close()"
   ]
  },
  {
   "cell_type": "markdown",
   "metadata": {},
   "source": [
    "### B) Second pass to build the sparse matrix "
   ]
  },
  {
   "cell_type": "code",
   "execution_count": 185,
   "metadata": {},
   "outputs": [],
   "source": [
    "# Load set of videos to consider\n",
    "with open('/home/olam/idx_vid_to_consider.pickle', 'rb') as f:\n",
    "    idx_vid_to_consider = pickle.load(f)\n",
    "f.close()"
   ]
  },
  {
   "cell_type": "code",
   "execution_count": 186,
   "metadata": {},
   "outputs": [],
   "source": [
    "# Load dictionnary of tokens\n",
    "with open('/home/olam/list_stemmed_tokens.pickle', 'rb') as f:\n",
    "    list_stemmed_tokens = pickle.load(f)\n",
    "f.close()"
   ]
  },
  {
   "cell_type": "code",
   "execution_count": 187,
   "metadata": {},
   "outputs": [
    {
     "name": "stdout",
     "output_type": "stream",
     "text": [
      "Number of videos to consider : 68642144\n"
     ]
    }
   ],
   "source": [
    "print('Number of videos to consider : ' + str(len(idx_vid_to_consider)))"
   ]
  },
  {
   "cell_type": "code",
   "execution_count": 188,
   "metadata": {},
   "outputs": [
    {
     "name": "stdout",
     "output_type": "stream",
     "text": [
      "Number of tokens : 7987546\n"
     ]
    }
   ],
   "source": [
    "print('Number of tokens : ' + str(len(list_stemmed_tokens)))"
   ]
  },
  {
   "cell_type": "code",
   "execution_count": 189,
   "metadata": {},
   "outputs": [],
   "source": [
    "# Get dimension of sparse matrix\n",
    "size_of_tokens_dict = len(list_stemmed_tokens)\n",
    "number_of_vid = len(idx_vid_to_consider)"
   ]
  },
  {
   "cell_type": "code",
   "execution_count": 190,
   "metadata": {},
   "outputs": [],
   "source": [
    "# Create dictionnary of tokens with their indice\n",
    "dict_stemmed_tokens = {}\n",
    "\n",
    "# Fill dictionnary of tokens\n",
    "for i, token in enumerate(list_stemmed_tokens):\n",
    "    dict_stemmed_tokens[token] = i"
   ]
  },
  {
   "cell_type": "markdown",
   "metadata": {},
   "source": [
    "---"
   ]
  },
  {
   "cell_type": "code",
   "execution_count": 77,
   "metadata": {},
   "outputs": [],
   "source": [
    "import random"
   ]
  },
  {
   "cell_type": "code",
   "execution_count": 78,
   "metadata": {},
   "outputs": [],
   "source": [
    "nrows = 1000\n",
    "ncolumns = 100000"
   ]
  },
  {
   "cell_type": "code",
   "execution_count": 91,
   "metadata": {},
   "outputs": [],
   "source": [
    "S_1 = dok_matrix((nrows, ncolumns))"
   ]
  },
  {
   "cell_type": "code",
   "execution_count": 92,
   "metadata": {},
   "outputs": [],
   "source": [
    "S_2 = dok_matrix((nrows, ncolumns))"
   ]
  },
  {
   "cell_type": "code",
   "execution_count": 93,
   "metadata": {},
   "outputs": [],
   "source": [
    "S_1i = dok_matrix((nrows, ncolumns), dtype=np.uint8)"
   ]
  },
  {
   "cell_type": "code",
   "execution_count": 94,
   "metadata": {},
   "outputs": [],
   "source": [
    "S_2i = dok_matrix((nrows, ncolumns), dtype=np.uint8)"
   ]
  },
  {
   "cell_type": "code",
   "execution_count": 95,
   "metadata": {},
   "outputs": [],
   "source": [
    "for i in range(5000):\n",
    "    x = random.randint(0, 999)\n",
    "    y = random.randint(0, 99999)\n",
    "    \n",
    "    v = random.randint(0, 20)\n",
    "    \n",
    "    S_1[x, y] = v\n",
    "    S_1i[x, y] = v\n",
    "    \n",
    "for i in range(10000):\n",
    "    x = random.randint(0, 999)\n",
    "    y = random.randint(0, 99999)\n",
    "    \n",
    "    v = random.randint(0, 20)\n",
    "    \n",
    "    S_2[x, y] = v\n",
    "    S_2i[x, y] = v"
   ]
  },
  {
   "cell_type": "code",
   "execution_count": 96,
   "metadata": {},
   "outputs": [
    {
     "data": {
      "text/plain": [
       "<1000x100000 sparse matrix of type '<class 'numpy.float64'>'\n",
       "\twith 4751 stored elements in Dictionary Of Keys format>"
      ]
     },
     "execution_count": 96,
     "metadata": {},
     "output_type": "execute_result"
    }
   ],
   "source": [
    "S_1"
   ]
  },
  {
   "cell_type": "code",
   "execution_count": 97,
   "metadata": {},
   "outputs": [
    {
     "data": {
      "text/plain": [
       "<1000x100000 sparse matrix of type '<class 'numpy.uint8'>'\n",
       "\twith 4751 stored elements in Dictionary Of Keys format>"
      ]
     },
     "execution_count": 97,
     "metadata": {},
     "output_type": "execute_result"
    }
   ],
   "source": [
    "S_1i"
   ]
  },
  {
   "cell_type": "code",
   "execution_count": 98,
   "metadata": {},
   "outputs": [
    {
     "data": {
      "text/plain": [
       "<1000x100000 sparse matrix of type '<class 'numpy.float64'>'\n",
       "\twith 9494 stored elements in Dictionary Of Keys format>"
      ]
     },
     "execution_count": 98,
     "metadata": {},
     "output_type": "execute_result"
    }
   ],
   "source": [
    "S_2"
   ]
  },
  {
   "cell_type": "code",
   "execution_count": 99,
   "metadata": {},
   "outputs": [
    {
     "data": {
      "text/plain": [
       "<1000x100000 sparse matrix of type '<class 'numpy.uint8'>'\n",
       "\twith 9494 stored elements in Dictionary Of Keys format>"
      ]
     },
     "execution_count": 99,
     "metadata": {},
     "output_type": "execute_result"
    }
   ],
   "source": [
    "S_2i"
   ]
  },
  {
   "cell_type": "code",
   "execution_count": 100,
   "metadata": {},
   "outputs": [
    {
     "data": {
      "text/plain": [
       "147584"
      ]
     },
     "execution_count": 100,
     "metadata": {},
     "output_type": "execute_result"
    }
   ],
   "source": [
    "sys.getsizeof(S_1)"
   ]
  },
  {
   "cell_type": "code",
   "execution_count": 101,
   "metadata": {},
   "outputs": [
    {
     "data": {
      "text/plain": [
       "147584"
      ]
     },
     "execution_count": 101,
     "metadata": {},
     "output_type": "execute_result"
    }
   ],
   "source": [
    "sys.getsizeof(S_1i)"
   ]
  },
  {
   "cell_type": "code",
   "execution_count": 102,
   "metadata": {},
   "outputs": [
    {
     "data": {
      "text/plain": [
       "295032"
      ]
     },
     "execution_count": 102,
     "metadata": {},
     "output_type": "execute_result"
    }
   ],
   "source": [
    "sys.getsizeof(S_2)"
   ]
  },
  {
   "cell_type": "code",
   "execution_count": 103,
   "metadata": {},
   "outputs": [
    {
     "data": {
      "text/plain": [
       "295032"
      ]
     },
     "execution_count": 103,
     "metadata": {},
     "output_type": "execute_result"
    }
   ],
   "source": [
    "sys.getsizeof(S_2i)"
   ]
  },
  {
   "cell_type": "code",
   "execution_count": 115,
   "metadata": {},
   "outputs": [],
   "source": [
    "S_1_csr = S_1.tocsr()\n",
    "S_1i_csr = S_1i.tocsr()"
   ]
  },
  {
   "cell_type": "code",
   "execution_count": 116,
   "metadata": {},
   "outputs": [
    {
     "data": {
      "text/plain": [
       "<1000x100000 sparse matrix of type '<class 'numpy.float64'>'\n",
       "\twith 4751 stored elements in Compressed Sparse Row format>"
      ]
     },
     "execution_count": 116,
     "metadata": {},
     "output_type": "execute_result"
    }
   ],
   "source": [
    "S_1_csr"
   ]
  },
  {
   "cell_type": "code",
   "execution_count": 117,
   "metadata": {},
   "outputs": [
    {
     "data": {
      "text/plain": [
       "<1000x100000 sparse matrix of type '<class 'numpy.uint8'>'\n",
       "\twith 4751 stored elements in Compressed Sparse Row format>"
      ]
     },
     "execution_count": 117,
     "metadata": {},
     "output_type": "execute_result"
    }
   ],
   "source": [
    "S_1i_csr"
   ]
  },
  {
   "cell_type": "code",
   "execution_count": 118,
   "metadata": {},
   "outputs": [
    {
     "data": {
      "text/plain": [
       "64"
      ]
     },
     "execution_count": 118,
     "metadata": {},
     "output_type": "execute_result"
    }
   ],
   "source": [
    "sys.getsizeof(S_1_csr)"
   ]
  },
  {
   "cell_type": "code",
   "execution_count": 119,
   "metadata": {},
   "outputs": [
    {
     "data": {
      "text/plain": [
       "64"
      ]
     },
     "execution_count": 119,
     "metadata": {},
     "output_type": "execute_result"
    }
   ],
   "source": [
    "sys.getsizeof(S_1i_csr)"
   ]
  },
  {
   "cell_type": "code",
   "execution_count": 126,
   "metadata": {},
   "outputs": [],
   "source": [
    "S_test = dok_matrix((20,10))"
   ]
  },
  {
   "cell_type": "code",
   "execution_count": 127,
   "metadata": {},
   "outputs": [],
   "source": [
    "S1 = dok_matrix((10,10))"
   ]
  },
  {
   "cell_type": "code",
   "execution_count": 128,
   "metadata": {},
   "outputs": [],
   "source": [
    "S2 = dok_matrix((10,10))"
   ]
  },
  {
   "cell_type": "code",
   "execution_count": 129,
   "metadata": {},
   "outputs": [],
   "source": [
    "for i in range(20):\n",
    "    for j in range(10):\n",
    "        \n",
    "        value = random.randint(0, 20)\n",
    "        \n",
    "        S_test[i, j] = value\n",
    "        \n",
    "        if i < 10:\n",
    "            S1[i, j] = value\n",
    "        else:\n",
    "            S2[i - 10, j] = value\n",
    "        "
   ]
  },
  {
   "cell_type": "code",
   "execution_count": 131,
   "metadata": {},
   "outputs": [
    {
     "data": {
      "text/plain": [
       "matrix([[ 5.,  7.,  6., 15., 14.,  5., 16.,  9., 20.,  1.],\n",
       "        [ 7.,  8.,  3.,  3.,  3., 17., 14., 20., 20.,  7.],\n",
       "        [ 8.,  5., 15.,  3., 10., 13.,  9., 14., 17., 12.],\n",
       "        [ 7., 16.,  7., 18.,  8.,  3.,  8., 20.,  9., 17.],\n",
       "        [ 5.,  0., 12.,  9., 15., 10.,  3., 10., 17.,  5.],\n",
       "        [19.,  7.,  3.,  0., 15., 13.,  1.,  9.,  5.,  7.],\n",
       "        [ 3., 12.,  5.,  6.,  9.,  4.,  5.,  6.,  2., 18.],\n",
       "        [16.,  0.,  9.,  4., 15.,  4., 10., 12.,  1.,  9.],\n",
       "        [14., 14., 18.,  0., 15.,  4.,  8.,  9., 18.,  0.],\n",
       "        [ 8.,  5., 11.,  5., 14., 11., 14., 13., 20., 11.],\n",
       "        [14., 10., 19.,  9., 17., 17., 11., 14., 10.,  8.],\n",
       "        [ 9.,  9.,  3., 20., 17.,  6., 15., 17., 16., 11.],\n",
       "        [ 6., 17., 19.,  2.,  8., 17.,  5.,  8.,  8.,  3.],\n",
       "        [ 6.,  1.,  8., 11.,  7., 15., 10.,  4.,  3., 14.],\n",
       "        [17., 18., 17.,  5., 19.,  8., 11.,  4., 11.,  8.],\n",
       "        [17.,  6., 14., 11.,  8., 18., 11.,  6.,  0.,  7.],\n",
       "        [13., 18., 20., 10., 17.,  7.,  3.,  3.,  6., 10.],\n",
       "        [19.,  6.,  2., 18., 14., 16., 15., 14., 20., 12.],\n",
       "        [ 4., 18.,  9.,  7.,  0., 14.,  7., 11.,  5., 19.],\n",
       "        [ 8.,  6., 15.,  4., 17., 16., 19., 20.,  8.,  2.]])"
      ]
     },
     "execution_count": 131,
     "metadata": {},
     "output_type": "execute_result"
    }
   ],
   "source": [
    "S_test.todense()"
   ]
  },
  {
   "cell_type": "code",
   "execution_count": 132,
   "metadata": {},
   "outputs": [
    {
     "data": {
      "text/plain": [
       "matrix([[ 5.,  7.,  6., 15., 14.,  5., 16.,  9., 20.,  1.],\n",
       "        [ 7.,  8.,  3.,  3.,  3., 17., 14., 20., 20.,  7.],\n",
       "        [ 8.,  5., 15.,  3., 10., 13.,  9., 14., 17., 12.],\n",
       "        [ 7., 16.,  7., 18.,  8.,  3.,  8., 20.,  9., 17.],\n",
       "        [ 5.,  0., 12.,  9., 15., 10.,  3., 10., 17.,  5.],\n",
       "        [19.,  7.,  3.,  0., 15., 13.,  1.,  9.,  5.,  7.],\n",
       "        [ 3., 12.,  5.,  6.,  9.,  4.,  5.,  6.,  2., 18.],\n",
       "        [16.,  0.,  9.,  4., 15.,  4., 10., 12.,  1.,  9.],\n",
       "        [14., 14., 18.,  0., 15.,  4.,  8.,  9., 18.,  0.],\n",
       "        [ 8.,  5., 11.,  5., 14., 11., 14., 13., 20., 11.]])"
      ]
     },
     "execution_count": 132,
     "metadata": {},
     "output_type": "execute_result"
    }
   ],
   "source": [
    "S1.todense()"
   ]
  },
  {
   "cell_type": "code",
   "execution_count": 133,
   "metadata": {},
   "outputs": [
    {
     "data": {
      "text/plain": [
       "matrix([[14., 10., 19.,  9., 17., 17., 11., 14., 10.,  8.],\n",
       "        [ 9.,  9.,  3., 20., 17.,  6., 15., 17., 16., 11.],\n",
       "        [ 6., 17., 19.,  2.,  8., 17.,  5.,  8.,  8.,  3.],\n",
       "        [ 6.,  1.,  8., 11.,  7., 15., 10.,  4.,  3., 14.],\n",
       "        [17., 18., 17.,  5., 19.,  8., 11.,  4., 11.,  8.],\n",
       "        [17.,  6., 14., 11.,  8., 18., 11.,  6.,  0.,  7.],\n",
       "        [13., 18., 20., 10., 17.,  7.,  3.,  3.,  6., 10.],\n",
       "        [19.,  6.,  2., 18., 14., 16., 15., 14., 20., 12.],\n",
       "        [ 4., 18.,  9.,  7.,  0., 14.,  7., 11.,  5., 19.],\n",
       "        [ 8.,  6., 15.,  4., 17., 16., 19., 20.,  8.,  2.]])"
      ]
     },
     "execution_count": 133,
     "metadata": {},
     "output_type": "execute_result"
    }
   ],
   "source": [
    "S2.todense()"
   ]
  },
  {
   "cell_type": "code",
   "execution_count": 134,
   "metadata": {},
   "outputs": [],
   "source": [
    "S_testcsr = S_test.tocsr()"
   ]
  },
  {
   "cell_type": "code",
   "execution_count": 138,
   "metadata": {},
   "outputs": [
    {
     "data": {
      "text/plain": [
       "9344"
      ]
     },
     "execution_count": 138,
     "metadata": {},
     "output_type": "execute_result"
    }
   ],
   "source": [
    "sys.getsizeof(S_test)"
   ]
  },
  {
   "cell_type": "code",
   "execution_count": 137,
   "metadata": {},
   "outputs": [
    {
     "data": {
      "text/plain": [
       "64"
      ]
     },
     "execution_count": 137,
     "metadata": {},
     "output_type": "execute_result"
    }
   ],
   "source": [
    "sys.getsizeof(S_testcsr)"
   ]
  },
  {
   "cell_type": "code",
   "execution_count": 136,
   "metadata": {},
   "outputs": [
    {
     "data": {
      "text/plain": [
       "matrix([[ 5.,  7.,  6., 15., 14.,  5., 16.,  9., 20.,  1.],\n",
       "        [ 7.,  8.,  3.,  3.,  3., 17., 14., 20., 20.,  7.],\n",
       "        [ 8.,  5., 15.,  3., 10., 13.,  9., 14., 17., 12.],\n",
       "        [ 7., 16.,  7., 18.,  8.,  3.,  8., 20.,  9., 17.],\n",
       "        [ 5.,  0., 12.,  9., 15., 10.,  3., 10., 17.,  5.],\n",
       "        [19.,  7.,  3.,  0., 15., 13.,  1.,  9.,  5.,  7.],\n",
       "        [ 3., 12.,  5.,  6.,  9.,  4.,  5.,  6.,  2., 18.],\n",
       "        [16.,  0.,  9.,  4., 15.,  4., 10., 12.,  1.,  9.],\n",
       "        [14., 14., 18.,  0., 15.,  4.,  8.,  9., 18.,  0.],\n",
       "        [ 8.,  5., 11.,  5., 14., 11., 14., 13., 20., 11.],\n",
       "        [14., 10., 19.,  9., 17., 17., 11., 14., 10.,  8.],\n",
       "        [ 9.,  9.,  3., 20., 17.,  6., 15., 17., 16., 11.],\n",
       "        [ 6., 17., 19.,  2.,  8., 17.,  5.,  8.,  8.,  3.],\n",
       "        [ 6.,  1.,  8., 11.,  7., 15., 10.,  4.,  3., 14.],\n",
       "        [17., 18., 17.,  5., 19.,  8., 11.,  4., 11.,  8.],\n",
       "        [17.,  6., 14., 11.,  8., 18., 11.,  6.,  0.,  7.],\n",
       "        [13., 18., 20., 10., 17.,  7.,  3.,  3.,  6., 10.],\n",
       "        [19.,  6.,  2., 18., 14., 16., 15., 14., 20., 12.],\n",
       "        [ 4., 18.,  9.,  7.,  0., 14.,  7., 11.,  5., 19.],\n",
       "        [ 8.,  6., 15.,  4., 17., 16., 19., 20.,  8.,  2.]])"
      ]
     },
     "execution_count": 136,
     "metadata": {},
     "output_type": "execute_result"
    }
   ],
   "source": [
    "S_testcsr.todense()"
   ]
  },
  {
   "cell_type": "code",
   "execution_count": 144,
   "metadata": {},
   "outputs": [
    {
     "data": {
      "text/plain": [
       "<20x10 sparse matrix of type '<class 'numpy.float64'>'\n",
       "\twith 193 stored elements in COOrdinate format>"
      ]
     },
     "execution_count": 144,
     "metadata": {},
     "output_type": "execute_result"
    }
   ],
   "source": [
    "S_stacked = scipy.sparse.vstack([S1, S2])\n",
    "S_stacked"
   ]
  },
  {
   "cell_type": "code",
   "execution_count": 145,
   "metadata": {},
   "outputs": [
    {
     "data": {
      "text/plain": [
       "matrix([[ 5.,  7.,  6., 15., 14.,  5., 16.,  9., 20.,  1.],\n",
       "        [ 7.,  8.,  3.,  3.,  3., 17., 14., 20., 20.,  7.],\n",
       "        [ 8.,  5., 15.,  3., 10., 13.,  9., 14., 17., 12.],\n",
       "        [ 7., 16.,  7., 18.,  8.,  3.,  8., 20.,  9., 17.],\n",
       "        [ 5.,  0., 12.,  9., 15., 10.,  3., 10., 17.,  5.],\n",
       "        [19.,  7.,  3.,  0., 15., 13.,  1.,  9.,  5.,  7.],\n",
       "        [ 3., 12.,  5.,  6.,  9.,  4.,  5.,  6.,  2., 18.],\n",
       "        [16.,  0.,  9.,  4., 15.,  4., 10., 12.,  1.,  9.],\n",
       "        [14., 14., 18.,  0., 15.,  4.,  8.,  9., 18.,  0.],\n",
       "        [ 8.,  5., 11.,  5., 14., 11., 14., 13., 20., 11.],\n",
       "        [14., 10., 19.,  9., 17., 17., 11., 14., 10.,  8.],\n",
       "        [ 9.,  9.,  3., 20., 17.,  6., 15., 17., 16., 11.],\n",
       "        [ 6., 17., 19.,  2.,  8., 17.,  5.,  8.,  8.,  3.],\n",
       "        [ 6.,  1.,  8., 11.,  7., 15., 10.,  4.,  3., 14.],\n",
       "        [17., 18., 17.,  5., 19.,  8., 11.,  4., 11.,  8.],\n",
       "        [17.,  6., 14., 11.,  8., 18., 11.,  6.,  0.,  7.],\n",
       "        [13., 18., 20., 10., 17.,  7.,  3.,  3.,  6., 10.],\n",
       "        [19.,  6.,  2., 18., 14., 16., 15., 14., 20., 12.],\n",
       "        [ 4., 18.,  9.,  7.,  0., 14.,  7., 11.,  5., 19.],\n",
       "        [ 8.,  6., 15.,  4., 17., 16., 19., 20.,  8.,  2.]])"
      ]
     },
     "execution_count": 145,
     "metadata": {},
     "output_type": "execute_result"
    }
   ],
   "source": [
    "S_stacked.todense()"
   ]
  },
  {
   "cell_type": "code",
   "execution_count": 146,
   "metadata": {},
   "outputs": [],
   "source": [
    "scipy.sparse.save_npz('/home/olam/csr_matrices/test.npz', S_stacked)"
   ]
  },
  {
   "cell_type": "code",
   "execution_count": 147,
   "metadata": {},
   "outputs": [],
   "source": [
    "S_loaded = scipy.sparse.load_npz('/home/olam/csr_matrices/test.npz')"
   ]
  },
  {
   "cell_type": "code",
   "execution_count": 150,
   "metadata": {},
   "outputs": [
    {
     "data": {
      "text/plain": [
       "64"
      ]
     },
     "execution_count": 150,
     "metadata": {},
     "output_type": "execute_result"
    }
   ],
   "source": [
    "sys.getsizeof(S_loaded)"
   ]
  },
  {
   "cell_type": "markdown",
   "metadata": {},
   "source": [
    "---"
   ]
  },
  {
   "cell_type": "code",
   "execution_count": 196,
   "metadata": {},
   "outputs": [],
   "source": [
    "# Create sparse matrix\n",
    "S = dok_matrix((1000000, size_of_tokens_dict), dtype=np.uint8)"
   ]
  },
  {
   "cell_type": "code",
   "execution_count": 197,
   "metadata": {},
   "outputs": [],
   "source": [
    "reader = Zreader(\"/dlabdata1/youtube_large/yt_metadata_all.jsonl.zst\", chunk_size=2**28)"
   ]
  },
  {
   "cell_type": "code",
   "execution_count": 198,
   "metadata": {},
   "outputs": [
    {
     "name": "stdout",
     "output_type": "stream",
     "text": [
      "Size of matrix dok: 335544440\n",
      "Shape of S : (1000000, 7987546) and number of elems : 7156539\n",
      "Size of matrix csr: 64\n",
      "Shape of S : (1000000, 7987546) and number of elems : 0\n",
      "Processed 1000000 videos.\n",
      "\n",
      "Size of matrix dok: 335544440\n",
      "Shape of S : (1000000, 7987546) and number of elems : 7575040\n",
      "Size of matrix csr: 64\n",
      "Shape of S : (1000000, 7987546) and number of elems : 0\n",
      "Processed 2000000 videos.\n",
      "\n",
      "Size of matrix dok: 335544440\n",
      "Shape of S : (1000000, 7987546) and number of elems : 7624769\n",
      "Size of matrix csr: 64\n",
      "Shape of S : (1000000, 7987546) and number of elems : 0\n",
      "Processed 3000000 videos.\n",
      "\n",
      "Size of matrix dok: 335544440\n",
      "Shape of S : (1000000, 7987546) and number of elems : 6828124\n",
      "Size of matrix csr: 64\n",
      "Shape of S : (1000000, 7987546) and number of elems : 0\n",
      "Processed 4000000 videos.\n",
      "\n",
      "Size of matrix dok: 335544440\n",
      "Shape of S : (1000000, 7987546) and number of elems : 7415367\n",
      "Size of matrix csr: 64\n",
      "Shape of S : (1000000, 7987546) and number of elems : 0\n",
      "Processed 5000000 videos.\n",
      "\n",
      "Size of matrix dok: 335544440\n",
      "Shape of S : (1000000, 7987546) and number of elems : 7674480\n",
      "Size of matrix csr: 64\n",
      "Shape of S : (1000000, 7987546) and number of elems : 0\n",
      "Processed 6000000 videos.\n",
      "\n",
      "Size of matrix dok: 335544440\n",
      "Shape of S : (1000000, 7987546) and number of elems : 6896232\n",
      "Size of matrix csr: 64\n",
      "Shape of S : (1000000, 7987546) and number of elems : 0\n",
      "Processed 7000000 videos.\n",
      "\n",
      "Size of matrix dok: 335544440\n",
      "Shape of S : (1000000, 7987546) and number of elems : 7496071\n",
      "Size of matrix csr: 64\n",
      "Shape of S : (1000000, 7987546) and number of elems : 0\n",
      "Processed 8000000 videos.\n",
      "\n",
      "Size of matrix dok: 335544440\n",
      "Shape of S : (1000000, 7987546) and number of elems : 6933784\n",
      "Size of matrix csr: 64\n",
      "Shape of S : (1000000, 7987546) and number of elems : 0\n",
      "Processed 9000000 videos.\n",
      "\n",
      "Size of matrix dok: 335544440\n",
      "Shape of S : (1000000, 7987546) and number of elems : 7232425\n",
      "Size of matrix csr: 64\n",
      "Shape of S : (1000000, 7987546) and number of elems : 0\n",
      "Processed 10000000 videos.\n",
      "\n",
      "Size of matrix dok: 335544440\n",
      "Shape of S : (1000000, 7987546) and number of elems : 6602793\n",
      "Size of matrix csr: 64\n",
      "Shape of S : (1000000, 7987546) and number of elems : 0\n",
      "Processed 11000000 videos.\n",
      "\n",
      "Size of matrix dok: 335544440\n",
      "Shape of S : (1000000, 7987546) and number of elems : 6877999\n",
      "Size of matrix csr: 64\n",
      "Shape of S : (1000000, 7987546) and number of elems : 0\n",
      "Processed 12000000 videos.\n",
      "\n",
      "Size of matrix dok: 335544440\n",
      "Shape of S : (1000000, 7987546) and number of elems : 7550424\n",
      "Size of matrix csr: 64\n",
      "Shape of S : (1000000, 7987546) and number of elems : 0\n",
      "Processed 13000000 videos.\n",
      "\n",
      "Size of matrix dok: 335544440\n",
      "Shape of S : (1000000, 7987546) and number of elems : 7195038\n",
      "Size of matrix csr: 64\n",
      "Shape of S : (1000000, 7987546) and number of elems : 0\n",
      "Processed 14000000 videos.\n",
      "\n",
      "Size of matrix dok: 335544440\n",
      "Shape of S : (1000000, 7987546) and number of elems : 7628285\n",
      "Size of matrix csr: 64\n",
      "Shape of S : (1000000, 7987546) and number of elems : 0\n",
      "Processed 15000000 videos.\n",
      "\n",
      "Size of matrix dok: 335544440\n",
      "Shape of S : (1000000, 7987546) and number of elems : 7185126\n",
      "Size of matrix csr: 64\n",
      "Shape of S : (1000000, 7987546) and number of elems : 0\n",
      "Processed 16000000 videos.\n",
      "\n",
      "Size of matrix dok: 335544440\n",
      "Shape of S : (1000000, 7987546) and number of elems : 7564709\n",
      "Size of matrix csr: 64\n",
      "Shape of S : (1000000, 7987546) and number of elems : 0\n",
      "Processed 17000000 videos.\n",
      "\n",
      "Size of matrix dok: 335544440\n",
      "Shape of S : (1000000, 7987546) and number of elems : 7097728\n",
      "Size of matrix csr: 64\n",
      "Shape of S : (1000000, 7987546) and number of elems : 0\n",
      "Processed 18000000 videos.\n",
      "\n",
      "Size of matrix dok: 335544440\n",
      "Shape of S : (1000000, 7987546) and number of elems : 7071798\n",
      "Size of matrix csr: 64\n",
      "Shape of S : (1000000, 7987546) and number of elems : 0\n",
      "Processed 19000000 videos.\n",
      "\n",
      "Size of matrix dok: 335544440\n",
      "Shape of S : (1000000, 7987546) and number of elems : 7130184\n",
      "Size of matrix csr: 64\n",
      "Shape of S : (1000000, 7987546) and number of elems : 0\n",
      "Processed 20000000 videos.\n",
      "\n",
      "Size of matrix dok: 335544440\n",
      "Shape of S : (1000000, 7987546) and number of elems : 7503804\n",
      "Size of matrix csr: 64\n",
      "Shape of S : (1000000, 7987546) and number of elems : 0\n",
      "Processed 21000000 videos.\n",
      "\n",
      "Size of matrix dok: 335544440\n",
      "Shape of S : (1000000, 7987546) and number of elems : 7528443\n",
      "Size of matrix csr: 64\n",
      "Shape of S : (1000000, 7987546) and number of elems : 0\n",
      "Processed 22000000 videos.\n",
      "\n",
      "Size of matrix dok: 335544440\n",
      "Shape of S : (1000000, 7987546) and number of elems : 7625399\n",
      "Size of matrix csr: 64\n",
      "Shape of S : (1000000, 7987546) and number of elems : 0\n",
      "Processed 23000000 videos.\n",
      "\n",
      "Size of matrix dok: 335544440\n",
      "Shape of S : (1000000, 7987546) and number of elems : 6997236\n",
      "Size of matrix csr: 64\n",
      "Shape of S : (1000000, 7987546) and number of elems : 0\n",
      "Processed 24000000 videos.\n",
      "\n",
      "Size of matrix dok: 335544440\n",
      "Shape of S : (1000000, 7987546) and number of elems : 6956195\n",
      "Size of matrix csr: 64\n",
      "Shape of S : (1000000, 7987546) and number of elems : 0\n",
      "Processed 25000000 videos.\n",
      "\n",
      "Size of matrix dok: 335544440\n",
      "Shape of S : (1000000, 7987546) and number of elems : 6923455\n",
      "Size of matrix csr: 64\n",
      "Shape of S : (1000000, 7987546) and number of elems : 0\n",
      "Processed 26000000 videos.\n",
      "\n",
      "Size of matrix dok: 335544440\n",
      "Shape of S : (1000000, 7987546) and number of elems : 7178137\n",
      "Size of matrix csr: 64\n",
      "Shape of S : (1000000, 7987546) and number of elems : 0\n",
      "Processed 27000000 videos.\n",
      "\n",
      "Size of matrix dok: 335544440\n",
      "Shape of S : (1000000, 7987546) and number of elems : 7062020\n",
      "Size of matrix csr: 64\n",
      "Shape of S : (1000000, 7987546) and number of elems : 0\n",
      "Processed 28000000 videos.\n",
      "\n",
      "Size of matrix dok: 335544440\n",
      "Shape of S : (1000000, 7987546) and number of elems : 7123024\n",
      "Size of matrix csr: 64\n",
      "Shape of S : (1000000, 7987546) and number of elems : 0\n",
      "Processed 29000000 videos.\n",
      "\n",
      "Size of matrix dok: 335544440\n",
      "Shape of S : (1000000, 7987546) and number of elems : 7126980\n",
      "Size of matrix csr: 64\n",
      "Shape of S : (1000000, 7987546) and number of elems : 0\n",
      "Processed 30000000 videos.\n",
      "\n",
      "Size of matrix dok: 335544440\n",
      "Shape of S : (1000000, 7987546) and number of elems : 7132584\n",
      "Size of matrix csr: 64\n",
      "Shape of S : (1000000, 7987546) and number of elems : 0\n",
      "Processed 31000000 videos.\n",
      "\n",
      "Size of matrix dok: 335544440\n",
      "Shape of S : (1000000, 7987546) and number of elems : 7216402\n",
      "Size of matrix csr: 64\n",
      "Shape of S : (1000000, 7987546) and number of elems : 0\n",
      "Processed 32000000 videos.\n",
      "\n",
      "Size of matrix dok: 335544440\n",
      "Shape of S : (1000000, 7987546) and number of elems : 6889623\n",
      "Size of matrix csr: 64\n",
      "Shape of S : (1000000, 7987546) and number of elems : 0\n",
      "Processed 33000000 videos.\n",
      "\n",
      "Size of matrix dok: 335544440\n",
      "Shape of S : (1000000, 7987546) and number of elems : 7448899\n",
      "Size of matrix csr: 64\n",
      "Shape of S : (1000000, 7987546) and number of elems : 0\n",
      "Processed 34000000 videos.\n",
      "\n",
      "Size of matrix dok: 335544440\n",
      "Shape of S : (1000000, 7987546) and number of elems : 7490073\n",
      "Size of matrix csr: 64\n",
      "Shape of S : (1000000, 7987546) and number of elems : 0\n",
      "Processed 35000000 videos.\n",
      "\n",
      "Size of matrix dok: 335544440\n",
      "Shape of S : (1000000, 7987546) and number of elems : 6892877\n",
      "Size of matrix csr: 64\n",
      "Shape of S : (1000000, 7987546) and number of elems : 0\n",
      "Processed 36000000 videos.\n",
      "\n",
      "Size of matrix dok: 335544440\n",
      "Shape of S : (1000000, 7987546) and number of elems : 7333081\n",
      "Size of matrix csr: 64\n",
      "Shape of S : (1000000, 7987546) and number of elems : 0\n",
      "Processed 37000000 videos.\n",
      "\n",
      "Size of matrix dok: 335544440\n",
      "Shape of S : (1000000, 7987546) and number of elems : 6647848\n",
      "Size of matrix csr: 64\n",
      "Shape of S : (1000000, 7987546) and number of elems : 0\n",
      "Processed 38000000 videos.\n",
      "\n",
      "Size of matrix dok: 335544440\n",
      "Shape of S : (1000000, 7987546) and number of elems : 7081880\n",
      "Size of matrix csr: 64\n",
      "Shape of S : (1000000, 7987546) and number of elems : 0\n",
      "Processed 39000000 videos.\n",
      "\n",
      "Size of matrix dok: 335544440\n",
      "Shape of S : (1000000, 7987546) and number of elems : 7113954\n",
      "Size of matrix csr: 64\n",
      "Shape of S : (1000000, 7987546) and number of elems : 0\n",
      "Processed 40000000 videos.\n",
      "\n",
      "Size of matrix dok: 335544440\n",
      "Shape of S : (1000000, 7987546) and number of elems : 6774205\n",
      "Size of matrix csr: 64\n",
      "Shape of S : (1000000, 7987546) and number of elems : 0\n",
      "Processed 41000000 videos.\n",
      "\n",
      "Size of matrix dok: 335544440\n",
      "Shape of S : (1000000, 7987546) and number of elems : 7242229\n"
     ]
    },
    {
     "name": "stdout",
     "output_type": "stream",
     "text": [
      "Size of matrix csr: 64\n",
      "Shape of S : (1000000, 7987546) and number of elems : 0\n",
      "Processed 42000000 videos.\n",
      "\n",
      "Size of matrix dok: 335544440\n",
      "Shape of S : (1000000, 7987546) and number of elems : 7053103\n",
      "Size of matrix csr: 64\n",
      "Shape of S : (1000000, 7987546) and number of elems : 0\n",
      "Processed 43000000 videos.\n",
      "\n",
      "Size of matrix dok: 335544440\n",
      "Shape of S : (1000000, 7987546) and number of elems : 7368224\n",
      "Size of matrix csr: 64\n",
      "Shape of S : (1000000, 7987546) and number of elems : 0\n",
      "Processed 44000000 videos.\n",
      "\n",
      "Size of matrix dok: 335544440\n",
      "Shape of S : (1000000, 7987546) and number of elems : 7228056\n",
      "Size of matrix csr: 64\n",
      "Shape of S : (1000000, 7987546) and number of elems : 0\n",
      "Processed 45000000 videos.\n",
      "\n",
      "Size of matrix dok: 335544440\n",
      "Shape of S : (1000000, 7987546) and number of elems : 6848969\n",
      "Size of matrix csr: 64\n",
      "Shape of S : (1000000, 7987546) and number of elems : 0\n",
      "Processed 46000000 videos.\n",
      "\n",
      "Size of matrix dok: 335544440\n",
      "Shape of S : (1000000, 7987546) and number of elems : 7144505\n",
      "Size of matrix csr: 64\n",
      "Shape of S : (1000000, 7987546) and number of elems : 0\n",
      "Processed 47000000 videos.\n",
      "\n",
      "Size of matrix dok: 335544440\n",
      "Shape of S : (1000000, 7987546) and number of elems : 7017068\n",
      "Size of matrix csr: 64\n",
      "Shape of S : (1000000, 7987546) and number of elems : 0\n",
      "Processed 48000000 videos.\n",
      "\n",
      "Size of matrix dok: 335544440\n",
      "Shape of S : (1000000, 7987546) and number of elems : 7300000\n",
      "Size of matrix csr: 64\n",
      "Shape of S : (1000000, 7987546) and number of elems : 0\n",
      "Processed 49000000 videos.\n",
      "\n",
      "Size of matrix dok: 335544440\n",
      "Shape of S : (1000000, 7987546) and number of elems : 7204680\n",
      "Size of matrix csr: 64\n",
      "Shape of S : (1000000, 7987546) and number of elems : 0\n",
      "Processed 50000000 videos.\n",
      "\n",
      "Size of matrix dok: 335544440\n",
      "Shape of S : (1000000, 7987546) and number of elems : 7255894\n",
      "Size of matrix csr: 64\n",
      "Shape of S : (1000000, 7987546) and number of elems : 0\n",
      "Processed 51000000 videos.\n",
      "\n",
      "Size of matrix dok: 335544440\n",
      "Shape of S : (1000000, 7987546) and number of elems : 7151456\n",
      "Size of matrix csr: 64\n",
      "Shape of S : (1000000, 7987546) and number of elems : 0\n",
      "Processed 52000000 videos.\n",
      "\n",
      "Size of matrix dok: 335544440\n",
      "Shape of S : (1000000, 7987546) and number of elems : 7169364\n",
      "Size of matrix csr: 64\n",
      "Shape of S : (1000000, 7987546) and number of elems : 0\n",
      "Processed 53000000 videos.\n",
      "\n",
      "Size of matrix dok: 335544440\n",
      "Shape of S : (1000000, 7987546) and number of elems : 7313126\n",
      "Size of matrix csr: 64\n",
      "Shape of S : (1000000, 7987546) and number of elems : 0\n",
      "Processed 54000000 videos.\n",
      "\n",
      "Size of matrix dok: 335544440\n",
      "Shape of S : (1000000, 7987546) and number of elems : 7425460\n",
      "Size of matrix csr: 64\n",
      "Shape of S : (1000000, 7987546) and number of elems : 0\n",
      "Processed 55000000 videos.\n",
      "\n",
      "Size of matrix dok: 335544440\n",
      "Shape of S : (1000000, 7987546) and number of elems : 6864960\n",
      "Size of matrix csr: 64\n",
      "Shape of S : (1000000, 7987546) and number of elems : 0\n",
      "Processed 56000000 videos.\n",
      "\n",
      "Size of matrix dok: 335544440\n",
      "Shape of S : (1000000, 7987546) and number of elems : 6995543\n",
      "Size of matrix csr: 64\n",
      "Shape of S : (1000000, 7987546) and number of elems : 0\n",
      "Processed 57000000 videos.\n",
      "\n",
      "Size of matrix dok: 335544440\n",
      "Shape of S : (1000000, 7987546) and number of elems : 7104638\n",
      "Size of matrix csr: 64\n",
      "Shape of S : (1000000, 7987546) and number of elems : 0\n",
      "Processed 58000000 videos.\n",
      "\n",
      "Size of matrix dok: 335544440\n",
      "Shape of S : (1000000, 7987546) and number of elems : 6611899\n",
      "Size of matrix csr: 64\n",
      "Shape of S : (1000000, 7987546) and number of elems : 0\n",
      "Processed 59000000 videos.\n",
      "\n",
      "Size of matrix dok: 335544440\n",
      "Shape of S : (1000000, 7987546) and number of elems : 7183259\n",
      "Size of matrix csr: 64\n",
      "Shape of S : (1000000, 7987546) and number of elems : 0\n",
      "Processed 60000000 videos.\n",
      "\n",
      "Size of matrix dok: 335544440\n",
      "Shape of S : (1000000, 7987546) and number of elems : 7259357\n",
      "Size of matrix csr: 64\n",
      "Shape of S : (1000000, 7987546) and number of elems : 0\n",
      "Processed 61000000 videos.\n",
      "\n",
      "Size of matrix dok: 335544440\n",
      "Shape of S : (1000000, 7987546) and number of elems : 7406673\n",
      "Size of matrix csr: 64\n",
      "Shape of S : (1000000, 7987546) and number of elems : 0\n",
      "Processed 62000000 videos.\n",
      "\n",
      "Size of matrix dok: 335544440\n",
      "Shape of S : (1000000, 7987546) and number of elems : 7171510\n",
      "Size of matrix csr: 64\n",
      "Shape of S : (1000000, 7987546) and number of elems : 0\n",
      "Processed 63000000 videos.\n",
      "\n",
      "Size of matrix dok: 335544440\n",
      "Shape of S : (1000000, 7987546) and number of elems : 7431122\n",
      "Size of matrix csr: 64\n",
      "Shape of S : (1000000, 7987546) and number of elems : 0\n",
      "Processed 64000000 videos.\n",
      "\n",
      "Size of matrix dok: 335544440\n",
      "Shape of S : (1000000, 7987546) and number of elems : 7209230\n",
      "Size of matrix csr: 64\n",
      "Shape of S : (1000000, 7987546) and number of elems : 0\n",
      "Processed 65000000 videos.\n",
      "\n",
      "Size of matrix dok: 335544440\n",
      "Shape of S : (1000000, 7987546) and number of elems : 7298860\n",
      "Size of matrix csr: 64\n",
      "Shape of S : (1000000, 7987546) and number of elems : 0\n",
      "Processed 66000000 videos.\n",
      "\n",
      "Size of matrix dok: 335544440\n",
      "Shape of S : (1000000, 7987546) and number of elems : 7470189\n",
      "Size of matrix csr: 64\n",
      "Shape of S : (1000000, 7987546) and number of elems : 0\n",
      "Processed 67000000 videos.\n",
      "\n",
      "Size of matrix dok: 335544440\n",
      "Shape of S : (1000000, 7987546) and number of elems : 6630785\n",
      "Size of matrix csr: 64\n",
      "Shape of S : (1000000, 7987546) and number of elems : 0\n",
      "Processed 68000000 videos.\n",
      "\n",
      "Size of matrix dok: 335544440\n",
      "Shape of S : (1000000, 7987546) and number of elems : 7182310\n",
      "Size of matrix csr: 64\n",
      "Shape of S : (1000000, 7987546) and number of elems : 0\n",
      "Processed 69000000 videos.\n",
      "\n",
      "Size of matrix dok: 335544440\n",
      "Shape of S : (1000000, 7987546) and number of elems : 7169016\n",
      "Size of matrix csr: 64\n",
      "Shape of S : (1000000, 7987546) and number of elems : 0\n",
      "Processed 70000000 videos.\n",
      "\n",
      "Size of matrix dok: 335544440\n",
      "Shape of S : (1000000, 7987546) and number of elems : 7063185\n",
      "Size of matrix csr: 64\n",
      "Shape of S : (1000000, 7987546) and number of elems : 0\n",
      "Processed 71000000 videos.\n",
      "\n",
      "Size of matrix dok: 335544440\n",
      "Shape of S : (1000000, 7987546) and number of elems : 6861780\n",
      "Size of matrix csr: 64\n",
      "Shape of S : (1000000, 7987546) and number of elems : 0\n",
      "Processed 72000000 videos.\n",
      "\n",
      "Size of matrix dok: 335544440\n",
      "Shape of S : (1000000, 7987546) and number of elems : 7281939\n",
      "Size of matrix csr: 64\n",
      "Shape of S : (1000000, 7987546) and number of elems : 0\n",
      "Processed 73000000 videos.\n",
      "\n",
      "Size of matrix dok: 335544440\n",
      "Shape of S : (1000000, 7987546) and number of elems : 7956684\n",
      "Size of matrix csr: 64\n",
      "Shape of S : (1000000, 7987546) and number of elems : 0\n",
      "Processed 74000000 videos.\n",
      "\n",
      "Size of matrix dok: 335544440\n",
      "Shape of S : (1000000, 7987546) and number of elems : 7060739\n",
      "Size of matrix csr: 64\n",
      "Shape of S : (1000000, 7987546) and number of elems : 0\n",
      "Processed 75000000 videos.\n",
      "\n",
      "Size of matrix dok: 335544440\n",
      "Shape of S : (1000000, 7987546) and number of elems : 6555840\n",
      "Size of matrix csr: 64\n",
      "Shape of S : (1000000, 7987546) and number of elems : 0\n",
      "Processed 76000000 videos.\n",
      "\n",
      "Size of matrix dok: 335544440\n",
      "Shape of S : (1000000, 7987546) and number of elems : 6884367\n",
      "Size of matrix csr: 64\n",
      "Shape of S : (1000000, 7987546) and number of elems : 0\n",
      "Processed 77000000 videos.\n",
      "\n",
      "Size of matrix dok: 335544440\n",
      "Shape of S : (1000000, 7987546) and number of elems : 7597894\n",
      "Size of matrix csr: 64\n",
      "Shape of S : (1000000, 7987546) and number of elems : 0\n",
      "Processed 78000000 videos.\n",
      "\n",
      "Size of matrix dok: 335544440\n",
      "Shape of S : (1000000, 7987546) and number of elems : 6856518\n",
      "Size of matrix csr: 64\n",
      "Shape of S : (1000000, 7987546) and number of elems : 0\n",
      "Processed 79000000 videos.\n",
      "\n",
      "Size of matrix dok: 335544440\n",
      "Shape of S : (1000000, 7987546) and number of elems : 7789847\n",
      "Size of matrix csr: 64\n",
      "Shape of S : (1000000, 7987546) and number of elems : 0\n",
      "Processed 80000000 videos.\n",
      "\n",
      "Size of matrix dok: 335544440\n",
      "Shape of S : (1000000, 7987546) and number of elems : 6973693\n",
      "Size of matrix csr: 64\n",
      "Shape of S : (1000000, 7987546) and number of elems : 0\n",
      "Processed 81000000 videos.\n",
      "\n",
      "Size of matrix dok: 335544440\n",
      "Shape of S : (1000000, 7987546) and number of elems : 7431168\n",
      "Size of matrix csr: 64\n",
      "Shape of S : (1000000, 7987546) and number of elems : 0\n",
      "Processed 82000000 videos.\n",
      "\n",
      "Size of matrix dok: 335544440\n",
      "Shape of S : (1000000, 7987546) and number of elems : 6866597\n",
      "Size of matrix csr: 64\n",
      "Shape of S : (1000000, 7987546) and number of elems : 0\n",
      "Processed 83000000 videos.\n",
      "\n"
     ]
    },
    {
     "name": "stdout",
     "output_type": "stream",
     "text": [
      "Size of matrix dok: 335544440\n",
      "Shape of S : (1000000, 7987546) and number of elems : 7170347\n",
      "Size of matrix csr: 64\n",
      "Shape of S : (1000000, 7987546) and number of elems : 0\n",
      "Processed 84000000 videos.\n",
      "\n",
      "Size of matrix dok: 335544440\n",
      "Shape of S : (1000000, 7987546) and number of elems : 7270759\n",
      "Size of matrix csr: 64\n",
      "Shape of S : (1000000, 7987546) and number of elems : 0\n",
      "Processed 85000000 videos.\n",
      "\n"
     ]
    }
   ],
   "source": [
    "idx = 0\n",
    "\n",
    "# Row index in the sparse matrix (one row for each video)\n",
    "i_vid = 0\n",
    "\n",
    "\n",
    "for line in reader.readlines():\n",
    "    ###start_iter = time.time()\n",
    "    idx += 1\n",
    "    \n",
    "    if idx % 1000000 == 0:\n",
    "        print('Size of matrix dok: ' + str(sys.getsizeof(S)))\n",
    "        print('Shape of S : ' + str(S.get_shape()) + ' and number of elems : ' + str(S.getnnz()))\n",
    "        S = S.tocsr()\n",
    "        print('Size of matrix csr: ' + str(sys.getsizeof(S)))\n",
    "        file_name = 'S' + str(int(idx / 1000000))\n",
    "        scipy.sparse.save_npz('/home/olam/csr_matrices/' + file_name + '.npz', S)\n",
    "        S = dok_matrix((1000000, size_of_tokens_dict), dtype=np.uint8)\n",
    "        print('Shape of S : ' + str(S.get_shape()) + ' and number of elems : ' + str(S.getnnz()))\n",
    "        print('Processed ' + str(idx) + ' videos.')\n",
    "        print('')\n",
    "        \n",
    "        \n",
    "    # line is a str dict, video is the dict corresponding to the str dict\n",
    "    video = json.loads(line)\n",
    "    \n",
    "    if idx in idx_vid_to_consider:\n",
    "        \n",
    "        # For each video, create a underlying dictionnary for filling the sparse matrix efficiently\n",
    "        dict_freq_tokens_for_sparse_matrix = {}\n",
    "    \n",
    "        # Get the tokens for each video and theirs number of occurences\n",
    "        ###start_freq = time.time()\n",
    "        freq_tokens_per_video = get_freq_tokens_per_video(video)\n",
    "        ###print('Time for getting tokens of video : ' + str(time.time() - start_freq))\n",
    "\n",
    "        # Fill the underlying dict\n",
    "        fill_underlying_dict(freq_tokens_per_video, dict_stemmed_tokens, dict_freq_tokens_for_sparse_matrix, i_vid)\n",
    "\n",
    "        # Update the Sparse Matrix\n",
    "        ###start_update = time.time()\n",
    "        dict.update(S, dict_freq_tokens_for_sparse_matrix)\n",
    "        ###print('Time for updating sparse_matrix : ' + str(time.time() - start_update))\n",
    "\n",
    "        # Increment Row index for next video\n",
    "        i_vid += 1\n",
    "        \n",
    "    ###print('Time for 1 iter : ' + str(time.time() - start_iter))\n",
    "    \n",
    "# Save last sparse matrix\n",
    "scipy.sparse.save_npz('/home/olam/csr_matrices/S_last.npz', S)"
   ]
  },
  {
   "cell_type": "code",
   "execution_count": 202,
   "metadata": {},
   "outputs": [],
   "source": [
    "S = scipy.sparse.load_npz('/home/olam/csr_matrices/S_1.npz')"
   ]
  },
  {
   "cell_type": "code",
   "execution_count": 205,
   "metadata": {},
   "outputs": [],
   "source": [
    "for i in range(2, 86):\n",
    "    S_next = scipy.sparse.load_npz('/home/olam/csr_matrices/S' + str(i) + '.npz')\n",
    "    S = scipy.sparse.vstack([S, S_next])\n",
    "\n",
    "# Add last matrix\n",
    "S_last = scipy.sparse.load_npz('/home/olam/csr_matrices/S_last.npz')\n",
    "S = scipy.sparse.vstack([S, S_last])"
   ]
  },
  {
   "cell_type": "code",
   "execution_count": 206,
   "metadata": {},
   "outputs": [
    {
     "data": {
      "text/plain": [
       "<85000000x7987546 sparse matrix of type '<class 'numpy.uint8'>'\n",
       "\twith 610115876 stored elements in Compressed Sparse Row format>"
      ]
     },
     "execution_count": 206,
     "metadata": {},
     "output_type": "execute_result"
    }
   ],
   "source": [
    "S"
   ]
  },
  {
   "cell_type": "code",
   "execution_count": 207,
   "metadata": {},
   "outputs": [
    {
     "ename": "MemoryError",
     "evalue": "Unable to allocate 617. TiB for an array with shape (85000000, 7987546) and data type uint8",
     "output_type": "error",
     "traceback": [
      "\u001b[0;31m---------------------------------------------------------------------------\u001b[0m",
      "\u001b[0;31mMemoryError\u001b[0m                               Traceback (most recent call last)",
      "\u001b[0;32m<ipython-input-207-1cbff44551b9>\u001b[0m in \u001b[0;36m<module>\u001b[0;34m\u001b[0m\n\u001b[0;32m----> 1\u001b[0;31m \u001b[0mS\u001b[0m\u001b[0;34m.\u001b[0m\u001b[0mtodense\u001b[0m\u001b[0;34m(\u001b[0m\u001b[0;34m)\u001b[0m\u001b[0;34m\u001b[0m\u001b[0;34m\u001b[0m\u001b[0m\n\u001b[0m",
      "\u001b[0;32m/opt/anaconda3/lib/python3.7/site-packages/scipy/sparse/base.py\u001b[0m in \u001b[0;36mtodense\u001b[0;34m(self, order, out)\u001b[0m\n\u001b[1;32m    849\u001b[0m             \u001b[0;31m`\u001b[0m\u001b[0mnumpy\u001b[0m\u001b[0;34m.\u001b[0m\u001b[0mmatrix\u001b[0m\u001b[0;31m`\u001b[0m \u001b[0mobject\u001b[0m \u001b[0mthat\u001b[0m \u001b[0mshares\u001b[0m \u001b[0mthe\u001b[0m \u001b[0msame\u001b[0m \u001b[0mmemory\u001b[0m\u001b[0;34m.\u001b[0m\u001b[0;34m\u001b[0m\u001b[0;34m\u001b[0m\u001b[0m\n\u001b[1;32m    850\u001b[0m         \"\"\"\n\u001b[0;32m--> 851\u001b[0;31m         \u001b[0;32mreturn\u001b[0m \u001b[0masmatrix\u001b[0m\u001b[0;34m(\u001b[0m\u001b[0mself\u001b[0m\u001b[0;34m.\u001b[0m\u001b[0mtoarray\u001b[0m\u001b[0;34m(\u001b[0m\u001b[0morder\u001b[0m\u001b[0;34m=\u001b[0m\u001b[0morder\u001b[0m\u001b[0;34m,\u001b[0m \u001b[0mout\u001b[0m\u001b[0;34m=\u001b[0m\u001b[0mout\u001b[0m\u001b[0;34m)\u001b[0m\u001b[0;34m)\u001b[0m\u001b[0;34m\u001b[0m\u001b[0;34m\u001b[0m\u001b[0m\n\u001b[0m\u001b[1;32m    852\u001b[0m \u001b[0;34m\u001b[0m\u001b[0m\n\u001b[1;32m    853\u001b[0m     \u001b[0;32mdef\u001b[0m \u001b[0mtoarray\u001b[0m\u001b[0;34m(\u001b[0m\u001b[0mself\u001b[0m\u001b[0;34m,\u001b[0m \u001b[0morder\u001b[0m\u001b[0;34m=\u001b[0m\u001b[0;32mNone\u001b[0m\u001b[0;34m,\u001b[0m \u001b[0mout\u001b[0m\u001b[0;34m=\u001b[0m\u001b[0;32mNone\u001b[0m\u001b[0;34m)\u001b[0m\u001b[0;34m:\u001b[0m\u001b[0;34m\u001b[0m\u001b[0;34m\u001b[0m\u001b[0m\n",
      "\u001b[0;32m/opt/anaconda3/lib/python3.7/site-packages/scipy/sparse/compressed.py\u001b[0m in \u001b[0;36mtoarray\u001b[0;34m(self, order, out)\u001b[0m\n\u001b[1;32m   1023\u001b[0m         \u001b[0;32mif\u001b[0m \u001b[0mout\u001b[0m \u001b[0;32mis\u001b[0m \u001b[0;32mNone\u001b[0m \u001b[0;32mand\u001b[0m \u001b[0morder\u001b[0m \u001b[0;32mis\u001b[0m \u001b[0;32mNone\u001b[0m\u001b[0;34m:\u001b[0m\u001b[0;34m\u001b[0m\u001b[0;34m\u001b[0m\u001b[0m\n\u001b[1;32m   1024\u001b[0m             \u001b[0morder\u001b[0m \u001b[0;34m=\u001b[0m \u001b[0mself\u001b[0m\u001b[0;34m.\u001b[0m\u001b[0m_swap\u001b[0m\u001b[0;34m(\u001b[0m\u001b[0;34m'cf'\u001b[0m\u001b[0;34m)\u001b[0m\u001b[0;34m[\u001b[0m\u001b[0;36m0\u001b[0m\u001b[0;34m]\u001b[0m\u001b[0;34m\u001b[0m\u001b[0;34m\u001b[0m\u001b[0m\n\u001b[0;32m-> 1025\u001b[0;31m         \u001b[0mout\u001b[0m \u001b[0;34m=\u001b[0m \u001b[0mself\u001b[0m\u001b[0;34m.\u001b[0m\u001b[0m_process_toarray_args\u001b[0m\u001b[0;34m(\u001b[0m\u001b[0morder\u001b[0m\u001b[0;34m,\u001b[0m \u001b[0mout\u001b[0m\u001b[0;34m)\u001b[0m\u001b[0;34m\u001b[0m\u001b[0;34m\u001b[0m\u001b[0m\n\u001b[0m\u001b[1;32m   1026\u001b[0m         \u001b[0;32mif\u001b[0m \u001b[0;32mnot\u001b[0m \u001b[0;34m(\u001b[0m\u001b[0mout\u001b[0m\u001b[0;34m.\u001b[0m\u001b[0mflags\u001b[0m\u001b[0;34m.\u001b[0m\u001b[0mc_contiguous\u001b[0m \u001b[0;32mor\u001b[0m \u001b[0mout\u001b[0m\u001b[0;34m.\u001b[0m\u001b[0mflags\u001b[0m\u001b[0;34m.\u001b[0m\u001b[0mf_contiguous\u001b[0m\u001b[0;34m)\u001b[0m\u001b[0;34m:\u001b[0m\u001b[0;34m\u001b[0m\u001b[0;34m\u001b[0m\u001b[0m\n\u001b[1;32m   1027\u001b[0m             \u001b[0;32mraise\u001b[0m \u001b[0mValueError\u001b[0m\u001b[0;34m(\u001b[0m\u001b[0;34m'Output array must be C or F contiguous'\u001b[0m\u001b[0;34m)\u001b[0m\u001b[0;34m\u001b[0m\u001b[0;34m\u001b[0m\u001b[0m\n",
      "\u001b[0;32m/opt/anaconda3/lib/python3.7/site-packages/scipy/sparse/base.py\u001b[0m in \u001b[0;36m_process_toarray_args\u001b[0;34m(self, order, out)\u001b[0m\n\u001b[1;32m   1187\u001b[0m             \u001b[0;32mreturn\u001b[0m \u001b[0mout\u001b[0m\u001b[0;34m\u001b[0m\u001b[0;34m\u001b[0m\u001b[0m\n\u001b[1;32m   1188\u001b[0m         \u001b[0;32melse\u001b[0m\u001b[0;34m:\u001b[0m\u001b[0;34m\u001b[0m\u001b[0;34m\u001b[0m\u001b[0m\n\u001b[0;32m-> 1189\u001b[0;31m             \u001b[0;32mreturn\u001b[0m \u001b[0mnp\u001b[0m\u001b[0;34m.\u001b[0m\u001b[0mzeros\u001b[0m\u001b[0;34m(\u001b[0m\u001b[0mself\u001b[0m\u001b[0;34m.\u001b[0m\u001b[0mshape\u001b[0m\u001b[0;34m,\u001b[0m \u001b[0mdtype\u001b[0m\u001b[0;34m=\u001b[0m\u001b[0mself\u001b[0m\u001b[0;34m.\u001b[0m\u001b[0mdtype\u001b[0m\u001b[0;34m,\u001b[0m \u001b[0morder\u001b[0m\u001b[0;34m=\u001b[0m\u001b[0morder\u001b[0m\u001b[0;34m)\u001b[0m\u001b[0;34m\u001b[0m\u001b[0;34m\u001b[0m\u001b[0m\n\u001b[0m\u001b[1;32m   1190\u001b[0m \u001b[0;34m\u001b[0m\u001b[0m\n\u001b[1;32m   1191\u001b[0m \u001b[0;34m\u001b[0m\u001b[0m\n",
      "\u001b[0;31mMemoryError\u001b[0m: Unable to allocate 617. TiB for an array with shape (85000000, 7987546) and data type uint8"
     ]
    }
   ],
   "source": [
    "S.todense()"
   ]
  },
  {
   "cell_type": "code",
   "execution_count": null,
   "metadata": {},
   "outputs": [],
   "source": []
  }
 ],
 "metadata": {
  "kernelspec": {
   "display_name": "Python 3",
   "language": "python",
   "name": "python3"
  },
  "language_info": {
   "codemirror_mode": {
    "name": "ipython",
    "version": 3
   },
   "file_extension": ".py",
   "mimetype": "text/x-python",
   "name": "python",
   "nbconvert_exporter": "python",
   "pygments_lexer": "ipython3",
   "version": "3.7.7"
  }
 },
 "nbformat": 4,
 "nbformat_minor": 4
}
