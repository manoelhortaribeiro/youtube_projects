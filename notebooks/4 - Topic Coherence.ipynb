{
 "cells": [
  {
   "cell_type": "code",
   "execution_count": 1,
   "metadata": {},
   "outputs": [
    {
     "name": "stderr",
     "output_type": "stream",
     "text": [
      "/home/olam/anaconda3/lib/python3.8/site-packages/scipy/sparse/sparsetools.py:21: DeprecationWarning: `scipy.sparse.sparsetools` is deprecated!\n",
      "scipy.sparse.sparsetools is a private module for scipy.sparse, and should not be used.\n",
      "  _deprecated()\n"
     ]
    }
   ],
   "source": [
    "import collections\n",
    "import numpy as np\n",
    "import matplotlib.pyplot as plt\n",
    "import pandas as pd\n",
    "import pickle\n",
    "import pyLDAvis\n",
    "import random\n",
    "import scipy.sparse\n",
    "import sys\n",
    "import time\n",
    "\n",
    "from gensim.models.coherencemodel import CoherenceModel\n",
    "from pyspark import SparkContext, SparkConf\n",
    "from pyspark.sql import SparkSession\n",
    "from tmtoolkit.topicmod.evaluate import metric_coherence_gensim"
   ]
  },
  {
   "cell_type": "code",
   "execution_count": 2,
   "metadata": {},
   "outputs": [],
   "source": [
    "class FakedGensimDict:\n",
    "    \"\"\"\n",
    "    Locally made class for `~gensim.corpora.dictionary.Dictionary`\n",
    "    \"\"\"\n",
    "    def __init__(self, data):\n",
    "        if not isinstance(data, dict):\n",
    "            raise ValueError('`data` must be an instance of `dict`')\n",
    "\n",
    "        self.id2token = data\n",
    "        self.token2id = {v: k for k, v in data.items()}\n",
    "\n",
    "    @staticmethod\n",
    "    def from_vocab(vocab):\n",
    "        return FakedGensimDict(dict(zip(range(len(vocab)), vocab)))"
   ]
  },
  {
   "cell_type": "code",
   "execution_count": 3,
   "metadata": {},
   "outputs": [
    {
     "name": "stderr",
     "output_type": "stream",
     "text": [
      "/home/olam/anaconda3/lib/python3.8/site-packages/pyspark/sql/context.py:75: DeprecationWarning: Deprecated in 3.0.0. Use SparkSession.builder.getOrCreate() instead.\n",
      "  warnings.warn(\n"
     ]
    }
   ],
   "source": [
    "conf = SparkConf().setMaster(\"local\").setAll([\n",
    "     ('spark.executor.memory', '8g'),\n",
    "     ('spark.driver.memory','8g'),\n",
    "     ('spark.driver.maxResultSize', '0')\n",
    "    ])\n",
    "\n",
    "# create the session\n",
    "spark = SparkSession.builder.config(conf=conf).getOrCreate()\n",
    "\n",
    "# create the context\n",
    "sc = spark.sparkContext"
   ]
  },
  {
   "cell_type": "code",
   "execution_count": 4,
   "metadata": {},
   "outputs": [],
   "source": [
    "def remove_zero_rows(M):\n",
    "    '''Function that removes all rows from sparse matrix M that contains only zero.'''\n",
    "    num_nonzeros = np.diff(M.indptr)\n",
    "    return M[num_nonzeros != 0]"
   ]
  },
  {
   "cell_type": "code",
   "execution_count": 5,
   "metadata": {},
   "outputs": [],
   "source": [
    "# Load data\n",
    "S = scipy.sparse.load_npz('/dlabdata1/youtube_large/olam/data/view10000_sub100000/csr_matrices_100000sub/S_final_tok100vid.npz')\n",
    "\n",
    "# Load set of videos to consider\n",
    "with open('/dlabdata1/youtube_large/olam/data/view10000_sub100000/sorted_idx_relevant_vid_top20_sub100000.pickle', 'rb') as f:\n",
    "    sorted_idx_relevant_vid_top20 = pickle.load(f)\n",
    "f.close()\n",
    "\n",
    "S_20 = S[sorted_idx_relevant_vid_top20,:]\n",
    "S_20 = remove_zero_rows(S_20)"
   ]
  },
  {
   "cell_type": "code",
   "execution_count": 6,
   "metadata": {},
   "outputs": [],
   "source": [
    "# Load dictionnary of words\n",
    "with open('/dlabdata1/youtube_large/olam/data/view10000_sub100000/id2word_tok100vid_sub100000.pickle', 'rb') as f:\n",
    "    id2word = pickle.load(f)\n",
    "f.close()"
   ]
  },
  {
   "cell_type": "code",
   "execution_count": null,
   "metadata": {
    "scrolled": true
   },
   "outputs": [],
   "source": [
    "describe_topics = spark.read.json('/dlabdata1/youtube_large/olam/data/view10000_sub100000/LDA_models/top20/describe_topics_75_iter1000_tok100vid.json')\n",
    "\n",
    "# Print topics\n",
    "for row in describe_topics.sort('topic').rdd.collect():\n",
    "    print('Topic ' + str(row.topic) + ': ')\n",
    "    term_weights = row.termWeights\n",
    "    for i, token_id in enumerate(row.termIndices):\n",
    "        print('   With weight of ' + str(term_weights[i]) + ' : ' + id2word[token_id] )\n",
    "        if i >= 10:\n",
    "            break"
   ]
  },
  {
   "cell_type": "markdown",
   "metadata": {},
   "source": [
    "## Computing c_v coherence of a topic model"
   ]
  },
  {
   "cell_type": "code",
   "execution_count": null,
   "metadata": {},
   "outputs": [],
   "source": [
    "topics = []\n",
    "\n",
    "for row in describe_topics.sort('topic').rdd.collect():\n",
    "    tokenized_topic = []\n",
    "    for i, token_id in enumerate(row.termIndices):\n",
    "        tokenized_topic.append(id2word[token_id])\n",
    "        if i > 5:\n",
    "            break\n",
    "    topics.append(tokenized_topic)"
   ]
  },
  {
   "cell_type": "code",
   "execution_count": null,
   "metadata": {},
   "outputs": [],
   "source": [
    "describe_topics = describe_topics.sort('topic')"
   ]
  },
  {
   "cell_type": "code",
   "execution_count": null,
   "metadata": {},
   "outputs": [],
   "source": [
    "vocabSize = S_20.shape[1]"
   ]
  },
  {
   "cell_type": "code",
   "execution_count": null,
   "metadata": {},
   "outputs": [],
   "source": [
    "topic_word_dist = []\n",
    "\n",
    "for row in describe_topics.collect():\n",
    "    termIndices = row['termIndices']\n",
    "    termWeights = row['termWeights']\n",
    "    \n",
    "    word_dist = {}\n",
    "    for i in range(vocabSize):\n",
    "        word_dist[termIndices[i]] = termWeights[i]\n",
    "        \n",
    "    word_dist_ordered = collections.OrderedDict(sorted(word_dist.items()))\n",
    "    topic_word_dist.append(list(word_dist_ordered.values()))"
   ]
  },
  {
   "cell_type": "code",
   "execution_count": null,
   "metadata": {},
   "outputs": [],
   "source": [
    "topic_word_dist = np.matrix(topic_word_dist)"
   ]
  },
  {
   "cell_type": "code",
   "execution_count": null,
   "metadata": {},
   "outputs": [],
   "source": [
    "vocab = list(id2word.values())"
   ]
  },
  {
   "cell_type": "code",
   "execution_count": null,
   "metadata": {},
   "outputs": [],
   "source": [
    "vocab = np.array(vocab)"
   ]
  },
  {
   "cell_type": "code",
   "execution_count": null,
   "metadata": {},
   "outputs": [],
   "source": [
    "texts = []"
   ]
  },
  {
   "cell_type": "code",
   "execution_count": null,
   "metadata": {},
   "outputs": [],
   "source": [
    "for i in range(S_20.shape[0]):\n",
    "    token_indices = list(S_20.getrow(i).nonzero()[1])\n",
    "    tokens = []\n",
    "    \n",
    "    for token_indice in token_indices:\n",
    "        tokens.append(id2word[token_indice])\n",
    "    texts.append(tokens)"
   ]
  },
  {
   "cell_type": "code",
   "execution_count": null,
   "metadata": {},
   "outputs": [],
   "source": [
    "topic_word_dist.shape"
   ]
  },
  {
   "cell_type": "code",
   "execution_count": null,
   "metadata": {},
   "outputs": [],
   "source": [
    "coherence_score = metric_coherence_gensim(measure='c_v',\n",
    "                                          topic_word_distrib=topic_word_dist,\n",
    "                                          vocab=vocab,\n",
    "                                          texts=texts)"
   ]
  },
  {
   "cell_type": "code",
   "execution_count": null,
   "metadata": {},
   "outputs": [],
   "source": [
    "coherence_model = CoherenceModel(topics=topics,\n",
    "                                 corpus=S_20,\n",
    "                                 dictionary=FakedGensimDict.from_vocab(vocab),\n",
    "                                 texts=texts,\n",
    "                                 coherence='c_v')"
   ]
  },
  {
   "cell_type": "code",
   "execution_count": null,
   "metadata": {},
   "outputs": [],
   "source": [
    "coherence_model.get_coherence() ## with 5 words to describe topics"
   ]
  },
  {
   "cell_type": "code",
   "execution_count": null,
   "metadata": {},
   "outputs": [],
   "source": [
    "coherence_model.get_coherence() ## with 10 words to describe topics"
   ]
  },
  {
   "cell_type": "code",
   "execution_count": null,
   "metadata": {},
   "outputs": [],
   "source": [
    "coherence_model.get_coherence() ## with 20 words to describe topics"
   ]
  },
  {
   "cell_type": "markdown",
   "metadata": {},
   "source": [
    "## Get coherence scores from multiple models to choose optimal number of topics"
   ]
  },
  {
   "cell_type": "code",
   "execution_count": 7,
   "metadata": {},
   "outputs": [],
   "source": [
    "texts = []\n",
    "\n",
    "for i in range(S_20.shape[0]):\n",
    "    token_indices = list(S_20.getrow(i).nonzero()[1])\n",
    "    tokens = []\n",
    "    \n",
    "    for token_indice in token_indices:\n",
    "        tokens.append(id2word[token_indice])\n",
    "    texts.append(tokens)"
   ]
  },
  {
   "cell_type": "code",
   "execution_count": 8,
   "metadata": {
    "scrolled": true
   },
   "outputs": [
    {
     "name": "stdout",
     "output_type": "stream",
     "text": [
      "Computing coherence score for model with 40 topics...\n",
      "Computing coherence score for model with 45 topics...\n",
      "Computing coherence score for model with 50 topics...\n",
      "Computing coherence score for model with 55 topics...\n",
      "Computing coherence score for model with 60 topics...\n",
      "Computing coherence score for model with 65 topics...\n",
      "Computing coherence score for model with 70 topics...\n",
      "Computing coherence score for model with 75 topics...\n",
      "Computing coherence score for model with 80 topics...\n",
      "Computing coherence score for model with 85 topics...\n",
      "Computing coherence score for model with 90 topics...\n",
      "Computing coherence score for model with 95 topics...\n",
      "Computing coherence score for model with 100 topics...\n",
      "Computing coherence score for model with 105 topics...\n",
      "Computing coherence score for model with 110 topics...\n"
     ]
    }
   ],
   "source": [
    "coherence_scores = []\n",
    "n_topics_list = [40, 45, 50, 55, 60, 65, 70, 75, 80, 85, 90, 95, 100, 105, 110]\n",
    "\n",
    "for i, n_topics in enumerate(n_topics_list):\n",
    "    \n",
    "    print('Computing coherence score for model with ' + str(n_topics) + ' topics...')\n",
    "    \n",
    "    # Get describe_topics dataframe\n",
    "    describe_topics = spark.read.json('/dlabdata1/youtube_large/olam/data/view10000_sub100000/LDA_models/top20/tune/describe_topics_' + str(n_topics) + '_iter1000_tok100vid.json')\n",
    "    \n",
    "    \n",
    "    # Characterize the topics with tokens\n",
    "    topics = []\n",
    "\n",
    "    for row in describe_topics.sort('topic').rdd.collect():\n",
    "        tokenized_topic = []\n",
    "        for j, token_id in enumerate(row.termIndices):\n",
    "            tokenized_topic.append(id2word[token_id])\n",
    "            if j > 10:\n",
    "                break\n",
    "        topics.append(tokenized_topic)\n",
    "        \n",
    "    # Compute coherence score and append to coherence scores\n",
    "    coherence_model = CoherenceModel(topics=topics,\n",
    "                                 corpus=S_20,\n",
    "                                 dictionary=FakedGensimDict(id2word),\n",
    "                                 texts=texts,\n",
    "                                 coherence='c_v')\n",
    "    \n",
    "    coherence_scores.append(coherence_model.get_coherence())"
   ]
  },
  {
   "cell_type": "code",
   "execution_count": 9,
   "metadata": {},
   "outputs": [
    {
     "data": {
      "text/plain": [
       "([<matplotlib.axis.XTick at 0x7f0833ddae20>,\n",
       "  <matplotlib.axis.XTick at 0x7f0833dda370>,\n",
       "  <matplotlib.axis.XTick at 0x7f083605fc10>,\n",
       "  <matplotlib.axis.XTick at 0x7f07d0346d90>,\n",
       "  <matplotlib.axis.XTick at 0x7f07d048a850>,\n",
       "  <matplotlib.axis.XTick at 0x7f07d0346ac0>,\n",
       "  <matplotlib.axis.XTick at 0x7f08845da370>,\n",
       "  <matplotlib.axis.XTick at 0x7f07878940a0>,\n",
       "  <matplotlib.axis.XTick at 0x7f07878946d0>,\n",
       "  <matplotlib.axis.XTick at 0x7f0787894c40>,\n",
       "  <matplotlib.axis.XTick at 0x7f07a57ff760>,\n",
       "  <matplotlib.axis.XTick at 0x7f07a57ff940>,\n",
       "  <matplotlib.axis.XTick at 0x7f07a57ffa30>,\n",
       "  <matplotlib.axis.XTick at 0x7f079168be50>,\n",
       "  <matplotlib.axis.XTick at 0x7f07a57ffd00>],\n",
       " [Text(0, 0, '40'),\n",
       "  Text(1, 0, '45'),\n",
       "  Text(2, 0, '50'),\n",
       "  Text(3, 0, '55'),\n",
       "  Text(4, 0, '60'),\n",
       "  Text(5, 0, '65'),\n",
       "  Text(6, 0, '70'),\n",
       "  Text(7, 0, '75'),\n",
       "  Text(8, 0, '80'),\n",
       "  Text(9, 0, '85'),\n",
       "  Text(10, 0, '90'),\n",
       "  Text(11, 0, '95'),\n",
       "  Text(12, 0, '100'),\n",
       "  Text(13, 0, '105'),\n",
       "  Text(14, 0, '110')])"
      ]
     },
     "execution_count": 9,
     "metadata": {},
     "output_type": "execute_result"
    },
    {
     "data": {
      "image/png": "[encoded data removed]",
      "text/plain": [
       "<Figure size 1440x720 with 1 Axes>"
      ]
     },
     "metadata": {
      "needs_background": "light"
     },
     "output_type": "display_data"
    }
   ],
   "source": [
    "fig, ax = plt.subplots(figsize=(20, 10))\n",
    "\n",
    "ax.set_title('Coherence score for k number of topics', fontsize=20)\n",
    "ax.set_xlabel('k Number of Topics', fontsize=16)\n",
    "ax.set_ylabel('Coherence Score', fontsize=16)\n",
    "\n",
    "ax.grid('on')\n",
    "\n",
    "ax.plot(coherence_scores)\n",
    "\n",
    "plt.xticks(np.arange(len(n_topics_list)), n_topics_list)"
   ]
  },
  {
   "cell_type": "code",
   "execution_count": null,
   "metadata": {},
   "outputs": [],
   "source": []
  }
 ],
 "metadata": {
  "kernelspec": {
   "display_name": "Python 3",
   "language": "python",
   "name": "python3"
  },
  "language_info": {
   "codemirror_mode": {
    "name": "ipython",
    "version": 3
   },
   "file_extension": ".py",
   "mimetype": "text/x-python",
   "name": "python",
   "nbconvert_exporter": "python",
   "pygments_lexer": "ipython3",
   "version": "3.8.3"
  }
 },
 "nbformat": 4,
 "nbformat_minor": 4
}
