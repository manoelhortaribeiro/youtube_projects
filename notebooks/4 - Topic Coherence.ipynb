{
 "cells": [
  {
   "cell_type": "code",
   "execution_count": 1,
   "metadata": {},
   "outputs": [
    {
     "name": "stderr",
     "output_type": "stream",
     "text": [
      "/home/olam/anaconda3/lib/python3.8/site-packages/scipy/sparse/sparsetools.py:21: DeprecationWarning: `scipy.sparse.sparsetools` is deprecated!\n",
      "scipy.sparse.sparsetools is a private module for scipy.sparse, and should not be used.\n",
      "  _deprecated()\n"
     ]
    }
   ],
   "source": [
    "import collections\n",
    "import numpy as np\n",
    "import matplotlib.pyplot as plt\n",
    "import pandas as pd\n",
    "import pickle\n",
    "import pyLDAvis\n",
    "import random\n",
    "import scipy.sparse\n",
    "import sys\n",
    "import time\n",
    "\n",
    "from gensim.models.coherencemodel import CoherenceModel\n",
    "from pyspark import SparkContext\n",
    "from pyspark.sql import SparkSession\n",
    "from tmtoolkit.topicmod.evaluate import metric_coherence_gensim"
   ]
  },
  {
   "cell_type": "code",
   "execution_count": 2,
   "metadata": {},
   "outputs": [],
   "source": [
    "class FakedGensimDict:\n",
    "    \"\"\"\n",
    "    Locally made class for `~gensim.corpora.dictionary.Dictionary`\n",
    "    \"\"\"\n",
    "    def __init__(self, data, S):\n",
    "        if not isinstance(data, dict):\n",
    "            raise ValueError('`data` must be an instance of `dict`')\n",
    "\n",
    "        self.id2token = data\n",
    "        self.token2id = {v: k for k, v in data.items()}\n",
    "        self.doc2bow = S\n",
    "\n",
    "    @staticmethod\n",
    "    def from_vocab(vocab):\n",
    "        return FakedGensimDict(dict(zip(range(len(vocab)), vocab)))"
   ]
  },
  {
   "cell_type": "code",
   "execution_count": 3,
   "metadata": {},
   "outputs": [
    {
     "name": "stderr",
     "output_type": "stream",
     "text": [
      "/home/olam/anaconda3/lib/python3.8/site-packages/pyspark/sql/context.py:75: DeprecationWarning: Deprecated in 3.0.0. Use SparkSession.builder.getOrCreate() instead.\n",
      "  warnings.warn(\n"
     ]
    }
   ],
   "source": [
    "conf = SparkConf().setMaster(\"local\").setAll([\n",
    "     ('spark.executor.memory', '8g'),\n",
    "     ('spark.driver.memory','8g'),\n",
    "     ('spark.driver.maxResultSize', '0')\n",
    "    ])\n",
    "\n",
    "# create the session\n",
    "spark = SparkSession.builder.config(conf=conf).getOrCreate()\n",
    "\n",
    "# create the context\n",
    "sc = spark.sparkContext"
   ]
  },
  {
   "cell_type": "code",
   "execution_count": 4,
   "metadata": {},
   "outputs": [],
   "source": [
    "def remove_zero_rows(M):\n",
    "    '''Function that removes all rows from sparse matrix M that contains only zero.'''\n",
    "    num_nonzeros = np.diff(M.indptr)\n",
    "    return M[num_nonzeros != 0]"
   ]
  },
  {
   "cell_type": "code",
   "execution_count": 5,
   "metadata": {},
   "outputs": [],
   "source": [
    "# Load data\n",
    "S = scipy.sparse.load_npz('/dlabdata1/youtube_large/olam/data/view10000_sub100000/csr_matrices_100000sub/S_final_tok100vid.npz')\n",
    "\n",
    "# Load set of videos to consider\n",
    "with open('/dlabdata1/youtube_large/olam/data/view10000_sub100000/sorted_idx_relevant_vid_top20_sub100000.pickle', 'rb') as f:\n",
    "    sorted_idx_relevant_vid_top20 = pickle.load(f)\n",
    "f.close()\n",
    "\n",
    "S_20 = S[sorted_idx_relevant_vid_top20,:]\n",
    "S_20 = remove_zero_rows(S_20)"
   ]
  },
  {
   "cell_type": "code",
   "execution_count": 6,
   "metadata": {},
   "outputs": [],
   "source": [
    "# Load dictionnary of words\n",
    "with open('/dlabdata1/youtube_large/olam/data/view10000_sub100000/id2word_tok100vid_sub100000.pickle', 'rb') as f:\n",
    "    id2word = pickle.load(f)\n",
    "f.close()"
   ]
  },
  {
   "cell_type": "code",
   "execution_count": null,
   "metadata": {
    "scrolled": true
   },
   "outputs": [],
   "source": [
    "describe_topics = spark.read.json('/dlabdata1/youtube_large/olam/data/view10000_sub100000/LDA_models/top20/describe_topics_75_iter1000_tok100vid.json')\n",
    "\n",
    "# Print topics\n",
    "for row in describe_topics.sort('topic').rdd.collect():\n",
    "    print('Topic ' + str(row.topic) + ': ')\n",
    "    term_weights = row.termWeights\n",
    "    for i, token_id in enumerate(row.termIndices):\n",
    "        print('   With weight of ' + str(term_weights[i]) + ' : ' + id2word[token_id] )\n",
    "        if i >= 10:\n",
    "            break"
   ]
  },
  {
   "cell_type": "markdown",
   "metadata": {},
   "source": [
    "## Computing c_v coherence of a topic model"
   ]
  },
  {
   "cell_type": "code",
   "execution_count": null,
   "metadata": {},
   "outputs": [],
   "source": [
    "topics = []\n",
    "\n",
    "for row in describe_topics.sort('topic').rdd.collect():\n",
    "    tokenized_topic = []\n",
    "    for i, token_id in enumerate(row.termIndices):\n",
    "        tokenized_topic.append(id2word[token_id])\n",
    "        if i > 5:\n",
    "            break\n",
    "    topics.append(tokenized_topic)"
   ]
  },
  {
   "cell_type": "code",
   "execution_count": null,
   "metadata": {},
   "outputs": [],
   "source": [
    "describe_topics = describe_topics.sort('topic')"
   ]
  },
  {
   "cell_type": "code",
   "execution_count": null,
   "metadata": {},
   "outputs": [],
   "source": [
    "vocabSize = S_20.shape[1]"
   ]
  },
  {
   "cell_type": "code",
   "execution_count": null,
   "metadata": {},
   "outputs": [],
   "source": [
    "topic_word_dist = []\n",
    "\n",
    "for row in describe_topics.collect():\n",
    "    termIndices = row['termIndices']\n",
    "    termWeights = row['termWeights']\n",
    "    \n",
    "    word_dist = {}\n",
    "    for i in range(vocabSize):\n",
    "        word_dist[termIndices[i]] = termWeights[i]\n",
    "        \n",
    "    word_dist_ordered = collections.OrderedDict(sorted(word_dist.items()))\n",
    "    topic_word_dist.append(list(word_dist_ordered.values()))"
   ]
  },
  {
   "cell_type": "code",
   "execution_count": null,
   "metadata": {},
   "outputs": [],
   "source": [
    "topic_word_dist = np.matrix(topic_word_dist)"
   ]
  },
  {
   "cell_type": "code",
   "execution_count": null,
   "metadata": {},
   "outputs": [],
   "source": [
    "vocab = list(id2word.values())"
   ]
  },
  {
   "cell_type": "code",
   "execution_count": null,
   "metadata": {},
   "outputs": [],
   "source": [
    "vocab = np.array(vocab)"
   ]
  },
  {
   "cell_type": "code",
   "execution_count": null,
   "metadata": {},
   "outputs": [],
   "source": [
    "texts = []"
   ]
  },
  {
   "cell_type": "code",
   "execution_count": null,
   "metadata": {},
   "outputs": [],
   "source": [
    "for i in range(S_20.shape[0]):\n",
    "    token_indices = list(S_20.getrow(i).nonzero()[1])\n",
    "    tokens = []\n",
    "    \n",
    "    for token_indice in token_indices:\n",
    "        tokens.append(id2word[token_indice])\n",
    "    texts.append(tokens)"
   ]
  },
  {
   "cell_type": "code",
   "execution_count": null,
   "metadata": {},
   "outputs": [],
   "source": [
    "topic_word_dist.shape"
   ]
  },
  {
   "cell_type": "code",
   "execution_count": null,
   "metadata": {},
   "outputs": [],
   "source": [
    "coherence_score = metric_coherence_gensim(measure='c_v',\n",
    "                                          topic_word_distrib=topic_word_dist,\n",
    "                                          vocab=vocab,\n",
    "                                          texts=texts)"
   ]
  },
  {
   "cell_type": "code",
   "execution_count": null,
   "metadata": {},
   "outputs": [],
   "source": [
    "coherence_model = CoherenceModel(topics=topics,\n",
    "                                 corpus=S_20,\n",
    "                                 dictionary=FakedGensimDict.from_vocab(vocab),\n",
    "                                 texts=texts,\n",
    "                                 coherence='c_v')"
   ]
  },
  {
   "cell_type": "code",
   "execution_count": null,
   "metadata": {},
   "outputs": [],
   "source": [
    "coherence_model.get_coherence() ## with 5 words to describe topics"
   ]
  },
  {
   "cell_type": "code",
   "execution_count": null,
   "metadata": {},
   "outputs": [],
   "source": [
    "coherence_model.get_coherence() ## with 10 words to describe topics"
   ]
  },
  {
   "cell_type": "code",
   "execution_count": null,
   "metadata": {},
   "outputs": [],
   "source": [
    "coherence_model.get_coherence() ## with 20 words to describe topics"
   ]
  },
  {
   "cell_type": "markdown",
   "metadata": {},
   "source": [
    "## Get coherence scores from multiple models to choose optimal number of topics"
   ]
  },
  {
   "cell_type": "code",
   "execution_count": 7,
   "metadata": {},
   "outputs": [],
   "source": [
    "texts = []\n",
    "\n",
    "for i in range(S_20.shape[0]):\n",
    "    token_indices = list(S_20.getrow(i).nonzero()[1])\n",
    "    tokens = []\n",
    "    \n",
    "    for token_indice in token_indices:\n",
    "        tokens.append(id2word[token_indice])\n",
    "    texts.append(tokens)"
   ]
  },
  {
   "cell_type": "code",
   "execution_count": 8,
   "metadata": {},
   "outputs": [],
   "source": [
    "corpus = []\n",
    "\n",
    "for row in S_20.toarray():\n",
    "    bow = []\n",
    "    idx_nonzero = np.nonzero(row)[0]\n",
    "    for i in range(len(idx_nonzero)):\n",
    "        bow.append((idx_nonzero[i], row[idx_nonzero[i]]))\n",
    "    corpus.append(bow)"
   ]
  },
  {
   "cell_type": "code",
   "execution_count": 44,
   "metadata": {
    "scrolled": true
   },
   "outputs": [
    {
     "name": "stdout",
     "output_type": "stream",
     "text": [
      "Computing coherence score for model with 40 topics...\n",
      "Getting c_v coherence score...\n",
      "Getting u_mass coherence score...\n",
      "\n",
      "Computing coherence score for model with 45 topics...\n",
      "Getting c_v coherence score...\n",
      "Getting u_mass coherence score...\n",
      "\n",
      "Computing coherence score for model with 50 topics...\n",
      "Getting c_v coherence score...\n",
      "Getting u_mass coherence score...\n",
      "\n",
      "Computing coherence score for model with 55 topics...\n",
      "Getting c_v coherence score...\n",
      "Getting u_mass coherence score...\n",
      "\n",
      "Computing coherence score for model with 60 topics...\n",
      "Getting c_v coherence score...\n",
      "Getting u_mass coherence score...\n",
      "\n",
      "Computing coherence score for model with 65 topics...\n",
      "Getting c_v coherence score...\n",
      "Getting u_mass coherence score...\n",
      "\n",
      "Computing coherence score for model with 70 topics...\n",
      "Getting c_v coherence score...\n",
      "Getting u_mass coherence score...\n",
      "\n",
      "Computing coherence score for model with 75 topics...\n",
      "Getting c_v coherence score...\n",
      "Getting u_mass coherence score...\n",
      "\n",
      "Computing coherence score for model with 80 topics...\n",
      "Getting c_v coherence score...\n",
      "Getting u_mass coherence score...\n",
      "\n",
      "Computing coherence score for model with 85 topics...\n",
      "Getting c_v coherence score...\n",
      "Getting u_mass coherence score...\n",
      "\n",
      "Computing coherence score for model with 90 topics...\n",
      "Getting c_v coherence score...\n",
      "Getting u_mass coherence score...\n",
      "\n",
      "Computing coherence score for model with 95 topics...\n",
      "Getting c_v coherence score...\n",
      "Getting u_mass coherence score...\n",
      "\n",
      "Computing coherence score for model with 100 topics...\n",
      "Getting c_v coherence score...\n",
      "Getting u_mass coherence score...\n",
      "\n",
      "Computing coherence score for model with 105 topics...\n",
      "Getting c_v coherence score...\n",
      "Getting u_mass coherence score...\n",
      "\n",
      "Computing coherence score for model with 110 topics...\n",
      "Getting c_v coherence score...\n",
      "Getting u_mass coherence score...\n",
      "\n",
      "Computing coherence score for model with 115 topics...\n",
      "Getting c_v coherence score...\n",
      "Getting u_mass coherence score...\n",
      "\n",
      "Computing coherence score for model with 120 topics...\n",
      "Getting c_v coherence score...\n",
      "Getting u_mass coherence score...\n",
      "\n",
      "Computing coherence score for model with 125 topics...\n",
      "Getting c_v coherence score...\n",
      "Getting u_mass coherence score...\n",
      "\n",
      "Computing coherence score for model with 130 topics...\n",
      "Getting c_v coherence score...\n",
      "Getting u_mass coherence score...\n",
      "\n",
      "Computing coherence score for model with 135 topics...\n",
      "Getting c_v coherence score...\n",
      "Getting u_mass coherence score...\n",
      "\n",
      "Computing coherence score for model with 140 topics...\n",
      "Getting c_v coherence score...\n",
      "Getting u_mass coherence score...\n",
      "\n",
      "Computing coherence score for model with 145 topics...\n",
      "Getting c_v coherence score...\n",
      "Getting u_mass coherence score...\n",
      "\n",
      "Computing coherence score for model with 150 topics...\n",
      "Getting c_v coherence score...\n",
      "Getting u_mass coherence score...\n",
      "\n",
      "Computing coherence score for model with 155 topics...\n",
      "Getting c_v coherence score...\n",
      "Getting u_mass coherence score...\n",
      "\n",
      "Computing coherence score for model with 160 topics...\n",
      "Getting c_v coherence score...\n",
      "Getting u_mass coherence score...\n",
      "\n"
     ]
    }
   ],
   "source": [
    "coherence_scores = []\n",
    "coherence_scores_umass = []\n",
    "\n",
    "n_topics_list = [40, 45, 50, 55, 60, 65, 70, 75, 80, 85, 90, 95, \n",
    "                 100, 105, 110, 115, 120, 125, 130, 135, 140, 145, 150, 155, 160]\n",
    "\n",
    "for i, n_topics in enumerate(n_topics_list):\n",
    "    \n",
    "    print('Computing coherence score for model with ' + str(n_topics) + ' topics...')\n",
    "    \n",
    "    # Get describe_topics dataframe\n",
    "    describe_topics = spark.read.json('/dlabdata1/youtube_large/olam/data/view10000_sub100000/LDA_models/top20/tune/describe_topics_' + str(n_topics) + '_iter1000_tok100vid.json')\n",
    "    \n",
    "    \n",
    "    # Characterize the topics with tokens\n",
    "    topics = []\n",
    "\n",
    "    for row in describe_topics.sort('topic').rdd.collect():\n",
    "        tokenized_topic = []\n",
    "        for j, token_id in enumerate(row.termIndices):\n",
    "            tokenized_topic.append(id2word[token_id])\n",
    "            if j > 10:\n",
    "                break\n",
    "        topics.append(tokenized_topic)\n",
    "        \n",
    "    # Compute c_v coherence score and append to coherence scores\n",
    "    coherence_model = CoherenceModel(topics=topics,\n",
    "                                     corpus=S_20,\n",
    "                                     dictionary=FakedGensimDict(id2word, S_20),\n",
    "                                     texts=texts,\n",
    "                                     coherence='c_v')\n",
    "    \n",
    "    # Compute u_mass coherence score and append to coherence scores\n",
    "    coherence_model_umass = CoherenceModel(topics=topics,\n",
    "                                     corpus=corpus,\n",
    "                                     dictionary=FakedGensimDict(id2word, S_20),\n",
    "                                     coherence='u_mass')\n",
    "     \n",
    "    print('Getting c_v coherence score...')\n",
    "    coherence_scores.append(coherence_model.get_coherence())\n",
    "    print('Getting u_mass coherence score...')\n",
    "    coherence_scores_umass.append(coherence_model_umass.get_coherence())\n",
    "    print('')"
   ]
  },
  {
   "cell_type": "code",
   "execution_count": 45,
   "metadata": {},
   "outputs": [
    {
     "data": {
      "text/plain": [
       "([<matplotlib.axis.XTick at 0x7fdacc6dd310>,\n",
       "  <matplotlib.axis.XTick at 0x7fdacc6dd2e0>,\n",
       "  <matplotlib.axis.XTick at 0x7fdad5eb3490>,\n",
       "  <matplotlib.axis.XTick at 0x7fdb723f3160>,\n",
       "  <matplotlib.axis.XTick at 0x7fdb723f3670>,\n",
       "  <matplotlib.axis.XTick at 0x7fdb723f3b80>,\n",
       "  <matplotlib.axis.XTick at 0x7fdb723d70d0>,\n",
       "  <matplotlib.axis.XTick at 0x7fdb723d75e0>,\n",
       "  <matplotlib.axis.XTick at 0x7fdb723d7af0>,\n",
       "  <matplotlib.axis.XTick at 0x7fdb723d9040>,\n",
       "  <matplotlib.axis.XTick at 0x7fdb723d9550>,\n",
       "  <matplotlib.axis.XTick at 0x7fdb723d7670>,\n",
       "  <matplotlib.axis.XTick at 0x7fdb723f3700>,\n",
       "  <matplotlib.axis.XTick at 0x7fdb723d9250>,\n",
       "  <matplotlib.axis.XTick at 0x7fdb723d9ca0>,\n",
       "  <matplotlib.axis.XTick at 0x7fdb723e41f0>,\n",
       "  <matplotlib.axis.XTick at 0x7fdb723e4700>,\n",
       "  <matplotlib.axis.XTick at 0x7fdb723e4c10>,\n",
       "  <matplotlib.axis.XTick at 0x7fdb723e3160>,\n",
       "  <matplotlib.axis.XTick at 0x7fdb723e3670>,\n",
       "  <matplotlib.axis.XTick at 0x7fdb723e3b80>,\n",
       "  <matplotlib.axis.XTick at 0x7fdb723e4280>,\n",
       "  <matplotlib.axis.XTick at 0x7fdb723f3340>,\n",
       "  <matplotlib.axis.XTick at 0x7fdb723e32b0>,\n",
       "  <matplotlib.axis.XTick at 0x7fdb723f50d0>],\n",
       " [Text(0, 0, '40'),\n",
       "  Text(1, 0, '45'),\n",
       "  Text(2, 0, '50'),\n",
       "  Text(3, 0, '55'),\n",
       "  Text(4, 0, '60'),\n",
       "  Text(5, 0, '65'),\n",
       "  Text(6, 0, '70'),\n",
       "  Text(7, 0, '75'),\n",
       "  Text(8, 0, '80'),\n",
       "  Text(9, 0, '85'),\n",
       "  Text(10, 0, '90'),\n",
       "  Text(11, 0, '95'),\n",
       "  Text(12, 0, '100'),\n",
       "  Text(13, 0, '105'),\n",
       "  Text(14, 0, '110'),\n",
       "  Text(15, 0, '115'),\n",
       "  Text(16, 0, '120'),\n",
       "  Text(17, 0, '125'),\n",
       "  Text(18, 0, '130'),\n",
       "  Text(19, 0, '135'),\n",
       "  Text(20, 0, '140'),\n",
       "  Text(21, 0, '145'),\n",
       "  Text(22, 0, '150'),\n",
       "  Text(23, 0, '155'),\n",
       "  Text(24, 0, '160')])"
      ]
     },
     "execution_count": 45,
     "metadata": {},
     "output_type": "execute_result"
    },
    {
     "data": {
      "image/png": "[encoded data removed]",
      "text/plain": [
       "<Figure size 1440x720 with 2 Axes>"
      ]
     },
     "metadata": {
      "needs_background": "light"
     },
     "output_type": "display_data"
    }
   ],
   "source": [
    "fig, ax = plt.subplots(figsize=(20, 10))\n",
    "\n",
    "ax.set_title('Coherence score for a given number of topics', fontsize=24)\n",
    "ax.set_xlabel('Number of Topics', fontsize=16)\n",
    "ax.set_ylabel('Coherence Score c_v', fontsize=16)\n",
    "\n",
    "ax.grid('on')\n",
    "\n",
    "ax.plot(coherence_scores, label='c_v coherence score', linewidth=3)\n",
    "\n",
    "ax2 = ax.twinx()\n",
    "ax2.set_ylabel('Coherence Score u_mass', fontsize=16)\n",
    "ax2.plot(coherence_scores_umass, label='u_mass coherence score', linewidth=3, color='orange')\n",
    "\n",
    "ax.legend(fontsize=16)\n",
    "ax2.legend(loc='upper right', bbox_to_anchor=(1, 0.93), fontsize=16)\n",
    "\n",
    "plt.xticks(np.arange(len(n_topics_list)), n_topics_list)"
   ]
  },
  {
   "cell_type": "code",
   "execution_count": 46,
   "metadata": {},
   "outputs": [],
   "source": [
    "fig.savefig('/home/olam/coherence_scores')"
   ]
  },
  {
   "cell_type": "code",
   "execution_count": null,
   "metadata": {},
   "outputs": [],
   "source": []
  },
  {
   "cell_type": "code",
   "execution_count": 7,
   "metadata": {},
   "outputs": [],
   "source": [
    "def is_corpus(obj):\n",
    "    \"\"\"Check whether `obj` is a corpus, by peeking at its first element. Works even on streamed generators.\n",
    "    The peeked element is put back into a object returned by this function, so always use\n",
    "    that returned object instead of the original `obj`.\n",
    "    Parameters\n",
    "    ----------\n",
    "    obj : object\n",
    "        An `iterable of iterable` that contains (int, numeric).\n",
    "    Returns\n",
    "    -------\n",
    "    (bool, object)\n",
    "        Pair of (is `obj` a corpus, `obj` with peeked element restored)\n",
    "    Examples\n",
    "    --------\n",
    "    .. sourcecode:: pycon\n",
    "        >>> from gensim.utils import is_corpus\n",
    "        >>> corpus = [[(1, 1.0)], [(2, -0.3), (3, 0.12)]]\n",
    "        >>> corpus_or_not, corpus = is_corpus(corpus)\n",
    "    Warnings\n",
    "    --------\n",
    "    An \"empty\" corpus (empty input sequence) is ambiguous, so in this case\n",
    "    the result is forcefully defined as (False, `obj`).\n",
    "    \"\"\"\n",
    "    try:\n",
    "        if 'Corpus' in obj.__class__.__name__:  # the most common case, quick hack\n",
    "            return True, obj\n",
    "    except Exception:\n",
    "        pass\n",
    "    try:\n",
    "        if hasattr(obj, 'next') or hasattr(obj, '__next__'):\n",
    "            # the input is an iterator object, meaning once we call next()\n",
    "            # that element could be gone forever. we must be careful to put\n",
    "            # whatever we retrieve back again\n",
    "            doc1 = next(obj)\n",
    "            obj = itertools.chain([doc1], obj)\n",
    "        else:\n",
    "            doc1 = next(iter(obj))  # empty corpus is resolved to False here\n",
    "        if len(doc1) == 0:  # sparse documents must have a __len__ function (list, tuple...)\n",
    "            return True, obj  # the first document is empty=>assume this is a corpus\n",
    "\n",
    "        # if obj is a 1D numpy array(scalars) instead of 2-tuples, it resolves to False here\n",
    "        id1, val1 = next(iter(doc1))\n",
    "        id1, val1 = int(id1), float(val1)  # must be a 2-tuple (integer, float)\n",
    "    except Exception:\n",
    "        return False, obj\n",
    "    return True, obj\n"
   ]
  },
  {
   "cell_type": "code",
   "execution_count": 33,
   "metadata": {},
   "outputs": [],
   "source": [
    "corpus_test = [\n",
    "    [(1, 1), (2, 5), (5, 2)],\n",
    "    [(0, 2), (2, 3), (4, 1)],\n",
    "    [(1, 3), (3, 2), (4, 1)]\n",
    "]"
   ]
  },
  {
   "cell_type": "code",
   "execution_count": 34,
   "metadata": {},
   "outputs": [
    {
     "data": {
      "text/plain": [
       "(True,\n",
       " [[(1, 1), (2, 5), (5, 2)],\n",
       "  [(0, 2), (2, 3), (4, 1)],\n",
       "  [(1, 3), (3, 2), (4, 1)]])"
      ]
     },
     "execution_count": 34,
     "metadata": {},
     "output_type": "execute_result"
    }
   ],
   "source": [
    "is_corpus(corpus_test)"
   ]
  },
  {
   "cell_type": "code",
   "execution_count": null,
   "metadata": {},
   "outputs": [],
   "source": []
  }
 ],
 "metadata": {
  "kernelspec": {
   "display_name": "Python 3",
   "language": "python",
   "name": "python3"
  },
  "language_info": {
   "codemirror_mode": {
    "name": "ipython",
    "version": 3
   },
   "file_extension": ".py",
   "mimetype": "text/x-python",
   "name": "python",
   "nbconvert_exporter": "python",
   "pygments_lexer": "ipython3",
   "version": "3.8.3"
  }
 },
 "nbformat": 4,
 "nbformat_minor": 4
}
