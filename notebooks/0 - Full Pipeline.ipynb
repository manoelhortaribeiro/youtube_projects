{
 "cells": [
  {
   "cell_type": "markdown",
   "metadata": {},
   "source": [
    "# Characterising the evolution of the user interests on YT\n",
    "\n",
    "This notebook covers the whole pipeline of the project.\n",
    "\n",
    "Here is the table content of the principal tasks : \n",
    "- **Data Processing**\n",
    "- **Preparing Pyspark Model**\n",
    "- **Topic modelling**\n",
    "- **Results: Topic Coherence**\n",
    "- **Classifier**\n"
   ]
  },
  {
   "cell_type": "markdown",
   "metadata": {},
   "source": [
    "### 0.1 Imports"
   ]
  },
  {
   "cell_type": "code",
   "execution_count": 1,
   "metadata": {},
   "outputs": [
    {
     "name": "stderr",
     "output_type": "stream",
     "text": [
      "[nltk_data] Downloading package stopwords to /home/olam/nltk_data...\n",
      "[nltk_data]   Package stopwords is already up-to-date!\n"
     ]
    },
    {
     "data": {
      "text/plain": [
       "True"
      ]
     },
     "execution_count": 1,
     "metadata": {},
     "output_type": "execute_result"
    }
   ],
   "source": [
    "import collections\n",
    "import fasttext\n",
    "import gzip\n",
    "import json\n",
    "import nltk\n",
    "import os\n",
    "import pickle\n",
    "import scipy.sparse\n",
    "import sys\n",
    "import time\n",
    "\n",
    "import matplotlib.pyplot as plt\n",
    "import numpy as np\n",
    "import pandas as pd\n",
    "import zstandard as zstd\n",
    "\n",
    "from collections import Counter\n",
    "from gensim.models.coherencemodel import CoherenceModel\n",
    "from langdetect import detect\n",
    "from nltk.corpus import stopwords\n",
    "from nltk.stem import PorterStemmer\n",
    "from nltk.stem.snowball import SnowballStemmer\n",
    "from nltk.tokenize import RegexpTokenizer\n",
    "from pyspark import SparkContext, SparkConf\n",
    "from pyspark.sql import SparkSession\n",
    "from pyspark.sql.functions import col\n",
    "from pyspark.sql.types import LongType, StructField, StructType\n",
    "from pyspark.ml.clustering import LDA, LDAModel, LocalLDAModel\n",
    "from pyspark.ml.linalg import Vectors, SparseVector\n",
    "from scipy.sparse import dok_matrix\n",
    "from sklearn.linear_model import SGDClassifier\n",
    "from sklearn.metrics import accuracy_score, confusion_matrix, classification_report\n",
    "\n",
    "nltk.download('stopwords')"
   ]
  },
  {
   "cell_type": "markdown",
   "metadata": {},
   "source": [
    "## 1 Data Processing \n",
    "\n",
    "In this section, we will select the data for the topic modelling model as follow:\n",
    "\n",
    "- videos has at least 10'000 views\n",
    "- videos from channels with at least 100'000 subscribers\n",
    "\n",
    "For that, we proceed as follow :\n",
    "\n",
    "- first pass over the whole dataset in order to build the vocabulary and the keep the index of the relevant videos\n",
    "- second pass over the whole dataset to construct a NxM sparse matrix, where N is the number of videos and M is the number of words in the vocabulary"
   ]
  },
  {
   "cell_type": "code",
   "execution_count": 2,
   "metadata": {},
   "outputs": [
    {
     "name": "stdout",
     "output_type": "stream",
     "text": [
      "There are 50456 relevant channels.\n"
     ]
    }
   ],
   "source": [
    "# GET THE LIST OF RELEVANT CHANNELS\n",
    "\n",
    "df_channelcrawler = pd.read_csv('/dlabdata1/youtube_large/channelcrawler.csv')\n",
    "\n",
    "df_channelcrawler['channel_id'] = df_channelcrawler['link'].apply(\n",
    "    lambda x: x.replace('http://www.youtube.com/channel/', ''))\n",
    "\n",
    "# Filter channels with at least 100'000 subs\n",
    "df_channelcrawler = df_channelcrawler[df_channelcrawler['subscribers'] >= 100000]\n",
    "\n",
    "# Store in a set since it will be faster to check if a channel is in channelcrawler\n",
    "set_relevant_channels = set(df_channelcrawler['channel_id'])\n",
    "\n",
    "print('There are ' + str(len(set_relevant_channels)) + ' relevant channels.')"
   ]
  },
  {
   "cell_type": "code",
   "execution_count": 26,
   "metadata": {},
   "outputs": [],
   "source": [
    "# Setting NLP pre-processing features\n",
    "stop_words = set(stopwords.words('english'))\n",
    "tokenizer = RegexpTokenizer(r'\\w+')\n",
    "s_stemmer = SnowballStemmer(language='english')"
   ]
  },
  {
   "cell_type": "code",
   "execution_count": 3,
   "metadata": {},
   "outputs": [],
   "source": [
    "def check_10000_views(video):\n",
    "    try:\n",
    "        view_counts = video['view_count']\n",
    "        if view_counts != None:\n",
    "            return view_counts >= 10000\n",
    "        else:\n",
    "            return False\n",
    "    except KeyError:\n",
    "        return False"
   ]
  },
  {
   "cell_type": "code",
   "execution_count": 4,
   "metadata": {},
   "outputs": [],
   "source": [
    "def check_channel(video, set_relevant_channels):\n",
    "    try:\n",
    "        return video['channel_id'] in set_relevant_channels\n",
    "    except:\n",
    "        return False"
   ]
  },
  {
   "cell_type": "code",
   "execution_count": 5,
   "metadata": {},
   "outputs": [],
   "source": [
    "def isEnglishAlpha(s):\n",
    "    try:\n",
    "        s.encode(encoding='utf-8').decode('ascii')\n",
    "    except UnicodeDecodeError:\n",
    "        return False\n",
    "    else:\n",
    "        return True"
   ]
  },
  {
   "cell_type": "code",
   "execution_count": 6,
   "metadata": {},
   "outputs": [],
   "source": [
    "def get_freq_tokens_per_video(video):\n",
    "    ''''''\n",
    "\n",
    "    title_tokens = [w for w in tokenizer.tokenize(\n",
    "        video['title'].lower()) if not w in stop_words]\n",
    "    tag_tokens = [w for w in tokenizer.tokenize(\n",
    "        video['tags'].lower()) if not w in stop_words]\n",
    "\n",
    "    # We want to keep duplicates !!\n",
    "    tokens_per_video = title_tokens + tag_tokens\n",
    "\n",
    "    # Filter token with length < 3, with non english alphabet since fastext is not 100% accurate and remove numerical token\n",
    "    tokens_keep = []\n",
    "    for token in tokens_per_video:\n",
    "        if len(token) >= 3 and (not token.isnumeric()) and isEnglishAlpha(token):\n",
    "            tokens_keep.append(token)\n",
    "\n",
    "    # Stemming\n",
    "    stemmed_tokens_per_video = ([s_stemmer.stem(w) for w in tokens_keep])\n",
    "\n",
    "    # Return a Counter object of the tokens\n",
    "    return collections.Counter(stemmed_tokens_per_video)"
   ]
  },
  {
   "cell_type": "markdown",
   "metadata": {},
   "source": [
    "### 1.1 First pass \n",
    "The first pass on the dataset will allow us to recover relevant videos and list of tokens"
   ]
  },
  {
   "cell_type": "code",
   "execution_count": 12,
   "metadata": {
    "scrolled": true
   },
   "outputs": [
    {
     "name": "stdout",
     "output_type": "stream",
     "text": [
      "Processed 10000000 videos...\n",
      "Processed 20000000 videos...\n",
      "Processed 30000000 videos...\n",
      "Processed 40000000 videos...\n",
      "Processed 50000000 videos...\n",
      "Processed 60000000 videos...\n",
      "Processed 70000000 videos...\n"
     ]
    }
   ],
   "source": [
    "# Variable that contains the idx of every non english vid and that\n",
    "# belongs to a channel in channelcrawler.csv TO BE USED IN SECOND ITER\n",
    "set_relevant_vid = set()\n",
    "\n",
    "# Variable first instanciated as set to check existing tokens efficiently,\n",
    "# which will be a list in order to get the index for each tokens\n",
    "set_stemmed_tokens = set()\n",
    "\n",
    "i = 0\n",
    "\n",
    "for filepath in os.listdir('/dlabdata1/youtube_large/yt_metadata_en_dd/'):\n",
    "    \n",
    "    # Reading the file\n",
    "    with gzip.open('/dlabdata1/youtube_large/yt_metadata_en_dd/' + filepath, 'rb') as f:\n",
    "\n",
    "        for line in f:\n",
    "\n",
    "            # line is a byte dict, video is the corresponding dict\n",
    "            video = json.loads(line)\n",
    "\n",
    "            if check_channel(video, set_relevant_channels) and check_10000_views(video):\n",
    "\n",
    "                tokens_per_video = get_freq_tokens_per_video(video)\n",
    "\n",
    "                set_relevant_vid.add(i)\n",
    "                set_stemmed_tokens.update(tokens_per_video)\n",
    "\n",
    "            if i % 10000000 == 0 and i != 0:\n",
    "                print('Processed ' + str(i) + ' videos...')\n",
    "                \n",
    "            i += 1"
   ]
  },
  {
   "cell_type": "code",
   "execution_count": 13,
   "metadata": {},
   "outputs": [],
   "source": [
    "# save some intermediate results\n",
    "\n",
    "with open('/dlabdata1/youtube_large/olam/data/final_res/set_relevant_vid.pickle', 'wb') as f:\n",
    "    pickle.dump(set_relevant_vid, f)\n",
    "f.close()\n",
    "\n",
    "with open('/dlabdata1/youtube_large/olam/data/final_res/set_stemmed_tokens.pickle', 'wb') as f:\n",
    "    pickle.dump(set_stemmed_tokens, f)\n",
    "f.close()\n",
    "\n",
    "with open('/dlabdata1/youtube_large/olam/data/final_res/set_relevant_channels.pickle', 'wb') as f:\n",
    "    pickle.dump(set_relevant_channels, f)\n",
    "f.close()"
   ]
  },
  {
   "cell_type": "markdown",
   "metadata": {},
   "source": [
    "### 1.2 Second pass \n",
    "The second pass on the dataset will allow us to create a NxM sparse matrix, where N is the number of videos and M is the number of words in the vocabulary\n",
    "\n",
    "Notes:\n",
    "- In order to keep the memory usage low, we will fill sparse matrix with only 1'000'000 rows and save them in the csr format\n",
    "- Stack the saved sparse matrix together to get the final sparse matrix"
   ]
  },
  {
   "cell_type": "code",
   "execution_count": 7,
   "metadata": {},
   "outputs": [],
   "source": [
    "def remove_zero_rows(M):\n",
    "    '''Function that removes all rows from sparse matrix M that contains only zero.'''\n",
    "    num_nonzeros = np.diff(M.indptr)\n",
    "    return M[num_nonzeros != 0]"
   ]
  },
  {
   "cell_type": "code",
   "execution_count": 8,
   "metadata": {},
   "outputs": [],
   "source": [
    "def fill_underlying_dict(freq_tokens_per_video, word2id, i_vid):\n",
    "    '''Method to fill the underlying dictionnary in order to \n",
    "    update the sparse matrix incrementally by videos'''\n",
    "\n",
    "    dict_freq_tokens_for_sparse_matrix = {}\n",
    "\n",
    "    for key in freq_tokens_per_video.keys():\n",
    "\n",
    "        # Column index in the sparse matrix (one column for each token)\n",
    "        try:\n",
    "            j_token = word2id[key]\n",
    "\n",
    "            # Filling the underlying dict\n",
    "            dict_freq_tokens_for_sparse_matrix[(\n",
    "                i_vid % 1000000,   j_token)] = freq_tokens_per_video[key]\n",
    "\n",
    "        except KeyError:\n",
    "            None\n",
    "\n",
    "    return dict_freq_tokens_for_sparse_matrix"
   ]
  },
  {
   "cell_type": "code",
   "execution_count": 16,
   "metadata": {},
   "outputs": [],
   "source": [
    "# Get dimension of sparse matrix\n",
    "size_of_tokens_dict = len(set_stemmed_tokens)\n",
    "number_of_vid = len(set_relevant_vid)\n",
    "\n",
    "# Create dictionnary of tokens with their indice\n",
    "word2id = {}\n",
    "\n",
    "# Fill dictionnary of tokens\n",
    "for i, token in enumerate(set_stemmed_tokens):\n",
    "    word2id[token] = i\n",
    "    \n",
    "id2word = {v: k for k, v in word2id.items()}\n",
    "\n",
    "# Create mini sparse matrix\n",
    "S = dok_matrix((1000000, size_of_tokens_dict), dtype=np.uint8)"
   ]
  },
  {
   "cell_type": "code",
   "execution_count": 23,
   "metadata": {
    "scrolled": true
   },
   "outputs": [
    {
     "name": "stdout",
     "output_type": "stream",
     "text": [
      "Processed 10000000 videos...\n",
      "Processed 20000000 videos...\n",
      "Processed 30000000 videos...\n",
      "Processed 40000000 videos...\n",
      "Processed 50000000 videos...\n",
      "Processed 60000000 videos...\n",
      "Processed 70000000 videos...\n"
     ]
    }
   ],
   "source": [
    "i_vid = 0\n",
    "i = 0\n",
    "\n",
    "for filepath in os.listdir('/dlabdata1/youtube_large/yt_metadata_en_dd/'):\n",
    "    \n",
    "    # Reading the file\n",
    "    with gzip.open('/dlabdata1/youtube_large/yt_metadata_en_dd/' + filepath, 'rb') as f:\n",
    "\n",
    "        for line in f:\n",
    "\n",
    "            if i_vid % 1000000 == 0 and i_vid != 0:\n",
    "\n",
    "                file_name = 'S' + str(int(i_vid/1000000)) + '.npz'\n",
    "\n",
    "                if not os.path.isfile('/dlabdata1/youtube_large/olam/data/final_res/matrices/' + file_name):\n",
    "\n",
    "                    # Transform to csr format for memory efficiency\n",
    "                    S = S.tocsr()\n",
    "                    scipy.sparse.save_npz(\n",
    "                        '/dlabdata1/youtube_large/olam/data/final_res/matrices/' + file_name, S)\n",
    "\n",
    "                    # Refresh mini sparse matrix\n",
    "                    S = dok_matrix((1000000, size_of_tokens_dict), dtype=np.uint8)\n",
    "\n",
    "            if i in set_relevant_vid:\n",
    "\n",
    "                video = json.loads(line)\n",
    "\n",
    "                # Get the tokens for each video and theirs number of occurences\n",
    "                freq_tokens_per_video = get_freq_tokens_per_video(video)\n",
    "\n",
    "                # Fill the underlying dict\n",
    "                dict_freq_tokens_for_sparse_matrix = fill_underlying_dict(\n",
    "                    freq_tokens_per_video, word2id, i_vid)\n",
    "\n",
    "                # Fill data in to sparse matrix\n",
    "                dict.update(S, dict_freq_tokens_for_sparse_matrix)\n",
    "\n",
    "                # Increase i_vid\n",
    "                i_vid += 1\n",
    "\n",
    "            if i % 10000000 == 0 and i != 0:\n",
    "                print('Processed ' + str(i) + ' videos...')\n",
    "                \n",
    "            i += 1\n",
    "\n",
    "# Save last sparse matrix\n",
    "S = S.tocsr()\n",
    "scipy.sparse.save_npz(\n",
    "    '/dlabdata1/youtube_large/olam/data/final_res/matrices/S_last.npz', S)"
   ]
  },
  {
   "cell_type": "code",
   "execution_count": 25,
   "metadata": {},
   "outputs": [],
   "source": [
    "# Get final sparse matrix\n",
    "S = scipy.sparse.load_npz(\n",
    "    '/dlabdata1/youtube_large/olam/data/final_res/matrices/S1.npz')\n",
    "\n",
    "for i in range(2, 17):\n",
    "    S_next = scipy.sparse.load_npz(\n",
    "        '/dlabdata1/youtube_large/olam/data/final_res/matrices/S' + str(i) + '.npz')\n",
    "    S = scipy.sparse.vstack([S, S_next])\n",
    "\n",
    "# Add last matrix\n",
    "S_last = scipy.sparse.load_npz(\n",
    "    '/dlabdata1/youtube_large/olam/data/final_res/matrices/S_last.npz')\n",
    "S = scipy.sparse.vstack([S, S_last])"
   ]
  },
  {
   "cell_type": "code",
   "execution_count": 26,
   "metadata": {},
   "outputs": [],
   "source": [
    "# save the full matrix\n",
    "scipy.sparse.save_npz(\n",
    "    '/dlabdata1/youtube_large/olam/data/final_res/matrices/S_full.npz', S)"
   ]
  },
  {
   "cell_type": "markdown",
   "metadata": {},
   "source": [
    "## 2 Process the data for Topic Modelling with PySpark\n",
    "\n",
    "First, for a better topic modelling model, we select the videos from the sparse matrix as follow:\n",
    "- we group the videos by their respective `channel_id`, `category` and `upload_date`\n",
    "- keep the 20 videos with the most `view_counts` from each group\n",
    "- keep tokens that appears in at least 100 videos\n",
    "\n",
    "Then, we should compute a spark dataframe from our final sparse matrix in order to compute the models on the hadoop cluster"
   ]
  },
  {
   "cell_type": "markdown",
   "metadata": {},
   "source": [
    "### 2.1 Filter the videos for topic modelling "
   ]
  },
  {
   "cell_type": "code",
   "execution_count": 28,
   "metadata": {
    "scrolled": true
   },
   "outputs": [
    {
     "name": "stdout",
     "output_type": "stream",
     "text": [
      "Progress: 1/7\n",
      "Progress: 2/7\n",
      "Progress: 3/7\n",
      "Progress: 4/7\n",
      "Progress: 5/7\n",
      "Progress: 6/7\n",
      "Progress: 7/7\n"
     ]
    }
   ],
   "source": [
    "# create pandas DataFrame of relevant videos with relevant features\n",
    "columns_names = ['channel_id',\n",
    "                 'view_counts', 'uploaded_year', 'category']\n",
    "\n",
    "# store relevant features of relevant videos in a list\n",
    "list_relevant_data = []\n",
    "\n",
    "i = 0\n",
    "\n",
    "for filepath in os.listdir('/dlabdata1/youtube_large/yt_metadata_en_dd/'):\n",
    "    \n",
    "    # Reading the file\n",
    "    with gzip.open('/dlabdata1/youtube_large/yt_metadata_en_dd/' + filepath, 'rb') as f:\n",
    "\n",
    "        for line in f:\n",
    "            if i % 10000000 == 0 and i != 0:\n",
    "                print('Progress: ' + str(int(i/10000000)) + '/7')\n",
    "\n",
    "            if i in set_relevant_vid:\n",
    "\n",
    "                # line is a str dict, video is the dict corresponding to the str dict\n",
    "                video = json.loads(line)\n",
    "\n",
    "                list_vid_relevant_features = [video['channel_id']]\n",
    "                list_vid_relevant_features.append(video['view_count'])\n",
    "                list_vid_relevant_features.append(video['upload_date'][:4])\n",
    "                list_vid_relevant_features.append(video['categories'])\n",
    "\n",
    "                list_relevant_data.append(list_vid_relevant_features)\n",
    "                \n",
    "            i += 1"
   ]
  },
  {
   "cell_type": "code",
   "execution_count": 29,
   "metadata": {},
   "outputs": [],
   "source": [
    "df_relevant_data = pd.DataFrame(list_relevant_data, columns=columns_names)\n",
    "df_relevant_data_top20 = df_relevant_data.sort_values(['view_counts'], ascending=False).groupby(\n",
    "    ['category', 'uploaded_year', 'channel_id']).head(20)\n",
    "\n",
    "set_relevant_vid_top20 = sorted(df_relevant_data_top20.index.values)"
   ]
  },
  {
   "cell_type": "code",
   "execution_count": 30,
   "metadata": {},
   "outputs": [],
   "source": [
    "# Save intermediate result\n",
    "with open('/dlabdata1/youtube_large/olam/data/final_res/model/set_relevant_vid_top20.pickle', 'wb') as f:\n",
    "    pickle.dump(set_relevant_vid_top20, f)\n",
    "f.close()"
   ]
  },
  {
   "cell_type": "markdown",
   "metadata": {},
   "source": [
    "### 2.2 Keep only relevant tokens"
   ]
  },
  {
   "cell_type": "code",
   "execution_count": null,
   "metadata": {},
   "outputs": [],
   "source": [
    "# Load intermediate data\n",
    "S = scipy.sparse.load_npz(\n",
    "    '/dlabdata1/youtube_large/olam/data/final_res/matrices/S_full.npz')\n",
    "\n",
    "\n",
    "# Load set of videos in the top20 as processed abose\n",
    "with open('/dlabdata1/youtube_large/olam/data/final_res/model/set_relevant_vid_top20.pickle', 'rb') as f:\n",
    "    set_relevant_vid_top20 = pickle.load(f)\n",
    "f.close()"
   ]
  },
  {
   "cell_type": "code",
   "execution_count": 31,
   "metadata": {},
   "outputs": [
    {
     "name": "stdout",
     "output_type": "stream",
     "text": [
      "Processed : 0 tokens\n",
      "Processed : 1000000 tokens\n",
      "Processed : 2000000 tokens\n"
     ]
    }
   ],
   "source": [
    "S = S[set_relevant_vid_top20]\n",
    "\n",
    "# Convert matrix to csc for efficient computing\n",
    "S = S.tocsc()\n",
    "\n",
    "list_relevant_tokens = []\n",
    "\n",
    "# Iterate on the columns\n",
    "for i in range(S.shape[1]):\n",
    "\n",
    "    if i % 1000000 == 0:\n",
    "        print('Processed : ' + str(i) + ' tokens')\n",
    "\n",
    "    # Check column has more than 100 non zero entries\n",
    "    if S[:, i].count_nonzero() >= 100:\n",
    "        list_relevant_tokens.append(i)"
   ]
  },
  {
   "cell_type": "code",
   "execution_count": 32,
   "metadata": {},
   "outputs": [],
   "source": [
    "S = S[:, list_relevant_tokens].tocsr()\n",
    "S = remove_zero_rows(S)\n",
    "\n",
    "scipy.sparse.save_npz('/dlabdata1/youtube_large/olam/data/final_res/matrices/S_final.npz', S)"
   ]
  },
  {
   "cell_type": "markdown",
   "metadata": {},
   "source": [
    "### 2.3 Build a dictionnary id2word for final sparse matrix\n",
    "\n",
    "`id2word_top20` is a dictionnary that map each of the token id to the token itself only for relevant tokens for top20 data"
   ]
  },
  {
   "cell_type": "code",
   "execution_count": 33,
   "metadata": {},
   "outputs": [],
   "source": [
    "id2word_top20 = {}\n",
    "\n",
    "for i, id_token in enumerate(list_relevant_tokens):\n",
    "    id2word_top20[i] = id2word[id_token]"
   ]
  },
  {
   "cell_type": "code",
   "execution_count": 34,
   "metadata": {},
   "outputs": [],
   "source": [
    "# Save intermediate result\n",
    "with open('/dlabdata1/youtube_large/olam/data/final_res/id2word_top20.pickle', 'wb') as f:\n",
    "    pickle.dump(id2word_top20, f)\n",
    "f.close()"
   ]
  },
  {
   "cell_type": "markdown",
   "metadata": {},
   "source": [
    "### 2.4 Get Spark dataframe to use the hadoop cluster to perform topic modelling"
   ]
  },
  {
   "cell_type": "code",
   "execution_count": 35,
   "metadata": {},
   "outputs": [],
   "source": [
    "conf = SparkConf().setMaster(\"local\").setAll(\n",
    "    [('spark.executor.memory', '4g'), ('spark.driver.memory', '16g'), ('spark.driver.maxResultSize', '0')])\n",
    "\n",
    "# create the session\n",
    "spark = SparkSession.builder.config(conf=conf).getOrCreate()"
   ]
  },
  {
   "cell_type": "code",
   "execution_count": 10,
   "metadata": {},
   "outputs": [],
   "source": [
    "def get_dict_for_row(row, S):\n",
    "    '''Construct SparseVector bag-of-word for each row (videos)'''\n",
    "    tmp_dict = {}\n",
    "    for key, value in row:\n",
    "        tmp_dict[key[1]] = value\n",
    "\n",
    "    return SparseVector(S.shape[1], tmp_dict)"
   ]
  },
  {
   "cell_type": "code",
   "execution_count": 37,
   "metadata": {},
   "outputs": [
    {
     "name": "stdout",
     "output_type": "stream",
     "text": [
      "Process video for topic modelling...\n",
      "0 videos processed...\n",
      "1000000 videos processed...\n",
      "2000000 videos processed...\n",
      "3000000 videos processed...\n"
     ]
    }
   ],
   "source": [
    "data = []\n",
    "\n",
    "print('Process video for topic modelling...')\n",
    "for i in range(S.shape[0]):\n",
    "\n",
    "    if i % 1000000 == 0:\n",
    "        print(str(i) + ' videos processed...')\n",
    "\n",
    "    data.append([i, get_dict_for_row(S.getrow(i).todok().items(), S)])\n",
    "\n",
    "\n",
    "# Construct dataframe for LDA\n",
    "all_df = spark.createDataFrame(data, [\"id\", \"features\"])"
   ]
  },
  {
   "cell_type": "code",
   "execution_count": 38,
   "metadata": {},
   "outputs": [],
   "source": [
    "# save the dataframe\n",
    "all_df.write.option('compression', 'gzip').json(\n",
    "    '/dlabdata1/youtube_large/olam/data/final_res/model/sparkdf.json')"
   ]
  },
  {
   "cell_type": "markdown",
   "metadata": {},
   "source": [
    "## 3 Topic Modelling\n",
    "\n",
    "The python script for topic modelling can be found in the folder `script/yt_lda_tune.py`\n",
    "\n",
    "In order to run the script on the Hadoop server, the following need to be done:\n",
    "\n",
    "- copy the file in hdfs: `$ hdfs dfs -put /dlabdata1/youtube_large/olam/data/final_res/model/sparkdf.json /user/olam/final_res/`\n",
    "\n",
    "- on the Hadoop server, go to the script folder and launch the following command: `$ sspark-submit --master yarn --deploy-mode cluster --num-executors 47 --executor-cores 4 --driver-memory 64g --executor-memory 4g yt_lda_tune.py`\n",
    "\n",
    "- get the resulting files in hdfs: `$ hdfs dfs -get /user/olam/final_res/tune/ /dlabdata1/youtube_large/olam/data/final_res/model/tune/`"
   ]
  },
  {
   "cell_type": "markdown",
   "metadata": {},
   "source": [
    "## 4 Results: Topic Coherence\n",
    "\n",
    "In order to choose the number of topic for the final TP model (where TP model means Topic Modelling model), we will compute the coherence scores for each model trained, as described in Section 3.\n",
    "\n",
    "The coherence scores that are used are the following:\n",
    "- `c_v`: based on a sliding window, a one-set segmentation of the top words and an indirect confirmation measure that uses normalized pointwise mutual information (NPMI) and the cosinus similarity.\n",
    "- `u_mass`: based on document cooccurrence counts, a one-preceding segmentation and a logarithmic conditional probability as confirmation measure.\n",
    "\n",
    "As suggested in the litterature in http://svn.aksw.org/papers/2015/WSDM_Topic_Evaluation/public.pdf, the higher the 'c_v' score is the better the model is and the nearer the 'u_mass' score is to 0, the better the model is (the 'u_mass' score scales from -14 to 14 )\n",
    "\n"
   ]
  },
  {
   "cell_type": "code",
   "execution_count": 9,
   "metadata": {},
   "outputs": [],
   "source": [
    "class FakedGensimDict:\n",
    "    \"\"\"\n",
    "    Locally made class for `~gensim.corpora.dictionary.Dictionary`\n",
    "    \"\"\"\n",
    "\n",
    "    def __init__(self, data, S):\n",
    "        if not isinstance(data, dict):\n",
    "            raise ValueError('`data` must be an instance of `dict`')\n",
    "\n",
    "        self.id2token = data\n",
    "        self.token2id = {v: k for k, v in data.items()}\n",
    "        self.doc2bow = S\n",
    "\n",
    "    @staticmethod\n",
    "    def from_vocab(vocab):\n",
    "        return FakedGensimDict(dict(zip(range(len(vocab)), vocab)))"
   ]
  },
  {
   "cell_type": "markdown",
   "metadata": {},
   "source": [
    "### 4.1 Preparing the coherence model"
   ]
  },
  {
   "cell_type": "code",
   "execution_count": 3,
   "metadata": {},
   "outputs": [],
   "source": [
    "# Load the intermediate results\n",
    "\n",
    "S = scipy.sparse.load_npz('/dlabdata1/youtube_large/olam/data/final_res/matrices/S_final.npz')\n",
    "\n",
    "with open('/dlabdata1/youtube_large/olam/data/final_res/id2word_top20.pickle', 'rb') as f:\n",
    "    id2word_top20 = pickle.load(f)\n",
    "f.close()"
   ]
  },
  {
   "cell_type": "code",
   "execution_count": 4,
   "metadata": {},
   "outputs": [],
   "source": [
    "texts = []\n",
    "\n",
    "for i in range(S.shape[0]):\n",
    "    token_indices = list(S.getrow(i).nonzero()[1])\n",
    "    tokens = []\n",
    "\n",
    "    for token_indice in token_indices:\n",
    "        tokens.append(id2word_top20[token_indice])\n",
    "    texts.append(tokens)"
   ]
  },
  {
   "cell_type": "code",
   "execution_count": 5,
   "metadata": {
    "code_folding": []
   },
   "outputs": [],
   "source": [
    "corpus = []\n",
    "\n",
    "n_batches = 10\n",
    "batch_size = int(S.shape[0] / n_batches)\n",
    "\n",
    "\n",
    "for k in range(n_batches - 1):\n",
    "\n",
    "    for row in S[k * batch_size: (k + 1) * batch_size].toarray():\n",
    "        bow = []\n",
    "        idx_nonzero = np.nonzero(row)[0]\n",
    "        for i in range(len(idx_nonzero)):\n",
    "            bow.append((idx_nonzero[i], row[idx_nonzero[i]]))\n",
    "        corpus.append(bow)\n",
    "        \n",
    "for row in S[(n_batches - 1) * batch_size:].toarray():\n",
    "    bow = []\n",
    "    idx_nonzero = np.nonzero(row)[0]\n",
    "    for i in range(len(idx_nonzero)):\n",
    "        bow.append((idx_nonzero[i], row[idx_nonzero[i]]))\n",
    "    corpus.append(bow)"
   ]
  },
  {
   "cell_type": "markdown",
   "metadata": {},
   "source": [
    "### 4.2 Get the coherence scores for each model "
   ]
  },
  {
   "cell_type": "code",
   "execution_count": 6,
   "metadata": {},
   "outputs": [],
   "source": [
    "conf = SparkConf().setMaster(\"local\")#.setAll([('spark.executor.memory', '10g'),('spark.driver.memory','32g'),('spark.driver.maxResultSize', '0')])\n",
    "\n",
    "# create the session\n",
    "spark = SparkSession.builder.config(conf=conf).getOrCreate()"
   ]
  },
  {
   "cell_type": "code",
   "execution_count": 12,
   "metadata": {
    "scrolled": true
   },
   "outputs": [],
   "source": [
    "coherence_scores = []\n",
    "coherence_scores_umass = []\n",
    "\n",
    "\n",
    "n_topics_list = [50, 55, 60, 65, 70, 75, 80, 85, 90, 95,\n",
    "                 100, 105, 110, 115, 120, 125, 130, 135, 140, 145, 150]\n",
    "\n",
    "for i, n_topics in enumerate(n_topics_list):\n",
    "\n",
    "    #print('Computing coherence score for model with ' +\n",
    "    #      str(n_topics) + ' topics...')\n",
    "\n",
    "    # Get describe_topics dataframe\n",
    "    describe_topics = spark.read.json(\n",
    "        '/dlabdata1/youtube_large/olam/data/final_res/model/describe_topics/describe_topics_' + str(n_topics) + '.json')\n",
    "\n",
    "    # Characterize the topics with tokens\n",
    "    topics = []\n",
    "\n",
    "    for row in describe_topics.sort('topic').rdd.collect():\n",
    "        tokenized_topic = []\n",
    "        for j, token_id in enumerate(row.termIndices):\n",
    "            tokenized_topic.append(id2word_top20[token_id])\n",
    "            if j > 10:\n",
    "                break\n",
    "        topics.append(tokenized_topic)\n",
    "\n",
    "    # Compute c_v coherence score and append to coherence scores\n",
    "    coherence_model = CoherenceModel(topics=topics,\n",
    "                                     corpus=S,\n",
    "                                     dictionary=FakedGensimDict(\n",
    "                                         id2word_top20, S),\n",
    "                                     texts=texts,\n",
    "                                     coherence='c_v')\n",
    "\n",
    "    # Compute u_mass coherence score and append to coherence scores\n",
    "    coherence_model_umass = CoherenceModel(topics=topics,\n",
    "                                           corpus=corpus,\n",
    "                                           dictionary=FakedGensimDict(\n",
    "                                               id2word_top20, S),\n",
    "                                           coherence='u_mass')\n",
    "\n",
    "    #print('Getting c_v coherence score...')\n",
    "    coherence_scores.append(coherence_model.get_coherence())\n",
    "    #print('Getting u_mass coherence score...')\n",
    "    coherence_scores_umass.append(coherence_model_umass.get_coherence())"
   ]
  },
  {
   "cell_type": "code",
   "execution_count": 15,
   "metadata": {},
   "outputs": [
    {
     "data": {
      "text/plain": [
       "([<matplotlib.axis.XTick at 0x7f30d3320ee0>,\n",
       "  <matplotlib.axis.XTick at 0x7f30d3320eb0>,\n",
       "  <matplotlib.axis.XTick at 0x7f30627c0f70>,\n",
       "  <matplotlib.axis.XTick at 0x7f30d334adc0>,\n",
       "  <matplotlib.axis.XTick at 0x7f30d32e1460>,\n",
       "  <matplotlib.axis.XTick at 0x7f30d32e1970>,\n",
       "  <matplotlib.axis.XTick at 0x7f30d32e1e80>,\n",
       "  <matplotlib.axis.XTick at 0x7f30d32e63d0>,\n",
       "  <matplotlib.axis.XTick at 0x7f30d32e68e0>,\n",
       "  <matplotlib.axis.XTick at 0x7f30d32e6df0>,\n",
       "  <matplotlib.axis.XTick at 0x7f30d32ee340>,\n",
       "  <matplotlib.axis.XTick at 0x7f30d32ee850>,\n",
       "  <matplotlib.axis.XTick at 0x7f30d32e6490>,\n",
       "  <matplotlib.axis.XTick at 0x7f30d32e1520>,\n",
       "  <matplotlib.axis.XTick at 0x7f30d32ee4c0>,\n",
       "  <matplotlib.axis.XTick at 0x7f30d32eed60>,\n",
       "  <matplotlib.axis.XTick at 0x7f30d32f32b0>,\n",
       "  <matplotlib.axis.XTick at 0x7f30d32f37c0>,\n",
       "  <matplotlib.axis.XTick at 0x7f30d32f3cd0>,\n",
       "  <matplotlib.axis.XTick at 0x7f30d32f8220>,\n",
       "  <matplotlib.axis.XTick at 0x7f30d32f8730>],\n",
       " [Text(0, 0, '50'),\n",
       "  Text(1, 0, '55'),\n",
       "  Text(2, 0, '60'),\n",
       "  Text(3, 0, '65'),\n",
       "  Text(4, 0, '70'),\n",
       "  Text(5, 0, '75'),\n",
       "  Text(6, 0, '80'),\n",
       "  Text(7, 0, '85'),\n",
       "  Text(8, 0, '90'),\n",
       "  Text(9, 0, '95'),\n",
       "  Text(10, 0, '100'),\n",
       "  Text(11, 0, '105'),\n",
       "  Text(12, 0, '110'),\n",
       "  Text(13, 0, '115'),\n",
       "  Text(14, 0, '120'),\n",
       "  Text(15, 0, '125'),\n",
       "  Text(16, 0, '130'),\n",
       "  Text(17, 0, '135'),\n",
       "  Text(18, 0, '140'),\n",
       "  Text(19, 0, '145'),\n",
       "  Text(20, 0, '150')])"
      ]
     },
     "execution_count": 15,
     "metadata": {},
     "output_type": "execute_result"
    },
    {
     "data": {
      "image/png": "[encoded data removed]",
      "text/plain": [
       "<Figure size 1440x720 with 2 Axes>"
      ]
     },
     "metadata": {
      "needs_background": "light"
     },
     "output_type": "display_data"
    }
   ],
   "source": [
    "fig, ax = plt.subplots(figsize=(20, 10))\n",
    "\n",
    "ax.set_title('Coherence score for a given number of topics', fontsize=24)\n",
    "ax.set_xlabel('Number of Topics', fontsize=16)\n",
    "ax.set_ylabel('Coherence Score c_v', fontsize=16)\n",
    "\n",
    "ax.grid('on')\n",
    "\n",
    "ax.plot(coherence_scores, label='c_v coherence score', linewidth=3)\n",
    "\n",
    "ax2 = ax.twinx()\n",
    "ax2.set_ylabel('Coherence Score u_mass', fontsize=16)\n",
    "ax2.plot(coherence_scores_umass, label='u_mass coherence score', linewidth=3, color='orange')\n",
    "\n",
    "ax.legend(fontsize=16)\n",
    "ax2.legend(loc='upper right', bbox_to_anchor=(1, 0.93), fontsize=16)\n",
    "\n",
    "plt.xticks(np.arange(len(n_topics_list)), n_topics_list)"
   ]
  },
  {
   "cell_type": "code",
   "execution_count": 16,
   "metadata": {},
   "outputs": [],
   "source": [
    "fig.savefig('/home/olam/coherence_scores_newdata')"
   ]
  },
  {
   "cell_type": "markdown",
   "metadata": {},
   "source": [
    "## 5 Classifier\n",
    "\n",
    "#TODO describe the utility of this section"
   ]
  },
  {
   "cell_type": "markdown",
   "metadata": {},
   "source": [
    "### Filter the data for classification\n",
    "\n",
    "As we have filtered a specific data in the topic modelling task, we will do the same here. We do not select the data that has been used for topic modelling but we still want to use relevant data. For this, we keep only the videos with more than 10'000 views. \n",
    "\n",
    "We will not be able to use the already computed variable as `set_relevant_vid.pickle` or `set_relevant_vid_top20.pickle` since the index are defined for videos with more than 10'000 views from channels with more than 100'000 subs. In this case, we don't want the second condition, we just need the channel to be in the set of the crawled channels."
   ]
  },
  {
   "cell_type": "markdown",
   "metadata": {},
   "source": [
    "#### Get the data of the relevant videos for the classifier"
   ]
  },
  {
   "cell_type": "code",
   "execution_count": 11,
   "metadata": {},
   "outputs": [
    {
     "name": "stdout",
     "output_type": "stream",
     "text": [
      "There are 164648 relevant channels.\n"
     ]
    }
   ],
   "source": [
    "# GET THE LIST OF RELEVANT CHANNELS\n",
    "\n",
    "df_channelcrawler = pd.read_csv('/dlabdata1/youtube_large/channelcrawler.csv')\n",
    "\n",
    "df_channelcrawler['channel_id'] = df_channelcrawler['link'].apply(\n",
    "    lambda x: x.replace('http://www.youtube.com/channel/', ''))\n",
    "\n",
    "# Store in a set since it will be faster to check if a channel is in channelcrawler\n",
    "set_relevant_channels_classifier = set(df_channelcrawler['channel_id'])\n",
    "\n",
    "print('There are ' + str(len(set_relevant_channels_classifier)) + ' relevant channels.')"
   ]
  },
  {
   "cell_type": "code",
   "execution_count": 12,
   "metadata": {},
   "outputs": [
    {
     "name": "stdout",
     "output_type": "stream",
     "text": [
      "Processed 10000000 videos...\n",
      "Processed 20000000 videos...\n",
      "Processed 30000000 videos...\n",
      "Processed 40000000 videos...\n",
      "Processed 50000000 videos...\n",
      "Processed 60000000 videos...\n",
      "Processed 70000000 videos...\n"
     ]
    }
   ],
   "source": [
    "### Get the relevant features of the relevant videos\n",
    "\n",
    "array_relevant_features = []\n",
    "\n",
    "array_idx_relevant_vid = []\n",
    "\n",
    "i = 0\n",
    "\n",
    "for filepath in os.listdir('/dlabdata1/youtube_large/yt_metadata_en_dd/'):\n",
    "\n",
    "    # Reading the file\n",
    "    with gzip.open('/dlabdata1/youtube_large/yt_metadata_en_dd/' + filepath, 'rb') as f:\n",
    "\n",
    "        for line in f:\n",
    "\n",
    "            # line is a byte dict, video is the corresponding dict\n",
    "            video = json.loads(line)\n",
    "\n",
    "            if check_channel(video, set_relevant_channels_classifier) and check_10000_views(video):\n",
    "                \n",
    "                array_idx_relevant_vid.append(i)\n",
    "                \n",
    "                array_vid_relevant_features = [video['channel_id']]\n",
    "                array_vid_relevant_features.append(video['view_count'])\n",
    "                array_vid_relevant_features.append(video['upload_date'][:4])\n",
    "                array_vid_relevant_features.append(video['categories'])\n",
    "        \n",
    "                array_relevant_features.append(array_vid_relevant_features)\n",
    "\n",
    "            if i % 10000000 == 0 and i != 0:\n",
    "                print('Processed ' + str(i) + ' videos...')\n",
    "\n",
    "            i += 1"
   ]
  },
  {
   "cell_type": "code",
   "execution_count": 14,
   "metadata": {},
   "outputs": [
    {
     "name": "stdout",
     "output_type": "stream",
     "text": [
      "Shape of the DataFrame: (23306713, 4)\n"
     ]
    }
   ],
   "source": [
    "# Get the dataframe of all the videos that we will consider\n",
    "\n",
    "column_names = ['channel_id', 'view_counts', 'uploaded_year', 'category']\n",
    "\n",
    "df = pd.DataFrame(array_relevant_features, columns=column_names)\n",
    "\n",
    "print('Shape of the DataFrame: ' + str(df.shape))"
   ]
  },
  {
   "cell_type": "markdown",
   "metadata": {},
   "source": [
    "#### Remove the videos that have been used for the TP model "
   ]
  },
  {
   "cell_type": "code",
   "execution_count": 32,
   "metadata": {},
   "outputs": [],
   "source": [
    "# Load set of channels with more than 100'000 subs\n",
    "with open('/dlabdata1/youtube_large/olam/data/final_res/set_relevant_channels.pickle', 'rb') as f:\n",
    "    set_relevant_channels = pickle.load(f)\n",
    "f.close()"
   ]
  },
  {
   "cell_type": "code",
   "execution_count": 15,
   "metadata": {},
   "outputs": [
    {
     "data": {
      "text/html": [
       "<div>\n",
       "<style scoped>\n",
       "    .dataframe tbody tr th:only-of-type {\n",
       "        vertical-align: middle;\n",
       "    }\n",
       "\n",
       "    .dataframe tbody tr th {\n",
       "        vertical-align: top;\n",
       "    }\n",
       "\n",
       "    .dataframe thead th {\n",
       "        text-align: right;\n",
       "    }\n",
       "</style>\n",
       "<table border=\"1\" class=\"dataframe\">\n",
       "  <thead>\n",
       "    <tr style=\"text-align: right;\">\n",
       "      <th></th>\n",
       "      <th>channel_id</th>\n",
       "      <th>view_counts</th>\n",
       "      <th>uploaded_year</th>\n",
       "      <th>category</th>\n",
       "    </tr>\n",
       "  </thead>\n",
       "  <tbody>\n",
       "    <tr>\n",
       "      <th>14967815</th>\n",
       "      <td>UCLp8RBhQHu9wSsq62j_Md6A</td>\n",
       "      <td>6.509934e+09</td>\n",
       "      <td>2017</td>\n",
       "      <td>Music</td>\n",
       "    </tr>\n",
       "    <tr>\n",
       "      <th>22890520</th>\n",
       "      <td>UC0C-w0YjGpqDXGB8IHb662A</td>\n",
       "      <td>4.468090e+09</td>\n",
       "      <td>2017</td>\n",
       "      <td>Music</td>\n",
       "    </tr>\n",
       "    <tr>\n",
       "      <th>11402670</th>\n",
       "      <td>UCVp3nfGRxmMadNDuVbJSk8A</td>\n",
       "      <td>4.295905e+09</td>\n",
       "      <td>2015</td>\n",
       "      <td>Music</td>\n",
       "    </tr>\n",
       "    <tr>\n",
       "      <th>8576308</th>\n",
       "      <td>UCcdwLMPsaU2ezNSJU1nFoBQ</td>\n",
       "      <td>3.838039e+09</td>\n",
       "      <td>2016</td>\n",
       "      <td>Education</td>\n",
       "    </tr>\n",
       "    <tr>\n",
       "      <th>5001984</th>\n",
       "      <td>UCmfFGTSsfJVu6CGvL8r75qg</td>\n",
       "      <td>3.709533e+09</td>\n",
       "      <td>2014</td>\n",
       "      <td>Music</td>\n",
       "    </tr>\n",
       "  </tbody>\n",
       "</table>\n",
       "</div>"
      ],
      "text/plain": [
       "                        channel_id   view_counts uploaded_year   category\n",
       "14967815  UCLp8RBhQHu9wSsq62j_Md6A  6.509934e+09          2017      Music\n",
       "22890520  UC0C-w0YjGpqDXGB8IHb662A  4.468090e+09          2017      Music\n",
       "11402670  UCVp3nfGRxmMadNDuVbJSk8A  4.295905e+09          2015      Music\n",
       "8576308   UCcdwLMPsaU2ezNSJU1nFoBQ  3.838039e+09          2016  Education\n",
       "5001984   UCmfFGTSsfJVu6CGvL8r75qg  3.709533e+09          2014      Music"
      ]
     },
     "execution_count": 15,
     "metadata": {},
     "output_type": "execute_result"
    }
   ],
   "source": [
    "df_sub100000 = df[df['channel_id'].isin(set_relevant_channels)]\n",
    "df_top20 = df_sub100000.sort_values(['view_counts'], ascending=False).groupby(['category', 'uploaded_year', 'channel_id']).head(20)\n",
    "index_to_remove = set(df_top20.index)\n",
    "df_top20.head()"
   ]
  },
  {
   "cell_type": "code",
   "execution_count": 16,
   "metadata": {},
   "outputs": [],
   "source": [
    "set_relevant_vid_classifier = set()\n",
    "\n",
    "for index in df.index:\n",
    "    if index not in index_to_remove:\n",
    "        set_relevant_vid_classifier.add(index)"
   ]
  },
  {
   "cell_type": "code",
   "execution_count": 17,
   "metadata": {},
   "outputs": [],
   "source": [
    "with open('/dlabdata1/youtube_large/olam/data/final_res/set_relevant_vid_classifier.pickle', 'wb') as f:\n",
    "    pickle.dump(set_relevant_vid_classifier, f)\n",
    "f.close()"
   ]
  },
  {
   "cell_type": "markdown",
   "metadata": {},
   "source": [
    "### Process the data\n",
    "\n",
    "The data input for the classifier is a vector of the distribution over the topics for each video. We will proceed with the following steps:\n",
    "\n",
    "- Process the data so that this data can be the input of our TM model. \n",
    "- Get the distribution over the topics vector for each video with the best TM model\n",
    "- Get the groundtruth category of the considered videos\n",
    "- Get the index for training data, validation data and testing data\n",
    "\n",
    "**Notes**\n",
    "\n",
    "`set_relevant_vid_classifier` is the set of index of the desired videos from the DataFrame with the relevant features\n",
    "\n",
    "`index_data` is the set of index of the desired videos from the file of all videos"
   ]
  },
  {
   "cell_type": "markdown",
   "metadata": {},
   "source": [
    "#### Get the BoW vector for each video corresponding to the vocabulary of the TM model"
   ]
  },
  {
   "cell_type": "code",
   "execution_count": 18,
   "metadata": {},
   "outputs": [],
   "source": [
    "# Load dictionnary of words\n",
    "with open('/dlabdata1/youtube_large/olam/data/final_res/id2word_top20.pickle', 'rb') as f:\n",
    "    id2word = pickle.load(f)\n",
    "f.close()\n",
    "\n",
    "# Load index of data for classifier\n",
    "with open('/dlabdata1/youtube_large/olam/data/final_res/set_relevant_vid_classifier.pickle', 'rb') as f:\n",
    "    set_relevant_vid_classifier = pickle.load(f)\n",
    "f.close()"
   ]
  },
  {
   "cell_type": "code",
   "execution_count": 19,
   "metadata": {},
   "outputs": [],
   "source": [
    "# Get the vocabulary of the TM model\n",
    "vocab = list(id2word.values())\n",
    "\n",
    "# we need word2id in order to be able to match the token to its index in the vocabulary\n",
    "word2id = {v: k for k, v in id2word.items()}\n",
    "\n",
    "\n",
    "# Now we can compute the index of the videos we need for the classifier from the data of all videos\n",
    "array_idx_relevant_vid.sort()\n",
    "\n",
    "index_data = set([array_idx_relevant_vid[i] for i in set_relevant_vid_classifier])"
   ]
  },
  {
   "cell_type": "code",
   "execution_count": 23,
   "metadata": {},
   "outputs": [],
   "source": [
    "# Save intermediate result\n",
    "with open('/dlabdata1/youtube_large/olam/data/final_res/index_data.pickle', 'wb') as f:\n",
    "    pickle.dump(index_data, f)\n",
    "f.close()"
   ]
  },
  {
   "cell_type": "code",
   "execution_count": 24,
   "metadata": {},
   "outputs": [],
   "source": [
    "# Load intermediate result\n",
    "with open('/dlabdata1/youtube_large/olam/data/final_res/index_data.pickle', 'rb') as f:\n",
    "    index_data = pickle.load(f)\n",
    "f.close()"
   ]
  },
  {
   "cell_type": "code",
   "execution_count": 27,
   "metadata": {},
   "outputs": [
    {
     "name": "stdout",
     "output_type": "stream",
     "text": [
      "Processed 0 videos...\n",
      "Processed 10000000 videos...\n",
      "Processed 20000000 videos...\n",
      "Processed 30000000 videos...\n",
      "Processed 40000000 videos...\n",
      "Processed 50000000 videos...\n",
      "Processed 60000000 videos...\n",
      "Processed 70000000 videos...\n"
     ]
    }
   ],
   "source": [
    "data = dok_matrix((1000000, len(vocab)), dtype=np.uint8)\n",
    "groundtruth = []\n",
    "\n",
    "i_vid = 0\n",
    "i = 0\n",
    "\n",
    "for filepath in os.listdir('/dlabdata1/youtube_large/yt_metadata_en_dd/'):\n",
    "    \n",
    "    # Reading the file\n",
    "    with gzip.open('/dlabdata1/youtube_large/yt_metadata_en_dd/' + filepath, 'rb') as f:\n",
    "\n",
    "        for line in f:\n",
    "\n",
    "            if i % 10000000 == 0:\n",
    "                print('Processed ' + str(i) + ' videos...')\n",
    "\n",
    "            if i_vid % 1000000 == 0 and i_vid != 0:\n",
    "\n",
    "                file_name = 'data' + str(int(i_vid / 1000000)) + '.npz'\n",
    "\n",
    "                if not os.path.isfile('/dlabdata1/youtube_large/olam/data/final_res/matrices/' + file_name):\n",
    "\n",
    "                    data = data.tocsr()\n",
    "                    scipy.sparse.save_npz(\n",
    "                        '/dlabdata1/youtube_large/olam/data/final_res/matrices/' + file_name, data)\n",
    "                    data = dok_matrix((1000000, len(vocab)), dtype=np.uint8)\n",
    "\n",
    "            if i in index_data:\n",
    "\n",
    "                # line is a str dict, video is the dict corresponding to the str dict\n",
    "                video = json.loads(line)\n",
    "\n",
    "                # Get the tokens for each video and theirs number of occurences\n",
    "                freq_tokens_per_video = get_freq_tokens_per_video(video)\n",
    "\n",
    "                # For each video, create a underlying dictionnary for filling the sparse matrix efficiently\n",
    "                dict_freq_tokens_for_sparse_matrix = fill_underlying_dict(\n",
    "                    freq_tokens_per_video, word2id, i_vid)\n",
    "\n",
    "                # Need to check that the video contains token from the reduced vocabulary\n",
    "                if dict_freq_tokens_for_sparse_matrix != {}:\n",
    "\n",
    "                    # Update the Sparse Matrix\n",
    "                    dict.update(data, dict_freq_tokens_for_sparse_matrix)\n",
    "                    i_vid += 1\n",
    "\n",
    "                    # Get groundtruth values\n",
    "                    groundtruth.append(video['categories'])\n",
    "                    \n",
    "            i += 1\n",
    "s\n",
    "# Save last sparse matrix\n",
    "data = data.tocsr()\n",
    "data = remove_zero_rows(data)\n",
    "scipy.sparse.save_npz(\n",
    "    '/dlabdata1/youtube_large/olam/data/final_res/matrices/data_last.npz', data)"
   ]
  },
  {
   "cell_type": "code",
   "execution_count": 30,
   "metadata": {},
   "outputs": [],
   "source": [
    "# get full matrix of BoW\n",
    "data = scipy.sparse.load_npz('/dlabdata1/youtube_large/olam/data/final_res/matrices/data1.npz')\n",
    "\n",
    "for i in range(2, 20):\n",
    "    data_next = scipy.sparse.load_npz('/dlabdata1/youtube_large/olam/data/final_res/matrices/data' + str(i) + '.npz')\n",
    "    data = scipy.sparse.vstack([data, data_next])\n",
    "\n",
    "# Add last matrix\n",
    "data_last = scipy.sparse.load_npz('/dlabdata1/youtube_large/olam/data/final_res/matrices/data_last.npz')\n",
    "data = scipy.sparse.vstack([data, data_last])"
   ]
  },
  {
   "cell_type": "code",
   "execution_count": 31,
   "metadata": {},
   "outputs": [],
   "source": [
    "# Check that the number of samples is correct\n",
    "\n",
    "if len(groundtruth) == remove_zero_rows(data).shape[0]:\n",
    "    \n",
    "    # Save the final whole matrix\n",
    "    scipy.sparse.save_npz('/dlabdata1/youtube_large/olam/data/final_res/matrices/data_final.npz', data)\n",
    "    \n",
    "    # Save the corresponding groundtruths\n",
    "    with open('/dlabdata1/youtube_large/olam/data/final_res/groundtruth.pickle', 'wb') as f:\n",
    "        pickle.dump(groundtruth, f)\n",
    "    f.close()"
   ]
  },
  {
   "cell_type": "markdown",
   "metadata": {},
   "source": [
    "#### Transform the BoW vectors to the format for applying to the PySpark TM model"
   ]
  },
  {
   "cell_type": "code",
   "execution_count": 32,
   "metadata": {},
   "outputs": [
    {
     "name": "stdout",
     "output_type": "stream",
     "text": [
      "Process video for topic modelling...\n",
      "0 videos processed...\n",
      "5000000 videos processed...\n",
      "10000000 videos processed...\n",
      "15000000 videos processed...\n"
     ]
    }
   ],
   "source": [
    "# process for pyspark\n",
    "\n",
    "data_spark = []\n",
    "\n",
    "print('Process video for topic modelling...')\n",
    "for i in range(data.shape[0]):\n",
    "\n",
    "    if i % 5000000 == 0:\n",
    "        print(str(i) + ' videos processed...')\n",
    "\n",
    "    data_spark.append([i, get_dict_for_row(data.getrow(i).todok().items(), data)])"
   ]
  },
  {
   "cell_type": "code",
   "execution_count": 48,
   "metadata": {},
   "outputs": [],
   "source": [
    "conf = SparkConf().setMaster(\"local[10]\").setAll([('spark.executor.memory', '32g'),('spark.driver.memory','80g'),('spark.driver.maxResultSize', '0')])\n",
    "\n",
    "# create the session\n",
    "spark = SparkSession.builder.config(conf=conf).getOrCreate()"
   ]
  },
  {
   "cell_type": "code",
   "execution_count": 55,
   "metadata": {},
   "outputs": [],
   "source": [
    "n_batch = 10\n",
    "batch_size = int(len(data_spark) / n_batch)"
   ]
  },
  {
   "cell_type": "code",
   "execution_count": 57,
   "metadata": {},
   "outputs": [],
   "source": [
    "for i in range(n_batch - 1):\n",
    "    data_spark_sub = data_spark[i * batch_size: (i + 1) * batch_size]\n",
    "    filename = 'data_spark' + str(i) + '.pickle'\n",
    "    with open('/dlabdata1/youtube_large/olam/data/final_res/classifier/' + filename, 'wb') as f:\n",
    "        pickle.dump(data_spark_sub, f)\n",
    "    f.close()\n",
    "    \n",
    "data_spark_sub = data_spark[(n_batch - 1) * batch_size:]\n",
    "filename = 'data_spark_last.pickle'\n",
    "with open('/dlabdata1/youtube_large/olam/data/final_res/classifier/' + filename, 'wb') as f:\n",
    "    pickle.dump(data_spark_sub, f)\n",
    "f.close()"
   ]
  },
  {
   "cell_type": "code",
   "execution_count": 2,
   "metadata": {},
   "outputs": [
    {
     "name": "stdout",
     "output_type": "stream",
     "text": [
      "Get the data...\n",
      "Processing file 1\n",
      "Processing file 2\n",
      "Processing file 3\n",
      "Processing file 4\n",
      "Processing file 5\n",
      "Processing file 6\n",
      "Processing file 7\n",
      "Processing file 8\n"
     ]
    }
   ],
   "source": [
    "print('Get the data...')\n",
    "with open('/dlabdata1/youtube_large/olam/data/final_res/classifier/data_spark0.pickle', 'rb') as f:\n",
    "    data = pickle.load(f)\n",
    "f.close()\n",
    "\n",
    "for i in range(1, 9):\n",
    "    print('Processing file ' + str(i))\n",
    "    filename = 'data_spark' + str(i) + '.pickle'\n",
    "    with open('/dlabdata1/youtube_large/olam/data/final_res/classifier/' + filename, 'rb') as f:\n",
    "        data.extend(pickle.load(f))\n",
    "    f.close()\n",
    "\n",
    "with open('/dlabdata1/youtube_large/olam/data/final_res/classifier/data_spark_last.pickle', 'rb') as f:\n",
    "    data.extend(pickle.load(f))\n",
    "f.close()"
   ]
  },
  {
   "cell_type": "code",
   "execution_count": 3,
   "metadata": {},
   "outputs": [],
   "source": [
    "conf = SparkConf().setMaster(\"local[4]\").setAll(\n",
    "    [('spark.executor.memory', '8g'), ('spark.driver.memory', '64g'), ('spark.driver.maxResultSize', '0')])\n",
    "\n",
    "# create the session\n",
    "spark = SparkSession.builder.appName(\n",
    "    \"LDA_topicmodelling\").config(conf=conf).getOrCreate()"
   ]
  },
  {
   "cell_type": "code",
   "execution_count": 4,
   "metadata": {},
   "outputs": [],
   "source": [
    "df = spark.createDataFrame(data, [\"id\", \"features\"])"
   ]
  },
  {
   "cell_type": "markdown",
   "metadata": {},
   "source": [
    "#### Get the distribution over the topics for each video"
   ]
  },
  {
   "cell_type": "code",
   "execution_count": null,
   "metadata": {},
   "outputs": [],
   "source": [
    "describe_topics = spark.read.json('/dlabdata1/youtube_large/olam/data/final_res/model/describe_topics/describe_topics_90.json')\n",
    "\n",
    "# Print topics\n",
    "for row in describe_topics.sort('topic').rdd.collect():\n",
    "    print('Topic ' + str(row.topic) + ': ')\n",
    "    term_weights = row.termWeights\n",
    "    for i, token_id in enumerate(row.termIndices):\n",
    "        print('   With weight of ' + str(term_weights[i]) + ' : ' + id2word[token_id] )\n",
    "        if i >= 10:\n",
    "            break"
   ]
  },
  {
   "cell_type": "code",
   "execution_count": null,
   "metadata": {},
   "outputs": [],
   "source": [
    "describe_topics = spark.read.json('/dlabdata1/youtube_large/olam/data/final_res/model/describe_topics/describe_topics_110.json')\n",
    "\n",
    "# Print topics\n",
    "for row in describe_topics.sort('topic').rdd.collect():\n",
    "    print('Topic ' + str(row.topic) + ': ')\n",
    "    term_weights = row.termWeights\n",
    "    for i, token_id in enumerate(row.termIndices):\n",
    "        print('   With weight of ' + str(term_weights[i]) + ' : ' + id2word[token_id] )\n",
    "        if i >= 10:\n",
    "            break"
   ]
  },
  {
   "cell_type": "code",
   "execution_count": 5,
   "metadata": {},
   "outputs": [],
   "source": [
    "# Get model\n",
    "model = LocalLDAModel.load('/dlabdata1/youtube_large/olam/data/final_res/model/model_110')\n",
    "\n",
    "# Get the transformed data\n",
    "transformed_data = model.transform(df)"
   ]
  },
  {
   "cell_type": "markdown",
   "metadata": {},
   "source": [
    "- Because of the memory issue, we will create a Sparse matrix that contains the distribution over the topics for each video.\n",
    "\n",
    "- For that, we slide the data into 35 batches and for each one, we will create a dok sparse matrix and in the end, we will save all the results in the compressed csc format and in the end we will be able to stack all the \"sub\" sparse matrices"
   ]
  },
  {
   "cell_type": "code",
   "execution_count": 6,
   "metadata": {
    "scrolled": true
   },
   "outputs": [
    {
     "name": "stdout",
     "output_type": "stream",
     "text": [
      "Iteration 1/38\n",
      "Iteration 2/38\n",
      "Iteration 3/38\n",
      "Iteration 4/38\n",
      "Iteration 5/38\n",
      "Iteration 6/38\n",
      "Iteration 7/38\n",
      "Iteration 8/38\n",
      "Iteration 9/38\n",
      "Iteration 10/38\n",
      "Iteration 11/38\n",
      "Iteration 12/38\n",
      "Iteration 13/38\n",
      "Iteration 14/38\n",
      "Iteration 15/38\n",
      "Iteration 16/38\n",
      "Iteration 17/38\n",
      "Iteration 18/38\n",
      "Iteration 19/38\n",
      "Iteration 20/38\n",
      "Iteration 21/38\n",
      "Iteration 22/38\n",
      "Iteration 23/38\n",
      "Iteration 24/38\n",
      "Iteration 25/38\n",
      "Iteration 26/38\n",
      "Iteration 27/38\n",
      "Iteration 28/38\n",
      "Iteration 29/38\n",
      "Iteration 30/38\n",
      "Iteration 31/38\n",
      "Iteration 32/38\n",
      "Iteration 33/38\n",
      "Iteration 34/38\n",
      "Iteration 35/38\n",
      "Iteration 36/38\n",
      "Iteration 37/38\n",
      "Iteration 38/38\n"
     ]
    }
   ],
   "source": [
    "number_videos_in_dataset = len(data)\n",
    "batch_size = 500000\n",
    "n_iter = int(number_videos_in_dataset / batch_size)\n",
    "n_topic = 110\n",
    "\n",
    "for k in range(n_iter):\n",
    "    \n",
    "    print('Iteration ' + str(k + 1) + '/' + str(n_iter))\n",
    "    \n",
    "    transformed_data_sub = transformed_data.where(\n",
    "        col(\"id\").between(0 + k * 500000, (k + 1) * 500000 - 1))\n",
    "\n",
    "    # Create sparse matrix\n",
    "    S = dok_matrix((batch_size, n_topic))\n",
    "\n",
    "    for i, topic_dist_one_vid in enumerate(transformed_data_sub.select('topicDistribution').collect()):\n",
    "\n",
    "        dict_topic_dist_one_vid = {}\n",
    "\n",
    "        for j, prob in enumerate(topic_dist_one_vid['topicDistribution']):\n",
    "\n",
    "            dict_topic_dist_one_vid[(i, j)] = prob\n",
    "\n",
    "        # Fill data in to sparse matrix\n",
    "        dict.update(S, dict_topic_dist_one_vid)\n",
    "\n",
    "    filename = 'transformed_data' + str(k) + '.npz'\n",
    "    scipy.sparse.save_npz(\n",
    "        '/dlabdata1/youtube_large/olam/data/final_res/matrices/' + filename, S.tocsr())"
   ]
  },
  {
   "cell_type": "code",
   "execution_count": 7,
   "metadata": {},
   "outputs": [],
   "source": [
    "# last iteration\n",
    "transformed_data_sub = transformed_data.where(\n",
    "    col(\"id\").between(0 + n_iter * 500000, number_videos_in_dataset + 1))\n",
    "\n",
    "S = dok_matrix((number_videos_in_dataset - batch_size * n_iter, n_topic))\n",
    "\n",
    "for i, topic_dist_one_vid in enumerate(transformed_data_sub.select('topicDistribution').collect()):\n",
    "\n",
    "    dict_topic_dist_one_vid = {}\n",
    "\n",
    "    for j, prob in enumerate(topic_dist_one_vid['topicDistribution']):\n",
    "\n",
    "        dict_topic_dist_one_vid[(i, j)] = prob\n",
    "\n",
    "    # Fill data in to sparse matrix\n",
    "    dict.update(S, dict_topic_dist_one_vid)\n",
    "\n",
    "filename = 'transformed_data_last.npz'\n",
    "scipy.sparse.save_npz(\n",
    "    '/dlabdata1/youtube_large/olam/data/final_res/matrices/' + filename, S.tocsr())"
   ]
  },
  {
   "cell_type": "code",
   "execution_count": 3,
   "metadata": {},
   "outputs": [],
   "source": [
    "# Get the full matrix\n",
    "\n",
    "data = scipy.sparse.load_npz(\n",
    "    '/dlabdata1/youtube_large/olam/data/final_res/matrices/transformed_data0.npz')\n",
    "\n",
    "for i in range(1, 38):\n",
    "    data_next = scipy.sparse.load_npz(\n",
    "        '/dlabdata1/youtube_large/olam/data/final_res/matrices/transformed_data' + str(i) + '.npz')\n",
    "    data = scipy.sparse.vstack([data, data_next])\n",
    "\n",
    "# Add last matrix\n",
    "data_next = scipy.sparse.load_npz(\n",
    "    '/dlabdata1/youtube_large/olam/data/final_res/matrices/transformed_data_last.npz')\n",
    "data = scipy.sparse.vstack([data, data_next])"
   ]
  },
  {
   "cell_type": "code",
   "execution_count": null,
   "metadata": {},
   "outputs": [],
   "source": [
    "# Save the full matrix\n",
    "scipy.sparse.save_npz('/dlabdata1/youtube_large/olam/data/final_res/matrices/transformed_data_final.npz', data)"
   ]
  },
  {
   "cell_type": "markdown",
   "metadata": {},
   "source": [
    "#### Split the data into training, validation and testing data"
   ]
  },
  {
   "cell_type": "code",
   "execution_count": 2,
   "metadata": {},
   "outputs": [],
   "source": [
    "# Load data features\n",
    "data = scipy.sparse.load_npz(\n",
    "    '/dlabdata1/youtube_large/olam/data/final_res/matrices/transformed_data_final.npz')\n",
    "\n",
    "# Load groundtruth\n",
    "with open('/dlabdata1/youtube_large/olam/data/final_res/groundtruth.pickle', 'rb') as f:\n",
    "    groundtruth = pickle.load(f)\n",
    "f.close()"
   ]
  },
  {
   "cell_type": "code",
   "execution_count": 13,
   "metadata": {},
   "outputs": [],
   "source": [
    "number_videos_in_dataset = len(groundtruth)\n",
    "\n",
    "index = np.arange(number_videos_in_dataset)\n",
    "np.random.shuffle(index)\n",
    "\n",
    "# Save list of shuffled index for reproducibility\n",
    "with open('/dlabdata1/youtube_large/olam/data/final_res/list_suffled_idx.pickle', 'wb') as f:\n",
    "    pickle.dump(index, f)\n",
    "f.close()"
   ]
  },
  {
   "cell_type": "code",
   "execution_count": 3,
   "metadata": {},
   "outputs": [],
   "source": [
    "# Load list of shuffled index\n",
    "with open('/dlabdata1/youtube_large/olam/data/final_res/list_suffled_idx.pickle', 'rb') as f:\n",
    "    index = pickle.load(f)\n",
    "f.close()"
   ]
  },
  {
   "cell_type": "code",
   "execution_count": 6,
   "metadata": {},
   "outputs": [
    {
     "name": "stdout",
     "output_type": "stream",
     "text": [
      "True\n"
     ]
    }
   ],
   "source": [
    "training_val_model_threshold = int(0.8 * number_videos_in_dataset)\n",
    "training_model_threshold = int(0.65 * number_videos_in_dataset)\n",
    "\n",
    "list_train_idx = np.sort(index[:training_model_threshold])\n",
    "list_val_idx = np.sort(index[training_model_threshold:training_val_model_threshold])\n",
    "list_test_idx = np.sort(index[training_val_model_threshold:])\n",
    "\n",
    "print(len(list_train_idx) + len(list_val_idx) + len(list_test_idx) == len(groundtruth))"
   ]
  },
  {
   "cell_type": "markdown",
   "metadata": {},
   "source": [
    "### Train the model"
   ]
  },
  {
   "cell_type": "markdown",
   "metadata": {},
   "source": [
    "#### Hyperparameter Tuning"
   ]
  },
  {
   "cell_type": "code",
   "execution_count": 7,
   "metadata": {},
   "outputs": [
    {
     "name": "stdout",
     "output_type": "stream",
     "text": [
      "time for iter 0: 2.714664383729299\n",
      "score: 0.5578341263627056\n",
      "\n",
      "time for iter 1: 2.540106952190399\n",
      "score: 0.5571808881355349\n",
      "\n",
      "time for iter 2: 2.2338491757710774\n",
      "score: 0.5574424587639067\n",
      "\n",
      "time for iter 3: 2.7125706911087035\n",
      "score: 0.5573144268247563\n",
      "\n",
      "time for iter 4: 2.640796248118083\n",
      "score: 0.5562667676237513\n",
      "\n",
      "time for iter 5: 2.6902949611345925\n",
      "score: 0.5566360640503868\n",
      "\n",
      "time for iter 6: 2.35685582558314\n",
      "score: 0.5561642044036792\n",
      "\n",
      "time for iter 7: 2.454207944869995\n",
      "score: 0.5552215176259023\n",
      "\n",
      "time for iter 8: 2.6262046813964846\n",
      "score: 0.5518782319890553\n",
      "\n",
      "time for iter 9: 2.7559444824854533\n",
      "score: 0.5328782233847583\n",
      "\n",
      "time for iter 10: 5.086419479052226\n",
      "score: 0.338663408506208\n",
      "\n",
      "time for iter 11: 7.057842032114665\n",
      "score: 0.27138813123273764\n",
      "\n",
      "time for iter 12: 14.004527656237284\n",
      "score: 0.2677619363109937\n",
      "\n",
      "time for iter 13: 21.02090473572413\n",
      "score: 0.2662868156357285\n",
      "\n",
      "time for iter 14: 16.716942596435548\n",
      "score: 0.2618858898133728\n",
      "\n",
      "time for iter 15: 14.216405109564464\n",
      "score: 0.25779471868251\n",
      "\n",
      "time for iter 16: 12.413349962234497\n",
      "score: 0.2564576109308989\n",
      "\n",
      "time for iter 17: 8.648455158869426\n",
      "score: 0.2530217430584834\n",
      "\n",
      "time for iter 18: 6.5126456061999\n",
      "score: 0.24981165193897834\n",
      "\n",
      "time for iter 19: 6.858466172218323\n",
      "score: 0.24694229098011547\n",
      "\n"
     ]
    }
   ],
   "source": [
    "# Initialize the hyperparameter\n",
    "alphas = np.logspace(0, 1, num=20, base=100) / 100\n",
    "\n",
    "accuracies = []\n",
    "\n",
    "for i, alpha in enumerate(alphas):\n",
    "\n",
    "    start = time.time()\n",
    "    clf = SGDClassifier(loss='hinge', alpha=alpha, max_iter=50, shuffle=True, n_jobs=10, random_state=1)\n",
    "    clf.fit(data[list_train_idx],\n",
    "            y=np.array(groundtruth)[list_train_idx])\n",
    "    \n",
    "    y_pred = clf.predict(data[list_val_idx])\n",
    "    y_gt = np.array(groundtruth)[list_val_idx]\n",
    "    \n",
    "    score = accuracy_score(y_gt, y_pred)\n",
    "    accuracies.append(score)\n",
    "    print('time for iter ' + str(i) + ': ' + str((time.time() - start) / 60))\n",
    "    print('score: ' + str(score))\n",
    "    print('')"
   ]
  },
  {
   "cell_type": "code",
   "execution_count": 8,
   "metadata": {},
   "outputs": [
    {
     "name": "stdout",
     "output_type": "stream",
     "text": [
      "The optimal alpha is : alpha = 0.01\n"
     ]
    }
   ],
   "source": [
    "best_alpha = alphas[np.argmax(accuracies)]\n",
    "print('The optimal alpha is : alpha = ' + str(best_alpha))"
   ]
  },
  {
   "cell_type": "markdown",
   "metadata": {},
   "source": [
    "#### Get results on testing data"
   ]
  },
  {
   "cell_type": "code",
   "execution_count": 9,
   "metadata": {},
   "outputs": [
    {
     "data": {
      "text/plain": [
       "SGDClassifier(alpha=0.01, max_iter=50, n_jobs=10, random_state=1)"
      ]
     },
     "execution_count": 9,
     "metadata": {},
     "output_type": "execute_result"
    }
   ],
   "source": [
    "clf = SGDClassifier(loss='hinge', alpha=best_alpha, max_iter=50, shuffle=True, n_jobs=10, random_state=1)\n",
    "clf.fit(data[list_train_idx],\n",
    "        y=np.array(groundtruth)[list_train_idx])"
   ]
  },
  {
   "cell_type": "code",
   "execution_count": 10,
   "metadata": {},
   "outputs": [
    {
     "name": "stdout",
     "output_type": "stream",
     "text": [
      "Accuracy on training set of the best model: 0.558223999843693\n"
     ]
    }
   ],
   "source": [
    "Y_pred_train = clf.predict(data[list_train_idx])\n",
    "y_gt_train = np.array(groundtruth)[list_train_idx]\n",
    "\n",
    "score_train = accuracy_score(y_gt_train, Y_pred_train)\n",
    "\n",
    "print('Accuracy on training set of the best model: ' + str(score_train))"
   ]
  },
  {
   "cell_type": "code",
   "execution_count": 11,
   "metadata": {},
   "outputs": [
    {
     "name": "stdout",
     "output_type": "stream",
     "text": [
      "Accuracy on test set of the best model: 0.5580831247221888\n"
     ]
    }
   ],
   "source": [
    "y_pred = clf.predict(data[list_test_idx])\n",
    "y_gt = np.array(groundtruth)[list_test_idx]\n",
    "\n",
    "score_test = accuracy_score(y_gt, y_pred)\n",
    "\n",
    "print('Accuracy on test set of the best model: ' + str(score_test))"
   ]
  },
  {
   "cell_type": "code",
   "execution_count": 13,
   "metadata": {},
   "outputs": [],
   "source": [
    "with open('/dlabdata1/youtube_large/olam/data/final_res/results/y_pred.pickle', 'wb') as f:\n",
    "    pickle.dump(y_pred, f)\n",
    "f.close()\n",
    "\n",
    "with open('/dlabdata1/youtube_large/olam/data/final_res/results/y_gt.pickle', 'wb') as f:\n",
    "    pickle.dump(y_gt, f)\n",
    "f.close()"
   ]
  },
  {
   "cell_type": "code",
   "execution_count": 14,
   "metadata": {
    "scrolled": false
   },
   "outputs": [
    {
     "name": "stdout",
     "output_type": "stream",
     "text": [
      "                       precision    recall  f1-score   support\n",
      "\n",
      "                           0.000     0.000     0.000        55\n",
      "     Autos & Vehicles      0.580     0.749     0.654    121091\n",
      "               Comedy      0.136     0.016     0.028     75185\n",
      "            Education      0.507     0.273     0.355    163608\n",
      "        Entertainment      0.544     0.427     0.478    798876\n",
      "     Film & Animation      0.046     0.007     0.012    148580\n",
      "               Gaming      0.580     0.943     0.718    891742\n",
      "        Howto & Style      0.545     0.531     0.538    235698\n",
      "                Music      0.568     0.782     0.658    441745\n",
      "      News & Politics      0.563     0.769     0.650    227835\n",
      "Nonprofits & Activism      0.017     0.001     0.001     20805\n",
      "       People & Blogs      0.358     0.050     0.088    323900\n",
      "       Pets & Animals      0.455     0.107     0.173     26306\n",
      " Science & Technology      0.569     0.382     0.457    129460\n",
      "                Shows      0.000     0.000     0.000         3\n",
      "               Sports      0.568     0.551     0.559    228081\n",
      "      Travel & Events      0.244     0.049     0.082     41064\n",
      "\n",
      "             accuracy                          0.558   3874034\n",
      "            macro avg      0.369     0.332     0.321   3874034\n",
      "         weighted avg      0.509     0.558     0.504   3874034\n",
      "\n"
     ]
    }
   ],
   "source": [
    "# Print the precision and recall, among other metrics\n",
    "print(classification_report(y_gt, y_pred, digits=3))"
   ]
  },
  {
   "cell_type": "code",
   "execution_count": null,
   "metadata": {},
   "outputs": [],
   "source": []
  }
 ],
 "metadata": {
  "kernelspec": {
   "display_name": "Python 3",
   "language": "python",
   "name": "python3"
  },
  "language_info": {
   "codemirror_mode": {
    "name": "ipython",
    "version": 3
   },
   "file_extension": ".py",
   "mimetype": "text/x-python",
   "name": "python",
   "nbconvert_exporter": "python",
   "pygments_lexer": "ipython3",
   "version": "3.8.3"
  },
  "toc": {
   "base_numbering": 1,
   "nav_menu": {},
   "number_sections": true,
   "sideBar": true,
   "skip_h1_title": true,
   "title_cell": "Table of Contents",
   "title_sidebar": "Contents",
   "toc_cell": false,
   "toc_position": {
    "height": "465.8088073730469px",
    "left": "1108.0882568359375px",
    "top": "289.4668884277344px",
    "width": "245.27572631835938px"
   },
   "toc_section_display": true,
   "toc_window_display": true
  }
 },
 "nbformat": 4,
 "nbformat_minor": 4
}
