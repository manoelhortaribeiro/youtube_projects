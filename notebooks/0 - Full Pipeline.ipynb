{
 "cells": [
  {
   "cell_type": "markdown",
   "metadata": {},
   "source": [
    "# Characterising the evolution of the user interests on YT\n",
    "\n",
    "This notebook covers the whole pipeline of the project.\n",
    "\n",
    "Here is the table content of the principal tasks : \n",
    "- **Data Processing**\n",
    "- **Preparing Pyspark Model**\n",
    "- **Topic modelling**\n",
    "- **Results: Topic Coherence**\n",
    "- **Classifier**\n"
   ]
  },
  {
   "cell_type": "markdown",
   "metadata": {},
   "source": [
    "### 0.1 Imports"
   ]
  },
  {
   "cell_type": "code",
   "execution_count": 1,
   "metadata": {
    "scrolled": true
   },
   "outputs": [
    {
     "name": "stderr",
     "output_type": "stream",
     "text": [
      "[nltk_data] Downloading package stopwords to /home/olam/nltk_data...\n",
      "[nltk_data]   Package stopwords is already up-to-date!\n"
     ]
    },
    {
     "data": {
      "text/plain": [
       "True"
      ]
     },
     "execution_count": 1,
     "metadata": {},
     "output_type": "execute_result"
    }
   ],
   "source": [
    "import collections\n",
    "import fasttext\n",
    "import gzip\n",
    "import json\n",
    "import math\n",
    "import matplotlib\n",
    "import nltk\n",
    "import os\n",
    "import pickle\n",
    "import random\n",
    "import scipy.sparse\n",
    "import sys\n",
    "import time\n",
    "\n",
    "import matplotlib.pyplot as plt\n",
    "import numpy as np\n",
    "import pandas as pd\n",
    "import zstandard as zstd\n",
    "\n",
    "from collections import Counter\n",
    "from gensim.models.coherencemodel import CoherenceModel\n",
    "from joblib import dump, load\n",
    "from langdetect import detect\n",
    "from nltk.corpus import stopwords\n",
    "from nltk.stem import PorterStemmer\n",
    "from nltk.stem.snowball import SnowballStemmer\n",
    "from nltk.tokenize import RegexpTokenizer\n",
    "from pyspark import SparkContext, SparkConf\n",
    "from pyspark.sql import SparkSession\n",
    "from pyspark.sql.functions import col\n",
    "from pyspark.sql.types import LongType, StructField, StructType\n",
    "from pyspark.ml.clustering import LDA, LDAModel, LocalLDAModel\n",
    "from pyspark.ml.linalg import Vectors, SparseVector\n",
    "from scipy.sparse import dok_matrix\n",
    "from sklearn.linear_model import SGDClassifier\n",
    "from sklearn.metrics import accuracy_score, confusion_matrix, classification_report\n",
    "from sklearn.neural_network import MLPClassifier\n",
    "\n",
    "nltk.download('stopwords')"
   ]
  },
  {
   "cell_type": "markdown",
   "metadata": {},
   "source": [
    "## 1 Data Processing \n",
    "\n",
    "In this section, we will select the data for the topic modelling model as follow:\n",
    "\n",
    "- videos has at least 10'000 views\n",
    "- videos from channels with at least 100'000 subscribers\n",
    "\n",
    "For that, we proceed as follow :\n",
    "\n",
    "- first pass over the whole dataset in order to build the vocabulary and the keep the index of the relevant videos\n",
    "- second pass over the whole dataset to construct a NxM sparse matrix, where N is the number of videos and M is the number of words in the vocabulary"
   ]
  },
  {
   "cell_type": "code",
   "execution_count": 2,
   "metadata": {},
   "outputs": [],
   "source": [
    "# Use n_gram for topic modelling\n",
    "use_bigram = False\n",
    "\n",
    "if use_bigram:\n",
    "    path_data = '/dlabdata1/youtube_large/olam/data/with_ngram/'\n",
    "else:\n",
    "    path_data = '/dlabdata1/youtube_large/olam/data/final_res/'"
   ]
  },
  {
   "cell_type": "code",
   "execution_count": 3,
   "metadata": {},
   "outputs": [
    {
     "name": "stdout",
     "output_type": "stream",
     "text": [
      "There are 50456 relevant channels.\n"
     ]
    }
   ],
   "source": [
    "# GET THE LIST OF RELEVANT CHANNELS\n",
    "\n",
    "df_channelcrawler = pd.read_csv('/dlabdata1/youtube_large/channelcrawler.csv')\n",
    "\n",
    "df_channelcrawler['channel_id'] = df_channelcrawler['link'].apply(\n",
    "    lambda x: x.replace('http://www.youtube.com/channel/', ''))\n",
    "\n",
    "# Filter channels with at least 100'000 subs\n",
    "df_channelcrawler = df_channelcrawler[df_channelcrawler['subscribers'] >= 100000]\n",
    "\n",
    "# Store in a set since it will be faster to check if a channel is in channelcrawler\n",
    "set_relevant_channels = set(df_channelcrawler['channel_id'])\n",
    "\n",
    "print('There are ' + str(len(set_relevant_channels)) + ' relevant channels.')"
   ]
  },
  {
   "cell_type": "code",
   "execution_count": 3,
   "metadata": {},
   "outputs": [],
   "source": [
    "# Setting NLP pre-processing features\n",
    "stop_words = set(stopwords.words('english'))\n",
    "tokenizer = RegexpTokenizer(r'\\w+')\n",
    "s_stemmer = SnowballStemmer(language='english')"
   ]
  },
  {
   "cell_type": "code",
   "execution_count": 4,
   "metadata": {},
   "outputs": [],
   "source": [
    "def check_10000_views(video):\n",
    "    '''\n",
    "    Parameter\n",
    "    ----------\n",
    "    video : \n",
    "    \n",
    "    Returns\n",
    "    ----------\n",
    "    Boolean which is True if the video has more than 10'000 views\n",
    "    '''\n",
    "    try:\n",
    "        view_counts = video['view_count']\n",
    "        if view_counts != None:\n",
    "            return view_counts >= 10000\n",
    "        else:\n",
    "            return False\n",
    "    except KeyError:\n",
    "        return False"
   ]
  },
  {
   "cell_type": "code",
   "execution_count": 5,
   "metadata": {},
   "outputs": [],
   "source": [
    "def check_channel(video, set_relevant_channels):\n",
    "    '''\n",
    "    Parameter\n",
    "    ----------\n",
    "    video:\n",
    "    set_relevant_channels : set\n",
    "        Set of all the channels with more than 100'000 subscribers\n",
    "        \n",
    "    Returns\n",
    "    ----------\n",
    "    Boolean which is True if the video comes from a channel with more than 100'000 subscrbers\n",
    "    \n",
    "    '''\n",
    "    try:\n",
    "        return video['channel_id'] in set_relevant_channels\n",
    "    except:\n",
    "        return False"
   ]
  },
  {
   "cell_type": "code",
   "execution_count": 6,
   "metadata": {},
   "outputs": [],
   "source": [
    "def isEnglishAlpha(s):\n",
    "    '''\n",
    "    Parameter\n",
    "    ----------\n",
    "    s : string\n",
    "    \n",
    "    Returns\n",
    "    ----------\n",
    "    Boolean which is True if s is a string from the english alphabet\n",
    "    '''\n",
    "    try:\n",
    "        s.encode(encoding='utf-8').decode('ascii')\n",
    "    except UnicodeDecodeError:\n",
    "        return False\n",
    "    else:\n",
    "        return True"
   ]
  },
  {
   "cell_type": "code",
   "execution_count": 7,
   "metadata": {},
   "outputs": [],
   "source": [
    "def get_freq_tokens_per_video(video, use_bigram=False):\n",
    "    '''\n",
    "    Parameter\n",
    "    ----------\n",
    "    video :\n",
    "    use_bigram : boolean\n",
    "        if True, generate bi_grams \n",
    "    \n",
    "    Returns\n",
    "    ----------\n",
    "    \n",
    "    '''\n",
    "\n",
    "    title_tokens = [w for w in tokenizer.tokenize(\n",
    "        video['title'].lower()) if not w in stop_words]\n",
    "    tag_tokens = [w for w in tokenizer.tokenize(\n",
    "        video['tags'].lower()) if not w in stop_words]\n",
    "\n",
    "    # We want to keep duplicates !!\n",
    "    tokens_per_video = title_tokens + tag_tokens\n",
    "\n",
    "    # Filter token with length < 3, with non english alphabet since fastext is not 100% accurate and remove numerical token\n",
    "    tokens_keep = []\n",
    "    for token in tokens_per_video:\n",
    "        if len(token) >= 3 and (not token.isnumeric()) and isEnglishAlpha(token):\n",
    "            tokens_keep.append(token)\n",
    "\n",
    "    # Stemming\n",
    "    stemmed_tokens_per_video = [s_stemmer.stem(w) for w in tokens_keep]\n",
    "    \n",
    "    # Generate bigrams\n",
    "    if use_bigram:\n",
    "        stemmed_tokens_per_video.extend(nltk.bigrams(set(stemmed_tokens_per_video)))\n",
    "\n",
    "    # Return a Counter object of the tokens\n",
    "    return collections.Counter(stemmed_tokens_per_video)"
   ]
  },
  {
   "cell_type": "markdown",
   "metadata": {},
   "source": [
    "### 1.1 First pass \n",
    "The first pass on the dataset will allow us to recover relevant videos and list of tokens"
   ]
  },
  {
   "cell_type": "code",
   "execution_count": 9,
   "metadata": {
    "scrolled": true
   },
   "outputs": [
    {
     "name": "stdout",
     "output_type": "stream",
     "text": [
      "Processed 10000000 videos...\n",
      "Processed 20000000 videos...\n",
      "Processed 30000000 videos...\n",
      "Processed 40000000 videos...\n",
      "Processed 50000000 videos...\n",
      "Processed 60000000 videos...\n",
      "Processed 70000000 videos...\n"
     ]
    }
   ],
   "source": [
    "# Variable that contains the idx of every non english vid and that\n",
    "# belongs to a channel in channelcrawler.csv TO BE USED IN SECOND ITER\n",
    "set_relevant_vid = set()\n",
    "\n",
    "# Variable first instanciated as set to check existing tokens efficiently,\n",
    "# which will be a list in order to get the index for each tokens\n",
    "set_stemmed_tokens = set()\n",
    "\n",
    "i = 0\n",
    "\n",
    "for filepath in os.listdir('/dlabdata1/youtube_large/yt_metadata_en_dd/'):\n",
    "    \n",
    "    # Reading the file\n",
    "    with gzip.open('/dlabdata1/youtube_large/yt_metadata_en_dd/' + filepath, 'rb') as f:\n",
    "\n",
    "        for line in f:\n",
    "\n",
    "            # line is a byte dict, video is the corresponding dict\n",
    "            video = json.loads(line)\n",
    "                \n",
    "            if check_channel(video, set_relevant_channels) and check_10000_views(video):\n",
    "\n",
    "                tokens_per_video = get_freq_tokens_per_video(video, use_bigram)\n",
    "                \n",
    "\n",
    "                set_relevant_vid.add(i)\n",
    "                set_stemmed_tokens.update(tokens_per_video)\n",
    "\n",
    "            if i % 10000000 == 0 and i != 0:\n",
    "                print('Processed ' + str(i) + ' videos...')\n",
    "                \n",
    "            i += 1"
   ]
  },
  {
   "cell_type": "code",
   "execution_count": 10,
   "metadata": {},
   "outputs": [],
   "source": [
    "# save some intermediate results\n",
    "\n",
    "with open(path_data + 'set_relevant_vid.pickle', 'wb') as f:\n",
    "    pickle.dump(set_relevant_vid, f)\n",
    "f.close()\n",
    "\n",
    "with open(path_data + 'set_stemmed_tokens.pickle', 'wb') as f:\n",
    "    pickle.dump(set_stemmed_tokens, f)\n",
    "f.close()\n",
    "\n",
    "with open(path_data + 'set_relevant_channels.pickle', 'wb') as f:\n",
    "    pickle.dump(set_relevant_channels, f)\n",
    "f.close()"
   ]
  },
  {
   "cell_type": "markdown",
   "metadata": {},
   "source": [
    "### 1.2 Second pass \n",
    "The second pass on the dataset will allow us to create a NxM sparse matrix, where N is the number of videos and M is the number of words in the vocabulary\n",
    "\n",
    "Notes:\n",
    "- In order to keep the memory usage low, we will fill sparse matrix with only 1'000'000 rows and save them in the csr format\n",
    "- Stack the saved sparse matrix together to get the final sparse matrix"
   ]
  },
  {
   "cell_type": "code",
   "execution_count": 3,
   "metadata": {},
   "outputs": [],
   "source": [
    "# Load the intermediate results from 1.1\n",
    "\n",
    "with open(path_data + 'set_relevant_vid.pickle', 'rb') as f:\n",
    "    set_relevant_vid = pickle.load(f)\n",
    "f.close()\n",
    "\n",
    "with open(path_data + 'set_stemmed_tokens.pickle', 'rb') as f:\n",
    "    set_stemmed_tokens = pickle.load(f)\n",
    "f.close()\n",
    "\n",
    "with open(path_data + 'set_relevant_channels.pickle', 'rb') as f:\n",
    "    set_relevant_channels = pickle.load(f)\n",
    "f.close()"
   ]
  },
  {
   "cell_type": "code",
   "execution_count": 8,
   "metadata": {},
   "outputs": [],
   "source": [
    "def remove_zero_rows(M):\n",
    "    '''Function that removes all rows from sparse matrix M that contains only zero.'''\n",
    "    num_nonzeros = np.diff(M.indptr)\n",
    "    return M[num_nonzeros != 0]"
   ]
  },
  {
   "cell_type": "code",
   "execution_count": 9,
   "metadata": {},
   "outputs": [],
   "source": [
    "def fill_underlying_dict(freq_tokens_per_video, word2id, i_vid):\n",
    "    '''Method to fill the underlying dictionnary in order to \n",
    "    update the sparse matrix incrementally by videos'''\n",
    "\n",
    "    dict_freq_tokens_for_sparse_matrix = {}\n",
    "\n",
    "    for key in freq_tokens_per_video.keys():\n",
    "\n",
    "        # Column index in the sparse matrix (one column for each token)\n",
    "        try:\n",
    "            j_token = word2id[key]\n",
    "\n",
    "            # Filling the underlying dict\n",
    "            dict_freq_tokens_for_sparse_matrix[(\n",
    "                i_vid % 1000000,   j_token)] = freq_tokens_per_video[key]\n",
    "\n",
    "        except KeyError:\n",
    "            None\n",
    "\n",
    "    return dict_freq_tokens_for_sparse_matrix"
   ]
  },
  {
   "cell_type": "code",
   "execution_count": 6,
   "metadata": {},
   "outputs": [],
   "source": [
    "# Get dimension of sparse matrix\n",
    "size_of_tokens_dict = len(set_stemmed_tokens)\n",
    "number_of_vid = len(set_relevant_vid)\n",
    "\n",
    "# Create dictionnary of tokens with their indice\n",
    "word2id = {}\n",
    "\n",
    "# Fill dictionnary of tokens\n",
    "for i, token in enumerate(set_stemmed_tokens):\n",
    "    word2id[token] = i\n",
    "    \n",
    "id2word = {v: k for k, v in word2id.items()}\n",
    "\n",
    "# Create mini sparse matrix\n",
    "S = dok_matrix((1000000, size_of_tokens_dict), dtype=np.uint8)"
   ]
  },
  {
   "cell_type": "code",
   "execution_count": 14,
   "metadata": {
    "scrolled": true
   },
   "outputs": [
    {
     "name": "stdout",
     "output_type": "stream",
     "text": [
      "Processed 10000000 videos...\n",
      "Processed 20000000 videos...\n",
      "Processed 30000000 videos...\n",
      "Processed 40000000 videos...\n",
      "Processed 50000000 videos...\n",
      "Processed 60000000 videos...\n",
      "Processed 70000000 videos...\n"
     ]
    }
   ],
   "source": [
    "i_vid = 0\n",
    "i = 0\n",
    "\n",
    "for filepath in os.listdir('/dlabdata1/youtube_large/yt_metadata_en_dd/'):\n",
    "    \n",
    "    # Reading the file\n",
    "    with gzip.open('/dlabdata1/youtube_large/yt_metadata_en_dd/' + filepath, 'rb') as f:\n",
    "\n",
    "        for line in f:\n",
    "\n",
    "            if i_vid % 1000000 == 0 and i_vid != 0:\n",
    "\n",
    "                file_name = 'S' + str(int(i_vid/1000000)) + '.npz'\n",
    "\n",
    "                if not os.path.isfile(path_data + 'matrices/' + file_name):\n",
    "\n",
    "                    # Transform to csr format for memory efficiency\n",
    "                    S = S.tocsr()\n",
    "                    scipy.sparse.save_npz(path_data + 'matrices/' + file_name, S)\n",
    "\n",
    "                    # Refresh mini sparse matrix\n",
    "                    S = dok_matrix((1000000, size_of_tokens_dict), dtype=np.uint8)\n",
    "\n",
    "            if i in set_relevant_vid:\n",
    "\n",
    "                video = json.loads(line)\n",
    "\n",
    "                # Get the tokens for each video and theirs number of occurences\n",
    "                freq_tokens_per_video = get_freq_tokens_per_video(video, use_bigram)\n",
    "\n",
    "                # Fill the underlying dict\n",
    "                dict_freq_tokens_for_sparse_matrix = fill_underlying_dict(\n",
    "                    freq_tokens_per_video, word2id, i_vid)\n",
    "\n",
    "                # Fill data in to sparse matrix\n",
    "                dict.update(S, dict_freq_tokens_for_sparse_matrix)\n",
    "\n",
    "                # Increase i_vid\n",
    "                i_vid += 1\n",
    "\n",
    "            if i % 10000000 == 0 and i != 0:\n",
    "                print('Processed ' + str(i) + ' videos...')\n",
    "                \n",
    "            i += 1\n",
    "\n",
    "# Save last sparse matrix\n",
    "S = S.tocsr()\n",
    "scipy.sparse.save_npz(path_data + 'matrices/S_last.npz', S)"
   ]
  },
  {
   "cell_type": "code",
   "execution_count": 15,
   "metadata": {},
   "outputs": [],
   "source": [
    "# Get final sparse matrix\n",
    "S = scipy.sparse.load_npz(path_data + 'matrices/S1.npz')\n",
    "\n",
    "for i in range(2, 17):\n",
    "    S_next = scipy.sparse.load_npz(path_data + 'matrices/S' + str(i) + '.npz')\n",
    "    S = scipy.sparse.vstack([S, S_next])\n",
    "\n",
    "# Add last matrix\n",
    "S_last = scipy.sparse.load_npz(path_data + 'matrices/S_last.npz')\n",
    "S = scipy.sparse.vstack([S, S_last])"
   ]
  },
  {
   "cell_type": "code",
   "execution_count": 16,
   "metadata": {},
   "outputs": [],
   "source": [
    "# save the full matrix\n",
    "scipy.sparse.save_npz(path_data + 'matrices/S_full.npz', S)"
   ]
  },
  {
   "cell_type": "markdown",
   "metadata": {},
   "source": [
    "## 2 Process the data for Topic Modelling with PySpark\n",
    "\n",
    "First, for a better topic modelling model, we select the videos from the sparse matrix as follow:\n",
    "- we group the videos by their respective `channel_id`, `category` and `upload_date`\n",
    "- keep the 20 videos with the most `view_counts` from each group\n",
    "- keep tokens that appears in at least 100 videos\n",
    "\n",
    "Then, we should compute a spark dataframe from our final sparse matrix in order to compute the models on the hadoop cluster"
   ]
  },
  {
   "cell_type": "markdown",
   "metadata": {},
   "source": [
    "### 2.1 Filter the videos for topic modelling "
   ]
  },
  {
   "cell_type": "code",
   "execution_count": 28,
   "metadata": {
    "scrolled": true
   },
   "outputs": [
    {
     "name": "stdout",
     "output_type": "stream",
     "text": [
      "Progress: 1/7\n",
      "Progress: 2/7\n",
      "Progress: 3/7\n",
      "Progress: 4/7\n",
      "Progress: 5/7\n",
      "Progress: 6/7\n",
      "Progress: 7/7\n"
     ]
    }
   ],
   "source": [
    "# create pandas DataFrame of relevant videos with relevant features\n",
    "columns_names = ['channel_id',\n",
    "                 'view_counts', 'uploaded_year', 'category']\n",
    "\n",
    "# store relevant features of relevant videos in a list\n",
    "list_relevant_data = []\n",
    "\n",
    "i = 0\n",
    "\n",
    "for filepath in os.listdir('/dlabdata1/youtube_large/yt_metadata_en_dd/'):\n",
    "    \n",
    "    # Reading the file\n",
    "    with gzip.open('/dlabdata1/youtube_large/yt_metadata_en_dd/' + filepath, 'rb') as f:\n",
    "\n",
    "        for line in f:\n",
    "            if i % 10000000 == 0 and i != 0:\n",
    "                print('Progress: ' + str(int(i/10000000)) + '/7')\n",
    "\n",
    "            if i in set_relevant_vid:\n",
    "\n",
    "                # line is a str dict, video is the dict corresponding to the str dict\n",
    "                video = json.loads(line)\n",
    "\n",
    "                list_vid_relevant_features = [video['channel_id']]\n",
    "                list_vid_relevant_features.append(video['view_count'])\n",
    "                list_vid_relevant_features.append(video['upload_date'][:4])\n",
    "                list_vid_relevant_features.append(video['categories'])\n",
    "\n",
    "                list_relevant_data.append(list_vid_relevant_features)\n",
    "                \n",
    "            i += 1"
   ]
  },
  {
   "cell_type": "code",
   "execution_count": 29,
   "metadata": {},
   "outputs": [],
   "source": [
    "df_relevant_data = pd.DataFrame(list_relevant_data, columns=columns_names)\n",
    "df_relevant_data_top20 = df_relevant_data.sort_values(['view_counts'], ascending=False).groupby(\n",
    "    ['category', 'uploaded_year', 'channel_id']).head(20)\n",
    "\n",
    "set_relevant_vid_top20 = sorted(df_relevant_data_top20.index.values)"
   ]
  },
  {
   "cell_type": "code",
   "execution_count": 30,
   "metadata": {},
   "outputs": [],
   "source": [
    "# Save intermediate result\n",
    "with open(path_data + 'model/set_relevant_vid_top20.pickle', 'wb') as f:\n",
    "    pickle.dump(set_relevant_vid_top20, f)\n",
    "f.close()"
   ]
  },
  {
   "cell_type": "markdown",
   "metadata": {},
   "source": [
    "### 2.2 Keep only relevant tokens"
   ]
  },
  {
   "cell_type": "code",
   "execution_count": 18,
   "metadata": {},
   "outputs": [],
   "source": [
    "# Load intermediate data\n",
    "S = scipy.sparse.load_npz(path_data + 'matrices/S_full.npz')\n",
    "\n",
    "\n",
    "# Load set of videos in the top20 as processed abose\n",
    "with open(path_data + 'model/set_relevant_vid_top20.pickle', 'rb') as f:\n",
    "    set_relevant_vid_top20 = pickle.load(f)\n",
    "f.close()"
   ]
  },
  {
   "cell_type": "code",
   "execution_count": null,
   "metadata": {},
   "outputs": [],
   "source": [
    "S = S[set_relevant_vid_top20]\n",
    "\n",
    "# Convert matrix to csc for efficient computing\n",
    "S = S.tocsc()\n",
    "\n",
    "list_relevant_tokens = []\n",
    "\n",
    "# Iterate on the columns\n",
    "for i in range(S.shape[1]):\n",
    "\n",
    "    if i % 1000000 == 0:\n",
    "        print('Processed : ' + str(i) + ' tokens')\n",
    "\n",
    "    # Check column has more than 100 non zero entries\n",
    "    if S[:, i].count_nonzero() >= 100:\n",
    "        list_relevant_tokens.append(i)"
   ]
  },
  {
   "cell_type": "code",
   "execution_count": 20,
   "metadata": {},
   "outputs": [],
   "source": [
    "S = S[:, list_relevant_tokens].tocsr()\n",
    "S = remove_zero_rows(S)\n",
    "\n",
    "scipy.sparse.save_npz(path_data + 'matrices/S_final.npz', S)"
   ]
  },
  {
   "cell_type": "code",
   "execution_count": 21,
   "metadata": {},
   "outputs": [
    {
     "data": {
      "text/plain": [
       "(3892649, 97888)"
      ]
     },
     "execution_count": 21,
     "metadata": {},
     "output_type": "execute_result"
    }
   ],
   "source": [
    "S.shape"
   ]
  },
  {
   "cell_type": "markdown",
   "metadata": {},
   "source": [
    "### 2.3 Build a dictionnary id2word for final sparse matrix\n",
    "\n",
    "`id2word_top20` is a dictionnary that map each of the token id to the token itself only for relevant tokens for top20 data"
   ]
  },
  {
   "cell_type": "code",
   "execution_count": 22,
   "metadata": {},
   "outputs": [],
   "source": [
    "id2word_top20 = {}\n",
    "\n",
    "for i, id_token in enumerate(list_relevant_tokens):\n",
    "    id2word_top20[i] = id2word[id_token]"
   ]
  },
  {
   "cell_type": "code",
   "execution_count": 23,
   "metadata": {},
   "outputs": [],
   "source": [
    "# Save intermediate result\n",
    "with open(path_data + 'id2word_top20.pickle', 'wb') as f:\n",
    "    pickle.dump(id2word_top20, f)\n",
    "f.close()"
   ]
  },
  {
   "cell_type": "markdown",
   "metadata": {},
   "source": [
    "### 2.4 Get Spark dataframe to use the hadoop cluster to perform topic modelling"
   ]
  },
  {
   "cell_type": "code",
   "execution_count": 24,
   "metadata": {},
   "outputs": [],
   "source": [
    "conf = SparkConf().setMaster(\"local\").setAll(\n",
    "    [('spark.executor.memory', '4g'), ('spark.driver.memory', '16g'), ('spark.driver.maxResultSize', '0')])\n",
    "\n",
    "# create the session\n",
    "spark = SparkSession.builder.config(conf=conf).getOrCreate()"
   ]
  },
  {
   "cell_type": "code",
   "execution_count": 10,
   "metadata": {},
   "outputs": [],
   "source": [
    "def get_dict_for_row(row, S):\n",
    "    '''Construct SparseVector bag-of-word for each row (videos)'''\n",
    "    tmp_dict = {}\n",
    "    for key, value in row:\n",
    "        tmp_dict[key[1]] = value\n",
    "\n",
    "    return SparseVector(S.shape[1], tmp_dict)"
   ]
  },
  {
   "cell_type": "code",
   "execution_count": 26,
   "metadata": {},
   "outputs": [
    {
     "name": "stdout",
     "output_type": "stream",
     "text": [
      "Process video for topic modelling...\n",
      "0 videos processed...\n",
      "1000000 videos processed...\n",
      "2000000 videos processed...\n",
      "3000000 videos processed...\n"
     ]
    }
   ],
   "source": [
    "data = []\n",
    "\n",
    "print('Process video for topic modelling...')\n",
    "for i in range(S.shape[0]):\n",
    "\n",
    "    if i % 1000000 == 0:\n",
    "        print(str(i) + ' videos processed...')\n",
    "\n",
    "    data.append([i, get_dict_for_row(S.getrow(i).todok().items(), S)])\n",
    "\n",
    "\n",
    "# Construct dataframe for LDA\n",
    "all_df = spark.createDataFrame(data, [\"id\", \"features\"])"
   ]
  },
  {
   "cell_type": "code",
   "execution_count": 27,
   "metadata": {},
   "outputs": [],
   "source": [
    "# save the dataframe\n",
    "all_df.write.option('compression', 'gzip').json(path_data + 'model/sparkdf.json')"
   ]
  },
  {
   "cell_type": "markdown",
   "metadata": {},
   "source": [
    "## 3 Topic Modelling\n",
    "\n",
    "The python script for topic modelling can be found in the folder `script/yt_lda_tune.py`\n",
    "\n",
    "In order to run the script on the Hadoop server, the following need to be done:\n",
    "\n",
    "- copy the file in hdfs: `$ hdfs dfs -put /dlabdata1/youtube_large/olam/data/final_res/model/sparkdf.json /user/olam/final_res/`\n",
    "\n",
    "- on the Hadoop server, go to the script folder and launch the following command: `$ sspark-submit --master yarn --deploy-mode cluster --num-executors 47 --executor-cores 4 --driver-memory 64g --executor-memory 4g yt_lda_tune.py`\n",
    "\n",
    "- get the resulting files in hdfs: `$ hdfs dfs -get /user/olam/final_res/tune/ /dlabdata1/youtube_large/olam/data/final_res/model/tune/`"
   ]
  },
  {
   "cell_type": "markdown",
   "metadata": {},
   "source": [
    "## 4 Results: Topic Coherence\n",
    "\n",
    "In order to choose the number of topic for the final TP model (where TP model means Topic Modelling model), we will compute the coherence scores for each model trained, as described in Section 3.\n",
    "\n",
    "The coherence scores that are used are the following:\n",
    "- `c_v`: based on a sliding window, a one-set segmentation of the top words and an indirect confirmation measure that uses normalized pointwise mutual information (NPMI) and the cosinus similarity.\n",
    "- `u_mass`: based on document cooccurrence counts, a one-preceding segmentation and a logarithmic conditional probability as confirmation measure.\n",
    "\n",
    "As suggested in the litterature in http://svn.aksw.org/papers/2015/WSDM_Topic_Evaluation/public.pdf, the higher the 'c_v' score is the better the model is and the nearer the 'u_mass' score is to 0, the better the model is (the 'u_mass' score scales from -14 to 14 )\n",
    "\n"
   ]
  },
  {
   "cell_type": "code",
   "execution_count": 11,
   "metadata": {},
   "outputs": [],
   "source": [
    "class FakedGensimDict:\n",
    "    \"\"\"\n",
    "    Locally made class for `~gensim.corpora.dictionary.Dictionary`\n",
    "    \"\"\"\n",
    "\n",
    "    def __init__(self, data, S):\n",
    "        if not isinstance(data, dict):\n",
    "            raise ValueError('`data` must be an instance of `dict`')\n",
    "\n",
    "        self.id2token = data\n",
    "        self.token2id = {v: k for k, v in data.items()}\n",
    "        self.doc2bow = S\n",
    "\n",
    "    @staticmethod\n",
    "    def from_vocab(vocab):\n",
    "        return FakedGensimDict(dict(zip(range(len(vocab)), vocab)))"
   ]
  },
  {
   "cell_type": "markdown",
   "metadata": {},
   "source": [
    "### 4.1 Preparing the coherence model"
   ]
  },
  {
   "cell_type": "code",
   "execution_count": 12,
   "metadata": {},
   "outputs": [],
   "source": [
    "# Load the intermediate results\n",
    "\n",
    "S = scipy.sparse.load_npz(path_data + 'matrices/S_final.npz')\n",
    "\n",
    "with open(path_data + 'id2word_top20.pickle', 'rb') as f:\n",
    "    id2word = pickle.load(f)\n",
    "f.close()"
   ]
  },
  {
   "cell_type": "code",
   "execution_count": 13,
   "metadata": {},
   "outputs": [],
   "source": [
    "def get_texts(S, id2word):\n",
    "    ''''''\n",
    "    \n",
    "    texts = []\n",
    "\n",
    "    for i in range(S.shape[0]):\n",
    "        token_indices = list(S.getrow(i).nonzero()[1])\n",
    "        tokens = []\n",
    "\n",
    "        for token_indice in token_indices:\n",
    "            tokens.append(id2word[token_indice])\n",
    "        texts.append(tokens)\n",
    "        \n",
    "    return texts"
   ]
  },
  {
   "cell_type": "code",
   "execution_count": 14,
   "metadata": {},
   "outputs": [],
   "source": [
    "def get_corpus(S, n_batches=10):\n",
    "    ''''''\n",
    "    \n",
    "    corpus = []\n",
    "    batch_size = int(S.shape[0] / n_batches)\n",
    "\n",
    "\n",
    "    for k in range(n_batches - 1):\n",
    "\n",
    "        for row in S[k * batch_size: (k + 1) * batch_size].toarray():\n",
    "            bow = []\n",
    "            idx_nonzero = np.nonzero(row)[0]\n",
    "            for i in range(len(idx_nonzero)):\n",
    "                bow.append((idx_nonzero[i], row[idx_nonzero[i]]))\n",
    "            corpus.append(bow)\n",
    "\n",
    "    for row in S[(n_batches - 1) * batch_size:].toarray():\n",
    "        bow = []\n",
    "        idx_nonzero = np.nonzero(row)[0]\n",
    "        for i in range(len(idx_nonzero)):\n",
    "            bow.append((idx_nonzero[i], row[idx_nonzero[i]]))\n",
    "        corpus.append(bow)\n",
    "        \n",
    "    return corpus"
   ]
  },
  {
   "cell_type": "markdown",
   "metadata": {},
   "source": [
    "### 4.2 Get the coherence scores per number of topics"
   ]
  },
  {
   "cell_type": "code",
   "execution_count": 15,
   "metadata": {},
   "outputs": [],
   "source": [
    "conf = SparkConf().setMaster(\"local[8]\").setAll([('spark.executor.memory', '4g'),('spark.driver.memory','16g'),('spark.driver.maxResultSize', '0')])\n",
    "\n",
    "# create the session\n",
    "spark = SparkSession.builder.config(conf=conf).getOrCreate()"
   ]
  },
  {
   "cell_type": "code",
   "execution_count": 16,
   "metadata": {},
   "outputs": [],
   "source": [
    "def get_coherence_scores(min_ntopic, max_ntopic, use_bigram, texts, corpus, id2word):\n",
    "    \n",
    "    coherence_scores_cv = []\n",
    "    coherence_scores_umass = []\n",
    "    \n",
    "    n_topics_list = np.arange(min_ntopic, max_ntopic + 1, 5)\n",
    "    \n",
    "    for i, n_topics in enumerate(n_topics_list):\n",
    "\n",
    "        # print('Computing coherence score for model with ' +\n",
    "        #      str(n_topics) + ' topics...')\n",
    "\n",
    "        # Get describe_topics dataframe\n",
    "        filename = 'describe_topics_' + str(n_topics) + '.json'\n",
    "        \n",
    "        if use_bigram:\n",
    "            path_file = '/dlabdata1/youtube_large/olam/data/with_ngram/describe_topics/' + filename\n",
    "        else:\n",
    "            path_file = '/dlabdata1/youtube_large/olam/data/final_res/describe_topics/' + filename\n",
    "            \n",
    "        describe_topics = spark.read.json(path_file)\n",
    "        \n",
    "\n",
    "        # Characterize the topics with tokens\n",
    "        topics = []\n",
    "\n",
    "        for row in describe_topics.sort('topic').rdd.collect():\n",
    "            tokenized_topic = []\n",
    "            for j, token_id in enumerate(row.termIndices):\n",
    "                tokenized_topic.append(id2word[token_id])\n",
    "                if j > 10:\n",
    "                    break\n",
    "            topics.append(tokenized_topic)\n",
    "\n",
    "        # Compute c_v coherence score and append to coherence scores\n",
    "        coherence_model = CoherenceModel(topics=topics,\n",
    "                                         corpus=S,\n",
    "                                         dictionary=FakedGensimDict(\n",
    "                                             id2word, S),\n",
    "                                         texts=texts,\n",
    "                                         coherence='c_v')\n",
    "\n",
    "        # Compute u_mass coherence score and append to coherence scores\n",
    "        coherence_model_umass = CoherenceModel(topics=topics,\n",
    "                                               corpus=corpus,\n",
    "                                               dictionary=FakedGensimDict(\n",
    "                                                   id2word, S),\n",
    "                                               coherence='u_mass')\n",
    "\n",
    "        #print('Getting c_v coherence score...')\n",
    "        coherence_scores_cv.append(coherence_model.get_coherence())\n",
    "        #print('Getting u_mass coherence score...')\n",
    "        coherence_scores_umass.append(coherence_model_umass.get_coherence())\n",
    "        \n",
    "    return coherence_scores_cv, coherence_scores_umass, n_topics_list"
   ]
  },
  {
   "cell_type": "code",
   "execution_count": 17,
   "metadata": {},
   "outputs": [],
   "source": [
    "def coherence_plot(coherence_scores_cv, coherence_score_umass, n_topics_list):\n",
    "    '''Get the plot for coherence scores'''\n",
    "    \n",
    "    fig, ax = plt.subplots(figsize=(20, 10))\n",
    "\n",
    "    ax.set_title('Coherence score for a given number of topics', fontsize=24)\n",
    "    ax.set_xlabel('Number of Topics', fontsize=16)\n",
    "    ax.set_ylabel('Coherence Score c_v', fontsize=16)\n",
    "\n",
    "    ax.grid('on')\n",
    "\n",
    "    ax.plot(coherence_scores_cv, label='c_v coherence score', linewidth=3)\n",
    "\n",
    "    ax2 = ax.twinx()\n",
    "    ax2.set_ylabel('Coherence Score u_mass', fontsize=16)\n",
    "    ax2.plot(coherence_score_umass, label='u_mass coherence score', linewidth=3, color='orange')\n",
    "\n",
    "    ax.legend(fontsize=16)\n",
    "    ax2.legend(loc='upper right', bbox_to_anchor=(1, 0.93), fontsize=16)\n",
    "\n",
    "    plt.xticks(np.arange(len(n_topics_list)), n_topics_list)"
   ]
  },
  {
   "cell_type": "code",
   "execution_count": 18,
   "metadata": {},
   "outputs": [],
   "source": [
    "texts = get_texts(S, id2word)\n",
    "corpus = get_corpus(S)"
   ]
  },
  {
   "cell_type": "code",
   "execution_count": 19,
   "metadata": {},
   "outputs": [],
   "source": [
    "# Save intermediate results\n",
    "\n",
    "with open(path_data + 'texts.pickle', 'wb') as f:\n",
    "    pickle.dump(texts, f)\n",
    "f.close()\n",
    "\n",
    "with open(path_data + 'corpus.pickle', 'wb') as f:\n",
    "    pickle.dump(corpus, f)\n",
    "f.close()"
   ]
  },
  {
   "cell_type": "code",
   "execution_count": null,
   "metadata": {},
   "outputs": [],
   "source": [
    "# Load intermediate results\n",
    "\n",
    "with open(path_data + 'texts.pickle', 'rb') as f:\n",
    "    texts = pickle.load(f)\n",
    "f.close\n",
    "\n",
    "with open(path_data + 'corpus.pickle', 'rb') as f:\n",
    "    corpus = pickle.load(f)\n",
    "f.close()"
   ]
  },
  {
   "cell_type": "code",
   "execution_count": 24,
   "metadata": {},
   "outputs": [
    {
     "name": "stderr",
     "output_type": "stream",
     "text": [
      "ERROR:root:Exception while sending command.\n",
      "Traceback (most recent call last):\n",
      "  File \"/home/olam/anaconda3/lib/python3.8/site-packages/py4j/java_gateway.py\", line 1207, in send_command\n",
      "    raise Py4JNetworkError(\"Answer from Java side is empty\")\n",
      "py4j.protocol.Py4JNetworkError: Answer from Java side is empty\n",
      "\n",
      "During handling of the above exception, another exception occurred:\n",
      "\n",
      "Traceback (most recent call last):\n",
      "  File \"/home/olam/anaconda3/lib/python3.8/site-packages/py4j/java_gateway.py\", line 1033, in send_command\n",
      "    response = connection.send_command(command)\n",
      "  File \"/home/olam/anaconda3/lib/python3.8/site-packages/py4j/java_gateway.py\", line 1211, in send_command\n",
      "    raise Py4JNetworkError(\n",
      "py4j.protocol.Py4JNetworkError: Error while receiving\n"
     ]
    },
    {
     "ename": "Py4JError",
     "evalue": "An error occurred while calling o29.read",
     "output_type": "error",
     "traceback": [
      "\u001b[0;31m---------------------------------------------------------------------------\u001b[0m",
      "\u001b[0;31mPy4JError\u001b[0m                                 Traceback (most recent call last)",
      "\u001b[0;32m<ipython-input-24-bd9d313ee065>\u001b[0m in \u001b[0;36m<module>\u001b[0;34m\u001b[0m\n\u001b[1;32m      1\u001b[0m \u001b[0;31m# Get coherence scores with the plot\u001b[0m\u001b[0;34m\u001b[0m\u001b[0;34m\u001b[0m\u001b[0;34m\u001b[0m\u001b[0m\n\u001b[1;32m      2\u001b[0m \u001b[0;34m\u001b[0m\u001b[0m\n\u001b[0;32m----> 3\u001b[0;31m coherence_scores_cv, coherence_score_umass, n_topics_list = get_coherence_scores(\n\u001b[0m\u001b[1;32m      4\u001b[0m     5, 150, use_bigram, texts, corpus, id2word)\n\u001b[1;32m      5\u001b[0m \u001b[0;34m\u001b[0m\u001b[0m\n",
      "\u001b[0;32m<ipython-input-16-2e276b533256>\u001b[0m in \u001b[0;36mget_coherence_scores\u001b[0;34m(min_ntopic, max_ntopic, use_bigram, texts, corpus, id2word)\u001b[0m\n\u001b[1;32m     19\u001b[0m             \u001b[0mpath_file\u001b[0m \u001b[0;34m=\u001b[0m \u001b[0;34m'/dlabdata1/youtube_large/olam/data/final_res/describe_topics/'\u001b[0m \u001b[0;34m+\u001b[0m \u001b[0mfilename\u001b[0m\u001b[0;34m\u001b[0m\u001b[0;34m\u001b[0m\u001b[0m\n\u001b[1;32m     20\u001b[0m \u001b[0;34m\u001b[0m\u001b[0m\n\u001b[0;32m---> 21\u001b[0;31m         \u001b[0mdescribe_topics\u001b[0m \u001b[0;34m=\u001b[0m \u001b[0mspark\u001b[0m\u001b[0;34m.\u001b[0m\u001b[0mread\u001b[0m\u001b[0;34m.\u001b[0m\u001b[0mjson\u001b[0m\u001b[0;34m(\u001b[0m\u001b[0mpath_file\u001b[0m\u001b[0;34m)\u001b[0m\u001b[0;34m\u001b[0m\u001b[0;34m\u001b[0m\u001b[0m\n\u001b[0m\u001b[1;32m     22\u001b[0m \u001b[0;34m\u001b[0m\u001b[0m\n\u001b[1;32m     23\u001b[0m \u001b[0;34m\u001b[0m\u001b[0m\n",
      "\u001b[0;32m~/anaconda3/lib/python3.8/site-packages/pyspark/sql/session.py\u001b[0m in \u001b[0;36mread\u001b[0;34m(self)\u001b[0m\n\u001b[1;32m    671\u001b[0m         \u001b[0;34m:\u001b[0m\u001b[0;32mreturn\u001b[0m\u001b[0;34m:\u001b[0m \u001b[0;34m:\u001b[0m\u001b[0;32mclass\u001b[0m\u001b[0;34m:\u001b[0m\u001b[0;31m`\u001b[0m\u001b[0mDataFrameReader\u001b[0m\u001b[0;31m`\u001b[0m\u001b[0;34m\u001b[0m\u001b[0;34m\u001b[0m\u001b[0m\n\u001b[1;32m    672\u001b[0m         \"\"\"\n\u001b[0;32m--> 673\u001b[0;31m         \u001b[0;32mreturn\u001b[0m \u001b[0mDataFrameReader\u001b[0m\u001b[0;34m(\u001b[0m\u001b[0mself\u001b[0m\u001b[0;34m.\u001b[0m\u001b[0m_wrapped\u001b[0m\u001b[0;34m)\u001b[0m\u001b[0;34m\u001b[0m\u001b[0;34m\u001b[0m\u001b[0m\n\u001b[0m\u001b[1;32m    674\u001b[0m \u001b[0;34m\u001b[0m\u001b[0m\n\u001b[1;32m    675\u001b[0m     \u001b[0;34m@\u001b[0m\u001b[0mproperty\u001b[0m\u001b[0;34m\u001b[0m\u001b[0;34m\u001b[0m\u001b[0m\n",
      "\u001b[0;32m~/anaconda3/lib/python3.8/site-packages/pyspark/sql/readwriter.py\u001b[0m in \u001b[0;36m__init__\u001b[0;34m(self, spark)\u001b[0m\n\u001b[1;32m     56\u001b[0m \u001b[0;34m\u001b[0m\u001b[0m\n\u001b[1;32m     57\u001b[0m     \u001b[0;32mdef\u001b[0m \u001b[0m__init__\u001b[0m\u001b[0;34m(\u001b[0m\u001b[0mself\u001b[0m\u001b[0;34m,\u001b[0m \u001b[0mspark\u001b[0m\u001b[0;34m)\u001b[0m\u001b[0;34m:\u001b[0m\u001b[0;34m\u001b[0m\u001b[0;34m\u001b[0m\u001b[0m\n\u001b[0;32m---> 58\u001b[0;31m         \u001b[0mself\u001b[0m\u001b[0;34m.\u001b[0m\u001b[0m_jreader\u001b[0m \u001b[0;34m=\u001b[0m \u001b[0mspark\u001b[0m\u001b[0;34m.\u001b[0m\u001b[0m_ssql_ctx\u001b[0m\u001b[0;34m.\u001b[0m\u001b[0mread\u001b[0m\u001b[0;34m(\u001b[0m\u001b[0;34m)\u001b[0m\u001b[0;34m\u001b[0m\u001b[0;34m\u001b[0m\u001b[0m\n\u001b[0m\u001b[1;32m     59\u001b[0m         \u001b[0mself\u001b[0m\u001b[0;34m.\u001b[0m\u001b[0m_spark\u001b[0m \u001b[0;34m=\u001b[0m \u001b[0mspark\u001b[0m\u001b[0;34m\u001b[0m\u001b[0;34m\u001b[0m\u001b[0m\n\u001b[1;32m     60\u001b[0m \u001b[0;34m\u001b[0m\u001b[0m\n",
      "\u001b[0;32m~/anaconda3/lib/python3.8/site-packages/py4j/java_gateway.py\u001b[0m in \u001b[0;36m__call__\u001b[0;34m(self, *args)\u001b[0m\n\u001b[1;32m   1302\u001b[0m \u001b[0;34m\u001b[0m\u001b[0m\n\u001b[1;32m   1303\u001b[0m         \u001b[0manswer\u001b[0m \u001b[0;34m=\u001b[0m \u001b[0mself\u001b[0m\u001b[0;34m.\u001b[0m\u001b[0mgateway_client\u001b[0m\u001b[0;34m.\u001b[0m\u001b[0msend_command\u001b[0m\u001b[0;34m(\u001b[0m\u001b[0mcommand\u001b[0m\u001b[0;34m)\u001b[0m\u001b[0;34m\u001b[0m\u001b[0;34m\u001b[0m\u001b[0m\n\u001b[0;32m-> 1304\u001b[0;31m         return_value = get_return_value(\n\u001b[0m\u001b[1;32m   1305\u001b[0m             answer, self.gateway_client, self.target_id, self.name)\n\u001b[1;32m   1306\u001b[0m \u001b[0;34m\u001b[0m\u001b[0m\n",
      "\u001b[0;32m~/anaconda3/lib/python3.8/site-packages/pyspark/sql/utils.py\u001b[0m in \u001b[0;36mdeco\u001b[0;34m(*a, **kw)\u001b[0m\n\u001b[1;32m    126\u001b[0m     \u001b[0;32mdef\u001b[0m \u001b[0mdeco\u001b[0m\u001b[0;34m(\u001b[0m\u001b[0;34m*\u001b[0m\u001b[0ma\u001b[0m\u001b[0;34m,\u001b[0m \u001b[0;34m**\u001b[0m\u001b[0mkw\u001b[0m\u001b[0;34m)\u001b[0m\u001b[0;34m:\u001b[0m\u001b[0;34m\u001b[0m\u001b[0;34m\u001b[0m\u001b[0m\n\u001b[1;32m    127\u001b[0m         \u001b[0;32mtry\u001b[0m\u001b[0;34m:\u001b[0m\u001b[0;34m\u001b[0m\u001b[0;34m\u001b[0m\u001b[0m\n\u001b[0;32m--> 128\u001b[0;31m             \u001b[0;32mreturn\u001b[0m \u001b[0mf\u001b[0m\u001b[0;34m(\u001b[0m\u001b[0;34m*\u001b[0m\u001b[0ma\u001b[0m\u001b[0;34m,\u001b[0m \u001b[0;34m**\u001b[0m\u001b[0mkw\u001b[0m\u001b[0;34m)\u001b[0m\u001b[0;34m\u001b[0m\u001b[0;34m\u001b[0m\u001b[0m\n\u001b[0m\u001b[1;32m    129\u001b[0m         \u001b[0;32mexcept\u001b[0m \u001b[0mpy4j\u001b[0m\u001b[0;34m.\u001b[0m\u001b[0mprotocol\u001b[0m\u001b[0;34m.\u001b[0m\u001b[0mPy4JJavaError\u001b[0m \u001b[0;32mas\u001b[0m \u001b[0me\u001b[0m\u001b[0;34m:\u001b[0m\u001b[0;34m\u001b[0m\u001b[0;34m\u001b[0m\u001b[0m\n\u001b[1;32m    130\u001b[0m             \u001b[0mconverted\u001b[0m \u001b[0;34m=\u001b[0m \u001b[0mconvert_exception\u001b[0m\u001b[0;34m(\u001b[0m\u001b[0me\u001b[0m\u001b[0;34m.\u001b[0m\u001b[0mjava_exception\u001b[0m\u001b[0;34m)\u001b[0m\u001b[0;34m\u001b[0m\u001b[0;34m\u001b[0m\u001b[0m\n",
      "\u001b[0;32m~/anaconda3/lib/python3.8/site-packages/py4j/protocol.py\u001b[0m in \u001b[0;36mget_return_value\u001b[0;34m(answer, gateway_client, target_id, name)\u001b[0m\n\u001b[1;32m    332\u001b[0m                     format(target_id, \".\", name, value))\n\u001b[1;32m    333\u001b[0m         \u001b[0;32melse\u001b[0m\u001b[0;34m:\u001b[0m\u001b[0;34m\u001b[0m\u001b[0;34m\u001b[0m\u001b[0m\n\u001b[0;32m--> 334\u001b[0;31m             raise Py4JError(\n\u001b[0m\u001b[1;32m    335\u001b[0m                 \u001b[0;34m\"An error occurred while calling {0}{1}{2}\"\u001b[0m\u001b[0;34m.\u001b[0m\u001b[0;34m\u001b[0m\u001b[0;34m\u001b[0m\u001b[0m\n\u001b[1;32m    336\u001b[0m                 format(target_id, \".\", name))\n",
      "\u001b[0;31mPy4JError\u001b[0m: An error occurred while calling o29.read"
     ]
    }
   ],
   "source": [
    "# Get coherence scores with the plot\n",
    "\n",
    "coherence_scores_cv, coherence_score_umass, n_topics_list = get_coherence_scores(\n",
    "    5, 150, use_bigram, texts, corpus, id2word)\n",
    "\n",
    "coherence_plot(coherence_scores_cv, coherence_score_umass, n_topics_list)"
   ]
  },
  {
   "cell_type": "code",
   "execution_count": 61,
   "metadata": {},
   "outputs": [],
   "source": [
    "fig.savefig('/home/olam/coherence_scores_newdata')"
   ]
  },
  {
   "cell_type": "code",
   "execution_count": 30,
   "metadata": {},
   "outputs": [
    {
     "data": {
      "image/png": "[encoded data removed]",
      "text/plain": [
       "<Figure size 1440x720 with 2 Axes>"
      ]
     },
     "metadata": {
      "needs_background": "light"
     },
     "output_type": "display_data"
    }
   ],
   "source": [
    "coherence_scores_cv, coherence_score_umass, n_topics_list = get_coherence_scores(\n",
    "    50, 70, use_bigram, texts, corpus, id2word)\n",
    "\n",
    "coherence_plot(coherence_scores_cv, coherence_score_umass, n_topics_list)"
   ]
  },
  {
   "cell_type": "markdown",
   "metadata": {},
   "source": [
    "### 4.3 Get the coherence scores per docConcentration and topicConcentration"
   ]
  },
  {
   "cell_type": "code",
   "execution_count": null,
   "metadata": {},
   "outputs": [],
   "source": [
    "def get_coherence_scores_tune(n_topic, alphas, betas, texts, corpus):\n",
    "    \n",
    "    c_v_scores = {}\n",
    "    u_mass_scores = {}\n",
    "    \n",
    "    for alpha in alphas:\n",
    "        for beta in betas:\n",
    "\n",
    "            filename = '/dlabdata1/youtube_large/olam/data/final_res/describe_topics/tune/describe_topics_ntopics55_alpha' + \\\n",
    "                str(alpha) + '_beta' + str(beta) + '.json'\n",
    "\n",
    "            # Get the describe_topics dataframe\n",
    "            describe_topics = spark.read.json(filename)\n",
    "\n",
    "            # Characterize the topics with tokens\n",
    "            topics = []\n",
    "\n",
    "            for row in describe_topics.sort('topic').rdd.collect():\n",
    "                tokenized_topic = []\n",
    "                for j, token_id in enumerate(row.termIndices):\n",
    "                    tokenized_topic.append(id2word_top20[token_id])\n",
    "                    if j > 10:\n",
    "                        break\n",
    "                topics.append(tokenized_topic)\n",
    "\n",
    "            # Compute c_v coherence score and append to coherence scores\n",
    "            coherence_model = CoherenceModel(topics=topics,\n",
    "                                             corpus=corpus,\n",
    "                                             dictionary=FakedGensimDict(\n",
    "                                                 id2word_top20, S),\n",
    "                                             texts=texts,\n",
    "                                             coherence='c_v')\n",
    "\n",
    "            # Compute u_mass coherence score and append to coherence scores\n",
    "            coherence_model_umass = CoherenceModel(topics=topics,\n",
    "                                                   corpus=corpus,\n",
    "                                                   dictionary=FakedGensimDict(\n",
    "                                                       id2word_top20, S),\n",
    "                                                   coherence='u_mass')\n",
    "\n",
    "            c_v_scores[(alpha, beta)] = coherence_model.get_coherence()\n",
    "\n",
    "            u_mass_scores[(alpha, beta)] = coherence_model_umass.get_coherence()\n",
    "            \n",
    "    return c_v_scores, u_mass_scores"
   ]
  },
  {
   "cell_type": "code",
   "execution_count": null,
   "metadata": {},
   "outputs": [],
   "source": [
    "def dict2array(dict_):\n",
    "    array = []\n",
    "    key_prev = None\n",
    "    array_sub = []\n",
    "    for key, val in dict_.items():\n",
    "        if key[0] != key_prev:\n",
    "            key_prev = key[0]\n",
    "            if array_sub != []:\n",
    "                array.append(array_sub)\n",
    "            array_sub = [val]\n",
    "        else:\n",
    "            array_sub.append(val)\n",
    "    \n",
    "    array.append(array_sub)\n",
    "            \n",
    "    return np.array(array)"
   ]
  },
  {
   "cell_type": "code",
   "execution_count": null,
   "metadata": {},
   "outputs": [],
   "source": [
    "def heatmap(data, row_labels, col_labels, ax=None,\n",
    "            cbar_kw={}, cbarlabel=\"\", **kwargs):\n",
    "    \"\"\"\n",
    "    Create a heatmap from a numpy array and two lists of labels.\n",
    "\n",
    "    Parameters\n",
    "    ----------\n",
    "    data\n",
    "        A 2D numpy array of shape (N, M).\n",
    "    row_labels\n",
    "        A list or array of length N with the labels for the rows.\n",
    "    col_labels\n",
    "        A list or array of length M with the labels for the columns.\n",
    "    ax\n",
    "        A `matplotlib.axes.Axes` instance to which the heatmap is plotted.  If\n",
    "        not provided, use current axes or create a new one.  Optional.\n",
    "    cbar_kw\n",
    "        A dictionary with arguments to `matplotlib.Figure.colorbar`.  Optional.\n",
    "    cbarlabel\n",
    "        The label for the colorbar.  Optional.\n",
    "    **kwargs\n",
    "        All other arguments are forwarded to `imshow`.\n",
    "    \"\"\"\n",
    "\n",
    "    if not ax:\n",
    "        ax = plt.gca()\n",
    "\n",
    "    # Plot the heatmap\n",
    "    im = ax.imshow(data, **kwargs)\n",
    "\n",
    "    # Create colorbar\n",
    "    cbar = ax.figure.colorbar(im, ax=ax, **cbar_kw)\n",
    "    cbar.ax.set_ylabel(cbarlabel, rotation=-90, va=\"bottom\", fontsize=14)\n",
    "\n",
    "    # We want to show all ticks...\n",
    "    ax.set_xticks(np.arange(data.shape[1]))\n",
    "    ax.set_yticks(np.arange(data.shape[0]))\n",
    "    # ... and label them with the respective list entries.\n",
    "    ax.set_xticklabels(col_labels)\n",
    "    ax.set_yticklabels(row_labels)\n",
    "\n",
    "    # Let the horizontal axes labeling appear on bottom.\n",
    "    ax.tick_params(top=False, bottom=True,\n",
    "                   labeltop=False, labelbottom=True)\n",
    "\n",
    "\n",
    "    # Turn spines off and create white grid.\n",
    "    for edge, spine in ax.spines.items():\n",
    "        spine.set_visible(False)\n",
    "\n",
    "    ax.set_xticks(np.arange(data.shape[1]+1)-.5, minor=True)\n",
    "    ax.set_yticks(np.arange(data.shape[0]+1)-.5, minor=True)\n",
    "    ax.grid(which=\"minor\", color=\"w\", linestyle='-', linewidth=3)\n",
    "    ax.tick_params(which=\"minor\", bottom=False, left=False)\n",
    "\n",
    "    return im, cbar\n",
    "\n",
    "\n",
    "def annotate_heatmap(im, data=None, valfmt=\"{x:.3f}\",\n",
    "                     textcolors=[\"black\", \"white\"],\n",
    "                     threshold=None, **textkw):\n",
    "    \"\"\"\n",
    "    A function to annotate a heatmap.\n",
    "\n",
    "    Parameters\n",
    "    ----------\n",
    "    im\n",
    "        The AxesImage to be labeled.\n",
    "    data\n",
    "        Data used to annotate.  If None, the image's data is used.  Optional.\n",
    "    valfmt\n",
    "        The format of the annotations inside the heatmap.  This should either\n",
    "        use the string format method, e.g. \"$ {x:.2f}\", or be a\n",
    "        `matplotlib.ticker.Formatter`.  Optional.\n",
    "    textcolors\n",
    "        A list or array of two color specifications.  The first is used for\n",
    "        values below a threshold, the second for those above.  Optional.\n",
    "    threshold\n",
    "        Value in data units according to which the colors from textcolors are\n",
    "        applied.  If None (the default) uses the middle of the colormap as\n",
    "        separation.  Optional.\n",
    "    **kwargs\n",
    "        All other arguments are forwarded to each call to `text` used to create\n",
    "        the text labels.\n",
    "    \"\"\"\n",
    "\n",
    "    if not isinstance(data, (list, np.ndarray)):\n",
    "        data = im.get_array()\n",
    "\n",
    "    # Normalize the threshold to the images color range.\n",
    "    if threshold is not None:\n",
    "        threshold = im.norm(threshold)\n",
    "    else:\n",
    "        threshold = im.norm(data.max())/2.\n",
    "\n",
    "    # Set default alignment to center, but allow it to be\n",
    "    # overwritten by textkw.\n",
    "    kw = dict(horizontalalignment=\"center\",\n",
    "              verticalalignment=\"center\")\n",
    "    kw.update(textkw)\n",
    "\n",
    "    # Get the formatter in case a string is supplied\n",
    "    if isinstance(valfmt, str):\n",
    "        valfmt = matplotlib.ticker.StrMethodFormatter(valfmt)\n",
    "\n",
    "    # Loop over the data and create a `Text` for each \"pixel\".\n",
    "    # Change the text's color depending on the data.\n",
    "    texts = []\n",
    "    for i in range(data.shape[0]):\n",
    "        for j in range(data.shape[1]):\n",
    "            kw.update(color=textcolors[int(im.norm(data[i, j]) > threshold)])\n",
    "            text = im.axes.text(j, i, valfmt(data[i, j], None), **kw)\n",
    "            texts.append(text)\n",
    "\n",
    "    return texts\n"
   ]
  },
  {
   "cell_type": "code",
   "execution_count": null,
   "metadata": {},
   "outputs": [],
   "source": [
    "def coherence_plot_tune(c_v_scores, u_mass_scores, alphas, betas):\n",
    "    fig, (ax1, ax2) = plt.subplots(ncols=2, figsize=(14, 6))\n",
    "    \n",
    "    ax1.set_title('C_V coherence score with 55 topics', fontsize=20, pad=20)\n",
    "    ax1.set_xlabel('Document Concentration', fontsize=14)\n",
    "    ax1.set_ylabel('Topic Concentration', fontsize=14)\n",
    "\n",
    "    im, cbar = heatmap(c_v_scores, alphas, betas, ax=ax1,\n",
    "                       cmap=\"YlGn\", cbarlabel=\"Coherence Score\")\n",
    "    texts = annotate_heatmap(im, valfmt=\"{x:.3f} t\")\n",
    "    \n",
    "    ax2.set_title('U_mass coherence score with 55 topics', fontsize=20, pad=20)\n",
    "    ax2.set_xlabel('Document Concentration', fontsize=14)\n",
    "    ax2.set_ylabel('Topic Concentration', fontsize=14)\n",
    "\n",
    "    im2, cbar2 = heatmap(u_mass_scores, alphas, betas, ax=ax2,\n",
    "                       cmap=\"YlGn\", cbarlabel=\"Coherence Score\")\n",
    "    texts = annotate_heatmap(im2, valfmt=\"{x:.3f} t\")\n",
    "    \n",
    "    plt.show()"
   ]
  },
  {
   "cell_type": "code",
   "execution_count": null,
   "metadata": {},
   "outputs": [],
   "source": [
    "alphas = [0.1, 0.5, 0.9, 0.95, 1]\n",
    "betas = [0.01, 0.05, 0.1, 0.5]"
   ]
  },
  {
   "cell_type": "code",
   "execution_count": null,
   "metadata": {},
   "outputs": [],
   "source": [
    "c_v_scores_55, u_mass_scores_55 = get_coherence_scores_tune(55, alphas, betas, texts, corpus)\n",
    "coherence_plot_tune(c_v_scores_55, u_mass_scores_55, alphas, betas)"
   ]
  },
  {
   "cell_type": "code",
   "execution_count": null,
   "metadata": {},
   "outputs": [],
   "source": [
    "c_v_scores_110, u_mass_scores_110 = get_coherence_scores_tune(110, alphas, betas, texts, corpus)\n",
    "coherence_plot_tune(c_v_scores_110, u_mass_scores_110, alphas, betas)"
   ]
  },
  {
   "cell_type": "code",
   "execution_count": 91,
   "metadata": {},
   "outputs": [
    {
     "data": {
      "image/png": "[encoded data removed]",
      "text/plain": [
       "<Figure size 432x432 with 2 Axes>"
      ]
     },
     "metadata": {
      "needs_background": "light"
     },
     "output_type": "display_data"
    }
   ],
   "source": [
    "fig, ax = plt.subplots(figsize=(6, 6))\n",
    "\n",
    "ax.set_title('C_V coherence score with 55 topics', fontsize=20, pad=20)\n",
    "ax.set_xlabel('Document Concentration', fontsize=14)\n",
    "ax.set_ylabel('Topic Concentration', fontsize=14)\n",
    "\n",
    "im, cbar = heatmap(dict2array(c_v_scores), alphas, betas, ax=ax,\n",
    "                   cmap=\"YlGn\", cbarlabel=\"Coherence Score\")\n",
    "texts = annotate_heatmap(im, valfmt=\"{x:.3f} t\")\n",
    "\n",
    "fig.tight_layout()\n",
    "plt.show()\n"
   ]
  },
  {
   "cell_type": "code",
   "execution_count": 92,
   "metadata": {
    "scrolled": false
   },
   "outputs": [
    {
     "data": {
      "image/png": "[encoded data removed]",
      "text/plain": [
       "<Figure size 432x432 with 2 Axes>"
      ]
     },
     "metadata": {
      "needs_background": "light"
     },
     "output_type": "display_data"
    }
   ],
   "source": [
    "fig, ax = plt.subplots(figsize=(6, 6))\n",
    "\n",
    "ax.set_title('U_Mass coherence score with 55 topics', fontsize=20, pad=20)\n",
    "ax.set_xlabel('Document Concentration', fontsize=14)\n",
    "ax.set_ylabel('Topic Concentration', fontsize=14)\n",
    "\n",
    "im, cbar = heatmap(dict2array(u_mass_scores), alphas, betas, ax=ax,\n",
    "                   cmap=\"YlGn\", cbarlabel=\"Coherence Score\")\n",
    "texts = annotate_heatmap(im, valfmt=\"{x:.3f} t\")\n",
    "\n",
    "fig.tight_layout()\n",
    "plt.show()\n",
    "\n"
   ]
  },
  {
   "cell_type": "code",
   "execution_count": 8,
   "metadata": {},
   "outputs": [],
   "source": [
    "# Same with k=110 topics\n",
    "\n",
    "alphas = [0.1, 0.5, 0.9, 0.95, 1]\n",
    "betas = [0.01, 0.05, 0.1, 0.5]\n",
    "\n",
    "c_v_scores = {}\n",
    "u_mass_scores = {}\n",
    "\n",
    "for alpha in alphas:\n",
    "    for beta in betas:\n",
    "\n",
    "        filename = '/dlabdata1/youtube_large/olam/data/final_res/describe_topics/tune/describe_topics_ntopics110_alpha' + \\\n",
    "            str(alpha) + '_beta' + str(beta) + '.json'\n",
    "\n",
    "        # Get the describe_topics dataframe\n",
    "        describe_topics = spark.read.json(filename)\n",
    "\n",
    "        # Characterize the topics with tokens\n",
    "        topics = []\n",
    "\n",
    "        for row in describe_topics.sort('topic').rdd.collect():\n",
    "            tokenized_topic = []\n",
    "            for j, token_id in enumerate(row.termIndices):\n",
    "                tokenized_topic.append(id2word_top20[token_id])\n",
    "                if j > 10:\n",
    "                    break\n",
    "            topics.append(tokenized_topic)\n",
    "\n",
    "        # Compute c_v coherence score and append to coherence scores\n",
    "        coherence_model = CoherenceModel(topics=topics,\n",
    "                                         corpus=corpus,\n",
    "                                         dictionary=FakedGensimDict(\n",
    "                                             id2word_top20, S),\n",
    "                                         texts=texts,\n",
    "                                         coherence='c_v')\n",
    "\n",
    "        # Compute u_mass coherence score and append to coherence scores\n",
    "        coherence_model_umass = CoherenceModel(topics=topics,\n",
    "                                               corpus=corpus,\n",
    "                                               dictionary=FakedGensimDict(\n",
    "                                                   id2word_top20, S),\n",
    "                                               coherence='u_mass')\n",
    "\n",
    "        c_v_scores[(alpha, beta)] = coherence_model.get_coherence()\n",
    "\n",
    "        u_mass_scores[(alpha, beta)] = coherence_model_umass.get_coherence()"
   ]
  },
  {
   "cell_type": "code",
   "execution_count": 16,
   "metadata": {},
   "outputs": [
    {
     "data": {
      "image/png": "[encoded data removed]",
      "text/plain": [
       "<Figure size 432x432 with 2 Axes>"
      ]
     },
     "metadata": {
      "needs_background": "light"
     },
     "output_type": "display_data"
    }
   ],
   "source": [
    "fig, ax = plt.subplots(figsize=(6, 6))\n",
    "\n",
    "ax.set_title('C_V coherence score with 110 topics', fontsize=20, pad=20)\n",
    "ax.set_xlabel('Document Concentration', fontsize=14)\n",
    "ax.set_ylabel('Topic Concentration', fontsize=14)\n",
    "\n",
    "im, cbar = heatmap(dict2array(c_v_scores), alphas, betas, ax=ax,\n",
    "                   cmap=\"YlGn\", cbarlabel=\"Coherence Score\")\n",
    "texts = annotate_heatmap(im, valfmt=\"{x:.3f} t\")\n",
    "\n",
    "fig.tight_layout()\n",
    "plt.show()\n",
    "\n"
   ]
  },
  {
   "cell_type": "code",
   "execution_count": 17,
   "metadata": {},
   "outputs": [
    {
     "data": {
      "image/png": "[encoded data removed]",
      "text/plain": [
       "<Figure size 432x432 with 2 Axes>"
      ]
     },
     "metadata": {
      "needs_background": "light"
     },
     "output_type": "display_data"
    }
   ],
   "source": [
    "fig, ax = plt.subplots(figsize=(6, 6))\n",
    "\n",
    "ax.set_title('U_Mass coherence score with 110 topics', fontsize=20, pad=20)\n",
    "ax.set_xlabel('Document Concentration', fontsize=14)\n",
    "ax.set_ylabel('Topic Concentration', fontsize=14)\n",
    "\n",
    "im, cbar = heatmap(dict2array(u_mass_scores), alphas, betas, ax=ax,\n",
    "                   cmap=\"YlGn\", cbarlabel=\"Coherence Score\")\n",
    "texts = annotate_heatmap(im, valfmt=\"{x:.3f} t\")\n",
    "\n",
    "fig.tight_layout()\n",
    "plt.show()"
   ]
  },
  {
   "cell_type": "markdown",
   "metadata": {},
   "source": [
    "## 5 Classifier\n",
    "\n",
    "#TODO describe the utility of this section"
   ]
  },
  {
   "cell_type": "markdown",
   "metadata": {},
   "source": [
    "### 5.1 Filter the data for classification\n",
    "\n",
    "As we have filtered a specific data in the topic modelling task, we will do the same here. We do not select the data that has been used for topic modelling but we still want to use relevant data. For this, we keep only the videos with more than 10'000 views. \n",
    "\n",
    "We will not be able to use the already computed variable as `set_relevant_vid.pickle` or `set_relevant_vid_top20.pickle` since the index are defined for videos with more than 10'000 views from channels with more than 100'000 subs. In this case, we don't want the second condition, we just need the channel to be in the set of the crawled channels.\n",
    "\n",
    "Finally, we will perform undersampling in order to have a balanced dataset over the categories. Plus, we will have much less data to handle, so computing the classifier for a specific clustering model will be fast. Remind that the classifier is a way to measure the topic modelling performance. "
   ]
  },
  {
   "cell_type": "markdown",
   "metadata": {},
   "source": [
    "#### 5.1.1 Get the data of the relevant videos for the classifier"
   ]
  },
  {
   "cell_type": "code",
   "execution_count": 9,
   "metadata": {},
   "outputs": [
    {
     "name": "stdout",
     "output_type": "stream",
     "text": [
      "There are 164648 relevant channels.\n"
     ]
    }
   ],
   "source": [
    "# GET THE LIST OF RELEVANT CHANNELS\n",
    "\n",
    "df_channelcrawler = pd.read_csv('/dlabdata1/youtube_large/channelcrawler.csv')\n",
    "\n",
    "df_channelcrawler['channel_id'] = df_channelcrawler['link'].apply(\n",
    "    lambda x: x.replace('http://www.youtube.com/channel/', ''))\n",
    "\n",
    "# Store in a set since it will be faster to check if a channel is in channelcrawler\n",
    "set_relevant_channels_classifier = set(df_channelcrawler['channel_id'])\n",
    "\n",
    "print('There are ' + str(len(set_relevant_channels_classifier)) + ' relevant channels.')"
   ]
  },
  {
   "cell_type": "code",
   "execution_count": 10,
   "metadata": {},
   "outputs": [
    {
     "name": "stdout",
     "output_type": "stream",
     "text": [
      "Processed 10000000 videos...\n",
      "Processed 20000000 videos...\n",
      "Processed 30000000 videos...\n",
      "Processed 40000000 videos...\n",
      "Processed 50000000 videos...\n",
      "Processed 60000000 videos...\n",
      "Processed 70000000 videos...\n"
     ]
    }
   ],
   "source": [
    "### Get the relevant features of the relevant videos\n",
    "\n",
    "array_relevant_features = []\n",
    "\n",
    "array_idx_relevant_vid = []\n",
    "\n",
    "i = 0\n",
    "\n",
    "for filepath in os.listdir('/dlabdata1/youtube_large/yt_metadata_en_dd/'):\n",
    "\n",
    "    # Reading the file\n",
    "    with gzip.open('/dlabdata1/youtube_large/yt_metadata_en_dd/' + filepath, 'rb') as f:\n",
    "\n",
    "        for line in f:\n",
    "\n",
    "            # line is a byte dict, video is the corresponding dict\n",
    "            video = json.loads(line)\n",
    "\n",
    "            if check_channel(video, set_relevant_channels_classifier) and check_10000_views(video):\n",
    "                \n",
    "                array_idx_relevant_vid.append(i)\n",
    "                \n",
    "                array_vid_relevant_features = [video['channel_id']]\n",
    "                array_vid_relevant_features.append(video['view_count'])\n",
    "                array_vid_relevant_features.append(video['upload_date'][:4])\n",
    "                array_vid_relevant_features.append(video['categories'])\n",
    "        \n",
    "                array_relevant_features.append(array_vid_relevant_features)\n",
    "\n",
    "            if i % 10000000 == 0 and i != 0:\n",
    "                print('Processed ' + str(i) + ' videos...')\n",
    "\n",
    "            i += 1"
   ]
  },
  {
   "cell_type": "code",
   "execution_count": 11,
   "metadata": {},
   "outputs": [
    {
     "name": "stdout",
     "output_type": "stream",
     "text": [
      "Shape of the DataFrame: (23306713, 4)\n"
     ]
    }
   ],
   "source": [
    "# Get the dataframe of all the videos that we will consider\n",
    "\n",
    "column_names = ['channel_id', 'view_counts', 'uploaded_year', 'category']\n",
    "\n",
    "df = pd.DataFrame(array_relevant_features, columns=column_names)\n",
    "\n",
    "print('Shape of the DataFrame: ' + str(df.shape))"
   ]
  },
  {
   "cell_type": "markdown",
   "metadata": {},
   "source": [
    "#### 5.1.2 Remove the videos that have been used for the TP model "
   ]
  },
  {
   "cell_type": "code",
   "execution_count": 12,
   "metadata": {},
   "outputs": [],
   "source": [
    "# Load set of channels with more than 100'000 subs\n",
    "with open('/dlabdata1/youtube_large/olam/data/final_res/set_relevant_channels.pickle', 'rb') as f:\n",
    "    set_relevant_channels = pickle.load(f)\n",
    "f.close()"
   ]
  },
  {
   "cell_type": "code",
   "execution_count": 13,
   "metadata": {},
   "outputs": [
    {
     "data": {
      "text/html": [
       "<div>\n",
       "<style scoped>\n",
       "    .dataframe tbody tr th:only-of-type {\n",
       "        vertical-align: middle;\n",
       "    }\n",
       "\n",
       "    .dataframe tbody tr th {\n",
       "        vertical-align: top;\n",
       "    }\n",
       "\n",
       "    .dataframe thead th {\n",
       "        text-align: right;\n",
       "    }\n",
       "</style>\n",
       "<table border=\"1\" class=\"dataframe\">\n",
       "  <thead>\n",
       "    <tr style=\"text-align: right;\">\n",
       "      <th></th>\n",
       "      <th>channel_id</th>\n",
       "      <th>view_counts</th>\n",
       "      <th>uploaded_year</th>\n",
       "      <th>category</th>\n",
       "    </tr>\n",
       "  </thead>\n",
       "  <tbody>\n",
       "    <tr>\n",
       "      <th>14967815</th>\n",
       "      <td>UCLp8RBhQHu9wSsq62j_Md6A</td>\n",
       "      <td>6.509934e+09</td>\n",
       "      <td>2017</td>\n",
       "      <td>Music</td>\n",
       "    </tr>\n",
       "    <tr>\n",
       "      <th>22890520</th>\n",
       "      <td>UC0C-w0YjGpqDXGB8IHb662A</td>\n",
       "      <td>4.468090e+09</td>\n",
       "      <td>2017</td>\n",
       "      <td>Music</td>\n",
       "    </tr>\n",
       "    <tr>\n",
       "      <th>11402670</th>\n",
       "      <td>UCVp3nfGRxmMadNDuVbJSk8A</td>\n",
       "      <td>4.295905e+09</td>\n",
       "      <td>2015</td>\n",
       "      <td>Music</td>\n",
       "    </tr>\n",
       "    <tr>\n",
       "      <th>8576308</th>\n",
       "      <td>UCcdwLMPsaU2ezNSJU1nFoBQ</td>\n",
       "      <td>3.838039e+09</td>\n",
       "      <td>2016</td>\n",
       "      <td>Education</td>\n",
       "    </tr>\n",
       "    <tr>\n",
       "      <th>5001984</th>\n",
       "      <td>UCmfFGTSsfJVu6CGvL8r75qg</td>\n",
       "      <td>3.709533e+09</td>\n",
       "      <td>2014</td>\n",
       "      <td>Music</td>\n",
       "    </tr>\n",
       "  </tbody>\n",
       "</table>\n",
       "</div>"
      ],
      "text/plain": [
       "                        channel_id   view_counts uploaded_year   category\n",
       "14967815  UCLp8RBhQHu9wSsq62j_Md6A  6.509934e+09          2017      Music\n",
       "22890520  UC0C-w0YjGpqDXGB8IHb662A  4.468090e+09          2017      Music\n",
       "11402670  UCVp3nfGRxmMadNDuVbJSk8A  4.295905e+09          2015      Music\n",
       "8576308   UCcdwLMPsaU2ezNSJU1nFoBQ  3.838039e+09          2016  Education\n",
       "5001984   UCmfFGTSsfJVu6CGvL8r75qg  3.709533e+09          2014      Music"
      ]
     },
     "execution_count": 13,
     "metadata": {},
     "output_type": "execute_result"
    }
   ],
   "source": [
    "df_sub100000 = df[df['channel_id'].isin(set_relevant_channels)]\n",
    "df_top20 = df_sub100000.sort_values(['view_counts'], ascending=False).groupby(['category', 'uploaded_year', 'channel_id']).head(20)\n",
    "index_to_remove = set(df_top20.index)\n",
    "df_top20.head()"
   ]
  },
  {
   "cell_type": "code",
   "execution_count": 14,
   "metadata": {},
   "outputs": [],
   "source": [
    "set_relevant_vid_classifier = set()\n",
    "\n",
    "for index in df.index:\n",
    "    if index not in index_to_remove:\n",
    "        set_relevant_vid_classifier.add(index)"
   ]
  },
  {
   "cell_type": "markdown",
   "metadata": {},
   "source": [
    "#### 5.1.3 Get balanced data"
   ]
  },
  {
   "cell_type": "code",
   "execution_count": 23,
   "metadata": {},
   "outputs": [],
   "source": [
    "df_relevant_vid_classifier = df.iloc[list(set_relevant_vid_classifier)]"
   ]
  },
  {
   "cell_type": "code",
   "execution_count": 31,
   "metadata": {},
   "outputs": [
    {
     "data": {
      "text/plain": [
       "52"
      ]
     },
     "execution_count": 31,
     "metadata": {},
     "output_type": "execute_result"
    }
   ],
   "source": [
    "df_relevant_vid_classifier.index[0]"
   ]
  },
  {
   "cell_type": "code",
   "execution_count": 26,
   "metadata": {},
   "outputs": [
    {
     "data": {
      "text/plain": [
       "52            Entertainment\n",
       "53            Entertainment\n",
       "54            Entertainment\n",
       "55            Entertainment\n",
       "56            Entertainment\n",
       "                 ...       \n",
       "23306708    Travel & Events\n",
       "23306709    Travel & Events\n",
       "23306710    Travel & Events\n",
       "23306711    Travel & Events\n",
       "23306712    Travel & Events\n",
       "Name: category, Length: 19407399, dtype: object"
      ]
     },
     "execution_count": 26,
     "metadata": {},
     "output_type": "execute_result"
    }
   ],
   "source": [
    "df_relevant_vid_classifier['category']"
   ]
  },
  {
   "cell_type": "code",
   "execution_count": 32,
   "metadata": {},
   "outputs": [],
   "source": [
    "category2idx = {}\n",
    "\n",
    "for index, elem in zip(df_relevant_vid_classifier.index, df_relevant_vid_classifier['category']):\n",
    "    if elem in category2idx.keys():\n",
    "        category2idx[elem].append(index)\n",
    "    else:\n",
    "        category2idx[elem] = [index]"
   ]
  },
  {
   "cell_type": "code",
   "execution_count": 40,
   "metadata": {},
   "outputs": [],
   "source": [
    "# Find the category with the lowest number of videos and keep this number\n",
    "\n",
    "min_n_videos = math.inf\n",
    "\n",
    "for key, value in category2idx.items():\n",
    "    if key != '' and key != 'Shows':\n",
    "        min_n_videos = min(min_n_videos, len(value))\n",
    "        \n",
    "category2idx_rand_undersampl = {}\n",
    "\n",
    "\n",
    "# Randomly select min_n_videos indexes of each video's category \n",
    "\n",
    "for key, value in category2idx.items():\n",
    "    category2idx_rand_undersampl[key] = random.choices(value, k=int(min_n_videos/10))\n",
    "    \n",
    "# Create our final array of index\n",
    "\n",
    "index = []\n",
    "for key, value in category2idx_rand_undersampl.items():\n",
    "    if key != '' and key != 'Shows':\n",
    "        index.extend(value)"
   ]
  },
  {
   "cell_type": "code",
   "execution_count": 44,
   "metadata": {},
   "outputs": [],
   "source": [
    "with open('/dlabdata1/youtube_large/olam/data/final_res/set_relevant_vid_classifier.pickle', 'wb') as f:\n",
    "    pickle.dump(set(index), f)\n",
    "f.close()"
   ]
  },
  {
   "cell_type": "markdown",
   "metadata": {},
   "source": [
    "### 5.2 Process the data\n",
    "\n",
    "The data input for the classifier is a vector of the distribution over the topics for each video. We will proceed with the following steps:\n",
    "\n",
    "- Process the data so that this data can be the input of our TM model.\n",
    "- Get the distribution over the topics vector for each video with the best TM model\n",
    "- Get the groundtruth category of the considered videos\n",
    "- Get the index for training data, validation data and testing data\n",
    "\n",
    "**Notes**\n",
    "\n",
    "`set_relevant_vid_classifier` is the set of index of the desired videos from the DataFrame with the relevant features\n",
    "\n",
    "`index_dat` is the set of index of the desired videos from the file of all videos"
   ]
  },
  {
   "cell_type": "markdown",
   "metadata": {},
   "source": [
    "#### 5.2.1 Get the BoW vector for each video corresponding to the vocabulary of the TM model"
   ]
  },
  {
   "cell_type": "code",
   "execution_count": 12,
   "metadata": {},
   "outputs": [],
   "source": [
    "# Load dictionnary of words\n",
    "with open('/dlabdata1/youtube_large/olam/data/final_res/id2word_top20.pickle', 'rb') as f:\n",
    "    id2word = pickle.load(f)\n",
    "f.close()\n",
    "\n",
    "# Load index of data for classifier\n",
    "with open('/dlabdata1/youtube_large/olam/data/final_res/set_relevant_vid_classifier.pickle', 'rb') as f:\n",
    "    set_relevant_vid_classifier = pickle.load(f)\n",
    "f.close()"
   ]
  },
  {
   "cell_type": "code",
   "execution_count": 17,
   "metadata": {},
   "outputs": [],
   "source": [
    "# Get the vocabulary of the TM model\n",
    "vocab = list(id2word.values())\n",
    "\n",
    "# we need word2id in order to be able to match the token to its index in the vocabulary\n",
    "word2id = {v: k for k, v in id2word.items()}\n",
    "\n",
    "\n",
    "# Now we can compute the index of the videos we need for the classifier from the data of all videos\n",
    "# array_relevant_vid_classifier.sort()\n",
    "\n",
    "# index_data = set([array_relevant_vid_classifier[i] for i in set_relevant_vid_classifier])"
   ]
  },
  {
   "cell_type": "code",
   "execution_count": 48,
   "metadata": {},
   "outputs": [],
   "source": [
    "# Save intermediate result\n",
    "with open('/dlabdata1/youtube_large/olam/data/final_res/index_data.pickle', 'wb') as f:\n",
    "    pickle.dump(index_data, f)\n",
    "f.close()"
   ]
  },
  {
   "cell_type": "code",
   "execution_count": 9,
   "metadata": {},
   "outputs": [],
   "source": [
    "# Load intermediate result\n",
    "with open('/dlabdata1/youtube_large/olam/data/final_res/index_data.pickle', 'rb') as f:\n",
    "    index_data = pickle.load(f)\n",
    "f.close()"
   ]
  },
  {
   "cell_type": "code",
   "execution_count": 50,
   "metadata": {},
   "outputs": [
    {
     "name": "stdout",
     "output_type": "stream",
     "text": [
      "Processed 0 videos...\n",
      "Processed 10000000 videos...\n",
      "Processed 20000000 videos...\n",
      "Processed 30000000 videos...\n",
      "Processed 40000000 videos...\n",
      "Processed 50000000 videos...\n",
      "Processed 60000000 videos...\n",
      "Processed 70000000 videos...\n"
     ]
    }
   ],
   "source": [
    "data = dok_matrix((len(index_data), len(vocab)), dtype=np.uint8)\n",
    "groundtruth = []\n",
    "\n",
    "i_vid = 0\n",
    "i = 0\n",
    "\n",
    "for filepath in os.listdir('/dlabdata1/youtube_large/yt_metadata_en_dd/'):\n",
    "    \n",
    "    # Reading the file\n",
    "    with gzip.open('/dlabdata1/youtube_large/yt_metadata_en_dd/' + filepath, 'rb') as f:\n",
    "\n",
    "        for line in f:\n",
    "\n",
    "            if i % 10000000 == 0:\n",
    "                print('Processed ' + str(i) + ' videos...')\n",
    "\n",
    "            if i in index_data:\n",
    "\n",
    "                # line is a str dict, video is the dict corresponding to the str dict\n",
    "                video = json.loads(line)\n",
    "\n",
    "                # Get the tokens for each video and theirs number of occurences\n",
    "                freq_tokens_per_video = get_freq_tokens_per_video(video)\n",
    "\n",
    "                # For each video, create a underlying dictionnary for filling the sparse matrix efficiently\n",
    "                dict_freq_tokens_for_sparse_matrix = fill_underlying_dict(\n",
    "                    freq_tokens_per_video, word2id, i_vid)\n",
    "\n",
    "                # Need to check that the video contains token from the reduced vocabulary\n",
    "                if dict_freq_tokens_for_sparse_matrix != {}:\n",
    "\n",
    "                    # Update the Sparse Matrix\n",
    "                    dict.update(data, dict_freq_tokens_for_sparse_matrix)\n",
    "                    i_vid += 1\n",
    "\n",
    "                    # Get groundtruth values\n",
    "                    groundtruth.append(video['categories'])\n",
    "                    \n",
    "            i += 1\n",
    "\n",
    "# Save last sparse matrix\n",
    "data = data.tocsr()\n",
    "data = remove_zero_rows(data)\n",
    "scipy.sparse.save_npz(\n",
    "    '/dlabdata1/youtube_large/olam/data/final_res/matrices/data_balanced.npz', data)"
   ]
  },
  {
   "cell_type": "code",
   "execution_count": 53,
   "metadata": {},
   "outputs": [],
   "source": [
    "# Save the corresponding groundtruths\n",
    "with open('/dlabdata1/youtube_large/olam/data/final_res/groundtruth_balanced.pickle', 'wb') as f:\n",
    "    pickle.dump(groundtruth, f)\n",
    "f.close()"
   ]
  },
  {
   "cell_type": "code",
   "execution_count": 2,
   "metadata": {},
   "outputs": [],
   "source": [
    "data = scipy.sparse.load_npz('/dlabdata1/youtube_large/olam/data/final_res/matrices/data_balanced.npz')"
   ]
  },
  {
   "cell_type": "markdown",
   "metadata": {},
   "source": [
    "#### 5.2.2 Transform the BoW vectors to the format for applying to the PySpark TM model"
   ]
  },
  {
   "cell_type": "code",
   "execution_count": 5,
   "metadata": {},
   "outputs": [
    {
     "name": "stdout",
     "output_type": "stream",
     "text": [
      "Process video for topic modelling...\n",
      "0 videos processed...\n"
     ]
    }
   ],
   "source": [
    "# process for pyspark\n",
    "\n",
    "data_spark = []\n",
    "\n",
    "print('Process video for topic modelling...')\n",
    "for i in range(data.shape[0]):\n",
    "\n",
    "    if i % 5000000 == 0:\n",
    "        print(str(i) + ' videos processed...')\n",
    "\n",
    "    data_spark.append([i, get_dict_for_row(data.getrow(i).todok().items(), data)])"
   ]
  },
  {
   "cell_type": "code",
   "execution_count": 6,
   "metadata": {},
   "outputs": [],
   "source": [
    "conf = SparkConf().setMaster(\"local[4]\").setAll(\n",
    "    [('spark.executor.memory', '8g'), ('spark.driver.memory', '64g'), ('spark.driver.maxResultSize', '0')])\n",
    "\n",
    "# create the session\n",
    "spark = SparkSession.builder.appName(\n",
    "    \"LDA_topicmodelling\").config(conf=conf).getOrCreate()"
   ]
  },
  {
   "cell_type": "code",
   "execution_count": 7,
   "metadata": {},
   "outputs": [],
   "source": [
    "df = spark.createDataFrame(data_spark, [\"id\", \"features\"])"
   ]
  },
  {
   "cell_type": "markdown",
   "metadata": {},
   "source": [
    "#### 5.2.3 Get the distribution over the topics for each video"
   ]
  },
  {
   "cell_type": "code",
   "execution_count": null,
   "metadata": {},
   "outputs": [],
   "source": [
    "describe_topics = spark.read.json('/dlabdata1/youtube_large/olam/data/final_res/model/describe_topics/describe_topics_90.json')\n",
    "\n",
    "# Print topics\n",
    "for row in describe_topics.sort('topic').rdd.collect():\n",
    "    print('Topic ' + str(row.topic) + ': ')\n",
    "    term_weights = row.termWeights\n",
    "    for i, token_id in enumerate(row.termIndices):\n",
    "        print('   With weight of ' + str(term_weights[i]) + ' : ' + id2word[token_id] )\n",
    "        if i >= 10:\n",
    "            break"
   ]
  },
  {
   "cell_type": "code",
   "execution_count": null,
   "metadata": {},
   "outputs": [],
   "source": [
    "describe_topics = spark.read.json('/dlabdata1/youtube_large/olam/data/final_res/model/describe_topics/describe_topics_110.json')\n",
    "\n",
    "# Print topics\n",
    "for row in describe_topics.sort('topic').rdd.collect():\n",
    "    print('Topic ' + str(row.topic) + ': ')\n",
    "    term_weights = row.termWeights\n",
    "    for i, token_id in enumerate(row.termIndices):\n",
    "        print('   With weight of ' + str(term_weights[i]) + ' : ' + id2word[token_id] )\n",
    "        if i >= 10:\n",
    "            break"
   ]
  },
  {
   "cell_type": "code",
   "execution_count": 65,
   "metadata": {},
   "outputs": [],
   "source": [
    "n_topics = np.arange(5, 151, 5)"
   ]
  },
  {
   "cell_type": "code",
   "execution_count": 68,
   "metadata": {},
   "outputs": [
    {
     "name": "stdout",
     "output_type": "stream",
     "text": [
      "Get balanced data for model with 5 topics...\n",
      "Get balanced data for model with 10 topics...\n",
      "Get balanced data for model with 15 topics...\n",
      "Get balanced data for model with 20 topics...\n",
      "Get balanced data for model with 25 topics...\n",
      "Get balanced data for model with 30 topics...\n",
      "Get balanced data for model with 35 topics...\n",
      "Get balanced data for model with 40 topics...\n",
      "Get balanced data for model with 45 topics...\n",
      "Get balanced data for model with 50 topics...\n",
      "Get balanced data for model with 55 topics...\n",
      "Get balanced data for model with 60 topics...\n",
      "Get balanced data for model with 65 topics...\n",
      "Get balanced data for model with 70 topics...\n",
      "Get balanced data for model with 75 topics...\n",
      "Get balanced data for model with 80 topics...\n",
      "Get balanced data for model with 85 topics...\n",
      "Get balanced data for model with 90 topics...\n",
      "Get balanced data for model with 95 topics...\n",
      "Get balanced data for model with 100 topics...\n",
      "Get balanced data for model with 105 topics...\n",
      "Get balanced data for model with 110 topics...\n",
      "Get balanced data for model with 115 topics...\n",
      "Get balanced data for model with 120 topics...\n",
      "Get balanced data for model with 125 topics...\n",
      "Get balanced data for model with 130 topics...\n",
      "Get balanced data for model with 135 topics...\n",
      "Get balanced data for model with 140 topics...\n",
      "Get balanced data for model with 145 topics...\n",
      "Get balanced data for model with 150 topics...\n"
     ]
    }
   ],
   "source": [
    "for n_topic in n_topics:\n",
    "    \n",
    "    print('Get balanced data for model with ' + str(n_topic) + ' topics...')\n",
    "    path_model = '/dlabdata1/youtube_large/olam/data/final_res/models/model_' + \\\n",
    "        str(n_topic)\n",
    "\n",
    "    model = LocalLDAModel.load(path_model)\n",
    "    transformed_data = model.transform(df)\n",
    "\n",
    "    S = dok_matrix((len(index_data), len(vocab)))\n",
    "\n",
    "    for i, topic_dist_one_vid in enumerate(transformed_data.select('topicDistribution').collect()):\n",
    "\n",
    "        dict_topic_dist_one_vid = {}\n",
    "\n",
    "        for j, prob in enumerate(topic_dist_one_vid['topicDistribution']):\n",
    "\n",
    "            dict_topic_dist_one_vid[(i, j)] = prob\n",
    "\n",
    "        # Fill data in to sparse matrix\n",
    "        dict.update(S, dict_topic_dist_one_vid)\n",
    "\n",
    "    path_transformed_data_balanced = '/dlabdata1/youtube_large/olam/data/final_res/matrices/transformed_data_balanced_' + \\\n",
    "        str(n_topic) + '.npz'\n",
    "    scipy.sparse.save_npz(path_transformed_data_balanced, S.tocsr())"
   ]
  },
  {
   "cell_type": "code",
   "execution_count": 71,
   "metadata": {},
   "outputs": [
    {
     "name": "stdout",
     "output_type": "stream",
     "text": [
      "Get balanced data for model with 55 topics, alpha = 0.1, beta = 0.01\n",
      "Get balanced data for model with 55 topics, alpha = 0.1, beta = 0.05\n",
      "Get balanced data for model with 55 topics, alpha = 0.1, beta = 0.1\n",
      "Get balanced data for model with 55 topics, alpha = 0.1, beta = 0.5\n",
      "Get balanced data for model with 55 topics, alpha = 0.5, beta = 0.01\n",
      "Get balanced data for model with 55 topics, alpha = 0.5, beta = 0.05\n",
      "Get balanced data for model with 55 topics, alpha = 0.5, beta = 0.1\n",
      "Get balanced data for model with 55 topics, alpha = 0.5, beta = 0.5\n",
      "Get balanced data for model with 55 topics, alpha = 0.9, beta = 0.01\n",
      "Get balanced data for model with 55 topics, alpha = 0.9, beta = 0.05\n",
      "Get balanced data for model with 55 topics, alpha = 0.9, beta = 0.1\n",
      "Get balanced data for model with 55 topics, alpha = 0.9, beta = 0.5\n",
      "Get balanced data for model with 55 topics, alpha = 0.95, beta = 0.01\n",
      "Get balanced data for model with 55 topics, alpha = 0.95, beta = 0.05\n",
      "Get balanced data for model with 55 topics, alpha = 0.95, beta = 0.1\n",
      "Get balanced data for model with 55 topics, alpha = 0.95, beta = 0.5\n",
      "Get balanced data for model with 55 topics, alpha = 1, beta = 0.01\n",
      "Get balanced data for model with 55 topics, alpha = 1, beta = 0.05\n",
      "Get balanced data for model with 55 topics, alpha = 1, beta = 0.1\n",
      "Get balanced data for model with 55 topics, alpha = 1, beta = 0.5\n"
     ]
    }
   ],
   "source": [
    "# Same for tuning the hyper parameters alpha and betas with n = 55 topics\n",
    "alphas = [0.1, 0.5, 0.9, 0.95, 1]\n",
    "betas = [0.01, 0.05, 0.1, 0.5]\n",
    "\n",
    "for alpha in alphas:\n",
    "    for beta in betas:\n",
    "\n",
    "        print('Get balanced data for model with 55 topics, alpha = ' +\n",
    "              str(alpha) + ', beta = ' + str(beta))\n",
    "        path_model = '/dlabdata1/youtube_large/olam/data/final_res/models/tune/model_ntopics55_alpha' + \\\n",
    "            str(alpha) + '_beta' + str(beta)\n",
    "\n",
    "        model = LocalLDAModel.load(path_model)\n",
    "        transformed_data = model.transform(df)\n",
    "\n",
    "        S = dok_matrix((len(index_data), len(vocab)))\n",
    "\n",
    "        for i, topic_dist_one_vid in enumerate(transformed_data.select('topicDistribution').collect()):\n",
    "\n",
    "            dict_topic_dist_one_vid = {}\n",
    "\n",
    "            for j, prob in enumerate(topic_dist_one_vid['topicDistribution']):\n",
    "\n",
    "                dict_topic_dist_one_vid[(i, j)] = prob\n",
    "\n",
    "            # Fill data in to sparse matrix\n",
    "            dict.update(S, dict_topic_dist_one_vid)\n",
    "\n",
    "        path_transformed_data_balanced = '/dlabdata1/youtube_large/olam/data/final_res/matrices/transformed_data_balanced_ntopic55_alpha' + \\\n",
    "            str(alpha) + '_beta' + str(beta) + '.npz'\n",
    "        scipy.sparse.save_npz(path_transformed_data_balanced, S.tocsr())"
   ]
  },
  {
   "cell_type": "code",
   "execution_count": 18,
   "metadata": {},
   "outputs": [
    {
     "name": "stdout",
     "output_type": "stream",
     "text": [
      "Get balanced data for model with 55 topics, alpha = 0.1, beta = 0.01\n",
      "Get balanced data for model with 55 topics, alpha = 0.1, beta = 0.05\n",
      "Get balanced data for model with 55 topics, alpha = 0.1, beta = 0.1\n",
      "Get balanced data for model with 55 topics, alpha = 0.1, beta = 0.5\n",
      "Get balanced data for model with 55 topics, alpha = 0.5, beta = 0.01\n",
      "Get balanced data for model with 55 topics, alpha = 0.5, beta = 0.05\n",
      "Get balanced data for model with 55 topics, alpha = 0.5, beta = 0.1\n",
      "Get balanced data for model with 55 topics, alpha = 0.5, beta = 0.5\n",
      "Get balanced data for model with 55 topics, alpha = 0.9, beta = 0.01\n",
      "Get balanced data for model with 55 topics, alpha = 0.9, beta = 0.05\n",
      "Get balanced data for model with 55 topics, alpha = 0.9, beta = 0.1\n",
      "Get balanced data for model with 55 topics, alpha = 0.9, beta = 0.5\n",
      "Get balanced data for model with 55 topics, alpha = 0.95, beta = 0.01\n",
      "Get balanced data for model with 55 topics, alpha = 0.95, beta = 0.05\n",
      "Get balanced data for model with 55 topics, alpha = 0.95, beta = 0.1\n",
      "Get balanced data for model with 55 topics, alpha = 0.95, beta = 0.5\n",
      "Get balanced data for model with 55 topics, alpha = 1, beta = 0.01\n",
      "Get balanced data for model with 55 topics, alpha = 1, beta = 0.05\n",
      "Get balanced data for model with 55 topics, alpha = 1, beta = 0.1\n",
      "Get balanced data for model with 55 topics, alpha = 1, beta = 0.5\n"
     ]
    }
   ],
   "source": [
    "# Same for tuning the hyper parameters alpha and betas with n = 55 topics\n",
    "alphas = [0.1, 0.5, 0.9, 0.95, 1]\n",
    "betas = [0.01, 0.05, 0.1, 0.5]\n",
    "\n",
    "for alpha in alphas:\n",
    "    for beta in betas:\n",
    "\n",
    "        print('Get balanced data for model with 55 topics, alpha = ' +\n",
    "              str(alpha) + ', beta = ' + str(beta))\n",
    "        path_model = '/dlabdata1/youtube_large/olam/data/final_res/models/tune/model_ntopics110_alpha' + \\\n",
    "            str(alpha) + '_beta' + str(beta)\n",
    "\n",
    "        model = LocalLDAModel.load(path_model)\n",
    "        transformed_data = model.transform(df)\n",
    "\n",
    "        S = dok_matrix((len(index_data), len(vocab)))\n",
    "\n",
    "        for i, topic_dist_one_vid in enumerate(transformed_data.select('topicDistribution').collect()):\n",
    "\n",
    "            dict_topic_dist_one_vid = {}\n",
    "\n",
    "            for j, prob in enumerate(topic_dist_one_vid['topicDistribution']):\n",
    "\n",
    "                dict_topic_dist_one_vid[(i, j)] = prob\n",
    "\n",
    "            # Fill data in to sparse matrix\n",
    "            dict.update(S, dict_topic_dist_one_vid)\n",
    "\n",
    "        path_transformed_data_balanced = '/dlabdata1/youtube_large/olam/data/final_res/matrices/transformed_data_balanced_ntopic55_alpha' + \\\n",
    "            str(alpha) + '_beta' + str(beta) + '.npz'\n",
    "        scipy.sparse.save_npz(path_transformed_data_balanced, S.tocsr())"
   ]
  },
  {
   "cell_type": "markdown",
   "metadata": {},
   "source": [
    "#### 5.2.4 Random under sampling and split the data into training, validation and testing data"
   ]
  },
  {
   "cell_type": "code",
   "execution_count": 28,
   "metadata": {},
   "outputs": [],
   "source": [
    "# Load groundtruth\n",
    "with open('/dlabdata1/youtube_large/olam/data/final_res/groundtruth_balanced.pickle', 'rb') as f:\n",
    "    groundtruth = pickle.load(f)\n",
    "f.close()"
   ]
  },
  {
   "cell_type": "code",
   "execution_count": 29,
   "metadata": {},
   "outputs": [],
   "source": [
    "number_videos_in_dataset = len(groundtruth)"
   ]
  },
  {
   "cell_type": "code",
   "execution_count": 74,
   "metadata": {},
   "outputs": [],
   "source": [
    "index = np.arange(number_videos_in_dataset)\n",
    "np.random.shuffle(index)"
   ]
  },
  {
   "cell_type": "code",
   "execution_count": 75,
   "metadata": {},
   "outputs": [],
   "source": [
    "# Save list of shuffled index for reproducibility\n",
    "with open('/dlabdata1/youtube_large/olam/data/final_res/list_suffled_balanced_idx.pickle', 'wb') as f:\n",
    "    pickle.dump(index, f)\n",
    "f.close()"
   ]
  },
  {
   "cell_type": "code",
   "execution_count": 21,
   "metadata": {},
   "outputs": [],
   "source": [
    "# Load list of shuffled index for balanced data\n",
    "with open('/dlabdata1/youtube_large/olam/data/final_res/list_suffled_balanced_idx.pickle', 'rb') as f:\n",
    "    index = pickle.load(f)\n",
    "f.close()"
   ]
  },
  {
   "cell_type": "code",
   "execution_count": 30,
   "metadata": {},
   "outputs": [
    {
     "name": "stdout",
     "output_type": "stream",
     "text": [
      "True\n"
     ]
    }
   ],
   "source": [
    "training_val_model_threshold = int(0.8 * number_videos_in_dataset)\n",
    "training_model_threshold = int(0.65 * number_videos_in_dataset)\n",
    "\n",
    "list_train_idx = np.sort(index[:training_model_threshold])\n",
    "list_val_idx = np.sort(index[training_model_threshold:training_val_model_threshold])\n",
    "list_test_idx = np.sort(index[training_val_model_threshold:])\n",
    "\n",
    "print(len(list_train_idx) + len(list_val_idx) + len(list_test_idx) == number_videos_in_dataset)"
   ]
  },
  {
   "cell_type": "markdown",
   "metadata": {},
   "source": [
    "### 5.3 SVM Classifier"
   ]
  },
  {
   "cell_type": "markdown",
   "metadata": {},
   "source": [
    "#### 5.3.1 Hyperparameter Tuning"
   ]
  },
  {
   "cell_type": "code",
   "execution_count": 48,
   "metadata": {},
   "outputs": [
    {
     "name": "stdout",
     "output_type": "stream",
     "text": [
      "time for iter 0: 0.2947763284047445\n",
      "score: 0.5052102063351709\n",
      "\n",
      "time for iter 1: 0.25506953001022337\n",
      "score: 0.5043428963077977\n",
      "\n",
      "time for iter 2: 0.2771483262379964\n",
      "score: 0.5042075113279151\n",
      "\n",
      "time for iter 3: 0.30004205703735354\n",
      "score: 0.5042709730372351\n",
      "\n",
      "time for iter 4: 0.3001961390177409\n",
      "score: 0.5037421254595685\n",
      "\n",
      "time for iter 5: 0.3089449206988017\n",
      "score: 0.5036575098471419\n",
      "\n",
      "time for iter 6: 0.30485442876815794\n",
      "score: 0.5020371208691715\n",
      "\n",
      "time for iter 7: 0.29340293804804485\n",
      "score: 0.50034903940126\n",
      "\n",
      "time for iter 8: 0.3091677824656169\n",
      "score: 0.4952678718750397\n",
      "\n",
      "time for iter 9: 0.3259780923525492\n",
      "score: 0.48506745979700716\n",
      "\n",
      "time for iter 10: 0.39190824031829835\n",
      "score: 0.49180709332678973\n",
      "\n",
      "time for iter 11: 1.0898269931475322\n",
      "score: 0.4998413457267\n",
      "\n",
      "time for iter 12: 1.7938348730405171\n",
      "score: 0.33970206842864575\n",
      "\n",
      "time for iter 13: 1.5399272004763285\n",
      "score: 0.3005673476813207\n",
      "\n",
      "time for iter 14: 1.336052906513214\n",
      "score: 0.2583526186416656\n",
      "\n",
      "time for iter 15: 1.0632218996683755\n",
      "score: 0.2214094422561907\n",
      "\n",
      "time for iter 16: 0.9207491040229797\n",
      "score: 0.186746656625614\n",
      "\n",
      "time for iter 17: 0.814768127600352\n",
      "score: 0.15840465724330796\n",
      "\n",
      "time for iter 18: 0.6941893855730693\n",
      "score: 0.13589267355719803\n",
      "\n",
      "time for iter 19: 0.5997858047485352\n",
      "score: 0.11657492924019411\n",
      "\n"
     ]
    }
   ],
   "source": [
    "# Initialize the hyperparameter\n",
    "alphas = np.logspace(0, 1, num=20, base=100) / 100\n",
    "\n",
    "accuracies = []\n",
    "\n",
    "for i, alpha in enumerate(alphas):\n",
    "\n",
    "    start = time.time()\n",
    "    clf = SGDClassifier(loss='hinge', alpha=alpha, max_iter=50, shuffle=True, n_jobs=10, random_state=1)\n",
    "    clf.fit(data[list_train_idx],\n",
    "            y=np.array(groundtruth)[list_train_idx])\n",
    "    \n",
    "    y_pred = clf.predict(data[list_val_idx])\n",
    "    y_gt = np.array(groundtruth)[list_val_idx]\n",
    "    \n",
    "    score = accuracy_score(y_gt, y_pred)\n",
    "    accuracies.append(score)\n",
    "    print('time for iter ' + str(i) + ': ' + str((time.time() - start) / 60))\n",
    "    print('score: ' + str(score))\n",
    "    print('')"
   ]
  },
  {
   "cell_type": "code",
   "execution_count": 49,
   "metadata": {},
   "outputs": [
    {
     "name": "stdout",
     "output_type": "stream",
     "text": [
      "The optimal alpha is : alpha = 0.01\n"
     ]
    }
   ],
   "source": [
    "best_alpha = alphas[np.argmax(accuracies)]\n",
    "print('The optimal alpha is : alpha = ' + str(best_alpha))"
   ]
  },
  {
   "cell_type": "markdown",
   "metadata": {},
   "source": [
    "#### 5.3.2 Get results on testing data"
   ]
  },
  {
   "cell_type": "code",
   "execution_count": 50,
   "metadata": {},
   "outputs": [
    {
     "data": {
      "text/plain": [
       "SGDClassifier(alpha=0.01, max_iter=50, n_jobs=10, random_state=1)"
      ]
     },
     "execution_count": 50,
     "metadata": {},
     "output_type": "execute_result"
    }
   ],
   "source": [
    "clf = SGDClassifier(loss='hinge', alpha=best_alpha, max_iter=50, shuffle=True, n_jobs=10, random_state=1)\n",
    "clf.fit(data[list_train_idx],\n",
    "        y=np.array(groundtruth)[list_train_idx])"
   ]
  },
  {
   "cell_type": "code",
   "execution_count": 51,
   "metadata": {},
   "outputs": [
    {
     "name": "stdout",
     "output_type": "stream",
     "text": [
      "Accuracy on training set of the best model: 0.5040015152742968\n"
     ]
    }
   ],
   "source": [
    "Y_pred_train = clf.predict(data[list_train_idx])\n",
    "y_gt_train = np.array(groundtruth)[list_train_idx]\n",
    "\n",
    "score_train = accuracy_score(y_gt_train, Y_pred_train)\n",
    "\n",
    "print('Accuracy on training set of the best model: ' + str(score_train))"
   ]
  },
  {
   "cell_type": "code",
   "execution_count": 52,
   "metadata": {},
   "outputs": [
    {
     "name": "stdout",
     "output_type": "stream",
     "text": [
      "Accuracy on test set of the best model: 0.5040488656195462\n"
     ]
    }
   ],
   "source": [
    "y_pred = clf.predict(data[list_test_idx])\n",
    "y_gt = np.array(groundtruth)[list_test_idx]\n",
    "\n",
    "score_test = accuracy_score(y_gt, y_pred)\n",
    "\n",
    "print('Accuracy on test set of the best model: ' + str(score_test))"
   ]
  },
  {
   "cell_type": "code",
   "execution_count": 13,
   "metadata": {},
   "outputs": [],
   "source": [
    "with open('/dlabdata1/youtube_large/olam/data/final_res/results/y_pred.pickle', 'wb') as f:\n",
    "    pickle.dump(y_pred, f)\n",
    "f.close()\n",
    "\n",
    "with open('/dlabdata1/youtube_large/olam/data/final_res/results/y_gt.pickle', 'wb') as f:\n",
    "    pickle.dump(y_gt, f)\n",
    "f.close()"
   ]
  },
  {
   "cell_type": "code",
   "execution_count": 53,
   "metadata": {
    "scrolled": false
   },
   "outputs": [
    {
     "name": "stdout",
     "output_type": "stream",
     "text": [
      "                       precision    recall  f1-score   support\n",
      "\n",
      "     Autos & Vehicles      0.556     0.826     0.665     21034\n",
      "               Comedy      0.486     0.403     0.440     20952\n",
      "            Education      0.464     0.345     0.396     21162\n",
      "        Entertainment      0.260     0.125     0.169     21118\n",
      "     Film & Animation      0.352     0.145     0.205     21137\n",
      "               Gaming      0.567     0.745     0.644     21098\n",
      "        Howto & Style      0.514     0.577     0.544     21064\n",
      "                Music      0.532     0.715     0.610     21074\n",
      "      News & Politics      0.510     0.773     0.615     20720\n",
      "Nonprofits & Activism      0.459     0.398     0.427     20717\n",
      "       People & Blogs      0.153     0.037     0.060     21108\n",
      "       Pets & Animals      0.554     0.777     0.647     20885\n",
      " Science & Technology      0.513     0.582     0.545     21047\n",
      "               Sports      0.526     0.640     0.577     21097\n",
      "      Travel & Events      0.534     0.480     0.505     20937\n",
      "\n",
      "             accuracy                          0.504    315150\n",
      "            macro avg      0.465     0.505     0.470    315150\n",
      "         weighted avg      0.465     0.504     0.469    315150\n",
      "\n"
     ]
    }
   ],
   "source": [
    "# Print the precision and recall, among other metrics\n",
    "print(classification_report(y_gt, y_pred, digits=3))"
   ]
  },
  {
   "cell_type": "markdown",
   "metadata": {},
   "source": [
    "#### 5.3.3 Accuracy score for clustering model with given k number of topics"
   ]
  },
  {
   "cell_type": "code",
   "execution_count": 110,
   "metadata": {},
   "outputs": [
    {
     "name": "stdout",
     "output_type": "stream",
     "text": [
      "Tuning svm hyperparameter for model with 5 topics...\n",
      "Accuracy score : 0.21978936585678158\n",
      "Tuning svm hyperparameter for model with 10 topics...\n",
      "Accuracy score : 0.34024776721405936\n",
      "Tuning svm hyperparameter for model with 15 topics...\n",
      "Accuracy score : 0.400653029866513\n",
      "Tuning svm hyperparameter for model with 20 topics...\n",
      "Accuracy score : 0.42194052306411856\n",
      "Tuning svm hyperparameter for model with 25 topics...\n",
      "Accuracy score : 0.43666570632862767\n",
      "Tuning svm hyperparameter for model with 30 topics...\n",
      "Accuracy score : 0.4605141009635392\n",
      "Tuning svm hyperparameter for model with 35 topics...\n",
      "Accuracy score : 0.4764557124107686\n",
      "Tuning svm hyperparameter for model with 40 topics...\n",
      "Accuracy score : 0.4591056051730209\n",
      "Tuning svm hyperparameter for model with 45 topics...\n",
      "Accuracy score : 0.4415954415954416\n",
      "Tuning svm hyperparameter for model with 50 topics...\n",
      "Accuracy score : 0.4662121066615449\n",
      "Tuning svm hyperparameter for model with 55 topics...\n",
      "Accuracy score : 0.46992541374563845\n",
      "Tuning svm hyperparameter for model with 60 topics...\n",
      "Accuracy score : 0.46749255738019785\n",
      "Tuning svm hyperparameter for model with 65 topics...\n",
      "Accuracy score : 0.47152597714395467\n",
      "Tuning svm hyperparameter for model with 70 topics...\n",
      "Accuracy score : 0.486667306892026\n",
      "Tuning svm hyperparameter for model with 75 topics...\n",
      "Accuracy score : 0.4864112167482954\n",
      "Tuning svm hyperparameter for model with 80 topics...\n",
      "Accuracy score : 0.4873715547872851\n",
      "Tuning svm hyperparameter for model with 85 topics...\n",
      "Accuracy score : 0.49873555491533017\n",
      "Tuning svm hyperparameter for model with 90 topics...\n",
      "Accuracy score : 0.5010403662089056\n",
      "Tuning svm hyperparameter for model with 95 topics...\n",
      "Accuracy score : 0.510163577579308\n",
      "Tuning svm hyperparameter for model with 100 topics...\n",
      "Accuracy score : 0.4979032619482058\n",
      "Tuning svm hyperparameter for model with 105 topics...\n",
      "Accuracy score : 0.5065142930311469\n",
      "Tuning svm hyperparameter for model with 110 topics...\n",
      "Accuracy score : 0.515797560741381\n",
      "Tuning svm hyperparameter for model with 115 topics...\n",
      "Accuracy score : 0.5109318480104997\n",
      "Tuning svm hyperparameter for model with 120 topics...\n",
      "Accuracy score : 0.5195108678254746\n",
      "Tuning svm hyperparameter for model with 125 topics...\n",
      "Accuracy score : 0.5159576170812126\n",
      "Tuning svm hyperparameter for model with 130 topics...\n",
      "Accuracy score : 0.4929095041454592\n",
      "Tuning svm hyperparameter for model with 135 topics...\n",
      "Accuracy score : 0.4904126252440859\n",
      "Tuning svm hyperparameter for model with 140 topics...\n",
      "Accuracy score : 0.5025769070712891\n",
      "Tuning svm hyperparameter for model with 145 topics...\n",
      "Accuracy score : 0.517878293159192\n",
      "Tuning svm hyperparameter for model with 150 topics...\n",
      "Accuracy score : 0.5201831044527674\n"
     ]
    }
   ],
   "source": [
    "n_topics = np.arange(5, 151, 5)\n",
    "# Initialize the hyperparameter\n",
    "alphas_svm = np.logspace(0, 1, num=20, base=100) / 100\n",
    "\n",
    "accuracies = []\n",
    "\n",
    "for n_topic in n_topics:\n",
    "\n",
    "    print('Tuning svm hyperparameter for model with ' +\n",
    "          str(n_topic) + ' topics...')\n",
    "\n",
    "    accuracies_tmp = []\n",
    "\n",
    "    data = scipy.sparse.load_npz(\n",
    "        '/dlabdata1/youtube_large/olam/data/final_res/matrices/transformed_data_balanced_' + str(n_topic) + '.npz')\n",
    "\n",
    "    for alpha_svm in alphas_svm:\n",
    "\n",
    "        clf = SGDClassifier(loss='hinge', alpha=alpha_svm,\n",
    "                            max_iter=100, shuffle=True, n_jobs=10, random_state=1)\n",
    "        clf.fit(data[list_train_idx],\n",
    "                y=np.array(groundtruth)[list_train_idx])\n",
    "\n",
    "        y_pred = clf.predict(data[list_val_idx])\n",
    "        y_gt = np.array(groundtruth)[list_val_idx]\n",
    "\n",
    "        score = accuracy_score(y_gt, y_pred)\n",
    "        accuracies_tmp.append(score)\n",
    "\n",
    "    best_alpha_svm = alphas_svm[np.argmax(accuracies_tmp)]\n",
    "\n",
    "    clf = SGDClassifier(loss='hinge', alpha=best_alpha_svm,\n",
    "                        max_iter=100, shuffle=True, n_jobs=10, random_state=1)\n",
    "    clf.fit(data[np.concatenate([list_train_idx,list_val_idx])],\n",
    "            y=np.array(groundtruth)[np.concatenate([list_train_idx,list_val_idx])])\n",
    "    \n",
    "    y_pred = clf.predict(data[list_test_idx])\n",
    "    y_gt = np.array(groundtruth)[list_test_idx]\n",
    "\n",
    "    score_test = accuracy_score(y_gt, y_pred)\n",
    "    print('Accuracy score : ' + str(score_test))\n",
    "    \n",
    "    accuracies.append(score_test)"
   ]
  },
  {
   "cell_type": "code",
   "execution_count": 111,
   "metadata": {},
   "outputs": [
    {
     "data": {
      "text/plain": [
       "([<matplotlib.axis.XTick at 0x7fd44a176df0>,\n",
       "  <matplotlib.axis.XTick at 0x7fd44a176a30>,\n",
       "  <matplotlib.axis.XTick at 0x7fd4496da790>,\n",
       "  <matplotlib.axis.XTick at 0x7fd44a191a00>,\n",
       "  <matplotlib.axis.XTick at 0x7fd44a6f39d0>,\n",
       "  <matplotlib.axis.XTick at 0x7fd44baa8340>,\n",
       "  <matplotlib.axis.XTick at 0x7fd43a55d100>,\n",
       "  <matplotlib.axis.XTick at 0x7fd43c66a700>,\n",
       "  <matplotlib.axis.XTick at 0x7fd44a191c40>,\n",
       "  <matplotlib.axis.XTick at 0x7fd44a175220>,\n",
       "  <matplotlib.axis.XTick at 0x7fd44a1759a0>,\n",
       "  <matplotlib.axis.XTick at 0x7fd44a175dc0>,\n",
       "  <matplotlib.axis.XTick at 0x7fd44bdeb0d0>,\n",
       "  <matplotlib.axis.XTick at 0x7fd44a1757c0>,\n",
       "  <matplotlib.axis.XTick at 0x7fd43c66a640>,\n",
       "  <matplotlib.axis.XTick at 0x7fd44a6f3dc0>,\n",
       "  <matplotlib.axis.XTick at 0x7fd44bdeb670>,\n",
       "  <matplotlib.axis.XTick at 0x7fd44bdebb80>,\n",
       "  <matplotlib.axis.XTick at 0x7fd44bdff0d0>,\n",
       "  <matplotlib.axis.XTick at 0x7fd44bdff5e0>,\n",
       "  <matplotlib.axis.XTick at 0x7fd44bdffaf0>,\n",
       "  <matplotlib.axis.XTick at 0x7fd44bde3040>,\n",
       "  <matplotlib.axis.XTick at 0x7fd44bde3550>,\n",
       "  <matplotlib.axis.XTick at 0x7fd44bdff160>,\n",
       "  <matplotlib.axis.XTick at 0x7fd44a6f3820>,\n",
       "  <matplotlib.axis.XTick at 0x7fd44bde3280>,\n",
       "  <matplotlib.axis.XTick at 0x7fd44bde3a60>,\n",
       "  <matplotlib.axis.XTick at 0x7fd44bde3f70>,\n",
       "  <matplotlib.axis.XTick at 0x7fd44bddd550>,\n",
       "  <matplotlib.axis.XTick at 0x7fd44bdddc10>],\n",
       " [Text(0, 0, '5'),\n",
       "  Text(1, 0, '10'),\n",
       "  Text(2, 0, '15'),\n",
       "  Text(3, 0, '20'),\n",
       "  Text(4, 0, '25'),\n",
       "  Text(5, 0, '30'),\n",
       "  Text(6, 0, '35'),\n",
       "  Text(7, 0, '40'),\n",
       "  Text(8, 0, '45'),\n",
       "  Text(9, 0, '50'),\n",
       "  Text(10, 0, '55'),\n",
       "  Text(11, 0, '60'),\n",
       "  Text(12, 0, '65'),\n",
       "  Text(13, 0, '70'),\n",
       "  Text(14, 0, '75'),\n",
       "  Text(15, 0, '80'),\n",
       "  Text(16, 0, '85'),\n",
       "  Text(17, 0, '90'),\n",
       "  Text(18, 0, '95'),\n",
       "  Text(19, 0, '100'),\n",
       "  Text(20, 0, '105'),\n",
       "  Text(21, 0, '110'),\n",
       "  Text(22, 0, '115'),\n",
       "  Text(23, 0, '120'),\n",
       "  Text(24, 0, '125'),\n",
       "  Text(25, 0, '130'),\n",
       "  Text(26, 0, '135'),\n",
       "  Text(27, 0, '140'),\n",
       "  Text(28, 0, '145'),\n",
       "  Text(29, 0, '150')])"
      ]
     },
     "execution_count": 111,
     "metadata": {},
     "output_type": "execute_result"
    },
    {
     "data": {
      "image/png": "[encoded data removed]",
      "text/plain": [
       "<Figure size 1440x720 with 1 Axes>"
      ]
     },
     "metadata": {
      "needs_background": "light"
     },
     "output_type": "display_data"
    }
   ],
   "source": [
    "fig, ax = plt.subplots(figsize=(20, 10))\n",
    "\n",
    "ax.set_title('Classifier accuracy for a clustering model with k number of topics', fontsize=24, pad=10)\n",
    "ax.set_xlabel('Number of Topics', fontsize=16)\n",
    "ax.set_ylabel('Accuracy', fontsize=16)\n",
    "\n",
    "ax.grid('on')\n",
    "\n",
    "ax.plot(accuracies, label='c_v coherence score', linewidth=3)\n",
    "\n",
    "ax.legend(fontsize=16)\n",
    "\n",
    "plt.xticks(np.arange(len(n_topics)), n_topics)"
   ]
  },
  {
   "cell_type": "code",
   "execution_count": 112,
   "metadata": {},
   "outputs": [
    {
     "name": "stdout",
     "output_type": "stream",
     "text": [
      "Number of topic that give the best accuracy: 150\n"
     ]
    }
   ],
   "source": [
    "print('Number of topic that give the best accuracy: ' + str(n_topics[np.argmax(accuracies)]))"
   ]
  },
  {
   "cell_type": "code",
   "execution_count": 113,
   "metadata": {},
   "outputs": [
    {
     "name": "stdout",
     "output_type": "stream",
     "text": [
      "Accuracy score for 55 topics: 0.46992541374563845\n"
     ]
    }
   ],
   "source": [
    "print('Accuracy score for 55 topics: ' + str(accuracies[list(n_topics).index(55)]))"
   ]
  },
  {
   "cell_type": "markdown",
   "metadata": {},
   "source": [
    "#### 5.3.4 Accuracy score for clustering models with 55 topics and tuned docConcetration/topicConcentration "
   ]
  },
  {
   "cell_type": "code",
   "execution_count": null,
   "metadata": {},
   "outputs": [],
   "source": [
    "n_topic = 55\n",
    "alphas = [0.1, 0.5, 0.9, 0.95, 1]\n",
    "betas = [0.01, 0.05, 0.1, 0.5]\n",
    "\n",
    "# Initialize the hyperparameter\n",
    "alphas_svm = np.logspace(0, 1, num=20, base=100) / 100\n",
    "\n",
    "accuracies = []\n",
    "\n",
    "for alpha in alphas:\n",
    "    \n",
    "    accuracies_alpha = []\n",
    "    \n",
    "    for beta in betas:\n",
    "\n",
    "        print('Tuning svm hyperparameter for model with 55 topics, alpha = ' +\n",
    "              str(alpha) + ', beta = ' + str(beta))\n",
    "\n",
    "        accuracies_tmp = []\n",
    "\n",
    "        data = scipy.sparse.load_npz(\n",
    "            '/dlabdata1/youtube_large/olam/data/final_res/matrices/transformed_data_balanced_ntopic55_alpha' + str(alpha) + '_beta' + str(beta) + '.npz')\n",
    "\n",
    "        for alpha_svm in alphas_svm:\n",
    "\n",
    "            clf = SGDClassifier(loss='hinge', alpha=alpha_svm,\n",
    "                                max_iter=100, shuffle=True, n_jobs=10, random_state=1)\n",
    "            clf.fit(data[list_train_idx],\n",
    "                    y=np.array(groundtruth)[list_train_idx])\n",
    "\n",
    "            y_pred = clf.predict(data[list_val_idx])\n",
    "            y_gt = np.array(groundtruth)[list_val_idx]\n",
    "\n",
    "            score = accuracy_score(y_gt, y_pred)\n",
    "            accuracies_tmp.append(score)\n",
    "\n",
    "        best_alpha_svm = alphas_svm[np.argmax(accuracies_tmp)]\n",
    "\n",
    "        clf = SGDClassifier(loss='hinge', alpha=best_alpha_svm,\n",
    "                            max_iter=100, shuffle=True, n_jobs=10, random_state=1)\n",
    "        clf.fit(data[np.concatenate([list_train_idx, list_val_idx])],\n",
    "                y=np.array(groundtruth)[np.concatenate([list_train_idx, list_val_idx])])\n",
    "\n",
    "        y_pred = clf.predict(data[list_test_idx])\n",
    "        y_gt = np.array(groundtruth)[list_test_idx]\n",
    "\n",
    "        score_test = accuracy_score(y_gt, y_pred)\n",
    "        print('Accuracy score : ' + str(score_test))\n",
    "\n",
    "        accuracies_alpha.append(score_test)\n",
    "    \n",
    "    accuracies.append(accuracies_alpha)"
   ]
  },
  {
   "cell_type": "code",
   "execution_count": 103,
   "metadata": {},
   "outputs": [
    {
     "data": {
      "image/png": "[encoded data removed]",
      "text/plain": [
       "<Figure size 432x432 with 2 Axes>"
      ]
     },
     "metadata": {
      "needs_background": "light"
     },
     "output_type": "display_data"
    }
   ],
   "source": [
    "fig, ax = plt.subplots(figsize=(6, 6))\n",
    "\n",
    "ax.set_title('Accuracy score with 55 topics', fontsize=20, pad=20)\n",
    "ax.set_xlabel('Document Concentration', fontsize=14)\n",
    "ax.set_ylabel('Topic Concentration', fontsize=14)\n",
    "\n",
    "im, cbar = heatmap(np.array(accuracies), alphas, betas, ax=ax,\n",
    "                   cmap=\"YlGn\", cbarlabel=\"Accuracy Score\")\n",
    "texts = annotate_heatmap(im, valfmt=\"{x:.3f} t\")\n",
    "\n",
    "#fig.tight_layout()\n",
    "plt.show()\n"
   ]
  },
  {
   "cell_type": "code",
   "execution_count": 31,
   "metadata": {},
   "outputs": [
    {
     "name": "stdout",
     "output_type": "stream",
     "text": [
      "Tuning svm hyperparameter for model with 110 topics, alpha = 0.1, beta = 0.01\n",
      "Accuracy score : 0.4988956112551618\n",
      "Tuning svm hyperparameter for model with 110 topics, alpha = 0.1, beta = 0.05\n",
      "Accuracy score : 0.5046256282211339\n",
      "Tuning svm hyperparameter for model with 110 topics, alpha = 0.1, beta = 0.1\n",
      "Accuracy score : 0.5047536732929991\n",
      "Tuning svm hyperparameter for model with 110 topics, alpha = 0.1, beta = 0.5\n",
      "Accuracy score : 0.5026409296072217\n",
      "Tuning svm hyperparameter for model with 110 topics, alpha = 0.5, beta = 0.01\n",
      "Accuracy score : 0.4781523096129838\n",
      "Tuning svm hyperparameter for model with 110 topics, alpha = 0.5, beta = 0.05\n",
      "Accuracy score : 0.47808828707705114\n",
      "Tuning svm hyperparameter for model with 110 topics, alpha = 0.5, beta = 0.1\n",
      "Accuracy score : 0.4789846025801082\n",
      "Tuning svm hyperparameter for model with 110 topics, alpha = 0.5, beta = 0.5\n",
      "Accuracy score : 0.47997695188706424\n",
      "Tuning svm hyperparameter for model with 110 topics, alpha = 0.9, beta = 0.01\n",
      "Accuracy score : 0.4702455264253017\n",
      "Tuning svm hyperparameter for model with 110 topics, alpha = 0.9, beta = 0.05\n",
      "Accuracy score : 0.4712058644642914\n",
      "Tuning svm hyperparameter for model with 110 topics, alpha = 0.9, beta = 0.1\n",
      "Accuracy score : 0.47255033771887706\n",
      "Tuning svm hyperparameter for model with 110 topics, alpha = 0.9, beta = 0.5\n",
      "Accuracy score : 0.47549537437177886\n",
      "Tuning svm hyperparameter for model with 110 topics, alpha = 0.95, beta = 0.01\n",
      "Accuracy score : 0.4767438138224655\n",
      "Tuning svm hyperparameter for model with 110 topics, alpha = 0.95, beta = 0.05\n",
      "Accuracy score : 0.4768718588943308\n",
      "Tuning svm hyperparameter for model with 110 topics, alpha = 0.95, beta = 0.1\n",
      "Accuracy score : 0.47696789269822976\n",
      "Tuning svm hyperparameter for model with 110 topics, alpha = 0.95, beta = 0.5\n",
      "Accuracy score : 0.4818015941611447\n",
      "Tuning svm hyperparameter for model with 110 topics, alpha = 1, beta = 0.01\n",
      "Accuracy score : 0.4743429687249912\n",
      "Tuning svm hyperparameter for model with 110 topics, alpha = 1, beta = 0.05\n",
      "Accuracy score : 0.4760715771951727\n",
      "Tuning svm hyperparameter for model with 110 topics, alpha = 1, beta = 0.1\n",
      "Accuracy score : 0.47651973494670125\n",
      "Tuning svm hyperparameter for model with 110 topics, alpha = 1, beta = 0.5\n",
      "Accuracy score : 0.4782483434168827\n"
     ]
    }
   ],
   "source": [
    "n_topic = 110\n",
    "alphas = [0.1, 0.5, 0.9, 0.95, 1]\n",
    "betas = [0.01, 0.05, 0.1, 0.5]\n",
    "\n",
    "# Initialize the hyperparameter\n",
    "alphas_svm = np.logspace(0, 1, num=20, base=100) / 100\n",
    "\n",
    "accuracies = []\n",
    "\n",
    "for alpha in alphas:\n",
    "    \n",
    "    accuracies_alpha = []\n",
    "    \n",
    "    for beta in betas:\n",
    "\n",
    "        print('Tuning svm hyperparameter for model with 110 topics, alpha = ' +\n",
    "              str(alpha) + ', beta = ' + str(beta))\n",
    "\n",
    "        accuracies_tmp = []\n",
    "\n",
    "        data = scipy.sparse.load_npz(\n",
    "            '/dlabdata1/youtube_large/olam/data/final_res/matrices/transformed_data_balanced_ntopic55_alpha' + str(alpha) + '_beta' + str(beta) + '.npz')\n",
    "\n",
    "        for alpha_svm in alphas_svm:\n",
    "\n",
    "            clf = SGDClassifier(loss='hinge', alpha=alpha_svm,\n",
    "                                max_iter=100, shuffle=True, n_jobs=10, random_state=1)\n",
    "            clf.fit(data[list_train_idx],\n",
    "                    y=np.array(groundtruth)[list_train_idx])\n",
    "\n",
    "            y_pred = clf.predict(data[list_val_idx])\n",
    "            y_gt = np.array(groundtruth)[list_val_idx]\n",
    "\n",
    "            score = accuracy_score(y_gt, y_pred)\n",
    "            accuracies_tmp.append(score)\n",
    "\n",
    "        best_alpha_svm = alphas_svm[np.argmax(accuracies_tmp)]\n",
    "\n",
    "        clf = SGDClassifier(loss='hinge', alpha=best_alpha_svm,\n",
    "                            max_iter=100, shuffle=True, n_jobs=10, random_state=1)\n",
    "        clf.fit(data[np.concatenate([list_train_idx, list_val_idx])],\n",
    "                y=np.array(groundtruth)[np.concatenate([list_train_idx, list_val_idx])])\n",
    "\n",
    "        y_pred = clf.predict(data[list_test_idx])\n",
    "        y_gt = np.array(groundtruth)[list_test_idx]\n",
    "\n",
    "        score_test = accuracy_score(y_gt, y_pred)\n",
    "        print('Accuracy score : ' + str(score_test))\n",
    "\n",
    "        accuracies_alpha.append(score_test)\n",
    "    \n",
    "    accuracies.append(accuracies_alpha)"
   ]
  },
  {
   "cell_type": "code",
   "execution_count": 33,
   "metadata": {},
   "outputs": [
    {
     "data": {
      "image/png": "[encoded data removed]",
      "text/plain": [
       "<Figure size 432x432 with 2 Axes>"
      ]
     },
     "metadata": {
      "needs_background": "light"
     },
     "output_type": "display_data"
    }
   ],
   "source": [
    "fig, ax = plt.subplots(figsize=(6, 6))\n",
    "\n",
    "ax.set_title('Accuracy score with 110 topics', fontsize=20, pad=20)\n",
    "ax.set_xlabel('Document Concentration', fontsize=14)\n",
    "ax.set_ylabel('Topic Concentration', fontsize=14)\n",
    "\n",
    "im, cbar = heatmap(np.array(accuracies), alphas, betas, ax=ax,\n",
    "                   cmap=\"YlGn\", cbarlabel=\"Accuracy Score\")\n",
    "texts = annotate_heatmap(im, valfmt=\"{x:.3f} t\")\n",
    "\n",
    "#fig.tight_layout()\n",
    "plt.show()\n",
    "\n"
   ]
  },
  {
   "cell_type": "markdown",
   "metadata": {},
   "source": [
    "### 5.4 MLP Classifier"
   ]
  },
  {
   "cell_type": "code",
   "execution_count": 6,
   "metadata": {},
   "outputs": [],
   "source": [
    "clf = MLPClassifier(random_state=1, max_iter=10, early_stopping=True, validation_fraction=0.15, verbose=True)"
   ]
  },
  {
   "cell_type": "code",
   "execution_count": 7,
   "metadata": {},
   "outputs": [],
   "source": [
    "list_train_idx = np.append(list_train_idx, list_val_idx)"
   ]
  },
  {
   "cell_type": "code",
   "execution_count": 8,
   "metadata": {},
   "outputs": [
    {
     "name": "stdout",
     "output_type": "stream",
     "text": [
      "Iteration 1, loss = 1.16384494\n",
      "Validation score: 0.640175\n",
      "Iteration 2, loss = 1.12465831\n",
      "Validation score: 0.644169\n",
      "Iteration 3, loss = 1.11630461\n",
      "Validation score: 0.645119\n",
      "Iteration 4, loss = 1.11303818\n",
      "Validation score: 0.646347\n",
      "Iteration 5, loss = 1.11113296\n",
      "Validation score: 0.645829\n",
      "Iteration 6, loss = 1.10989572\n",
      "Validation score: 0.646874\n",
      "Iteration 7, loss = 1.10904122\n",
      "Validation score: 0.647241\n",
      "Iteration 8, loss = 1.10837611\n",
      "Validation score: 0.646867\n",
      "Iteration 9, loss = 1.10784688\n",
      "Validation score: 0.647589\n",
      "Iteration 10, loss = 1.10745249\n",
      "Validation score: 0.647866\n"
     ]
    },
    {
     "name": "stderr",
     "output_type": "stream",
     "text": [
      "/home/olam/anaconda3/lib/python3.8/site-packages/sklearn/neural_network/_multilayer_perceptron.py:582: ConvergenceWarning: Stochastic Optimizer: Maximum iterations (10) reached and the optimization hasn't converged yet.\n",
      "  warnings.warn(\n"
     ]
    },
    {
     "data": {
      "text/plain": [
       "MLPClassifier(early_stopping=True, max_iter=10, random_state=1,\n",
       "              validation_fraction=0.15, verbose=True)"
      ]
     },
     "execution_count": 8,
     "metadata": {},
     "output_type": "execute_result"
    }
   ],
   "source": [
    "clf.fit(data[list_train_idx], np.array(groundtruth)[list_train_idx])"
   ]
  },
  {
   "cell_type": "code",
   "execution_count": 9,
   "metadata": {},
   "outputs": [
    {
     "name": "stdout",
     "output_type": "stream",
     "text": [
      "Accuracy on test set of the best model: 0.6483169739862892\n"
     ]
    }
   ],
   "source": [
    "y_pred = clf.predict(data[list_test_idx])\n",
    "y_gt = np.array(groundtruth)[list_test_idx]\n",
    "\n",
    "score_test = accuracy_score(y_gt, y_pred)\n",
    "\n",
    "print('Accuracy on testing data of the best model: ' + str(score_test))"
   ]
  },
  {
   "cell_type": "code",
   "execution_count": 10,
   "metadata": {},
   "outputs": [
    {
     "name": "stderr",
     "output_type": "stream",
     "text": [
      "/home/olam/anaconda3/lib/python3.8/site-packages/sklearn/metrics/_classification.py:1221: UndefinedMetricWarning: Precision and F-score are ill-defined and being set to 0.0 in labels with no predicted samples. Use `zero_division` parameter to control this behavior.\n",
      "  _warn_prf(average, modifier, msg_start, len(result))\n"
     ]
    },
    {
     "name": "stdout",
     "output_type": "stream",
     "text": [
      "                       precision    recall  f1-score   support\n",
      "\n",
      "                           0.000     0.000     0.000        55\n",
      "     Autos & Vehicles      0.693     0.771     0.730    121091\n",
      "               Comedy      0.447     0.195     0.272     75185\n",
      "            Education      0.517     0.412     0.459    163608\n",
      "        Entertainment      0.562     0.615     0.588    798876\n",
      "     Film & Animation      0.486     0.198     0.282    148580\n",
      "               Gaming      0.824     0.900     0.860    891742\n",
      "        Howto & Style      0.606     0.604     0.605    235698\n",
      "                Music      0.659     0.795     0.721    441745\n",
      "      News & Politics      0.707     0.743     0.725    227835\n",
      "Nonprofits & Activism      0.410     0.176     0.246     20805\n",
      "       People & Blogs      0.382     0.232     0.289    323900\n",
      "       Pets & Animals      0.504     0.558     0.530     26306\n",
      " Science & Technology      0.567     0.565     0.566    129460\n",
      "                Shows      0.000     0.000     0.000         3\n",
      "               Sports      0.642     0.744     0.689    228081\n",
      "      Travel & Events      0.426     0.339     0.377     41064\n",
      "\n",
      "             accuracy                          0.648   3874034\n",
      "            macro avg      0.496     0.462     0.467   3874034\n",
      "         weighted avg      0.629     0.648     0.632   3874034\n",
      "\n"
     ]
    }
   ],
   "source": [
    "# Print the precision and recall, among other metrics\n",
    "print(classification_report(y_gt, y_pred, digits=3))"
   ]
  },
  {
   "cell_type": "code",
   "execution_count": 12,
   "metadata": {},
   "outputs": [
    {
     "data": {
      "text/plain": [
       "['/dlabdata1/youtube_large/olam/data/final_res/classifier/mlp_10iter.joblib']"
      ]
     },
     "execution_count": 12,
     "metadata": {},
     "output_type": "execute_result"
    }
   ],
   "source": [
    "dump(clf, '/dlabdata1/youtube_large/olam/data/final_res/classifier/mlp_10iter.joblib')"
   ]
  },
  {
   "cell_type": "code",
   "execution_count": 13,
   "metadata": {},
   "outputs": [],
   "source": [
    "clf_load = load('/dlabdata1/youtube_large/olam/data/final_res/classifier/mlp_10iter.joblib')"
   ]
  },
  {
   "cell_type": "code",
   "execution_count": 15,
   "metadata": {},
   "outputs": [
    {
     "name": "stdout",
     "output_type": "stream",
     "text": [
      "Accuracy on test set of the best model: 0.6483169739862892\n"
     ]
    }
   ],
   "source": [
    "y_pred_test = clf_load.predict(data[list_test_idx])\n",
    "y_gt_test = np.array(groundtruth)[list_test_idx]\n",
    "\n",
    "score_test_test = accuracy_score(y_gt_test, y_pred_test)\n",
    "\n",
    "print('Accuracy on test set of the best model: ' + str(score_test_test))"
   ]
  },
  {
   "cell_type": "code",
   "execution_count": null,
   "metadata": {},
   "outputs": [],
   "source": []
  }
 ],
 "metadata": {
  "kernelspec": {
   "display_name": "Python 3",
   "language": "python",
   "name": "python3"
  },
  "language_info": {
   "codemirror_mode": {
    "name": "ipython",
    "version": 3
   },
   "file_extension": ".py",
   "mimetype": "text/x-python",
   "name": "python",
   "nbconvert_exporter": "python",
   "pygments_lexer": "ipython3",
   "version": "3.8.3"
  },
  "toc": {
   "base_numbering": 1,
   "nav_menu": {},
   "number_sections": true,
   "sideBar": true,
   "skip_h1_title": true,
   "title_cell": "Table of Contents",
   "title_sidebar": "Contents",
   "toc_cell": false,
   "toc_position": {
    "height": "465.8088073730469px",
    "left": "1108.0882568359375px",
    "top": "289.4668884277344px",
    "width": "273.54779052734375px"
   },
   "toc_section_display": true,
   "toc_window_display": true
  }
 },
 "nbformat": 4,
 "nbformat_minor": 4
}
