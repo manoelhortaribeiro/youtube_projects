{
 "cells": [
  {
   "cell_type": "code",
   "execution_count": 1,
   "metadata": {},
   "outputs": [],
   "source": [
    "import gensim\n",
    "import logging\n",
    "import pickle\n",
    "import random\n",
    "import scipy.sparse\n",
    "import sys\n",
    "\n",
    "import numpy as np\n",
    "\n",
    "from pyspark import SparkContext\n",
    "from sklearn.decomposition import LatentDirichletAllocation"
   ]
  },
  {
   "cell_type": "code",
   "execution_count": 2,
   "metadata": {},
   "outputs": [],
   "source": [
    "def remove_zero_rows(M):\n",
    "    '''Function that removes all rows from sparse matrix M that contains only zero.'''\n",
    "    num_nonzeros = np.diff(M.indptr)\n",
    "    return M[num_nonzeros != 0]"
   ]
  },
  {
   "cell_type": "code",
   "execution_count": 3,
   "metadata": {},
   "outputs": [],
   "source": [
    "# Load the full sparse matrix\n",
    "S = scipy.sparse.load_npz('/dlabdata1/youtube_large/olam/matrices/S_full.npz')"
   ]
  },
  {
   "cell_type": "code",
   "execution_count": 4,
   "metadata": {},
   "outputs": [],
   "source": [
    "S = remove_zero_rows(S)"
   ]
  },
  {
   "cell_type": "code",
   "execution_count": 5,
   "metadata": {},
   "outputs": [],
   "source": [
    "# Load dictionnary of tokens\n",
    "with open('/dlabdata1/youtube_large/olam/list_stemmed_tokens.pickle', 'rb') as f:\n",
    "    list_stemmed_tokens = pickle.load(f)\n",
    "f.close()"
   ]
  },
  {
   "cell_type": "code",
   "execution_count": 6,
   "metadata": {},
   "outputs": [],
   "source": [
    "# Load the set of videos to be considered\n",
    "with open('/dlabdata1/youtube_large/olam/idx_vid_to_consider.pickle', 'rb') as f:\n",
    "    idx_vid_to_consider = pickle.load(f)\n",
    "f.close()"
   ]
  },
  {
   "cell_type": "code",
   "execution_count": 7,
   "metadata": {},
   "outputs": [],
   "source": [
    "oldidx2newidx = {}"
   ]
  },
  {
   "cell_type": "code",
   "execution_count": 8,
   "metadata": {},
   "outputs": [],
   "source": [
    "for i, idx_vid in enumerate(idx_vid_to_consider):\n",
    "    oldidx2newidx[idx_vid] = i"
   ]
  },
  {
   "cell_type": "markdown",
   "metadata": {},
   "source": [
    "## Prep-process "
   ]
  },
  {
   "cell_type": "markdown",
   "metadata": {},
   "source": [
    "### A) Remove non-frequent tokens"
   ]
  },
  {
   "cell_type": "code",
   "execution_count": 9,
   "metadata": {},
   "outputs": [],
   "source": [
    "# Convert to csc in order to fast check the number of non zero element in each column \n",
    "S = S.tocsc()"
   ]
  },
  {
   "cell_type": "code",
   "execution_count": 10,
   "metadata": {},
   "outputs": [],
   "source": [
    "id_tokens_to_consider = []"
   ]
  },
  {
   "cell_type": "code",
   "execution_count": 11,
   "metadata": {
    "scrolled": true
   },
   "outputs": [
    {
     "name": "stdout",
     "output_type": "stream",
     "text": [
      "Processed : 0 videos\n",
      "Processed : 1000000 videos\n",
      "Processed : 2000000 videos\n",
      "Processed : 3000000 videos\n",
      "Processed : 4000000 videos\n",
      "Processed : 5000000 videos\n",
      "Processed : 6000000 videos\n",
      "Processed : 7000000 videos\n"
     ]
    }
   ],
   "source": [
    "# Iterate on the columns\n",
    "for i in range(S.shape[1]):\n",
    "    \n",
    "    if i%1000000 == 0:\n",
    "        print('Processed : ' + str(i) + ' tokens')\n",
    "        \n",
    "    # Check column has more than 20 non zero entries\n",
    "    if S[:,i].count_nonzero() >= 20:\n",
    "        id_tokens_to_consider.append(i)"
   ]
  },
  {
   "cell_type": "code",
   "execution_count": 12,
   "metadata": {},
   "outputs": [
    {
     "data": {
      "text/plain": [
       "744141"
      ]
     },
     "execution_count": 12,
     "metadata": {},
     "output_type": "execute_result"
    }
   ],
   "source": [
    "len(id_tokens_to_consider)"
   ]
  },
  {
   "cell_type": "code",
   "execution_count": 13,
   "metadata": {},
   "outputs": [],
   "source": [
    "S = S[:,id_tokens_to_consider]"
   ]
  },
  {
   "cell_type": "code",
   "execution_count": 14,
   "metadata": {},
   "outputs": [],
   "source": [
    "oldtokenid2newtokenid = {}"
   ]
  },
  {
   "cell_type": "code",
   "execution_count": 15,
   "metadata": {},
   "outputs": [],
   "source": [
    "# Get old token id from the new token id\n",
    "for i, old_id in enumerate(id_tokens_to_consider):\n",
    "    oldtokenid2newtokenid[old_id] = i"
   ]
  },
  {
   "cell_type": "code",
   "execution_count": 16,
   "metadata": {},
   "outputs": [],
   "source": [
    "set_oldid_token_to_consider = set(oldtokenid2newtokenid.keys())"
   ]
  },
  {
   "cell_type": "code",
   "execution_count": 17,
   "metadata": {},
   "outputs": [],
   "source": [
    "# Get token for each column index\n",
    "id2word = {}\n",
    "\n",
    "for i, token in enumerate(list_stemmed_tokens):\n",
    "    \n",
    "    if i in set_oldid_token_to_consider:\n",
    "        id2word[oldtokenid2newtokenid[i]] = token"
   ]
  },
  {
   "cell_type": "code",
   "execution_count": 18,
   "metadata": {},
   "outputs": [],
   "source": [
    "with open('/dlabdata1/youtube_large/olam/id2word.pickle', 'wb') as f:\n",
    "    pickle.dump(id2word, f)\n",
    "f.close()"
   ]
  },
  {
   "cell_type": "code",
   "execution_count": 21,
   "metadata": {},
   "outputs": [],
   "source": [
    "# Convert back to csr since there is 100 times more rows than columns! (Memory efficient)\n",
    "S = S.tocsr()"
   ]
  },
  {
   "cell_type": "code",
   "execution_count": 22,
   "metadata": {},
   "outputs": [
    {
     "data": {
      "text/plain": [
       "<68638982x744141 sparse matrix of type '<class 'numpy.uint8'>'\n",
       "\twith 1393937498 stored elements in Compressed Sparse Row format>"
      ]
     },
     "execution_count": 22,
     "metadata": {},
     "output_type": "execute_result"
    }
   ],
   "source": [
    "S"
   ]
  },
  {
   "cell_type": "code",
   "execution_count": 23,
   "metadata": {},
   "outputs": [],
   "source": [
    "scipy.sparse.save_npz('/dlabdata1/youtube_large/olam/matrices/S_final.npz', S)"
   ]
  },
  {
   "cell_type": "code",
   "execution_count": null,
   "metadata": {},
   "outputs": [],
   "source": []
  },
  {
   "cell_type": "code",
   "execution_count": null,
   "metadata": {},
   "outputs": [],
   "source": []
  },
  {
   "cell_type": "code",
   "execution_count": 27,
   "metadata": {},
   "outputs": [],
   "source": [
    "S = S.transpose()"
   ]
  },
  {
   "cell_type": "code",
   "execution_count": 28,
   "metadata": {},
   "outputs": [],
   "source": [
    "corpus = gensim.matutils.Sparse2Corpus(S)"
   ]
  },
  {
   "cell_type": "code",
   "execution_count": 21,
   "metadata": {},
   "outputs": [
    {
     "data": {
      "text/plain": [
       "<gensim.matutils.Sparse2Corpus at 0x7f8732c8f890>"
      ]
     },
     "execution_count": 21,
     "metadata": {},
     "output_type": "execute_result"
    }
   ],
   "source": [
    "corpus"
   ]
  },
  {
   "cell_type": "code",
   "execution_count": 22,
   "metadata": {},
   "outputs": [],
   "source": [
    "# Set up log to terminal\n",
    "import logging\n",
    "logging.basicConfig(format='%(asctime)s : %(levelname)s : %(message)s', level=logging.INFO)"
   ]
  },
  {
   "cell_type": "code",
   "execution_count": 24,
   "metadata": {
    "scrolled": true
   },
   "outputs": [
    {
     "name": "stderr",
     "output_type": "stream",
     "text": [
      "2020-10-02 17:59:34,021 : INFO : using symmetric alpha at 0.05\n",
      "2020-10-02 17:59:34,023 : INFO : using symmetric eta at 0.05\n",
      "2020-10-02 17:59:34,133 : INFO : using serial LDA version on this node\n",
      "2020-10-02 17:59:35,852 : INFO : running online LDA training, 20 topics, 10 passes over the supplied corpus of 68638982 documents, updating every 300 documents, evaluating every ~3000 documents, iterating 50x with a convergence threshold of 0.001000\n",
      "2020-10-02 17:59:35,856 : INFO : training LDA model using 3 processes\n",
      "2020-10-02 17:59:36,465 : INFO : PROGRESS: pass 0, dispatched chunk #0 = documents up to #100/68638982, outstanding queue size 1\n",
      "2020-10-02 17:59:37,790 : INFO : PROGRESS: pass 0, dispatched chunk #1 = documents up to #200/68638982, outstanding queue size 2\n",
      "2020-10-02 17:59:37,793 : INFO : PROGRESS: pass 0, dispatched chunk #2 = documents up to #300/68638982, outstanding queue size 3\n",
      "2020-10-02 17:59:37,797 : INFO : PROGRESS: pass 0, dispatched chunk #3 = documents up to #400/68638982, outstanding queue size 4\n",
      "2020-10-02 17:59:37,799 : INFO : PROGRESS: pass 0, dispatched chunk #4 = documents up to #500/68638982, outstanding queue size 5\n",
      "2020-10-02 17:59:37,802 : INFO : PROGRESS: pass 0, dispatched chunk #5 = documents up to #600/68638982, outstanding queue size 6\n",
      "Process ForkPoolWorker-19:\n",
      "Traceback (most recent call last):\n",
      "2020-10-02 17:59:38,306 : INFO : PROGRESS: pass 0, dispatched chunk #6 = documents up to #700/68638982, outstanding queue size 7\n",
      "  File \"/opt/anaconda3/lib/python3.7/multiprocessing/process.py\", line 297, in _bootstrap\n",
      "    self.run()\n",
      "2020-10-02 17:59:38,974 : INFO : PROGRESS: pass 0, dispatched chunk #7 = documents up to #800/68638982, outstanding queue size 8\n",
      "  File \"/opt/anaconda3/lib/python3.7/multiprocessing/process.py\", line 99, in run\n",
      "    self._target(*self._args, **self._kwargs)\n",
      "  File \"/opt/anaconda3/lib/python3.7/multiprocessing/pool.py\", line 105, in worker\n",
      "    initializer(*initargs)\n",
      "2020-10-02 17:59:39,911 : INFO : PROGRESS: pass 0, dispatched chunk #8 = documents up to #900/68638982, outstanding queue size 9\n",
      "  File \"/home/olam/.local/lib/python3.7/site-packages/gensim/models/ldamulticore.py\", line 337, in worker_e_step\n",
      "    worker_lda.do_estep(chunk)  # TODO: auto-tune alpha?\n",
      "  File \"/home/olam/.local/lib/python3.7/site-packages/gensim/models/ldamodel.py\", line 742, in do_estep\n",
      "    gamma, sstats = self.inference(chunk, collect_sstats=True)\n",
      "2020-10-02 17:59:41,469 : INFO : PROGRESS: pass 0, dispatched chunk #9 = documents up to #1000/68638982, outstanding queue size 10\n",
      "  File \"/home/olam/.local/lib/python3.7/site-packages/gensim/models/ldamodel.py\", line 680, in inference\n",
      "    expElogbetad = self.expElogbeta[:, ids]\n",
      "IndexError: index 1064630 is out of bounds for axis 1 with size 744141\n",
      "Process ForkPoolWorker-20:\n",
      "Traceback (most recent call last):\n",
      "2020-10-02 17:59:44,685 : INFO : PROGRESS: pass 0, dispatched chunk #10 = documents up to #1100/68638982, outstanding queue size 11\n",
      "  File \"/opt/anaconda3/lib/python3.7/multiprocessing/process.py\", line 297, in _bootstrap\n",
      "    self.run()\n",
      "  File \"/opt/anaconda3/lib/python3.7/multiprocessing/process.py\", line 99, in run\n",
      "    self._target(*self._args, **self._kwargs)\n",
      "  File \"/opt/anaconda3/lib/python3.7/multiprocessing/pool.py\", line 105, in worker\n",
      "    initializer(*initargs)\n",
      "  File \"/home/olam/.local/lib/python3.7/site-packages/gensim/models/ldamulticore.py\", line 337, in worker_e_step\n",
      "    worker_lda.do_estep(chunk)  # TODO: auto-tune alpha?\n",
      "  File \"/home/olam/.local/lib/python3.7/site-packages/gensim/models/ldamodel.py\", line 742, in do_estep\n",
      "    gamma, sstats = self.inference(chunk, collect_sstats=True)\n",
      "  File \"/home/olam/.local/lib/python3.7/site-packages/gensim/models/ldamodel.py\", line 680, in inference\n",
      "    expElogbetad = self.expElogbeta[:, ids]\n",
      "2020-10-02 17:59:46,907 : INFO : PROGRESS: pass 0, dispatched chunk #11 = documents up to #1200/68638982, outstanding queue size 12\n",
      "IndexError: index 1089234 is out of bounds for axis 1 with size 744141\n",
      "Process ForkPoolWorker-21:\n",
      "2020-10-02 17:59:48,041 : INFO : PROGRESS: pass 0, dispatched chunk #12 = documents up to #1300/68638982, outstanding queue size 13\n",
      "Traceback (most recent call last):\n",
      "  File \"/opt/anaconda3/lib/python3.7/multiprocessing/process.py\", line 297, in _bootstrap\n",
      "    self.run()\n",
      "  File \"/opt/anaconda3/lib/python3.7/multiprocessing/process.py\", line 99, in run\n",
      "    self._target(*self._args, **self._kwargs)\n",
      "  File \"/opt/anaconda3/lib/python3.7/multiprocessing/pool.py\", line 105, in worker\n",
      "    initializer(*initargs)\n",
      "2020-10-02 17:59:51,469 : INFO : PROGRESS: pass 0, dispatched chunk #13 = documents up to #1400/68638982, outstanding queue size 14\n",
      "  File \"/home/olam/.local/lib/python3.7/site-packages/gensim/models/ldamulticore.py\", line 337, in worker_e_step\n",
      "    worker_lda.do_estep(chunk)  # TODO: auto-tune alpha?\n",
      "  File \"/home/olam/.local/lib/python3.7/site-packages/gensim/models/ldamodel.py\", line 742, in do_estep\n",
      "    gamma, sstats = self.inference(chunk, collect_sstats=True)\n",
      "  File \"/home/olam/.local/lib/python3.7/site-packages/gensim/models/ldamodel.py\", line 680, in inference\n",
      "    expElogbetad = self.expElogbeta[:, ids]\n",
      "IndexError: index 838134 is out of bounds for axis 1 with size 744141\n",
      "2020-10-02 17:59:54,415 : INFO : PROGRESS: pass 0, dispatched chunk #14 = documents up to #1500/68638982, outstanding queue size 15\n",
      "Process ForkPoolWorker-22:\n",
      "Traceback (most recent call last):\n",
      "  File \"/opt/anaconda3/lib/python3.7/multiprocessing/process.py\", line 297, in _bootstrap\n",
      "    self.run()\n",
      "  File \"/opt/anaconda3/lib/python3.7/multiprocessing/process.py\", line 99, in run\n",
      "    self._target(*self._args, **self._kwargs)\n",
      "2020-10-02 17:59:56,898 : INFO : PROGRESS: pass 0, dispatched chunk #15 = documents up to #1600/68638982, outstanding queue size 16\n",
      "  File \"/opt/anaconda3/lib/python3.7/multiprocessing/pool.py\", line 105, in worker\n",
      "    initializer(*initargs)\n",
      "  File \"/home/olam/.local/lib/python3.7/site-packages/gensim/models/ldamulticore.py\", line 337, in worker_e_step\n",
      "    worker_lda.do_estep(chunk)  # TODO: auto-tune alpha?\n",
      "  File \"/home/olam/.local/lib/python3.7/site-packages/gensim/models/ldamodel.py\", line 742, in do_estep\n",
      "    gamma, sstats = self.inference(chunk, collect_sstats=True)\n",
      "  File \"/home/olam/.local/lib/python3.7/site-packages/gensim/models/ldamodel.py\", line 680, in inference\n",
      "    expElogbetad = self.expElogbeta[:, ids]\n",
      "2020-10-02 17:59:59,742 : INFO : PROGRESS: pass 0, dispatched chunk #16 = documents up to #1700/68638982, outstanding queue size 17\n",
      "IndexError: index 1021003 is out of bounds for axis 1 with size 744141\n",
      "Process ForkPoolWorker-23:\n",
      "Traceback (most recent call last):\n",
      "  File \"/opt/anaconda3/lib/python3.7/multiprocessing/process.py\", line 297, in _bootstrap\n",
      "    self.run()\n",
      "  File \"/opt/anaconda3/lib/python3.7/multiprocessing/process.py\", line 99, in run\n",
      "    self._target(*self._args, **self._kwargs)\n",
      "  File \"/opt/anaconda3/lib/python3.7/multiprocessing/pool.py\", line 105, in worker\n",
      "    initializer(*initargs)\n",
      "2020-10-02 18:00:02,369 : INFO : PROGRESS: pass 0, dispatched chunk #17 = documents up to #1800/68638982, outstanding queue size 18\n",
      "  File \"/home/olam/.local/lib/python3.7/site-packages/gensim/models/ldamulticore.py\", line 337, in worker_e_step\n",
      "    worker_lda.do_estep(chunk)  # TODO: auto-tune alpha?\n",
      "  File \"/home/olam/.local/lib/python3.7/site-packages/gensim/models/ldamodel.py\", line 742, in do_estep\n",
      "    gamma, sstats = self.inference(chunk, collect_sstats=True)\n",
      "  File \"/home/olam/.local/lib/python3.7/site-packages/gensim/models/ldamodel.py\", line 680, in inference\n",
      "    expElogbetad = self.expElogbeta[:, ids]\n",
      "IndexError: index 868024 is out of bounds for axis 1 with size 744141\n",
      "2020-10-02 18:00:04,407 : INFO : PROGRESS: pass 0, dispatched chunk #18 = documents up to #1900/68638982, outstanding queue size 19\n",
      "Process ForkPoolWorker-24:\n",
      "Traceback (most recent call last):\n",
      "  File \"/opt/anaconda3/lib/python3.7/multiprocessing/process.py\", line 297, in _bootstrap\n",
      "    self.run()\n",
      "  File \"/opt/anaconda3/lib/python3.7/multiprocessing/process.py\", line 99, in run\n",
      "    self._target(*self._args, **self._kwargs)\n",
      "  File \"/opt/anaconda3/lib/python3.7/multiprocessing/pool.py\", line 105, in worker\n",
      "    initializer(*initargs)\n"
     ]
    },
    {
     "name": "stderr",
     "output_type": "stream",
     "text": [
      "  File \"/home/olam/.local/lib/python3.7/site-packages/gensim/models/ldamulticore.py\", line 337, in worker_e_step\n",
      "    worker_lda.do_estep(chunk)  # TODO: auto-tune alpha?\n",
      "2020-10-02 18:00:06,128 : INFO : PROGRESS: pass 0, dispatched chunk #19 = documents up to #2000/68638982, outstanding queue size 20\n",
      "  File \"/home/olam/.local/lib/python3.7/site-packages/gensim/models/ldamodel.py\", line 742, in do_estep\n",
      "    gamma, sstats = self.inference(chunk, collect_sstats=True)\n",
      "  File \"/home/olam/.local/lib/python3.7/site-packages/gensim/models/ldamodel.py\", line 680, in inference\n",
      "    expElogbetad = self.expElogbeta[:, ids]\n",
      "IndexError: index 753457 is out of bounds for axis 1 with size 744141\n",
      "Process ForkPoolWorker-25:\n",
      "2020-10-02 18:00:06,376 : INFO : PROGRESS: pass 0, dispatched chunk #20 = documents up to #2100/68638982, outstanding queue size 21\n",
      "Traceback (most recent call last):\n",
      "  File \"/opt/anaconda3/lib/python3.7/multiprocessing/process.py\", line 297, in _bootstrap\n",
      "    self.run()\n",
      "2020-10-02 18:00:08,918 : INFO : PROGRESS: pass 0, dispatched chunk #21 = documents up to #2200/68638982, outstanding queue size 22\n",
      "  File \"/opt/anaconda3/lib/python3.7/multiprocessing/process.py\", line 99, in run\n",
      "    self._target(*self._args, **self._kwargs)\n",
      "  File \"/opt/anaconda3/lib/python3.7/multiprocessing/pool.py\", line 105, in worker\n",
      "    initializer(*initargs)\n",
      "  File \"/home/olam/.local/lib/python3.7/site-packages/gensim/models/ldamulticore.py\", line 337, in worker_e_step\n",
      "    worker_lda.do_estep(chunk)  # TODO: auto-tune alpha?\n",
      "  File \"/home/olam/.local/lib/python3.7/site-packages/gensim/models/ldamodel.py\", line 742, in do_estep\n",
      "    gamma, sstats = self.inference(chunk, collect_sstats=True)\n",
      "2020-10-02 18:00:10,653 : INFO : PROGRESS: pass 0, dispatched chunk #22 = documents up to #2300/68638982, outstanding queue size 23\n",
      "  File \"/home/olam/.local/lib/python3.7/site-packages/gensim/models/ldamodel.py\", line 680, in inference\n",
      "    expElogbetad = self.expElogbeta[:, ids]\n",
      "IndexError: index 963665 is out of bounds for axis 1 with size 744141\n",
      "Process ForkPoolWorker-26:\n",
      "Traceback (most recent call last):\n",
      "2020-10-02 18:00:13,349 : INFO : PROGRESS: pass 0, dispatched chunk #23 = documents up to #2400/68638982, outstanding queue size 24\n",
      "  File \"/opt/anaconda3/lib/python3.7/multiprocessing/process.py\", line 297, in _bootstrap\n",
      "    self.run()\n",
      "  File \"/opt/anaconda3/lib/python3.7/multiprocessing/process.py\", line 99, in run\n",
      "    self._target(*self._args, **self._kwargs)\n",
      "  File \"/opt/anaconda3/lib/python3.7/multiprocessing/pool.py\", line 105, in worker\n",
      "    initializer(*initargs)\n",
      "  File \"/home/olam/.local/lib/python3.7/site-packages/gensim/models/ldamulticore.py\", line 337, in worker_e_step\n",
      "    worker_lda.do_estep(chunk)  # TODO: auto-tune alpha?\n",
      "2020-10-02 18:00:16,168 : INFO : PROGRESS: pass 0, dispatched chunk #24 = documents up to #2500/68638982, outstanding queue size 25\n",
      "  File \"/home/olam/.local/lib/python3.7/site-packages/gensim/models/ldamodel.py\", line 742, in do_estep\n",
      "    gamma, sstats = self.inference(chunk, collect_sstats=True)\n",
      "  File \"/home/olam/.local/lib/python3.7/site-packages/gensim/models/ldamodel.py\", line 680, in inference\n",
      "    expElogbetad = self.expElogbeta[:, ids]\n",
      "IndexError: index 916109 is out of bounds for axis 1 with size 744141\n",
      "Process ForkPoolWorker-27:\n",
      "Traceback (most recent call last):\n",
      "  File \"/opt/anaconda3/lib/python3.7/multiprocessing/process.py\", line 297, in _bootstrap\n",
      "    self.run()\n",
      "  File \"/opt/anaconda3/lib/python3.7/multiprocessing/process.py\", line 99, in run\n",
      "    self._target(*self._args, **self._kwargs)\n",
      "  File \"/opt/anaconda3/lib/python3.7/multiprocessing/pool.py\", line 105, in worker\n",
      "    initializer(*initargs)\n",
      "2020-10-02 18:00:18,379 : INFO : PROGRESS: pass 0, dispatched chunk #25 = documents up to #2600/68638982, outstanding queue size 26\n",
      "  File \"/home/olam/.local/lib/python3.7/site-packages/gensim/models/ldamulticore.py\", line 337, in worker_e_step\n",
      "    worker_lda.do_estep(chunk)  # TODO: auto-tune alpha?\n",
      "  File \"/home/olam/.local/lib/python3.7/site-packages/gensim/models/ldamodel.py\", line 742, in do_estep\n",
      "    gamma, sstats = self.inference(chunk, collect_sstats=True)\n",
      "  File \"/home/olam/.local/lib/python3.7/site-packages/gensim/models/ldamodel.py\", line 680, in inference\n",
      "    expElogbetad = self.expElogbeta[:, ids]\n",
      "IndexError: index 916109 is out of bounds for axis 1 with size 744141\n",
      "2020-10-02 18:00:19,838 : INFO : PROGRESS: pass 0, dispatched chunk #26 = documents up to #2700/68638982, outstanding queue size 27\n",
      "Process ForkPoolWorker-28:\n",
      "Traceback (most recent call last):\n",
      "  File \"/opt/anaconda3/lib/python3.7/multiprocessing/process.py\", line 297, in _bootstrap\n",
      "    self.run()\n",
      "  File \"/opt/anaconda3/lib/python3.7/multiprocessing/process.py\", line 99, in run\n",
      "    self._target(*self._args, **self._kwargs)\n",
      "2020-10-02 18:00:22,555 : INFO : PROGRESS: pass 0, dispatched chunk #27 = documents up to #2800/68638982, outstanding queue size 28\n",
      "  File \"/opt/anaconda3/lib/python3.7/multiprocessing/pool.py\", line 105, in worker\n",
      "    initializer(*initargs)\n",
      "  File \"/home/olam/.local/lib/python3.7/site-packages/gensim/models/ldamulticore.py\", line 337, in worker_e_step\n",
      "    worker_lda.do_estep(chunk)  # TODO: auto-tune alpha?\n",
      "  File \"/home/olam/.local/lib/python3.7/site-packages/gensim/models/ldamodel.py\", line 742, in do_estep\n",
      "    gamma, sstats = self.inference(chunk, collect_sstats=True)\n",
      "  File \"/home/olam/.local/lib/python3.7/site-packages/gensim/models/ldamodel.py\", line 680, in inference\n",
      "    expElogbetad = self.expElogbeta[:, ids]\n",
      "2020-10-02 18:00:25,789 : INFO : PROGRESS: pass 0, dispatched chunk #28 = documents up to #2900/68638982, outstanding queue size 29\n",
      "IndexError: index 916109 is out of bounds for axis 1 with size 744141\n",
      "Process ForkPoolWorker-29:\n",
      "Traceback (most recent call last):\n",
      "  File \"/opt/anaconda3/lib/python3.7/multiprocessing/process.py\", line 297, in _bootstrap\n",
      "    self.run()\n",
      "2020-10-02 18:00:28,615 : INFO : PROGRESS: pass 0, dispatched chunk #29 = documents up to #3000/68638982, outstanding queue size 30\n",
      "  File \"/opt/anaconda3/lib/python3.7/multiprocessing/process.py\", line 99, in run\n",
      "    self._target(*self._args, **self._kwargs)\n",
      "  File \"/opt/anaconda3/lib/python3.7/multiprocessing/pool.py\", line 105, in worker\n",
      "    initializer(*initargs)\n",
      "  File \"/home/olam/.local/lib/python3.7/site-packages/gensim/models/ldamulticore.py\", line 337, in worker_e_step\n",
      "    worker_lda.do_estep(chunk)  # TODO: auto-tune alpha?\n",
      "  File \"/home/olam/.local/lib/python3.7/site-packages/gensim/models/ldamodel.py\", line 742, in do_estep\n",
      "    gamma, sstats = self.inference(chunk, collect_sstats=True)\n",
      "  File \"/home/olam/.local/lib/python3.7/site-packages/gensim/models/ldamodel.py\", line 680, in inference\n",
      "    expElogbetad = self.expElogbeta[:, ids]\n",
      "IndexError: index 916109 is out of bounds for axis 1 with size 744141\n",
      "Process ForkPoolWorker-30:\n",
      "Traceback (most recent call last):\n",
      "2020-10-02 18:00:30,492 : INFO : PROGRESS: pass 0, dispatched chunk #30 = documents up to #3100/68638982, outstanding queue size 31\n",
      "  File \"/opt/anaconda3/lib/python3.7/multiprocessing/process.py\", line 297, in _bootstrap\n",
      "    self.run()\n",
      "  File \"/opt/anaconda3/lib/python3.7/multiprocessing/process.py\", line 99, in run\n",
      "    self._target(*self._args, **self._kwargs)\n",
      "2020-10-02 18:00:31,053 : INFO : PROGRESS: pass 0, dispatched chunk #31 = documents up to #3200/68638982, outstanding queue size 32\n",
      "  File \"/opt/anaconda3/lib/python3.7/multiprocessing/pool.py\", line 105, in worker\n",
      "    initializer(*initargs)\n",
      "  File \"/home/olam/.local/lib/python3.7/site-packages/gensim/models/ldamulticore.py\", line 337, in worker_e_step\n",
      "    worker_lda.do_estep(chunk)  # TODO: auto-tune alpha?\n",
      "  File \"/home/olam/.local/lib/python3.7/site-packages/gensim/models/ldamodel.py\", line 742, in do_estep\n",
      "    gamma, sstats = self.inference(chunk, collect_sstats=True)\n",
      "2020-10-02 18:00:36,658 : INFO : PROGRESS: pass 0, dispatched chunk #32 = documents up to #3300/68638982, outstanding queue size 33\n",
      "  File \"/home/olam/.local/lib/python3.7/site-packages/gensim/models/ldamodel.py\", line 680, in inference\n",
      "    expElogbetad = self.expElogbeta[:, ids]\n",
      "IndexError: index 916109 is out of bounds for axis 1 with size 744141\n",
      "Process ForkPoolWorker-31:\n"
     ]
    },
    {
     "name": "stderr",
     "output_type": "stream",
     "text": [
      "Traceback (most recent call last):\n",
      "  File \"/opt/anaconda3/lib/python3.7/multiprocessing/process.py\", line 297, in _bootstrap\n",
      "    self.run()\n",
      "2020-10-02 18:00:38,541 : INFO : PROGRESS: pass 0, dispatched chunk #33 = documents up to #3400/68638982, outstanding queue size 34\n",
      "  File \"/opt/anaconda3/lib/python3.7/multiprocessing/process.py\", line 99, in run\n",
      "    self._target(*self._args, **self._kwargs)\n",
      "  File \"/opt/anaconda3/lib/python3.7/multiprocessing/pool.py\", line 105, in worker\n",
      "    initializer(*initargs)\n",
      "  File \"/home/olam/.local/lib/python3.7/site-packages/gensim/models/ldamulticore.py\", line 337, in worker_e_step\n",
      "    worker_lda.do_estep(chunk)  # TODO: auto-tune alpha?\n",
      "  File \"/home/olam/.local/lib/python3.7/site-packages/gensim/models/ldamodel.py\", line 742, in do_estep\n",
      "    gamma, sstats = self.inference(chunk, collect_sstats=True)\n",
      "2020-10-02 18:00:40,706 : INFO : PROGRESS: pass 0, dispatched chunk #34 = documents up to #3500/68638982, outstanding queue size 35\n",
      "  File \"/home/olam/.local/lib/python3.7/site-packages/gensim/models/ldamodel.py\", line 680, in inference\n",
      "    expElogbetad = self.expElogbeta[:, ids]\n",
      "IndexError: index 916109 is out of bounds for axis 1 with size 744141\n",
      "Process ForkPoolWorker-32:\n",
      "Traceback (most recent call last):\n",
      "2020-10-02 18:00:43,810 : INFO : PROGRESS: pass 0, dispatched chunk #35 = documents up to #3600/68638982, outstanding queue size 36\n",
      "  File \"/opt/anaconda3/lib/python3.7/multiprocessing/process.py\", line 297, in _bootstrap\n",
      "    self.run()\n",
      "  File \"/opt/anaconda3/lib/python3.7/multiprocessing/process.py\", line 99, in run\n",
      "    self._target(*self._args, **self._kwargs)\n",
      "  File \"/opt/anaconda3/lib/python3.7/multiprocessing/pool.py\", line 105, in worker\n",
      "    initializer(*initargs)\n",
      "  File \"/home/olam/.local/lib/python3.7/site-packages/gensim/models/ldamulticore.py\", line 337, in worker_e_step\n",
      "    worker_lda.do_estep(chunk)  # TODO: auto-tune alpha?\n",
      "2020-10-02 18:00:47,369 : INFO : PROGRESS: pass 0, dispatched chunk #36 = documents up to #3700/68638982, outstanding queue size 37\n",
      "  File \"/home/olam/.local/lib/python3.7/site-packages/gensim/models/ldamodel.py\", line 742, in do_estep\n",
      "    gamma, sstats = self.inference(chunk, collect_sstats=True)\n",
      "  File \"/home/olam/.local/lib/python3.7/site-packages/gensim/models/ldamodel.py\", line 680, in inference\n",
      "    expElogbetad = self.expElogbeta[:, ids]\n",
      "IndexError: index 1282623 is out of bounds for axis 1 with size 744141\n",
      "Process ForkPoolWorker-33:\n",
      "2020-10-02 18:00:50,041 : INFO : PROGRESS: pass 0, dispatched chunk #37 = documents up to #3800/68638982, outstanding queue size 38\n",
      "Traceback (most recent call last):\n",
      "  File \"/opt/anaconda3/lib/python3.7/multiprocessing/process.py\", line 297, in _bootstrap\n",
      "    self.run()\n",
      "  File \"/opt/anaconda3/lib/python3.7/multiprocessing/process.py\", line 99, in run\n",
      "    self._target(*self._args, **self._kwargs)\n",
      "  File \"/opt/anaconda3/lib/python3.7/multiprocessing/pool.py\", line 105, in worker\n",
      "    initializer(*initargs)\n",
      "  File \"/home/olam/.local/lib/python3.7/site-packages/gensim/models/ldamulticore.py\", line 337, in worker_e_step\n",
      "    worker_lda.do_estep(chunk)  # TODO: auto-tune alpha?\n",
      "  File \"/home/olam/.local/lib/python3.7/site-packages/gensim/models/ldamodel.py\", line 742, in do_estep\n",
      "    gamma, sstats = self.inference(chunk, collect_sstats=True)\n",
      "2020-10-02 18:00:52,683 : INFO : PROGRESS: pass 0, dispatched chunk #38 = documents up to #3900/68638982, outstanding queue size 39\n",
      "  File \"/home/olam/.local/lib/python3.7/site-packages/gensim/models/ldamodel.py\", line 680, in inference\n",
      "    expElogbetad = self.expElogbeta[:, ids]\n",
      "IndexError: index 2255974 is out of bounds for axis 1 with size 744141\n",
      "2020-10-02 18:00:53,801 : INFO : PROGRESS: pass 0, dispatched chunk #39 = documents up to #4000/68638982, outstanding queue size 40\n",
      "Process ForkPoolWorker-34:\n",
      "Traceback (most recent call last):\n",
      "  File \"/opt/anaconda3/lib/python3.7/multiprocessing/process.py\", line 297, in _bootstrap\n",
      "    self.run()\n",
      "  File \"/opt/anaconda3/lib/python3.7/multiprocessing/process.py\", line 99, in run\n",
      "    self._target(*self._args, **self._kwargs)\n",
      "2020-10-02 18:00:56,222 : INFO : PROGRESS: pass 0, dispatched chunk #40 = documents up to #4100/68638982, outstanding queue size 41\n",
      "  File \"/opt/anaconda3/lib/python3.7/multiprocessing/pool.py\", line 105, in worker\n",
      "    initializer(*initargs)\n",
      "  File \"/home/olam/.local/lib/python3.7/site-packages/gensim/models/ldamulticore.py\", line 337, in worker_e_step\n",
      "    worker_lda.do_estep(chunk)  # TODO: auto-tune alpha?\n",
      "  File \"/home/olam/.local/lib/python3.7/site-packages/gensim/models/ldamodel.py\", line 742, in do_estep\n",
      "    gamma, sstats = self.inference(chunk, collect_sstats=True)\n",
      "  File \"/home/olam/.local/lib/python3.7/site-packages/gensim/models/ldamodel.py\", line 680, in inference\n",
      "    expElogbetad = self.expElogbeta[:, ids]\n",
      "2020-10-02 18:00:58,829 : INFO : PROGRESS: pass 0, dispatched chunk #41 = documents up to #4200/68638982, outstanding queue size 42\n",
      "IndexError: index 2333120 is out of bounds for axis 1 with size 744141\n",
      "Process ForkPoolWorker-35:\n",
      "Traceback (most recent call last):\n",
      "  File \"/opt/anaconda3/lib/python3.7/multiprocessing/process.py\", line 297, in _bootstrap\n",
      "    self.run()\n",
      "2020-10-02 18:01:00,657 : INFO : PROGRESS: pass 0, dispatched chunk #42 = documents up to #4300/68638982, outstanding queue size 43\n",
      "  File \"/opt/anaconda3/lib/python3.7/multiprocessing/process.py\", line 99, in run\n",
      "    self._target(*self._args, **self._kwargs)\n",
      "  File \"/opt/anaconda3/lib/python3.7/multiprocessing/pool.py\", line 105, in worker\n",
      "    initializer(*initargs)\n",
      "  File \"/home/olam/.local/lib/python3.7/site-packages/gensim/models/ldamulticore.py\", line 337, in worker_e_step\n",
      "    worker_lda.do_estep(chunk)  # TODO: auto-tune alpha?\n",
      "  File \"/home/olam/.local/lib/python3.7/site-packages/gensim/models/ldamodel.py\", line 742, in do_estep\n",
      "    gamma, sstats = self.inference(chunk, collect_sstats=True)\n",
      "2020-10-02 18:01:02,763 : INFO : PROGRESS: pass 0, dispatched chunk #43 = documents up to #4400/68638982, outstanding queue size 44\n",
      "  File \"/home/olam/.local/lib/python3.7/site-packages/gensim/models/ldamodel.py\", line 680, in inference\n",
      "    expElogbetad = self.expElogbeta[:, ids]\n",
      "IndexError: index 2615452 is out of bounds for axis 1 with size 744141\n",
      "Process ForkPoolWorker-36:\n",
      "Traceback (most recent call last):\n",
      "2020-10-02 18:01:05,612 : INFO : PROGRESS: pass 0, dispatched chunk #44 = documents up to #4500/68638982, outstanding queue size 45\n",
      "  File \"/opt/anaconda3/lib/python3.7/multiprocessing/process.py\", line 297, in _bootstrap\n",
      "    self.run()\n",
      "  File \"/opt/anaconda3/lib/python3.7/multiprocessing/process.py\", line 99, in run\n",
      "    self._target(*self._args, **self._kwargs)\n",
      "  File \"/opt/anaconda3/lib/python3.7/multiprocessing/pool.py\", line 105, in worker\n",
      "    initializer(*initargs)\n",
      "  File \"/home/olam/.local/lib/python3.7/site-packages/gensim/models/ldamulticore.py\", line 337, in worker_e_step\n",
      "    worker_lda.do_estep(chunk)  # TODO: auto-tune alpha?\n",
      "2020-10-02 18:01:08,368 : INFO : PROGRESS: pass 0, dispatched chunk #45 = documents up to #4600/68638982, outstanding queue size 46\n",
      "  File \"/home/olam/.local/lib/python3.7/site-packages/gensim/models/ldamodel.py\", line 742, in do_estep\n",
      "    gamma, sstats = self.inference(chunk, collect_sstats=True)\n",
      "  File \"/home/olam/.local/lib/python3.7/site-packages/gensim/models/ldamodel.py\", line 680, in inference\n",
      "    expElogbetad = self.expElogbeta[:, ids]\n",
      "IndexError: index 1282623 is out of bounds for axis 1 with size 744141\n",
      "Process ForkPoolWorker-37:\n",
      "2020-10-02 18:01:09,989 : INFO : PROGRESS: pass 0, dispatched chunk #46 = documents up to #4700/68638982, outstanding queue size 47\n",
      "Traceback (most recent call last):\n",
      "  File \"/opt/anaconda3/lib/python3.7/multiprocessing/process.py\", line 297, in _bootstrap\n",
      "    self.run()\n",
      "  File \"/opt/anaconda3/lib/python3.7/multiprocessing/process.py\", line 99, in run\n",
      "    self._target(*self._args, **self._kwargs)\n",
      "  File \"/opt/anaconda3/lib/python3.7/multiprocessing/pool.py\", line 105, in worker\n",
      "    initializer(*initargs)\n",
      "  File \"/home/olam/.local/lib/python3.7/site-packages/gensim/models/ldamulticore.py\", line 337, in worker_e_step\n",
      "    worker_lda.do_estep(chunk)  # TODO: auto-tune alpha?\n",
      "  File \"/home/olam/.local/lib/python3.7/site-packages/gensim/models/ldamodel.py\", line 742, in do_estep\n",
      "    gamma, sstats = self.inference(chunk, collect_sstats=True)\n"
     ]
    },
    {
     "name": "stderr",
     "output_type": "stream",
     "text": [
      "2020-10-02 18:01:12,719 : INFO : PROGRESS: pass 0, dispatched chunk #47 = documents up to #4800/68638982, outstanding queue size 48\n",
      "  File \"/home/olam/.local/lib/python3.7/site-packages/gensim/models/ldamodel.py\", line 680, in inference\n",
      "    expElogbetad = self.expElogbeta[:, ids]\n",
      "IndexError: index 963665 is out of bounds for axis 1 with size 744141\n",
      "2020-10-02 18:01:14,077 : INFO : PROGRESS: pass 0, dispatched chunk #48 = documents up to #4900/68638982, outstanding queue size 49\n",
      "Process ForkPoolWorker-38:\n",
      "Traceback (most recent call last):\n",
      "  File \"/opt/anaconda3/lib/python3.7/multiprocessing/process.py\", line 297, in _bootstrap\n",
      "    self.run()\n",
      "  File \"/opt/anaconda3/lib/python3.7/multiprocessing/process.py\", line 99, in run\n",
      "    self._target(*self._args, **self._kwargs)\n",
      "2020-10-02 18:01:15,251 : INFO : PROGRESS: pass 0, dispatched chunk #49 = documents up to #5000/68638982, outstanding queue size 50\n",
      "  File \"/opt/anaconda3/lib/python3.7/multiprocessing/pool.py\", line 105, in worker\n",
      "    initializer(*initargs)\n",
      "  File \"/home/olam/.local/lib/python3.7/site-packages/gensim/models/ldamulticore.py\", line 337, in worker_e_step\n",
      "    worker_lda.do_estep(chunk)  # TODO: auto-tune alpha?\n",
      "  File \"/home/olam/.local/lib/python3.7/site-packages/gensim/models/ldamodel.py\", line 742, in do_estep\n",
      "    gamma, sstats = self.inference(chunk, collect_sstats=True)\n",
      "  File \"/home/olam/.local/lib/python3.7/site-packages/gensim/models/ldamodel.py\", line 680, in inference\n",
      "    expElogbetad = self.expElogbeta[:, ids]\n",
      "2020-10-02 18:01:16,790 : INFO : PROGRESS: pass 0, dispatched chunk #50 = documents up to #5100/68638982, outstanding queue size 51\n",
      "IndexError: index 2585040 is out of bounds for axis 1 with size 744141\n",
      "Process ForkPoolWorker-39:\n",
      "Traceback (most recent call last):\n",
      "  File \"/opt/anaconda3/lib/python3.7/multiprocessing/process.py\", line 297, in _bootstrap\n",
      "    self.run()\n",
      "2020-10-02 18:01:18,713 : INFO : PROGRESS: pass 0, dispatched chunk #51 = documents up to #5200/68638982, outstanding queue size 52\n",
      "  File \"/opt/anaconda3/lib/python3.7/multiprocessing/process.py\", line 99, in run\n",
      "    self._target(*self._args, **self._kwargs)\n",
      "  File \"/opt/anaconda3/lib/python3.7/multiprocessing/pool.py\", line 105, in worker\n",
      "    initializer(*initargs)\n",
      "  File \"/home/olam/.local/lib/python3.7/site-packages/gensim/models/ldamulticore.py\", line 337, in worker_e_step\n",
      "    worker_lda.do_estep(chunk)  # TODO: auto-tune alpha?\n",
      "  File \"/home/olam/.local/lib/python3.7/site-packages/gensim/models/ldamodel.py\", line 742, in do_estep\n",
      "    gamma, sstats = self.inference(chunk, collect_sstats=True)\n",
      "2020-10-02 18:01:22,196 : INFO : PROGRESS: pass 0, dispatched chunk #52 = documents up to #5300/68638982, outstanding queue size 53\n",
      "  File \"/home/olam/.local/lib/python3.7/site-packages/gensim/models/ldamodel.py\", line 680, in inference\n",
      "    expElogbetad = self.expElogbeta[:, ids]\n",
      "IndexError: index 819003 is out of bounds for axis 1 with size 744141\n",
      "Process ForkPoolWorker-40:\n",
      "Traceback (most recent call last):\n",
      "2020-10-02 18:01:25,029 : INFO : PROGRESS: pass 0, dispatched chunk #53 = documents up to #5400/68638982, outstanding queue size 54\n",
      "  File \"/opt/anaconda3/lib/python3.7/multiprocessing/process.py\", line 297, in _bootstrap\n",
      "    self.run()\n",
      "  File \"/opt/anaconda3/lib/python3.7/multiprocessing/process.py\", line 99, in run\n",
      "    self._target(*self._args, **self._kwargs)\n",
      "  File \"/opt/anaconda3/lib/python3.7/multiprocessing/pool.py\", line 105, in worker\n",
      "    initializer(*initargs)\n",
      "  File \"/home/olam/.local/lib/python3.7/site-packages/gensim/models/ldamulticore.py\", line 337, in worker_e_step\n",
      "    worker_lda.do_estep(chunk)  # TODO: auto-tune alpha?\n",
      "  File \"/home/olam/.local/lib/python3.7/site-packages/gensim/models/ldamodel.py\", line 742, in do_estep\n",
      "    gamma, sstats = self.inference(chunk, collect_sstats=True)\n",
      "  File \"/home/olam/.local/lib/python3.7/site-packages/gensim/models/ldamodel.py\", line 680, in inference\n",
      "    expElogbetad = self.expElogbeta[:, ids]\n",
      "IndexError: index 819003 is out of bounds for axis 1 with size 744141\n",
      "Process ForkPoolWorker-41:\n",
      "Traceback (most recent call last):\n",
      "  File \"/opt/anaconda3/lib/python3.7/multiprocessing/process.py\", line 297, in _bootstrap\n",
      "    self.run()\n",
      "  File \"/opt/anaconda3/lib/python3.7/multiprocessing/process.py\", line 99, in run\n",
      "    self._target(*self._args, **self._kwargs)\n",
      "  File \"/opt/anaconda3/lib/python3.7/multiprocessing/pool.py\", line 105, in worker\n",
      "    initializer(*initargs)\n",
      "2020-10-02 18:01:27,892 : INFO : PROGRESS: pass 0, dispatched chunk #54 = documents up to #5500/68638982, outstanding queue size 55\n",
      "  File \"/home/olam/.local/lib/python3.7/site-packages/gensim/models/ldamulticore.py\", line 337, in worker_e_step\n",
      "    worker_lda.do_estep(chunk)  # TODO: auto-tune alpha?\n",
      "  File \"/home/olam/.local/lib/python3.7/site-packages/gensim/models/ldamodel.py\", line 742, in do_estep\n",
      "    gamma, sstats = self.inference(chunk, collect_sstats=True)\n",
      "  File \"/home/olam/.local/lib/python3.7/site-packages/gensim/models/ldamodel.py\", line 680, in inference\n",
      "    expElogbetad = self.expElogbeta[:, ids]\n",
      "IndexError: index 819003 is out of bounds for axis 1 with size 744141\n",
      "2020-10-02 18:01:30,577 : INFO : PROGRESS: pass 0, dispatched chunk #55 = documents up to #5600/68638982, outstanding queue size 56\n",
      "Process ForkPoolWorker-42:\n",
      "Traceback (most recent call last):\n",
      "  File \"/opt/anaconda3/lib/python3.7/multiprocessing/process.py\", line 297, in _bootstrap\n",
      "    self.run()\n",
      "  File \"/opt/anaconda3/lib/python3.7/multiprocessing/process.py\", line 99, in run\n",
      "    self._target(*self._args, **self._kwargs)\n",
      "2020-10-02 18:01:33,308 : INFO : PROGRESS: pass 0, dispatched chunk #56 = documents up to #5700/68638982, outstanding queue size 57\n",
      "  File \"/opt/anaconda3/lib/python3.7/multiprocessing/pool.py\", line 105, in worker\n",
      "    initializer(*initargs)\n",
      "  File \"/home/olam/.local/lib/python3.7/site-packages/gensim/models/ldamulticore.py\", line 337, in worker_e_step\n",
      "    worker_lda.do_estep(chunk)  # TODO: auto-tune alpha?\n",
      "  File \"/home/olam/.local/lib/python3.7/site-packages/gensim/models/ldamodel.py\", line 742, in do_estep\n",
      "    gamma, sstats = self.inference(chunk, collect_sstats=True)\n",
      "  File \"/home/olam/.local/lib/python3.7/site-packages/gensim/models/ldamodel.py\", line 680, in inference\n",
      "    expElogbetad = self.expElogbeta[:, ids]\n",
      "2020-10-02 18:01:35,181 : INFO : PROGRESS: pass 0, dispatched chunk #57 = documents up to #5800/68638982, outstanding queue size 58\n",
      "IndexError: index 869488 is out of bounds for axis 1 with size 744141\n",
      "Process ForkPoolWorker-43:\n",
      "Traceback (most recent call last):\n",
      "  File \"/opt/anaconda3/lib/python3.7/multiprocessing/process.py\", line 297, in _bootstrap\n",
      "    self.run()\n",
      "2020-10-02 18:01:38,483 : INFO : PROGRESS: pass 0, dispatched chunk #58 = documents up to #5900/68638982, outstanding queue size 59\n",
      "  File \"/opt/anaconda3/lib/python3.7/multiprocessing/process.py\", line 99, in run\n",
      "    self._target(*self._args, **self._kwargs)\n",
      "  File \"/opt/anaconda3/lib/python3.7/multiprocessing/pool.py\", line 105, in worker\n",
      "    initializer(*initargs)\n",
      "  File \"/home/olam/.local/lib/python3.7/site-packages/gensim/models/ldamulticore.py\", line 337, in worker_e_step\n",
      "    worker_lda.do_estep(chunk)  # TODO: auto-tune alpha?\n",
      "  File \"/home/olam/.local/lib/python3.7/site-packages/gensim/models/ldamodel.py\", line 742, in do_estep\n",
      "    gamma, sstats = self.inference(chunk, collect_sstats=True)\n",
      "  File \"/home/olam/.local/lib/python3.7/site-packages/gensim/models/ldamodel.py\", line 680, in inference\n",
      "    expElogbetad = self.expElogbeta[:, ids]\n",
      "IndexError: index 972382 is out of bounds for axis 1 with size 744141\n",
      "Process ForkPoolWorker-44:\n",
      "Traceback (most recent call last):\n"
     ]
    },
    {
     "ename": "KeyboardInterrupt",
     "evalue": "",
     "output_type": "error",
     "traceback": [
      "\u001b[0;31m---------------------------------------------------------------------------\u001b[0m",
      "\u001b[0;31mFull\u001b[0m                                      Traceback (most recent call last)",
      "\u001b[0;32m~/.local/lib/python3.7/site-packages/gensim/models/ldamulticore.py\u001b[0m in \u001b[0;36mupdate\u001b[0;34m(self, corpus, chunks_as_numpy)\u001b[0m\n\u001b[1;32m    291\u001b[0m                     \u001b[0;32mtry\u001b[0m\u001b[0;34m:\u001b[0m\u001b[0;34m\u001b[0m\u001b[0;34m\u001b[0m\u001b[0m\n\u001b[0;32m--> 292\u001b[0;31m                         \u001b[0mjob_queue\u001b[0m\u001b[0;34m.\u001b[0m\u001b[0mput\u001b[0m\u001b[0;34m(\u001b[0m\u001b[0;34m(\u001b[0m\u001b[0mchunk_no\u001b[0m\u001b[0;34m,\u001b[0m \u001b[0mchunk\u001b[0m\u001b[0;34m,\u001b[0m \u001b[0mself\u001b[0m\u001b[0;34m)\u001b[0m\u001b[0;34m,\u001b[0m \u001b[0mblock\u001b[0m\u001b[0;34m=\u001b[0m\u001b[0;32mFalse\u001b[0m\u001b[0;34m)\u001b[0m\u001b[0;34m\u001b[0m\u001b[0;34m\u001b[0m\u001b[0m\n\u001b[0m\u001b[1;32m    293\u001b[0m                         \u001b[0mqueue_size\u001b[0m\u001b[0;34m[\u001b[0m\u001b[0;36m0\u001b[0m\u001b[0;34m]\u001b[0m \u001b[0;34m+=\u001b[0m \u001b[0;36m1\u001b[0m\u001b[0;34m\u001b[0m\u001b[0;34m\u001b[0m\u001b[0m\n",
      "\u001b[0;32m/opt/anaconda3/lib/python3.7/multiprocessing/queues.py\u001b[0m in \u001b[0;36mput\u001b[0;34m(self, obj, block, timeout)\u001b[0m\n\u001b[1;32m     82\u001b[0m         \u001b[0;32mif\u001b[0m \u001b[0;32mnot\u001b[0m \u001b[0mself\u001b[0m\u001b[0;34m.\u001b[0m\u001b[0m_sem\u001b[0m\u001b[0;34m.\u001b[0m\u001b[0macquire\u001b[0m\u001b[0;34m(\u001b[0m\u001b[0mblock\u001b[0m\u001b[0;34m,\u001b[0m \u001b[0mtimeout\u001b[0m\u001b[0;34m)\u001b[0m\u001b[0;34m:\u001b[0m\u001b[0;34m\u001b[0m\u001b[0;34m\u001b[0m\u001b[0m\n\u001b[0;32m---> 83\u001b[0;31m             \u001b[0;32mraise\u001b[0m \u001b[0mFull\u001b[0m\u001b[0;34m\u001b[0m\u001b[0;34m\u001b[0m\u001b[0m\n\u001b[0m\u001b[1;32m     84\u001b[0m \u001b[0;34m\u001b[0m\u001b[0m\n",
      "\u001b[0;31mFull\u001b[0m: ",
      "\nDuring handling of the above exception, another exception occurred:\n",
      "\u001b[0;31mKeyboardInterrupt\u001b[0m                         Traceback (most recent call last)",
      "\u001b[0;32m<ipython-input-24-dc43f65d30fa>\u001b[0m in \u001b[0;36m<module>\u001b[0;34m\u001b[0m\n\u001b[1;32m      5\u001b[0m                                        \u001b[0mchunksize\u001b[0m\u001b[0;34m=\u001b[0m\u001b[0;36m100\u001b[0m\u001b[0;34m,\u001b[0m\u001b[0;34m\u001b[0m\u001b[0;34m\u001b[0m\u001b[0m\n\u001b[1;32m      6\u001b[0m                                        \u001b[0mpasses\u001b[0m\u001b[0;34m=\u001b[0m\u001b[0;36m10\u001b[0m\u001b[0;34m,\u001b[0m\u001b[0;34m\u001b[0m\u001b[0;34m\u001b[0m\u001b[0m\n\u001b[0;32m----> 7\u001b[0;31m                                        per_word_topics=True)\n\u001b[0m",
      "\u001b[0;32m~/.local/lib/python3.7/site-packages/gensim/models/ldamulticore.py\u001b[0m in \u001b[0;36m__init__\u001b[0;34m(self, corpus, num_topics, id2word, workers, chunksize, passes, batch, alpha, eta, decay, offset, eval_every, iterations, gamma_threshold, random_state, minimum_probability, minimum_phi_value, per_word_topics, dtype)\u001b[0m\n\u001b[1;32m    182\u001b[0m             \u001b[0mdecay\u001b[0m\u001b[0;34m=\u001b[0m\u001b[0mdecay\u001b[0m\u001b[0;34m,\u001b[0m \u001b[0moffset\u001b[0m\u001b[0;34m=\u001b[0m\u001b[0moffset\u001b[0m\u001b[0;34m,\u001b[0m \u001b[0meval_every\u001b[0m\u001b[0;34m=\u001b[0m\u001b[0meval_every\u001b[0m\u001b[0;34m,\u001b[0m \u001b[0miterations\u001b[0m\u001b[0;34m=\u001b[0m\u001b[0miterations\u001b[0m\u001b[0;34m,\u001b[0m\u001b[0;34m\u001b[0m\u001b[0;34m\u001b[0m\u001b[0m\n\u001b[1;32m    183\u001b[0m             \u001b[0mgamma_threshold\u001b[0m\u001b[0;34m=\u001b[0m\u001b[0mgamma_threshold\u001b[0m\u001b[0;34m,\u001b[0m \u001b[0mrandom_state\u001b[0m\u001b[0;34m=\u001b[0m\u001b[0mrandom_state\u001b[0m\u001b[0;34m,\u001b[0m \u001b[0mminimum_probability\u001b[0m\u001b[0;34m=\u001b[0m\u001b[0mminimum_probability\u001b[0m\u001b[0;34m,\u001b[0m\u001b[0;34m\u001b[0m\u001b[0;34m\u001b[0m\u001b[0m\n\u001b[0;32m--> 184\u001b[0;31m             \u001b[0mminimum_phi_value\u001b[0m\u001b[0;34m=\u001b[0m\u001b[0mminimum_phi_value\u001b[0m\u001b[0;34m,\u001b[0m \u001b[0mper_word_topics\u001b[0m\u001b[0;34m=\u001b[0m\u001b[0mper_word_topics\u001b[0m\u001b[0;34m,\u001b[0m \u001b[0mdtype\u001b[0m\u001b[0;34m=\u001b[0m\u001b[0mdtype\u001b[0m\u001b[0;34m\u001b[0m\u001b[0;34m\u001b[0m\u001b[0m\n\u001b[0m\u001b[1;32m    185\u001b[0m         )\n\u001b[1;32m    186\u001b[0m \u001b[0;34m\u001b[0m\u001b[0m\n",
      "\u001b[0;32m~/.local/lib/python3.7/site-packages/gensim/models/ldamodel.py\u001b[0m in \u001b[0;36m__init__\u001b[0;34m(self, corpus, num_topics, id2word, distributed, chunksize, passes, update_every, alpha, eta, decay, offset, eval_every, iterations, gamma_threshold, minimum_probability, random_state, ns_conf, minimum_phi_value, per_word_topics, callbacks, dtype)\u001b[0m\n\u001b[1;32m    517\u001b[0m         \u001b[0;32mif\u001b[0m \u001b[0mcorpus\u001b[0m \u001b[0;32mis\u001b[0m \u001b[0;32mnot\u001b[0m \u001b[0;32mNone\u001b[0m\u001b[0;34m:\u001b[0m\u001b[0;34m\u001b[0m\u001b[0;34m\u001b[0m\u001b[0m\n\u001b[1;32m    518\u001b[0m             \u001b[0muse_numpy\u001b[0m \u001b[0;34m=\u001b[0m \u001b[0mself\u001b[0m\u001b[0;34m.\u001b[0m\u001b[0mdispatcher\u001b[0m \u001b[0;32mis\u001b[0m \u001b[0;32mnot\u001b[0m \u001b[0;32mNone\u001b[0m\u001b[0;34m\u001b[0m\u001b[0;34m\u001b[0m\u001b[0m\n\u001b[0;32m--> 519\u001b[0;31m             \u001b[0mself\u001b[0m\u001b[0;34m.\u001b[0m\u001b[0mupdate\u001b[0m\u001b[0;34m(\u001b[0m\u001b[0mcorpus\u001b[0m\u001b[0;34m,\u001b[0m \u001b[0mchunks_as_numpy\u001b[0m\u001b[0;34m=\u001b[0m\u001b[0muse_numpy\u001b[0m\u001b[0;34m)\u001b[0m\u001b[0;34m\u001b[0m\u001b[0;34m\u001b[0m\u001b[0m\n\u001b[0m\u001b[1;32m    520\u001b[0m \u001b[0;34m\u001b[0m\u001b[0m\n\u001b[1;32m    521\u001b[0m     \u001b[0;32mdef\u001b[0m \u001b[0minit_dir_prior\u001b[0m\u001b[0;34m(\u001b[0m\u001b[0mself\u001b[0m\u001b[0;34m,\u001b[0m \u001b[0mprior\u001b[0m\u001b[0;34m,\u001b[0m \u001b[0mname\u001b[0m\u001b[0;34m)\u001b[0m\u001b[0;34m:\u001b[0m\u001b[0;34m\u001b[0m\u001b[0;34m\u001b[0m\u001b[0m\n",
      "\u001b[0;32m~/.local/lib/python3.7/site-packages/gensim/models/ldamulticore.py\u001b[0m in \u001b[0;36mupdate\u001b[0;34m(self, corpus, chunks_as_numpy)\u001b[0m\n\u001b[1;32m    301\u001b[0m                         \u001b[0;31m# in case the input job queue is full, keep clearing the\u001b[0m\u001b[0;34m\u001b[0m\u001b[0;34m\u001b[0m\u001b[0;34m\u001b[0m\u001b[0m\n\u001b[1;32m    302\u001b[0m                         \u001b[0;31m# result queue, to make sure we don't deadlock\u001b[0m\u001b[0;34m\u001b[0m\u001b[0;34m\u001b[0m\u001b[0;34m\u001b[0m\u001b[0m\n\u001b[0;32m--> 303\u001b[0;31m                         \u001b[0mprocess_result_queue\u001b[0m\u001b[0;34m(\u001b[0m\u001b[0;34m)\u001b[0m\u001b[0;34m\u001b[0m\u001b[0;34m\u001b[0m\u001b[0m\n\u001b[0m\u001b[1;32m    304\u001b[0m \u001b[0;34m\u001b[0m\u001b[0m\n\u001b[1;32m    305\u001b[0m                 \u001b[0mprocess_result_queue\u001b[0m\u001b[0;34m(\u001b[0m\u001b[0;34m)\u001b[0m\u001b[0;34m\u001b[0m\u001b[0;34m\u001b[0m\u001b[0m\n",
      "\u001b[0;32m~/.local/lib/python3.7/site-packages/gensim/models/ldamulticore.py\u001b[0m in \u001b[0;36mprocess_result_queue\u001b[0;34m(force)\u001b[0m\n\u001b[1;32m    266\u001b[0m             \"\"\"\n\u001b[1;32m    267\u001b[0m             \u001b[0mmerged_new\u001b[0m \u001b[0;34m=\u001b[0m \u001b[0;32mFalse\u001b[0m\u001b[0;34m\u001b[0m\u001b[0;34m\u001b[0m\u001b[0m\n\u001b[0;32m--> 268\u001b[0;31m             \u001b[0;32mwhile\u001b[0m \u001b[0;32mnot\u001b[0m \u001b[0mresult_queue\u001b[0m\u001b[0;34m.\u001b[0m\u001b[0mempty\u001b[0m\u001b[0;34m(\u001b[0m\u001b[0;34m)\u001b[0m\u001b[0;34m:\u001b[0m\u001b[0;34m\u001b[0m\u001b[0;34m\u001b[0m\u001b[0m\n\u001b[0m\u001b[1;32m    269\u001b[0m                 \u001b[0mother\u001b[0m\u001b[0;34m.\u001b[0m\u001b[0mmerge\u001b[0m\u001b[0;34m(\u001b[0m\u001b[0mresult_queue\u001b[0m\u001b[0;34m.\u001b[0m\u001b[0mget\u001b[0m\u001b[0;34m(\u001b[0m\u001b[0;34m)\u001b[0m\u001b[0;34m)\u001b[0m\u001b[0;34m\u001b[0m\u001b[0;34m\u001b[0m\u001b[0m\n\u001b[1;32m    270\u001b[0m                 \u001b[0mqueue_size\u001b[0m\u001b[0;34m[\u001b[0m\u001b[0;36m0\u001b[0m\u001b[0;34m]\u001b[0m \u001b[0;34m-=\u001b[0m \u001b[0;36m1\u001b[0m\u001b[0;34m\u001b[0m\u001b[0;34m\u001b[0m\u001b[0m\n",
      "\u001b[0;32m/opt/anaconda3/lib/python3.7/multiprocessing/queues.py\u001b[0m in \u001b[0;36mempty\u001b[0;34m(self)\u001b[0m\n\u001b[1;32m    118\u001b[0m \u001b[0;34m\u001b[0m\u001b[0m\n\u001b[1;32m    119\u001b[0m     \u001b[0;32mdef\u001b[0m \u001b[0mempty\u001b[0m\u001b[0;34m(\u001b[0m\u001b[0mself\u001b[0m\u001b[0;34m)\u001b[0m\u001b[0;34m:\u001b[0m\u001b[0;34m\u001b[0m\u001b[0;34m\u001b[0m\u001b[0m\n\u001b[0;32m--> 120\u001b[0;31m         \u001b[0;32mreturn\u001b[0m \u001b[0;32mnot\u001b[0m \u001b[0mself\u001b[0m\u001b[0;34m.\u001b[0m\u001b[0m_poll\u001b[0m\u001b[0;34m(\u001b[0m\u001b[0;34m)\u001b[0m\u001b[0;34m\u001b[0m\u001b[0;34m\u001b[0m\u001b[0m\n\u001b[0m\u001b[1;32m    121\u001b[0m \u001b[0;34m\u001b[0m\u001b[0m\n\u001b[1;32m    122\u001b[0m     \u001b[0;32mdef\u001b[0m \u001b[0mfull\u001b[0m\u001b[0;34m(\u001b[0m\u001b[0mself\u001b[0m\u001b[0;34m)\u001b[0m\u001b[0;34m:\u001b[0m\u001b[0;34m\u001b[0m\u001b[0;34m\u001b[0m\u001b[0m\n",
      "\u001b[0;32m/opt/anaconda3/lib/python3.7/multiprocessing/connection.py\u001b[0m in \u001b[0;36mpoll\u001b[0;34m(self, timeout)\u001b[0m\n\u001b[1;32m    255\u001b[0m         \u001b[0mself\u001b[0m\u001b[0;34m.\u001b[0m\u001b[0m_check_closed\u001b[0m\u001b[0;34m(\u001b[0m\u001b[0;34m)\u001b[0m\u001b[0;34m\u001b[0m\u001b[0;34m\u001b[0m\u001b[0m\n\u001b[1;32m    256\u001b[0m         \u001b[0mself\u001b[0m\u001b[0;34m.\u001b[0m\u001b[0m_check_readable\u001b[0m\u001b[0;34m(\u001b[0m\u001b[0;34m)\u001b[0m\u001b[0;34m\u001b[0m\u001b[0;34m\u001b[0m\u001b[0m\n\u001b[0;32m--> 257\u001b[0;31m         \u001b[0;32mreturn\u001b[0m \u001b[0mself\u001b[0m\u001b[0;34m.\u001b[0m\u001b[0m_poll\u001b[0m\u001b[0;34m(\u001b[0m\u001b[0mtimeout\u001b[0m\u001b[0;34m)\u001b[0m\u001b[0;34m\u001b[0m\u001b[0;34m\u001b[0m\u001b[0m\n\u001b[0m\u001b[1;32m    258\u001b[0m \u001b[0;34m\u001b[0m\u001b[0m\n\u001b[1;32m    259\u001b[0m     \u001b[0;32mdef\u001b[0m \u001b[0m__enter__\u001b[0m\u001b[0;34m(\u001b[0m\u001b[0mself\u001b[0m\u001b[0;34m)\u001b[0m\u001b[0;34m:\u001b[0m\u001b[0;34m\u001b[0m\u001b[0;34m\u001b[0m\u001b[0m\n",
      "\u001b[0;32m/opt/anaconda3/lib/python3.7/multiprocessing/connection.py\u001b[0m in \u001b[0;36m_poll\u001b[0;34m(self, timeout)\u001b[0m\n\u001b[1;32m    412\u001b[0m \u001b[0;34m\u001b[0m\u001b[0m\n\u001b[1;32m    413\u001b[0m     \u001b[0;32mdef\u001b[0m \u001b[0m_poll\u001b[0m\u001b[0;34m(\u001b[0m\u001b[0mself\u001b[0m\u001b[0;34m,\u001b[0m \u001b[0mtimeout\u001b[0m\u001b[0;34m)\u001b[0m\u001b[0;34m:\u001b[0m\u001b[0;34m\u001b[0m\u001b[0;34m\u001b[0m\u001b[0m\n\u001b[0;32m--> 414\u001b[0;31m         \u001b[0mr\u001b[0m \u001b[0;34m=\u001b[0m \u001b[0mwait\u001b[0m\u001b[0;34m(\u001b[0m\u001b[0;34m[\u001b[0m\u001b[0mself\u001b[0m\u001b[0;34m]\u001b[0m\u001b[0;34m,\u001b[0m \u001b[0mtimeout\u001b[0m\u001b[0;34m)\u001b[0m\u001b[0;34m\u001b[0m\u001b[0;34m\u001b[0m\u001b[0m\n\u001b[0m\u001b[1;32m    415\u001b[0m         \u001b[0;32mreturn\u001b[0m \u001b[0mbool\u001b[0m\u001b[0;34m(\u001b[0m\u001b[0mr\u001b[0m\u001b[0;34m)\u001b[0m\u001b[0;34m\u001b[0m\u001b[0;34m\u001b[0m\u001b[0m\n\u001b[1;32m    416\u001b[0m \u001b[0;34m\u001b[0m\u001b[0m\n",
      "\u001b[0;32m/opt/anaconda3/lib/python3.7/multiprocessing/connection.py\u001b[0m in \u001b[0;36mwait\u001b[0;34m(object_list, timeout)\u001b[0m\n\u001b[1;32m    918\u001b[0m \u001b[0;34m\u001b[0m\u001b[0m\n\u001b[1;32m    919\u001b[0m             \u001b[0;32mwhile\u001b[0m \u001b[0;32mTrue\u001b[0m\u001b[0;34m:\u001b[0m\u001b[0;34m\u001b[0m\u001b[0;34m\u001b[0m\u001b[0m\n\u001b[0;32m--> 920\u001b[0;31m                 \u001b[0mready\u001b[0m \u001b[0;34m=\u001b[0m \u001b[0mselector\u001b[0m\u001b[0;34m.\u001b[0m\u001b[0mselect\u001b[0m\u001b[0;34m(\u001b[0m\u001b[0mtimeout\u001b[0m\u001b[0;34m)\u001b[0m\u001b[0;34m\u001b[0m\u001b[0;34m\u001b[0m\u001b[0m\n\u001b[0m\u001b[1;32m    921\u001b[0m                 \u001b[0;32mif\u001b[0m \u001b[0mready\u001b[0m\u001b[0;34m:\u001b[0m\u001b[0;34m\u001b[0m\u001b[0;34m\u001b[0m\u001b[0m\n\u001b[1;32m    922\u001b[0m                     \u001b[0;32mreturn\u001b[0m \u001b[0;34m[\u001b[0m\u001b[0mkey\u001b[0m\u001b[0;34m.\u001b[0m\u001b[0mfileobj\u001b[0m \u001b[0;32mfor\u001b[0m \u001b[0;34m(\u001b[0m\u001b[0mkey\u001b[0m\u001b[0;34m,\u001b[0m \u001b[0mevents\u001b[0m\u001b[0;34m)\u001b[0m \u001b[0;32min\u001b[0m \u001b[0mready\u001b[0m\u001b[0;34m]\u001b[0m\u001b[0;34m\u001b[0m\u001b[0;34m\u001b[0m\u001b[0m\n",
      "\u001b[0;32m/opt/anaconda3/lib/python3.7/selectors.py\u001b[0m in \u001b[0;36mselect\u001b[0;34m(self, timeout)\u001b[0m\n\u001b[1;32m    413\u001b[0m         \u001b[0mready\u001b[0m \u001b[0;34m=\u001b[0m \u001b[0;34m[\u001b[0m\u001b[0;34m]\u001b[0m\u001b[0;34m\u001b[0m\u001b[0;34m\u001b[0m\u001b[0m\n\u001b[1;32m    414\u001b[0m         \u001b[0;32mtry\u001b[0m\u001b[0;34m:\u001b[0m\u001b[0;34m\u001b[0m\u001b[0;34m\u001b[0m\u001b[0m\n\u001b[0;32m--> 415\u001b[0;31m             \u001b[0mfd_event_list\u001b[0m \u001b[0;34m=\u001b[0m \u001b[0mself\u001b[0m\u001b[0;34m.\u001b[0m\u001b[0m_selector\u001b[0m\u001b[0;34m.\u001b[0m\u001b[0mpoll\u001b[0m\u001b[0;34m(\u001b[0m\u001b[0mtimeout\u001b[0m\u001b[0;34m)\u001b[0m\u001b[0;34m\u001b[0m\u001b[0;34m\u001b[0m\u001b[0m\n\u001b[0m\u001b[1;32m    416\u001b[0m         \u001b[0;32mexcept\u001b[0m \u001b[0mInterruptedError\u001b[0m\u001b[0;34m:\u001b[0m\u001b[0;34m\u001b[0m\u001b[0;34m\u001b[0m\u001b[0m\n\u001b[1;32m    417\u001b[0m             \u001b[0;32mreturn\u001b[0m \u001b[0mready\u001b[0m\u001b[0;34m\u001b[0m\u001b[0;34m\u001b[0m\u001b[0m\n",
      "\u001b[0;31mKeyboardInterrupt\u001b[0m: "
     ]
    },
    {
     "name": "stderr",
     "output_type": "stream",
     "text": [
      "  File \"/opt/anaconda3/lib/python3.7/multiprocessing/process.py\", line 297, in _bootstrap\n",
      "    self.run()\n",
      "  File \"/opt/anaconda3/lib/python3.7/multiprocessing/process.py\", line 99, in run\n",
      "    self._target(*self._args, **self._kwargs)\n",
      "  File \"/opt/anaconda3/lib/python3.7/multiprocessing/pool.py\", line 105, in worker\n",
      "    initializer(*initargs)\n",
      "  File \"/home/olam/.local/lib/python3.7/site-packages/gensim/models/ldamulticore.py\", line 337, in worker_e_step\n",
      "    worker_lda.do_estep(chunk)  # TODO: auto-tune alpha?\n",
      "  File \"/home/olam/.local/lib/python3.7/site-packages/gensim/models/ldamodel.py\", line 742, in do_estep\n",
      "    gamma, sstats = self.inference(chunk, collect_sstats=True)\n",
      "  File \"/home/olam/.local/lib/python3.7/site-packages/gensim/models/ldamodel.py\", line 680, in inference\n",
      "    expElogbetad = self.expElogbeta[:, ids]\n",
      "IndexError: index 967280 is out of bounds for axis 1 with size 744141\n",
      "Process ForkPoolWorker-45:\n",
      "Traceback (most recent call last):\n",
      "  File \"/opt/anaconda3/lib/python3.7/multiprocessing/process.py\", line 297, in _bootstrap\n",
      "    self.run()\n",
      "  File \"/opt/anaconda3/lib/python3.7/multiprocessing/process.py\", line 99, in run\n",
      "    self._target(*self._args, **self._kwargs)\n",
      "  File \"/opt/anaconda3/lib/python3.7/multiprocessing/pool.py\", line 105, in worker\n",
      "    initializer(*initargs)\n",
      "  File \"/home/olam/.local/lib/python3.7/site-packages/gensim/models/ldamulticore.py\", line 337, in worker_e_step\n",
      "    worker_lda.do_estep(chunk)  # TODO: auto-tune alpha?\n",
      "  File \"/home/olam/.local/lib/python3.7/site-packages/gensim/models/ldamodel.py\", line 742, in do_estep\n",
      "    gamma, sstats = self.inference(chunk, collect_sstats=True)\n",
      "  File \"/home/olam/.local/lib/python3.7/site-packages/gensim/models/ldamodel.py\", line 680, in inference\n",
      "    expElogbetad = self.expElogbeta[:, ids]\n",
      "IndexError: index 940924 is out of bounds for axis 1 with size 744141\n",
      "Process ForkPoolWorker-46:\n",
      "Traceback (most recent call last):\n",
      "  File \"/opt/anaconda3/lib/python3.7/multiprocessing/process.py\", line 297, in _bootstrap\n",
      "    self.run()\n",
      "  File \"/opt/anaconda3/lib/python3.7/multiprocessing/process.py\", line 99, in run\n",
      "    self._target(*self._args, **self._kwargs)\n",
      "  File \"/opt/anaconda3/lib/python3.7/multiprocessing/pool.py\", line 105, in worker\n",
      "    initializer(*initargs)\n",
      "  File \"/home/olam/.local/lib/python3.7/site-packages/gensim/models/ldamulticore.py\", line 337, in worker_e_step\n",
      "    worker_lda.do_estep(chunk)  # TODO: auto-tune alpha?\n",
      "  File \"/home/olam/.local/lib/python3.7/site-packages/gensim/models/ldamodel.py\", line 742, in do_estep\n",
      "    gamma, sstats = self.inference(chunk, collect_sstats=True)\n",
      "  File \"/home/olam/.local/lib/python3.7/site-packages/gensim/models/ldamodel.py\", line 680, in inference\n",
      "    expElogbetad = self.expElogbeta[:, ids]\n",
      "IndexError: index 2893444 is out of bounds for axis 1 with size 744141\n",
      "Process ForkPoolWorker-47:\n",
      "Traceback (most recent call last):\n",
      "  File \"/opt/anaconda3/lib/python3.7/multiprocessing/process.py\", line 297, in _bootstrap\n",
      "    self.run()\n",
      "  File \"/opt/anaconda3/lib/python3.7/multiprocessing/process.py\", line 99, in run\n",
      "    self._target(*self._args, **self._kwargs)\n",
      "  File \"/opt/anaconda3/lib/python3.7/multiprocessing/pool.py\", line 105, in worker\n",
      "    initializer(*initargs)\n",
      "  File \"/home/olam/.local/lib/python3.7/site-packages/gensim/models/ldamulticore.py\", line 337, in worker_e_step\n",
      "    worker_lda.do_estep(chunk)  # TODO: auto-tune alpha?\n",
      "  File \"/home/olam/.local/lib/python3.7/site-packages/gensim/models/ldamodel.py\", line 742, in do_estep\n",
      "    gamma, sstats = self.inference(chunk, collect_sstats=True)\n",
      "  File \"/home/olam/.local/lib/python3.7/site-packages/gensim/models/ldamodel.py\", line 680, in inference\n",
      "    expElogbetad = self.expElogbeta[:, ids]\n",
      "IndexError: index 788714 is out of bounds for axis 1 with size 744141\n",
      "Process ForkPoolWorker-48:\n",
      "Traceback (most recent call last):\n",
      "  File \"/opt/anaconda3/lib/python3.7/multiprocessing/process.py\", line 297, in _bootstrap\n",
      "    self.run()\n",
      "  File \"/opt/anaconda3/lib/python3.7/multiprocessing/process.py\", line 99, in run\n",
      "    self._target(*self._args, **self._kwargs)\n",
      "  File \"/opt/anaconda3/lib/python3.7/multiprocessing/pool.py\", line 105, in worker\n",
      "    initializer(*initargs)\n",
      "  File \"/home/olam/.local/lib/python3.7/site-packages/gensim/models/ldamulticore.py\", line 337, in worker_e_step\n",
      "    worker_lda.do_estep(chunk)  # TODO: auto-tune alpha?\n",
      "  File \"/home/olam/.local/lib/python3.7/site-packages/gensim/models/ldamodel.py\", line 742, in do_estep\n",
      "    gamma, sstats = self.inference(chunk, collect_sstats=True)\n",
      "  File \"/home/olam/.local/lib/python3.7/site-packages/gensim/models/ldamodel.py\", line 680, in inference\n",
      "    expElogbetad = self.expElogbeta[:, ids]\n",
      "IndexError: index 819208 is out of bounds for axis 1 with size 744141\n",
      "Process ForkPoolWorker-49:\n",
      "Traceback (most recent call last):\n",
      "  File \"/opt/anaconda3/lib/python3.7/multiprocessing/process.py\", line 297, in _bootstrap\n",
      "    self.run()\n",
      "  File \"/opt/anaconda3/lib/python3.7/multiprocessing/process.py\", line 99, in run\n",
      "    self._target(*self._args, **self._kwargs)\n",
      "  File \"/opt/anaconda3/lib/python3.7/multiprocessing/pool.py\", line 105, in worker\n",
      "    initializer(*initargs)\n",
      "  File \"/home/olam/.local/lib/python3.7/site-packages/gensim/models/ldamulticore.py\", line 337, in worker_e_step\n",
      "    worker_lda.do_estep(chunk)  # TODO: auto-tune alpha?\n",
      "  File \"/home/olam/.local/lib/python3.7/site-packages/gensim/models/ldamodel.py\", line 742, in do_estep\n",
      "    gamma, sstats = self.inference(chunk, collect_sstats=True)\n",
      "  File \"/home/olam/.local/lib/python3.7/site-packages/gensim/models/ldamodel.py\", line 680, in inference\n",
      "    expElogbetad = self.expElogbeta[:, ids]\n",
      "IndexError: index 767484 is out of bounds for axis 1 with size 744141\n",
      "Process ForkPoolWorker-50:\n",
      "Traceback (most recent call last):\n",
      "  File \"/opt/anaconda3/lib/python3.7/multiprocessing/process.py\", line 297, in _bootstrap\n",
      "    self.run()\n",
      "  File \"/opt/anaconda3/lib/python3.7/multiprocessing/process.py\", line 99, in run\n",
      "    self._target(*self._args, **self._kwargs)\n",
      "  File \"/opt/anaconda3/lib/python3.7/multiprocessing/pool.py\", line 105, in worker\n",
      "    initializer(*initargs)\n",
      "  File \"/home/olam/.local/lib/python3.7/site-packages/gensim/models/ldamulticore.py\", line 337, in worker_e_step\n",
      "    worker_lda.do_estep(chunk)  # TODO: auto-tune alpha?\n",
      "  File \"/home/olam/.local/lib/python3.7/site-packages/gensim/models/ldamodel.py\", line 742, in do_estep\n",
      "    gamma, sstats = self.inference(chunk, collect_sstats=True)\n",
      "  File \"/home/olam/.local/lib/python3.7/site-packages/gensim/models/ldamodel.py\", line 680, in inference\n",
      "    expElogbetad = self.expElogbeta[:, ids]\n",
      "IndexError: index 981950 is out of bounds for axis 1 with size 744141\n",
      "Process ForkPoolWorker-51:\n",
      "Traceback (most recent call last):\n",
      "  File \"/opt/anaconda3/lib/python3.7/multiprocessing/process.py\", line 297, in _bootstrap\n",
      "    self.run()\n",
      "  File \"/opt/anaconda3/lib/python3.7/multiprocessing/process.py\", line 99, in run\n",
      "    self._target(*self._args, **self._kwargs)\n",
      "  File \"/opt/anaconda3/lib/python3.7/multiprocessing/pool.py\", line 105, in worker\n",
      "    initializer(*initargs)\n",
      "  File \"/home/olam/.local/lib/python3.7/site-packages/gensim/models/ldamulticore.py\", line 337, in worker_e_step\n",
      "    worker_lda.do_estep(chunk)  # TODO: auto-tune alpha?\n",
      "  File \"/home/olam/.local/lib/python3.7/site-packages/gensim/models/ldamodel.py\", line 742, in do_estep\n",
      "    gamma, sstats = self.inference(chunk, collect_sstats=True)\n",
      "  File \"/home/olam/.local/lib/python3.7/site-packages/gensim/models/ldamodel.py\", line 680, in inference\n",
      "    expElogbetad = self.expElogbeta[:, ids]\n",
      "IndexError: index 768248 is out of bounds for axis 1 with size 744141\n",
      "Process ForkPoolWorker-52:\n",
      "Traceback (most recent call last):\n",
      "  File \"/opt/anaconda3/lib/python3.7/multiprocessing/process.py\", line 297, in _bootstrap\n",
      "    self.run()\n",
      "  File \"/opt/anaconda3/lib/python3.7/multiprocessing/process.py\", line 99, in run\n",
      "    self._target(*self._args, **self._kwargs)\n",
      "  File \"/opt/anaconda3/lib/python3.7/multiprocessing/pool.py\", line 105, in worker\n",
      "    initializer(*initargs)\n",
      "  File \"/home/olam/.local/lib/python3.7/site-packages/gensim/models/ldamulticore.py\", line 337, in worker_e_step\n",
      "    worker_lda.do_estep(chunk)  # TODO: auto-tune alpha?\n"
     ]
    },
    {
     "name": "stderr",
     "output_type": "stream",
     "text": [
      "  File \"/home/olam/.local/lib/python3.7/site-packages/gensim/models/ldamodel.py\", line 742, in do_estep\n",
      "    gamma, sstats = self.inference(chunk, collect_sstats=True)\n",
      "  File \"/home/olam/.local/lib/python3.7/site-packages/gensim/models/ldamodel.py\", line 680, in inference\n",
      "    expElogbetad = self.expElogbeta[:, ids]\n",
      "IndexError: index 773997 is out of bounds for axis 1 with size 744141\n",
      "Process ForkPoolWorker-53:\n",
      "Traceback (most recent call last):\n",
      "  File \"/opt/anaconda3/lib/python3.7/multiprocessing/process.py\", line 297, in _bootstrap\n",
      "    self.run()\n",
      "  File \"/opt/anaconda3/lib/python3.7/multiprocessing/process.py\", line 99, in run\n",
      "    self._target(*self._args, **self._kwargs)\n",
      "  File \"/opt/anaconda3/lib/python3.7/multiprocessing/pool.py\", line 105, in worker\n",
      "    initializer(*initargs)\n",
      "  File \"/home/olam/.local/lib/python3.7/site-packages/gensim/models/ldamulticore.py\", line 337, in worker_e_step\n",
      "    worker_lda.do_estep(chunk)  # TODO: auto-tune alpha?\n",
      "  File \"/home/olam/.local/lib/python3.7/site-packages/gensim/models/ldamodel.py\", line 742, in do_estep\n",
      "    gamma, sstats = self.inference(chunk, collect_sstats=True)\n",
      "  File \"/home/olam/.local/lib/python3.7/site-packages/gensim/models/ldamodel.py\", line 680, in inference\n",
      "    expElogbetad = self.expElogbeta[:, ids]\n",
      "IndexError: index 1258864 is out of bounds for axis 1 with size 744141\n",
      "Process ForkPoolWorker-54:\n",
      "Traceback (most recent call last):\n",
      "  File \"/opt/anaconda3/lib/python3.7/multiprocessing/process.py\", line 297, in _bootstrap\n",
      "    self.run()\n",
      "  File \"/opt/anaconda3/lib/python3.7/multiprocessing/process.py\", line 99, in run\n",
      "    self._target(*self._args, **self._kwargs)\n",
      "  File \"/opt/anaconda3/lib/python3.7/multiprocessing/pool.py\", line 105, in worker\n",
      "    initializer(*initargs)\n",
      "  File \"/home/olam/.local/lib/python3.7/site-packages/gensim/models/ldamulticore.py\", line 337, in worker_e_step\n",
      "    worker_lda.do_estep(chunk)  # TODO: auto-tune alpha?\n",
      "  File \"/home/olam/.local/lib/python3.7/site-packages/gensim/models/ldamodel.py\", line 742, in do_estep\n",
      "    gamma, sstats = self.inference(chunk, collect_sstats=True)\n",
      "  File \"/home/olam/.local/lib/python3.7/site-packages/gensim/models/ldamodel.py\", line 680, in inference\n",
      "    expElogbetad = self.expElogbeta[:, ids]\n",
      "IndexError: index 1978377 is out of bounds for axis 1 with size 744141\n",
      "Process ForkPoolWorker-55:\n",
      "Traceback (most recent call last):\n",
      "  File \"/opt/anaconda3/lib/python3.7/multiprocessing/process.py\", line 297, in _bootstrap\n",
      "    self.run()\n",
      "  File \"/opt/anaconda3/lib/python3.7/multiprocessing/process.py\", line 99, in run\n",
      "    self._target(*self._args, **self._kwargs)\n",
      "  File \"/opt/anaconda3/lib/python3.7/multiprocessing/pool.py\", line 105, in worker\n",
      "    initializer(*initargs)\n",
      "  File \"/home/olam/.local/lib/python3.7/site-packages/gensim/models/ldamulticore.py\", line 337, in worker_e_step\n",
      "    worker_lda.do_estep(chunk)  # TODO: auto-tune alpha?\n",
      "  File \"/home/olam/.local/lib/python3.7/site-packages/gensim/models/ldamodel.py\", line 742, in do_estep\n",
      "    gamma, sstats = self.inference(chunk, collect_sstats=True)\n",
      "  File \"/home/olam/.local/lib/python3.7/site-packages/gensim/models/ldamodel.py\", line 680, in inference\n",
      "    expElogbetad = self.expElogbeta[:, ids]\n",
      "IndexError: index 836699 is out of bounds for axis 1 with size 744141\n",
      "Process ForkPoolWorker-56:\n",
      "Traceback (most recent call last):\n",
      "  File \"/opt/anaconda3/lib/python3.7/multiprocessing/process.py\", line 297, in _bootstrap\n",
      "    self.run()\n",
      "  File \"/opt/anaconda3/lib/python3.7/multiprocessing/process.py\", line 99, in run\n",
      "    self._target(*self._args, **self._kwargs)\n",
      "  File \"/opt/anaconda3/lib/python3.7/multiprocessing/pool.py\", line 105, in worker\n",
      "    initializer(*initargs)\n",
      "  File \"/home/olam/.local/lib/python3.7/site-packages/gensim/models/ldamulticore.py\", line 337, in worker_e_step\n",
      "    worker_lda.do_estep(chunk)  # TODO: auto-tune alpha?\n",
      "  File \"/home/olam/.local/lib/python3.7/site-packages/gensim/models/ldamodel.py\", line 742, in do_estep\n",
      "    gamma, sstats = self.inference(chunk, collect_sstats=True)\n",
      "  File \"/home/olam/.local/lib/python3.7/site-packages/gensim/models/ldamodel.py\", line 680, in inference\n",
      "    expElogbetad = self.expElogbeta[:, ids]\n",
      "IndexError: index 833803 is out of bounds for axis 1 with size 744141\n",
      "Process ForkPoolWorker-57:\n",
      "Traceback (most recent call last):\n",
      "  File \"/opt/anaconda3/lib/python3.7/multiprocessing/process.py\", line 297, in _bootstrap\n",
      "    self.run()\n",
      "  File \"/opt/anaconda3/lib/python3.7/multiprocessing/process.py\", line 99, in run\n",
      "    self._target(*self._args, **self._kwargs)\n",
      "  File \"/opt/anaconda3/lib/python3.7/multiprocessing/pool.py\", line 105, in worker\n",
      "    initializer(*initargs)\n",
      "  File \"/home/olam/.local/lib/python3.7/site-packages/gensim/models/ldamulticore.py\", line 337, in worker_e_step\n",
      "    worker_lda.do_estep(chunk)  # TODO: auto-tune alpha?\n",
      "  File \"/home/olam/.local/lib/python3.7/site-packages/gensim/models/ldamodel.py\", line 742, in do_estep\n",
      "    gamma, sstats = self.inference(chunk, collect_sstats=True)\n",
      "  File \"/home/olam/.local/lib/python3.7/site-packages/gensim/models/ldamodel.py\", line 680, in inference\n",
      "    expElogbetad = self.expElogbeta[:, ids]\n",
      "IndexError: index 1064630 is out of bounds for axis 1 with size 744141\n",
      "Process ForkPoolWorker-58:\n",
      "Traceback (most recent call last):\n",
      "  File \"/opt/anaconda3/lib/python3.7/multiprocessing/process.py\", line 297, in _bootstrap\n",
      "    self.run()\n",
      "  File \"/opt/anaconda3/lib/python3.7/multiprocessing/process.py\", line 99, in run\n",
      "    self._target(*self._args, **self._kwargs)\n",
      "  File \"/opt/anaconda3/lib/python3.7/multiprocessing/pool.py\", line 105, in worker\n",
      "    initializer(*initargs)\n",
      "  File \"/home/olam/.local/lib/python3.7/site-packages/gensim/models/ldamulticore.py\", line 337, in worker_e_step\n",
      "    worker_lda.do_estep(chunk)  # TODO: auto-tune alpha?\n",
      "  File \"/home/olam/.local/lib/python3.7/site-packages/gensim/models/ldamodel.py\", line 742, in do_estep\n",
      "    gamma, sstats = self.inference(chunk, collect_sstats=True)\n",
      "  File \"/home/olam/.local/lib/python3.7/site-packages/gensim/models/ldamodel.py\", line 680, in inference\n",
      "    expElogbetad = self.expElogbeta[:, ids]\n",
      "IndexError: index 799596 is out of bounds for axis 1 with size 744141\n",
      "Process ForkPoolWorker-59:\n",
      "Traceback (most recent call last):\n",
      "  File \"/opt/anaconda3/lib/python3.7/multiprocessing/process.py\", line 297, in _bootstrap\n",
      "    self.run()\n",
      "  File \"/opt/anaconda3/lib/python3.7/multiprocessing/process.py\", line 99, in run\n",
      "    self._target(*self._args, **self._kwargs)\n",
      "  File \"/opt/anaconda3/lib/python3.7/multiprocessing/pool.py\", line 105, in worker\n",
      "    initializer(*initargs)\n",
      "  File \"/home/olam/.local/lib/python3.7/site-packages/gensim/models/ldamulticore.py\", line 337, in worker_e_step\n",
      "    worker_lda.do_estep(chunk)  # TODO: auto-tune alpha?\n",
      "  File \"/home/olam/.local/lib/python3.7/site-packages/gensim/models/ldamodel.py\", line 742, in do_estep\n",
      "    gamma, sstats = self.inference(chunk, collect_sstats=True)\n",
      "  File \"/home/olam/.local/lib/python3.7/site-packages/gensim/models/ldamodel.py\", line 680, in inference\n",
      "    expElogbetad = self.expElogbeta[:, ids]\n",
      "IndexError: index 988181 is out of bounds for axis 1 with size 744141\n",
      "Process ForkPoolWorker-60:\n",
      "Traceback (most recent call last):\n",
      "  File \"/opt/anaconda3/lib/python3.7/multiprocessing/process.py\", line 297, in _bootstrap\n",
      "    self.run()\n",
      "  File \"/opt/anaconda3/lib/python3.7/multiprocessing/process.py\", line 99, in run\n",
      "    self._target(*self._args, **self._kwargs)\n",
      "  File \"/opt/anaconda3/lib/python3.7/multiprocessing/pool.py\", line 105, in worker\n",
      "    initializer(*initargs)\n",
      "  File \"/home/olam/.local/lib/python3.7/site-packages/gensim/models/ldamulticore.py\", line 337, in worker_e_step\n",
      "    worker_lda.do_estep(chunk)  # TODO: auto-tune alpha?\n",
      "  File \"/home/olam/.local/lib/python3.7/site-packages/gensim/models/ldamodel.py\", line 742, in do_estep\n",
      "    gamma, sstats = self.inference(chunk, collect_sstats=True)\n",
      "  File \"/home/olam/.local/lib/python3.7/site-packages/gensim/models/ldamodel.py\", line 680, in inference\n",
      "    expElogbetad = self.expElogbeta[:, ids]\n",
      "IndexError: index 1282623 is out of bounds for axis 1 with size 744141\n",
      "Process ForkPoolWorker-61:\n",
      "Traceback (most recent call last):\n",
      "  File \"/opt/anaconda3/lib/python3.7/multiprocessing/process.py\", line 297, in _bootstrap\n",
      "    self.run()\n"
     ]
    },
    {
     "name": "stderr",
     "output_type": "stream",
     "text": [
      "  File \"/opt/anaconda3/lib/python3.7/multiprocessing/process.py\", line 99, in run\n",
      "    self._target(*self._args, **self._kwargs)\n",
      "  File \"/opt/anaconda3/lib/python3.7/multiprocessing/pool.py\", line 105, in worker\n",
      "    initializer(*initargs)\n",
      "  File \"/home/olam/.local/lib/python3.7/site-packages/gensim/models/ldamulticore.py\", line 337, in worker_e_step\n",
      "    worker_lda.do_estep(chunk)  # TODO: auto-tune alpha?\n",
      "  File \"/home/olam/.local/lib/python3.7/site-packages/gensim/models/ldamodel.py\", line 742, in do_estep\n",
      "    gamma, sstats = self.inference(chunk, collect_sstats=True)\n",
      "  File \"/home/olam/.local/lib/python3.7/site-packages/gensim/models/ldamodel.py\", line 680, in inference\n",
      "    expElogbetad = self.expElogbeta[:, ids]\n",
      "IndexError: index 1115756 is out of bounds for axis 1 with size 744141\n",
      "Process ForkPoolWorker-62:\n",
      "Traceback (most recent call last):\n",
      "  File \"/opt/anaconda3/lib/python3.7/multiprocessing/process.py\", line 297, in _bootstrap\n",
      "    self.run()\n",
      "  File \"/opt/anaconda3/lib/python3.7/multiprocessing/process.py\", line 99, in run\n",
      "    self._target(*self._args, **self._kwargs)\n",
      "  File \"/opt/anaconda3/lib/python3.7/multiprocessing/pool.py\", line 105, in worker\n",
      "    initializer(*initargs)\n",
      "  File \"/home/olam/.local/lib/python3.7/site-packages/gensim/models/ldamulticore.py\", line 337, in worker_e_step\n",
      "    worker_lda.do_estep(chunk)  # TODO: auto-tune alpha?\n",
      "  File \"/home/olam/.local/lib/python3.7/site-packages/gensim/models/ldamodel.py\", line 742, in do_estep\n",
      "    gamma, sstats = self.inference(chunk, collect_sstats=True)\n",
      "  File \"/home/olam/.local/lib/python3.7/site-packages/gensim/models/ldamodel.py\", line 680, in inference\n",
      "    expElogbetad = self.expElogbeta[:, ids]\n",
      "IndexError: index 1082192 is out of bounds for axis 1 with size 744141\n",
      "Process ForkPoolWorker-63:\n",
      "Traceback (most recent call last):\n",
      "  File \"/opt/anaconda3/lib/python3.7/multiprocessing/process.py\", line 297, in _bootstrap\n",
      "    self.run()\n",
      "  File \"/opt/anaconda3/lib/python3.7/multiprocessing/process.py\", line 99, in run\n",
      "    self._target(*self._args, **self._kwargs)\n",
      "  File \"/opt/anaconda3/lib/python3.7/multiprocessing/pool.py\", line 105, in worker\n",
      "    initializer(*initargs)\n",
      "  File \"/home/olam/.local/lib/python3.7/site-packages/gensim/models/ldamulticore.py\", line 337, in worker_e_step\n",
      "    worker_lda.do_estep(chunk)  # TODO: auto-tune alpha?\n",
      "  File \"/home/olam/.local/lib/python3.7/site-packages/gensim/models/ldamodel.py\", line 742, in do_estep\n",
      "    gamma, sstats = self.inference(chunk, collect_sstats=True)\n",
      "  File \"/home/olam/.local/lib/python3.7/site-packages/gensim/models/ldamodel.py\", line 680, in inference\n",
      "    expElogbetad = self.expElogbeta[:, ids]\n",
      "IndexError: index 1282623 is out of bounds for axis 1 with size 744141\n",
      "Process ForkPoolWorker-64:\n",
      "Traceback (most recent call last):\n",
      "  File \"/opt/anaconda3/lib/python3.7/multiprocessing/process.py\", line 297, in _bootstrap\n",
      "    self.run()\n",
      "  File \"/opt/anaconda3/lib/python3.7/multiprocessing/process.py\", line 99, in run\n",
      "    self._target(*self._args, **self._kwargs)\n",
      "  File \"/opt/anaconda3/lib/python3.7/multiprocessing/pool.py\", line 105, in worker\n",
      "    initializer(*initargs)\n",
      "  File \"/home/olam/.local/lib/python3.7/site-packages/gensim/models/ldamulticore.py\", line 337, in worker_e_step\n",
      "    worker_lda.do_estep(chunk)  # TODO: auto-tune alpha?\n",
      "  File \"/home/olam/.local/lib/python3.7/site-packages/gensim/models/ldamodel.py\", line 742, in do_estep\n",
      "    gamma, sstats = self.inference(chunk, collect_sstats=True)\n",
      "  File \"/home/olam/.local/lib/python3.7/site-packages/gensim/models/ldamodel.py\", line 680, in inference\n",
      "    expElogbetad = self.expElogbeta[:, ids]\n",
      "IndexError: index 1282623 is out of bounds for axis 1 with size 744141\n",
      "Process ForkPoolWorker-65:\n",
      "Traceback (most recent call last):\n",
      "  File \"/opt/anaconda3/lib/python3.7/multiprocessing/process.py\", line 297, in _bootstrap\n",
      "    self.run()\n",
      "  File \"/opt/anaconda3/lib/python3.7/multiprocessing/process.py\", line 99, in run\n",
      "    self._target(*self._args, **self._kwargs)\n",
      "  File \"/opt/anaconda3/lib/python3.7/multiprocessing/pool.py\", line 105, in worker\n",
      "    initializer(*initargs)\n",
      "  File \"/home/olam/.local/lib/python3.7/site-packages/gensim/models/ldamulticore.py\", line 337, in worker_e_step\n",
      "    worker_lda.do_estep(chunk)  # TODO: auto-tune alpha?\n",
      "  File \"/home/olam/.local/lib/python3.7/site-packages/gensim/models/ldamodel.py\", line 742, in do_estep\n",
      "    gamma, sstats = self.inference(chunk, collect_sstats=True)\n",
      "  File \"/home/olam/.local/lib/python3.7/site-packages/gensim/models/ldamodel.py\", line 680, in inference\n",
      "    expElogbetad = self.expElogbeta[:, ids]\n",
      "IndexError: index 1350226 is out of bounds for axis 1 with size 744141\n",
      "Process ForkPoolWorker-66:\n",
      "Traceback (most recent call last):\n",
      "  File \"/opt/anaconda3/lib/python3.7/multiprocessing/process.py\", line 297, in _bootstrap\n",
      "    self.run()\n",
      "  File \"/opt/anaconda3/lib/python3.7/multiprocessing/process.py\", line 99, in run\n",
      "    self._target(*self._args, **self._kwargs)\n",
      "  File \"/opt/anaconda3/lib/python3.7/multiprocessing/pool.py\", line 105, in worker\n",
      "    initializer(*initargs)\n",
      "  File \"/home/olam/.local/lib/python3.7/site-packages/gensim/models/ldamulticore.py\", line 337, in worker_e_step\n",
      "    worker_lda.do_estep(chunk)  # TODO: auto-tune alpha?\n",
      "  File \"/home/olam/.local/lib/python3.7/site-packages/gensim/models/ldamodel.py\", line 742, in do_estep\n",
      "    gamma, sstats = self.inference(chunk, collect_sstats=True)\n",
      "  File \"/home/olam/.local/lib/python3.7/site-packages/gensim/models/ldamodel.py\", line 680, in inference\n",
      "    expElogbetad = self.expElogbeta[:, ids]\n",
      "IndexError: index 832224 is out of bounds for axis 1 with size 744141\n",
      "Process ForkPoolWorker-67:\n",
      "Traceback (most recent call last):\n",
      "  File \"/opt/anaconda3/lib/python3.7/multiprocessing/process.py\", line 297, in _bootstrap\n",
      "    self.run()\n",
      "  File \"/opt/anaconda3/lib/python3.7/multiprocessing/process.py\", line 99, in run\n",
      "    self._target(*self._args, **self._kwargs)\n",
      "  File \"/opt/anaconda3/lib/python3.7/multiprocessing/pool.py\", line 105, in worker\n",
      "    initializer(*initargs)\n",
      "  File \"/home/olam/.local/lib/python3.7/site-packages/gensim/models/ldamulticore.py\", line 337, in worker_e_step\n",
      "    worker_lda.do_estep(chunk)  # TODO: auto-tune alpha?\n",
      "  File \"/home/olam/.local/lib/python3.7/site-packages/gensim/models/ldamodel.py\", line 742, in do_estep\n",
      "    gamma, sstats = self.inference(chunk, collect_sstats=True)\n",
      "  File \"/home/olam/.local/lib/python3.7/site-packages/gensim/models/ldamodel.py\", line 680, in inference\n",
      "    expElogbetad = self.expElogbeta[:, ids]\n",
      "IndexError: index 832224 is out of bounds for axis 1 with size 744141\n",
      "Process ForkPoolWorker-68:\n",
      "Traceback (most recent call last):\n",
      "  File \"/opt/anaconda3/lib/python3.7/multiprocessing/process.py\", line 297, in _bootstrap\n",
      "    self.run()\n",
      "  File \"/opt/anaconda3/lib/python3.7/multiprocessing/process.py\", line 99, in run\n",
      "    self._target(*self._args, **self._kwargs)\n",
      "  File \"/opt/anaconda3/lib/python3.7/multiprocessing/pool.py\", line 105, in worker\n",
      "    initializer(*initargs)\n",
      "  File \"/home/olam/.local/lib/python3.7/site-packages/gensim/models/ldamulticore.py\", line 337, in worker_e_step\n",
      "    worker_lda.do_estep(chunk)  # TODO: auto-tune alpha?\n",
      "  File \"/home/olam/.local/lib/python3.7/site-packages/gensim/models/ldamodel.py\", line 742, in do_estep\n",
      "    gamma, sstats = self.inference(chunk, collect_sstats=True)\n",
      "  File \"/home/olam/.local/lib/python3.7/site-packages/gensim/models/ldamodel.py\", line 680, in inference\n",
      "    expElogbetad = self.expElogbeta[:, ids]\n",
      "IndexError: index 832224 is out of bounds for axis 1 with size 744141\n",
      "Process ForkPoolWorker-69:\n",
      "Traceback (most recent call last):\n",
      "  File \"/opt/anaconda3/lib/python3.7/multiprocessing/process.py\", line 297, in _bootstrap\n",
      "    self.run()\n",
      "  File \"/opt/anaconda3/lib/python3.7/multiprocessing/process.py\", line 99, in run\n",
      "    self._target(*self._args, **self._kwargs)\n",
      "  File \"/opt/anaconda3/lib/python3.7/multiprocessing/pool.py\", line 105, in worker\n",
      "    initializer(*initargs)\n",
      "  File \"/home/olam/.local/lib/python3.7/site-packages/gensim/models/ldamulticore.py\", line 337, in worker_e_step\n",
      "    worker_lda.do_estep(chunk)  # TODO: auto-tune alpha?\n",
      "  File \"/home/olam/.local/lib/python3.7/site-packages/gensim/models/ldamodel.py\", line 742, in do_estep\n",
      "    gamma, sstats = self.inference(chunk, collect_sstats=True)\n"
     ]
    },
    {
     "name": "stderr",
     "output_type": "stream",
     "text": [
      "  File \"/home/olam/.local/lib/python3.7/site-packages/gensim/models/ldamodel.py\", line 680, in inference\n",
      "    expElogbetad = self.expElogbeta[:, ids]\n",
      "IndexError: index 832224 is out of bounds for axis 1 with size 744141\n",
      "Process ForkPoolWorker-70:\n",
      "Traceback (most recent call last):\n",
      "  File \"/opt/anaconda3/lib/python3.7/multiprocessing/process.py\", line 297, in _bootstrap\n",
      "    self.run()\n",
      "  File \"/opt/anaconda3/lib/python3.7/multiprocessing/process.py\", line 99, in run\n",
      "    self._target(*self._args, **self._kwargs)\n",
      "  File \"/opt/anaconda3/lib/python3.7/multiprocessing/pool.py\", line 105, in worker\n",
      "    initializer(*initargs)\n",
      "  File \"/home/olam/.local/lib/python3.7/site-packages/gensim/models/ldamulticore.py\", line 337, in worker_e_step\n",
      "    worker_lda.do_estep(chunk)  # TODO: auto-tune alpha?\n",
      "  File \"/home/olam/.local/lib/python3.7/site-packages/gensim/models/ldamodel.py\", line 742, in do_estep\n",
      "    gamma, sstats = self.inference(chunk, collect_sstats=True)\n",
      "  File \"/home/olam/.local/lib/python3.7/site-packages/gensim/models/ldamodel.py\", line 680, in inference\n",
      "    expElogbetad = self.expElogbeta[:, ids]\n",
      "IndexError: index 832224 is out of bounds for axis 1 with size 744141\n",
      "Process ForkPoolWorker-71:\n",
      "Traceback (most recent call last):\n",
      "  File \"/opt/anaconda3/lib/python3.7/multiprocessing/process.py\", line 297, in _bootstrap\n",
      "    self.run()\n",
      "  File \"/opt/anaconda3/lib/python3.7/multiprocessing/process.py\", line 99, in run\n",
      "    self._target(*self._args, **self._kwargs)\n",
      "  File \"/opt/anaconda3/lib/python3.7/multiprocessing/pool.py\", line 105, in worker\n",
      "    initializer(*initargs)\n",
      "  File \"/home/olam/.local/lib/python3.7/site-packages/gensim/models/ldamulticore.py\", line 337, in worker_e_step\n",
      "    worker_lda.do_estep(chunk)  # TODO: auto-tune alpha?\n",
      "  File \"/home/olam/.local/lib/python3.7/site-packages/gensim/models/ldamodel.py\", line 742, in do_estep\n",
      "    gamma, sstats = self.inference(chunk, collect_sstats=True)\n",
      "  File \"/home/olam/.local/lib/python3.7/site-packages/gensim/models/ldamodel.py\", line 680, in inference\n",
      "    expElogbetad = self.expElogbeta[:, ids]\n",
      "IndexError: index 832224 is out of bounds for axis 1 with size 744141\n",
      "Process ForkPoolWorker-72:\n",
      "Traceback (most recent call last):\n",
      "  File \"/opt/anaconda3/lib/python3.7/multiprocessing/process.py\", line 297, in _bootstrap\n",
      "    self.run()\n",
      "  File \"/opt/anaconda3/lib/python3.7/multiprocessing/process.py\", line 99, in run\n",
      "    self._target(*self._args, **self._kwargs)\n",
      "  File \"/opt/anaconda3/lib/python3.7/multiprocessing/pool.py\", line 105, in worker\n",
      "    initializer(*initargs)\n",
      "  File \"/home/olam/.local/lib/python3.7/site-packages/gensim/models/ldamulticore.py\", line 334, in worker_e_step\n",
      "    chunk_no, chunk, worker_lda = input_queue.get()\n",
      "  File \"/opt/anaconda3/lib/python3.7/multiprocessing/queues.py\", line 113, in get\n",
      "    return _ForkingPickler.loads(res)\n",
      "  File \"/opt/anaconda3/lib/python3.7/site-packages/numpy/random/_pickle.py\", line 62, in __randomstate_ctor\n",
      "    def __randomstate_ctor(bit_generator_name='MT19937'):\n",
      "KeyboardInterrupt\n",
      "Process ForkPoolWorker-73:\n",
      "Traceback (most recent call last):\n",
      "  File \"/opt/anaconda3/lib/python3.7/multiprocessing/process.py\", line 297, in _bootstrap\n",
      "    self.run()\n",
      "  File \"/opt/anaconda3/lib/python3.7/multiprocessing/process.py\", line 99, in run\n",
      "    self._target(*self._args, **self._kwargs)\n",
      "  File \"/opt/anaconda3/lib/python3.7/multiprocessing/pool.py\", line 105, in worker\n",
      "    initializer(*initargs)\n",
      "  File \"/home/olam/.local/lib/python3.7/site-packages/gensim/models/ldamulticore.py\", line 337, in worker_e_step\n",
      "    worker_lda.do_estep(chunk)  # TODO: auto-tune alpha?\n",
      "  File \"/home/olam/.local/lib/python3.7/site-packages/gensim/models/ldamodel.py\", line 742, in do_estep\n",
      "    gamma, sstats = self.inference(chunk, collect_sstats=True)\n",
      "  File \"/home/olam/.local/lib/python3.7/site-packages/gensim/models/ldamodel.py\", line 680, in inference\n",
      "    expElogbetad = self.expElogbeta[:, ids]\n",
      "IndexError: index 832224 is out of bounds for axis 1 with size 744141\n"
     ]
    }
   ],
   "source": [
    "lda_model = gensim.models.LdaMulticore(corpus=corpus,\n",
    "                                       num_topics=20,\n",
    "                                       id2word=id2word, \n",
    "                                       workers=3,\n",
    "                                       chunksize=100,\n",
    "                                       passes=10,\n",
    "                                       per_word_topics=True)"
   ]
  },
  {
   "cell_type": "code",
   "execution_count": null,
   "metadata": {},
   "outputs": [],
   "source": []
  },
  {
   "cell_type": "code",
   "execution_count": null,
   "metadata": {},
   "outputs": [],
   "source": []
  },
  {
   "cell_type": "markdown",
   "metadata": {},
   "source": [
    "---"
   ]
  },
  {
   "cell_type": "markdown",
   "metadata": {},
   "source": [
    "# Spark Implementation"
   ]
  },
  {
   "cell_type": "code",
   "execution_count": 4,
   "metadata": {},
   "outputs": [],
   "source": [
    "sc = SparkContext('local', 'lda')"
   ]
  },
  {
   "cell_type": "code",
   "execution_count": 6,
   "metadata": {},
   "outputs": [],
   "source": [
    "dok_test = scipy.sparse.dok_matrix((10, 50))"
   ]
  },
  {
   "cell_type": "code",
   "execution_count": 8,
   "metadata": {},
   "outputs": [],
   "source": [
    "for i in range(10):\n",
    "    for j in range(50):\n",
    "        dok_test[i, j] = random.randint(0, 2)"
   ]
  },
  {
   "cell_type": "code",
   "execution_count": 10,
   "metadata": {},
   "outputs": [],
   "source": [
    "csr_test = dok_test.tocsr()"
   ]
  },
  {
   "cell_type": "code",
   "execution_count": 16,
   "metadata": {},
   "outputs": [],
   "source": [
    "rdd = sc.parallelize(csr_test.toarray())"
   ]
  },
  {
   "cell_type": "code",
   "execution_count": 18,
   "metadata": {},
   "outputs": [
    {
     "data": {
      "text/plain": [
       "[array([1., 1., 2., 2., 0., 2., 2., 1., 1., 0., 1., 0., 0., 1., 0., 0., 1.,\n",
       "        0., 2., 0., 1., 2., 1., 1., 1., 2., 1., 0., 1., 2., 2., 0., 2., 1.,\n",
       "        2., 1., 2., 2., 0., 0., 1., 0., 2., 0., 1., 0., 0., 1., 0., 1.]),\n",
       " array([2., 1., 2., 2., 0., 1., 2., 1., 0., 2., 0., 0., 1., 1., 1., 0., 2.,\n",
       "        1., 1., 1., 1., 2., 2., 1., 2., 0., 0., 2., 0., 1., 1., 1., 0., 2.,\n",
       "        2., 0., 1., 1., 0., 2., 1., 0., 1., 1., 0., 0., 0., 0., 0., 0.]),\n",
       " array([1., 1., 0., 1., 1., 2., 1., 1., 0., 2., 1., 1., 2., 0., 2., 1., 0.,\n",
       "        0., 1., 2., 0., 0., 2., 0., 0., 2., 0., 1., 0., 2., 1., 1., 0., 1.,\n",
       "        1., 2., 0., 0., 0., 1., 0., 2., 0., 1., 1., 2., 2., 2., 0., 1.]),\n",
       " array([0., 0., 1., 2., 0., 2., 1., 2., 1., 1., 2., 2., 1., 0., 1., 2., 2.,\n",
       "        0., 0., 1., 0., 2., 2., 2., 2., 0., 1., 1., 2., 1., 0., 0., 2., 1.,\n",
       "        2., 2., 1., 2., 0., 2., 1., 0., 2., 2., 0., 2., 2., 1., 2., 2.]),\n",
       " array([0., 0., 2., 2., 1., 0., 0., 1., 1., 1., 1., 1., 0., 0., 2., 0., 0.,\n",
       "        1., 1., 1., 1., 2., 0., 1., 0., 0., 2., 0., 1., 0., 1., 0., 0., 2.,\n",
       "        1., 1., 2., 0., 2., 1., 0., 1., 2., 1., 0., 0., 1., 1., 0., 0.]),\n",
       " array([0., 0., 1., 0., 0., 0., 1., 0., 2., 2., 1., 1., 1., 1., 0., 0., 0.,\n",
       "        2., 1., 2., 2., 2., 0., 0., 0., 2., 2., 2., 2., 0., 0., 1., 0., 0.,\n",
       "        0., 2., 2., 0., 0., 0., 0., 1., 2., 2., 0., 1., 0., 2., 1., 1.]),\n",
       " array([1., 1., 2., 0., 0., 1., 1., 2., 1., 2., 0., 0., 2., 2., 1., 1., 0.,\n",
       "        0., 0., 2., 1., 1., 0., 0., 1., 0., 2., 1., 1., 1., 0., 0., 1., 0.,\n",
       "        2., 0., 2., 2., 2., 2., 2., 2., 0., 0., 2., 0., 1., 0., 0., 2.]),\n",
       " array([1., 0., 0., 2., 0., 2., 2., 2., 1., 0., 1., 2., 1., 0., 1., 1., 2.,\n",
       "        1., 2., 0., 0., 1., 2., 0., 1., 2., 2., 0., 2., 2., 0., 0., 2., 0.,\n",
       "        2., 2., 1., 2., 2., 2., 0., 0., 2., 1., 1., 1., 0., 1., 1., 2.]),\n",
       " array([1., 2., 2., 1., 1., 1., 0., 0., 2., 0., 1., 1., 1., 2., 1., 1., 0.,\n",
       "        1., 1., 1., 0., 2., 2., 0., 0., 2., 2., 1., 1., 0., 0., 2., 1., 0.,\n",
       "        2., 0., 1., 1., 1., 2., 2., 1., 1., 0., 1., 2., 0., 1., 1., 1.]),\n",
       " array([1., 2., 2., 2., 2., 0., 0., 0., 1., 1., 1., 0., 1., 0., 2., 2., 0.,\n",
       "        2., 1., 1., 0., 1., 2., 2., 2., 2., 2., 2., 1., 0., 2., 0., 2., 0.,\n",
       "        0., 1., 2., 2., 0., 1., 0., 2., 1., 2., 1., 0., 1., 1., 2., 1.])]"
      ]
     },
     "execution_count": 18,
     "metadata": {},
     "output_type": "execute_result"
    }
   ],
   "source": [
    "rdd.collect()"
   ]
  },
  {
   "cell_type": "code",
   "execution_count": 65,
   "metadata": {},
   "outputs": [],
   "source": [
    "rdd1 = sc.parallelize(csr_test[:3,:].toarray())"
   ]
  },
  {
   "cell_type": "code",
   "execution_count": 66,
   "metadata": {},
   "outputs": [],
   "source": [
    "rdd2 = sc.parallelize(csr_test[3:6,:].toarray())"
   ]
  },
  {
   "cell_type": "code",
   "execution_count": 67,
   "metadata": {},
   "outputs": [],
   "source": [
    "rdd3 = sc.parallelize(csr_test[6:,:].toarray())"
   ]
  },
  {
   "cell_type": "code",
   "execution_count": 68,
   "metadata": {},
   "outputs": [],
   "source": [
    "union12 = rdd1.union(rdd2)"
   ]
  },
  {
   "cell_type": "code",
   "execution_count": 69,
   "metadata": {},
   "outputs": [
    {
     "data": {
      "text/plain": [
       "[array([1., 1., 2., 2., 0., 2., 2., 1., 1., 0., 1., 0., 0., 1., 0., 0., 1.,\n",
       "        0., 2., 0., 1., 2., 1., 1., 1., 2., 1., 0., 1., 2., 2., 0., 2., 1.,\n",
       "        2., 1., 2., 2., 0., 0., 1., 0., 2., 0., 1., 0., 0., 1., 0., 1.]),\n",
       " array([2., 1., 2., 2., 0., 1., 2., 1., 0., 2., 0., 0., 1., 1., 1., 0., 2.,\n",
       "        1., 1., 1., 1., 2., 2., 1., 2., 0., 0., 2., 0., 1., 1., 1., 0., 2.,\n",
       "        2., 0., 1., 1., 0., 2., 1., 0., 1., 1., 0., 0., 0., 0., 0., 0.]),\n",
       " array([1., 1., 0., 1., 1., 2., 1., 1., 0., 2., 1., 1., 2., 0., 2., 1., 0.,\n",
       "        0., 1., 2., 0., 0., 2., 0., 0., 2., 0., 1., 0., 2., 1., 1., 0., 1.,\n",
       "        1., 2., 0., 0., 0., 1., 0., 2., 0., 1., 1., 2., 2., 2., 0., 1.]),\n",
       " array([0., 0., 1., 2., 0., 2., 1., 2., 1., 1., 2., 2., 1., 0., 1., 2., 2.,\n",
       "        0., 0., 1., 0., 2., 2., 2., 2., 0., 1., 1., 2., 1., 0., 0., 2., 1.,\n",
       "        2., 2., 1., 2., 0., 2., 1., 0., 2., 2., 0., 2., 2., 1., 2., 2.]),\n",
       " array([0., 0., 2., 2., 1., 0., 0., 1., 1., 1., 1., 1., 0., 0., 2., 0., 0.,\n",
       "        1., 1., 1., 1., 2., 0., 1., 0., 0., 2., 0., 1., 0., 1., 0., 0., 2.,\n",
       "        1., 1., 2., 0., 2., 1., 0., 1., 2., 1., 0., 0., 1., 1., 0., 0.]),\n",
       " array([0., 0., 1., 0., 0., 0., 1., 0., 2., 2., 1., 1., 1., 1., 0., 0., 0.,\n",
       "        2., 1., 2., 2., 2., 0., 0., 0., 2., 2., 2., 2., 0., 0., 1., 0., 0.,\n",
       "        0., 2., 2., 0., 0., 0., 0., 1., 2., 2., 0., 1., 0., 2., 1., 1.])]"
      ]
     },
     "execution_count": 69,
     "metadata": {},
     "output_type": "execute_result"
    }
   ],
   "source": [
    "union12.collect()"
   ]
  },
  {
   "cell_type": "code",
   "execution_count": 70,
   "metadata": {},
   "outputs": [],
   "source": [
    "union123 = union12.union(rdd3)"
   ]
  },
  {
   "cell_type": "code",
   "execution_count": 71,
   "metadata": {},
   "outputs": [
    {
     "ename": "Py4JJavaError",
     "evalue": "An error occurred while calling z:org.apache.spark.api.python.PythonRDD.collectAndServe.\n: org.apache.spark.SparkException: Job aborted due to stage failure: Task 0 in stage 11.0 failed 1 times, most recent failure: Lost task 0.0 in stage 11.0 (TID 19, 192.168.1.4, executor driver): org.apache.spark.api.python.PythonException: Traceback (most recent call last):\n  File \"/Library/Frameworks/Python.framework/Versions/3.8/lib/python3.8/site-packages/pyspark/python/lib/pyspark.zip/pyspark/worker.py\", line 477, in main\n    (\"%d.%d\" % sys.version_info[:2], version))\nException: Python in worker has different version 3.7 than that in driver 3.8, PySpark cannot run with different minor versions. Please check environment variables PYSPARK_PYTHON and PYSPARK_DRIVER_PYTHON are correctly set.\n\n\tat org.apache.spark.api.python.BasePythonRunner$ReaderIterator.handlePythonException(PythonRunner.scala:503)\n\tat org.apache.spark.api.python.PythonRunner$$anon$3.read(PythonRunner.scala:638)\n\tat org.apache.spark.api.python.PythonRunner$$anon$3.read(PythonRunner.scala:621)\n\tat org.apache.spark.api.python.BasePythonRunner$ReaderIterator.hasNext(PythonRunner.scala:456)\n\tat org.apache.spark.InterruptibleIterator.hasNext(InterruptibleIterator.scala:37)\n\tat scala.collection.Iterator.foreach(Iterator.scala:941)\n\tat scala.collection.Iterator.foreach$(Iterator.scala:941)\n\tat org.apache.spark.InterruptibleIterator.foreach(InterruptibleIterator.scala:28)\n\tat scala.collection.generic.Growable.$plus$plus$eq(Growable.scala:62)\n\tat scala.collection.generic.Growable.$plus$plus$eq$(Growable.scala:53)\n\tat scala.collection.mutable.ArrayBuffer.$plus$plus$eq(ArrayBuffer.scala:105)\n\tat scala.collection.mutable.ArrayBuffer.$plus$plus$eq(ArrayBuffer.scala:49)\n\tat scala.collection.TraversableOnce.to(TraversableOnce.scala:315)\n\tat scala.collection.TraversableOnce.to$(TraversableOnce.scala:313)\n\tat org.apache.spark.InterruptibleIterator.to(InterruptibleIterator.scala:28)\n\tat scala.collection.TraversableOnce.toBuffer(TraversableOnce.scala:307)\n\tat scala.collection.TraversableOnce.toBuffer$(TraversableOnce.scala:307)\n\tat org.apache.spark.InterruptibleIterator.toBuffer(InterruptibleIterator.scala:28)\n\tat scala.collection.TraversableOnce.toArray(TraversableOnce.scala:294)\n\tat scala.collection.TraversableOnce.toArray$(TraversableOnce.scala:288)\n\tat org.apache.spark.InterruptibleIterator.toArray(InterruptibleIterator.scala:28)\n\tat org.apache.spark.rdd.RDD.$anonfun$collect$2(RDD.scala:1004)\n\tat org.apache.spark.SparkContext.$anonfun$runJob$5(SparkContext.scala:2139)\n\tat org.apache.spark.scheduler.ResultTask.runTask(ResultTask.scala:90)\n\tat org.apache.spark.scheduler.Task.run(Task.scala:127)\n\tat org.apache.spark.executor.Executor$TaskRunner.$anonfun$run$3(Executor.scala:446)\n\tat org.apache.spark.util.Utils$.tryWithSafeFinally(Utils.scala:1377)\n\tat org.apache.spark.executor.Executor$TaskRunner.run(Executor.scala:449)\n\tat java.util.concurrent.ThreadPoolExecutor.runWorker(ThreadPoolExecutor.java:1149)\n\tat java.util.concurrent.ThreadPoolExecutor$Worker.run(ThreadPoolExecutor.java:624)\n\tat java.lang.Thread.run(Thread.java:748)\n\nDriver stacktrace:\n\tat org.apache.spark.scheduler.DAGScheduler.failJobAndIndependentStages(DAGScheduler.scala:2059)\n\tat org.apache.spark.scheduler.DAGScheduler.$anonfun$abortStage$2(DAGScheduler.scala:2008)\n\tat org.apache.spark.scheduler.DAGScheduler.$anonfun$abortStage$2$adapted(DAGScheduler.scala:2007)\n\tat scala.collection.mutable.ResizableArray.foreach(ResizableArray.scala:62)\n\tat scala.collection.mutable.ResizableArray.foreach$(ResizableArray.scala:55)\n\tat scala.collection.mutable.ArrayBuffer.foreach(ArrayBuffer.scala:49)\n\tat org.apache.spark.scheduler.DAGScheduler.abortStage(DAGScheduler.scala:2007)\n\tat org.apache.spark.scheduler.DAGScheduler.$anonfun$handleTaskSetFailed$1(DAGScheduler.scala:973)\n\tat org.apache.spark.scheduler.DAGScheduler.$anonfun$handleTaskSetFailed$1$adapted(DAGScheduler.scala:973)\n\tat scala.Option.foreach(Option.scala:407)\n\tat org.apache.spark.scheduler.DAGScheduler.handleTaskSetFailed(DAGScheduler.scala:973)\n\tat org.apache.spark.scheduler.DAGSchedulerEventProcessLoop.doOnReceive(DAGScheduler.scala:2239)\n\tat org.apache.spark.scheduler.DAGSchedulerEventProcessLoop.onReceive(DAGScheduler.scala:2188)\n\tat org.apache.spark.scheduler.DAGSchedulerEventProcessLoop.onReceive(DAGScheduler.scala:2177)\n\tat org.apache.spark.util.EventLoop$$anon$1.run(EventLoop.scala:49)\n\tat org.apache.spark.scheduler.DAGScheduler.runJob(DAGScheduler.scala:775)\n\tat org.apache.spark.SparkContext.runJob(SparkContext.scala:2099)\n\tat org.apache.spark.SparkContext.runJob(SparkContext.scala:2120)\n\tat org.apache.spark.SparkContext.runJob(SparkContext.scala:2139)\n\tat org.apache.spark.SparkContext.runJob(SparkContext.scala:2164)\n\tat org.apache.spark.rdd.RDD.$anonfun$collect$1(RDD.scala:1004)\n\tat org.apache.spark.rdd.RDDOperationScope$.withScope(RDDOperationScope.scala:151)\n\tat org.apache.spark.rdd.RDDOperationScope$.withScope(RDDOperationScope.scala:112)\n\tat org.apache.spark.rdd.RDD.withScope(RDD.scala:388)\n\tat org.apache.spark.rdd.RDD.collect(RDD.scala:1003)\n\tat org.apache.spark.api.python.PythonRDD$.collectAndServe(PythonRDD.scala:168)\n\tat org.apache.spark.api.python.PythonRDD.collectAndServe(PythonRDD.scala)\n\tat sun.reflect.NativeMethodAccessorImpl.invoke0(Native Method)\n\tat sun.reflect.NativeMethodAccessorImpl.invoke(NativeMethodAccessorImpl.java:62)\n\tat sun.reflect.DelegatingMethodAccessorImpl.invoke(DelegatingMethodAccessorImpl.java:43)\n\tat java.lang.reflect.Method.invoke(Method.java:498)\n\tat py4j.reflection.MethodInvoker.invoke(MethodInvoker.java:244)\n\tat py4j.reflection.ReflectionEngine.invoke(ReflectionEngine.java:357)\n\tat py4j.Gateway.invoke(Gateway.java:282)\n\tat py4j.commands.AbstractCommand.invokeMethod(AbstractCommand.java:132)\n\tat py4j.commands.CallCommand.execute(CallCommand.java:79)\n\tat py4j.GatewayConnection.run(GatewayConnection.java:238)\n\tat java.lang.Thread.run(Thread.java:748)\nCaused by: org.apache.spark.api.python.PythonException: Traceback (most recent call last):\n  File \"/Library/Frameworks/Python.framework/Versions/3.8/lib/python3.8/site-packages/pyspark/python/lib/pyspark.zip/pyspark/worker.py\", line 477, in main\n    (\"%d.%d\" % sys.version_info[:2], version))\nException: Python in worker has different version 3.7 than that in driver 3.8, PySpark cannot run with different minor versions. Please check environment variables PYSPARK_PYTHON and PYSPARK_DRIVER_PYTHON are correctly set.\n\n\tat org.apache.spark.api.python.BasePythonRunner$ReaderIterator.handlePythonException(PythonRunner.scala:503)\n\tat org.apache.spark.api.python.PythonRunner$$anon$3.read(PythonRunner.scala:638)\n\tat org.apache.spark.api.python.PythonRunner$$anon$3.read(PythonRunner.scala:621)\n\tat org.apache.spark.api.python.BasePythonRunner$ReaderIterator.hasNext(PythonRunner.scala:456)\n\tat org.apache.spark.InterruptibleIterator.hasNext(InterruptibleIterator.scala:37)\n\tat scala.collection.Iterator.foreach(Iterator.scala:941)\n\tat scala.collection.Iterator.foreach$(Iterator.scala:941)\n\tat org.apache.spark.InterruptibleIterator.foreach(InterruptibleIterator.scala:28)\n\tat scala.collection.generic.Growable.$plus$plus$eq(Growable.scala:62)\n\tat scala.collection.generic.Growable.$plus$plus$eq$(Growable.scala:53)\n\tat scala.collection.mutable.ArrayBuffer.$plus$plus$eq(ArrayBuffer.scala:105)\n\tat scala.collection.mutable.ArrayBuffer.$plus$plus$eq(ArrayBuffer.scala:49)\n\tat scala.collection.TraversableOnce.to(TraversableOnce.scala:315)\n\tat scala.collection.TraversableOnce.to$(TraversableOnce.scala:313)\n\tat org.apache.spark.InterruptibleIterator.to(InterruptibleIterator.scala:28)\n\tat scala.collection.TraversableOnce.toBuffer(TraversableOnce.scala:307)\n\tat scala.collection.TraversableOnce.toBuffer$(TraversableOnce.scala:307)\n\tat org.apache.spark.InterruptibleIterator.toBuffer(InterruptibleIterator.scala:28)\n\tat scala.collection.TraversableOnce.toArray(TraversableOnce.scala:294)\n\tat scala.collection.TraversableOnce.toArray$(TraversableOnce.scala:288)\n\tat org.apache.spark.InterruptibleIterator.toArray(InterruptibleIterator.scala:28)\n\tat org.apache.spark.rdd.RDD.$anonfun$collect$2(RDD.scala:1004)\n\tat org.apache.spark.SparkContext.$anonfun$runJob$5(SparkContext.scala:2139)\n\tat org.apache.spark.scheduler.ResultTask.runTask(ResultTask.scala:90)\n\tat org.apache.spark.scheduler.Task.run(Task.scala:127)\n\tat org.apache.spark.executor.Executor$TaskRunner.$anonfun$run$3(Executor.scala:446)\n\tat org.apache.spark.util.Utils$.tryWithSafeFinally(Utils.scala:1377)\n\tat org.apache.spark.executor.Executor$TaskRunner.run(Executor.scala:449)\n\tat java.util.concurrent.ThreadPoolExecutor.runWorker(ThreadPoolExecutor.java:1149)\n\tat java.util.concurrent.ThreadPoolExecutor$Worker.run(ThreadPoolExecutor.java:624)\n\t... 1 more\n",
     "output_type": "error",
     "traceback": [
      "\u001b[0;31m---------------------------------------------------------------------------\u001b[0m",
      "\u001b[0;31mPy4JJavaError\u001b[0m                             Traceback (most recent call last)",
      "\u001b[0;32m<ipython-input-71-1f21fa5a16ff>\u001b[0m in \u001b[0;36m<module>\u001b[0;34m\u001b[0m\n\u001b[0;32m----> 1\u001b[0;31m \u001b[0munion123\u001b[0m\u001b[0;34m.\u001b[0m\u001b[0mcollect\u001b[0m\u001b[0;34m(\u001b[0m\u001b[0;34m)\u001b[0m\u001b[0;34m\u001b[0m\u001b[0;34m\u001b[0m\u001b[0m\n\u001b[0m",
      "\u001b[0;32m/Library/Frameworks/Python.framework/Versions/3.8/lib/python3.8/site-packages/pyspark/rdd.py\u001b[0m in \u001b[0;36mcollect\u001b[0;34m(self)\u001b[0m\n\u001b[1;32m    887\u001b[0m         \"\"\"\n\u001b[1;32m    888\u001b[0m         \u001b[0;32mwith\u001b[0m \u001b[0mSCCallSiteSync\u001b[0m\u001b[0;34m(\u001b[0m\u001b[0mself\u001b[0m\u001b[0;34m.\u001b[0m\u001b[0mcontext\u001b[0m\u001b[0;34m)\u001b[0m \u001b[0;32mas\u001b[0m \u001b[0mcss\u001b[0m\u001b[0;34m:\u001b[0m\u001b[0;34m\u001b[0m\u001b[0;34m\u001b[0m\u001b[0m\n\u001b[0;32m--> 889\u001b[0;31m             \u001b[0msock_info\u001b[0m \u001b[0;34m=\u001b[0m \u001b[0mself\u001b[0m\u001b[0;34m.\u001b[0m\u001b[0mctx\u001b[0m\u001b[0;34m.\u001b[0m\u001b[0m_jvm\u001b[0m\u001b[0;34m.\u001b[0m\u001b[0mPythonRDD\u001b[0m\u001b[0;34m.\u001b[0m\u001b[0mcollectAndServe\u001b[0m\u001b[0;34m(\u001b[0m\u001b[0mself\u001b[0m\u001b[0;34m.\u001b[0m\u001b[0m_jrdd\u001b[0m\u001b[0;34m.\u001b[0m\u001b[0mrdd\u001b[0m\u001b[0;34m(\u001b[0m\u001b[0;34m)\u001b[0m\u001b[0;34m)\u001b[0m\u001b[0;34m\u001b[0m\u001b[0;34m\u001b[0m\u001b[0m\n\u001b[0m\u001b[1;32m    890\u001b[0m         \u001b[0;32mreturn\u001b[0m \u001b[0mlist\u001b[0m\u001b[0;34m(\u001b[0m\u001b[0m_load_from_socket\u001b[0m\u001b[0;34m(\u001b[0m\u001b[0msock_info\u001b[0m\u001b[0;34m,\u001b[0m \u001b[0mself\u001b[0m\u001b[0;34m.\u001b[0m\u001b[0m_jrdd_deserializer\u001b[0m\u001b[0;34m)\u001b[0m\u001b[0;34m)\u001b[0m\u001b[0;34m\u001b[0m\u001b[0;34m\u001b[0m\u001b[0m\n\u001b[1;32m    891\u001b[0m \u001b[0;34m\u001b[0m\u001b[0m\n",
      "\u001b[0;32m/Library/Frameworks/Python.framework/Versions/3.8/lib/python3.8/site-packages/py4j/java_gateway.py\u001b[0m in \u001b[0;36m__call__\u001b[0;34m(self, *args)\u001b[0m\n\u001b[1;32m   1302\u001b[0m \u001b[0;34m\u001b[0m\u001b[0m\n\u001b[1;32m   1303\u001b[0m         \u001b[0manswer\u001b[0m \u001b[0;34m=\u001b[0m \u001b[0mself\u001b[0m\u001b[0;34m.\u001b[0m\u001b[0mgateway_client\u001b[0m\u001b[0;34m.\u001b[0m\u001b[0msend_command\u001b[0m\u001b[0;34m(\u001b[0m\u001b[0mcommand\u001b[0m\u001b[0;34m)\u001b[0m\u001b[0;34m\u001b[0m\u001b[0;34m\u001b[0m\u001b[0m\n\u001b[0;32m-> 1304\u001b[0;31m         return_value = get_return_value(\n\u001b[0m\u001b[1;32m   1305\u001b[0m             answer, self.gateway_client, self.target_id, self.name)\n\u001b[1;32m   1306\u001b[0m \u001b[0;34m\u001b[0m\u001b[0m\n",
      "\u001b[0;32m/Library/Frameworks/Python.framework/Versions/3.8/lib/python3.8/site-packages/py4j/protocol.py\u001b[0m in \u001b[0;36mget_return_value\u001b[0;34m(answer, gateway_client, target_id, name)\u001b[0m\n\u001b[1;32m    324\u001b[0m             \u001b[0mvalue\u001b[0m \u001b[0;34m=\u001b[0m \u001b[0mOUTPUT_CONVERTER\u001b[0m\u001b[0;34m[\u001b[0m\u001b[0mtype\u001b[0m\u001b[0;34m]\u001b[0m\u001b[0;34m(\u001b[0m\u001b[0manswer\u001b[0m\u001b[0;34m[\u001b[0m\u001b[0;36m2\u001b[0m\u001b[0;34m:\u001b[0m\u001b[0;34m]\u001b[0m\u001b[0;34m,\u001b[0m \u001b[0mgateway_client\u001b[0m\u001b[0;34m)\u001b[0m\u001b[0;34m\u001b[0m\u001b[0;34m\u001b[0m\u001b[0m\n\u001b[1;32m    325\u001b[0m             \u001b[0;32mif\u001b[0m \u001b[0manswer\u001b[0m\u001b[0;34m[\u001b[0m\u001b[0;36m1\u001b[0m\u001b[0;34m]\u001b[0m \u001b[0;34m==\u001b[0m \u001b[0mREFERENCE_TYPE\u001b[0m\u001b[0;34m:\u001b[0m\u001b[0;34m\u001b[0m\u001b[0;34m\u001b[0m\u001b[0m\n\u001b[0;32m--> 326\u001b[0;31m                 raise Py4JJavaError(\n\u001b[0m\u001b[1;32m    327\u001b[0m                     \u001b[0;34m\"An error occurred while calling {0}{1}{2}.\\n\"\u001b[0m\u001b[0;34m.\u001b[0m\u001b[0;34m\u001b[0m\u001b[0;34m\u001b[0m\u001b[0m\n\u001b[1;32m    328\u001b[0m                     format(target_id, \".\", name), value)\n",
      "\u001b[0;31mPy4JJavaError\u001b[0m: An error occurred while calling z:org.apache.spark.api.python.PythonRDD.collectAndServe.\n: org.apache.spark.SparkException: Job aborted due to stage failure: Task 0 in stage 11.0 failed 1 times, most recent failure: Lost task 0.0 in stage 11.0 (TID 19, 192.168.1.4, executor driver): org.apache.spark.api.python.PythonException: Traceback (most recent call last):\n  File \"/Library/Frameworks/Python.framework/Versions/3.8/lib/python3.8/site-packages/pyspark/python/lib/pyspark.zip/pyspark/worker.py\", line 477, in main\n    (\"%d.%d\" % sys.version_info[:2], version))\nException: Python in worker has different version 3.7 than that in driver 3.8, PySpark cannot run with different minor versions. Please check environment variables PYSPARK_PYTHON and PYSPARK_DRIVER_PYTHON are correctly set.\n\n\tat org.apache.spark.api.python.BasePythonRunner$ReaderIterator.handlePythonException(PythonRunner.scala:503)\n\tat org.apache.spark.api.python.PythonRunner$$anon$3.read(PythonRunner.scala:638)\n\tat org.apache.spark.api.python.PythonRunner$$anon$3.read(PythonRunner.scala:621)\n\tat org.apache.spark.api.python.BasePythonRunner$ReaderIterator.hasNext(PythonRunner.scala:456)\n\tat org.apache.spark.InterruptibleIterator.hasNext(InterruptibleIterator.scala:37)\n\tat scala.collection.Iterator.foreach(Iterator.scala:941)\n\tat scala.collection.Iterator.foreach$(Iterator.scala:941)\n\tat org.apache.spark.InterruptibleIterator.foreach(InterruptibleIterator.scala:28)\n\tat scala.collection.generic.Growable.$plus$plus$eq(Growable.scala:62)\n\tat scala.collection.generic.Growable.$plus$plus$eq$(Growable.scala:53)\n\tat scala.collection.mutable.ArrayBuffer.$plus$plus$eq(ArrayBuffer.scala:105)\n\tat scala.collection.mutable.ArrayBuffer.$plus$plus$eq(ArrayBuffer.scala:49)\n\tat scala.collection.TraversableOnce.to(TraversableOnce.scala:315)\n\tat scala.collection.TraversableOnce.to$(TraversableOnce.scala:313)\n\tat org.apache.spark.InterruptibleIterator.to(InterruptibleIterator.scala:28)\n\tat scala.collection.TraversableOnce.toBuffer(TraversableOnce.scala:307)\n\tat scala.collection.TraversableOnce.toBuffer$(TraversableOnce.scala:307)\n\tat org.apache.spark.InterruptibleIterator.toBuffer(InterruptibleIterator.scala:28)\n\tat scala.collection.TraversableOnce.toArray(TraversableOnce.scala:294)\n\tat scala.collection.TraversableOnce.toArray$(TraversableOnce.scala:288)\n\tat org.apache.spark.InterruptibleIterator.toArray(InterruptibleIterator.scala:28)\n\tat org.apache.spark.rdd.RDD.$anonfun$collect$2(RDD.scala:1004)\n\tat org.apache.spark.SparkContext.$anonfun$runJob$5(SparkContext.scala:2139)\n\tat org.apache.spark.scheduler.ResultTask.runTask(ResultTask.scala:90)\n\tat org.apache.spark.scheduler.Task.run(Task.scala:127)\n\tat org.apache.spark.executor.Executor$TaskRunner.$anonfun$run$3(Executor.scala:446)\n\tat org.apache.spark.util.Utils$.tryWithSafeFinally(Utils.scala:1377)\n\tat org.apache.spark.executor.Executor$TaskRunner.run(Executor.scala:449)\n\tat java.util.concurrent.ThreadPoolExecutor.runWorker(ThreadPoolExecutor.java:1149)\n\tat java.util.concurrent.ThreadPoolExecutor$Worker.run(ThreadPoolExecutor.java:624)\n\tat java.lang.Thread.run(Thread.java:748)\n\nDriver stacktrace:\n\tat org.apache.spark.scheduler.DAGScheduler.failJobAndIndependentStages(DAGScheduler.scala:2059)\n\tat org.apache.spark.scheduler.DAGScheduler.$anonfun$abortStage$2(DAGScheduler.scala:2008)\n\tat org.apache.spark.scheduler.DAGScheduler.$anonfun$abortStage$2$adapted(DAGScheduler.scala:2007)\n\tat scala.collection.mutable.ResizableArray.foreach(ResizableArray.scala:62)\n\tat scala.collection.mutable.ResizableArray.foreach$(ResizableArray.scala:55)\n\tat scala.collection.mutable.ArrayBuffer.foreach(ArrayBuffer.scala:49)\n\tat org.apache.spark.scheduler.DAGScheduler.abortStage(DAGScheduler.scala:2007)\n\tat org.apache.spark.scheduler.DAGScheduler.$anonfun$handleTaskSetFailed$1(DAGScheduler.scala:973)\n\tat org.apache.spark.scheduler.DAGScheduler.$anonfun$handleTaskSetFailed$1$adapted(DAGScheduler.scala:973)\n\tat scala.Option.foreach(Option.scala:407)\n\tat org.apache.spark.scheduler.DAGScheduler.handleTaskSetFailed(DAGScheduler.scala:973)\n\tat org.apache.spark.scheduler.DAGSchedulerEventProcessLoop.doOnReceive(DAGScheduler.scala:2239)\n\tat org.apache.spark.scheduler.DAGSchedulerEventProcessLoop.onReceive(DAGScheduler.scala:2188)\n\tat org.apache.spark.scheduler.DAGSchedulerEventProcessLoop.onReceive(DAGScheduler.scala:2177)\n\tat org.apache.spark.util.EventLoop$$anon$1.run(EventLoop.scala:49)\n\tat org.apache.spark.scheduler.DAGScheduler.runJob(DAGScheduler.scala:775)\n\tat org.apache.spark.SparkContext.runJob(SparkContext.scala:2099)\n\tat org.apache.spark.SparkContext.runJob(SparkContext.scala:2120)\n\tat org.apache.spark.SparkContext.runJob(SparkContext.scala:2139)\n\tat org.apache.spark.SparkContext.runJob(SparkContext.scala:2164)\n\tat org.apache.spark.rdd.RDD.$anonfun$collect$1(RDD.scala:1004)\n\tat org.apache.spark.rdd.RDDOperationScope$.withScope(RDDOperationScope.scala:151)\n\tat org.apache.spark.rdd.RDDOperationScope$.withScope(RDDOperationScope.scala:112)\n\tat org.apache.spark.rdd.RDD.withScope(RDD.scala:388)\n\tat org.apache.spark.rdd.RDD.collect(RDD.scala:1003)\n\tat org.apache.spark.api.python.PythonRDD$.collectAndServe(PythonRDD.scala:168)\n\tat org.apache.spark.api.python.PythonRDD.collectAndServe(PythonRDD.scala)\n\tat sun.reflect.NativeMethodAccessorImpl.invoke0(Native Method)\n\tat sun.reflect.NativeMethodAccessorImpl.invoke(NativeMethodAccessorImpl.java:62)\n\tat sun.reflect.DelegatingMethodAccessorImpl.invoke(DelegatingMethodAccessorImpl.java:43)\n\tat java.lang.reflect.Method.invoke(Method.java:498)\n\tat py4j.reflection.MethodInvoker.invoke(MethodInvoker.java:244)\n\tat py4j.reflection.ReflectionEngine.invoke(ReflectionEngine.java:357)\n\tat py4j.Gateway.invoke(Gateway.java:282)\n\tat py4j.commands.AbstractCommand.invokeMethod(AbstractCommand.java:132)\n\tat py4j.commands.CallCommand.execute(CallCommand.java:79)\n\tat py4j.GatewayConnection.run(GatewayConnection.java:238)\n\tat java.lang.Thread.run(Thread.java:748)\nCaused by: org.apache.spark.api.python.PythonException: Traceback (most recent call last):\n  File \"/Library/Frameworks/Python.framework/Versions/3.8/lib/python3.8/site-packages/pyspark/python/lib/pyspark.zip/pyspark/worker.py\", line 477, in main\n    (\"%d.%d\" % sys.version_info[:2], version))\nException: Python in worker has different version 3.7 than that in driver 3.8, PySpark cannot run with different minor versions. Please check environment variables PYSPARK_PYTHON and PYSPARK_DRIVER_PYTHON are correctly set.\n\n\tat org.apache.spark.api.python.BasePythonRunner$ReaderIterator.handlePythonException(PythonRunner.scala:503)\n\tat org.apache.spark.api.python.PythonRunner$$anon$3.read(PythonRunner.scala:638)\n\tat org.apache.spark.api.python.PythonRunner$$anon$3.read(PythonRunner.scala:621)\n\tat org.apache.spark.api.python.BasePythonRunner$ReaderIterator.hasNext(PythonRunner.scala:456)\n\tat org.apache.spark.InterruptibleIterator.hasNext(InterruptibleIterator.scala:37)\n\tat scala.collection.Iterator.foreach(Iterator.scala:941)\n\tat scala.collection.Iterator.foreach$(Iterator.scala:941)\n\tat org.apache.spark.InterruptibleIterator.foreach(InterruptibleIterator.scala:28)\n\tat scala.collection.generic.Growable.$plus$plus$eq(Growable.scala:62)\n\tat scala.collection.generic.Growable.$plus$plus$eq$(Growable.scala:53)\n\tat scala.collection.mutable.ArrayBuffer.$plus$plus$eq(ArrayBuffer.scala:105)\n\tat scala.collection.mutable.ArrayBuffer.$plus$plus$eq(ArrayBuffer.scala:49)\n\tat scala.collection.TraversableOnce.to(TraversableOnce.scala:315)\n\tat scala.collection.TraversableOnce.to$(TraversableOnce.scala:313)\n\tat org.apache.spark.InterruptibleIterator.to(InterruptibleIterator.scala:28)\n\tat scala.collection.TraversableOnce.toBuffer(TraversableOnce.scala:307)\n\tat scala.collection.TraversableOnce.toBuffer$(TraversableOnce.scala:307)\n\tat org.apache.spark.InterruptibleIterator.toBuffer(InterruptibleIterator.scala:28)\n\tat scala.collection.TraversableOnce.toArray(TraversableOnce.scala:294)\n\tat scala.collection.TraversableOnce.toArray$(TraversableOnce.scala:288)\n\tat org.apache.spark.InterruptibleIterator.toArray(InterruptibleIterator.scala:28)\n\tat org.apache.spark.rdd.RDD.$anonfun$collect$2(RDD.scala:1004)\n\tat org.apache.spark.SparkContext.$anonfun$runJob$5(SparkContext.scala:2139)\n\tat org.apache.spark.scheduler.ResultTask.runTask(ResultTask.scala:90)\n\tat org.apache.spark.scheduler.Task.run(Task.scala:127)\n\tat org.apache.spark.executor.Executor$TaskRunner.$anonfun$run$3(Executor.scala:446)\n\tat org.apache.spark.util.Utils$.tryWithSafeFinally(Utils.scala:1377)\n\tat org.apache.spark.executor.Executor$TaskRunner.run(Executor.scala:449)\n\tat java.util.concurrent.ThreadPoolExecutor.runWorker(ThreadPoolExecutor.java:1149)\n\tat java.util.concurrent.ThreadPoolExecutor$Worker.run(ThreadPoolExecutor.java:624)\n\t... 1 more\n"
     ]
    }
   ],
   "source": [
    "union123.collect()"
   ]
  },
  {
   "cell_type": "markdown",
   "metadata": {},
   "source": [
    "## SkLearn implementation"
   ]
  },
  {
   "cell_type": "code",
   "execution_count": 2,
   "metadata": {},
   "outputs": [],
   "source": [
    "S = scipy.sparse.load_npz('/dlabdata1/youtube_large/olam/matrices/S_final.npz')"
   ]
  },
  {
   "cell_type": "code",
   "execution_count": 3,
   "metadata": {},
   "outputs": [
    {
     "data": {
      "text/plain": [
       "<68638982x744141 sparse matrix of type '<class 'numpy.uint8'>'\n",
       "\twith 1393937498 stored elements in Compressed Sparse Row format>"
      ]
     },
     "execution_count": 3,
     "metadata": {},
     "output_type": "execute_result"
    }
   ],
   "source": [
    "S"
   ]
  },
  {
   "cell_type": "code",
   "execution_count": 6,
   "metadata": {},
   "outputs": [],
   "source": [
    "lda = LatentDirichletAllocation(n_components=20,\n",
    "                                batch_size=128,\n",
    "                                n_jobs=4,\n",
    "                                verbose=1,\n",
    "                                random_state=0)"
   ]
  },
  {
   "cell_type": "code",
   "execution_count": 7,
   "metadata": {},
   "outputs": [
    {
     "ename": "error",
     "evalue": "'i' format requires -2147483648 <= number <= 2147483647",
     "output_type": "error",
     "traceback": [
      "\u001b[0;31m---------------------------------------------------------------------------\u001b[0m",
      "\u001b[0;31m_RemoteTraceback\u001b[0m                          Traceback (most recent call last)",
      "\u001b[0;31m_RemoteTraceback\u001b[0m: \n\"\"\"\nTraceback (most recent call last):\n  File \"/opt/anaconda3/lib/python3.7/site-packages/joblib/externals/loky/process_executor.py\", line 344, in _sendback_result\n    exception=exception))\n  File \"/opt/anaconda3/lib/python3.7/site-packages/joblib/externals/loky/backend/queues.py\", line 240, in put\n    self._writer.send_bytes(obj)\n  File \"/opt/anaconda3/lib/python3.7/multiprocessing/connection.py\", line 200, in send_bytes\n    self._send_bytes(m[offset:offset + size])\n  File \"/opt/anaconda3/lib/python3.7/multiprocessing/connection.py\", line 393, in _send_bytes\n    header = struct.pack(\"!i\", n)\nstruct.error: 'i' format requires -2147483648 <= number <= 2147483647\n\"\"\"",
      "\nThe above exception was the direct cause of the following exception:\n",
      "\u001b[0;31merror\u001b[0m                                     Traceback (most recent call last)",
      "\u001b[0;32m<ipython-input-7-c8673f145472>\u001b[0m in \u001b[0;36m<module>\u001b[0;34m\u001b[0m\n\u001b[0;32m----> 1\u001b[0;31m \u001b[0mlda\u001b[0m\u001b[0;34m.\u001b[0m\u001b[0mfit\u001b[0m\u001b[0;34m(\u001b[0m\u001b[0mS\u001b[0m\u001b[0;34m)\u001b[0m\u001b[0;34m\u001b[0m\u001b[0;34m\u001b[0m\u001b[0m\n\u001b[0m",
      "\u001b[0;32m/opt/anaconda3/lib/python3.7/site-packages/sklearn/decomposition/_lda.py\u001b[0m in \u001b[0;36mfit\u001b[0;34m(self, X, y)\u001b[0m\n\u001b[1;32m    566\u001b[0m                     \u001b[0;31m# batch update\u001b[0m\u001b[0;34m\u001b[0m\u001b[0;34m\u001b[0m\u001b[0;34m\u001b[0m\u001b[0m\n\u001b[1;32m    567\u001b[0m                     self._em_step(X, total_samples=n_samples,\n\u001b[0;32m--> 568\u001b[0;31m                                   batch_update=True, parallel=parallel)\n\u001b[0m\u001b[1;32m    569\u001b[0m \u001b[0;34m\u001b[0m\u001b[0m\n\u001b[1;32m    570\u001b[0m                 \u001b[0;31m# check perplexity\u001b[0m\u001b[0;34m\u001b[0m\u001b[0;34m\u001b[0m\u001b[0;34m\u001b[0m\u001b[0m\n",
      "\u001b[0;32m/opt/anaconda3/lib/python3.7/site-packages/sklearn/decomposition/_lda.py\u001b[0m in \u001b[0;36m_em_step\u001b[0;34m(self, X, total_samples, batch_update, parallel)\u001b[0m\n\u001b[1;32m    446\u001b[0m         \u001b[0;31m# E-step\u001b[0m\u001b[0;34m\u001b[0m\u001b[0;34m\u001b[0m\u001b[0;34m\u001b[0m\u001b[0m\n\u001b[1;32m    447\u001b[0m         _, suff_stats = self._e_step(X, cal_sstats=True, random_init=True,\n\u001b[0;32m--> 448\u001b[0;31m                                      parallel=parallel)\n\u001b[0m\u001b[1;32m    449\u001b[0m \u001b[0;34m\u001b[0m\u001b[0m\n\u001b[1;32m    450\u001b[0m         \u001b[0;31m# M-step\u001b[0m\u001b[0;34m\u001b[0m\u001b[0;34m\u001b[0m\u001b[0;34m\u001b[0m\u001b[0m\n",
      "\u001b[0;32m/opt/anaconda3/lib/python3.7/site-packages/sklearn/decomposition/_lda.py\u001b[0m in \u001b[0;36m_e_step\u001b[0;34m(self, X, cal_sstats, random_init, parallel)\u001b[0m\n\u001b[1;32m    399\u001b[0m                                               \u001b[0mself\u001b[0m\u001b[0;34m.\u001b[0m\u001b[0mmean_change_tol\u001b[0m\u001b[0;34m,\u001b[0m \u001b[0mcal_sstats\u001b[0m\u001b[0;34m,\u001b[0m\u001b[0;34m\u001b[0m\u001b[0;34m\u001b[0m\u001b[0m\n\u001b[1;32m    400\u001b[0m                                               random_state)\n\u001b[0;32m--> 401\u001b[0;31m             for idx_slice in gen_even_slices(X.shape[0], n_jobs))\n\u001b[0m\u001b[1;32m    402\u001b[0m \u001b[0;34m\u001b[0m\u001b[0m\n\u001b[1;32m    403\u001b[0m         \u001b[0;31m# merge result\u001b[0m\u001b[0;34m\u001b[0m\u001b[0;34m\u001b[0m\u001b[0;34m\u001b[0m\u001b[0m\n",
      "\u001b[0;32m/opt/anaconda3/lib/python3.7/site-packages/joblib/parallel.py\u001b[0m in \u001b[0;36m__call__\u001b[0;34m(self, iterable)\u001b[0m\n\u001b[1;32m   1015\u001b[0m \u001b[0;34m\u001b[0m\u001b[0m\n\u001b[1;32m   1016\u001b[0m             \u001b[0;32mwith\u001b[0m \u001b[0mself\u001b[0m\u001b[0;34m.\u001b[0m\u001b[0m_backend\u001b[0m\u001b[0;34m.\u001b[0m\u001b[0mretrieval_context\u001b[0m\u001b[0;34m(\u001b[0m\u001b[0;34m)\u001b[0m\u001b[0;34m:\u001b[0m\u001b[0;34m\u001b[0m\u001b[0;34m\u001b[0m\u001b[0m\n\u001b[0;32m-> 1017\u001b[0;31m                 \u001b[0mself\u001b[0m\u001b[0;34m.\u001b[0m\u001b[0mretrieve\u001b[0m\u001b[0;34m(\u001b[0m\u001b[0;34m)\u001b[0m\u001b[0;34m\u001b[0m\u001b[0;34m\u001b[0m\u001b[0m\n\u001b[0m\u001b[1;32m   1018\u001b[0m             \u001b[0;31m# Make sure that we get a last message telling us we are done\u001b[0m\u001b[0;34m\u001b[0m\u001b[0;34m\u001b[0m\u001b[0;34m\u001b[0m\u001b[0m\n\u001b[1;32m   1019\u001b[0m             \u001b[0melapsed_time\u001b[0m \u001b[0;34m=\u001b[0m \u001b[0mtime\u001b[0m\u001b[0;34m.\u001b[0m\u001b[0mtime\u001b[0m\u001b[0;34m(\u001b[0m\u001b[0;34m)\u001b[0m \u001b[0;34m-\u001b[0m \u001b[0mself\u001b[0m\u001b[0;34m.\u001b[0m\u001b[0m_start_time\u001b[0m\u001b[0;34m\u001b[0m\u001b[0;34m\u001b[0m\u001b[0m\n",
      "\u001b[0;32m/opt/anaconda3/lib/python3.7/site-packages/joblib/parallel.py\u001b[0m in \u001b[0;36mretrieve\u001b[0;34m(self)\u001b[0m\n\u001b[1;32m    907\u001b[0m             \u001b[0;32mtry\u001b[0m\u001b[0;34m:\u001b[0m\u001b[0;34m\u001b[0m\u001b[0;34m\u001b[0m\u001b[0m\n\u001b[1;32m    908\u001b[0m                 \u001b[0;32mif\u001b[0m \u001b[0mgetattr\u001b[0m\u001b[0;34m(\u001b[0m\u001b[0mself\u001b[0m\u001b[0;34m.\u001b[0m\u001b[0m_backend\u001b[0m\u001b[0;34m,\u001b[0m \u001b[0;34m'supports_timeout'\u001b[0m\u001b[0;34m,\u001b[0m \u001b[0;32mFalse\u001b[0m\u001b[0;34m)\u001b[0m\u001b[0;34m:\u001b[0m\u001b[0;34m\u001b[0m\u001b[0;34m\u001b[0m\u001b[0m\n\u001b[0;32m--> 909\u001b[0;31m                     \u001b[0mself\u001b[0m\u001b[0;34m.\u001b[0m\u001b[0m_output\u001b[0m\u001b[0;34m.\u001b[0m\u001b[0mextend\u001b[0m\u001b[0;34m(\u001b[0m\u001b[0mjob\u001b[0m\u001b[0;34m.\u001b[0m\u001b[0mget\u001b[0m\u001b[0;34m(\u001b[0m\u001b[0mtimeout\u001b[0m\u001b[0;34m=\u001b[0m\u001b[0mself\u001b[0m\u001b[0;34m.\u001b[0m\u001b[0mtimeout\u001b[0m\u001b[0;34m)\u001b[0m\u001b[0;34m)\u001b[0m\u001b[0;34m\u001b[0m\u001b[0;34m\u001b[0m\u001b[0m\n\u001b[0m\u001b[1;32m    910\u001b[0m                 \u001b[0;32melse\u001b[0m\u001b[0;34m:\u001b[0m\u001b[0;34m\u001b[0m\u001b[0;34m\u001b[0m\u001b[0m\n\u001b[1;32m    911\u001b[0m                     \u001b[0mself\u001b[0m\u001b[0;34m.\u001b[0m\u001b[0m_output\u001b[0m\u001b[0;34m.\u001b[0m\u001b[0mextend\u001b[0m\u001b[0;34m(\u001b[0m\u001b[0mjob\u001b[0m\u001b[0;34m.\u001b[0m\u001b[0mget\u001b[0m\u001b[0;34m(\u001b[0m\u001b[0;34m)\u001b[0m\u001b[0;34m)\u001b[0m\u001b[0;34m\u001b[0m\u001b[0;34m\u001b[0m\u001b[0m\n",
      "\u001b[0;32m/opt/anaconda3/lib/python3.7/site-packages/joblib/_parallel_backends.py\u001b[0m in \u001b[0;36mwrap_future_result\u001b[0;34m(future, timeout)\u001b[0m\n\u001b[1;32m    560\u001b[0m         AsyncResults.get from multiprocessing.\"\"\"\n\u001b[1;32m    561\u001b[0m         \u001b[0;32mtry\u001b[0m\u001b[0;34m:\u001b[0m\u001b[0;34m\u001b[0m\u001b[0;34m\u001b[0m\u001b[0m\n\u001b[0;32m--> 562\u001b[0;31m             \u001b[0;32mreturn\u001b[0m \u001b[0mfuture\u001b[0m\u001b[0;34m.\u001b[0m\u001b[0mresult\u001b[0m\u001b[0;34m(\u001b[0m\u001b[0mtimeout\u001b[0m\u001b[0;34m=\u001b[0m\u001b[0mtimeout\u001b[0m\u001b[0;34m)\u001b[0m\u001b[0;34m\u001b[0m\u001b[0;34m\u001b[0m\u001b[0m\n\u001b[0m\u001b[1;32m    563\u001b[0m         \u001b[0;32mexcept\u001b[0m \u001b[0mLokyTimeoutError\u001b[0m\u001b[0;34m:\u001b[0m\u001b[0;34m\u001b[0m\u001b[0;34m\u001b[0m\u001b[0m\n\u001b[1;32m    564\u001b[0m             \u001b[0;32mraise\u001b[0m \u001b[0mTimeoutError\u001b[0m\u001b[0;34m(\u001b[0m\u001b[0;34m)\u001b[0m\u001b[0;34m\u001b[0m\u001b[0;34m\u001b[0m\u001b[0m\n",
      "\u001b[0;32m/opt/anaconda3/lib/python3.7/concurrent/futures/_base.py\u001b[0m in \u001b[0;36mresult\u001b[0;34m(self, timeout)\u001b[0m\n\u001b[1;32m    433\u001b[0m                 \u001b[0;32mraise\u001b[0m \u001b[0mCancelledError\u001b[0m\u001b[0;34m(\u001b[0m\u001b[0;34m)\u001b[0m\u001b[0;34m\u001b[0m\u001b[0;34m\u001b[0m\u001b[0m\n\u001b[1;32m    434\u001b[0m             \u001b[0;32melif\u001b[0m \u001b[0mself\u001b[0m\u001b[0;34m.\u001b[0m\u001b[0m_state\u001b[0m \u001b[0;34m==\u001b[0m \u001b[0mFINISHED\u001b[0m\u001b[0;34m:\u001b[0m\u001b[0;34m\u001b[0m\u001b[0;34m\u001b[0m\u001b[0m\n\u001b[0;32m--> 435\u001b[0;31m                 \u001b[0;32mreturn\u001b[0m \u001b[0mself\u001b[0m\u001b[0;34m.\u001b[0m\u001b[0m__get_result\u001b[0m\u001b[0;34m(\u001b[0m\u001b[0;34m)\u001b[0m\u001b[0;34m\u001b[0m\u001b[0;34m\u001b[0m\u001b[0m\n\u001b[0m\u001b[1;32m    436\u001b[0m             \u001b[0;32melse\u001b[0m\u001b[0;34m:\u001b[0m\u001b[0;34m\u001b[0m\u001b[0;34m\u001b[0m\u001b[0m\n\u001b[1;32m    437\u001b[0m                 \u001b[0;32mraise\u001b[0m \u001b[0mTimeoutError\u001b[0m\u001b[0;34m(\u001b[0m\u001b[0;34m)\u001b[0m\u001b[0;34m\u001b[0m\u001b[0;34m\u001b[0m\u001b[0m\n",
      "\u001b[0;32m/opt/anaconda3/lib/python3.7/concurrent/futures/_base.py\u001b[0m in \u001b[0;36m__get_result\u001b[0;34m(self)\u001b[0m\n\u001b[1;32m    382\u001b[0m     \u001b[0;32mdef\u001b[0m \u001b[0m__get_result\u001b[0m\u001b[0;34m(\u001b[0m\u001b[0mself\u001b[0m\u001b[0;34m)\u001b[0m\u001b[0;34m:\u001b[0m\u001b[0;34m\u001b[0m\u001b[0;34m\u001b[0m\u001b[0m\n\u001b[1;32m    383\u001b[0m         \u001b[0;32mif\u001b[0m \u001b[0mself\u001b[0m\u001b[0;34m.\u001b[0m\u001b[0m_exception\u001b[0m\u001b[0;34m:\u001b[0m\u001b[0;34m\u001b[0m\u001b[0;34m\u001b[0m\u001b[0m\n\u001b[0;32m--> 384\u001b[0;31m             \u001b[0;32mraise\u001b[0m \u001b[0mself\u001b[0m\u001b[0;34m.\u001b[0m\u001b[0m_exception\u001b[0m\u001b[0;34m\u001b[0m\u001b[0;34m\u001b[0m\u001b[0m\n\u001b[0m\u001b[1;32m    385\u001b[0m         \u001b[0;32melse\u001b[0m\u001b[0;34m:\u001b[0m\u001b[0;34m\u001b[0m\u001b[0;34m\u001b[0m\u001b[0m\n\u001b[1;32m    386\u001b[0m             \u001b[0;32mreturn\u001b[0m \u001b[0mself\u001b[0m\u001b[0;34m.\u001b[0m\u001b[0m_result\u001b[0m\u001b[0;34m\u001b[0m\u001b[0;34m\u001b[0m\u001b[0m\n",
      "\u001b[0;31merror\u001b[0m: 'i' format requires -2147483648 <= number <= 2147483647"
     ]
    }
   ],
   "source": [
    "lda.fit(S)"
   ]
  },
  {
   "cell_type": "code",
   "execution_count": 13,
   "metadata": {},
   "outputs": [
    {
     "data": {
      "text/plain": [
       "array([[3.89431457e-10, 3.89431456e-10, 1.93689538e-08, ...,\n",
       "        3.89431456e-10, 3.89431456e-10, 1.10061402e-09],\n",
       "       [1.69037910e-07, 4.11797598e-10, 4.11797598e-10, ...,\n",
       "        4.11797598e-10, 4.11797598e-10, 5.82636610e-10],\n",
       "       [2.76393768e-10, 2.76393765e-10, 2.76393766e-10, ...,\n",
       "        1.55702996e-09, 4.27726029e-09, 2.76394169e-10],\n",
       "       ...,\n",
       "       [4.30232373e-10, 4.30232373e-10, 5.91031833e-09, ...,\n",
       "        4.30232377e-10, 4.30232373e-10, 4.36399047e-10],\n",
       "       [6.16629379e-08, 3.16846687e-10, 2.20204666e-08, ...,\n",
       "        3.16846687e-10, 3.16846687e-10, 3.16846872e-10],\n",
       "       [1.30087122e-09, 5.29652383e-10, 5.29652384e-10, ...,\n",
       "        5.32241178e-10, 8.39788292e-07, 5.29652400e-10]])"
      ]
     },
     "execution_count": 13,
     "metadata": {},
     "output_type": "execute_result"
    }
   ],
   "source": [
    "lda.components_ / lda.components_.sum(axis=1)[:, np.newaxis]"
   ]
  },
  {
   "cell_type": "code",
   "execution_count": 16,
   "metadata": {},
   "outputs": [
    {
     "data": {
      "text/plain": [
       "0.05"
      ]
     },
     "execution_count": 16,
     "metadata": {},
     "output_type": "execute_result"
    }
   ],
   "source": [
    "lda.doc_topic_prior_"
   ]
  },
  {
   "cell_type": "code",
   "execution_count": 17,
   "metadata": {},
   "outputs": [
    {
     "data": {
      "text/plain": [
       "0.05"
      ]
     },
     "execution_count": 17,
     "metadata": {},
     "output_type": "execute_result"
    }
   ],
   "source": [
    "lda.topic_word_prior_"
   ]
  },
  {
   "cell_type": "code",
   "execution_count": 18,
   "metadata": {},
   "outputs": [],
   "source": [
    "with open('/dlabdata1/youtube_large/olam/lda_model_3iter.pickle', 'wb') as f:\n",
    "    pickle.dump(lda, f)\n",
    "f.close()"
   ]
  },
  {
   "cell_type": "code",
   "execution_count": 19,
   "metadata": {},
   "outputs": [],
   "source": [
    "with open('/dlabdata1/youtube_large/olam/lda_model_3iter.pickle', 'rb') as f:\n",
    "    lda_test = pickle.load(f)\n",
    "f.close()"
   ]
  },
  {
   "cell_type": "code",
   "execution_count": 21,
   "metadata": {},
   "outputs": [
    {
     "data": {
      "text/plain": [
       "array([[3.89431457e-10, 3.89431456e-10, 1.93689538e-08, ...,\n",
       "        3.89431456e-10, 3.89431456e-10, 1.10061402e-09],\n",
       "       [1.69037910e-07, 4.11797598e-10, 4.11797598e-10, ...,\n",
       "        4.11797598e-10, 4.11797598e-10, 5.82636610e-10],\n",
       "       [2.76393768e-10, 2.76393765e-10, 2.76393766e-10, ...,\n",
       "        1.55702996e-09, 4.27726029e-09, 2.76394169e-10],\n",
       "       ...,\n",
       "       [4.30232373e-10, 4.30232373e-10, 5.91031833e-09, ...,\n",
       "        4.30232377e-10, 4.30232373e-10, 4.36399047e-10],\n",
       "       [6.16629379e-08, 3.16846687e-10, 2.20204666e-08, ...,\n",
       "        3.16846687e-10, 3.16846687e-10, 3.16846872e-10],\n",
       "       [1.30087122e-09, 5.29652383e-10, 5.29652384e-10, ...,\n",
       "        5.32241178e-10, 8.39788292e-07, 5.29652400e-10]])"
      ]
     },
     "execution_count": 21,
     "metadata": {},
     "output_type": "execute_result"
    }
   ],
   "source": [
    "lda_test.components_ / lda_test.components_.sum(axis=1)[:, np.newaxis]"
   ]
  },
  {
   "cell_type": "code",
   "execution_count": null,
   "metadata": {},
   "outputs": [],
   "source": []
  }
 ],
 "metadata": {
  "kernelspec": {
   "display_name": "Python 3",
   "language": "python",
   "name": "python3"
  },
  "language_info": {
   "codemirror_mode": {
    "name": "ipython",
    "version": 3
   },
   "file_extension": ".py",
   "mimetype": "text/x-python",
   "name": "python",
   "nbconvert_exporter": "python",
   "pygments_lexer": "ipython3",
   "version": "3.7.7"
  }
 },
 "nbformat": 4,
 "nbformat_minor": 4
}
