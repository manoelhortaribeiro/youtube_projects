{
 "cells": [
  {
   "cell_type": "code",
   "execution_count": 1,
   "metadata": {},
   "outputs": [
    {
     "name": "stderr",
     "output_type": "stream",
     "text": [
      "[nltk_data] Downloading package stopwords to /home/olam/nltk_data...\n",
      "[nltk_data]   Package stopwords is already up-to-date!\n"
     ]
    },
    {
     "data": {
      "text/plain": [
       "True"
      ]
     },
     "execution_count": 1,
     "metadata": {},
     "output_type": "execute_result"
    }
   ],
   "source": [
    "import collections\n",
    "import fasttext\n",
    "import json\n",
    "import nltk\n",
    "import pickle\n",
    "import scipy.sparse\n",
    "import sys\n",
    "import time\n",
    "\n",
    "import numpy as np\n",
    "import pandas as pd\n",
    "import zstandard as zstd\n",
    "\n",
    "from collections import Counter\n",
    "from langdetect import detect\n",
    "from nltk.corpus import stopwords\n",
    "from nltk.stem.snowball import SnowballStemmer\n",
    "from nltk.tokenize import RegexpTokenizer\n",
    "from scipy.sparse import dok_matrix\n",
    "\n",
    "nltk.download('stopwords')"
   ]
  },
  {
   "cell_type": "code",
   "execution_count": 2,
   "metadata": {},
   "outputs": [],
   "source": [
    "stop_words = set(stopwords.words('english'))\n",
    "tokenizer = RegexpTokenizer(r'\\w+')\n",
    "s_stemmer = SnowballStemmer(language='english')"
   ]
  },
  {
   "cell_type": "code",
   "execution_count": 3,
   "metadata": {},
   "outputs": [],
   "source": [
    "class Zreader:\n",
    "\n",
    "    def __init__(self, file, chunk_size=16384):\n",
    "        '''Init method'''\n",
    "        self.fh = open(file,'rb')\n",
    "        self.chunk_size = chunk_size\n",
    "        self.dctx = zstd.ZstdDecompressor()\n",
    "        self.reader = self.dctx.stream_reader(self.fh)\n",
    "        self.buffer = ''\n",
    "\n",
    "\n",
    "    def readlines(self):\n",
    "        '''Generator method that creates an iterator for each line of JSON'''\n",
    "        while True:\n",
    "            chunk = self.reader.read(self.chunk_size).decode(errors=\"ignore\")\n",
    "            if not chunk:\n",
    "                break\n",
    "            lines = (self.buffer + chunk).split(\"\\n\")\n",
    "\n",
    "            for line in lines[:-1]:\n",
    "                yield line\n",
    "\n",
    "            self.buffer = lines[-1]"
   ]
  },
  {
   "cell_type": "code",
   "execution_count": 4,
   "metadata": {},
   "outputs": [],
   "source": [
    "class LanguageIdentification:\n",
    "\n",
    "    def __init__(self):\n",
    "        pretrained_lang_model = \"/home/olam/fasttext/lid.176.bin\"\n",
    "        self.model = fasttext.load_model(pretrained_lang_model)\n",
    "\n",
    "    def predict_lang(self, text):\n",
    "        predictions = self.model.predict(text, k=1) \n",
    "        return predictions"
   ]
  },
  {
   "cell_type": "code",
   "execution_count": 5,
   "metadata": {},
   "outputs": [
    {
     "name": "stderr",
     "output_type": "stream",
     "text": [
      "Warning : `load_model` does not return WordVectorModel or SupervisedModel any more, but a `FastText` object which is very similar.\n"
     ]
    }
   ],
   "source": [
    "LANGUAGE = LanguageIdentification()"
   ]
  },
  {
   "cell_type": "code",
   "execution_count": 6,
   "metadata": {},
   "outputs": [],
   "source": [
    "def detect_language(text):\n",
    "    '''Method that detect the language of the argument using langdetect'''\n",
    "    \n",
    "    \n",
    "    # Create list to store the language detections\n",
    "    #detections = []\n",
    "    \n",
    "    \n",
    "    # TextBlob\n",
    "    #start_detect = time.time()\n",
    "    #blob = TextBlob(text)\n",
    "    #textblob_res = blob.detect_language()\n",
    "    #end_detect = time.time()\n",
    "    #duration_detect = end_detect - start_detect\n",
    "    #print('TextBlob : ' + str(duration_detect))\n",
    "    \n",
    "    # Langedetect\n",
    "    #start_detect = time.time()\n",
    "    #for i in range(5):\n",
    "    #    detections.append(detect(text))\n",
    "    #end_detect = time.time()\n",
    "    #duration_detect = end_detect - start_detect\n",
    "    #print('Langedetect : ' + str(duration_detect))\n",
    "    \n",
    "    # LangID\n",
    "    #start_detect = time.time()\n",
    "    #langid_res = langid.classify(text)[0]\n",
    "    #end_detect = time.time()\n",
    "    #duration_detect = end_detect - start_detect\n",
    "    #print('LangId : ' + str(duration_detect))\n",
    "    \n",
    "    # FastText\n",
    "    #start_detect = time.time()\n",
    "    fastext_res = LANGUAGE.predict_lang(text)[0][0].replace('__label__', '')\n",
    "    #end_detect = time.time()\n",
    "    #duration_detect = end_detect - start_detect\n",
    "    #print('Fastext : ' + str(duration_detect))\n",
    "    \n",
    "    # Create the counter to get the most detected language\n",
    "    #c = Counter(detections)\n",
    "    #language_detected, _ = c.most_common()[0]\n",
    "\n",
    "    \n",
    "    #print('LangId result : ' + langid_res)\n",
    "    #print('FastText result : ' + fastext_res)\n",
    "    \n",
    "    return fastext_res"
   ]
  },
  {
   "cell_type": "code",
   "execution_count": 7,
   "metadata": {},
   "outputs": [],
   "source": [
    "def check_en_video(vid_title, vid_description):\n",
    "    '''Returns True if the language of the video is english'''\n",
    "    \n",
    "    detected_language = ''\n",
    "    \n",
    "    # First check for description and if there is none, chech for the title.\n",
    "    # Handling exceptions when a text couldn't be used of langdetect\n",
    "    if vid_description != '':\n",
    "        try:\n",
    "            detected_language = detect_language(vid_description)\n",
    "        except:\n",
    "            if vid_title != '':\n",
    "                try:\n",
    "                    detected_language = detect_language(vid_title)\n",
    "                except:\n",
    "                    detected_language = None\n",
    "    elif vid_title != '':\n",
    "        try:\n",
    "            detected_language = detect_language(vid_title)\n",
    "        except:\n",
    "            detected_language = None\n",
    "    else:\n",
    "        detected_language = None\n",
    "        \n",
    "    return detected_language == 'en'"
   ]
  },
  {
   "cell_type": "code",
   "execution_count": 8,
   "metadata": {},
   "outputs": [],
   "source": [
    "def check_1000_views(video):\n",
    "    try:\n",
    "        return video['view_count'] >= 10000\n",
    "    except KeyError:\n",
    "        return False"
   ]
  },
  {
   "cell_type": "code",
   "execution_count": 9,
   "metadata": {},
   "outputs": [],
   "source": [
    "def isEnglishAlpha(s):\n",
    "    try:\n",
    "        s.encode(encoding='utf-8').decode('ascii')\n",
    "    except UnicodeDecodeError:\n",
    "        return False\n",
    "    else:\n",
    "        return True"
   ]
  },
  {
   "cell_type": "code",
   "execution_count": 10,
   "metadata": {},
   "outputs": [],
   "source": [
    "def get_freq_tokens_per_video(video):\n",
    "    ''''''\n",
    "    \n",
    "    title_tokens = [w for w in tokenizer.tokenize(video['title'].lower()) if not w in stop_words]\n",
    "    tag_tokens = [w for w in tokenizer.tokenize(video['tags'].lower()) if not w in stop_words]\n",
    "    \n",
    "    # We want to keep duplicates !!\n",
    "    tokens_per_video = title_tokens + tag_tokens\n",
    "\n",
    "    # Filter token with length < 3, with non english alphabet since fastext is not 100% accurate and remove numerical token \n",
    "    tokens_keep = []\n",
    "    for token in tokens_per_video:\n",
    "        if len(token) >= 3 and (not token.isnumeric()) and isEnglishAlpha(token):\n",
    "            tokens_keep.append(token)\n",
    "    \n",
    "    \n",
    "    # Stemming\n",
    "    stemmed_tokens_per_video = ([s_stemmer.stem(w) for w in tokens_keep])\n",
    "    \n",
    "    \n",
    "    # Return a Counter object of the tokens\n",
    "    return collections.Counter(tokens_keep)"
   ]
  },
  {
   "cell_type": "code",
   "execution_count": 11,
   "metadata": {},
   "outputs": [],
   "source": [
    "def fill_underlying_dict(freq_tokens_per_video, dict_stemmed_tokens, dict_freq_tokens_for_sparse_matrix, i_vid):\n",
    "    '''Method to fill the underlying dictionnary in order to \n",
    "    update the sparse matrix incrementally by videos'''\n",
    "    \n",
    "    for key in freq_tokens_per_video.keys():\n",
    "        \n",
    "        # Column index in the sparse matrix (one column for each token)\n",
    "        j_token = dict_stemmed_tokens[key]\n",
    "    \n",
    "        # Filling the underlying dict\n",
    "        dict_freq_tokens_for_sparse_matrix[(i_vid % 1000000, j_token)] = freq_tokens_per_video[key]\n",
    "    "
   ]
  },
  {
   "cell_type": "code",
   "execution_count": 12,
   "metadata": {},
   "outputs": [],
   "source": [
    "### GET THE LIST OF CHANNELS IN channelcrawler.csv\n",
    "\n",
    "df_channelcrawler = pd.read_csv('/dlabdata1/youtube_large/channelcrawler.csv')\n",
    "\n",
    "df_channelcrawler['channel_id'] = df_channelcrawler['link'].apply(lambda x: x.replace('http://www.youtube.com/channel/', ''))\n",
    "\n",
    "# Store in a set since it will be faster to check if a channel is in channelcrawler\n",
    "set_channelcrawler = set(df_channelcrawler['channel_id'])"
   ]
  },
  {
   "cell_type": "code",
   "execution_count": 13,
   "metadata": {},
   "outputs": [
    {
     "data": {
      "text/plain": [
       "164648"
      ]
     },
     "execution_count": 13,
     "metadata": {},
     "output_type": "execute_result"
    }
   ],
   "source": [
    "len(set_channelcrawler)"
   ]
  },
  {
   "cell_type": "code",
   "execution_count": 14,
   "metadata": {},
   "outputs": [],
   "source": [
    "# Load the set of channels that contains only 1 video\n",
    "with open('/dlabdata1/youtube_large/olam/channels_with_1_vid.pickle', 'rb') as f:\n",
    "    channels_with_1_vid = pickle.load(f)\n",
    "f.close()"
   ]
  },
  {
   "cell_type": "markdown",
   "metadata": {},
   "source": [
    "### A) First pass to build dict of tokens"
   ]
  },
  {
   "cell_type": "code",
   "execution_count": 15,
   "metadata": {},
   "outputs": [],
   "source": [
    "reader = Zreader(\"/dlabdata1/youtube_large/yt_metadata_all.jsonl.zst\", chunk_size=2**28)"
   ]
  },
  {
   "cell_type": "code",
   "execution_count": 16,
   "metadata": {
    "scrolled": true
   },
   "outputs": [
    {
     "name": "stdout",
     "output_type": "stream",
     "text": [
      "Processed 1000000 videos.\n",
      "Processed 2000000 videos.\n",
      "Processed 3000000 videos.\n",
      "Processed 4000000 videos.\n",
      "Processed 5000000 videos.\n",
      "Processed 6000000 videos.\n",
      "Processed 7000000 videos.\n",
      "Processed 8000000 videos.\n",
      "Processed 9000000 videos.\n",
      "Processed 10000000 videos.\n",
      "Processed 11000000 videos.\n",
      "Processed 12000000 videos.\n",
      "Processed 13000000 videos.\n",
      "Processed 14000000 videos.\n",
      "Processed 15000000 videos.\n",
      "Processed 16000000 videos.\n",
      "Processed 17000000 videos.\n",
      "Processed 18000000 videos.\n",
      "Processed 19000000 videos.\n",
      "Processed 20000000 videos.\n",
      "Processed 21000000 videos.\n",
      "Processed 22000000 videos.\n",
      "Processed 23000000 videos.\n",
      "Processed 24000000 videos.\n",
      "Processed 25000000 videos.\n",
      "Processed 26000000 videos.\n",
      "Processed 27000000 videos.\n",
      "Processed 28000000 videos.\n",
      "Processed 29000000 videos.\n",
      "Processed 30000000 videos.\n",
      "Processed 31000000 videos.\n",
      "Processed 32000000 videos.\n",
      "Processed 33000000 videos.\n",
      "Processed 34000000 videos.\n",
      "Processed 35000000 videos.\n",
      "Processed 36000000 videos.\n",
      "Processed 37000000 videos.\n",
      "Processed 38000000 videos.\n",
      "Processed 39000000 videos.\n",
      "Processed 40000000 videos.\n",
      "Processed 41000000 videos.\n",
      "Processed 42000000 videos.\n",
      "Processed 43000000 videos.\n",
      "Processed 44000000 videos.\n",
      "Processed 45000000 videos.\n",
      "Processed 46000000 videos.\n",
      "Processed 47000000 videos.\n",
      "Processed 48000000 videos.\n",
      "Processed 49000000 videos.\n",
      "Processed 50000000 videos.\n",
      "Processed 51000000 videos.\n",
      "Processed 52000000 videos.\n",
      "Processed 53000000 videos.\n",
      "Processed 54000000 videos.\n",
      "Processed 55000000 videos.\n",
      "Processed 56000000 videos.\n",
      "Processed 57000000 videos.\n",
      "Processed 58000000 videos.\n",
      "Processed 59000000 videos.\n",
      "Processed 60000000 videos.\n",
      "Processed 61000000 videos.\n",
      "Processed 62000000 videos.\n",
      "Processed 63000000 videos.\n",
      "Processed 64000000 videos.\n",
      "Processed 65000000 videos.\n",
      "Processed 66000000 videos.\n",
      "Processed 67000000 videos.\n",
      "Processed 68000000 videos.\n",
      "Processed 70000000 videos.\n",
      "Processed 71000000 videos.\n",
      "Processed 72000000 videos.\n",
      "Processed 73000000 videos.\n",
      "Processed 74000000 videos.\n",
      "Processed 75000000 videos.\n",
      "Processed 76000000 videos.\n",
      "Processed 77000000 videos.\n",
      "Processed 78000000 videos.\n",
      "Processed 79000000 videos.\n",
      "Processed 80000000 videos.\n",
      "Processed 81000000 videos.\n",
      "Processed 82000000 videos.\n",
      "Processed 83000000 videos.\n",
      "Processed 84000000 videos.\n",
      "Processed 85000000 videos.\n"
     ]
    }
   ],
   "source": [
    "idx = 0\n",
    "\n",
    "# Variable that contains the idx of every non english vid and that\n",
    "# belongs to a channel in channelcrawler.csv TO BE USED IN SECOND ITER\n",
    "idx_vid_to_consider = set()\n",
    "\n",
    "# Variable first instanciated as set to check existing tokens efficiently, \n",
    "# which will be a list in order to get the index for each tokens\n",
    "list_stemmed_tokens = set()\n",
    "\n",
    "for line in reader.readlines():\n",
    "    #start_iter = time.time()\n",
    "    idx += 1\n",
    "    \n",
    "    if idx % 1000000 == 0:\n",
    "        print('Processed ' + str(idx) + ' videos.')\n",
    "    \n",
    "        \n",
    "    # line is a str dict, video is the dict corresponding to the str dict\n",
    "    video = json.loads(line)\n",
    "    \n",
    "    if video['channel_id'] in set_channelcrawler \\\n",
    "            and video['channel_id'] not in channels_with_1_vid\\\n",
    "            and check_en_video(video['title'], video['description'])\\\n",
    "            and check_1000_views(video):\n",
    "        \n",
    "        # Keep idx of video in memory\n",
    "        idx_vid_to_consider.add(idx)\n",
    "        \n",
    "        # Get the stemmed token of the video\n",
    "        tokens_per_video = get_freq_tokens_per_video(video).keys()\n",
    "        \n",
    "        # Update list_stemmed_tokens\n",
    "        list_stemmed_tokens.update(tokens_per_video)\n",
    "    #end_iter = time.time()\n",
    "    #duration_iter = end_iter - start_iter\n",
    "    #print('Time for 1 iteration : ' + str(duration_iter))"
   ]
  },
  {
   "cell_type": "code",
   "execution_count": 17,
   "metadata": {},
   "outputs": [],
   "source": [
    "list_stemmed_tokens = list(list_stemmed_tokens)"
   ]
  },
  {
   "cell_type": "code",
   "execution_count": 18,
   "metadata": {},
   "outputs": [
    {
     "data": {
      "text/plain": [
       "3538761"
      ]
     },
     "execution_count": 18,
     "metadata": {},
     "output_type": "execute_result"
    }
   ],
   "source": [
    "len(list_stemmed_tokens)"
   ]
  },
  {
   "cell_type": "code",
   "execution_count": 19,
   "metadata": {},
   "outputs": [
    {
     "data": {
      "text/plain": [
       "21714294"
      ]
     },
     "execution_count": 19,
     "metadata": {},
     "output_type": "execute_result"
    }
   ],
   "source": [
    "len(idx_vid_to_consider)"
   ]
  },
  {
   "cell_type": "code",
   "execution_count": 20,
   "metadata": {},
   "outputs": [],
   "source": [
    "with open('/dlabdata1/youtube_large/olam/filtered10000/idx_vid_to_consider.pickle', 'wb') as f:\n",
    "    pickle.dump(idx_vid_to_consider, f)\n",
    "f.close()"
   ]
  },
  {
   "cell_type": "code",
   "execution_count": 21,
   "metadata": {},
   "outputs": [],
   "source": [
    "with open('/dlabdata1/youtube_large/olam/filtered10000/list_stemmed_tokens.pickle', 'wb') as f:\n",
    "    pickle.dump(list_stemmed_tokens, f)\n",
    "f.close()"
   ]
  },
  {
   "cell_type": "markdown",
   "metadata": {},
   "source": [
    "### B) Second pass to build the sparse matrix "
   ]
  },
  {
   "cell_type": "code",
   "execution_count": 16,
   "metadata": {},
   "outputs": [],
   "source": [
    "# Load set of videos to consider\n",
    "with open('/dlabdata1/youtube_large/olam/filtered/idx_vid_to_consider.pickle', 'rb') as f:\n",
    "    idx_vid_to_consider = pickle.load(f)\n",
    "f.close()"
   ]
  },
  {
   "cell_type": "code",
   "execution_count": 17,
   "metadata": {},
   "outputs": [],
   "source": [
    "# Load dictionnary of tokens\n",
    "with open('/dlabdata1/youtube_large/olam/filtered/list_stemmed_tokens.pickle', 'rb') as f:\n",
    "    list_stemmed_tokens = pickle.load(f)\n",
    "f.close()"
   ]
  },
  {
   "cell_type": "code",
   "execution_count": 22,
   "metadata": {},
   "outputs": [
    {
     "name": "stdout",
     "output_type": "stream",
     "text": [
      "Number of videos to consider : 21714294\n"
     ]
    }
   ],
   "source": [
    "print('Number of videos to consider : ' + str(len(idx_vid_to_consider)))"
   ]
  },
  {
   "cell_type": "code",
   "execution_count": 23,
   "metadata": {},
   "outputs": [
    {
     "name": "stdout",
     "output_type": "stream",
     "text": [
      "Number of tokens : 3538761\n"
     ]
    }
   ],
   "source": [
    "print('Number of tokens : ' + str(len(list_stemmed_tokens)))"
   ]
  },
  {
   "cell_type": "code",
   "execution_count": 24,
   "metadata": {},
   "outputs": [],
   "source": [
    "# Get dimension of sparse matrix\n",
    "size_of_tokens_dict = len(list_stemmed_tokens)\n",
    "number_of_vid = len(idx_vid_to_consider)"
   ]
  },
  {
   "cell_type": "code",
   "execution_count": 25,
   "metadata": {},
   "outputs": [],
   "source": [
    "# Create dictionnary of tokens with their indice\n",
    "dict_stemmed_tokens = {}\n",
    "\n",
    "# Fill dictionnary of tokens\n",
    "for i, token in enumerate(list_stemmed_tokens):\n",
    "    dict_stemmed_tokens[token] = i"
   ]
  },
  {
   "cell_type": "markdown",
   "metadata": {},
   "source": [
    "---"
   ]
  },
  {
   "cell_type": "markdown",
   "metadata": {},
   "source": [
    "### Test code on sparse matrix"
   ]
  },
  {
   "cell_type": "code",
   "execution_count": 77,
   "metadata": {},
   "outputs": [],
   "source": [
    "import random"
   ]
  },
  {
   "cell_type": "code",
   "execution_count": 78,
   "metadata": {},
   "outputs": [],
   "source": [
    "nrows = 1000\n",
    "ncolumns = 100000"
   ]
  },
  {
   "cell_type": "code",
   "execution_count": 91,
   "metadata": {},
   "outputs": [],
   "source": [
    "S_1 = dok_matrix((nrows, ncolumns))"
   ]
  },
  {
   "cell_type": "code",
   "execution_count": 92,
   "metadata": {},
   "outputs": [],
   "source": [
    "S_2 = dok_matrix((nrows, ncolumns))"
   ]
  },
  {
   "cell_type": "code",
   "execution_count": 93,
   "metadata": {},
   "outputs": [],
   "source": [
    "S_1i = dok_matrix((nrows, ncolumns), dtype=np.uint8)"
   ]
  },
  {
   "cell_type": "code",
   "execution_count": 94,
   "metadata": {},
   "outputs": [],
   "source": [
    "S_2i = dok_matrix((nrows, ncolumns), dtype=np.uint8)"
   ]
  },
  {
   "cell_type": "code",
   "execution_count": 95,
   "metadata": {},
   "outputs": [],
   "source": [
    "for i in range(5000):\n",
    "    x = random.randint(0, 999)\n",
    "    y = random.randint(0, 99999)\n",
    "    \n",
    "    v = random.randint(0, 20)\n",
    "    \n",
    "    S_1[x, y] = v\n",
    "    S_1i[x, y] = v\n",
    "    \n",
    "for i in range(10000):\n",
    "    x = random.randint(0, 999)\n",
    "    y = random.randint(0, 99999)\n",
    "    \n",
    "    v = random.randint(0, 20)\n",
    "    \n",
    "    S_2[x, y] = v\n",
    "    S_2i[x, y] = v"
   ]
  },
  {
   "cell_type": "code",
   "execution_count": 96,
   "metadata": {},
   "outputs": [
    {
     "data": {
      "text/plain": [
       "<1000x100000 sparse matrix of type '<class 'numpy.float64'>'\n",
       "\twith 4751 stored elements in Dictionary Of Keys format>"
      ]
     },
     "execution_count": 96,
     "metadata": {},
     "output_type": "execute_result"
    }
   ],
   "source": [
    "S_1"
   ]
  },
  {
   "cell_type": "code",
   "execution_count": 97,
   "metadata": {},
   "outputs": [
    {
     "data": {
      "text/plain": [
       "<1000x100000 sparse matrix of type '<class 'numpy.uint8'>'\n",
       "\twith 4751 stored elements in Dictionary Of Keys format>"
      ]
     },
     "execution_count": 97,
     "metadata": {},
     "output_type": "execute_result"
    }
   ],
   "source": [
    "S_1i"
   ]
  },
  {
   "cell_type": "code",
   "execution_count": 98,
   "metadata": {},
   "outputs": [
    {
     "data": {
      "text/plain": [
       "<1000x100000 sparse matrix of type '<class 'numpy.float64'>'\n",
       "\twith 9494 stored elements in Dictionary Of Keys format>"
      ]
     },
     "execution_count": 98,
     "metadata": {},
     "output_type": "execute_result"
    }
   ],
   "source": [
    "S_2"
   ]
  },
  {
   "cell_type": "code",
   "execution_count": 99,
   "metadata": {},
   "outputs": [
    {
     "data": {
      "text/plain": [
       "<1000x100000 sparse matrix of type '<class 'numpy.uint8'>'\n",
       "\twith 9494 stored elements in Dictionary Of Keys format>"
      ]
     },
     "execution_count": 99,
     "metadata": {},
     "output_type": "execute_result"
    }
   ],
   "source": [
    "S_2i"
   ]
  },
  {
   "cell_type": "code",
   "execution_count": 100,
   "metadata": {},
   "outputs": [
    {
     "data": {
      "text/plain": [
       "147584"
      ]
     },
     "execution_count": 100,
     "metadata": {},
     "output_type": "execute_result"
    }
   ],
   "source": [
    "sys.getsizeof(S_1)"
   ]
  },
  {
   "cell_type": "code",
   "execution_count": 101,
   "metadata": {},
   "outputs": [
    {
     "data": {
      "text/plain": [
       "147584"
      ]
     },
     "execution_count": 101,
     "metadata": {},
     "output_type": "execute_result"
    }
   ],
   "source": [
    "sys.getsizeof(S_1i)"
   ]
  },
  {
   "cell_type": "code",
   "execution_count": 102,
   "metadata": {},
   "outputs": [
    {
     "data": {
      "text/plain": [
       "295032"
      ]
     },
     "execution_count": 102,
     "metadata": {},
     "output_type": "execute_result"
    }
   ],
   "source": [
    "sys.getsizeof(S_2)"
   ]
  },
  {
   "cell_type": "code",
   "execution_count": 103,
   "metadata": {},
   "outputs": [
    {
     "data": {
      "text/plain": [
       "295032"
      ]
     },
     "execution_count": 103,
     "metadata": {},
     "output_type": "execute_result"
    }
   ],
   "source": [
    "sys.getsizeof(S_2i)"
   ]
  },
  {
   "cell_type": "code",
   "execution_count": 115,
   "metadata": {},
   "outputs": [],
   "source": [
    "S_1_csr = S_1.tocsr()\n",
    "S_1i_csr = S_1i.tocsr()"
   ]
  },
  {
   "cell_type": "code",
   "execution_count": 116,
   "metadata": {},
   "outputs": [
    {
     "data": {
      "text/plain": [
       "<1000x100000 sparse matrix of type '<class 'numpy.float64'>'\n",
       "\twith 4751 stored elements in Compressed Sparse Row format>"
      ]
     },
     "execution_count": 116,
     "metadata": {},
     "output_type": "execute_result"
    }
   ],
   "source": [
    "S_1_csr"
   ]
  },
  {
   "cell_type": "code",
   "execution_count": 117,
   "metadata": {},
   "outputs": [
    {
     "data": {
      "text/plain": [
       "<1000x100000 sparse matrix of type '<class 'numpy.uint8'>'\n",
       "\twith 4751 stored elements in Compressed Sparse Row format>"
      ]
     },
     "execution_count": 117,
     "metadata": {},
     "output_type": "execute_result"
    }
   ],
   "source": [
    "S_1i_csr"
   ]
  },
  {
   "cell_type": "code",
   "execution_count": 118,
   "metadata": {},
   "outputs": [
    {
     "data": {
      "text/plain": [
       "64"
      ]
     },
     "execution_count": 118,
     "metadata": {},
     "output_type": "execute_result"
    }
   ],
   "source": [
    "sys.getsizeof(S_1_csr)"
   ]
  },
  {
   "cell_type": "code",
   "execution_count": 119,
   "metadata": {},
   "outputs": [
    {
     "data": {
      "text/plain": [
       "64"
      ]
     },
     "execution_count": 119,
     "metadata": {},
     "output_type": "execute_result"
    }
   ],
   "source": [
    "sys.getsizeof(S_1i_csr)"
   ]
  },
  {
   "cell_type": "code",
   "execution_count": 126,
   "metadata": {},
   "outputs": [],
   "source": [
    "S_test = dok_matrix((20,10))"
   ]
  },
  {
   "cell_type": "code",
   "execution_count": 127,
   "metadata": {},
   "outputs": [],
   "source": [
    "S1 = dok_matrix((10,10))"
   ]
  },
  {
   "cell_type": "code",
   "execution_count": 128,
   "metadata": {},
   "outputs": [],
   "source": [
    "S2 = dok_matrix((10,10))"
   ]
  },
  {
   "cell_type": "code",
   "execution_count": 129,
   "metadata": {},
   "outputs": [],
   "source": [
    "for i in range(20):\n",
    "    for j in range(10):\n",
    "        \n",
    "        value = random.randint(0, 20)\n",
    "        \n",
    "        S_test[i, j] = value\n",
    "        \n",
    "        if i < 10:\n",
    "            S1[i, j] = value\n",
    "        else:\n",
    "            S2[i - 10, j] = value\n",
    "        "
   ]
  },
  {
   "cell_type": "code",
   "execution_count": 131,
   "metadata": {},
   "outputs": [
    {
     "data": {
      "text/plain": [
       "matrix([[ 5.,  7.,  6., 15., 14.,  5., 16.,  9., 20.,  1.],\n",
       "        [ 7.,  8.,  3.,  3.,  3., 17., 14., 20., 20.,  7.],\n",
       "        [ 8.,  5., 15.,  3., 10., 13.,  9., 14., 17., 12.],\n",
       "        [ 7., 16.,  7., 18.,  8.,  3.,  8., 20.,  9., 17.],\n",
       "        [ 5.,  0., 12.,  9., 15., 10.,  3., 10., 17.,  5.],\n",
       "        [19.,  7.,  3.,  0., 15., 13.,  1.,  9.,  5.,  7.],\n",
       "        [ 3., 12.,  5.,  6.,  9.,  4.,  5.,  6.,  2., 18.],\n",
       "        [16.,  0.,  9.,  4., 15.,  4., 10., 12.,  1.,  9.],\n",
       "        [14., 14., 18.,  0., 15.,  4.,  8.,  9., 18.,  0.],\n",
       "        [ 8.,  5., 11.,  5., 14., 11., 14., 13., 20., 11.],\n",
       "        [14., 10., 19.,  9., 17., 17., 11., 14., 10.,  8.],\n",
       "        [ 9.,  9.,  3., 20., 17.,  6., 15., 17., 16., 11.],\n",
       "        [ 6., 17., 19.,  2.,  8., 17.,  5.,  8.,  8.,  3.],\n",
       "        [ 6.,  1.,  8., 11.,  7., 15., 10.,  4.,  3., 14.],\n",
       "        [17., 18., 17.,  5., 19.,  8., 11.,  4., 11.,  8.],\n",
       "        [17.,  6., 14., 11.,  8., 18., 11.,  6.,  0.,  7.],\n",
       "        [13., 18., 20., 10., 17.,  7.,  3.,  3.,  6., 10.],\n",
       "        [19.,  6.,  2., 18., 14., 16., 15., 14., 20., 12.],\n",
       "        [ 4., 18.,  9.,  7.,  0., 14.,  7., 11.,  5., 19.],\n",
       "        [ 8.,  6., 15.,  4., 17., 16., 19., 20.,  8.,  2.]])"
      ]
     },
     "execution_count": 131,
     "metadata": {},
     "output_type": "execute_result"
    }
   ],
   "source": [
    "S_test.todense()"
   ]
  },
  {
   "cell_type": "code",
   "execution_count": 132,
   "metadata": {},
   "outputs": [
    {
     "data": {
      "text/plain": [
       "matrix([[ 5.,  7.,  6., 15., 14.,  5., 16.,  9., 20.,  1.],\n",
       "        [ 7.,  8.,  3.,  3.,  3., 17., 14., 20., 20.,  7.],\n",
       "        [ 8.,  5., 15.,  3., 10., 13.,  9., 14., 17., 12.],\n",
       "        [ 7., 16.,  7., 18.,  8.,  3.,  8., 20.,  9., 17.],\n",
       "        [ 5.,  0., 12.,  9., 15., 10.,  3., 10., 17.,  5.],\n",
       "        [19.,  7.,  3.,  0., 15., 13.,  1.,  9.,  5.,  7.],\n",
       "        [ 3., 12.,  5.,  6.,  9.,  4.,  5.,  6.,  2., 18.],\n",
       "        [16.,  0.,  9.,  4., 15.,  4., 10., 12.,  1.,  9.],\n",
       "        [14., 14., 18.,  0., 15.,  4.,  8.,  9., 18.,  0.],\n",
       "        [ 8.,  5., 11.,  5., 14., 11., 14., 13., 20., 11.]])"
      ]
     },
     "execution_count": 132,
     "metadata": {},
     "output_type": "execute_result"
    }
   ],
   "source": [
    "S1.todense()"
   ]
  },
  {
   "cell_type": "code",
   "execution_count": 133,
   "metadata": {},
   "outputs": [
    {
     "data": {
      "text/plain": [
       "matrix([[14., 10., 19.,  9., 17., 17., 11., 14., 10.,  8.],\n",
       "        [ 9.,  9.,  3., 20., 17.,  6., 15., 17., 16., 11.],\n",
       "        [ 6., 17., 19.,  2.,  8., 17.,  5.,  8.,  8.,  3.],\n",
       "        [ 6.,  1.,  8., 11.,  7., 15., 10.,  4.,  3., 14.],\n",
       "        [17., 18., 17.,  5., 19.,  8., 11.,  4., 11.,  8.],\n",
       "        [17.,  6., 14., 11.,  8., 18., 11.,  6.,  0.,  7.],\n",
       "        [13., 18., 20., 10., 17.,  7.,  3.,  3.,  6., 10.],\n",
       "        [19.,  6.,  2., 18., 14., 16., 15., 14., 20., 12.],\n",
       "        [ 4., 18.,  9.,  7.,  0., 14.,  7., 11.,  5., 19.],\n",
       "        [ 8.,  6., 15.,  4., 17., 16., 19., 20.,  8.,  2.]])"
      ]
     },
     "execution_count": 133,
     "metadata": {},
     "output_type": "execute_result"
    }
   ],
   "source": [
    "S2.todense()"
   ]
  },
  {
   "cell_type": "code",
   "execution_count": 134,
   "metadata": {},
   "outputs": [],
   "source": [
    "S_testcsr = S_test.tocsr()"
   ]
  },
  {
   "cell_type": "code",
   "execution_count": 138,
   "metadata": {},
   "outputs": [
    {
     "data": {
      "text/plain": [
       "9344"
      ]
     },
     "execution_count": 138,
     "metadata": {},
     "output_type": "execute_result"
    }
   ],
   "source": [
    "sys.getsizeof(S_test)"
   ]
  },
  {
   "cell_type": "code",
   "execution_count": 137,
   "metadata": {},
   "outputs": [
    {
     "data": {
      "text/plain": [
       "64"
      ]
     },
     "execution_count": 137,
     "metadata": {},
     "output_type": "execute_result"
    }
   ],
   "source": [
    "sys.getsizeof(S_testcsr)"
   ]
  },
  {
   "cell_type": "code",
   "execution_count": 136,
   "metadata": {},
   "outputs": [
    {
     "data": {
      "text/plain": [
       "matrix([[ 5.,  7.,  6., 15., 14.,  5., 16.,  9., 20.,  1.],\n",
       "        [ 7.,  8.,  3.,  3.,  3., 17., 14., 20., 20.,  7.],\n",
       "        [ 8.,  5., 15.,  3., 10., 13.,  9., 14., 17., 12.],\n",
       "        [ 7., 16.,  7., 18.,  8.,  3.,  8., 20.,  9., 17.],\n",
       "        [ 5.,  0., 12.,  9., 15., 10.,  3., 10., 17.,  5.],\n",
       "        [19.,  7.,  3.,  0., 15., 13.,  1.,  9.,  5.,  7.],\n",
       "        [ 3., 12.,  5.,  6.,  9.,  4.,  5.,  6.,  2., 18.],\n",
       "        [16.,  0.,  9.,  4., 15.,  4., 10., 12.,  1.,  9.],\n",
       "        [14., 14., 18.,  0., 15.,  4.,  8.,  9., 18.,  0.],\n",
       "        [ 8.,  5., 11.,  5., 14., 11., 14., 13., 20., 11.],\n",
       "        [14., 10., 19.,  9., 17., 17., 11., 14., 10.,  8.],\n",
       "        [ 9.,  9.,  3., 20., 17.,  6., 15., 17., 16., 11.],\n",
       "        [ 6., 17., 19.,  2.,  8., 17.,  5.,  8.,  8.,  3.],\n",
       "        [ 6.,  1.,  8., 11.,  7., 15., 10.,  4.,  3., 14.],\n",
       "        [17., 18., 17.,  5., 19.,  8., 11.,  4., 11.,  8.],\n",
       "        [17.,  6., 14., 11.,  8., 18., 11.,  6.,  0.,  7.],\n",
       "        [13., 18., 20., 10., 17.,  7.,  3.,  3.,  6., 10.],\n",
       "        [19.,  6.,  2., 18., 14., 16., 15., 14., 20., 12.],\n",
       "        [ 4., 18.,  9.,  7.,  0., 14.,  7., 11.,  5., 19.],\n",
       "        [ 8.,  6., 15.,  4., 17., 16., 19., 20.,  8.,  2.]])"
      ]
     },
     "execution_count": 136,
     "metadata": {},
     "output_type": "execute_result"
    }
   ],
   "source": [
    "S_testcsr.todense()"
   ]
  },
  {
   "cell_type": "code",
   "execution_count": 144,
   "metadata": {},
   "outputs": [
    {
     "data": {
      "text/plain": [
       "<20x10 sparse matrix of type '<class 'numpy.float64'>'\n",
       "\twith 193 stored elements in COOrdinate format>"
      ]
     },
     "execution_count": 144,
     "metadata": {},
     "output_type": "execute_result"
    }
   ],
   "source": [
    "S_stacked = scipy.sparse.vstack([S1, S2])\n",
    "S_stacked"
   ]
  },
  {
   "cell_type": "code",
   "execution_count": 145,
   "metadata": {},
   "outputs": [
    {
     "data": {
      "text/plain": [
       "matrix([[ 5.,  7.,  6., 15., 14.,  5., 16.,  9., 20.,  1.],\n",
       "        [ 7.,  8.,  3.,  3.,  3., 17., 14., 20., 20.,  7.],\n",
       "        [ 8.,  5., 15.,  3., 10., 13.,  9., 14., 17., 12.],\n",
       "        [ 7., 16.,  7., 18.,  8.,  3.,  8., 20.,  9., 17.],\n",
       "        [ 5.,  0., 12.,  9., 15., 10.,  3., 10., 17.,  5.],\n",
       "        [19.,  7.,  3.,  0., 15., 13.,  1.,  9.,  5.,  7.],\n",
       "        [ 3., 12.,  5.,  6.,  9.,  4.,  5.,  6.,  2., 18.],\n",
       "        [16.,  0.,  9.,  4., 15.,  4., 10., 12.,  1.,  9.],\n",
       "        [14., 14., 18.,  0., 15.,  4.,  8.,  9., 18.,  0.],\n",
       "        [ 8.,  5., 11.,  5., 14., 11., 14., 13., 20., 11.],\n",
       "        [14., 10., 19.,  9., 17., 17., 11., 14., 10.,  8.],\n",
       "        [ 9.,  9.,  3., 20., 17.,  6., 15., 17., 16., 11.],\n",
       "        [ 6., 17., 19.,  2.,  8., 17.,  5.,  8.,  8.,  3.],\n",
       "        [ 6.,  1.,  8., 11.,  7., 15., 10.,  4.,  3., 14.],\n",
       "        [17., 18., 17.,  5., 19.,  8., 11.,  4., 11.,  8.],\n",
       "        [17.,  6., 14., 11.,  8., 18., 11.,  6.,  0.,  7.],\n",
       "        [13., 18., 20., 10., 17.,  7.,  3.,  3.,  6., 10.],\n",
       "        [19.,  6.,  2., 18., 14., 16., 15., 14., 20., 12.],\n",
       "        [ 4., 18.,  9.,  7.,  0., 14.,  7., 11.,  5., 19.],\n",
       "        [ 8.,  6., 15.,  4., 17., 16., 19., 20.,  8.,  2.]])"
      ]
     },
     "execution_count": 145,
     "metadata": {},
     "output_type": "execute_result"
    }
   ],
   "source": [
    "S_stacked.todense()"
   ]
  },
  {
   "cell_type": "code",
   "execution_count": 146,
   "metadata": {},
   "outputs": [],
   "source": [
    "scipy.sparse.save_npz('/home/olam/csr_matrices/test.npz', S_stacked)"
   ]
  },
  {
   "cell_type": "code",
   "execution_count": 147,
   "metadata": {},
   "outputs": [],
   "source": [
    "S_loaded = scipy.sparse.load_npz('/home/olam/csr_matrices/test.npz')"
   ]
  },
  {
   "cell_type": "code",
   "execution_count": 150,
   "metadata": {},
   "outputs": [
    {
     "data": {
      "text/plain": [
       "64"
      ]
     },
     "execution_count": 150,
     "metadata": {},
     "output_type": "execute_result"
    }
   ],
   "source": [
    "sys.getsizeof(S_loaded)"
   ]
  },
  {
   "cell_type": "markdown",
   "metadata": {},
   "source": [
    "---"
   ]
  },
  {
   "cell_type": "code",
   "execution_count": 26,
   "metadata": {},
   "outputs": [],
   "source": [
    "# Create sparse matrix\n",
    "S = dok_matrix((1000000, size_of_tokens_dict), dtype=np.uint8)"
   ]
  },
  {
   "cell_type": "code",
   "execution_count": 27,
   "metadata": {},
   "outputs": [],
   "source": [
    "reader = Zreader(\"/dlabdata1/youtube_large/yt_metadata_all.jsonl.zst\", chunk_size=2**28)"
   ]
  },
  {
   "cell_type": "code",
   "execution_count": 28,
   "metadata": {
    "scrolled": true
   },
   "outputs": [
    {
     "name": "stdout",
     "output_type": "stream",
     "text": [
      "Size of matrix dok: 335544424\n",
      "Shape of S : (1000000, 3538761) and number of elems : 6021786\n",
      "Size of matrix csr: 48\n",
      "Shape of S : (1000000, 3538761) and number of elems : 0\n",
      "Processed 1000000 videos.\n",
      "\n",
      "Size of matrix dok: 167772272\n",
      "Shape of S : (1000000, 3538761) and number of elems : 4887475\n",
      "Size of matrix csr: 48\n",
      "Shape of S : (1000000, 3538761) and number of elems : 0\n",
      "Processed 2000000 videos.\n",
      "\n",
      "Size of matrix dok: 335544424\n",
      "Shape of S : (1000000, 3538761) and number of elems : 6080916\n",
      "Size of matrix csr: 48\n",
      "Shape of S : (1000000, 3538761) and number of elems : 0\n",
      "Processed 3000000 videos.\n",
      "\n",
      "Size of matrix dok: 167772272\n",
      "Shape of S : (1000000, 3538761) and number of elems : 4916670\n",
      "Size of matrix csr: 48\n",
      "Shape of S : (1000000, 3538761) and number of elems : 0\n",
      "Processed 4000000 videos.\n",
      "\n",
      "Size of matrix dok: 167772272\n",
      "Shape of S : (1000000, 3538761) and number of elems : 5490427\n",
      "Size of matrix csr: 48\n",
      "Shape of S : (1000000, 3538761) and number of elems : 0\n",
      "Processed 5000000 videos.\n",
      "\n",
      "Size of matrix dok: 335544424\n",
      "Shape of S : (1000000, 3538761) and number of elems : 6371825\n",
      "Size of matrix csr: 48\n",
      "Shape of S : (1000000, 3538761) and number of elems : 0\n",
      "Processed 6000000 videos.\n",
      "\n",
      "Size of matrix dok: 167772272\n",
      "Shape of S : (1000000, 3538761) and number of elems : 4905592\n",
      "Size of matrix csr: 48\n",
      "Shape of S : (1000000, 3538761) and number of elems : 0\n",
      "Processed 7000000 videos.\n",
      "\n",
      "Size of matrix dok: 335544424\n",
      "Shape of S : (1000000, 3538761) and number of elems : 5993298\n",
      "Size of matrix csr: 48\n",
      "Shape of S : (1000000, 3538761) and number of elems : 0\n",
      "Processed 8000000 videos.\n",
      "\n",
      "Size of matrix dok: 167772272\n",
      "Shape of S : (1000000, 3538761) and number of elems : 5157020\n",
      "Size of matrix csr: 48\n",
      "Shape of S : (1000000, 3538761) and number of elems : 0\n",
      "Processed 9000000 videos.\n",
      "\n",
      "Size of matrix dok: 335544424\n",
      "Shape of S : (1000000, 3538761) and number of elems : 6428877\n",
      "Size of matrix csr: 48\n",
      "Shape of S : (1000000, 3538761) and number of elems : 0\n",
      "Processed 10000000 videos.\n",
      "\n",
      "Size of matrix dok: 167772272\n",
      "Shape of S : (1000000, 3538761) and number of elems : 4836588\n",
      "Size of matrix csr: 48\n",
      "Shape of S : (1000000, 3538761) and number of elems : 0\n",
      "Processed 11000000 videos.\n",
      "\n",
      "Size of matrix dok: 167772272\n",
      "Shape of S : (1000000, 3538761) and number of elems : 4372337\n",
      "Size of matrix csr: 48\n",
      "Shape of S : (1000000, 3538761) and number of elems : 0\n",
      "Processed 12000000 videos.\n",
      "\n",
      "Size of matrix dok: 335544424\n",
      "Shape of S : (1000000, 3538761) and number of elems : 5669130\n",
      "Size of matrix csr: 48\n",
      "Shape of S : (1000000, 3538761) and number of elems : 0\n",
      "Processed 13000000 videos.\n",
      "\n",
      "Size of matrix dok: 335544424\n",
      "Shape of S : (1000000, 3538761) and number of elems : 5824943\n",
      "Size of matrix csr: 48\n",
      "Shape of S : (1000000, 3538761) and number of elems : 0\n",
      "Processed 14000000 videos.\n",
      "\n",
      "Size of matrix dok: 335544424\n",
      "Shape of S : (1000000, 3538761) and number of elems : 6655798\n",
      "Size of matrix csr: 48\n",
      "Shape of S : (1000000, 3538761) and number of elems : 0\n",
      "Processed 15000000 videos.\n",
      "\n",
      "Size of matrix dok: 167772272\n",
      "Shape of S : (1000000, 3538761) and number of elems : 5399201\n",
      "Size of matrix csr: 48\n",
      "Shape of S : (1000000, 3538761) and number of elems : 0\n",
      "Processed 16000000 videos.\n",
      "\n",
      "Size of matrix dok: 335544424\n",
      "Shape of S : (1000000, 3538761) and number of elems : 5724703\n",
      "Size of matrix csr: 48\n",
      "Shape of S : (1000000, 3538761) and number of elems : 0\n",
      "Processed 17000000 videos.\n",
      "\n",
      "Size of matrix dok: 167772272\n",
      "Shape of S : (1000000, 3538761) and number of elems : 5342357\n",
      "Size of matrix csr: 48\n",
      "Shape of S : (1000000, 3538761) and number of elems : 0\n",
      "Processed 18000000 videos.\n",
      "\n",
      "Size of matrix dok: 167772272\n",
      "Shape of S : (1000000, 3538761) and number of elems : 5420467\n",
      "Size of matrix csr: 48\n",
      "Shape of S : (1000000, 3538761) and number of elems : 0\n",
      "Processed 19000000 videos.\n",
      "\n",
      "Size of matrix dok: 167772272\n",
      "Shape of S : (1000000, 3538761) and number of elems : 5014937\n",
      "Size of matrix csr: 48\n",
      "Shape of S : (1000000, 3538761) and number of elems : 0\n",
      "Processed 20000000 videos.\n",
      "\n",
      "Size of matrix dok: 335544424\n",
      "Shape of S : (1000000, 3538761) and number of elems : 5647924\n",
      "Size of matrix csr: 48\n",
      "Shape of S : (1000000, 3538761) and number of elems : 0\n",
      "Processed 21000000 videos.\n",
      "\n",
      "Size of matrix dok: 167772272\n",
      "Shape of S : (1000000, 3538761) and number of elems : 5552893\n",
      "Size of matrix csr: 48\n",
      "Shape of S : (1000000, 3538761) and number of elems : 0\n",
      "Processed 22000000 videos.\n",
      "\n",
      "Size of matrix dok: 167772272\n",
      "Shape of S : (1000000, 3538761) and number of elems : 5381138\n",
      "Size of matrix csr: 48\n",
      "Shape of S : (1000000, 3538761) and number of elems : 0\n",
      "Processed 23000000 videos.\n",
      "\n",
      "Size of matrix dok: 335544424\n",
      "Shape of S : (1000000, 3538761) and number of elems : 5696090\n",
      "Size of matrix csr: 48\n",
      "Shape of S : (1000000, 3538761) and number of elems : 0\n",
      "Processed 24000000 videos.\n",
      "\n",
      "Size of matrix dok: 167772272\n",
      "Shape of S : (1000000, 3538761) and number of elems : 4998340\n",
      "Size of matrix csr: 48\n",
      "Shape of S : (1000000, 3538761) and number of elems : 0\n",
      "Processed 25000000 videos.\n",
      "\n",
      "Size of matrix dok: 167772272\n",
      "Shape of S : (1000000, 3538761) and number of elems : 5393942\n",
      "Size of matrix csr: 48\n",
      "Shape of S : (1000000, 3538761) and number of elems : 0\n",
      "Processed 26000000 videos.\n",
      "\n",
      "Size of matrix dok: 167772272\n",
      "Shape of S : (1000000, 3538761) and number of elems : 5492187\n",
      "Size of matrix csr: 48\n",
      "Shape of S : (1000000, 3538761) and number of elems : 0\n",
      "Processed 27000000 videos.\n",
      "\n",
      "Size of matrix dok: 167772272\n",
      "Shape of S : (1000000, 3538761) and number of elems : 5198605\n",
      "Size of matrix csr: 48\n",
      "Shape of S : (1000000, 3538761) and number of elems : 0\n",
      "Processed 28000000 videos.\n",
      "\n",
      "Size of matrix dok: 167772272\n",
      "Shape of S : (1000000, 3538761) and number of elems : 5383879\n",
      "Size of matrix csr: 48\n",
      "Shape of S : (1000000, 3538761) and number of elems : 0\n",
      "Processed 29000000 videos.\n",
      "\n",
      "Size of matrix dok: 167772272\n",
      "Shape of S : (1000000, 3538761) and number of elems : 5576256\n",
      "Size of matrix csr: 48\n",
      "Shape of S : (1000000, 3538761) and number of elems : 0\n",
      "Processed 30000000 videos.\n",
      "\n",
      "Size of matrix dok: 167772272\n",
      "Shape of S : (1000000, 3538761) and number of elems : 5330704\n",
      "Size of matrix csr: 48\n",
      "Shape of S : (1000000, 3538761) and number of elems : 0\n",
      "Processed 31000000 videos.\n",
      "\n",
      "Size of matrix dok: 167772272\n",
      "Shape of S : (1000000, 3538761) and number of elems : 5117182\n",
      "Size of matrix csr: 48\n",
      "Shape of S : (1000000, 3538761) and number of elems : 0\n",
      "Processed 32000000 videos.\n",
      "\n",
      "Size of matrix dok: 335544424\n",
      "Shape of S : (1000000, 3538761) and number of elems : 5920075\n",
      "Size of matrix csr: 48\n",
      "Shape of S : (1000000, 3538761) and number of elems : 0\n",
      "Processed 33000000 videos.\n",
      "\n",
      "Size of matrix dok: 167772272\n",
      "Shape of S : (1000000, 3538761) and number of elems : 5402970\n",
      "Size of matrix csr: 48\n",
      "Shape of S : (1000000, 3538761) and number of elems : 0\n",
      "Processed 34000000 videos.\n",
      "\n",
      "Size of matrix dok: 335544424\n",
      "Shape of S : (1000000, 3538761) and number of elems : 7352110\n",
      "Size of matrix csr: 48\n",
      "Shape of S : (1000000, 3538761) and number of elems : 0\n",
      "Processed 35000000 videos.\n",
      "\n",
      "Size of matrix dok: 167772272\n",
      "Shape of S : (1000000, 3538761) and number of elems : 4718950\n",
      "Size of matrix csr: 48\n",
      "Shape of S : (1000000, 3538761) and number of elems : 0\n",
      "Processed 36000000 videos.\n",
      "\n",
      "Size of matrix dok: 167772272\n",
      "Shape of S : (1000000, 3538761) and number of elems : 5343916\n",
      "Size of matrix csr: 48\n",
      "Shape of S : (1000000, 3538761) and number of elems : 0\n",
      "Processed 37000000 videos.\n",
      "\n",
      "Size of matrix dok: 167772272\n",
      "Shape of S : (1000000, 3538761) and number of elems : 4551324\n",
      "Size of matrix csr: 48\n",
      "Shape of S : (1000000, 3538761) and number of elems : 0\n",
      "Processed 38000000 videos.\n",
      "\n",
      "Size of matrix dok: 167772272\n",
      "Shape of S : (1000000, 3538761) and number of elems : 5156424\n",
      "Size of matrix csr: 48\n",
      "Shape of S : (1000000, 3538761) and number of elems : 0\n",
      "Processed 39000000 videos.\n",
      "\n",
      "Size of matrix dok: 167772272\n",
      "Shape of S : (1000000, 3538761) and number of elems : 5038041\n",
      "Size of matrix csr: 48\n",
      "Shape of S : (1000000, 3538761) and number of elems : 0\n",
      "Processed 40000000 videos.\n",
      "\n",
      "Size of matrix dok: 167772272\n",
      "Shape of S : (1000000, 3538761) and number of elems : 5542189\n",
      "Size of matrix csr: 48\n",
      "Shape of S : (1000000, 3538761) and number of elems : 0\n",
      "Processed 41000000 videos.\n",
      "\n",
      "Size of matrix dok: 335544424\n",
      "Shape of S : (1000000, 3538761) and number of elems : 6279576\n"
     ]
    },
    {
     "name": "stdout",
     "output_type": "stream",
     "text": [
      "Size of matrix csr: 48\n",
      "Shape of S : (1000000, 3538761) and number of elems : 0\n",
      "Processed 42000000 videos.\n",
      "\n",
      "Size of matrix dok: 335544424\n",
      "Shape of S : (1000000, 3538761) and number of elems : 5770591\n",
      "Size of matrix csr: 48\n",
      "Shape of S : (1000000, 3538761) and number of elems : 0\n",
      "Processed 43000000 videos.\n",
      "\n",
      "Size of matrix dok: 335544424\n",
      "Shape of S : (1000000, 3538761) and number of elems : 5747828\n",
      "Size of matrix csr: 48\n",
      "Shape of S : (1000000, 3538761) and number of elems : 0\n",
      "Processed 44000000 videos.\n",
      "\n",
      "Size of matrix dok: 167772272\n",
      "Shape of S : (1000000, 3538761) and number of elems : 5337829\n",
      "Size of matrix csr: 48\n",
      "Shape of S : (1000000, 3538761) and number of elems : 0\n",
      "Processed 45000000 videos.\n",
      "\n",
      "Size of matrix dok: 167772272\n",
      "Shape of S : (1000000, 3538761) and number of elems : 5278383\n",
      "Size of matrix csr: 48\n",
      "Shape of S : (1000000, 3538761) and number of elems : 0\n",
      "Processed 46000000 videos.\n",
      "\n",
      "Size of matrix dok: 167772272\n",
      "Shape of S : (1000000, 3538761) and number of elems : 5368975\n",
      "Size of matrix csr: 48\n",
      "Shape of S : (1000000, 3538761) and number of elems : 0\n",
      "Processed 47000000 videos.\n",
      "\n",
      "Size of matrix dok: 167772272\n",
      "Shape of S : (1000000, 3538761) and number of elems : 5109677\n",
      "Size of matrix csr: 48\n",
      "Shape of S : (1000000, 3538761) and number of elems : 0\n",
      "Processed 48000000 videos.\n",
      "\n",
      "Size of matrix dok: 335544424\n",
      "Shape of S : (1000000, 3538761) and number of elems : 5635691\n",
      "Size of matrix csr: 48\n",
      "Shape of S : (1000000, 3538761) and number of elems : 0\n",
      "Processed 49000000 videos.\n",
      "\n",
      "Size of matrix dok: 167772272\n",
      "Shape of S : (1000000, 3538761) and number of elems : 5477602\n",
      "Size of matrix csr: 48\n",
      "Shape of S : (1000000, 3538761) and number of elems : 0\n",
      "Processed 50000000 videos.\n",
      "\n",
      "Size of matrix dok: 335544424\n",
      "Shape of S : (1000000, 3538761) and number of elems : 5804708\n",
      "Size of matrix csr: 48\n",
      "Shape of S : (1000000, 3538761) and number of elems : 0\n",
      "Processed 51000000 videos.\n",
      "\n",
      "Size of matrix dok: 167772272\n",
      "Shape of S : (1000000, 3538761) and number of elems : 5551219\n",
      "Size of matrix csr: 48\n",
      "Shape of S : (1000000, 3538761) and number of elems : 0\n",
      "Processed 52000000 videos.\n",
      "\n",
      "Size of matrix dok: 167772272\n",
      "Shape of S : (1000000, 3538761) and number of elems : 5148214\n",
      "Size of matrix csr: 48\n",
      "Shape of S : (1000000, 3538761) and number of elems : 0\n",
      "Processed 53000000 videos.\n",
      "\n",
      "Size of matrix dok: 335544424\n",
      "Shape of S : (1000000, 3538761) and number of elems : 5669691\n",
      "Size of matrix csr: 48\n",
      "Shape of S : (1000000, 3538761) and number of elems : 0\n",
      "Processed 54000000 videos.\n",
      "\n",
      "Size of matrix dok: 167772272\n",
      "Shape of S : (1000000, 3538761) and number of elems : 5490141\n",
      "Size of matrix csr: 48\n",
      "Shape of S : (1000000, 3538761) and number of elems : 0\n",
      "Processed 55000000 videos.\n",
      "\n",
      "Size of matrix dok: 167772272\n",
      "Shape of S : (1000000, 3538761) and number of elems : 5480823\n",
      "Size of matrix csr: 48\n",
      "Shape of S : (1000000, 3538761) and number of elems : 0\n",
      "Processed 56000000 videos.\n",
      "\n",
      "Size of matrix dok: 167772272\n",
      "Shape of S : (1000000, 3538761) and number of elems : 5585343\n",
      "Size of matrix csr: 48\n",
      "Shape of S : (1000000, 3538761) and number of elems : 0\n",
      "Processed 57000000 videos.\n",
      "\n",
      "Size of matrix dok: 167772272\n",
      "Shape of S : (1000000, 3538761) and number of elems : 5044062\n",
      "Size of matrix csr: 48\n",
      "Shape of S : (1000000, 3538761) and number of elems : 0\n",
      "Processed 58000000 videos.\n",
      "\n",
      "Size of matrix dok: 335544424\n",
      "Shape of S : (1000000, 3538761) and number of elems : 5601802\n",
      "Size of matrix csr: 48\n",
      "Shape of S : (1000000, 3538761) and number of elems : 0\n",
      "Processed 59000000 videos.\n",
      "\n",
      "Size of matrix dok: 335544424\n",
      "Shape of S : (1000000, 3538761) and number of elems : 5667124\n",
      "Size of matrix csr: 48\n",
      "Shape of S : (1000000, 3538761) and number of elems : 0\n",
      "Processed 60000000 videos.\n",
      "\n",
      "Size of matrix dok: 167772272\n",
      "Shape of S : (1000000, 3538761) and number of elems : 4606956\n",
      "Size of matrix csr: 48\n",
      "Shape of S : (1000000, 3538761) and number of elems : 0\n",
      "Processed 61000000 videos.\n",
      "\n",
      "Size of matrix dok: 167772272\n",
      "Shape of S : (1000000, 3538761) and number of elems : 5472208\n",
      "Size of matrix csr: 48\n",
      "Shape of S : (1000000, 3538761) and number of elems : 0\n",
      "Processed 62000000 videos.\n",
      "\n",
      "Size of matrix dok: 167772272\n",
      "Shape of S : (1000000, 3538761) and number of elems : 4830224\n",
      "Size of matrix csr: 48\n",
      "Shape of S : (1000000, 3538761) and number of elems : 0\n",
      "Processed 63000000 videos.\n",
      "\n",
      "Size of matrix dok: 335544424\n",
      "Shape of S : (1000000, 3538761) and number of elems : 6193085\n",
      "Size of matrix csr: 48\n",
      "Shape of S : (1000000, 3538761) and number of elems : 0\n",
      "Processed 64000000 videos.\n",
      "\n",
      "Size of matrix dok: 335544424\n",
      "Shape of S : (1000000, 3538761) and number of elems : 6116705\n",
      "Size of matrix csr: 48\n",
      "Shape of S : (1000000, 3538761) and number of elems : 0\n",
      "Processed 65000000 videos.\n",
      "\n",
      "Size of matrix dok: 167772272\n",
      "Shape of S : (1000000, 3538761) and number of elems : 5550587\n",
      "Size of matrix csr: 48\n",
      "Shape of S : (1000000, 3538761) and number of elems : 0\n",
      "Processed 66000000 videos.\n",
      "\n",
      "Size of matrix dok: 167772272\n",
      "Shape of S : (1000000, 3538761) and number of elems : 5009256\n",
      "Size of matrix csr: 48\n",
      "Shape of S : (1000000, 3538761) and number of elems : 0\n",
      "Processed 67000000 videos.\n",
      "\n",
      "Size of matrix dok: 167772272\n",
      "Shape of S : (1000000, 3538761) and number of elems : 4443397\n",
      "Size of matrix csr: 48\n",
      "Shape of S : (1000000, 3538761) and number of elems : 0\n",
      "Processed 68000000 videos.\n",
      "\n",
      "Size of matrix dok: 167772272\n",
      "Shape of S : (1000000, 3538761) and number of elems : 5249541\n",
      "Size of matrix csr: 48\n",
      "Shape of S : (1000000, 3538761) and number of elems : 0\n",
      "Processed 69000000 videos.\n",
      "\n",
      "Size of matrix dok: 167772272\n",
      "Shape of S : (1000000, 3538761) and number of elems : 5427306\n",
      "Size of matrix csr: 48\n",
      "Shape of S : (1000000, 3538761) and number of elems : 0\n",
      "Processed 70000000 videos.\n",
      "\n",
      "Size of matrix dok: 167772272\n",
      "Shape of S : (1000000, 3538761) and number of elems : 4750273\n",
      "Size of matrix csr: 48\n",
      "Shape of S : (1000000, 3538761) and number of elems : 0\n",
      "Processed 71000000 videos.\n",
      "\n",
      "Size of matrix dok: 167772272\n",
      "Shape of S : (1000000, 3538761) and number of elems : 5499200\n",
      "Size of matrix csr: 48\n",
      "Shape of S : (1000000, 3538761) and number of elems : 0\n",
      "Processed 72000000 videos.\n",
      "\n",
      "Size of matrix dok: 167772272\n",
      "Shape of S : (1000000, 3538761) and number of elems : 4965586\n",
      "Size of matrix csr: 48\n",
      "Shape of S : (1000000, 3538761) and number of elems : 0\n",
      "Processed 73000000 videos.\n",
      "\n",
      "Size of matrix dok: 335544424\n",
      "Shape of S : (1000000, 3538761) and number of elems : 5844781\n",
      "Size of matrix csr: 48\n",
      "Shape of S : (1000000, 3538761) and number of elems : 0\n",
      "Processed 74000000 videos.\n",
      "\n",
      "Size of matrix dok: 335544424\n",
      "Shape of S : (1000000, 3538761) and number of elems : 5691458\n",
      "Size of matrix csr: 48\n",
      "Shape of S : (1000000, 3538761) and number of elems : 0\n",
      "Processed 75000000 videos.\n",
      "\n",
      "Size of matrix dok: 167772272\n",
      "Shape of S : (1000000, 3538761) and number of elems : 4017443\n",
      "Size of matrix csr: 48\n",
      "Shape of S : (1000000, 3538761) and number of elems : 0\n",
      "Processed 76000000 videos.\n",
      "\n",
      "Size of matrix dok: 167772272\n",
      "Shape of S : (1000000, 3538761) and number of elems : 5171170\n",
      "Size of matrix csr: 48\n",
      "Shape of S : (1000000, 3538761) and number of elems : 0\n",
      "Processed 77000000 videos.\n",
      "\n",
      "Size of matrix dok: 335544424\n",
      "Shape of S : (1000000, 3538761) and number of elems : 6393120\n",
      "Size of matrix csr: 48\n",
      "Shape of S : (1000000, 3538761) and number of elems : 0\n",
      "Processed 78000000 videos.\n",
      "\n",
      "Size of matrix dok: 167772272\n",
      "Shape of S : (1000000, 3538761) and number of elems : 4739462\n",
      "Size of matrix csr: 48\n",
      "Shape of S : (1000000, 3538761) and number of elems : 0\n",
      "Processed 79000000 videos.\n",
      "\n",
      "Size of matrix dok: 335544424\n",
      "Shape of S : (1000000, 3538761) and number of elems : 6411989\n",
      "Size of matrix csr: 48\n",
      "Shape of S : (1000000, 3538761) and number of elems : 0\n",
      "Processed 80000000 videos.\n",
      "\n",
      "Size of matrix dok: 167772272\n",
      "Shape of S : (1000000, 3538761) and number of elems : 5330339\n",
      "Size of matrix csr: 48\n",
      "Shape of S : (1000000, 3538761) and number of elems : 0\n",
      "Processed 81000000 videos.\n",
      "\n",
      "Size of matrix dok: 335544424\n",
      "Shape of S : (1000000, 3538761) and number of elems : 6521663\n",
      "Size of matrix csr: 48\n",
      "Shape of S : (1000000, 3538761) and number of elems : 0\n",
      "Processed 82000000 videos.\n",
      "\n",
      "Size of matrix dok: 167772272\n",
      "Shape of S : (1000000, 3538761) and number of elems : 5330046\n",
      "Size of matrix csr: 48\n",
      "Shape of S : (1000000, 3538761) and number of elems : 0\n",
      "Processed 83000000 videos.\n",
      "\n"
     ]
    },
    {
     "name": "stdout",
     "output_type": "stream",
     "text": [
      "Size of matrix dok: 167772272\n",
      "Shape of S : (1000000, 3538761) and number of elems : 5549563\n",
      "Size of matrix csr: 48\n",
      "Shape of S : (1000000, 3538761) and number of elems : 0\n",
      "Processed 84000000 videos.\n",
      "\n",
      "Size of matrix dok: 167772272\n",
      "Shape of S : (1000000, 3538761) and number of elems : 5560493\n",
      "Size of matrix csr: 48\n",
      "Shape of S : (1000000, 3538761) and number of elems : 0\n",
      "Processed 85000000 videos.\n",
      "\n"
     ]
    }
   ],
   "source": [
    "idx = 0\n",
    "\n",
    "# Row index in the sparse matrix (one row for each video)\n",
    "i_vid = 0\n",
    "\n",
    "\n",
    "for line in reader.readlines():\n",
    "    ###start_iter = time.time()\n",
    "    idx += 1\n",
    "    \n",
    "    if idx % 1000000 == 0:\n",
    "        print('Size of matrix dok: ' + str(sys.getsizeof(S)))\n",
    "        print('Shape of S : ' + str(S.get_shape()) + ' and number of elems : ' + str(S.getnnz()))\n",
    "        S = S.tocsr()\n",
    "        print('Size of matrix csr: ' + str(sys.getsizeof(S)))\n",
    "        file_name = 'S' + str(int(idx / 1000000))\n",
    "        scipy.sparse.save_npz('/dlabdata1/youtube_large/olam/filtered10000/csr_matrices/' + file_name + '.npz', S)\n",
    "        S = dok_matrix((1000000, size_of_tokens_dict), dtype=np.uint8)\n",
    "        print('Shape of S : ' + str(S.get_shape()) + ' and number of elems : ' + str(S.getnnz()))\n",
    "        print('Processed ' + str(idx) + ' videos.')\n",
    "        print('')\n",
    "        \n",
    "    \n",
    "    if idx in idx_vid_to_consider:\n",
    "\n",
    "        # line is a str dict, video is the dict corresponding to the str dict\n",
    "        video = json.loads(line)\n",
    "\n",
    "        # For each video, create a underlying dictionnary for filling the sparse matrix efficiently\n",
    "        dict_freq_tokens_for_sparse_matrix = {}\n",
    "\n",
    "        # Get the tokens for each video and theirs number of occurences\n",
    "        ###start_freq = time.time()\n",
    "        freq_tokens_per_video = get_freq_tokens_per_video(video)\n",
    "        ###print('Time for getting tokens of video : ' + str(time.time() - start_freq))\n",
    "\n",
    "        # Fill the underlying dict\n",
    "        fill_underlying_dict(freq_tokens_per_video, dict_stemmed_tokens, dict_freq_tokens_for_sparse_matrix, i_vid)\n",
    "\n",
    "        # Update the Sparse Matrix\n",
    "        ###start_update = time.time()\n",
    "        dict.update(S, dict_freq_tokens_for_sparse_matrix)\n",
    "        ###print('Time for updating sparse_matrix : ' + str(time.time() - start_update))\n",
    "\n",
    "        # Increment Row index for next video\n",
    "        i_vid += 1\n",
    "        \n",
    "    ###print('Time for 1 iter : ' + str(time.time() - start_iter))\n",
    "    \n",
    "# Save last sparse matrix\n",
    "S = S.tocsr()\n",
    "scipy.sparse.save_npz('/dlabdata1/youtube_large/olam/filtered10000/csr_matrices/S_last.npz', S)"
   ]
  },
  {
   "cell_type": "code",
   "execution_count": 29,
   "metadata": {},
   "outputs": [],
   "source": [
    "S = scipy.sparse.load_npz('/dlabdata1/youtube_large/olam/filtered10000/csr_matrices/S1.npz')"
   ]
  },
  {
   "cell_type": "code",
   "execution_count": 30,
   "metadata": {},
   "outputs": [],
   "source": [
    "for i in range(2, 86):\n",
    "    S_next = scipy.sparse.load_npz('/dlabdata1/youtube_large/olam/filtered10000/csr_matrices/S' + str(i) + '.npz')\n",
    "    S = scipy.sparse.vstack([S, S_next])\n",
    "\n",
    "# Add last matrix\n",
    "S_last = scipy.sparse.load_npz('/dlabdata1/youtube_large/olam/filtered10000/csr_matrices/S_last.npz')\n",
    "S = scipy.sparse.vstack([S, S_last])"
   ]
  },
  {
   "cell_type": "code",
   "execution_count": 31,
   "metadata": {},
   "outputs": [
    {
     "data": {
      "text/plain": [
       "<86000000x3538761 sparse matrix of type '<class 'numpy.uint8'>'\n",
       "\twith 466357648 stored elements in Compressed Sparse Row format>"
      ]
     },
     "execution_count": 31,
     "metadata": {},
     "output_type": "execute_result"
    }
   ],
   "source": [
    "S"
   ]
  },
  {
   "cell_type": "markdown",
   "metadata": {},
   "source": [
    "## !!!!! Need to reselect only line of videos to consider!!"
   ]
  },
  {
   "cell_type": "code",
   "execution_count": 20,
   "metadata": {},
   "outputs": [],
   "source": [
    "# Load set of videos to consider\n",
    "with open('/dlabdata1/youtube_large/olam/filtered/list_stemmed_tokens.pickle', 'rb') as f:\n",
    "    list_stemmed_tokens_filtered = pickle.load(f)\n",
    "f.close()"
   ]
  },
  {
   "cell_type": "code",
   "execution_count": 33,
   "metadata": {},
   "outputs": [],
   "source": [
    "idx_vid_to_consider_from_0 = []\n",
    "for i in idx_vid_to_consider:\n",
    "    idx_vid_to_consider_from_0.append(i - 1)"
   ]
  },
  {
   "cell_type": "code",
   "execution_count": 34,
   "metadata": {},
   "outputs": [],
   "source": [
    "S_full = S[idx_vid_to_consider_from_0,:]"
   ]
  },
  {
   "cell_type": "code",
   "execution_count": 44,
   "metadata": {},
   "outputs": [
    {
     "data": {
      "text/plain": [
       "<86000000x5726884 sparse matrix of type '<class 'numpy.uint8'>'\n",
       "\twith 927647643 stored elements in Compressed Sparse Row format>"
      ]
     },
     "execution_count": 44,
     "metadata": {},
     "output_type": "execute_result"
    }
   ],
   "source": [
    "S"
   ]
  },
  {
   "cell_type": "code",
   "execution_count": 35,
   "metadata": {},
   "outputs": [],
   "source": [
    "scipy.sparse.save_npz('/dlabdata1/youtube_large/olam/filtered10000/csr_matrices/S_full.npz', S_full)"
   ]
  },
  {
   "cell_type": "code",
   "execution_count": 17,
   "metadata": {},
   "outputs": [],
   "source": [
    "S_full = scipy.sparse.load_npz('/dlabdata1/youtube_large/olam/filtered10000/csr_matrices/S_full.npz')"
   ]
  },
  {
   "cell_type": "code",
   "execution_count": 36,
   "metadata": {},
   "outputs": [],
   "source": [
    "S_full = S_full.tocsc()"
   ]
  },
  {
   "cell_type": "code",
   "execution_count": 37,
   "metadata": {},
   "outputs": [
    {
     "name": "stdout",
     "output_type": "stream",
     "text": [
      "Processed : 0 tokens\n",
      "Processed : 1000000 tokens\n",
      "Processed : 2000000 tokens\n",
      "Processed : 3000000 tokens\n"
     ]
    }
   ],
   "source": [
    "# Remove tokens that appear in less than 20 videos\n",
    "\n",
    "id_tokens_to_consider = []\n",
    "\n",
    "# Iterate on the columns\n",
    "for i in range(S_full.shape[1]):\n",
    "    \n",
    "    if i%1000000 == 0:\n",
    "        print('Processed : ' + str(i) + ' tokens')\n",
    "        \n",
    "    # Check column has more than 20 non zero entries\n",
    "    if S_full[:,i].count_nonzero() >= 100:\n",
    "        id_tokens_to_consider.append(i)"
   ]
  },
  {
   "cell_type": "code",
   "execution_count": 39,
   "metadata": {},
   "outputs": [
    {
     "data": {
      "text/plain": [
       "65907"
      ]
     },
     "execution_count": 39,
     "metadata": {},
     "output_type": "execute_result"
    }
   ],
   "source": [
    "len(id_tokens_to_consider)"
   ]
  },
  {
   "cell_type": "code",
   "execution_count": 40,
   "metadata": {},
   "outputs": [],
   "source": [
    "id2word = {}"
   ]
  },
  {
   "cell_type": "code",
   "execution_count": 41,
   "metadata": {},
   "outputs": [],
   "source": [
    "for i, id_token in enumerate(id_tokens_to_consider):\n",
    "    id2word[i] = list_stemmed_tokens[id_token]"
   ]
  },
  {
   "cell_type": "code",
   "execution_count": 42,
   "metadata": {},
   "outputs": [
    {
     "data": {
      "text/plain": [
       "65907"
      ]
     },
     "execution_count": 42,
     "metadata": {},
     "output_type": "execute_result"
    }
   ],
   "source": [
    "len(id2word)"
   ]
  },
  {
   "cell_type": "code",
   "execution_count": 43,
   "metadata": {},
   "outputs": [
    {
     "data": {
      "text/plain": [
       "['00am',\n",
       " '00pm',\n",
       " '00s',\n",
       " '00z',\n",
       " '026f',\n",
       " '02bf43aa1a6f',\n",
       " '06f',\n",
       " '07b',\n",
       " '07r6',\n",
       " '07scape',\n",
       " '08282016ntflxuscan',\n",
       " '09sharkboy',\n",
       " '0period',\n",
       " '0periodproductions',\n",
       " '1000cc',\n",
       " '1000d',\n",
       " '1000hp',\n",
       " '1000r',\n",
       " '1000rr',\n",
       " '1000th',\n",
       " '1000x',\n",
       " '100cc',\n",
       " '100k',\n",
       " '100km',\n",
       " '100kph',\n",
       " '100m',\n",
       " '100mm',\n",
       " '100mph',\n",
       " '100s',\n",
       " '100t',\n",
       " '100th',\n",
       " '100w',\n",
       " '100x',\n",
       " '1050ti',\n",
       " '105mm',\n",
       " '1080i',\n",
       " '1080p',\n",
       " '1080p60',\n",
       " '1080p60fps',\n",
       " '1080ti',\n",
       " '10am',\n",
       " '10d',\n",
       " '10hz',\n",
       " '10k',\n",
       " '10km',\n",
       " '10m',\n",
       " '10min',\n",
       " '10mm',\n",
       " '10pm',\n",
       " '10r',\n",
       " '10s',\n",
       " '10th',\n",
       " '10x',\n",
       " '10x10',\n",
       " '10x10x10',\n",
       " '110cc',\n",
       " '11k',\n",
       " '11pm',\n",
       " '11th',\n",
       " '11x11x11',\n",
       " '120fps',\n",
       " '120hz',\n",
       " '123s',\n",
       " '125cc',\n",
       " '128gb',\n",
       " '12am',\n",
       " '12c',\n",
       " '12ga',\n",
       " '12k',\n",
       " '12oclock',\n",
       " '12pm',\n",
       " '12s',\n",
       " '12th',\n",
       " '12v',\n",
       " '12volt',\n",
       " '12world',\n",
       " '12x12x12',\n",
       " '1320video',\n",
       " '135i',\n",
       " '135mm',\n",
       " '13b',\n",
       " '13th',\n",
       " '13x13x13',\n",
       " '1440p',\n",
       " '144hz',\n",
       " '14th',\n",
       " '1500hp',\n",
       " '150cc',\n",
       " '150k',\n",
       " '150th',\n",
       " '150w',\n",
       " '15k',\n",
       " '15m',\n",
       " '15mofe',\n",
       " '15moferadio',\n",
       " '15s',\n",
       " '15th',\n",
       " '15x',\n",
       " '1600x',\n",
       " '16bit',\n",
       " '16gb',\n",
       " '16mm',\n",
       " '16th',\n",
       " '16v',\n",
       " '16x',\n",
       " '1700x',\n",
       " '17th',\n",
       " '17tumba',\n",
       " '17x17x17',\n",
       " '1800s',\n",
       " '1800x',\n",
       " '180sx',\n",
       " '18c',\n",
       " '18k',\n",
       " '18s',\n",
       " '18th',\n",
       " '18v',\n",
       " '1900s',\n",
       " '1910s',\n",
       " '1920s',\n",
       " '1920x1080',\n",
       " '1930s',\n",
       " '1940s',\n",
       " '1950s',\n",
       " '1960s',\n",
       " '1970s',\n",
       " '1980s',\n",
       " '1990s',\n",
       " '19mm',\n",
       " '19th',\n",
       " '19thjune',\n",
       " '1a52c9roll6',\n",
       " '1ds',\n",
       " '1dx',\n",
       " '1gb',\n",
       " '1happybirthday',\n",
       " '1hour',\n",
       " '1hr',\n",
       " '1jz',\n",
       " '1le',\n",
       " '1mdb',\n",
       " '1million',\n",
       " '1o1gaming',\n",
       " '1on1',\n",
       " '1pm',\n",
       " '1puglife',\n",
       " '1rod1reelfishing',\n",
       " '1shot',\n",
       " '1spotmedia',\n",
       " '1st',\n",
       " '1stphorm',\n",
       " '1tb',\n",
       " '1thek',\n",
       " '1tripz1',\n",
       " '1tripz1poker',\n",
       " '1up',\n",
       " '1v1',\n",
       " '1v1s',\n",
       " '1v2',\n",
       " '1v3',\n",
       " '1v4',\n",
       " '1v5',\n",
       " '1v9',\n",
       " '1vs1',\n",
       " '1vs5',\n",
       " '1vx',\n",
       " '1wefm',\n",
       " '1x01',\n",
       " '1x02',\n",
       " '1x03',\n",
       " '1x04',\n",
       " '1x05',\n",
       " '1x06',\n",
       " '1x07',\n",
       " '1x08',\n",
       " '1x09',\n",
       " '1x1',\n",
       " '1x10',\n",
       " '1x11',\n",
       " '1x12',\n",
       " '1x13',\n",
       " '1xtra',\n",
       " '2000s',\n",
       " '2007scape',\n",
       " '200cc',\n",
       " '200iq',\n",
       " '200k',\n",
       " '200m',\n",
       " '200mm',\n",
       " '200mph',\n",
       " '200sx',\n",
       " '200tdi',\n",
       " '200th',\n",
       " '200w',\n",
       " '2010s',\n",
       " '2012videos',\n",
       " '2015videos',\n",
       " '2016only',\n",
       " '2017gossip',\n",
       " '2032r',\n",
       " '2080ti',\n",
       " '20b',\n",
       " '20d',\n",
       " '20k',\n",
       " '20m',\n",
       " '20s',\n",
       " '20th',\n",
       " '20v',\n",
       " '20x',\n",
       " '20xx',\n",
       " '2160p',\n",
       " '21savage',\n",
       " '21st',\n",
       " '2200g',\n",
       " '220v',\n",
       " '22lr',\n",
       " '22nd',\n",
       " '23and1',\n",
       " '23rd',\n",
       " '2400g',\n",
       " '240fps',\n",
       " '240sx',\n",
       " '240z',\n",
       " '247hh',\n",
       " '24bit',\n",
       " '24h',\n",
       " '24hd',\n",
       " '24hr',\n",
       " '24hrs',\n",
       " '24k',\n",
       " '24mm',\n",
       " '24s',\n",
       " '24th',\n",
       " '24v',\n",
       " '24x7',\n",
       " '2500hd',\n",
       " '250c',\n",
       " '250cc',\n",
       " '250f',\n",
       " '250k',\n",
       " '250r',\n",
       " '250x',\n",
       " '255sage',\n",
       " '256gb',\n",
       " '25k',\n",
       " '25m',\n",
       " '25mm',\n",
       " '25th',\n",
       " '26s',\n",
       " '26th',\n",
       " '2700x',\n",
       " '27th',\n",
       " '28mm',\n",
       " '28s',\n",
       " '28th',\n",
       " '290x',\n",
       " '29er',\n",
       " '29th',\n",
       " '2am',\n",
       " '2bc',\n",
       " '2bcproductions',\n",
       " '2bcproductions2bc',\n",
       " '2bg',\n",
       " '2carpros',\n",
       " '2cellos',\n",
       " '2chainz',\n",
       " '2deep',\n",
       " '2ds',\n",
       " '2face',\n",
       " '2gb',\n",
       " '2gg',\n",
       " '2ggaming',\n",
       " '2ggardena',\n",
       " '2ggc',\n",
       " '2gggaming',\n",
       " '2gglory',\n",
       " '2ggt',\n",
       " '2hype',\n",
       " '2jz',\n",
       " '2jzgte',\n",
       " '2k11',\n",
       " '2k12',\n",
       " '2k13',\n",
       " '2k14',\n",
       " '2k15',\n",
       " '2k16',\n",
       " '2k16cashnastygaming',\n",
       " '2k17',\n",
       " '2k18',\n",
       " '2k19',\n",
       " '2k20',\n",
       " '2k5',\n",
       " '2k8',\n",
       " '2kelo',\n",
       " '2kgames',\n",
       " '2ktv',\n",
       " '2mg',\n",
       " '2minjinkjongkey',\n",
       " '2mokrasi',\n",
       " '2nacheki',\n",
       " '2nd',\n",
       " '2ne1',\n",
       " '2pac',\n",
       " '2pm',\n",
       " '2point0',\n",
       " '2pplay',\n",
       " '2red',\n",
       " '2rgames',\n",
       " '2step',\n",
       " '2stroke',\n",
       " '2theredline',\n",
       " '2theredlinellc',\n",
       " '2v1',\n",
       " '2v2',\n",
       " '2vs2',\n",
       " '2wd',\n",
       " '2wild4tv',\n",
       " '2x01',\n",
       " '2x02',\n",
       " '2x03',\n",
       " '2x04',\n",
       " '2x05',\n",
       " '2x06',\n",
       " '2x08',\n",
       " '2x09',\n",
       " '2x10',\n",
       " '2x11',\n",
       " '2x12',\n",
       " '2x13',\n",
       " '2x14',\n",
       " '2x16',\n",
       " '2x2',\n",
       " '2x2x2',\n",
       " '2x4',\n",
       " '300c',\n",
       " '300cc',\n",
       " '300d',\n",
       " '300er',\n",
       " '300k',\n",
       " '300m',\n",
       " '300tdi',\n",
       " '300zx',\n",
       " '3011craft',\n",
       " '30fps',\n",
       " '30hz',\n",
       " '30k',\n",
       " '30mm',\n",
       " '30pm',\n",
       " '30s',\n",
       " '30sec',\n",
       " '30th',\n",
       " '318318318u',\n",
       " '318super',\n",
       " '31st',\n",
       " '320d',\n",
       " '320d2',\n",
       " '320i',\n",
       " '320kbs',\n",
       " '323i',\n",
       " '325i',\n",
       " '328i',\n",
       " '32gb',\n",
       " '32s',\n",
       " '32x',\n",
       " '330i',\n",
       " '335i',\n",
       " '343i',\n",
       " '3500hd',\n",
       " '350d',\n",
       " '350z',\n",
       " '357mag',\n",
       " '35a',\n",
       " '35b',\n",
       " '35k',\n",
       " '35mm',\n",
       " '35o',\n",
       " '35th',\n",
       " '360cinema',\n",
       " '360hometours',\n",
       " '360jeezy',\n",
       " '360vr',\n",
       " '360waves',\n",
       " '3700x',\n",
       " '370z',\n",
       " '373853f1',\n",
       " '3840x2160',\n",
       " '385ideal',\n",
       " '3900x',\n",
       " '3am',\n",
       " '3ce',\n",
       " '3dio',\n",
       " '3dmachines',\n",
       " '3dmark',\n",
       " '3do',\n",
       " '3dprinting',\n",
       " '3dr',\n",
       " '3ds',\n",
       " '3dsmax',\n",
       " '3dx',\n",
       " '3gb',\n",
       " '3gs',\n",
       " '3hmong',\n",
       " '3hmongtv',\n",
       " '3ho',\n",
       " '3hulkbuster',\n",
       " '3in1',\n",
       " '3kliksphilip',\n",
       " '3lau',\n",
       " '3mv33',\n",
       " '3on3',\n",
       " '3pm',\n",
       " '3po',\n",
       " '3pt',\n",
       " '3rd',\n",
       " '3red',\n",
       " '3v3',\n",
       " '3veni',\n",
       " '3x01',\n",
       " '3x10',\n",
       " '3x3',\n",
       " '3x3x3',\n",
       " '3xl',\n",
       " '4000mah',\n",
       " '400cc',\n",
       " '400d',\n",
       " '400hp',\n",
       " '400k',\n",
       " '400m',\n",
       " '401k',\n",
       " '402thunder402',\n",
       " '40d',\n",
       " '40k',\n",
       " '40mm',\n",
       " '40mph',\n",
       " '40s',\n",
       " '40th',\n",
       " '41st',\n",
       " '4320p',\n",
       " '432hz',\n",
       " '435i',\n",
       " '442oons',\n",
       " '449e',\n",
       " '450d',\n",
       " '45acp',\n",
       " '45mm',\n",
       " '45rpm',\n",
       " '45th',\n",
       " '46ba',\n",
       " '4770k',\n",
       " '4790k',\n",
       " '480p',\n",
       " '48mp',\n",
       " '49ers',\n",
       " '4am',\n",
       " '4b1f',\n",
       " '4bangersproduction',\n",
       " '4ca3a8c8',\n",
       " '4ch',\n",
       " '4chan',\n",
       " '4dd4',\n",
       " '4diyers',\n",
       " '4ever',\n",
       " '4g63',\n",
       " '4gb',\n",
       " '4ghz',\n",
       " '4head',\n",
       " '4jstudios',\n",
       " '4life',\n",
       " '4matic',\n",
       " '4minute',\n",
       " '4motion',\n",
       " '4od',\n",
       " '4player',\n",
       " '4playernetwork',\n",
       " '4playerpodcast',\n",
       " '4pm',\n",
       " '4pn',\n",
       " '4pp',\n",
       " '4runner',\n",
       " '4sho',\n",
       " '4shomag',\n",
       " '4shomagazine',\n",
       " '4th',\n",
       " '4theloveofjoose',\n",
       " '4v4',\n",
       " '4wd',\n",
       " '4x01',\n",
       " '4x10',\n",
       " '4x12',\n",
       " '4x2',\n",
       " '4x4',\n",
       " '4x4x4',\n",
       " '5000mah',\n",
       " '500cc',\n",
       " '500d',\n",
       " '500hp',\n",
       " '500k',\n",
       " '500x',\n",
       " '501st',\n",
       " '50cc',\n",
       " '50cent',\n",
       " '50d',\n",
       " '50k',\n",
       " '50keda',\n",
       " '50m',\n",
       " '50mm',\n",
       " '50mph',\n",
       " '50p',\n",
       " '50s',\n",
       " '50th',\n",
       " '50v50',\n",
       " '525i',\n",
       " '528hz',\n",
       " '528i',\n",
       " '52kards',\n",
       " '530i',\n",
       " '535i',\n",
       " '540i',\n",
       " '550d',\n",
       " '55mm',\n",
       " '56mm',\n",
       " '570s',\n",
       " '5859dfec',\n",
       " '5am',\n",
       " '5ds',\n",
       " '5f9eda5c0bf6',\n",
       " '5ghz',\n",
       " '5ive',\n",
       " '5live',\n",
       " '5mm',\n",
       " '5percent',\n",
       " '5pm',\n",
       " '5secondfilms',\n",
       " '5sf',\n",
       " '5sos',\n",
       " '5th',\n",
       " '5v5',\n",
       " '5x01',\n",
       " '5x10',\n",
       " '5x13',\n",
       " '5x15',\n",
       " '5x5',\n",
       " '5x5x5',\n",
       " '5xl',\n",
       " '600breezy',\n",
       " '600cc',\n",
       " '600d',\n",
       " '600hp',\n",
       " '600k',\n",
       " '600rr',\n",
       " '60d',\n",
       " '60fps',\n",
       " '60hz',\n",
       " '60k',\n",
       " '60mph',\n",
       " '60p',\n",
       " '60s',\n",
       " '60th',\n",
       " '60w',\n",
       " '62x39',\n",
       " '62x39mm',\n",
       " '62x54r',\n",
       " '63rd',\n",
       " '64bit',\n",
       " '64gb',\n",
       " '650b',\n",
       " '650cc',\n",
       " '650i',\n",
       " '650ib',\n",
       " '650s',\n",
       " '6600k',\n",
       " '6700k',\n",
       " '670cc',\n",
       " '675lt',\n",
       " '675r',\n",
       " '6am',\n",
       " '6foot4honda',\n",
       " '6gb',\n",
       " '6ix',\n",
       " '6ix9ine',\n",
       " '6lack',\n",
       " '6mm',\n",
       " '6news',\n",
       " '6pack',\n",
       " '6plus',\n",
       " '6pm',\n",
       " '6th',\n",
       " '6v6',\n",
       " '6wd',\n",
       " '6x01',\n",
       " '6x10',\n",
       " '6x4',\n",
       " '6x6',\n",
       " '6x6x6',\n",
       " '700club',\n",
       " '700clubclips',\n",
       " '700clubyoutube',\n",
       " '700d',\n",
       " '700hp',\n",
       " '70d',\n",
       " '70k',\n",
       " '70mm',\n",
       " '70s',\n",
       " '70th',\n",
       " '720p',\n",
       " '720s',\n",
       " '72147f4f2dd4',\n",
       " '72hrs',\n",
       " '72nd',\n",
       " '740i',\n",
       " '74u',\n",
       " '750i',\n",
       " '750ti',\n",
       " '75th',\n",
       " '75w',\n",
       " '7600k',\n",
       " '76ers',\n",
       " '7700k',\n",
       " '777x',\n",
       " '78rpm',\n",
       " '7active',\n",
       " '7activestudio',\n",
       " '7d2d',\n",
       " '7days',\n",
       " '7days2die',\n",
       " '7daysto',\n",
       " '7dtd',\n",
       " '7dys',\n",
       " '7india',\n",
       " '7nm',\n",
       " '7pm',\n",
       " '7seven',\n",
       " '7th',\n",
       " '7x01',\n",
       " '7x4',\n",
       " '7x7',\n",
       " '7x7x7',\n",
       " '800hp',\n",
       " '800m',\n",
       " '808mafia',\n",
       " '808s',\n",
       " '80d',\n",
       " '80k',\n",
       " '80s',\n",
       " '80th',\n",
       " '82nd',\n",
       " '83d',\n",
       " '844steamtrain',\n",
       " '85mm',\n",
       " '8700k',\n",
       " '8750h',\n",
       " '88rising',\n",
       " '8b8a',\n",
       " '8ball',\n",
       " '8bit',\n",
       " '8bitdrummer',\n",
       " '8bp',\n",
       " '8daudio',\n",
       " '8dmusic',\n",
       " '8e5a',\n",
       " '8gb',\n",
       " '8ghz',\n",
       " '8ma',\n",
       " '8mile',\n",
       " '8mm',\n",
       " '8pm',\n",
       " '8stars',\n",
       " '8th',\n",
       " '8x4',\n",
       " '8x8',\n",
       " '8x8x8',\n",
       " '900hp',\n",
       " '900p',\n",
       " '900r',\n",
       " '90min',\n",
       " '90s',\n",
       " '90th',\n",
       " '91mobiles',\n",
       " '92nd',\n",
       " '92news',\n",
       " '92newshd',\n",
       " '92y',\n",
       " '947hd',\n",
       " '980ti',\n",
       " '9900k',\n",
       " '99tv',\n",
       " '9c04',\n",
       " '9de6',\n",
       " '9e0cda2c09f4',\n",
       " '9gag',\n",
       " '9ine',\n",
       " '9ja',\n",
       " '9kmmr',\n",
       " '9mm',\n",
       " '9news',\n",
       " '9now',\n",
       " '9pm',\n",
       " '9th',\n",
       " '9to5mac',\n",
       " '9v9',\n",
       " '9x19mm',\n",
       " '9x9x9',\n",
       " '9xl',\n",
       " '9xm',\n",
       " 'a10',\n",
       " 'a12',\n",
       " 'a15',\n",
       " 'a16',\n",
       " 'a17',\n",
       " 'a19042f61e3c',\n",
       " 'a20',\n",
       " 'a24',\n",
       " 'a250',\n",
       " 'a2z',\n",
       " 'a30',\n",
       " 'a300',\n",
       " 'a319',\n",
       " 'a320',\n",
       " 'a320neo',\n",
       " 'a321',\n",
       " 'a330',\n",
       " 'a330neo',\n",
       " 'a340',\n",
       " 'a350',\n",
       " 'a380',\n",
       " 'a40',\n",
       " 'a45',\n",
       " 'a50',\n",
       " 'a6000',\n",
       " 'a6300',\n",
       " 'a64',\n",
       " 'a6400',\n",
       " 'a6500',\n",
       " 'a70',\n",
       " 'a7iii',\n",
       " 'a7r',\n",
       " 'a7rii',\n",
       " 'a7riii',\n",
       " 'a7s',\n",
       " 'a7sii',\n",
       " 'a7x',\n",
       " 'a80',\n",
       " 'a_seagull',\n",
       " 'aa12',\n",
       " 'aa9skillz',\n",
       " 'aaa',\n",
       " 'aac',\n",
       " 'aadan',\n",
       " 'aadat',\n",
       " 'aadhaar',\n",
       " 'aadhar',\n",
       " 'aadhi',\n",
       " 'aadhunik',\n",
       " 'aadhya',\n",
       " 'aadi',\n",
       " 'aadmi',\n",
       " 'aaf',\n",
       " 'aag',\n",
       " 'aagadu',\n",
       " 'aage',\n",
       " 'aagman',\n",
       " 'aaha',\n",
       " 'aahat',\n",
       " 'aai',\n",
       " 'aaina',\n",
       " 'aairani',\n",
       " 'aaj',\n",
       " 'aaja',\n",
       " 'aajako',\n",
       " 'aajkal',\n",
       " 'aajtak',\n",
       " 'aakanksha',\n",
       " 'aakash',\n",
       " 'aakashvani',\n",
       " 'aakhri',\n",
       " 'aakriti',\n",
       " 'aala',\n",
       " 'aalam',\n",
       " 'aalami',\n",
       " 'aali',\n",
       " 'aalim',\n",
       " 'aalisha',\n",
       " 'aaliya',\n",
       " 'aaliyah',\n",
       " 'aaliyahjay',\n",
       " 'aalu',\n",
       " 'aam',\n",
       " 'aama',\n",
       " 'aamir',\n",
       " 'aan',\n",
       " 'aana',\n",
       " 'aanam',\n",
       " 'aanand',\n",
       " 'aanchal',\n",
       " 'aandaal',\n",
       " 'aande',\n",
       " 'aane',\n",
       " 'aang',\n",
       " 'aankh',\n",
       " 'aankhein',\n",
       " 'aankhen',\n",
       " 'aankhon',\n",
       " 'aao',\n",
       " 'aap',\n",
       " 'aapbeeti',\n",
       " 'aapke',\n",
       " 'aapki',\n",
       " 'aapv',\n",
       " 'aar',\n",
       " 'aaradhya',\n",
       " 'aarav',\n",
       " 'aardman',\n",
       " 'aardvark',\n",
       " 'aari',\n",
       " 'aarif',\n",
       " 'aaron',\n",
       " 'aarons',\n",
       " 'aaronsanimals',\n",
       " 'aarp',\n",
       " 'aarthi',\n",
       " 'aarti',\n",
       " 'aartiya',\n",
       " 'aartiyan',\n",
       " 'aarya',\n",
       " 'aaryan',\n",
       " 'aas',\n",
       " 'aasan',\n",
       " 'aashiq',\n",
       " 'aashiqui',\n",
       " 'aashish',\n",
       " 'aashka',\n",
       " 'aasman',\n",
       " 'aastha',\n",
       " 'aat',\n",
       " 'aata',\n",
       " 'aate',\n",
       " 'aath',\n",
       " 'aati',\n",
       " 'aatish',\n",
       " 'aatma',\n",
       " 'aatrox',\n",
       " 'aau',\n",
       " 'aautap',\n",
       " 'aavak',\n",
       " 'aave',\n",
       " 'aavfx',\n",
       " 'aax',\n",
       " 'aaya',\n",
       " 'aaye',\n",
       " 'aayega',\n",
       " 'aayi',\n",
       " 'aayiram',\n",
       " 'aayo',\n",
       " 'aayush',\n",
       " 'aba',\n",
       " 'ababa',\n",
       " 'abad',\n",
       " 'abadango',\n",
       " 'abaddon',\n",
       " 'abadin',\n",
       " 'abandon',\n",
       " 'abandoned',\n",
       " 'abandonment',\n",
       " 'abarker',\n",
       " 'abarth',\n",
       " 'abasi',\n",
       " 'abasstreppas',\n",
       " 'abb',\n",
       " 'abba',\n",
       " 'abbas',\n",
       " 'abbasi',\n",
       " 'abbey',\n",
       " 'abbi',\n",
       " 'abbie',\n",
       " 'abbott',\n",
       " 'abbtakk',\n",
       " 'abbtakktv',\n",
       " 'abby',\n",
       " 'abc',\n",
       " 'abc13',\n",
       " 'abc3',\n",
       " 'abc7ny',\n",
       " 'abcd',\n",
       " 'abcf',\n",
       " 'abckidtv',\n",
       " 'abcnews',\n",
       " 'abcs',\n",
       " 'abctv',\n",
       " 'abd',\n",
       " 'abdallah',\n",
       " 'abdallahnation',\n",
       " 'abdallahsmash026',\n",
       " 'abdc',\n",
       " 'abdel',\n",
       " 'abdi',\n",
       " 'abdirahman',\n",
       " 'abdo',\n",
       " 'abdomen',\n",
       " 'abdominal',\n",
       " 'abdominals',\n",
       " 'abducted',\n",
       " 'abduction',\n",
       " 'abductions',\n",
       " 'abdul',\n",
       " 'abdulaziz',\n",
       " 'abdullah',\n",
       " 'abdur',\n",
       " 'abe',\n",
       " 'abed',\n",
       " 'abedin',\n",
       " 'abeer',\n",
       " 'abel',\n",
       " 'abelton',\n",
       " 'abenteuer',\n",
       " 'abercrombie',\n",
       " 'aberdeen',\n",
       " 'aberration',\n",
       " 'abh',\n",
       " 'abha',\n",
       " 'abhay',\n",
       " 'abhi',\n",
       " 'abhijeet',\n",
       " 'abhijit',\n",
       " 'abhik',\n",
       " 'abhimanyu',\n",
       " 'abhinandan',\n",
       " 'abhinav',\n",
       " 'abhinaya',\n",
       " 'abhirami',\n",
       " 'abhishek',\n",
       " 'abhiyan',\n",
       " 'abi',\n",
       " 'abid',\n",
       " 'abida',\n",
       " 'abigail',\n",
       " 'abiliti',\n",
       " 'abilities',\n",
       " 'ability',\n",
       " 'abiloty',\n",
       " 'abingdon',\n",
       " 'abiolity',\n",
       " 'abir',\n",
       " 'abirami',\n",
       " 'abis',\n",
       " 'abish',\n",
       " 'abitha',\n",
       " 'abiy',\n",
       " 'abiz',\n",
       " 'abk',\n",
       " 'abkar',\n",
       " 'ablaze',\n",
       " 'able',\n",
       " 'ableton',\n",
       " 'ablogtowatch',\n",
       " 'abloh',\n",
       " 'abloy',\n",
       " 'abm',\n",
       " 'abn',\n",
       " 'abner',\n",
       " 'abnormal',\n",
       " 'abo',\n",
       " 'aboard',\n",
       " 'abominable',\n",
       " 'abomination',\n",
       " 'aboriginal',\n",
       " 'abortion',\n",
       " 'abou',\n",
       " 'abp',\n",
       " 'abra',\n",
       " 'abraham',\n",
       " 'abram',\n",
       " 'abrams',\n",
       " 'abrar',\n",
       " 'abrenica',\n",
       " 'abreu',\n",
       " 'abridged',\n",
       " 'abriendo',\n",
       " 'abril',\n",
       " 'abroad',\n",
       " 'abs',\n",
       " 'absa',\n",
       " 'abscbn',\n",
       " 'abscess',\n",
       " 'absence',\n",
       " 'absent',\n",
       " 'absinthe',\n",
       " 'absntdtv',\n",
       " 'absolute',\n",
       " 'absolutely',\n",
       " 'absolution',\n",
       " 'absorb',\n",
       " 'absorbed',\n",
       " 'absorber',\n",
       " 'absorption',\n",
       " 'abstergo',\n",
       " 'abstinence',\n",
       " 'abstract',\n",
       " 'absurd',\n",
       " 'abt',\n",
       " 'abtl',\n",
       " ...]"
      ]
     },
     "execution_count": 43,
     "metadata": {},
     "output_type": "execute_result"
    }
   ],
   "source": [
    "sorted(list(id2word.values()))"
   ]
  },
  {
   "cell_type": "code",
   "execution_count": 44,
   "metadata": {},
   "outputs": [
    {
     "data": {
      "text/plain": [
       "<21714294x65907 sparse matrix of type '<class 'numpy.uint8'>'\n",
       "\twith 109510371 stored elements in Compressed Sparse Column format>"
      ]
     },
     "execution_count": 44,
     "metadata": {},
     "output_type": "execute_result"
    }
   ],
   "source": [
    "S_final = S_full[:,id_tokens_to_consider]\n",
    "S_final"
   ]
  },
  {
   "cell_type": "code",
   "execution_count": 45,
   "metadata": {},
   "outputs": [],
   "source": [
    "S_final = S_final.tocsr()"
   ]
  },
  {
   "cell_type": "code",
   "execution_count": 46,
   "metadata": {},
   "outputs": [],
   "source": [
    "scipy.sparse.save_npz('/dlabdata1/youtube_large/olam/filtered10000/csr_matrices/S_final_tok100vid.npz', S_final)"
   ]
  },
  {
   "cell_type": "code",
   "execution_count": 47,
   "metadata": {},
   "outputs": [],
   "source": [
    "with open('/dlabdata1/youtube_large/olam/filtered10000/id2word_tok100vid.pickle', 'wb') as f:\n",
    "    pickle.dump(id2word, f)\n",
    "f.close()"
   ]
  },
  {
   "cell_type": "markdown",
   "metadata": {},
   "source": [
    "## Get the dict of vid_id to channel_id"
   ]
  },
  {
   "cell_type": "code",
   "execution_count": 23,
   "metadata": {},
   "outputs": [],
   "source": [
    "# Load set of videos to consider\n",
    "with open('/home/olam/idx_vid_to_consider.pickle', 'rb') as f:\n",
    "    idx_vid_to_consider = pickle.load(f)\n",
    "f.close()"
   ]
  },
  {
   "cell_type": "code",
   "execution_count": 4,
   "metadata": {},
   "outputs": [],
   "source": [
    "# Load set of videos to consider\n",
    "with open('/dlabdata1/youtube_large/olam/filtered/idx_vid_to_consider.pickle', 'rb') as f:\n",
    "    idx_vid_to_consider_filtered = pickle.load(f)\n",
    "f.close()"
   ]
  },
  {
   "cell_type": "code",
   "execution_count": 7,
   "metadata": {},
   "outputs": [
    {
     "data": {
      "text/plain": [
       "45421300"
      ]
     },
     "execution_count": 7,
     "metadata": {},
     "output_type": "execute_result"
    }
   ],
   "source": [
    "len(idx_vid_to_consider_filtered)"
   ]
  },
  {
   "cell_type": "code",
   "execution_count": 64,
   "metadata": {},
   "outputs": [],
   "source": [
    "vid2chan_id = {}"
   ]
  },
  {
   "cell_type": "code",
   "execution_count": 5,
   "metadata": {},
   "outputs": [],
   "source": [
    "vid2chan_id_filtered = {}"
   ]
  },
  {
   "cell_type": "code",
   "execution_count": 8,
   "metadata": {},
   "outputs": [],
   "source": [
    "reader = Zreader(\"/dlabdata1/youtube_large/yt_metadata_all.jsonl.zst\", chunk_size=2**28)"
   ]
  },
  {
   "cell_type": "code",
   "execution_count": 9,
   "metadata": {
    "scrolled": true
   },
   "outputs": [
    {
     "name": "stdout",
     "output_type": "stream",
     "text": [
      "Processed : 1000000 videos\n",
      "Processed : 2000000 videos\n",
      "Processed : 3000000 videos\n",
      "Processed : 4000000 videos\n",
      "Processed : 5000000 videos\n",
      "Processed : 6000000 videos\n",
      "Processed : 7000000 videos\n",
      "Processed : 8000000 videos\n",
      "Processed : 9000000 videos\n",
      "Processed : 10000000 videos\n",
      "Processed : 11000000 videos\n",
      "Processed : 12000000 videos\n",
      "Processed : 13000000 videos\n",
      "Processed : 14000000 videos\n",
      "Processed : 15000000 videos\n",
      "Processed : 16000000 videos\n",
      "Processed : 17000000 videos\n",
      "Processed : 18000000 videos\n",
      "Processed : 19000000 videos\n",
      "Processed : 20000000 videos\n",
      "Processed : 21000000 videos\n",
      "Processed : 22000000 videos\n",
      "Processed : 23000000 videos\n",
      "Processed : 24000000 videos\n",
      "Processed : 25000000 videos\n",
      "Processed : 26000000 videos\n",
      "Processed : 27000000 videos\n",
      "Processed : 28000000 videos\n",
      "Processed : 29000000 videos\n",
      "Processed : 30000000 videos\n",
      "Processed : 31000000 videos\n",
      "Processed : 32000000 videos\n",
      "Processed : 33000000 videos\n",
      "Processed : 34000000 videos\n",
      "Processed : 35000000 videos\n",
      "Processed : 36000000 videos\n",
      "Processed : 37000000 videos\n",
      "Processed : 38000000 videos\n",
      "Processed : 39000000 videos\n",
      "Processed : 40000000 videos\n",
      "Processed : 41000000 videos\n",
      "Processed : 42000000 videos\n",
      "Processed : 43000000 videos\n",
      "Processed : 44000000 videos\n",
      "Processed : 45000000 videos\n",
      "Processed : 46000000 videos\n",
      "Processed : 47000000 videos\n",
      "Processed : 48000000 videos\n",
      "Processed : 49000000 videos\n",
      "Processed : 50000000 videos\n",
      "Processed : 51000000 videos\n",
      "Processed : 52000000 videos\n",
      "Processed : 53000000 videos\n",
      "Processed : 54000000 videos\n",
      "Processed : 55000000 videos\n",
      "Processed : 56000000 videos\n",
      "Processed : 57000000 videos\n",
      "Processed : 58000000 videos\n",
      "Processed : 59000000 videos\n",
      "Processed : 60000000 videos\n",
      "Processed : 61000000 videos\n",
      "Processed : 62000000 videos\n",
      "Processed : 63000000 videos\n",
      "Processed : 64000000 videos\n",
      "Processed : 65000000 videos\n",
      "Processed : 66000000 videos\n",
      "Processed : 67000000 videos\n",
      "Processed : 68000000 videos\n",
      "Processed : 69000000 videos\n",
      "Processed : 70000000 videos\n",
      "Processed : 71000000 videos\n",
      "Processed : 72000000 videos\n",
      "Processed : 73000000 videos\n",
      "Processed : 74000000 videos\n",
      "Processed : 75000000 videos\n",
      "Processed : 76000000 videos\n",
      "Processed : 77000000 videos\n",
      "Processed : 78000000 videos\n",
      "Processed : 79000000 videos\n",
      "Processed : 80000000 videos\n",
      "Processed : 81000000 videos\n",
      "Processed : 82000000 videos\n",
      "Processed : 83000000 videos\n",
      "Processed : 84000000 videos\n",
      "Processed : 85000000 videos\n"
     ]
    }
   ],
   "source": [
    "idx = 0\n",
    "for line in reader.readlines():\n",
    "    \n",
    "    idx += 1\n",
    "    if idx%1000000 == 0:\n",
    "        print('Processed : ' + str(idx) + ' videos')\n",
    "    \n",
    "    if idx in idx_vid_to_consider_filtered:\n",
    "        \n",
    "        # line is a str dict, video is the dict corresponding to the str dict\n",
    "        video = json.loads(line)\n",
    "        \n",
    "        vid2chan_id_filtered[idx] = video['channel_id']"
   ]
  },
  {
   "cell_type": "code",
   "execution_count": 67,
   "metadata": {},
   "outputs": [
    {
     "data": {
      "text/plain": [
       "68642144"
      ]
     },
     "execution_count": 67,
     "metadata": {},
     "output_type": "execute_result"
    }
   ],
   "source": [
    "len(vid2chan_id)"
   ]
  },
  {
   "cell_type": "code",
   "execution_count": 74,
   "metadata": {},
   "outputs": [],
   "source": [
    "with open('/home/olam/vid2chan_id.pickle', 'wb') as f:\n",
    "    pickle.dump(vid2chan_id, f)\n",
    "f.close()"
   ]
  },
  {
   "cell_type": "code",
   "execution_count": 68,
   "metadata": {},
   "outputs": [],
   "source": [
    "channels_id = set(vid2chan_id.values())"
   ]
  },
  {
   "cell_type": "code",
   "execution_count": 10,
   "metadata": {},
   "outputs": [],
   "source": [
    "channels_id_filtered = set(vid2chan_id_filtered.values())"
   ]
  },
  {
   "cell_type": "code",
   "execution_count": 12,
   "metadata": {},
   "outputs": [
    {
     "data": {
      "text/plain": [
       "155930"
      ]
     },
     "execution_count": 12,
     "metadata": {},
     "output_type": "execute_result"
    }
   ],
   "source": [
    "len(channels_id_filtered)"
   ]
  },
  {
   "cell_type": "code",
   "execution_count": 15,
   "metadata": {},
   "outputs": [],
   "source": [
    "with open('/dlabdata1/youtube_large/olam/channels_id_filtered.pickle', 'wb') as f:\n",
    "    pickle.dump(channels_id_filtered, f)\n",
    "f.close()"
   ]
  },
  {
   "cell_type": "code",
   "execution_count": 13,
   "metadata": {},
   "outputs": [],
   "source": [
    "# Load set of videos to consider\n",
    "with open('/dlabdata1/youtube_large/olam/chan', 'rb') as f:\n",
    "    idx_vid_to_consider_test = pickle.load(f)\n",
    "f.close()"
   ]
  },
  {
   "cell_type": "code",
   "execution_count": 14,
   "metadata": {},
   "outputs": [
    {
     "data": {
      "text/plain": [
       "156982"
      ]
     },
     "execution_count": 14,
     "metadata": {},
     "output_type": "execute_result"
    }
   ],
   "source": [
    "len(idx_vid_to_consider_test)"
   ]
  },
  {
   "cell_type": "code",
   "execution_count": null,
   "metadata": {},
   "outputs": [],
   "source": []
  }
 ],
 "metadata": {
  "kernelspec": {
   "display_name": "Python 3",
   "language": "python",
   "name": "python3"
  },
  "language_info": {
   "codemirror_mode": {
    "name": "ipython",
    "version": 3
   },
   "file_extension": ".py",
   "mimetype": "text/x-python",
   "name": "python",
   "nbconvert_exporter": "python",
   "pygments_lexer": "ipython3",
   "version": "3.8.3"
  }
 },
 "nbformat": 4,
 "nbformat_minor": 4
}
